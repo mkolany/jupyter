{
 "cells": [
  {
   "cell_type": "code",
   "execution_count": 1,
   "id": "da5789a5-1f9d-42d7-a26c-071ace0c3481",
   "metadata": {},
   "outputs": [
    {
     "data": {
      "text/html": [
       "<pre style=\"white-space:pre;overflow-x:auto;line-height:normal;font-family:Menlo,'DejaVu Sans Mono',consolas,'Courier New',monospace\">Manim Community <span style=\"color: #008000; text-decoration-color: #008000\">v0.14.0</span>\n",
       "\n",
       "</pre>\n"
      ],
      "text/plain": [
       "Manim Community \u001b[32mv0.\u001b[0m\u001b[32m14.0\u001b[0m\n",
       "\n"
      ]
     },
     "metadata": {},
     "output_type": "display_data"
    },
    {
     "data": {
      "application/vnd.jupyter.widget-view+json": {
       "model_id": "58d9d98031ae40939b9ffba6e6367119",
       "version_major": 2,
       "version_minor": 0
      },
      "text/plain": [
       "HBox(children=(Output(layout=Layout(height='400px', overflow='scroll')), Output(layout=Layout(height='400px', …"
      ]
     },
     "metadata": {},
     "output_type": "display_data"
    }
   ],
   "source": [
    "from manim import *\n",
    "from manim.utils.color import Colors\n",
    "import numpy as np\n",
    "from ipywidgets import Dropdown, HBox, interactive, HTML,Output\n",
    "\n",
    "config.media_width = \"60%\"\n",
    "config.quality = 'low_quality'\n",
    "\n",
    "WIDTH = config.frame_width\n",
    "HEIGHT = config.frame_height\n",
    "\n",
    "PINK = \"#EE82EE\"\n",
    "VIOLET = \"#4B0082\"\n",
    "mypalette = [\"#FF008E\", \"#D22779\", \"#612897\", \"#FF008E\", \"#0C1E7F\"]\n",
    "\n",
    "ROOT_COLORS_BRIGHT = [RED, GREEN, BLUE, YELLOW, MAROON_B]\n",
    "ROOT_COLORS_DEEP = [\"#440154\", \"#3b528b\", \"#21908c\", \"#5dc963\", \"#29abca\"]\n",
    "CUBIC_COLORS = [RED_E, TEAL_E, BLUE_E]\n",
    "\n",
    "MANDELBROT_COLORS = [\n",
    "    \"#00065c\",\n",
    "    \"#061e7e\",\n",
    "    \"#0c37a0\",\n",
    "    \"#205abc\",\n",
    "    \"#4287d3\",\n",
    "    \"#D9EDE4\",\n",
    "    \"#F0F9E4\",\n",
    "    \"#BA9F6A\",\n",
    "    \"#573706\",\n",
    "]\n",
    "\n",
    "\n",
    "\n",
    "CFG_output = Output()\n",
    "CFG_output.layout.height='400px';\n",
    "CFG_output.layout.overflow='scroll';\n",
    "\n",
    "COL_output = Output()\n",
    "COL_output.layout.height='400px';\n",
    "COL_output.layout.overflow='scroll';\n",
    "\n",
    "with CFG_output:\n",
    "    print('CONFIG:')\n",
    "    for (k,v) in config.items():\n",
    "        print(f'{k:40}{v}')\n",
    "    \n",
    "\n",
    "\n",
    "\n",
    "CFG_output = Output()\n",
    "CFG_output.layout.height='400px';\n",
    "CFG_output.layout.overflow='scroll';\n",
    "\n",
    "COL_output = Output()\n",
    "COL_output.layout.height='400px';\n",
    "COL_output.layout.overflow='scroll';\n",
    "\n",
    "with CFG_output:\n",
    "    print('CONFIG:')\n",
    "    for (k,v) in config.items():\n",
    "        print(f'{k:40}{v}')\n",
    "    \n",
    "with COL_output:\n",
    "    print('COLORS:')\n",
    "    for c in Colors:\n",
    "        display(HTML(f'<p style=\"background-color: {c.value}; text-align:center;\">{c.name}</p>'))\n",
    "    \n",
    "HBox([CFG_output, COL_output])\n"
   ]
  },
  {
   "cell_type": "code",
   "execution_count": 2,
   "id": "43fc189c-41c6-44fe-a33b-b17bac3527f8",
   "metadata": {},
   "outputs": [
    {
     "data": {
      "text/plain": [
       "256"
      ]
     },
     "execution_count": 2,
     "metadata": {},
     "output_type": "execute_result"
    }
   ],
   "source": [
    " \n",
    "def get_poslist(m,n,iterations=100):\n",
    "\n",
    "    x = np.linspace(-2, 1, num=m).reshape((1, m))\n",
    "    y = np.linspace(-1, 1, num=n).reshape((n, 1))\n",
    "    C = np.tile(x, (n, 1)) + 1j * np.tile(y, (1, m))\n",
    "\n",
    "    Z = np.zeros((n, m), dtype=complex)\n",
    "    M = np.full((n, m), True, dtype=bool)\n",
    "    for i in range(iterations+1):\n",
    "        Z[M] = Z[M] * Z[M] + C[M]\n",
    "        M[np.abs(Z) > 2] = False\n",
    "\n",
    "    \n",
    "    return np.uint8(np.flipud(1 - M) * 255) \n",
    "\n",
    "def pixelize(pixel_array, W=2**5, H=2**5):\n",
    "    w,h =  pixel_array.shape[0],  pixel_array.shape[1]\n",
    "    vg = VGroup(*[Dot(color=rgba_to_color(np.divide(pixel_array[int(x),int(y),:], 255))) for x in np.linspace(0,w,W, endpoint=False) for y in np.linspace(0,h,H, endpoint=False)])\n",
    "\n",
    "    return vg.arrange_in_grid(buff=0).scale_to_fit_height(HEIGHT)\n",
    "\n",
    "class Papaj():\n",
    "    dots = [pixelize(ImageMobject('papaj.png').get_pixel_array(), W=2**n,H=2**n) for n in [0,1,2,3,4,6]]\n",
    "    \n",
    "papies=Papaj()\n",
    "\n",
    "class Star(Polygon):\n",
    "    \"\"\" Develop by friedkeenan\"\"\"\n",
    "    def __init__(self, n=6, *, density=2, outer_radius=1, inner_radius=None, start_angle=None, **kwargs):\n",
    "        if density <= 0 or density >= n / 2:\n",
    "            raise ValueError(f\"Incompatible density {density}\")\n",
    "\n",
    "        inner_angle = TAU / (2 * n)\n",
    "\n",
    "        if inner_radius is None:\n",
    "            # Calculate the inner radius for n and density.\n",
    "            # See https://math.stackexchange.com/a/2136292\n",
    "\n",
    "            outer_angle = TAU * density / n\n",
    "\n",
    "            inverse_x = 1 - np.tan(inner_angle) * ((np.cos(outer_angle) - 1) / np.sin(outer_angle))\n",
    "\n",
    "            inner_radius = outer_radius / (np.cos(inner_angle) * inverse_x)\n",
    "\n",
    "\n",
    "        def regular_vertices(n, radius=1, start_angle=None):\n",
    "            if start_angle is None:\n",
    "                if n % 2 == 0:\n",
    "                    start_angle = 0\n",
    "                else:\n",
    "                    start_angle = TAU / 4\n",
    "\n",
    "            start_vector = rotate_vector(RIGHT * radius, start_angle)\n",
    "            vertices     = compass_directions(n, start_vector)\n",
    "\n",
    "            return vertices, start_angle\n",
    "\n",
    "        outer_vertices, self.start_angle = regular_vertices(n, radius=outer_radius, start_angle=start_angle)\n",
    "        inner_vertices, _                = regular_vertices(n, radius=inner_radius, start_angle=self.start_angle + inner_angle)\n",
    "\n",
    "        vertices = []\n",
    "        for pair in zip(outer_vertices, inner_vertices):\n",
    "            vertices.extend(pair)\n",
    "\n",
    "        super().__init__(*vertices, **kwargs)\n",
    "        \n",
    "def flatten(input_list):\n",
    "    return [(x/255,y/255,z/255,a/255) for sublist in input_list for (x,y,z,a) in sublist]\n",
    "def mandelbrot(p):\n",
    "    an=0\n",
    "    n=0\n",
    "    while True:\n",
    "        yield n, complex_to_R3(an)\n",
    "        try:\n",
    "            an = (an**2+R3_to_complex(p))\n",
    "            n+=1\n",
    "        except:\n",
    "#             an = np.nan\n",
    "            break\n",
    "\n",
    "    \n",
    "def deplete(gen):\n",
    "    while True:\n",
    "        try:\n",
    "            n, an = next(gen)\n",
    "            if n>=256:\n",
    "                raise ValueError\n",
    "        except:\n",
    "            break\n",
    "    return n\n",
    "\n",
    "def circInv2d(pos=[0,0,0],circle=Circle()):\n",
    "    \n",
    "    x,y,z=pos\n",
    "    cx, cy, cz = circle.get_center()\n",
    "    cr = circle.radius\n",
    "    \n",
    "    dx = x - cx; dy = y - cy\n",
    "    d = np.hypot(dx, dy)\n",
    "    \n",
    "    if (d!=0):\n",
    "        dx = dx / d; dy = dy / d\n",
    "        dnew = cr ** 2.0 / d\n",
    "        x = float(dnew * dx + cx)\n",
    "        y = float(dnew * dy + cy)\n",
    "\n",
    "        return [x,y,z]\n",
    "    else:\n",
    "        return [0.0,0.0,0.0]\n",
    "    \n",
    "        \n",
    "a=mandelbrot([.25,0,0])\n",
    "\n",
    "\n",
    "deplete(a)    "
   ]
  },
  {
   "cell_type": "code",
   "execution_count": null,
   "id": "a67fdfdc-c50b-4770-810e-2e4b98be67ce",
   "metadata": {},
   "outputs": [],
   "source": [
    "%%manim Mandbelbrot\n",
    "from datetime import *\n",
    "\n",
    "class Mandbelbrot(Scene):\n",
    "    def construct(self):\n",
    "        rows , cols = 10, 10\n",
    "\n",
    "        iter_func = lambda z, c: z ** 2 + c\n",
    "        iter_num = 128\n",
    "        colors = color_gradient(mypalette, iter_num + 1)\n",
    "\n",
    "        def get_color(c):\n",
    "            z = complex(0, 0)\n",
    "            num = 0\n",
    "            while abs(z) < 2 and num < iter_num:\n",
    "                z = iter_func(z, c)\n",
    "                num += 1\n",
    "            return colors[num]\n",
    "\n",
    "        x = np.linspace(-2, 1, num=rows)#.reshape((1, rows))\n",
    "        y = np.linspace(-1, 0, num=cols)#.reshape((cols, 1))\n",
    "\n",
    "        mob = Square(stroke_width=0, fill_opacity=1).scale(1/np.sqrt(rows*cols))\n",
    "        vg=VGroup()\n",
    "        for p in ([[a,b,0] for a in x for b in y]):\n",
    "            x,y,z=p\n",
    "            \n",
    "            #color=random_bright_color()\n",
    "            color=get_color(complex(x,y)) \n",
    "            \n",
    "            p1 = mob.copy().set_fill(color=color).move_to(p)\n",
    "            p2 = p1.copy().move_to(p* np.array([1, -1, 0]))\n",
    "            vg.add(p1,p2)\n",
    "            \n",
    "        vg.scale_to_fit_height(HEIGHT).scale_to_fit_width( WIDTH ).center()\n",
    "        self.add(vg)\n",
    "        self.wait()"
   ]
  },
  {
   "cell_type": "code",
   "execution_count": 3,
   "id": "85a5a89e-85fa-4776-8add-96da362d9e9d",
   "metadata": {},
   "outputs": [
    {
     "data": {
      "text/html": [
       "<pre style=\"white-space:pre;overflow-x:auto;line-height:normal;font-family:Menlo,'DejaVu Sans Mono',consolas,'Courier New',monospace\"><span style=\"color: #7fbfbf; text-decoration-color: #7fbfbf\">[03/19/22 14:31:42] </span><span style=\"color: #008000; text-decoration-color: #008000\">INFO    </span> Animation <span style=\"color: #008000; text-decoration-color: #008000\">0</span> : Using cached data <span style=\"font-weight: bold\">(</span>hash :     <a href=\"file://D:\\Python39\\lib\\site-packages\\manim\\renderer\\cairo_renderer.py\"><span style=\"color: #7f7f7f; text-decoration-color: #7f7f7f\">cairo_renderer.py</span></a><span style=\"color: #7f7f7f; text-decoration-color: #7f7f7f\">:</span><a href=\"file://D:\\Python39\\lib\\site-packages\\manim\\renderer\\cairo_renderer.py#74\"><span style=\"color: #7f7f7f; text-decoration-color: #7f7f7f\">74</span></a>\n",
       "                             3163782288_1755878186_1240453128<span style=\"font-weight: bold\">)</span>                               \n",
       "</pre>\n"
      ],
      "text/plain": [
       "\u001b[2;36m[03/19/22 14:31:42]\u001b[0m\u001b[2;36m \u001b[0m\u001b[32mINFO    \u001b[0m Animation \u001b[32m0\u001b[0m : Using cached data \u001b[1m(\u001b[0mhash :     \u001b]8;id=209454;file://D:\\Python39\\lib\\site-packages\\manim\\renderer\\cairo_renderer.py\u001b\\\u001b[2mcairo_renderer.py\u001b[0m\u001b]8;;\u001b\\\u001b[2m:\u001b[0m\u001b]8;id=312772;file://D:\\Python39\\lib\\site-packages\\manim\\renderer\\cairo_renderer.py#74\u001b\\\u001b[2m74\u001b[0m\u001b]8;;\u001b\\\n",
       "                             3163782288_1755878186_1240453128\u001b[1m)\u001b[0m                               \n"
      ]
     },
     "metadata": {},
     "output_type": "display_data"
    },
    {
     "name": "stderr",
     "output_type": "stream",
     "text": [
      "                                                         \r"
     ]
    },
    {
     "data": {
      "text/html": [
       "<pre style=\"white-space:pre;overflow-x:auto;line-height:normal;font-family:Menlo,'DejaVu Sans Mono',consolas,'Courier New',monospace\"><span style=\"color: #7fbfbf; text-decoration-color: #7fbfbf\">                    </span><span style=\"color: #008000; text-decoration-color: #008000\">INFO    </span> Animation <span style=\"color: #008000; text-decoration-color: #008000\">1</span> : Using cached data <span style=\"font-weight: bold\">(</span>hash :     <a href=\"file://D:\\Python39\\lib\\site-packages\\manim\\renderer\\cairo_renderer.py\"><span style=\"color: #7f7f7f; text-decoration-color: #7f7f7f\">cairo_renderer.py</span></a><span style=\"color: #7f7f7f; text-decoration-color: #7f7f7f\">:</span><a href=\"file://D:\\Python39\\lib\\site-packages\\manim\\renderer\\cairo_renderer.py#74\"><span style=\"color: #7f7f7f; text-decoration-color: #7f7f7f\">74</span></a>\n",
       "                             2201830969_1643493648_1240453128<span style=\"font-weight: bold\">)</span>                               \n",
       "</pre>\n"
      ],
      "text/plain": [
       "\u001b[2;36m                   \u001b[0m\u001b[2;36m \u001b[0m\u001b[32mINFO    \u001b[0m Animation \u001b[32m1\u001b[0m : Using cached data \u001b[1m(\u001b[0mhash :     \u001b]8;id=163541;file://D:\\Python39\\lib\\site-packages\\manim\\renderer\\cairo_renderer.py\u001b\\\u001b[2mcairo_renderer.py\u001b[0m\u001b]8;;\u001b\\\u001b[2m:\u001b[0m\u001b]8;id=362436;file://D:\\Python39\\lib\\site-packages\\manim\\renderer\\cairo_renderer.py#74\u001b\\\u001b[2m74\u001b[0m\u001b]8;;\u001b\\\n",
       "                             2201830969_1643493648_1240453128\u001b[1m)\u001b[0m                               \n"
      ]
     },
     "metadata": {},
     "output_type": "display_data"
    },
    {
     "name": "stderr",
     "output_type": "stream",
     "text": [
      "                                                         \r"
     ]
    },
    {
     "data": {
      "text/html": [
       "<pre style=\"white-space:pre;overflow-x:auto;line-height:normal;font-family:Menlo,'DejaVu Sans Mono',consolas,'Courier New',monospace\"><span style=\"color: #7fbfbf; text-decoration-color: #7fbfbf\">                    </span><span style=\"color: #008000; text-decoration-color: #008000\">INFO    </span> Animation <span style=\"color: #008000; text-decoration-color: #008000\">2</span> : Using cached data <span style=\"font-weight: bold\">(</span>hash :     <a href=\"file://D:\\Python39\\lib\\site-packages\\manim\\renderer\\cairo_renderer.py\"><span style=\"color: #7f7f7f; text-decoration-color: #7f7f7f\">cairo_renderer.py</span></a><span style=\"color: #7f7f7f; text-decoration-color: #7f7f7f\">:</span><a href=\"file://D:\\Python39\\lib\\site-packages\\manim\\renderer\\cairo_renderer.py#74\"><span style=\"color: #7f7f7f; text-decoration-color: #7f7f7f\">74</span></a>\n",
       "                             2201830969_3587712820_1240453128<span style=\"font-weight: bold\">)</span>                               \n",
       "</pre>\n"
      ],
      "text/plain": [
       "\u001b[2;36m                   \u001b[0m\u001b[2;36m \u001b[0m\u001b[32mINFO    \u001b[0m Animation \u001b[32m2\u001b[0m : Using cached data \u001b[1m(\u001b[0mhash :     \u001b]8;id=650232;file://D:\\Python39\\lib\\site-packages\\manim\\renderer\\cairo_renderer.py\u001b\\\u001b[2mcairo_renderer.py\u001b[0m\u001b]8;;\u001b\\\u001b[2m:\u001b[0m\u001b]8;id=468791;file://D:\\Python39\\lib\\site-packages\\manim\\renderer\\cairo_renderer.py#74\u001b\\\u001b[2m74\u001b[0m\u001b]8;;\u001b\\\n",
       "                             2201830969_3587712820_1240453128\u001b[1m)\u001b[0m                               \n"
      ]
     },
     "metadata": {},
     "output_type": "display_data"
    },
    {
     "name": "stderr",
     "output_type": "stream",
     "text": [
      "                                                         \r"
     ]
    },
    {
     "data": {
      "text/html": [
       "<pre style=\"white-space:pre;overflow-x:auto;line-height:normal;font-family:Menlo,'DejaVu Sans Mono',consolas,'Courier New',monospace\"><span style=\"color: #7fbfbf; text-decoration-color: #7fbfbf\">[03/19/22 14:31:45] </span><span style=\"color: #008000; text-decoration-color: #008000\">INFO    </span> Animation <span style=\"color: #008000; text-decoration-color: #008000\">3</span> : Partial movie file        <a href=\"file://D:\\Python39\\lib\\site-packages\\manim\\scene\\scene_file_writer.py\"><span style=\"color: #7f7f7f; text-decoration-color: #7f7f7f\">scene_file_writer.py</span></a><span style=\"color: #7f7f7f; text-decoration-color: #7f7f7f\">:</span><a href=\"file://D:\\Python39\\lib\\site-packages\\manim\\scene\\scene_file_writer.py#514\"><span style=\"color: #7f7f7f; text-decoration-color: #7f7f7f\">514</span></a>\n",
       "                             written in                                                      \n",
       "                             <span style=\"color: #008000; text-decoration-color: #008000\">'D:\\Programming\\Python\\jupyter </span>                                 \n",
       "                             <span style=\"color: #008000; text-decoration-color: #008000\">notebooks\\media\\videos\\jupyter notebook</span>                         \n",
       "                             <span style=\"color: #008000; text-decoration-color: #008000\">s\\480p15\\partial_movie_files\\MandelScen</span>                         \n",
       "                             <span style=\"color: #008000; text-decoration-color: #008000\">ePOPE2\\2201830969_3145375587_1240453128</span>                         \n",
       "                             <span style=\"color: #008000; text-decoration-color: #008000\">.mp4'</span>                                                           \n",
       "</pre>\n"
      ],
      "text/plain": [
       "\u001b[2;36m[03/19/22 14:31:45]\u001b[0m\u001b[2;36m \u001b[0m\u001b[32mINFO    \u001b[0m Animation \u001b[32m3\u001b[0m : Partial movie file        \u001b]8;id=185364;file://D:\\Python39\\lib\\site-packages\\manim\\scene\\scene_file_writer.py\u001b\\\u001b[2mscene_file_writer.py\u001b[0m\u001b]8;;\u001b\\\u001b[2m:\u001b[0m\u001b]8;id=437551;file://D:\\Python39\\lib\\site-packages\\manim\\scene\\scene_file_writer.py#514\u001b\\\u001b[2m514\u001b[0m\u001b]8;;\u001b\\\n",
       "                             written in                                                      \n",
       "                             \u001b[32m'D:\\Programming\\Python\\jupyter \u001b[0m                                 \n",
       "                             \u001b[32mnotebooks\\media\\videos\\jupyter notebook\u001b[0m                         \n",
       "                             \u001b[32ms\\480p15\\partial_movie_files\\MandelScen\u001b[0m                         \n",
       "                             \u001b[32mePOPE2\\2201830969_3145375587_1240453128\u001b[0m                         \n",
       "                             \u001b[32m.mp4'\u001b[0m                                                           \n"
      ]
     },
     "metadata": {},
     "output_type": "display_data"
    },
    {
     "data": {
      "text/html": [
       "<pre style=\"white-space:pre;overflow-x:auto;line-height:normal;font-family:Menlo,'DejaVu Sans Mono',consolas,'Courier New',monospace\"><span style=\"color: #7fbfbf; text-decoration-color: #7fbfbf\">[03/19/22 14:31:46] </span><span style=\"color: #008000; text-decoration-color: #008000\">INFO    </span> Animation <span style=\"color: #008000; text-decoration-color: #008000\">4</span> : Using cached data <span style=\"font-weight: bold\">(</span>hash :     <a href=\"file://D:\\Python39\\lib\\site-packages\\manim\\renderer\\cairo_renderer.py\"><span style=\"color: #7f7f7f; text-decoration-color: #7f7f7f\">cairo_renderer.py</span></a><span style=\"color: #7f7f7f; text-decoration-color: #7f7f7f\">:</span><a href=\"file://D:\\Python39\\lib\\site-packages\\manim\\renderer\\cairo_renderer.py#74\"><span style=\"color: #7f7f7f; text-decoration-color: #7f7f7f\">74</span></a>\n",
       "                             2201830969_3518702334_1240453128<span style=\"font-weight: bold\">)</span>                               \n",
       "</pre>\n"
      ],
      "text/plain": [
       "\u001b[2;36m[03/19/22 14:31:46]\u001b[0m\u001b[2;36m \u001b[0m\u001b[32mINFO    \u001b[0m Animation \u001b[32m4\u001b[0m : Using cached data \u001b[1m(\u001b[0mhash :     \u001b]8;id=971890;file://D:\\Python39\\lib\\site-packages\\manim\\renderer\\cairo_renderer.py\u001b\\\u001b[2mcairo_renderer.py\u001b[0m\u001b]8;;\u001b\\\u001b[2m:\u001b[0m\u001b]8;id=137127;file://D:\\Python39\\lib\\site-packages\\manim\\renderer\\cairo_renderer.py#74\u001b\\\u001b[2m74\u001b[0m\u001b]8;;\u001b\\\n",
       "                             2201830969_3518702334_1240453128\u001b[1m)\u001b[0m                               \n"
      ]
     },
     "metadata": {},
     "output_type": "display_data"
    },
    {
     "name": "stderr",
     "output_type": "stream",
     "text": [
      "                                                         \r"
     ]
    },
    {
     "data": {
      "text/html": [
       "<pre style=\"white-space:pre;overflow-x:auto;line-height:normal;font-family:Menlo,'DejaVu Sans Mono',consolas,'Courier New',monospace\"><span style=\"color: #7fbfbf; text-decoration-color: #7fbfbf\">[03/19/22 14:31:55] </span><span style=\"color: #008000; text-decoration-color: #008000\">INFO    </span> Animation <span style=\"color: #008000; text-decoration-color: #008000\">5</span> : Using cached data <span style=\"font-weight: bold\">(</span>hash :     <a href=\"file://D:\\Python39\\lib\\site-packages\\manim\\renderer\\cairo_renderer.py\"><span style=\"color: #7f7f7f; text-decoration-color: #7f7f7f\">cairo_renderer.py</span></a><span style=\"color: #7f7f7f; text-decoration-color: #7f7f7f\">:</span><a href=\"file://D:\\Python39\\lib\\site-packages\\manim\\renderer\\cairo_renderer.py#74\"><span style=\"color: #7f7f7f; text-decoration-color: #7f7f7f\">74</span></a>\n",
       "                             2201830969_1019264404_1240453128<span style=\"font-weight: bold\">)</span>                               \n",
       "</pre>\n"
      ],
      "text/plain": [
       "\u001b[2;36m[03/19/22 14:31:55]\u001b[0m\u001b[2;36m \u001b[0m\u001b[32mINFO    \u001b[0m Animation \u001b[32m5\u001b[0m : Using cached data \u001b[1m(\u001b[0mhash :     \u001b]8;id=317101;file://D:\\Python39\\lib\\site-packages\\manim\\renderer\\cairo_renderer.py\u001b\\\u001b[2mcairo_renderer.py\u001b[0m\u001b]8;;\u001b\\\u001b[2m:\u001b[0m\u001b]8;id=377538;file://D:\\Python39\\lib\\site-packages\\manim\\renderer\\cairo_renderer.py#74\u001b\\\u001b[2m74\u001b[0m\u001b]8;;\u001b\\\n",
       "                             2201830969_1019264404_1240453128\u001b[1m)\u001b[0m                               \n"
      ]
     },
     "metadata": {},
     "output_type": "display_data"
    },
    {
     "name": "stderr",
     "output_type": "stream",
     "text": [
      "                                                         \r"
     ]
    },
    {
     "data": {
      "text/html": [
       "<pre style=\"white-space:pre;overflow-x:auto;line-height:normal;font-family:Menlo,'DejaVu Sans Mono',consolas,'Courier New',monospace\"><span style=\"color: #7fbfbf; text-decoration-color: #7fbfbf\">[03/19/22 14:32:21] </span><span style=\"color: #800000; text-decoration-color: #800000\">WARNING </span> It looks like the <span style=\"color: #808000; text-decoration-color: #808000; font-weight: bold\">scene</span> contains a lot of         <a href=\"file://D:\\Python39\\lib\\site-packages\\manim\\utils\\hashing.py\"><span style=\"color: #7f7f7f; text-decoration-color: #7f7f7f\">hashing.py</span></a><span style=\"color: #7f7f7f; text-decoration-color: #7f7f7f\">:</span><a href=\"file://D:\\Python39\\lib\\site-packages\\manim\\utils\\hashing.py#152\"><span style=\"color: #7f7f7f; text-decoration-color: #7f7f7f\">152</span></a>\n",
       "                             sub-mobjects. Caching is sometimes not suited to                \n",
       "                             handle such large <span style=\"color: #808000; text-decoration-color: #808000; font-weight: bold\">scene</span>s, you might consider                    \n",
       "                             disabling caching with --disable_caching to                     \n",
       "                             potentially speed up the rendering process.                     \n",
       "</pre>\n"
      ],
      "text/plain": [
       "\u001b[2;36m[03/19/22 14:32:21]\u001b[0m\u001b[2;36m \u001b[0m\u001b[31mWARNING \u001b[0m It looks like the \u001b[1;33mscene\u001b[0m contains a lot of         \u001b]8;id=189328;file://D:\\Python39\\lib\\site-packages\\manim\\utils\\hashing.py\u001b\\\u001b[2mhashing.py\u001b[0m\u001b]8;;\u001b\\\u001b[2m:\u001b[0m\u001b]8;id=241892;file://D:\\Python39\\lib\\site-packages\\manim\\utils\\hashing.py#152\u001b\\\u001b[2m152\u001b[0m\u001b]8;;\u001b\\\n",
       "                             sub-mobjects. Caching is sometimes not suited to                \n",
       "                             handle such large \u001b[1;33mscene\u001b[0ms, you might consider                    \n",
       "                             disabling caching with --disable_caching to                     \n",
       "                             potentially speed up the rendering process.                     \n"
      ]
     },
     "metadata": {},
     "output_type": "display_data"
    },
    {
     "data": {
      "text/html": [
       "<pre style=\"white-space:pre;overflow-x:auto;line-height:normal;font-family:Menlo,'DejaVu Sans Mono',consolas,'Courier New',monospace\"><span style=\"color: #7fbfbf; text-decoration-color: #7fbfbf\">                    </span><span style=\"color: #800000; text-decoration-color: #800000\">WARNING </span> You can disable this warning by setting           <a href=\"file://D:\\Python39\\lib\\site-packages\\manim\\utils\\hashing.py\"><span style=\"color: #7f7f7f; text-decoration-color: #7f7f7f\">hashing.py</span></a><span style=\"color: #7f7f7f; text-decoration-color: #7f7f7f\">:</span><a href=\"file://D:\\Python39\\lib\\site-packages\\manim\\utils\\hashing.py#158\"><span style=\"color: #7f7f7f; text-decoration-color: #7f7f7f\">158</span></a>\n",
       "                             disable_caching_warning to <span style=\"color: #00ff00; text-decoration-color: #00ff00; font-style: italic\">True</span> in your config                  \n",
       "                             file.                                                           \n",
       "</pre>\n"
      ],
      "text/plain": [
       "\u001b[2;36m                   \u001b[0m\u001b[2;36m \u001b[0m\u001b[31mWARNING \u001b[0m You can disable this warning by setting           \u001b]8;id=400562;file://D:\\Python39\\lib\\site-packages\\manim\\utils\\hashing.py\u001b\\\u001b[2mhashing.py\u001b[0m\u001b]8;;\u001b\\\u001b[2m:\u001b[0m\u001b]8;id=280161;file://D:\\Python39\\lib\\site-packages\\manim\\utils\\hashing.py#158\u001b\\\u001b[2m158\u001b[0m\u001b]8;;\u001b\\\n",
       "                             disable_caching_warning to \u001b[3;92mTrue\u001b[0m in your config                  \n",
       "                             file.                                                           \n"
      ]
     },
     "metadata": {},
     "output_type": "display_data"
    },
    {
     "data": {
      "text/html": [
       "<pre style=\"white-space:pre;overflow-x:auto;line-height:normal;font-family:Menlo,'DejaVu Sans Mono',consolas,'Courier New',monospace\"><span style=\"color: #7fbfbf; text-decoration-color: #7fbfbf\">[03/19/22 14:32:22] </span><span style=\"color: #008000; text-decoration-color: #008000\">INFO    </span> Animation <span style=\"color: #008000; text-decoration-color: #008000\">6</span> : Using cached data <span style=\"font-weight: bold\">(</span>hash :     <a href=\"file://D:\\Python39\\lib\\site-packages\\manim\\renderer\\cairo_renderer.py\"><span style=\"color: #7f7f7f; text-decoration-color: #7f7f7f\">cairo_renderer.py</span></a><span style=\"color: #7f7f7f; text-decoration-color: #7f7f7f\">:</span><a href=\"file://D:\\Python39\\lib\\site-packages\\manim\\renderer\\cairo_renderer.py#74\"><span style=\"color: #7f7f7f; text-decoration-color: #7f7f7f\">74</span></a>\n",
       "                             2201830969_931946622_1240453128<span style=\"font-weight: bold\">)</span>                                \n",
       "</pre>\n"
      ],
      "text/plain": [
       "\u001b[2;36m[03/19/22 14:32:22]\u001b[0m\u001b[2;36m \u001b[0m\u001b[32mINFO    \u001b[0m Animation \u001b[32m6\u001b[0m : Using cached data \u001b[1m(\u001b[0mhash :     \u001b]8;id=725085;file://D:\\Python39\\lib\\site-packages\\manim\\renderer\\cairo_renderer.py\u001b\\\u001b[2mcairo_renderer.py\u001b[0m\u001b]8;;\u001b\\\u001b[2m:\u001b[0m\u001b]8;id=959655;file://D:\\Python39\\lib\\site-packages\\manim\\renderer\\cairo_renderer.py#74\u001b\\\u001b[2m74\u001b[0m\u001b]8;;\u001b\\\n",
       "                             2201830969_931946622_1240453128\u001b[1m)\u001b[0m                                \n"
      ]
     },
     "metadata": {},
     "output_type": "display_data"
    },
    {
     "name": "stderr",
     "output_type": "stream",
     "text": [
      "                                                         \r"
     ]
    },
    {
     "data": {
      "text/html": [
       "<pre style=\"white-space:pre;overflow-x:auto;line-height:normal;font-family:Menlo,'DejaVu Sans Mono',consolas,'Courier New',monospace\"><span style=\"color: #7fbfbf; text-decoration-color: #7fbfbf\">[03/19/22 14:32:53] </span><span style=\"color: #800000; text-decoration-color: #800000\">WARNING </span> It looks like the <span style=\"color: #808000; text-decoration-color: #808000; font-weight: bold\">scene</span> contains a lot of         <a href=\"file://D:\\Python39\\lib\\site-packages\\manim\\utils\\hashing.py\"><span style=\"color: #7f7f7f; text-decoration-color: #7f7f7f\">hashing.py</span></a><span style=\"color: #7f7f7f; text-decoration-color: #7f7f7f\">:</span><a href=\"file://D:\\Python39\\lib\\site-packages\\manim\\utils\\hashing.py#152\"><span style=\"color: #7f7f7f; text-decoration-color: #7f7f7f\">152</span></a>\n",
       "                             sub-mobjects. Caching is sometimes not suited to                \n",
       "                             handle such large <span style=\"color: #808000; text-decoration-color: #808000; font-weight: bold\">scene</span>s, you might consider                    \n",
       "                             disabling caching with --disable_caching to                     \n",
       "                             potentially speed up the rendering process.                     \n",
       "</pre>\n"
      ],
      "text/plain": [
       "\u001b[2;36m[03/19/22 14:32:53]\u001b[0m\u001b[2;36m \u001b[0m\u001b[31mWARNING \u001b[0m It looks like the \u001b[1;33mscene\u001b[0m contains a lot of         \u001b]8;id=688349;file://D:\\Python39\\lib\\site-packages\\manim\\utils\\hashing.py\u001b\\\u001b[2mhashing.py\u001b[0m\u001b]8;;\u001b\\\u001b[2m:\u001b[0m\u001b]8;id=71701;file://D:\\Python39\\lib\\site-packages\\manim\\utils\\hashing.py#152\u001b\\\u001b[2m152\u001b[0m\u001b]8;;\u001b\\\n",
       "                             sub-mobjects. Caching is sometimes not suited to                \n",
       "                             handle such large \u001b[1;33mscene\u001b[0ms, you might consider                    \n",
       "                             disabling caching with --disable_caching to                     \n",
       "                             potentially speed up the rendering process.                     \n"
      ]
     },
     "metadata": {},
     "output_type": "display_data"
    },
    {
     "data": {
      "text/html": [
       "<pre style=\"white-space:pre;overflow-x:auto;line-height:normal;font-family:Menlo,'DejaVu Sans Mono',consolas,'Courier New',monospace\"><span style=\"color: #7fbfbf; text-decoration-color: #7fbfbf\">                    </span><span style=\"color: #800000; text-decoration-color: #800000\">WARNING </span> You can disable this warning by setting           <a href=\"file://D:\\Python39\\lib\\site-packages\\manim\\utils\\hashing.py\"><span style=\"color: #7f7f7f; text-decoration-color: #7f7f7f\">hashing.py</span></a><span style=\"color: #7f7f7f; text-decoration-color: #7f7f7f\">:</span><a href=\"file://D:\\Python39\\lib\\site-packages\\manim\\utils\\hashing.py#158\"><span style=\"color: #7f7f7f; text-decoration-color: #7f7f7f\">158</span></a>\n",
       "                             disable_caching_warning to <span style=\"color: #00ff00; text-decoration-color: #00ff00; font-style: italic\">True</span> in your config                  \n",
       "                             file.                                                           \n",
       "</pre>\n"
      ],
      "text/plain": [
       "\u001b[2;36m                   \u001b[0m\u001b[2;36m \u001b[0m\u001b[31mWARNING \u001b[0m You can disable this warning by setting           \u001b]8;id=305618;file://D:\\Python39\\lib\\site-packages\\manim\\utils\\hashing.py\u001b\\\u001b[2mhashing.py\u001b[0m\u001b]8;;\u001b\\\u001b[2m:\u001b[0m\u001b]8;id=659617;file://D:\\Python39\\lib\\site-packages\\manim\\utils\\hashing.py#158\u001b\\\u001b[2m158\u001b[0m\u001b]8;;\u001b\\\n",
       "                             disable_caching_warning to \u001b[3;92mTrue\u001b[0m in your config                  \n",
       "                             file.                                                           \n"
      ]
     },
     "metadata": {},
     "output_type": "display_data"
    },
    {
     "data": {
      "text/html": [
       "<pre style=\"white-space:pre;overflow-x:auto;line-height:normal;font-family:Menlo,'DejaVu Sans Mono',consolas,'Courier New',monospace\"><span style=\"color: #7fbfbf; text-decoration-color: #7fbfbf\">[03/19/22 14:32:54] </span><span style=\"color: #008000; text-decoration-color: #008000\">INFO    </span> Animation <span style=\"color: #008000; text-decoration-color: #008000\">7</span> : Using cached data <span style=\"font-weight: bold\">(</span>hash :     <a href=\"file://D:\\Python39\\lib\\site-packages\\manim\\renderer\\cairo_renderer.py\"><span style=\"color: #7f7f7f; text-decoration-color: #7f7f7f\">cairo_renderer.py</span></a><span style=\"color: #7f7f7f; text-decoration-color: #7f7f7f\">:</span><a href=\"file://D:\\Python39\\lib\\site-packages\\manim\\renderer\\cairo_renderer.py#74\"><span style=\"color: #7f7f7f; text-decoration-color: #7f7f7f\">74</span></a>\n",
       "                             2201830969_677371313_1240453128<span style=\"font-weight: bold\">)</span>                                \n",
       "</pre>\n"
      ],
      "text/plain": [
       "\u001b[2;36m[03/19/22 14:32:54]\u001b[0m\u001b[2;36m \u001b[0m\u001b[32mINFO    \u001b[0m Animation \u001b[32m7\u001b[0m : Using cached data \u001b[1m(\u001b[0mhash :     \u001b]8;id=355934;file://D:\\Python39\\lib\\site-packages\\manim\\renderer\\cairo_renderer.py\u001b\\\u001b[2mcairo_renderer.py\u001b[0m\u001b]8;;\u001b\\\u001b[2m:\u001b[0m\u001b]8;id=669120;file://D:\\Python39\\lib\\site-packages\\manim\\renderer\\cairo_renderer.py#74\u001b\\\u001b[2m74\u001b[0m\u001b]8;;\u001b\\\n",
       "                             2201830969_677371313_1240453128\u001b[1m)\u001b[0m                                \n"
      ]
     },
     "metadata": {},
     "output_type": "display_data"
    },
    {
     "name": "stderr",
     "output_type": "stream",
     "text": [
      "                                                         \r"
     ]
    },
    {
     "data": {
      "text/html": [
       "<pre style=\"white-space:pre;overflow-x:auto;line-height:normal;font-family:Menlo,'DejaVu Sans Mono',consolas,'Courier New',monospace\"><span style=\"color: #7fbfbf; text-decoration-color: #7fbfbf\">[03/19/22 14:33:14] </span><span style=\"color: #800000; text-decoration-color: #800000\">WARNING </span> It looks like the <span style=\"color: #808000; text-decoration-color: #808000; font-weight: bold\">scene</span> contains a lot of         <a href=\"file://D:\\Python39\\lib\\site-packages\\manim\\utils\\hashing.py\"><span style=\"color: #7f7f7f; text-decoration-color: #7f7f7f\">hashing.py</span></a><span style=\"color: #7f7f7f; text-decoration-color: #7f7f7f\">:</span><a href=\"file://D:\\Python39\\lib\\site-packages\\manim\\utils\\hashing.py#152\"><span style=\"color: #7f7f7f; text-decoration-color: #7f7f7f\">152</span></a>\n",
       "                             sub-mobjects. Caching is sometimes not suited to                \n",
       "                             handle such large <span style=\"color: #808000; text-decoration-color: #808000; font-weight: bold\">scene</span>s, you might consider                    \n",
       "                             disabling caching with --disable_caching to                     \n",
       "                             potentially speed up the rendering process.                     \n",
       "</pre>\n"
      ],
      "text/plain": [
       "\u001b[2;36m[03/19/22 14:33:14]\u001b[0m\u001b[2;36m \u001b[0m\u001b[31mWARNING \u001b[0m It looks like the \u001b[1;33mscene\u001b[0m contains a lot of         \u001b]8;id=277209;file://D:\\Python39\\lib\\site-packages\\manim\\utils\\hashing.py\u001b\\\u001b[2mhashing.py\u001b[0m\u001b]8;;\u001b\\\u001b[2m:\u001b[0m\u001b]8;id=369725;file://D:\\Python39\\lib\\site-packages\\manim\\utils\\hashing.py#152\u001b\\\u001b[2m152\u001b[0m\u001b]8;;\u001b\\\n",
       "                             sub-mobjects. Caching is sometimes not suited to                \n",
       "                             handle such large \u001b[1;33mscene\u001b[0ms, you might consider                    \n",
       "                             disabling caching with --disable_caching to                     \n",
       "                             potentially speed up the rendering process.                     \n"
      ]
     },
     "metadata": {},
     "output_type": "display_data"
    },
    {
     "data": {
      "text/html": [
       "<pre style=\"white-space:pre;overflow-x:auto;line-height:normal;font-family:Menlo,'DejaVu Sans Mono',consolas,'Courier New',monospace\"><span style=\"color: #7fbfbf; text-decoration-color: #7fbfbf\">                    </span><span style=\"color: #800000; text-decoration-color: #800000\">WARNING </span> You can disable this warning by setting           <a href=\"file://D:\\Python39\\lib\\site-packages\\manim\\utils\\hashing.py\"><span style=\"color: #7f7f7f; text-decoration-color: #7f7f7f\">hashing.py</span></a><span style=\"color: #7f7f7f; text-decoration-color: #7f7f7f\">:</span><a href=\"file://D:\\Python39\\lib\\site-packages\\manim\\utils\\hashing.py#158\"><span style=\"color: #7f7f7f; text-decoration-color: #7f7f7f\">158</span></a>\n",
       "                             disable_caching_warning to <span style=\"color: #00ff00; text-decoration-color: #00ff00; font-style: italic\">True</span> in your config                  \n",
       "                             file.                                                           \n",
       "</pre>\n"
      ],
      "text/plain": [
       "\u001b[2;36m                   \u001b[0m\u001b[2;36m \u001b[0m\u001b[31mWARNING \u001b[0m You can disable this warning by setting           \u001b]8;id=552003;file://D:\\Python39\\lib\\site-packages\\manim\\utils\\hashing.py\u001b\\\u001b[2mhashing.py\u001b[0m\u001b]8;;\u001b\\\u001b[2m:\u001b[0m\u001b]8;id=169591;file://D:\\Python39\\lib\\site-packages\\manim\\utils\\hashing.py#158\u001b\\\u001b[2m158\u001b[0m\u001b]8;;\u001b\\\n",
       "                             disable_caching_warning to \u001b[3;92mTrue\u001b[0m in your config                  \n",
       "                             file.                                                           \n"
      ]
     },
     "metadata": {},
     "output_type": "display_data"
    },
    {
     "data": {
      "text/html": [
       "<pre style=\"white-space:pre;overflow-x:auto;line-height:normal;font-family:Menlo,'DejaVu Sans Mono',consolas,'Courier New',monospace\"><span style=\"color: #7fbfbf; text-decoration-color: #7fbfbf\">[03/19/22 14:33:15] </span><span style=\"color: #008000; text-decoration-color: #008000\">INFO    </span> Animation <span style=\"color: #008000; text-decoration-color: #008000\">8</span> : Using cached data <span style=\"font-weight: bold\">(</span>hash :     <a href=\"file://D:\\Python39\\lib\\site-packages\\manim\\renderer\\cairo_renderer.py\"><span style=\"color: #7f7f7f; text-decoration-color: #7f7f7f\">cairo_renderer.py</span></a><span style=\"color: #7f7f7f; text-decoration-color: #7f7f7f\">:</span><a href=\"file://D:\\Python39\\lib\\site-packages\\manim\\renderer\\cairo_renderer.py#74\"><span style=\"color: #7f7f7f; text-decoration-color: #7f7f7f\">74</span></a>\n",
       "                             2201830969_683119918_1240453128<span style=\"font-weight: bold\">)</span>                                \n",
       "</pre>\n"
      ],
      "text/plain": [
       "\u001b[2;36m[03/19/22 14:33:15]\u001b[0m\u001b[2;36m \u001b[0m\u001b[32mINFO    \u001b[0m Animation \u001b[32m8\u001b[0m : Using cached data \u001b[1m(\u001b[0mhash :     \u001b]8;id=699053;file://D:\\Python39\\lib\\site-packages\\manim\\renderer\\cairo_renderer.py\u001b\\\u001b[2mcairo_renderer.py\u001b[0m\u001b]8;;\u001b\\\u001b[2m:\u001b[0m\u001b]8;id=102708;file://D:\\Python39\\lib\\site-packages\\manim\\renderer\\cairo_renderer.py#74\u001b\\\u001b[2m74\u001b[0m\u001b]8;;\u001b\\\n",
       "                             2201830969_683119918_1240453128\u001b[1m)\u001b[0m                                \n"
      ]
     },
     "metadata": {},
     "output_type": "display_data"
    },
    {
     "name": "stderr",
     "output_type": "stream",
     "text": [
      "                                                         \r"
     ]
    },
    {
     "data": {
      "text/html": [
       "<pre style=\"white-space:pre;overflow-x:auto;line-height:normal;font-family:Menlo,'DejaVu Sans Mono',consolas,'Courier New',monospace\"><span style=\"color: #7fbfbf; text-decoration-color: #7fbfbf\">[03/19/22 14:33:46] </span><span style=\"color: #800000; text-decoration-color: #800000\">WARNING </span> It looks like the <span style=\"color: #808000; text-decoration-color: #808000; font-weight: bold\">scene</span> contains a lot of         <a href=\"file://D:\\Python39\\lib\\site-packages\\manim\\utils\\hashing.py\"><span style=\"color: #7f7f7f; text-decoration-color: #7f7f7f\">hashing.py</span></a><span style=\"color: #7f7f7f; text-decoration-color: #7f7f7f\">:</span><a href=\"file://D:\\Python39\\lib\\site-packages\\manim\\utils\\hashing.py#152\"><span style=\"color: #7f7f7f; text-decoration-color: #7f7f7f\">152</span></a>\n",
       "                             sub-mobjects. Caching is sometimes not suited to                \n",
       "                             handle such large <span style=\"color: #808000; text-decoration-color: #808000; font-weight: bold\">scene</span>s, you might consider                    \n",
       "                             disabling caching with --disable_caching to                     \n",
       "                             potentially speed up the rendering process.                     \n",
       "</pre>\n"
      ],
      "text/plain": [
       "\u001b[2;36m[03/19/22 14:33:46]\u001b[0m\u001b[2;36m \u001b[0m\u001b[31mWARNING \u001b[0m It looks like the \u001b[1;33mscene\u001b[0m contains a lot of         \u001b]8;id=406406;file://D:\\Python39\\lib\\site-packages\\manim\\utils\\hashing.py\u001b\\\u001b[2mhashing.py\u001b[0m\u001b]8;;\u001b\\\u001b[2m:\u001b[0m\u001b]8;id=933396;file://D:\\Python39\\lib\\site-packages\\manim\\utils\\hashing.py#152\u001b\\\u001b[2m152\u001b[0m\u001b]8;;\u001b\\\n",
       "                             sub-mobjects. Caching is sometimes not suited to                \n",
       "                             handle such large \u001b[1;33mscene\u001b[0ms, you might consider                    \n",
       "                             disabling caching with --disable_caching to                     \n",
       "                             potentially speed up the rendering process.                     \n"
      ]
     },
     "metadata": {},
     "output_type": "display_data"
    },
    {
     "data": {
      "text/html": [
       "<pre style=\"white-space:pre;overflow-x:auto;line-height:normal;font-family:Menlo,'DejaVu Sans Mono',consolas,'Courier New',monospace\"><span style=\"color: #7fbfbf; text-decoration-color: #7fbfbf\">                    </span><span style=\"color: #800000; text-decoration-color: #800000\">WARNING </span> You can disable this warning by setting           <a href=\"file://D:\\Python39\\lib\\site-packages\\manim\\utils\\hashing.py\"><span style=\"color: #7f7f7f; text-decoration-color: #7f7f7f\">hashing.py</span></a><span style=\"color: #7f7f7f; text-decoration-color: #7f7f7f\">:</span><a href=\"file://D:\\Python39\\lib\\site-packages\\manim\\utils\\hashing.py#158\"><span style=\"color: #7f7f7f; text-decoration-color: #7f7f7f\">158</span></a>\n",
       "                             disable_caching_warning to <span style=\"color: #00ff00; text-decoration-color: #00ff00; font-style: italic\">True</span> in your config                  \n",
       "                             file.                                                           \n",
       "</pre>\n"
      ],
      "text/plain": [
       "\u001b[2;36m                   \u001b[0m\u001b[2;36m \u001b[0m\u001b[31mWARNING \u001b[0m You can disable this warning by setting           \u001b]8;id=607634;file://D:\\Python39\\lib\\site-packages\\manim\\utils\\hashing.py\u001b\\\u001b[2mhashing.py\u001b[0m\u001b]8;;\u001b\\\u001b[2m:\u001b[0m\u001b]8;id=95353;file://D:\\Python39\\lib\\site-packages\\manim\\utils\\hashing.py#158\u001b\\\u001b[2m158\u001b[0m\u001b]8;;\u001b\\\n",
       "                             disable_caching_warning to \u001b[3;92mTrue\u001b[0m in your config                  \n",
       "                             file.                                                           \n"
      ]
     },
     "metadata": {},
     "output_type": "display_data"
    },
    {
     "name": "stderr",
     "output_type": "stream",
     "text": [
      "                                                         \r"
     ]
    },
    {
     "data": {
      "text/html": [
       "<pre style=\"white-space:pre;overflow-x:auto;line-height:normal;font-family:Menlo,'DejaVu Sans Mono',consolas,'Courier New',monospace\"><span style=\"color: #7fbfbf; text-decoration-color: #7fbfbf\">[03/19/22 14:34:02] </span><span style=\"color: #008000; text-decoration-color: #008000\">INFO    </span> Animation <span style=\"color: #008000; text-decoration-color: #008000\">9</span> : Partial movie file        <a href=\"file://D:\\Python39\\lib\\site-packages\\manim\\scene\\scene_file_writer.py\"><span style=\"color: #7f7f7f; text-decoration-color: #7f7f7f\">scene_file_writer.py</span></a><span style=\"color: #7f7f7f; text-decoration-color: #7f7f7f\">:</span><a href=\"file://D:\\Python39\\lib\\site-packages\\manim\\scene\\scene_file_writer.py#514\"><span style=\"color: #7f7f7f; text-decoration-color: #7f7f7f\">514</span></a>\n",
       "                             written in                                                      \n",
       "                             <span style=\"color: #008000; text-decoration-color: #008000\">'D:\\Programming\\Python\\jupyter </span>                                 \n",
       "                             <span style=\"color: #008000; text-decoration-color: #008000\">notebooks\\media\\videos\\jupyter notebook</span>                         \n",
       "                             <span style=\"color: #008000; text-decoration-color: #008000\">s\\480p15\\partial_movie_files\\MandelScen</span>                         \n",
       "                             <span style=\"color: #008000; text-decoration-color: #008000\">ePOPE2\\2201830969_3750551506_1240453128</span>                         \n",
       "                             <span style=\"color: #008000; text-decoration-color: #008000\">.mp4'</span>                                                           \n",
       "</pre>\n"
      ],
      "text/plain": [
       "\u001b[2;36m[03/19/22 14:34:02]\u001b[0m\u001b[2;36m \u001b[0m\u001b[32mINFO    \u001b[0m Animation \u001b[32m9\u001b[0m : Partial movie file        \u001b]8;id=264941;file://D:\\Python39\\lib\\site-packages\\manim\\scene\\scene_file_writer.py\u001b\\\u001b[2mscene_file_writer.py\u001b[0m\u001b]8;;\u001b\\\u001b[2m:\u001b[0m\u001b]8;id=837126;file://D:\\Python39\\lib\\site-packages\\manim\\scene\\scene_file_writer.py#514\u001b\\\u001b[2m514\u001b[0m\u001b]8;;\u001b\\\n",
       "                             written in                                                      \n",
       "                             \u001b[32m'D:\\Programming\\Python\\jupyter \u001b[0m                                 \n",
       "                             \u001b[32mnotebooks\\media\\videos\\jupyter notebook\u001b[0m                         \n",
       "                             \u001b[32ms\\480p15\\partial_movie_files\\MandelScen\u001b[0m                         \n",
       "                             \u001b[32mePOPE2\\2201830969_3750551506_1240453128\u001b[0m                         \n",
       "                             \u001b[32m.mp4'\u001b[0m                                                           \n"
      ]
     },
     "metadata": {},
     "output_type": "display_data"
    },
    {
     "data": {
      "text/html": [
       "<pre style=\"white-space:pre;overflow-x:auto;line-height:normal;font-family:Menlo,'DejaVu Sans Mono',consolas,'Courier New',monospace\"><span style=\"color: #7fbfbf; text-decoration-color: #7fbfbf\">[03/19/22 14:34:21] </span><span style=\"color: #800000; text-decoration-color: #800000\">WARNING </span> It looks like the <span style=\"color: #808000; text-decoration-color: #808000; font-weight: bold\">scene</span> contains a lot of         <a href=\"file://D:\\Python39\\lib\\site-packages\\manim\\utils\\hashing.py\"><span style=\"color: #7f7f7f; text-decoration-color: #7f7f7f\">hashing.py</span></a><span style=\"color: #7f7f7f; text-decoration-color: #7f7f7f\">:</span><a href=\"file://D:\\Python39\\lib\\site-packages\\manim\\utils\\hashing.py#152\"><span style=\"color: #7f7f7f; text-decoration-color: #7f7f7f\">152</span></a>\n",
       "                             sub-mobjects. Caching is sometimes not suited to                \n",
       "                             handle such large <span style=\"color: #808000; text-decoration-color: #808000; font-weight: bold\">scene</span>s, you might consider                    \n",
       "                             disabling caching with --disable_caching to                     \n",
       "                             potentially speed up the rendering process.                     \n",
       "</pre>\n"
      ],
      "text/plain": [
       "\u001b[2;36m[03/19/22 14:34:21]\u001b[0m\u001b[2;36m \u001b[0m\u001b[31mWARNING \u001b[0m It looks like the \u001b[1;33mscene\u001b[0m contains a lot of         \u001b]8;id=700450;file://D:\\Python39\\lib\\site-packages\\manim\\utils\\hashing.py\u001b\\\u001b[2mhashing.py\u001b[0m\u001b]8;;\u001b\\\u001b[2m:\u001b[0m\u001b]8;id=820783;file://D:\\Python39\\lib\\site-packages\\manim\\utils\\hashing.py#152\u001b\\\u001b[2m152\u001b[0m\u001b]8;;\u001b\\\n",
       "                             sub-mobjects. Caching is sometimes not suited to                \n",
       "                             handle such large \u001b[1;33mscene\u001b[0ms, you might consider                    \n",
       "                             disabling caching with --disable_caching to                     \n",
       "                             potentially speed up the rendering process.                     \n"
      ]
     },
     "metadata": {},
     "output_type": "display_data"
    },
    {
     "data": {
      "text/html": [
       "<pre style=\"white-space:pre;overflow-x:auto;line-height:normal;font-family:Menlo,'DejaVu Sans Mono',consolas,'Courier New',monospace\"><span style=\"color: #7fbfbf; text-decoration-color: #7fbfbf\">                    </span><span style=\"color: #800000; text-decoration-color: #800000\">WARNING </span> You can disable this warning by setting           <a href=\"file://D:\\Python39\\lib\\site-packages\\manim\\utils\\hashing.py\"><span style=\"color: #7f7f7f; text-decoration-color: #7f7f7f\">hashing.py</span></a><span style=\"color: #7f7f7f; text-decoration-color: #7f7f7f\">:</span><a href=\"file://D:\\Python39\\lib\\site-packages\\manim\\utils\\hashing.py#158\"><span style=\"color: #7f7f7f; text-decoration-color: #7f7f7f\">158</span></a>\n",
       "                             disable_caching_warning to <span style=\"color: #00ff00; text-decoration-color: #00ff00; font-style: italic\">True</span> in your config                  \n",
       "                             file.                                                           \n",
       "</pre>\n"
      ],
      "text/plain": [
       "\u001b[2;36m                   \u001b[0m\u001b[2;36m \u001b[0m\u001b[31mWARNING \u001b[0m You can disable this warning by setting           \u001b]8;id=464908;file://D:\\Python39\\lib\\site-packages\\manim\\utils\\hashing.py\u001b\\\u001b[2mhashing.py\u001b[0m\u001b]8;;\u001b\\\u001b[2m:\u001b[0m\u001b]8;id=294198;file://D:\\Python39\\lib\\site-packages\\manim\\utils\\hashing.py#158\u001b\\\u001b[2m158\u001b[0m\u001b]8;;\u001b\\\n",
       "                             disable_caching_warning to \u001b[3;92mTrue\u001b[0m in your config                  \n",
       "                             file.                                                           \n"
      ]
     },
     "metadata": {},
     "output_type": "display_data"
    },
    {
     "name": "stderr",
     "output_type": "stream",
     "text": [
      "                                                         \r"
     ]
    },
    {
     "data": {
      "text/html": [
       "<pre style=\"white-space:pre;overflow-x:auto;line-height:normal;font-family:Menlo,'DejaVu Sans Mono',consolas,'Courier New',monospace\"><span style=\"color: #7fbfbf; text-decoration-color: #7fbfbf\">[03/19/22 14:34:39] </span><span style=\"color: #008000; text-decoration-color: #008000\">INFO    </span> Animation <span style=\"color: #008000; text-decoration-color: #008000\">10</span> : Partial movie file       <a href=\"file://D:\\Python39\\lib\\site-packages\\manim\\scene\\scene_file_writer.py\"><span style=\"color: #7f7f7f; text-decoration-color: #7f7f7f\">scene_file_writer.py</span></a><span style=\"color: #7f7f7f; text-decoration-color: #7f7f7f\">:</span><a href=\"file://D:\\Python39\\lib\\site-packages\\manim\\scene\\scene_file_writer.py#514\"><span style=\"color: #7f7f7f; text-decoration-color: #7f7f7f\">514</span></a>\n",
       "                             written in                                                      \n",
       "                             <span style=\"color: #008000; text-decoration-color: #008000\">'D:\\Programming\\Python\\jupyter </span>                                 \n",
       "                             <span style=\"color: #008000; text-decoration-color: #008000\">notebooks\\media\\videos\\jupyter notebook</span>                         \n",
       "                             <span style=\"color: #008000; text-decoration-color: #008000\">s\\480p15\\partial_movie_files\\MandelScen</span>                         \n",
       "                             <span style=\"color: #008000; text-decoration-color: #008000\">ePOPE2\\2201830969_2890581177_1240453128</span>                         \n",
       "                             <span style=\"color: #008000; text-decoration-color: #008000\">.mp4'</span>                                                           \n",
       "</pre>\n"
      ],
      "text/plain": [
       "\u001b[2;36m[03/19/22 14:34:39]\u001b[0m\u001b[2;36m \u001b[0m\u001b[32mINFO    \u001b[0m Animation \u001b[32m10\u001b[0m : Partial movie file       \u001b]8;id=808986;file://D:\\Python39\\lib\\site-packages\\manim\\scene\\scene_file_writer.py\u001b\\\u001b[2mscene_file_writer.py\u001b[0m\u001b]8;;\u001b\\\u001b[2m:\u001b[0m\u001b]8;id=985078;file://D:\\Python39\\lib\\site-packages\\manim\\scene\\scene_file_writer.py#514\u001b\\\u001b[2m514\u001b[0m\u001b]8;;\u001b\\\n",
       "                             written in                                                      \n",
       "                             \u001b[32m'D:\\Programming\\Python\\jupyter \u001b[0m                                 \n",
       "                             \u001b[32mnotebooks\\media\\videos\\jupyter notebook\u001b[0m                         \n",
       "                             \u001b[32ms\\480p15\\partial_movie_files\\MandelScen\u001b[0m                         \n",
       "                             \u001b[32mePOPE2\\2201830969_2890581177_1240453128\u001b[0m                         \n",
       "                             \u001b[32m.mp4'\u001b[0m                                                           \n"
      ]
     },
     "metadata": {},
     "output_type": "display_data"
    },
    {
     "data": {
      "text/html": [
       "<pre style=\"white-space:pre;overflow-x:auto;line-height:normal;font-family:Menlo,'DejaVu Sans Mono',consolas,'Courier New',monospace\"><span style=\"color: #7fbfbf; text-decoration-color: #7fbfbf\">[03/19/22 14:35:06] </span><span style=\"color: #800000; text-decoration-color: #800000\">WARNING </span> It looks like the <span style=\"color: #808000; text-decoration-color: #808000; font-weight: bold\">scene</span> contains a lot of         <a href=\"file://D:\\Python39\\lib\\site-packages\\manim\\utils\\hashing.py\"><span style=\"color: #7f7f7f; text-decoration-color: #7f7f7f\">hashing.py</span></a><span style=\"color: #7f7f7f; text-decoration-color: #7f7f7f\">:</span><a href=\"file://D:\\Python39\\lib\\site-packages\\manim\\utils\\hashing.py#152\"><span style=\"color: #7f7f7f; text-decoration-color: #7f7f7f\">152</span></a>\n",
       "                             sub-mobjects. Caching is sometimes not suited to                \n",
       "                             handle such large <span style=\"color: #808000; text-decoration-color: #808000; font-weight: bold\">scene</span>s, you might consider                    \n",
       "                             disabling caching with --disable_caching to                     \n",
       "                             potentially speed up the rendering process.                     \n",
       "</pre>\n"
      ],
      "text/plain": [
       "\u001b[2;36m[03/19/22 14:35:06]\u001b[0m\u001b[2;36m \u001b[0m\u001b[31mWARNING \u001b[0m It looks like the \u001b[1;33mscene\u001b[0m contains a lot of         \u001b]8;id=632405;file://D:\\Python39\\lib\\site-packages\\manim\\utils\\hashing.py\u001b\\\u001b[2mhashing.py\u001b[0m\u001b]8;;\u001b\\\u001b[2m:\u001b[0m\u001b]8;id=50184;file://D:\\Python39\\lib\\site-packages\\manim\\utils\\hashing.py#152\u001b\\\u001b[2m152\u001b[0m\u001b]8;;\u001b\\\n",
       "                             sub-mobjects. Caching is sometimes not suited to                \n",
       "                             handle such large \u001b[1;33mscene\u001b[0ms, you might consider                    \n",
       "                             disabling caching with --disable_caching to                     \n",
       "                             potentially speed up the rendering process.                     \n"
      ]
     },
     "metadata": {},
     "output_type": "display_data"
    },
    {
     "data": {
      "text/html": [
       "<pre style=\"white-space:pre;overflow-x:auto;line-height:normal;font-family:Menlo,'DejaVu Sans Mono',consolas,'Courier New',monospace\"><span style=\"color: #7fbfbf; text-decoration-color: #7fbfbf\">                    </span><span style=\"color: #800000; text-decoration-color: #800000\">WARNING </span> You can disable this warning by setting           <a href=\"file://D:\\Python39\\lib\\site-packages\\manim\\utils\\hashing.py\"><span style=\"color: #7f7f7f; text-decoration-color: #7f7f7f\">hashing.py</span></a><span style=\"color: #7f7f7f; text-decoration-color: #7f7f7f\">:</span><a href=\"file://D:\\Python39\\lib\\site-packages\\manim\\utils\\hashing.py#158\"><span style=\"color: #7f7f7f; text-decoration-color: #7f7f7f\">158</span></a>\n",
       "                             disable_caching_warning to <span style=\"color: #00ff00; text-decoration-color: #00ff00; font-style: italic\">True</span> in your config                  \n",
       "                             file.                                                           \n",
       "</pre>\n"
      ],
      "text/plain": [
       "\u001b[2;36m                   \u001b[0m\u001b[2;36m \u001b[0m\u001b[31mWARNING \u001b[0m You can disable this warning by setting           \u001b]8;id=350205;file://D:\\Python39\\lib\\site-packages\\manim\\utils\\hashing.py\u001b\\\u001b[2mhashing.py\u001b[0m\u001b]8;;\u001b\\\u001b[2m:\u001b[0m\u001b]8;id=552794;file://D:\\Python39\\lib\\site-packages\\manim\\utils\\hashing.py#158\u001b\\\u001b[2m158\u001b[0m\u001b]8;;\u001b\\\n",
       "                             disable_caching_warning to \u001b[3;92mTrue\u001b[0m in your config                  \n",
       "                             file.                                                           \n"
      ]
     },
     "metadata": {},
     "output_type": "display_data"
    },
    {
     "name": "stderr",
     "output_type": "stream",
     "text": [
      "                                                         \r"
     ]
    },
    {
     "data": {
      "text/html": [
       "<pre style=\"white-space:pre;overflow-x:auto;line-height:normal;font-family:Menlo,'DejaVu Sans Mono',consolas,'Courier New',monospace\"><span style=\"color: #7fbfbf; text-decoration-color: #7fbfbf\">[03/19/22 14:35:21] </span><span style=\"color: #008000; text-decoration-color: #008000\">INFO    </span> Animation <span style=\"color: #008000; text-decoration-color: #008000\">11</span> : Partial movie file       <a href=\"file://D:\\Python39\\lib\\site-packages\\manim\\scene\\scene_file_writer.py\"><span style=\"color: #7f7f7f; text-decoration-color: #7f7f7f\">scene_file_writer.py</span></a><span style=\"color: #7f7f7f; text-decoration-color: #7f7f7f\">:</span><a href=\"file://D:\\Python39\\lib\\site-packages\\manim\\scene\\scene_file_writer.py#514\"><span style=\"color: #7f7f7f; text-decoration-color: #7f7f7f\">514</span></a>\n",
       "                             written in                                                      \n",
       "                             <span style=\"color: #008000; text-decoration-color: #008000\">'D:\\Programming\\Python\\jupyter </span>                                 \n",
       "                             <span style=\"color: #008000; text-decoration-color: #008000\">notebooks\\media\\videos\\jupyter notebook</span>                         \n",
       "                             <span style=\"color: #008000; text-decoration-color: #008000\">s\\480p15\\partial_movie_files\\MandelScen</span>                         \n",
       "                             <span style=\"color: #008000; text-decoration-color: #008000\">ePOPE2\\2201830969_3057282464_1240453128</span>                         \n",
       "                             <span style=\"color: #008000; text-decoration-color: #008000\">.mp4'</span>                                                           \n",
       "</pre>\n"
      ],
      "text/plain": [
       "\u001b[2;36m[03/19/22 14:35:21]\u001b[0m\u001b[2;36m \u001b[0m\u001b[32mINFO    \u001b[0m Animation \u001b[32m11\u001b[0m : Partial movie file       \u001b]8;id=896502;file://D:\\Python39\\lib\\site-packages\\manim\\scene\\scene_file_writer.py\u001b\\\u001b[2mscene_file_writer.py\u001b[0m\u001b]8;;\u001b\\\u001b[2m:\u001b[0m\u001b]8;id=461908;file://D:\\Python39\\lib\\site-packages\\manim\\scene\\scene_file_writer.py#514\u001b\\\u001b[2m514\u001b[0m\u001b]8;;\u001b\\\n",
       "                             written in                                                      \n",
       "                             \u001b[32m'D:\\Programming\\Python\\jupyter \u001b[0m                                 \n",
       "                             \u001b[32mnotebooks\\media\\videos\\jupyter notebook\u001b[0m                         \n",
       "                             \u001b[32ms\\480p15\\partial_movie_files\\MandelScen\u001b[0m                         \n",
       "                             \u001b[32mePOPE2\\2201830969_3057282464_1240453128\u001b[0m                         \n",
       "                             \u001b[32m.mp4'\u001b[0m                                                           \n"
      ]
     },
     "metadata": {},
     "output_type": "display_data"
    },
    {
     "data": {
      "text/html": [
       "<pre style=\"white-space:pre;overflow-x:auto;line-height:normal;font-family:Menlo,'DejaVu Sans Mono',consolas,'Courier New',monospace\"><span style=\"color: #7fbfbf; text-decoration-color: #7fbfbf\">[03/19/22 14:35:39] </span><span style=\"color: #800000; text-decoration-color: #800000\">WARNING </span> It looks like the <span style=\"color: #808000; text-decoration-color: #808000; font-weight: bold\">scene</span> contains a lot of         <a href=\"file://D:\\Python39\\lib\\site-packages\\manim\\utils\\hashing.py\"><span style=\"color: #7f7f7f; text-decoration-color: #7f7f7f\">hashing.py</span></a><span style=\"color: #7f7f7f; text-decoration-color: #7f7f7f\">:</span><a href=\"file://D:\\Python39\\lib\\site-packages\\manim\\utils\\hashing.py#152\"><span style=\"color: #7f7f7f; text-decoration-color: #7f7f7f\">152</span></a>\n",
       "                             sub-mobjects. Caching is sometimes not suited to                \n",
       "                             handle such large <span style=\"color: #808000; text-decoration-color: #808000; font-weight: bold\">scene</span>s, you might consider                    \n",
       "                             disabling caching with --disable_caching to                     \n",
       "                             potentially speed up the rendering process.                     \n",
       "</pre>\n"
      ],
      "text/plain": [
       "\u001b[2;36m[03/19/22 14:35:39]\u001b[0m\u001b[2;36m \u001b[0m\u001b[31mWARNING \u001b[0m It looks like the \u001b[1;33mscene\u001b[0m contains a lot of         \u001b]8;id=237872;file://D:\\Python39\\lib\\site-packages\\manim\\utils\\hashing.py\u001b\\\u001b[2mhashing.py\u001b[0m\u001b]8;;\u001b\\\u001b[2m:\u001b[0m\u001b]8;id=536211;file://D:\\Python39\\lib\\site-packages\\manim\\utils\\hashing.py#152\u001b\\\u001b[2m152\u001b[0m\u001b]8;;\u001b\\\n",
       "                             sub-mobjects. Caching is sometimes not suited to                \n",
       "                             handle such large \u001b[1;33mscene\u001b[0ms, you might consider                    \n",
       "                             disabling caching with --disable_caching to                     \n",
       "                             potentially speed up the rendering process.                     \n"
      ]
     },
     "metadata": {},
     "output_type": "display_data"
    },
    {
     "data": {
      "text/html": [
       "<pre style=\"white-space:pre;overflow-x:auto;line-height:normal;font-family:Menlo,'DejaVu Sans Mono',consolas,'Courier New',monospace\"><span style=\"color: #7fbfbf; text-decoration-color: #7fbfbf\">                    </span><span style=\"color: #800000; text-decoration-color: #800000\">WARNING </span> You can disable this warning by setting           <a href=\"file://D:\\Python39\\lib\\site-packages\\manim\\utils\\hashing.py\"><span style=\"color: #7f7f7f; text-decoration-color: #7f7f7f\">hashing.py</span></a><span style=\"color: #7f7f7f; text-decoration-color: #7f7f7f\">:</span><a href=\"file://D:\\Python39\\lib\\site-packages\\manim\\utils\\hashing.py#158\"><span style=\"color: #7f7f7f; text-decoration-color: #7f7f7f\">158</span></a>\n",
       "                             disable_caching_warning to <span style=\"color: #00ff00; text-decoration-color: #00ff00; font-style: italic\">True</span> in your config                  \n",
       "                             file.                                                           \n",
       "</pre>\n"
      ],
      "text/plain": [
       "\u001b[2;36m                   \u001b[0m\u001b[2;36m \u001b[0m\u001b[31mWARNING \u001b[0m You can disable this warning by setting           \u001b]8;id=114683;file://D:\\Python39\\lib\\site-packages\\manim\\utils\\hashing.py\u001b\\\u001b[2mhashing.py\u001b[0m\u001b]8;;\u001b\\\u001b[2m:\u001b[0m\u001b]8;id=543915;file://D:\\Python39\\lib\\site-packages\\manim\\utils\\hashing.py#158\u001b\\\u001b[2m158\u001b[0m\u001b]8;;\u001b\\\n",
       "                             disable_caching_warning to \u001b[3;92mTrue\u001b[0m in your config                  \n",
       "                             file.                                                           \n"
      ]
     },
     "metadata": {},
     "output_type": "display_data"
    },
    {
     "name": "stderr",
     "output_type": "stream",
     "text": [
      "                                                         \r"
     ]
    },
    {
     "data": {
      "text/html": [
       "<pre style=\"white-space:pre;overflow-x:auto;line-height:normal;font-family:Menlo,'DejaVu Sans Mono',consolas,'Courier New',monospace\"><span style=\"color: #7fbfbf; text-decoration-color: #7fbfbf\">[03/19/22 14:35:56] </span><span style=\"color: #008000; text-decoration-color: #008000\">INFO    </span> Animation <span style=\"color: #008000; text-decoration-color: #008000\">12</span> : Partial movie file       <a href=\"file://D:\\Python39\\lib\\site-packages\\manim\\scene\\scene_file_writer.py\"><span style=\"color: #7f7f7f; text-decoration-color: #7f7f7f\">scene_file_writer.py</span></a><span style=\"color: #7f7f7f; text-decoration-color: #7f7f7f\">:</span><a href=\"file://D:\\Python39\\lib\\site-packages\\manim\\scene\\scene_file_writer.py#514\"><span style=\"color: #7f7f7f; text-decoration-color: #7f7f7f\">514</span></a>\n",
       "                             written in                                                      \n",
       "                             <span style=\"color: #008000; text-decoration-color: #008000\">'D:\\Programming\\Python\\jupyter </span>                                 \n",
       "                             <span style=\"color: #008000; text-decoration-color: #008000\">notebooks\\media\\videos\\jupyter notebook</span>                         \n",
       "                             <span style=\"color: #008000; text-decoration-color: #008000\">s\\480p15\\partial_movie_files\\MandelScen</span>                         \n",
       "                             <span style=\"color: #008000; text-decoration-color: #008000\">ePOPE2\\2201830969_1404622754_1240453128</span>                         \n",
       "                             <span style=\"color: #008000; text-decoration-color: #008000\">.mp4'</span>                                                           \n",
       "</pre>\n"
      ],
      "text/plain": [
       "\u001b[2;36m[03/19/22 14:35:56]\u001b[0m\u001b[2;36m \u001b[0m\u001b[32mINFO    \u001b[0m Animation \u001b[32m12\u001b[0m : Partial movie file       \u001b]8;id=328082;file://D:\\Python39\\lib\\site-packages\\manim\\scene\\scene_file_writer.py\u001b\\\u001b[2mscene_file_writer.py\u001b[0m\u001b]8;;\u001b\\\u001b[2m:\u001b[0m\u001b]8;id=971835;file://D:\\Python39\\lib\\site-packages\\manim\\scene\\scene_file_writer.py#514\u001b\\\u001b[2m514\u001b[0m\u001b]8;;\u001b\\\n",
       "                             written in                                                      \n",
       "                             \u001b[32m'D:\\Programming\\Python\\jupyter \u001b[0m                                 \n",
       "                             \u001b[32mnotebooks\\media\\videos\\jupyter notebook\u001b[0m                         \n",
       "                             \u001b[32ms\\480p15\\partial_movie_files\\MandelScen\u001b[0m                         \n",
       "                             \u001b[32mePOPE2\\2201830969_1404622754_1240453128\u001b[0m                         \n",
       "                             \u001b[32m.mp4'\u001b[0m                                                           \n"
      ]
     },
     "metadata": {},
     "output_type": "display_data"
    },
    {
     "data": {
      "text/html": [
       "<pre style=\"white-space:pre;overflow-x:auto;line-height:normal;font-family:Menlo,'DejaVu Sans Mono',consolas,'Courier New',monospace\"><span style=\"color: #7fbfbf; text-decoration-color: #7fbfbf\">[03/19/22 14:36:30] </span><span style=\"color: #800000; text-decoration-color: #800000\">WARNING </span> It looks like the <span style=\"color: #808000; text-decoration-color: #808000; font-weight: bold\">scene</span> contains a lot of         <a href=\"file://D:\\Python39\\lib\\site-packages\\manim\\utils\\hashing.py\"><span style=\"color: #7f7f7f; text-decoration-color: #7f7f7f\">hashing.py</span></a><span style=\"color: #7f7f7f; text-decoration-color: #7f7f7f\">:</span><a href=\"file://D:\\Python39\\lib\\site-packages\\manim\\utils\\hashing.py#152\"><span style=\"color: #7f7f7f; text-decoration-color: #7f7f7f\">152</span></a>\n",
       "                             sub-mobjects. Caching is sometimes not suited to                \n",
       "                             handle such large <span style=\"color: #808000; text-decoration-color: #808000; font-weight: bold\">scene</span>s, you might consider                    \n",
       "                             disabling caching with --disable_caching to                     \n",
       "                             potentially speed up the rendering process.                     \n",
       "</pre>\n"
      ],
      "text/plain": [
       "\u001b[2;36m[03/19/22 14:36:30]\u001b[0m\u001b[2;36m \u001b[0m\u001b[31mWARNING \u001b[0m It looks like the \u001b[1;33mscene\u001b[0m contains a lot of         \u001b]8;id=502829;file://D:\\Python39\\lib\\site-packages\\manim\\utils\\hashing.py\u001b\\\u001b[2mhashing.py\u001b[0m\u001b]8;;\u001b\\\u001b[2m:\u001b[0m\u001b]8;id=660326;file://D:\\Python39\\lib\\site-packages\\manim\\utils\\hashing.py#152\u001b\\\u001b[2m152\u001b[0m\u001b]8;;\u001b\\\n",
       "                             sub-mobjects. Caching is sometimes not suited to                \n",
       "                             handle such large \u001b[1;33mscene\u001b[0ms, you might consider                    \n",
       "                             disabling caching with --disable_caching to                     \n",
       "                             potentially speed up the rendering process.                     \n"
      ]
     },
     "metadata": {},
     "output_type": "display_data"
    },
    {
     "data": {
      "text/html": [
       "<pre style=\"white-space:pre;overflow-x:auto;line-height:normal;font-family:Menlo,'DejaVu Sans Mono',consolas,'Courier New',monospace\"><span style=\"color: #7fbfbf; text-decoration-color: #7fbfbf\">                    </span><span style=\"color: #800000; text-decoration-color: #800000\">WARNING </span> You can disable this warning by setting           <a href=\"file://D:\\Python39\\lib\\site-packages\\manim\\utils\\hashing.py\"><span style=\"color: #7f7f7f; text-decoration-color: #7f7f7f\">hashing.py</span></a><span style=\"color: #7f7f7f; text-decoration-color: #7f7f7f\">:</span><a href=\"file://D:\\Python39\\lib\\site-packages\\manim\\utils\\hashing.py#158\"><span style=\"color: #7f7f7f; text-decoration-color: #7f7f7f\">158</span></a>\n",
       "                             disable_caching_warning to <span style=\"color: #00ff00; text-decoration-color: #00ff00; font-style: italic\">True</span> in your config                  \n",
       "                             file.                                                           \n",
       "</pre>\n"
      ],
      "text/plain": [
       "\u001b[2;36m                   \u001b[0m\u001b[2;36m \u001b[0m\u001b[31mWARNING \u001b[0m You can disable this warning by setting           \u001b]8;id=758582;file://D:\\Python39\\lib\\site-packages\\manim\\utils\\hashing.py\u001b\\\u001b[2mhashing.py\u001b[0m\u001b]8;;\u001b\\\u001b[2m:\u001b[0m\u001b]8;id=97486;file://D:\\Python39\\lib\\site-packages\\manim\\utils\\hashing.py#158\u001b\\\u001b[2m158\u001b[0m\u001b]8;;\u001b\\\n",
       "                             disable_caching_warning to \u001b[3;92mTrue\u001b[0m in your config                  \n",
       "                             file.                                                           \n"
      ]
     },
     "metadata": {},
     "output_type": "display_data"
    },
    {
     "name": "stderr",
     "output_type": "stream",
     "text": [
      "                                                         \r"
     ]
    },
    {
     "data": {
      "text/html": [
       "<pre style=\"white-space:pre;overflow-x:auto;line-height:normal;font-family:Menlo,'DejaVu Sans Mono',consolas,'Courier New',monospace\"><span style=\"color: #7fbfbf; text-decoration-color: #7fbfbf\">[03/19/22 14:36:48] </span><span style=\"color: #008000; text-decoration-color: #008000\">INFO    </span> Animation <span style=\"color: #008000; text-decoration-color: #008000\">13</span> : Partial movie file       <a href=\"file://D:\\Python39\\lib\\site-packages\\manim\\scene\\scene_file_writer.py\"><span style=\"color: #7f7f7f; text-decoration-color: #7f7f7f\">scene_file_writer.py</span></a><span style=\"color: #7f7f7f; text-decoration-color: #7f7f7f\">:</span><a href=\"file://D:\\Python39\\lib\\site-packages\\manim\\scene\\scene_file_writer.py#514\"><span style=\"color: #7f7f7f; text-decoration-color: #7f7f7f\">514</span></a>\n",
       "                             written in                                                      \n",
       "                             <span style=\"color: #008000; text-decoration-color: #008000\">'D:\\Programming\\Python\\jupyter </span>                                 \n",
       "                             <span style=\"color: #008000; text-decoration-color: #008000\">notebooks\\media\\videos\\jupyter notebook</span>                         \n",
       "                             <span style=\"color: #008000; text-decoration-color: #008000\">s\\480p15\\partial_movie_files\\MandelScen</span>                         \n",
       "                             <span style=\"color: #008000; text-decoration-color: #008000\">ePOPE2\\2201830969_1566610887_1240453128</span>                         \n",
       "                             <span style=\"color: #008000; text-decoration-color: #008000\">.mp4'</span>                                                           \n",
       "</pre>\n"
      ],
      "text/plain": [
       "\u001b[2;36m[03/19/22 14:36:48]\u001b[0m\u001b[2;36m \u001b[0m\u001b[32mINFO    \u001b[0m Animation \u001b[32m13\u001b[0m : Partial movie file       \u001b]8;id=327754;file://D:\\Python39\\lib\\site-packages\\manim\\scene\\scene_file_writer.py\u001b\\\u001b[2mscene_file_writer.py\u001b[0m\u001b]8;;\u001b\\\u001b[2m:\u001b[0m\u001b]8;id=666668;file://D:\\Python39\\lib\\site-packages\\manim\\scene\\scene_file_writer.py#514\u001b\\\u001b[2m514\u001b[0m\u001b]8;;\u001b\\\n",
       "                             written in                                                      \n",
       "                             \u001b[32m'D:\\Programming\\Python\\jupyter \u001b[0m                                 \n",
       "                             \u001b[32mnotebooks\\media\\videos\\jupyter notebook\u001b[0m                         \n",
       "                             \u001b[32ms\\480p15\\partial_movie_files\\MandelScen\u001b[0m                         \n",
       "                             \u001b[32mePOPE2\\2201830969_1566610887_1240453128\u001b[0m                         \n",
       "                             \u001b[32m.mp4'\u001b[0m                                                           \n"
      ]
     },
     "metadata": {},
     "output_type": "display_data"
    },
    {
     "data": {
      "text/html": [
       "<pre style=\"white-space:pre;overflow-x:auto;line-height:normal;font-family:Menlo,'DejaVu Sans Mono',consolas,'Courier New',monospace\"><span style=\"color: #7fbfbf; text-decoration-color: #7fbfbf\">                    </span><span style=\"color: #008000; text-decoration-color: #008000\">INFO    </span> Combining to Movie file.                <a href=\"file://D:\\Python39\\lib\\site-packages\\manim\\scene\\scene_file_writer.py\"><span style=\"color: #7f7f7f; text-decoration-color: #7f7f7f\">scene_file_writer.py</span></a><span style=\"color: #7f7f7f; text-decoration-color: #7f7f7f\">:</span><a href=\"file://D:\\Python39\\lib\\site-packages\\manim\\scene\\scene_file_writer.py#608\"><span style=\"color: #7f7f7f; text-decoration-color: #7f7f7f\">608</span></a>\n",
       "</pre>\n"
      ],
      "text/plain": [
       "\u001b[2;36m                   \u001b[0m\u001b[2;36m \u001b[0m\u001b[32mINFO    \u001b[0m Combining to Movie file.                \u001b]8;id=973951;file://D:\\Python39\\lib\\site-packages\\manim\\scene\\scene_file_writer.py\u001b\\\u001b[2mscene_file_writer.py\u001b[0m\u001b]8;;\u001b\\\u001b[2m:\u001b[0m\u001b]8;id=52181;file://D:\\Python39\\lib\\site-packages\\manim\\scene\\scene_file_writer.py#608\u001b\\\u001b[2m608\u001b[0m\u001b]8;;\u001b\\\n"
      ]
     },
     "metadata": {},
     "output_type": "display_data"
    },
    {
     "data": {
      "text/html": [
       "<pre style=\"white-space:pre;overflow-x:auto;line-height:normal;font-family:Menlo,'DejaVu Sans Mono',consolas,'Courier New',monospace\"><span style=\"color: #7fbfbf; text-decoration-color: #7fbfbf\">                    </span><span style=\"color: #008000; text-decoration-color: #008000\">INFO    </span>                                         <a href=\"file://D:\\Python39\\lib\\site-packages\\manim\\scene\\scene_file_writer.py\"><span style=\"color: #7f7f7f; text-decoration-color: #7f7f7f\">scene_file_writer.py</span></a><span style=\"color: #7f7f7f; text-decoration-color: #7f7f7f\">:</span><a href=\"file://D:\\Python39\\lib\\site-packages\\manim\\scene\\scene_file_writer.py#729\"><span style=\"color: #7f7f7f; text-decoration-color: #7f7f7f\">729</span></a>\n",
       "                             <span style=\"color: #808000; text-decoration-color: #808000; font-weight: bold\">File</span> ready at                                                   \n",
       "                             <span style=\"color: #008000; text-decoration-color: #008000\">'D:\\Programming\\Python\\jupyter </span>                                 \n",
       "                             <span style=\"color: #008000; text-decoration-color: #008000\">notebooks\\media\\videos\\jupyter </span>                                 \n",
       "                             <span style=\"color: #008000; text-decoration-color: #008000\">notebooks\\480p15\\MandelScenePOPE2.mp4'</span>                          \n",
       "                                                                                             \n",
       "</pre>\n"
      ],
      "text/plain": [
       "\u001b[2;36m                   \u001b[0m\u001b[2;36m \u001b[0m\u001b[32mINFO    \u001b[0m                                         \u001b]8;id=661178;file://D:\\Python39\\lib\\site-packages\\manim\\scene\\scene_file_writer.py\u001b\\\u001b[2mscene_file_writer.py\u001b[0m\u001b]8;;\u001b\\\u001b[2m:\u001b[0m\u001b]8;id=528201;file://D:\\Python39\\lib\\site-packages\\manim\\scene\\scene_file_writer.py#729\u001b\\\u001b[2m729\u001b[0m\u001b]8;;\u001b\\\n",
       "                             \u001b[1;33mFile\u001b[0m ready at                                                   \n",
       "                             \u001b[32m'D:\\Programming\\Python\\jupyter \u001b[0m                                 \n",
       "                             \u001b[32mnotebooks\\media\\videos\\jupyter \u001b[0m                                 \n",
       "                             \u001b[32mnotebooks\\480p15\\MandelScenePOPE2.mp4'\u001b[0m                          \n",
       "                                                                                             \n"
      ]
     },
     "metadata": {},
     "output_type": "display_data"
    },
    {
     "data": {
      "text/html": [
       "<pre style=\"white-space:pre;overflow-x:auto;line-height:normal;font-family:Menlo,'DejaVu Sans Mono',consolas,'Courier New',monospace\"><span style=\"color: #7fbfbf; text-decoration-color: #7fbfbf\">                    </span><span style=\"color: #008000; text-decoration-color: #008000\">INFO    </span> The partial movie directory is full <span style=\"font-weight: bold\">(</span>&gt;  <a href=\"file://D:\\Python39\\lib\\site-packages\\manim\\scene\\scene_file_writer.py\"><span style=\"color: #7f7f7f; text-decoration-color: #7f7f7f\">scene_file_writer.py</span></a><span style=\"color: #7f7f7f; text-decoration-color: #7f7f7f\">:</span><a href=\"file://D:\\Python39\\lib\\site-packages\\manim\\scene\\scene_file_writer.py#700\"><span style=\"color: #7f7f7f; text-decoration-color: #7f7f7f\">700</span></a>\n",
       "                             <span style=\"color: #008000; text-decoration-color: #008000\">100</span> files<span style=\"font-weight: bold\">)</span>. Therefore, manim has                                \n",
       "                             removed the <span style=\"color: #008000; text-decoration-color: #008000\">15</span> oldest <span style=\"color: #800080; text-decoration-color: #800080; font-weight: bold\">file</span><span style=\"font-weight: bold\">(</span>s<span style=\"font-weight: bold\">)</span>. You can                          \n",
       "                             change this behaviour by changing                               \n",
       "                             max_files_cached in config.                                     \n",
       "</pre>\n"
      ],
      "text/plain": [
       "\u001b[2;36m                   \u001b[0m\u001b[2;36m \u001b[0m\u001b[32mINFO    \u001b[0m The partial movie directory is full \u001b[1m(\u001b[0m>  \u001b]8;id=65862;file://D:\\Python39\\lib\\site-packages\\manim\\scene\\scene_file_writer.py\u001b\\\u001b[2mscene_file_writer.py\u001b[0m\u001b]8;;\u001b\\\u001b[2m:\u001b[0m\u001b]8;id=241263;file://D:\\Python39\\lib\\site-packages\\manim\\scene\\scene_file_writer.py#700\u001b\\\u001b[2m700\u001b[0m\u001b]8;;\u001b\\\n",
       "                             \u001b[32m100\u001b[0m files\u001b[1m)\u001b[0m. Therefore, manim has                                \n",
       "                             removed the \u001b[32m15\u001b[0m oldest \u001b[1;35mfile\u001b[0m\u001b[1m(\u001b[0ms\u001b[1m)\u001b[0m. You can                          \n",
       "                             change this behaviour by changing                               \n",
       "                             max_files_cached in config.                                     \n"
      ]
     },
     "metadata": {},
     "output_type": "display_data"
    },
    {
     "data": {
      "text/html": [
       "<pre style=\"white-space:pre;overflow-x:auto;line-height:normal;font-family:Menlo,'DejaVu Sans Mono',consolas,'Courier New',monospace\"><span style=\"color: #7fbfbf; text-decoration-color: #7fbfbf\">                    </span><span style=\"color: #008000; text-decoration-color: #008000\">INFO    </span> <span style=\"color: #808000; text-decoration-color: #808000; font-weight: bold\">Rendered</span> MandelScenePOPE2                           <a href=\"file://D:\\Python39\\lib\\site-packages\\manim\\scene\\scene.py\"><span style=\"color: #7f7f7f; text-decoration-color: #7f7f7f\">scene.py</span></a><span style=\"color: #7f7f7f; text-decoration-color: #7f7f7f\">:</span><a href=\"file://D:\\Python39\\lib\\site-packages\\manim\\scene\\scene.py#237\"><span style=\"color: #7f7f7f; text-decoration-color: #7f7f7f\">237</span></a>\n",
       "                             <span style=\"color: #808000; text-decoration-color: #808000; font-weight: bold\">Played</span> <span style=\"color: #008000; text-decoration-color: #008000\">14</span> <span style=\"color: #808000; text-decoration-color: #808000; font-weight: bold\">animations</span>                                            \n",
       "</pre>\n"
      ],
      "text/plain": [
       "\u001b[2;36m                   \u001b[0m\u001b[2;36m \u001b[0m\u001b[32mINFO    \u001b[0m \u001b[1;33mRendered\u001b[0m MandelScenePOPE2                           \u001b]8;id=252490;file://D:\\Python39\\lib\\site-packages\\manim\\scene\\scene.py\u001b\\\u001b[2mscene.py\u001b[0m\u001b]8;;\u001b\\\u001b[2m:\u001b[0m\u001b]8;id=88299;file://D:\\Python39\\lib\\site-packages\\manim\\scene\\scene.py#237\u001b\\\u001b[2m237\u001b[0m\u001b]8;;\u001b\\\n",
       "                             \u001b[1;33mPlayed\u001b[0m \u001b[32m14\u001b[0m \u001b[1;33manimations\u001b[0m                                            \n"
      ]
     },
     "metadata": {},
     "output_type": "display_data"
    },
    {
     "data": {
      "text/html": [
       "<video src=\"media\\jupyter\\MandelScenePOPE2@2022-03-19@14-36-48.mp4\" controls autoplay loop style=\"max-width: 60%;\"  >\n",
       "      Your browser does not support the <code>video</code> element.\n",
       "    </video>"
      ],
      "text/plain": [
       "<IPython.core.display.Video object>"
      ]
     },
     "metadata": {},
     "output_type": "display_data"
    }
   ],
   "source": [
    "%%manim MandelScenePOPE2\n",
    "from IPython.display import clear_output, display\n",
    "\n",
    "\n",
    "class MandelScenePOPE2(Scene):\n",
    "    def construct(self):\n",
    "        \n",
    "        p0=papies.dots[0]\n",
    "        self.play(Write(p0))\n",
    "        for p in papies.dots[1:]:\n",
    "            self.play(Transform(p0,p.center()), rate_function=linear)\n",
    "\n",
    "        for _ in range(3+1):\n",
    "            self.play(p0.animate.apply_function(lambda p: p+np.array([p[0]*p[0]-p[1]*p[1],2*p[0]*p[1],0,])), rate_function=linear)\n",
    "            self.play(p0.animate.apply_function(circInv2d), rate_function=linear)\n",
    "        \n",
    "class MandelScenePOPE(Scene):\n",
    "    def construct(self):\n",
    "        lore = ImageMobject('papaj.png')\n",
    "#         self.add(lore)\n",
    "#         self.play(FadeIn(lore))\n",
    "#         self.play(lore.animate.apply_function(lambda p: p+np.array([p[0]*p[0]-p[1]*p[1],2*p[0]*p[1],0,])), rate_function=linear)\n",
    "        dots = pixelize(lore.get_pixel_array())\n",
    "        self.play(Create(dots))\n",
    "        \n",
    "        for _ in range(3+1):\n",
    "            self.play(dots.animate.apply_function(lambda p: p+np.array([p[0]*p[0]-p[1]*p[1],2*p[0]*p[1],0,])), rate_function=linear)\n",
    "            self.play(dots.animate.apply_function(circInv2d), rate_function=linear)\n",
    "#             self.play(dots.animate.apply_function_to_submobject_positions(circInv2d), rate_function=linear)\n",
    "#         self.play(dots.animate.scale_to_fit_height(HEIGHT))\n",
    "        \n",
    "        self.wait()\n",
    "#         dots = VGroup(*[Dot(color=rgba_to_color(rgba)) for rgba in flatlist]).arrange_in_grid().center().scale_to_fit_height(HEIGHT)\n",
    "#         print(len(flatlist))\n",
    "#         self.wait()\n"
   ]
  },
  {
   "cell_type": "code",
   "execution_count": null,
   "id": "e8eefcaa-b5fa-40cf-9bb9-c09c1974f364",
   "metadata": {
    "tags": []
   },
   "outputs": [],
   "source": [
    "%%manim MandelScene\n",
    "\n",
    "class MandelScene(Scene):\n",
    "    def construct(self):\n",
    "#         grid = NumberPlane()\n",
    "        c0=Circle(radius=HEIGHT*.5, color=WHITE)\n",
    "        \n",
    "#         grid.prepare_for_nonlinear_transform()\n",
    "\n",
    "        dots = VGroup(*[Circle(color=WHITE) for _ in range(2**8)]).arrange_in_grid().scale_to_fit_width(8*2) #.scale_to_fit_height(4*2)\n",
    "        self.play(Create(dots))\n",
    "        \n",
    "        for _ in range(8):\n",
    "            t=Text(f'{_}')\n",
    "            self.add(t)\n",
    "            self.play(dots.animate.apply_function(lambda p: p+np.array([p[0]*p[0]-p[1]*p[1],2*p[0]*p[1],0,])), rate_function=linear)\n",
    "            if(_<2):\n",
    "                self.play(dots.animate.apply_function(circInv2d), rate_function=linear)\n",
    "                self.play(dots.animate.apply_function_to_submobject_positions(circInv2d), rate_function=linear)\n",
    "            self.remove(t)\n",
    "        self.play(FadeOut(dots))\n",
    "\n",
    "#             self.play(dots.animate.apply_function(lambda p: p+np.array([p[0]*p[0]-p[1]*p[1],2*p[0]*p[1],0,])), rate_function=linear)"
   ]
  },
  {
   "cell_type": "code",
   "execution_count": 105,
   "id": "51df3415-ec28-40ae-b78b-65e385612354",
   "metadata": {
    "tags": []
   },
   "outputs": [
    {
     "name": "stderr",
     "output_type": "stream",
     "text": [
      "                                                                                                            \r"
     ]
    },
    {
     "data": {
      "text/html": [
       "<pre style=\"white-space:pre;overflow-x:auto;line-height:normal;font-family:Menlo,'DejaVu Sans Mono',consolas,'Courier New',monospace\"><span style=\"color: #7fbfbf; text-decoration-color: #7fbfbf\">[03/17/22 11:18:08] </span><span style=\"color: #008000; text-decoration-color: #008000\">INFO    </span> Animation <span style=\"color: #008000; text-decoration-color: #008000\">0</span> : Partial movie file        <a href=\"file://D:\\Python39\\lib\\site-packages\\manim\\scene\\scene_file_writer.py\"><span style=\"color: #7f7f7f; text-decoration-color: #7f7f7f\">scene_file_writer.py</span></a><span style=\"color: #7f7f7f; text-decoration-color: #7f7f7f\">:</span><a href=\"file://D:\\Python39\\lib\\site-packages\\manim\\scene\\scene_file_writer.py#514\"><span style=\"color: #7f7f7f; text-decoration-color: #7f7f7f\">514</span></a>\n",
       "                             written in                                                      \n",
       "                             <span style=\"color: #008000; text-decoration-color: #008000\">'D:\\Programming\\Python\\jupyter </span>                                 \n",
       "                             <span style=\"color: #008000; text-decoration-color: #008000\">notebooks\\media\\videos\\jupyter notebook</span>                         \n",
       "                             <span style=\"color: #008000; text-decoration-color: #008000\">s\\480p15\\partial_movie_files\\MandelScen</span>                         \n",
       "                             <span style=\"color: #008000; text-decoration-color: #008000\">e2\\3163782288_295530597_3749642282.mp4'</span>                         \n",
       "</pre>\n"
      ],
      "text/plain": [
       "\u001b[2;36m[03/17/22 11:18:08]\u001b[0m\u001b[2;36m \u001b[0m\u001b[32mINFO    \u001b[0m Animation \u001b[32m0\u001b[0m : Partial movie file        \u001b]8;id=283432;file://D:\\Python39\\lib\\site-packages\\manim\\scene\\scene_file_writer.py\u001b\\\u001b[2mscene_file_writer.py\u001b[0m\u001b]8;;\u001b\\\u001b[2m:\u001b[0m\u001b]8;id=941225;file://D:\\Python39\\lib\\site-packages\\manim\\scene\\scene_file_writer.py#514\u001b\\\u001b[2m514\u001b[0m\u001b]8;;\u001b\\\n",
       "                             written in                                                      \n",
       "                             \u001b[32m'D:\\Programming\\Python\\jupyter \u001b[0m                                 \n",
       "                             \u001b[32mnotebooks\\media\\videos\\jupyter notebook\u001b[0m                         \n",
       "                             \u001b[32ms\\480p15\\partial_movie_files\\MandelScen\u001b[0m                         \n",
       "                             \u001b[32me2\\3163782288_295530597_3749642282.mp4'\u001b[0m                         \n"
      ]
     },
     "metadata": {},
     "output_type": "display_data"
    },
    {
     "data": {
      "text/html": [
       "<pre style=\"white-space:pre;overflow-x:auto;line-height:normal;font-family:Menlo,'DejaVu Sans Mono',consolas,'Courier New',monospace\"><span style=\"color: #7fbfbf; text-decoration-color: #7fbfbf\">[03/17/22 11:18:21] </span><span style=\"color: #008000; text-decoration-color: #008000\">INFO    </span> Animation <span style=\"color: #008000; text-decoration-color: #008000\">1</span> : Partial movie file        <a href=\"file://D:\\Python39\\lib\\site-packages\\manim\\scene\\scene_file_writer.py\"><span style=\"color: #7f7f7f; text-decoration-color: #7f7f7f\">scene_file_writer.py</span></a><span style=\"color: #7f7f7f; text-decoration-color: #7f7f7f\">:</span><a href=\"file://D:\\Python39\\lib\\site-packages\\manim\\scene\\scene_file_writer.py#514\"><span style=\"color: #7f7f7f; text-decoration-color: #7f7f7f\">514</span></a>\n",
       "                             written in                                                      \n",
       "                             <span style=\"color: #008000; text-decoration-color: #008000\">'D:\\Programming\\Python\\jupyter </span>                                 \n",
       "                             <span style=\"color: #008000; text-decoration-color: #008000\">notebooks\\media\\videos\\jupyter notebook</span>                         \n",
       "                             <span style=\"color: #008000; text-decoration-color: #008000\">s\\480p15\\partial_movie_files\\MandelScen</span>                         \n",
       "                             <span style=\"color: #008000; text-decoration-color: #008000\">e2\\2201830969_398514950_2524926622.mp4'</span>                         \n",
       "</pre>\n"
      ],
      "text/plain": [
       "\u001b[2;36m[03/17/22 11:18:21]\u001b[0m\u001b[2;36m \u001b[0m\u001b[32mINFO    \u001b[0m Animation \u001b[32m1\u001b[0m : Partial movie file        \u001b]8;id=198711;file://D:\\Python39\\lib\\site-packages\\manim\\scene\\scene_file_writer.py\u001b\\\u001b[2mscene_file_writer.py\u001b[0m\u001b]8;;\u001b\\\u001b[2m:\u001b[0m\u001b]8;id=131720;file://D:\\Python39\\lib\\site-packages\\manim\\scene\\scene_file_writer.py#514\u001b\\\u001b[2m514\u001b[0m\u001b]8;;\u001b\\\n",
       "                             written in                                                      \n",
       "                             \u001b[32m'D:\\Programming\\Python\\jupyter \u001b[0m                                 \n",
       "                             \u001b[32mnotebooks\\media\\videos\\jupyter notebook\u001b[0m                         \n",
       "                             \u001b[32ms\\480p15\\partial_movie_files\\MandelScen\u001b[0m                         \n",
       "                             \u001b[32me2\\2201830969_398514950_2524926622.mp4'\u001b[0m                         \n"
      ]
     },
     "metadata": {},
     "output_type": "display_data"
    },
    {
     "data": {
      "text/html": [
       "<pre style=\"white-space:pre;overflow-x:auto;line-height:normal;font-family:Menlo,'DejaVu Sans Mono',consolas,'Courier New',monospace\"><span style=\"color: #7fbfbf; text-decoration-color: #7fbfbf\">                    </span><span style=\"color: #008000; text-decoration-color: #008000\">INFO    </span> Combining to Movie file.                <a href=\"file://D:\\Python39\\lib\\site-packages\\manim\\scene\\scene_file_writer.py\"><span style=\"color: #7f7f7f; text-decoration-color: #7f7f7f\">scene_file_writer.py</span></a><span style=\"color: #7f7f7f; text-decoration-color: #7f7f7f\">:</span><a href=\"file://D:\\Python39\\lib\\site-packages\\manim\\scene\\scene_file_writer.py#608\"><span style=\"color: #7f7f7f; text-decoration-color: #7f7f7f\">608</span></a>\n",
       "</pre>\n"
      ],
      "text/plain": [
       "\u001b[2;36m                   \u001b[0m\u001b[2;36m \u001b[0m\u001b[32mINFO    \u001b[0m Combining to Movie file.                \u001b]8;id=346769;file://D:\\Python39\\lib\\site-packages\\manim\\scene\\scene_file_writer.py\u001b\\\u001b[2mscene_file_writer.py\u001b[0m\u001b]8;;\u001b\\\u001b[2m:\u001b[0m\u001b]8;id=949802;file://D:\\Python39\\lib\\site-packages\\manim\\scene\\scene_file_writer.py#608\u001b\\\u001b[2m608\u001b[0m\u001b]8;;\u001b\\\n"
      ]
     },
     "metadata": {},
     "output_type": "display_data"
    },
    {
     "data": {
      "text/html": [
       "<pre style=\"white-space:pre;overflow-x:auto;line-height:normal;font-family:Menlo,'DejaVu Sans Mono',consolas,'Courier New',monospace\"><span style=\"color: #7fbfbf; text-decoration-color: #7fbfbf\">                    </span><span style=\"color: #008000; text-decoration-color: #008000\">INFO    </span>                                         <a href=\"file://D:\\Python39\\lib\\site-packages\\manim\\scene\\scene_file_writer.py\"><span style=\"color: #7f7f7f; text-decoration-color: #7f7f7f\">scene_file_writer.py</span></a><span style=\"color: #7f7f7f; text-decoration-color: #7f7f7f\">:</span><a href=\"file://D:\\Python39\\lib\\site-packages\\manim\\scene\\scene_file_writer.py#729\"><span style=\"color: #7f7f7f; text-decoration-color: #7f7f7f\">729</span></a>\n",
       "                             <span style=\"color: #808000; text-decoration-color: #808000; font-weight: bold\">File</span> ready at                                                   \n",
       "                             <span style=\"color: #008000; text-decoration-color: #008000\">'D:\\Programming\\Python\\jupyter </span>                                 \n",
       "                             <span style=\"color: #008000; text-decoration-color: #008000\">notebooks\\media\\videos\\jupyter </span>                                 \n",
       "                             <span style=\"color: #008000; text-decoration-color: #008000\">notebooks\\480p15\\MandelScene2.mp4'</span>                              \n",
       "                                                                                             \n",
       "</pre>\n"
      ],
      "text/plain": [
       "\u001b[2;36m                   \u001b[0m\u001b[2;36m \u001b[0m\u001b[32mINFO    \u001b[0m                                         \u001b]8;id=570200;file://D:\\Python39\\lib\\site-packages\\manim\\scene\\scene_file_writer.py\u001b\\\u001b[2mscene_file_writer.py\u001b[0m\u001b]8;;\u001b\\\u001b[2m:\u001b[0m\u001b]8;id=739439;file://D:\\Python39\\lib\\site-packages\\manim\\scene\\scene_file_writer.py#729\u001b\\\u001b[2m729\u001b[0m\u001b]8;;\u001b\\\n",
       "                             \u001b[1;33mFile\u001b[0m ready at                                                   \n",
       "                             \u001b[32m'D:\\Programming\\Python\\jupyter \u001b[0m                                 \n",
       "                             \u001b[32mnotebooks\\media\\videos\\jupyter \u001b[0m                                 \n",
       "                             \u001b[32mnotebooks\\480p15\\MandelScene2.mp4'\u001b[0m                              \n",
       "                                                                                             \n"
      ]
     },
     "metadata": {},
     "output_type": "display_data"
    },
    {
     "data": {
      "text/html": [
       "<pre style=\"white-space:pre;overflow-x:auto;line-height:normal;font-family:Menlo,'DejaVu Sans Mono',consolas,'Courier New',monospace\"><span style=\"color: #7fbfbf; text-decoration-color: #7fbfbf\">                    </span><span style=\"color: #008000; text-decoration-color: #008000\">INFO    </span> <span style=\"color: #808000; text-decoration-color: #808000; font-weight: bold\">Rendered</span> MandelScene2                               <a href=\"file://D:\\Python39\\lib\\site-packages\\manim\\scene\\scene.py\"><span style=\"color: #7f7f7f; text-decoration-color: #7f7f7f\">scene.py</span></a><span style=\"color: #7f7f7f; text-decoration-color: #7f7f7f\">:</span><a href=\"file://D:\\Python39\\lib\\site-packages\\manim\\scene\\scene.py#237\"><span style=\"color: #7f7f7f; text-decoration-color: #7f7f7f\">237</span></a>\n",
       "                             <span style=\"color: #808000; text-decoration-color: #808000; font-weight: bold\">Played</span> <span style=\"color: #008000; text-decoration-color: #008000\">2</span> <span style=\"color: #808000; text-decoration-color: #808000; font-weight: bold\">animations</span>                                             \n",
       "</pre>\n"
      ],
      "text/plain": [
       "\u001b[2;36m                   \u001b[0m\u001b[2;36m \u001b[0m\u001b[32mINFO    \u001b[0m \u001b[1;33mRendered\u001b[0m MandelScene2                               \u001b]8;id=562780;file://D:\\Python39\\lib\\site-packages\\manim\\scene\\scene.py\u001b\\\u001b[2mscene.py\u001b[0m\u001b]8;;\u001b\\\u001b[2m:\u001b[0m\u001b]8;id=11262;file://D:\\Python39\\lib\\site-packages\\manim\\scene\\scene.py#237\u001b\\\u001b[2m237\u001b[0m\u001b]8;;\u001b\\\n",
       "                             \u001b[1;33mPlayed\u001b[0m \u001b[32m2\u001b[0m \u001b[1;33manimations\u001b[0m                                             \n"
      ]
     },
     "metadata": {},
     "output_type": "display_data"
    },
    {
     "data": {
      "text/html": [
       "<video src=\"media\\jupyter\\MandelScene2@2022-03-17@11-18-21.mp4\" controls autoplay loop style=\"max-width: 60%;\"  >\n",
       "      Your browser does not support the <code>video</code> element.\n",
       "    </video>"
      ],
      "text/plain": [
       "<IPython.core.display.Video object>"
      ]
     },
     "metadata": {},
     "output_type": "display_data"
    }
   ],
   "source": [
    "%%manim MandelScene2\n",
    "import numpy as np\n",
    " \n",
    "def get_poslist(m,n,iterations=100):\n",
    "\n",
    "    x = np.linspace(-2, 1, num=m).reshape((1, m))\n",
    "    y = np.linspace(-1, 1, num=n).reshape((n, 1))\n",
    "    C = np.tile(x, (n, 1)) + 1j * np.tile(y, (1, m))\n",
    "\n",
    "    Z = np.zeros((n, m), dtype=complex)\n",
    "    M = np.full((n, m), True, dtype=bool)\n",
    "    for i in range(iterations+1):\n",
    "        Z[M] = Z[M] * Z[M] + C[M]\n",
    "        M[np.abs(Z) > 2] = False\n",
    "\n",
    "    \n",
    "    return np.uint8(np.flipud(1 - M) * 255) \n",
    "\n",
    "class MandelScene2(Scene):\n",
    "    def construct(self):\n",
    "        size = ValueTracker(1)\n",
    "        m = int(size.get_value())\n",
    "        \n",
    "        poslist=get_poslist(m,m)\n",
    "        vg = VGroup(*[Dot(fill_opacity=item) for sublist in poslist for item in sublist]).arrange_in_grid().center().scale_to_fit_height(5*2)\n",
    "        \n",
    "        def vg_updater(mob):\n",
    "            m = int(size.get_value())\n",
    "            poslist=get_poslist(m,m,m**2)\n",
    "            vg = VGroup(*[Dot(fill_opacity=item) for sublist in poslist for item in sublist]).arrange_in_grid().center().scale_to_fit_height(5*2)\n",
    "            mob.become(vg)\n",
    "            \n",
    "        self.add(vg)\n",
    "        vg.add_updater(vg_updater)\n",
    "        self.play(size.animate.increment_value(50))\n",
    "        self.wait()\n",
    "\n",
    "# for row in np.uint8(np.flipud(1 - M) * 255):\n",
    "#     [Dot(fill_opacity=cell) for cell in row]"
   ]
  },
  {
   "cell_type": "code",
   "execution_count": 30,
   "id": "8e994565-afd3-432c-bd6f-dd675a585740",
   "metadata": {},
   "outputs": [
    {
     "data": {
      "text/html": [
       "<pre style=\"white-space:pre;overflow-x:auto;line-height:normal;font-family:Menlo,'DejaVu Sans Mono',consolas,'Courier New',monospace\"><span style=\"color: #7fbfbf; text-decoration-color: #7fbfbf\">[03/17/22 15:51:40] </span><span style=\"color: #008000; text-decoration-color: #008000\">INFO    </span> Animation <span style=\"color: #008000; text-decoration-color: #008000\">0</span> : Using cached data <span style=\"font-weight: bold\">(</span>hash :     <a href=\"file://D:\\Python39\\lib\\site-packages\\manim\\renderer\\cairo_renderer.py\"><span style=\"color: #7f7f7f; text-decoration-color: #7f7f7f\">cairo_renderer.py</span></a><span style=\"color: #7f7f7f; text-decoration-color: #7f7f7f\">:</span><a href=\"file://D:\\Python39\\lib\\site-packages\\manim\\renderer\\cairo_renderer.py#74\"><span style=\"color: #7f7f7f; text-decoration-color: #7f7f7f\">74</span></a>\n",
       "                             3163782288_3154710706_3860960886<span style=\"font-weight: bold\">)</span>                               \n",
       "</pre>\n"
      ],
      "text/plain": [
       "\u001b[2;36m[03/17/22 15:51:40]\u001b[0m\u001b[2;36m \u001b[0m\u001b[32mINFO    \u001b[0m Animation \u001b[32m0\u001b[0m : Using cached data \u001b[1m(\u001b[0mhash :     \u001b]8;id=947976;file://D:\\Python39\\lib\\site-packages\\manim\\renderer\\cairo_renderer.py\u001b\\\u001b[2mcairo_renderer.py\u001b[0m\u001b]8;;\u001b\\\u001b[2m:\u001b[0m\u001b]8;id=717329;file://D:\\Python39\\lib\\site-packages\\manim\\renderer\\cairo_renderer.py#74\u001b\\\u001b[2m74\u001b[0m\u001b]8;;\u001b\\\n",
       "                             3163782288_3154710706_3860960886\u001b[1m)\u001b[0m                               \n"
      ]
     },
     "metadata": {},
     "output_type": "display_data"
    },
    {
     "name": "stderr",
     "output_type": "stream",
     "text": [
      "                                                                                                            \r"
     ]
    },
    {
     "data": {
      "text/html": [
       "<pre style=\"white-space:pre;overflow-x:auto;line-height:normal;font-family:Menlo,'DejaVu Sans Mono',consolas,'Courier New',monospace\"><span style=\"color: #7fbfbf; text-decoration-color: #7fbfbf\">                    </span><span style=\"color: #008000; text-decoration-color: #008000\">INFO    </span> Animation <span style=\"color: #008000; text-decoration-color: #008000\">1</span> : Using cached data <span style=\"font-weight: bold\">(</span>hash :     <a href=\"file://D:\\Python39\\lib\\site-packages\\manim\\renderer\\cairo_renderer.py\"><span style=\"color: #7f7f7f; text-decoration-color: #7f7f7f\">cairo_renderer.py</span></a><span style=\"color: #7f7f7f; text-decoration-color: #7f7f7f\">:</span><a href=\"file://D:\\Python39\\lib\\site-packages\\manim\\renderer\\cairo_renderer.py#74\"><span style=\"color: #7f7f7f; text-decoration-color: #7f7f7f\">74</span></a>\n",
       "                             2201830969_2122846543_4032608842<span style=\"font-weight: bold\">)</span>                               \n",
       "</pre>\n"
      ],
      "text/plain": [
       "\u001b[2;36m                   \u001b[0m\u001b[2;36m \u001b[0m\u001b[32mINFO    \u001b[0m Animation \u001b[32m1\u001b[0m : Using cached data \u001b[1m(\u001b[0mhash :     \u001b]8;id=495112;file://D:\\Python39\\lib\\site-packages\\manim\\renderer\\cairo_renderer.py\u001b\\\u001b[2mcairo_renderer.py\u001b[0m\u001b]8;;\u001b\\\u001b[2m:\u001b[0m\u001b]8;id=29715;file://D:\\Python39\\lib\\site-packages\\manim\\renderer\\cairo_renderer.py#74\u001b\\\u001b[2m74\u001b[0m\u001b]8;;\u001b\\\n",
       "                             2201830969_2122846543_4032608842\u001b[1m)\u001b[0m                               \n"
      ]
     },
     "metadata": {},
     "output_type": "display_data"
    },
    {
     "name": "stderr",
     "output_type": "stream",
     "text": [
      "                                                                                                            \r"
     ]
    },
    {
     "data": {
      "text/html": [
       "<pre style=\"white-space:pre;overflow-x:auto;line-height:normal;font-family:Menlo,'DejaVu Sans Mono',consolas,'Courier New',monospace\"><span style=\"color: #7fbfbf; text-decoration-color: #7fbfbf\">                    </span><span style=\"color: #008000; text-decoration-color: #008000\">INFO    </span> Animation <span style=\"color: #008000; text-decoration-color: #008000\">2</span> : Using cached data <span style=\"font-weight: bold\">(</span>hash :     <a href=\"file://D:\\Python39\\lib\\site-packages\\manim\\renderer\\cairo_renderer.py\"><span style=\"color: #7f7f7f; text-decoration-color: #7f7f7f\">cairo_renderer.py</span></a><span style=\"color: #7f7f7f; text-decoration-color: #7f7f7f\">:</span><a href=\"file://D:\\Python39\\lib\\site-packages\\manim\\renderer\\cairo_renderer.py#74\"><span style=\"color: #7f7f7f; text-decoration-color: #7f7f7f\">74</span></a>\n",
       "                             2201830969_3818259252_4014291134<span style=\"font-weight: bold\">)</span>                               \n",
       "</pre>\n"
      ],
      "text/plain": [
       "\u001b[2;36m                   \u001b[0m\u001b[2;36m \u001b[0m\u001b[32mINFO    \u001b[0m Animation \u001b[32m2\u001b[0m : Using cached data \u001b[1m(\u001b[0mhash :     \u001b]8;id=197358;file://D:\\Python39\\lib\\site-packages\\manim\\renderer\\cairo_renderer.py\u001b\\\u001b[2mcairo_renderer.py\u001b[0m\u001b]8;;\u001b\\\u001b[2m:\u001b[0m\u001b]8;id=803072;file://D:\\Python39\\lib\\site-packages\\manim\\renderer\\cairo_renderer.py#74\u001b\\\u001b[2m74\u001b[0m\u001b]8;;\u001b\\\n",
       "                             2201830969_3818259252_4014291134\u001b[1m)\u001b[0m                               \n"
      ]
     },
     "metadata": {},
     "output_type": "display_data"
    },
    {
     "name": "stderr",
     "output_type": "stream",
     "text": [
      "                                                                                                            \r"
     ]
    },
    {
     "data": {
      "text/html": [
       "<pre style=\"white-space:pre;overflow-x:auto;line-height:normal;font-family:Menlo,'DejaVu Sans Mono',consolas,'Courier New',monospace\"><span style=\"color: #7fbfbf; text-decoration-color: #7fbfbf\">                    </span><span style=\"color: #008000; text-decoration-color: #008000\">INFO    </span> Animation <span style=\"color: #008000; text-decoration-color: #008000\">3</span> : Using cached data <span style=\"font-weight: bold\">(</span>hash :     <a href=\"file://D:\\Python39\\lib\\site-packages\\manim\\renderer\\cairo_renderer.py\"><span style=\"color: #7f7f7f; text-decoration-color: #7f7f7f\">cairo_renderer.py</span></a><span style=\"color: #7f7f7f; text-decoration-color: #7f7f7f\">:</span><a href=\"file://D:\\Python39\\lib\\site-packages\\manim\\renderer\\cairo_renderer.py#74\"><span style=\"color: #7f7f7f; text-decoration-color: #7f7f7f\">74</span></a>\n",
       "                             2201830969_2900171514_1378320024<span style=\"font-weight: bold\">)</span>                               \n",
       "</pre>\n"
      ],
      "text/plain": [
       "\u001b[2;36m                   \u001b[0m\u001b[2;36m \u001b[0m\u001b[32mINFO    \u001b[0m Animation \u001b[32m3\u001b[0m : Using cached data \u001b[1m(\u001b[0mhash :     \u001b]8;id=520547;file://D:\\Python39\\lib\\site-packages\\manim\\renderer\\cairo_renderer.py\u001b\\\u001b[2mcairo_renderer.py\u001b[0m\u001b]8;;\u001b\\\u001b[2m:\u001b[0m\u001b]8;id=987431;file://D:\\Python39\\lib\\site-packages\\manim\\renderer\\cairo_renderer.py#74\u001b\\\u001b[2m74\u001b[0m\u001b]8;;\u001b\\\n",
       "                             2201830969_2900171514_1378320024\u001b[1m)\u001b[0m                               \n"
      ]
     },
     "metadata": {},
     "output_type": "display_data"
    },
    {
     "name": "stderr",
     "output_type": "stream",
     "text": [
      "                                                                                                            \r"
     ]
    },
    {
     "data": {
      "text/html": [
       "<pre style=\"white-space:pre;overflow-x:auto;line-height:normal;font-family:Menlo,'DejaVu Sans Mono',consolas,'Courier New',monospace\"><span style=\"color: #7fbfbf; text-decoration-color: #7fbfbf\">[03/17/22 15:51:41] </span><span style=\"color: #008000; text-decoration-color: #008000\">INFO    </span> Animation <span style=\"color: #008000; text-decoration-color: #008000\">4</span> : Partial movie file        <a href=\"file://D:\\Python39\\lib\\site-packages\\manim\\scene\\scene_file_writer.py\"><span style=\"color: #7f7f7f; text-decoration-color: #7f7f7f\">scene_file_writer.py</span></a><span style=\"color: #7f7f7f; text-decoration-color: #7f7f7f\">:</span><a href=\"file://D:\\Python39\\lib\\site-packages\\manim\\scene\\scene_file_writer.py#514\"><span style=\"color: #7f7f7f; text-decoration-color: #7f7f7f\">514</span></a>\n",
       "                             written in                                                      \n",
       "                             <span style=\"color: #008000; text-decoration-color: #008000\">'D:\\Programming\\Python\\jupyter </span>                                 \n",
       "                             <span style=\"color: #008000; text-decoration-color: #008000\">notebooks\\media\\videos\\jupyter notebook</span>                         \n",
       "                             <span style=\"color: #008000; text-decoration-color: #008000\">s\\480p15\\partial_movie_files\\Procenty\\2</span>                         \n",
       "                             <span style=\"color: #008000; text-decoration-color: #008000\">201830969_2478587744_1924612151.mp4'</span>                            \n",
       "</pre>\n"
      ],
      "text/plain": [
       "\u001b[2;36m[03/17/22 15:51:41]\u001b[0m\u001b[2;36m \u001b[0m\u001b[32mINFO    \u001b[0m Animation \u001b[32m4\u001b[0m : Partial movie file        \u001b]8;id=862746;file://D:\\Python39\\lib\\site-packages\\manim\\scene\\scene_file_writer.py\u001b\\\u001b[2mscene_file_writer.py\u001b[0m\u001b]8;;\u001b\\\u001b[2m:\u001b[0m\u001b]8;id=246731;file://D:\\Python39\\lib\\site-packages\\manim\\scene\\scene_file_writer.py#514\u001b\\\u001b[2m514\u001b[0m\u001b]8;;\u001b\\\n",
       "                             written in                                                      \n",
       "                             \u001b[32m'D:\\Programming\\Python\\jupyter \u001b[0m                                 \n",
       "                             \u001b[32mnotebooks\\media\\videos\\jupyter notebook\u001b[0m                         \n",
       "                             \u001b[32ms\\480p15\\partial_movie_files\\Procenty\\2\u001b[0m                         \n",
       "                             \u001b[32m201830969_2478587744_1924612151.mp4'\u001b[0m                            \n"
      ]
     },
     "metadata": {},
     "output_type": "display_data"
    },
    {
     "data": {
      "text/html": [
       "<pre style=\"white-space:pre;overflow-x:auto;line-height:normal;font-family:Menlo,'DejaVu Sans Mono',consolas,'Courier New',monospace\"><span style=\"color: #7fbfbf; text-decoration-color: #7fbfbf\">                    </span><span style=\"color: #008000; text-decoration-color: #008000\">INFO    </span> Animation <span style=\"color: #008000; text-decoration-color: #008000\">5</span> : Using cached data <span style=\"font-weight: bold\">(</span>hash :     <a href=\"file://D:\\Python39\\lib\\site-packages\\manim\\renderer\\cairo_renderer.py\"><span style=\"color: #7f7f7f; text-decoration-color: #7f7f7f\">cairo_renderer.py</span></a><span style=\"color: #7f7f7f; text-decoration-color: #7f7f7f\">:</span><a href=\"file://D:\\Python39\\lib\\site-packages\\manim\\renderer\\cairo_renderer.py#74\"><span style=\"color: #7f7f7f; text-decoration-color: #7f7f7f\">74</span></a>\n",
       "                             2201830969_2762357212_743755404<span style=\"font-weight: bold\">)</span>                                \n",
       "</pre>\n"
      ],
      "text/plain": [
       "\u001b[2;36m                   \u001b[0m\u001b[2;36m \u001b[0m\u001b[32mINFO    \u001b[0m Animation \u001b[32m5\u001b[0m : Using cached data \u001b[1m(\u001b[0mhash :     \u001b]8;id=899631;file://D:\\Python39\\lib\\site-packages\\manim\\renderer\\cairo_renderer.py\u001b\\\u001b[2mcairo_renderer.py\u001b[0m\u001b]8;;\u001b\\\u001b[2m:\u001b[0m\u001b]8;id=187738;file://D:\\Python39\\lib\\site-packages\\manim\\renderer\\cairo_renderer.py#74\u001b\\\u001b[2m74\u001b[0m\u001b]8;;\u001b\\\n",
       "                             2201830969_2762357212_743755404\u001b[1m)\u001b[0m                                \n"
      ]
     },
     "metadata": {},
     "output_type": "display_data"
    },
    {
     "name": "stderr",
     "output_type": "stream",
     "text": [
      "                                                                                                            \r"
     ]
    },
    {
     "data": {
      "text/html": [
       "<pre style=\"white-space:pre;overflow-x:auto;line-height:normal;font-family:Menlo,'DejaVu Sans Mono',consolas,'Courier New',monospace\"><span style=\"color: #7fbfbf; text-decoration-color: #7fbfbf\">                    </span><span style=\"color: #008000; text-decoration-color: #008000\">INFO    </span> Animation <span style=\"color: #008000; text-decoration-color: #008000\">6</span> : Using cached data <span style=\"font-weight: bold\">(</span>hash :     <a href=\"file://D:\\Python39\\lib\\site-packages\\manim\\renderer\\cairo_renderer.py\"><span style=\"color: #7f7f7f; text-decoration-color: #7f7f7f\">cairo_renderer.py</span></a><span style=\"color: #7f7f7f; text-decoration-color: #7f7f7f\">:</span><a href=\"file://D:\\Python39\\lib\\site-packages\\manim\\renderer\\cairo_renderer.py#74\"><span style=\"color: #7f7f7f; text-decoration-color: #7f7f7f\">74</span></a>\n",
       "                             2201830969_1427617254_887556778<span style=\"font-weight: bold\">)</span>                                \n",
       "</pre>\n"
      ],
      "text/plain": [
       "\u001b[2;36m                   \u001b[0m\u001b[2;36m \u001b[0m\u001b[32mINFO    \u001b[0m Animation \u001b[32m6\u001b[0m : Using cached data \u001b[1m(\u001b[0mhash :     \u001b]8;id=619365;file://D:\\Python39\\lib\\site-packages\\manim\\renderer\\cairo_renderer.py\u001b\\\u001b[2mcairo_renderer.py\u001b[0m\u001b]8;;\u001b\\\u001b[2m:\u001b[0m\u001b]8;id=106466;file://D:\\Python39\\lib\\site-packages\\manim\\renderer\\cairo_renderer.py#74\u001b\\\u001b[2m74\u001b[0m\u001b]8;;\u001b\\\n",
       "                             2201830969_1427617254_887556778\u001b[1m)\u001b[0m                                \n"
      ]
     },
     "metadata": {},
     "output_type": "display_data"
    },
    {
     "name": "stderr",
     "output_type": "stream",
     "text": [
      "                                                                                                            \r"
     ]
    },
    {
     "data": {
      "text/html": [
       "<pre style=\"white-space:pre;overflow-x:auto;line-height:normal;font-family:Menlo,'DejaVu Sans Mono',consolas,'Courier New',monospace\"><span style=\"color: #7fbfbf; text-decoration-color: #7fbfbf\">[03/17/22 15:51:42] </span><span style=\"color: #008000; text-decoration-color: #008000\">INFO    </span> Animation <span style=\"color: #008000; text-decoration-color: #008000\">7</span> : Partial movie file        <a href=\"file://D:\\Python39\\lib\\site-packages\\manim\\scene\\scene_file_writer.py\"><span style=\"color: #7f7f7f; text-decoration-color: #7f7f7f\">scene_file_writer.py</span></a><span style=\"color: #7f7f7f; text-decoration-color: #7f7f7f\">:</span><a href=\"file://D:\\Python39\\lib\\site-packages\\manim\\scene\\scene_file_writer.py#514\"><span style=\"color: #7f7f7f; text-decoration-color: #7f7f7f\">514</span></a>\n",
       "                             written in                                                      \n",
       "                             <span style=\"color: #008000; text-decoration-color: #008000\">'D:\\Programming\\Python\\jupyter </span>                                 \n",
       "                             <span style=\"color: #008000; text-decoration-color: #008000\">notebooks\\media\\videos\\jupyter notebook</span>                         \n",
       "                             <span style=\"color: #008000; text-decoration-color: #008000\">s\\480p15\\partial_movie_files\\Procenty\\2</span>                         \n",
       "                             <span style=\"color: #008000; text-decoration-color: #008000\">201830969_3794303360_1694949204.mp4'</span>                            \n",
       "</pre>\n"
      ],
      "text/plain": [
       "\u001b[2;36m[03/17/22 15:51:42]\u001b[0m\u001b[2;36m \u001b[0m\u001b[32mINFO    \u001b[0m Animation \u001b[32m7\u001b[0m : Partial movie file        \u001b]8;id=706292;file://D:\\Python39\\lib\\site-packages\\manim\\scene\\scene_file_writer.py\u001b\\\u001b[2mscene_file_writer.py\u001b[0m\u001b]8;;\u001b\\\u001b[2m:\u001b[0m\u001b]8;id=854174;file://D:\\Python39\\lib\\site-packages\\manim\\scene\\scene_file_writer.py#514\u001b\\\u001b[2m514\u001b[0m\u001b]8;;\u001b\\\n",
       "                             written in                                                      \n",
       "                             \u001b[32m'D:\\Programming\\Python\\jupyter \u001b[0m                                 \n",
       "                             \u001b[32mnotebooks\\media\\videos\\jupyter notebook\u001b[0m                         \n",
       "                             \u001b[32ms\\480p15\\partial_movie_files\\Procenty\\2\u001b[0m                         \n",
       "                             \u001b[32m201830969_3794303360_1694949204.mp4'\u001b[0m                            \n"
      ]
     },
     "metadata": {},
     "output_type": "display_data"
    },
    {
     "data": {
      "text/html": [
       "<pre style=\"white-space:pre;overflow-x:auto;line-height:normal;font-family:Menlo,'DejaVu Sans Mono',consolas,'Courier New',monospace\"><span style=\"color: #7fbfbf; text-decoration-color: #7fbfbf\">[03/17/22 15:51:46] </span><span style=\"color: #008000; text-decoration-color: #008000\">INFO    </span> Animation <span style=\"color: #008000; text-decoration-color: #008000\">8</span> : Partial movie file        <a href=\"file://D:\\Python39\\lib\\site-packages\\manim\\scene\\scene_file_writer.py\"><span style=\"color: #7f7f7f; text-decoration-color: #7f7f7f\">scene_file_writer.py</span></a><span style=\"color: #7f7f7f; text-decoration-color: #7f7f7f\">:</span><a href=\"file://D:\\Python39\\lib\\site-packages\\manim\\scene\\scene_file_writer.py#514\"><span style=\"color: #7f7f7f; text-decoration-color: #7f7f7f\">514</span></a>\n",
       "                             written in                                                      \n",
       "                             <span style=\"color: #008000; text-decoration-color: #008000\">'D:\\Programming\\Python\\jupyter </span>                                 \n",
       "                             <span style=\"color: #008000; text-decoration-color: #008000\">notebooks\\media\\videos\\jupyter notebook</span>                         \n",
       "                             <span style=\"color: #008000; text-decoration-color: #008000\">s\\480p15\\partial_movie_files\\Procenty\\2</span>                         \n",
       "                             <span style=\"color: #008000; text-decoration-color: #008000\">201830969_2112607976_3314642997.mp4'</span>                            \n",
       "</pre>\n"
      ],
      "text/plain": [
       "\u001b[2;36m[03/17/22 15:51:46]\u001b[0m\u001b[2;36m \u001b[0m\u001b[32mINFO    \u001b[0m Animation \u001b[32m8\u001b[0m : Partial movie file        \u001b]8;id=963844;file://D:\\Python39\\lib\\site-packages\\manim\\scene\\scene_file_writer.py\u001b\\\u001b[2mscene_file_writer.py\u001b[0m\u001b]8;;\u001b\\\u001b[2m:\u001b[0m\u001b]8;id=252375;file://D:\\Python39\\lib\\site-packages\\manim\\scene\\scene_file_writer.py#514\u001b\\\u001b[2m514\u001b[0m\u001b]8;;\u001b\\\n",
       "                             written in                                                      \n",
       "                             \u001b[32m'D:\\Programming\\Python\\jupyter \u001b[0m                                 \n",
       "                             \u001b[32mnotebooks\\media\\videos\\jupyter notebook\u001b[0m                         \n",
       "                             \u001b[32ms\\480p15\\partial_movie_files\\Procenty\\2\u001b[0m                         \n",
       "                             \u001b[32m201830969_2112607976_3314642997.mp4'\u001b[0m                            \n"
      ]
     },
     "metadata": {},
     "output_type": "display_data"
    },
    {
     "data": {
      "text/html": [
       "<pre style=\"white-space:pre;overflow-x:auto;line-height:normal;font-family:Menlo,'DejaVu Sans Mono',consolas,'Courier New',monospace\"><span style=\"color: #7fbfbf; text-decoration-color: #7fbfbf\">                    </span><span style=\"color: #008000; text-decoration-color: #008000\">INFO    </span> Combining to Movie file.                <a href=\"file://D:\\Python39\\lib\\site-packages\\manim\\scene\\scene_file_writer.py\"><span style=\"color: #7f7f7f; text-decoration-color: #7f7f7f\">scene_file_writer.py</span></a><span style=\"color: #7f7f7f; text-decoration-color: #7f7f7f\">:</span><a href=\"file://D:\\Python39\\lib\\site-packages\\manim\\scene\\scene_file_writer.py#608\"><span style=\"color: #7f7f7f; text-decoration-color: #7f7f7f\">608</span></a>\n",
       "</pre>\n"
      ],
      "text/plain": [
       "\u001b[2;36m                   \u001b[0m\u001b[2;36m \u001b[0m\u001b[32mINFO    \u001b[0m Combining to Movie file.                \u001b]8;id=370349;file://D:\\Python39\\lib\\site-packages\\manim\\scene\\scene_file_writer.py\u001b\\\u001b[2mscene_file_writer.py\u001b[0m\u001b]8;;\u001b\\\u001b[2m:\u001b[0m\u001b]8;id=549180;file://D:\\Python39\\lib\\site-packages\\manim\\scene\\scene_file_writer.py#608\u001b\\\u001b[2m608\u001b[0m\u001b]8;;\u001b\\\n"
      ]
     },
     "metadata": {},
     "output_type": "display_data"
    },
    {
     "data": {
      "text/html": [
       "<pre style=\"white-space:pre;overflow-x:auto;line-height:normal;font-family:Menlo,'DejaVu Sans Mono',consolas,'Courier New',monospace\"><span style=\"color: #7fbfbf; text-decoration-color: #7fbfbf\">                    </span><span style=\"color: #008000; text-decoration-color: #008000\">INFO    </span>                                         <a href=\"file://D:\\Python39\\lib\\site-packages\\manim\\scene\\scene_file_writer.py\"><span style=\"color: #7f7f7f; text-decoration-color: #7f7f7f\">scene_file_writer.py</span></a><span style=\"color: #7f7f7f; text-decoration-color: #7f7f7f\">:</span><a href=\"file://D:\\Python39\\lib\\site-packages\\manim\\scene\\scene_file_writer.py#729\"><span style=\"color: #7f7f7f; text-decoration-color: #7f7f7f\">729</span></a>\n",
       "                             <span style=\"color: #808000; text-decoration-color: #808000; font-weight: bold\">File</span> ready at                                                   \n",
       "                             <span style=\"color: #008000; text-decoration-color: #008000\">'D:\\Programming\\Python\\jupyter </span>                                 \n",
       "                             <span style=\"color: #008000; text-decoration-color: #008000\">notebooks\\media\\videos\\jupyter </span>                                 \n",
       "                             <span style=\"color: #008000; text-decoration-color: #008000\">notebooks\\480p15\\Procenty.mp4'</span>                                  \n",
       "                                                                                             \n",
       "</pre>\n"
      ],
      "text/plain": [
       "\u001b[2;36m                   \u001b[0m\u001b[2;36m \u001b[0m\u001b[32mINFO    \u001b[0m                                         \u001b]8;id=169348;file://D:\\Python39\\lib\\site-packages\\manim\\scene\\scene_file_writer.py\u001b\\\u001b[2mscene_file_writer.py\u001b[0m\u001b]8;;\u001b\\\u001b[2m:\u001b[0m\u001b]8;id=136270;file://D:\\Python39\\lib\\site-packages\\manim\\scene\\scene_file_writer.py#729\u001b\\\u001b[2m729\u001b[0m\u001b]8;;\u001b\\\n",
       "                             \u001b[1;33mFile\u001b[0m ready at                                                   \n",
       "                             \u001b[32m'D:\\Programming\\Python\\jupyter \u001b[0m                                 \n",
       "                             \u001b[32mnotebooks\\media\\videos\\jupyter \u001b[0m                                 \n",
       "                             \u001b[32mnotebooks\\480p15\\Procenty.mp4'\u001b[0m                                  \n",
       "                                                                                             \n"
      ]
     },
     "metadata": {},
     "output_type": "display_data"
    },
    {
     "data": {
      "text/html": [
       "<pre style=\"white-space:pre;overflow-x:auto;line-height:normal;font-family:Menlo,'DejaVu Sans Mono',consolas,'Courier New',monospace\"><span style=\"color: #7fbfbf; text-decoration-color: #7fbfbf\">                    </span><span style=\"color: #008000; text-decoration-color: #008000\">INFO    </span> <span style=\"color: #808000; text-decoration-color: #808000; font-weight: bold\">Rendered</span> Procenty                                   <a href=\"file://D:\\Python39\\lib\\site-packages\\manim\\scene\\scene.py\"><span style=\"color: #7f7f7f; text-decoration-color: #7f7f7f\">scene.py</span></a><span style=\"color: #7f7f7f; text-decoration-color: #7f7f7f\">:</span><a href=\"file://D:\\Python39\\lib\\site-packages\\manim\\scene\\scene.py#237\"><span style=\"color: #7f7f7f; text-decoration-color: #7f7f7f\">237</span></a>\n",
       "                             <span style=\"color: #808000; text-decoration-color: #808000; font-weight: bold\">Played</span> <span style=\"color: #008000; text-decoration-color: #008000\">9</span> <span style=\"color: #808000; text-decoration-color: #808000; font-weight: bold\">animations</span>                                             \n",
       "</pre>\n"
      ],
      "text/plain": [
       "\u001b[2;36m                   \u001b[0m\u001b[2;36m \u001b[0m\u001b[32mINFO    \u001b[0m \u001b[1;33mRendered\u001b[0m Procenty                                   \u001b]8;id=788681;file://D:\\Python39\\lib\\site-packages\\manim\\scene\\scene.py\u001b\\\u001b[2mscene.py\u001b[0m\u001b]8;;\u001b\\\u001b[2m:\u001b[0m\u001b]8;id=95065;file://D:\\Python39\\lib\\site-packages\\manim\\scene\\scene.py#237\u001b\\\u001b[2m237\u001b[0m\u001b]8;;\u001b\\\n",
       "                             \u001b[1;33mPlayed\u001b[0m \u001b[32m9\u001b[0m \u001b[1;33manimations\u001b[0m                                             \n"
      ]
     },
     "metadata": {},
     "output_type": "display_data"
    },
    {
     "data": {
      "text/html": [
       "<video src=\"media\\jupyter\\Procenty@2022-03-17@15-51-46.mp4\" controls autoplay loop style=\"max-width: 60%;\"  >\n",
       "      Your browser does not support the <code>video</code> element.\n",
       "    </video>"
      ],
      "text/plain": [
       "<IPython.core.display.Video object>"
      ]
     },
     "metadata": {},
     "output_type": "display_data"
    }
   ],
   "source": [
    "%%manim Procenty\n",
    "\n",
    "import random\n",
    "class Procenty(Scene):\n",
    "    def construct(self):\n",
    "        \n",
    "        tort=Circle(3).set_fill(BLUE, opacity=1).set_stroke(opacity=0)\n",
    "        tort_label = Text(f'100%', color=WHITE).move_to(tort.get_center())\n",
    "        proc=60\n",
    "        cut=Sector(outer_radius =3, angle=(proc/100)*2*PI, color=BLUE_E)\n",
    "        cut_label = Text(f'{proc}%', color=WHITE).move_to(cut.get_center())\n",
    "#         self.add(tort,cut, cut_label)\n",
    "        self.play(Create(tort))\n",
    "        self.play(Write(tort_label))\n",
    "        self.play(Create(cut), FadeOut(tort_label))\n",
    "        self.play(Write(cut_label))\n",
    "        self.wait()\n",
    "        proc=30\n",
    "        cut2=Sector(outer_radius =3, angle=(proc/100)*2*PI, color=BLUE_E)\n",
    "        cut_label2 = Text(f'{proc}%', color=WHITE).move_to(cut2.get_center())\n",
    "#         self.add(tort,cut, cut_label)\n",
    "        self.play(Transform(cut_label,cut_label2), Transform(cut,cut2))\n",
    "        self.wait(5)\n",
    "        proc=10\n",
    "        cut3=Sector(outer_radius =3, angle=(proc/100)*2*PI, color=BLUE_E)\n",
    "        cut_label3 = Text(f'{proc}%', color=WHITE).move_to(cut3.get_center())\n",
    "#         self.add(tort,cut, cut_label)\n",
    "        self.play(Transform(cut_label,cut_label3), Transform(cut,cut3))\n",
    "        self.wait(5)\n",
    "#         self.wait()        \n",
    "#         cut.become(Sector(outer_radius =3, angle=(proc/100)*2*PI))\n",
    "            \n",
    "#         def randomSquare(vg, dt):\n",
    "#             index = int(random.random()*len(squares))\n",
    "#             square = squares[index]\n",
    "#             square.set_fill(opacity=random.random())\n",
    "#             square.add_updater(lambda mobject, dt: mobject.rotate(dt*random.randrange(-10,10)*DEGREES))\n",
    "            \n",
    "\n",
    "\n"
   ]
  },
  {
   "cell_type": "code",
   "execution_count": null,
   "id": "ab162b5e-5bb3-4181-893e-280014919e4b",
   "metadata": {},
   "outputs": [],
   "source": []
  },
  {
   "cell_type": "code",
   "execution_count": null,
   "id": "9e6b272d-33ae-4eb5-9d57-aed3819ab52b",
   "metadata": {},
   "outputs": [],
   "source": [
    "%%manim SquareGrid\n",
    "\n",
    "import random\n",
    "class SquareGrid(Scene):\n",
    "    def construct(self):\n",
    "        \n",
    "        squares = VGroup(*[Square().set_fill(WHITE, opacity=0) for _ in range( 8*5+1)]) #.set_stroke(color=BLACK, width=1)\n",
    "        squares.arrange_in_grid(cols=8, buff=0)\n",
    "        self.add(squares)\n",
    "        \n",
    "        def randomSquare(vg, dt):\n",
    "            index = int(random.random()*len(squares))\n",
    "            square = squares[index]\n",
    "            square.set_fill(opacity=random.random())\n",
    "            square.add_updater(lambda mobject, dt: mobject.rotate(dt*random.randrange(-10,10)*DEGREES))\n",
    "            \n",
    "\n",
    "\n",
    "        squares.add_updater(randomSquare)\n",
    "        self.wait(100)"
   ]
  },
  {
   "cell_type": "code",
   "execution_count": 3,
   "id": "01c03441-f3a2-4733-8708-f541d28a131c",
   "metadata": {},
   "outputs": [
    {
     "name": "stdout",
     "output_type": "stream",
     "text": [
      "[SingleStringMathTex('2'), SingleStringMathTex('\\\\cdot S_n='), SingleStringMathTex('2'), SingleStringMathTex(' \\\\cdot (a_1+a_2+\\\\ldots+a_{n-1}+a_n)=')]\n"
     ]
    },
    {
     "data": {
      "text/html": [
       "<pre style=\"white-space:pre;overflow-x:auto;line-height:normal;font-family:Menlo,'DejaVu Sans Mono',consolas,'Courier New',monospace\"><span style=\"color: #7fbfbf; text-decoration-color: #7fbfbf\">[03/09/22 10:27:39] </span><span style=\"color: #008000; text-decoration-color: #008000\">INFO    </span> Animation <span style=\"color: #008000; text-decoration-color: #008000\">0</span> : Using cached data <span style=\"font-weight: bold\">(</span>hash :     <a href=\"file://D:\\Python39\\lib\\site-packages\\manim\\renderer\\cairo_renderer.py\"><span style=\"color: #7f7f7f; text-decoration-color: #7f7f7f\">cairo_renderer.py</span></a><span style=\"color: #7f7f7f; text-decoration-color: #7f7f7f\">:</span><a href=\"file://D:\\Python39\\lib\\site-packages\\manim\\renderer\\cairo_renderer.py#74\"><span style=\"color: #7f7f7f; text-decoration-color: #7f7f7f\">74</span></a>\n",
       "                             3163782288_1515588106_3868840072<span style=\"font-weight: bold\">)</span>                               \n",
       "</pre>\n"
      ],
      "text/plain": [
       "\u001b[2;36m[03/09/22 10:27:39]\u001b[0m\u001b[2;36m \u001b[0m\u001b[32mINFO    \u001b[0m Animation \u001b[32m0\u001b[0m : Using cached data \u001b[1m(\u001b[0mhash :     \u001b]8;id=94604;file://D:\\Python39\\lib\\site-packages\\manim\\renderer\\cairo_renderer.py\u001b\\\u001b[2mcairo_renderer.py\u001b[0m\u001b]8;;\u001b\\\u001b[2m:\u001b[0m\u001b]8;id=853626;file://D:\\Python39\\lib\\site-packages\\manim\\renderer\\cairo_renderer.py#74\u001b\\\u001b[2m74\u001b[0m\u001b]8;;\u001b\\\n",
       "                             3163782288_1515588106_3868840072\u001b[1m)\u001b[0m                               \n"
      ]
     },
     "metadata": {},
     "output_type": "display_data"
    },
    {
     "data": {
      "text/html": [
       "<pre style=\"white-space:pre;overflow-x:auto;line-height:normal;font-family:Menlo,'DejaVu Sans Mono',consolas,'Courier New',monospace\"><span style=\"color: #7fbfbf; text-decoration-color: #7fbfbf\">                    </span><span style=\"color: #008000; text-decoration-color: #008000\">INFO    </span> Animation <span style=\"color: #008000; text-decoration-color: #008000\">1</span> : Using cached data <span style=\"font-weight: bold\">(</span>hash :     <a href=\"file://D:\\Python39\\lib\\site-packages\\manim\\renderer\\cairo_renderer.py\"><span style=\"color: #7f7f7f; text-decoration-color: #7f7f7f\">cairo_renderer.py</span></a><span style=\"color: #7f7f7f; text-decoration-color: #7f7f7f\">:</span><a href=\"file://D:\\Python39\\lib\\site-packages\\manim\\renderer\\cairo_renderer.py#74\"><span style=\"color: #7f7f7f; text-decoration-color: #7f7f7f\">74</span></a>\n",
       "                             2201830969_80466454_2876481657<span style=\"font-weight: bold\">)</span>                                 \n",
       "</pre>\n"
      ],
      "text/plain": [
       "\u001b[2;36m                   \u001b[0m\u001b[2;36m \u001b[0m\u001b[32mINFO    \u001b[0m Animation \u001b[32m1\u001b[0m : Using cached data \u001b[1m(\u001b[0mhash :     \u001b]8;id=359926;file://D:\\Python39\\lib\\site-packages\\manim\\renderer\\cairo_renderer.py\u001b\\\u001b[2mcairo_renderer.py\u001b[0m\u001b]8;;\u001b\\\u001b[2m:\u001b[0m\u001b]8;id=664969;file://D:\\Python39\\lib\\site-packages\\manim\\renderer\\cairo_renderer.py#74\u001b\\\u001b[2m74\u001b[0m\u001b]8;;\u001b\\\n",
       "                             2201830969_80466454_2876481657\u001b[1m)\u001b[0m                                 \n"
      ]
     },
     "metadata": {},
     "output_type": "display_data"
    },
    {
     "name": "stderr",
     "output_type": "stream",
     "text": [
      "                                                   \r"
     ]
    },
    {
     "data": {
      "text/html": [
       "<pre style=\"white-space:pre;overflow-x:auto;line-height:normal;font-family:Menlo,'DejaVu Sans Mono',consolas,'Courier New',monospace\"><span style=\"color: #7fbfbf; text-decoration-color: #7fbfbf\">[03/09/22 10:27:51] </span><span style=\"color: #008000; text-decoration-color: #008000\">INFO    </span> Animation <span style=\"color: #008000; text-decoration-color: #008000\">2</span> : Partial movie file        <a href=\"file://D:\\Python39\\lib\\site-packages\\manim\\scene\\scene_file_writer.py\"><span style=\"color: #7f7f7f; text-decoration-color: #7f7f7f\">scene_file_writer.py</span></a><span style=\"color: #7f7f7f; text-decoration-color: #7f7f7f\">:</span><a href=\"file://D:\\Python39\\lib\\site-packages\\manim\\scene\\scene_file_writer.py#514\"><span style=\"color: #7f7f7f; text-decoration-color: #7f7f7f\">514</span></a>\n",
       "                             written in                                                      \n",
       "                             <span style=\"color: #008000; text-decoration-color: #008000\">'D:\\Programming\\Python\\jupyter </span>                                 \n",
       "                             <span style=\"color: #008000; text-decoration-color: #008000\">notebooks\\media\\videos\\jupyter notebook</span>                         \n",
       "                             <span style=\"color: #008000; text-decoration-color: #008000\">s\\480p15\\partial_movie_files\\SumArytm\\1</span>                         \n",
       "                             <span style=\"color: #008000; text-decoration-color: #008000\">495979052_284678246_3973933534.mp4'</span>                             \n",
       "</pre>\n"
      ],
      "text/plain": [
       "\u001b[2;36m[03/09/22 10:27:51]\u001b[0m\u001b[2;36m \u001b[0m\u001b[32mINFO    \u001b[0m Animation \u001b[32m2\u001b[0m : Partial movie file        \u001b]8;id=28528;file://D:\\Python39\\lib\\site-packages\\manim\\scene\\scene_file_writer.py\u001b\\\u001b[2mscene_file_writer.py\u001b[0m\u001b]8;;\u001b\\\u001b[2m:\u001b[0m\u001b]8;id=66130;file://D:\\Python39\\lib\\site-packages\\manim\\scene\\scene_file_writer.py#514\u001b\\\u001b[2m514\u001b[0m\u001b]8;;\u001b\\\n",
       "                             written in                                                      \n",
       "                             \u001b[32m'D:\\Programming\\Python\\jupyter \u001b[0m                                 \n",
       "                             \u001b[32mnotebooks\\media\\videos\\jupyter notebook\u001b[0m                         \n",
       "                             \u001b[32ms\\480p15\\partial_movie_files\\SumArytm\\1\u001b[0m                         \n",
       "                             \u001b[32m495979052_284678246_3973933534.mp4'\u001b[0m                             \n"
      ]
     },
     "metadata": {},
     "output_type": "display_data"
    },
    {
     "data": {
      "text/html": [
       "<pre style=\"white-space:pre;overflow-x:auto;line-height:normal;font-family:Menlo,'DejaVu Sans Mono',consolas,'Courier New',monospace\"><span style=\"color: #7fbfbf; text-decoration-color: #7fbfbf\">[03/09/22 10:27:53] </span><span style=\"color: #008000; text-decoration-color: #008000\">INFO    </span> Animation <span style=\"color: #008000; text-decoration-color: #008000\">3</span> : Using cached data <span style=\"font-weight: bold\">(</span>hash :     <a href=\"file://D:\\Python39\\lib\\site-packages\\manim\\renderer\\cairo_renderer.py\"><span style=\"color: #7f7f7f; text-decoration-color: #7f7f7f\">cairo_renderer.py</span></a><span style=\"color: #7f7f7f; text-decoration-color: #7f7f7f\">:</span><a href=\"file://D:\\Python39\\lib\\site-packages\\manim\\renderer\\cairo_renderer.py#74\"><span style=\"color: #7f7f7f; text-decoration-color: #7f7f7f\">74</span></a>\n",
       "                             2201830969_3838095826_4181608535<span style=\"font-weight: bold\">)</span>                               \n",
       "</pre>\n"
      ],
      "text/plain": [
       "\u001b[2;36m[03/09/22 10:27:53]\u001b[0m\u001b[2;36m \u001b[0m\u001b[32mINFO    \u001b[0m Animation \u001b[32m3\u001b[0m : Using cached data \u001b[1m(\u001b[0mhash :     \u001b]8;id=235558;file://D:\\Python39\\lib\\site-packages\\manim\\renderer\\cairo_renderer.py\u001b\\\u001b[2mcairo_renderer.py\u001b[0m\u001b]8;;\u001b\\\u001b[2m:\u001b[0m\u001b]8;id=739930;file://D:\\Python39\\lib\\site-packages\\manim\\renderer\\cairo_renderer.py#74\u001b\\\u001b[2m74\u001b[0m\u001b]8;;\u001b\\\n",
       "                             2201830969_3838095826_4181608535\u001b[1m)\u001b[0m                               \n"
      ]
     },
     "metadata": {},
     "output_type": "display_data"
    },
    {
     "name": "stderr",
     "output_type": "stream",
     "text": [
      "                                                   \r"
     ]
    },
    {
     "data": {
      "text/html": [
       "<pre style=\"white-space:pre;overflow-x:auto;line-height:normal;font-family:Menlo,'DejaVu Sans Mono',consolas,'Courier New',monospace\"><span style=\"color: #7fbfbf; text-decoration-color: #7fbfbf\">[03/09/22 10:28:04] </span><span style=\"color: #008000; text-decoration-color: #008000\">INFO    </span> Animation <span style=\"color: #008000; text-decoration-color: #008000\">4</span> : Using cached data <span style=\"font-weight: bold\">(</span>hash :     <a href=\"file://D:\\Python39\\lib\\site-packages\\manim\\renderer\\cairo_renderer.py\"><span style=\"color: #7f7f7f; text-decoration-color: #7f7f7f\">cairo_renderer.py</span></a><span style=\"color: #7f7f7f; text-decoration-color: #7f7f7f\">:</span><a href=\"file://D:\\Python39\\lib\\site-packages\\manim\\renderer\\cairo_renderer.py#74\"><span style=\"color: #7f7f7f; text-decoration-color: #7f7f7f\">74</span></a>\n",
       "                             2201830969_1920487587_3521926701<span style=\"font-weight: bold\">)</span>                               \n",
       "</pre>\n"
      ],
      "text/plain": [
       "\u001b[2;36m[03/09/22 10:28:04]\u001b[0m\u001b[2;36m \u001b[0m\u001b[32mINFO    \u001b[0m Animation \u001b[32m4\u001b[0m : Using cached data \u001b[1m(\u001b[0mhash :     \u001b]8;id=163786;file://D:\\Python39\\lib\\site-packages\\manim\\renderer\\cairo_renderer.py\u001b\\\u001b[2mcairo_renderer.py\u001b[0m\u001b]8;;\u001b\\\u001b[2m:\u001b[0m\u001b]8;id=636375;file://D:\\Python39\\lib\\site-packages\\manim\\renderer\\cairo_renderer.py#74\u001b\\\u001b[2m74\u001b[0m\u001b]8;;\u001b\\\n",
       "                             2201830969_1920487587_3521926701\u001b[1m)\u001b[0m                               \n"
      ]
     },
     "metadata": {},
     "output_type": "display_data"
    },
    {
     "name": "stderr",
     "output_type": "stream",
     "text": [
      "                                                   \r"
     ]
    },
    {
     "data": {
      "text/html": [
       "<pre style=\"white-space:pre;overflow-x:auto;line-height:normal;font-family:Menlo,'DejaVu Sans Mono',consolas,'Courier New',monospace\"><span style=\"color: #7fbfbf; text-decoration-color: #7fbfbf\">[03/09/22 10:28:12] </span><span style=\"color: #008000; text-decoration-color: #008000\">INFO    </span> Animation <span style=\"color: #008000; text-decoration-color: #008000\">5</span> : Using cached data <span style=\"font-weight: bold\">(</span>hash :     <a href=\"file://D:\\Python39\\lib\\site-packages\\manim\\renderer\\cairo_renderer.py\"><span style=\"color: #7f7f7f; text-decoration-color: #7f7f7f\">cairo_renderer.py</span></a><span style=\"color: #7f7f7f; text-decoration-color: #7f7f7f\">:</span><a href=\"file://D:\\Python39\\lib\\site-packages\\manim\\renderer\\cairo_renderer.py#74\"><span style=\"color: #7f7f7f; text-decoration-color: #7f7f7f\">74</span></a>\n",
       "                             2201830969_2585379532_2272545387<span style=\"font-weight: bold\">)</span>                               \n",
       "</pre>\n"
      ],
      "text/plain": [
       "\u001b[2;36m[03/09/22 10:28:12]\u001b[0m\u001b[2;36m \u001b[0m\u001b[32mINFO    \u001b[0m Animation \u001b[32m5\u001b[0m : Using cached data \u001b[1m(\u001b[0mhash :     \u001b]8;id=475363;file://D:\\Python39\\lib\\site-packages\\manim\\renderer\\cairo_renderer.py\u001b\\\u001b[2mcairo_renderer.py\u001b[0m\u001b]8;;\u001b\\\u001b[2m:\u001b[0m\u001b]8;id=198166;file://D:\\Python39\\lib\\site-packages\\manim\\renderer\\cairo_renderer.py#74\u001b\\\u001b[2m74\u001b[0m\u001b]8;;\u001b\\\n",
       "                             2201830969_2585379532_2272545387\u001b[1m)\u001b[0m                               \n"
      ]
     },
     "metadata": {},
     "output_type": "display_data"
    },
    {
     "name": "stderr",
     "output_type": "stream",
     "text": [
      "                                                   \r"
     ]
    },
    {
     "data": {
      "text/html": [
       "<pre style=\"white-space:pre;overflow-x:auto;line-height:normal;font-family:Menlo,'DejaVu Sans Mono',consolas,'Courier New',monospace\"><span style=\"color: #7fbfbf; text-decoration-color: #7fbfbf\">[03/09/22 10:28:22] </span><span style=\"color: #008000; text-decoration-color: #008000\">INFO    </span> Animation <span style=\"color: #008000; text-decoration-color: #008000\">6</span> : Partial movie file        <a href=\"file://D:\\Python39\\lib\\site-packages\\manim\\scene\\scene_file_writer.py\"><span style=\"color: #7f7f7f; text-decoration-color: #7f7f7f\">scene_file_writer.py</span></a><span style=\"color: #7f7f7f; text-decoration-color: #7f7f7f\">:</span><a href=\"file://D:\\Python39\\lib\\site-packages\\manim\\scene\\scene_file_writer.py#514\"><span style=\"color: #7f7f7f; text-decoration-color: #7f7f7f\">514</span></a>\n",
       "                             written in                                                      \n",
       "                             <span style=\"color: #008000; text-decoration-color: #008000\">'D:\\Programming\\Python\\jupyter </span>                                 \n",
       "                             <span style=\"color: #008000; text-decoration-color: #008000\">notebooks\\media\\videos\\jupyter notebook</span>                         \n",
       "                             <span style=\"color: #008000; text-decoration-color: #008000\">s\\480p15\\partial_movie_files\\SumArytm\\2</span>                         \n",
       "                             <span style=\"color: #008000; text-decoration-color: #008000\">201830969_398514950_820760010.mp4'</span>                              \n",
       "</pre>\n"
      ],
      "text/plain": [
       "\u001b[2;36m[03/09/22 10:28:22]\u001b[0m\u001b[2;36m \u001b[0m\u001b[32mINFO    \u001b[0m Animation \u001b[32m6\u001b[0m : Partial movie file        \u001b]8;id=310972;file://D:\\Python39\\lib\\site-packages\\manim\\scene\\scene_file_writer.py\u001b\\\u001b[2mscene_file_writer.py\u001b[0m\u001b]8;;\u001b\\\u001b[2m:\u001b[0m\u001b]8;id=936768;file://D:\\Python39\\lib\\site-packages\\manim\\scene\\scene_file_writer.py#514\u001b\\\u001b[2m514\u001b[0m\u001b]8;;\u001b\\\n",
       "                             written in                                                      \n",
       "                             \u001b[32m'D:\\Programming\\Python\\jupyter \u001b[0m                                 \n",
       "                             \u001b[32mnotebooks\\media\\videos\\jupyter notebook\u001b[0m                         \n",
       "                             \u001b[32ms\\480p15\\partial_movie_files\\SumArytm\\2\u001b[0m                         \n",
       "                             \u001b[32m201830969_398514950_820760010.mp4'\u001b[0m                              \n"
      ]
     },
     "metadata": {},
     "output_type": "display_data"
    },
    {
     "data": {
      "text/html": [
       "<pre style=\"white-space:pre;overflow-x:auto;line-height:normal;font-family:Menlo,'DejaVu Sans Mono',consolas,'Courier New',monospace\"><span style=\"color: #7fbfbf; text-decoration-color: #7fbfbf\">                    </span><span style=\"color: #008000; text-decoration-color: #008000\">INFO    </span> Animation <span style=\"color: #008000; text-decoration-color: #008000\">7</span> : Using cached data <span style=\"font-weight: bold\">(</span>hash :     <a href=\"file://D:\\Python39\\lib\\site-packages\\manim\\renderer\\cairo_renderer.py\"><span style=\"color: #7f7f7f; text-decoration-color: #7f7f7f\">cairo_renderer.py</span></a><span style=\"color: #7f7f7f; text-decoration-color: #7f7f7f\">:</span><a href=\"file://D:\\Python39\\lib\\site-packages\\manim\\renderer\\cairo_renderer.py#74\"><span style=\"color: #7f7f7f; text-decoration-color: #7f7f7f\">74</span></a>\n",
       "                             2201830969_3420323386_141801723<span style=\"font-weight: bold\">)</span>                                \n",
       "</pre>\n"
      ],
      "text/plain": [
       "\u001b[2;36m                   \u001b[0m\u001b[2;36m \u001b[0m\u001b[32mINFO    \u001b[0m Animation \u001b[32m7\u001b[0m : Using cached data \u001b[1m(\u001b[0mhash :     \u001b]8;id=548982;file://D:\\Python39\\lib\\site-packages\\manim\\renderer\\cairo_renderer.py\u001b\\\u001b[2mcairo_renderer.py\u001b[0m\u001b]8;;\u001b\\\u001b[2m:\u001b[0m\u001b]8;id=79807;file://D:\\Python39\\lib\\site-packages\\manim\\renderer\\cairo_renderer.py#74\u001b\\\u001b[2m74\u001b[0m\u001b]8;;\u001b\\\n",
       "                             2201830969_3420323386_141801723\u001b[1m)\u001b[0m                                \n"
      ]
     },
     "metadata": {},
     "output_type": "display_data"
    },
    {
     "name": "stderr",
     "output_type": "stream",
     "text": [
      "                                                   \r"
     ]
    },
    {
     "data": {
      "text/html": [
       "<pre style=\"white-space:pre;overflow-x:auto;line-height:normal;font-family:Menlo,'DejaVu Sans Mono',consolas,'Courier New',monospace\"><span style=\"color: #7fbfbf; text-decoration-color: #7fbfbf\">[03/09/22 10:28:24] </span><span style=\"color: #008000; text-decoration-color: #008000\">INFO    </span> Animation <span style=\"color: #008000; text-decoration-color: #008000\">8</span> : Partial movie file        <a href=\"file://D:\\Python39\\lib\\site-packages\\manim\\scene\\scene_file_writer.py\"><span style=\"color: #7f7f7f; text-decoration-color: #7f7f7f\">scene_file_writer.py</span></a><span style=\"color: #7f7f7f; text-decoration-color: #7f7f7f\">:</span><a href=\"file://D:\\Python39\\lib\\site-packages\\manim\\scene\\scene_file_writer.py#514\"><span style=\"color: #7f7f7f; text-decoration-color: #7f7f7f\">514</span></a>\n",
       "                             written in                                                      \n",
       "                             <span style=\"color: #008000; text-decoration-color: #008000\">'D:\\Programming\\Python\\jupyter </span>                                 \n",
       "                             <span style=\"color: #008000; text-decoration-color: #008000\">notebooks\\media\\videos\\jupyter notebook</span>                         \n",
       "                             <span style=\"color: #008000; text-decoration-color: #008000\">s\\480p15\\partial_movie_files\\SumArytm\\2</span>                         \n",
       "                             <span style=\"color: #008000; text-decoration-color: #008000\">201830969_398514950_2610857439.mp4'</span>                             \n",
       "</pre>\n"
      ],
      "text/plain": [
       "\u001b[2;36m[03/09/22 10:28:24]\u001b[0m\u001b[2;36m \u001b[0m\u001b[32mINFO    \u001b[0m Animation \u001b[32m8\u001b[0m : Partial movie file        \u001b]8;id=754295;file://D:\\Python39\\lib\\site-packages\\manim\\scene\\scene_file_writer.py\u001b\\\u001b[2mscene_file_writer.py\u001b[0m\u001b]8;;\u001b\\\u001b[2m:\u001b[0m\u001b]8;id=98166;file://D:\\Python39\\lib\\site-packages\\manim\\scene\\scene_file_writer.py#514\u001b\\\u001b[2m514\u001b[0m\u001b]8;;\u001b\\\n",
       "                             written in                                                      \n",
       "                             \u001b[32m'D:\\Programming\\Python\\jupyter \u001b[0m                                 \n",
       "                             \u001b[32mnotebooks\\media\\videos\\jupyter notebook\u001b[0m                         \n",
       "                             \u001b[32ms\\480p15\\partial_movie_files\\SumArytm\\2\u001b[0m                         \n",
       "                             \u001b[32m201830969_398514950_2610857439.mp4'\u001b[0m                             \n"
      ]
     },
     "metadata": {},
     "output_type": "display_data"
    },
    {
     "data": {
      "text/html": [
       "<pre style=\"white-space:pre;overflow-x:auto;line-height:normal;font-family:Menlo,'DejaVu Sans Mono',consolas,'Courier New',monospace\"><span style=\"color: #7fbfbf; text-decoration-color: #7fbfbf\">                    </span><span style=\"color: #008000; text-decoration-color: #008000\">INFO    </span> Combining to Movie file.                <a href=\"file://D:\\Python39\\lib\\site-packages\\manim\\scene\\scene_file_writer.py\"><span style=\"color: #7f7f7f; text-decoration-color: #7f7f7f\">scene_file_writer.py</span></a><span style=\"color: #7f7f7f; text-decoration-color: #7f7f7f\">:</span><a href=\"file://D:\\Python39\\lib\\site-packages\\manim\\scene\\scene_file_writer.py#608\"><span style=\"color: #7f7f7f; text-decoration-color: #7f7f7f\">608</span></a>\n",
       "</pre>\n"
      ],
      "text/plain": [
       "\u001b[2;36m                   \u001b[0m\u001b[2;36m \u001b[0m\u001b[32mINFO    \u001b[0m Combining to Movie file.                \u001b]8;id=141513;file://D:\\Python39\\lib\\site-packages\\manim\\scene\\scene_file_writer.py\u001b\\\u001b[2mscene_file_writer.py\u001b[0m\u001b]8;;\u001b\\\u001b[2m:\u001b[0m\u001b]8;id=106793;file://D:\\Python39\\lib\\site-packages\\manim\\scene\\scene_file_writer.py#608\u001b\\\u001b[2m608\u001b[0m\u001b]8;;\u001b\\\n"
      ]
     },
     "metadata": {},
     "output_type": "display_data"
    },
    {
     "data": {
      "text/html": [
       "<pre style=\"white-space:pre;overflow-x:auto;line-height:normal;font-family:Menlo,'DejaVu Sans Mono',consolas,'Courier New',monospace\"><span style=\"color: #7fbfbf; text-decoration-color: #7fbfbf\">                    </span><span style=\"color: #008000; text-decoration-color: #008000\">INFO    </span>                                         <a href=\"file://D:\\Python39\\lib\\site-packages\\manim\\scene\\scene_file_writer.py\"><span style=\"color: #7f7f7f; text-decoration-color: #7f7f7f\">scene_file_writer.py</span></a><span style=\"color: #7f7f7f; text-decoration-color: #7f7f7f\">:</span><a href=\"file://D:\\Python39\\lib\\site-packages\\manim\\scene\\scene_file_writer.py#729\"><span style=\"color: #7f7f7f; text-decoration-color: #7f7f7f\">729</span></a>\n",
       "                             <span style=\"color: #808000; text-decoration-color: #808000; font-weight: bold\">File</span> ready at                                                   \n",
       "                             <span style=\"color: #008000; text-decoration-color: #008000\">'D:\\Programming\\Python\\jupyter </span>                                 \n",
       "                             <span style=\"color: #008000; text-decoration-color: #008000\">notebooks\\media\\videos\\jupyter </span>                                 \n",
       "                             <span style=\"color: #008000; text-decoration-color: #008000\">notebooks\\480p15\\SumArytm.mp4'</span>                                  \n",
       "                                                                                             \n",
       "</pre>\n"
      ],
      "text/plain": [
       "\u001b[2;36m                   \u001b[0m\u001b[2;36m \u001b[0m\u001b[32mINFO    \u001b[0m                                         \u001b]8;id=744158;file://D:\\Python39\\lib\\site-packages\\manim\\scene\\scene_file_writer.py\u001b\\\u001b[2mscene_file_writer.py\u001b[0m\u001b]8;;\u001b\\\u001b[2m:\u001b[0m\u001b]8;id=985776;file://D:\\Python39\\lib\\site-packages\\manim\\scene\\scene_file_writer.py#729\u001b\\\u001b[2m729\u001b[0m\u001b]8;;\u001b\\\n",
       "                             \u001b[1;33mFile\u001b[0m ready at                                                   \n",
       "                             \u001b[32m'D:\\Programming\\Python\\jupyter \u001b[0m                                 \n",
       "                             \u001b[32mnotebooks\\media\\videos\\jupyter \u001b[0m                                 \n",
       "                             \u001b[32mnotebooks\\480p15\\SumArytm.mp4'\u001b[0m                                  \n",
       "                                                                                             \n"
      ]
     },
     "metadata": {},
     "output_type": "display_data"
    },
    {
     "data": {
      "text/html": [
       "<pre style=\"white-space:pre;overflow-x:auto;line-height:normal;font-family:Menlo,'DejaVu Sans Mono',consolas,'Courier New',monospace\"><span style=\"color: #7fbfbf; text-decoration-color: #7fbfbf\">                    </span><span style=\"color: #008000; text-decoration-color: #008000\">INFO    </span> <span style=\"color: #808000; text-decoration-color: #808000; font-weight: bold\">Rendered</span> SumArytm                                   <a href=\"file://D:\\Python39\\lib\\site-packages\\manim\\scene\\scene.py\"><span style=\"color: #7f7f7f; text-decoration-color: #7f7f7f\">scene.py</span></a><span style=\"color: #7f7f7f; text-decoration-color: #7f7f7f\">:</span><a href=\"file://D:\\Python39\\lib\\site-packages\\manim\\scene\\scene.py#237\"><span style=\"color: #7f7f7f; text-decoration-color: #7f7f7f\">237</span></a>\n",
       "                             <span style=\"color: #808000; text-decoration-color: #808000; font-weight: bold\">Played</span> <span style=\"color: #008000; text-decoration-color: #008000\">9</span> <span style=\"color: #808000; text-decoration-color: #808000; font-weight: bold\">animations</span>                                             \n",
       "</pre>\n"
      ],
      "text/plain": [
       "\u001b[2;36m                   \u001b[0m\u001b[2;36m \u001b[0m\u001b[32mINFO    \u001b[0m \u001b[1;33mRendered\u001b[0m SumArytm                                   \u001b]8;id=49072;file://D:\\Python39\\lib\\site-packages\\manim\\scene\\scene.py\u001b\\\u001b[2mscene.py\u001b[0m\u001b]8;;\u001b\\\u001b[2m:\u001b[0m\u001b]8;id=180003;file://D:\\Python39\\lib\\site-packages\\manim\\scene\\scene.py#237\u001b\\\u001b[2m237\u001b[0m\u001b]8;;\u001b\\\n",
       "                             \u001b[1;33mPlayed\u001b[0m \u001b[32m9\u001b[0m \u001b[1;33manimations\u001b[0m                                             \n"
      ]
     },
     "metadata": {},
     "output_type": "display_data"
    },
    {
     "data": {
      "text/html": [
       "<video src=\"media\\jupyter\\SumArytm@2022-03-09@10-28-24.mp4\" controls autoplay loop style=\"max-width: 60%;\"  >\n",
       "      Your browser does not support the <code>video</code> element.\n",
       "    </video>"
      ],
      "text/plain": [
       "<IPython.core.display.Video object>"
      ]
     },
     "metadata": {},
     "output_type": "display_data"
    }
   ],
   "source": [
    "%%manim SumArytm\n",
    "\n",
    "class SumArytm(Scene):\n",
    "    def construct(self):\n",
    "        t0=MathTex('{{S_n}}=a_1+a_2+\\ldots+a_{n-1}+a_n').to_edge(UP)\n",
    "        t1=MathTex('{{2}}\\cdot S_n={{2}} \\cdot (a_1+a_2+\\ldots+a_{n-1}+a_n)=').next_to(t0, DOWN)\n",
    "        t2=MathTex('=(a_1+a_2+\\ldots+a_{n-1}+a_n)+(a_1+a_2+\\ldots+a_{n-1}+a_n)=').next_to(t1, DOWN)\n",
    "        t3=MathTex('=(a_1+a_2+\\ldots+a_{n-1}+a_n)+(a_n+a_{n-1}+\\ldots+a_2+a_1)=').next_to(t2, DOWN)\n",
    "        t4=MathTex('=(a_1+a_n)+(a_2+a_{n-1})+\\ldots+(a_{n-1}+a_2)+(a_n+a_1)=').next_to(t3, DOWN)\n",
    "        t5=MathTex('=(a_1+a_n)\\cdot n').next_to(t4, DOWN)\n",
    "        t6=MathTex('{{2}}\\cdot S_n=(a_1+a_n)\\cdot n').next_to(t0, DOWN)\n",
    "#         t0.set_color_by_tex(\"S_n\", YELLOW)\n",
    "        print(list(t1))\n",
    "        t1[0].set_color(YELLOW)\n",
    "        t1[2].set_color(YELLOW)\n",
    "        self.add(t0)\n",
    "        self.wait()        \n",
    "        self.play(TransformFromCopy(t0,t1))\n",
    "        self.play(TransformFromCopy(t1,t2))        \n",
    "        self.play(TransformFromCopy(t2,t3))        \n",
    "        self.play(TransformFromCopy(t3,t4))        \n",
    "        self.play(TransformFromCopy(t4,t5))        \n",
    "        self.wait()\n",
    "        self.remove(t1,t2,t3,t4,t5)\n",
    "        self.play(TransformFromCopy(t0,t6))\n",
    "        self.wait()\n",
    "        "
   ]
  },
  {
   "cell_type": "code",
   "execution_count": 110,
   "id": "7ba9a813-072e-4ae3-96c1-c2215e0df81a",
   "metadata": {},
   "outputs": [
    {
     "data": {
      "text/html": [
       "<pre style=\"white-space:pre;overflow-x:auto;line-height:normal;font-family:Menlo,'DejaVu Sans Mono',consolas,'Courier New',monospace\"><span style=\"color: #7fbfbf; text-decoration-color: #7fbfbf\">[03/17/22 11:21:11] </span><span style=\"color: #008000; text-decoration-color: #008000\">INFO    </span> Animation <span style=\"color: #008000; text-decoration-color: #008000\">0</span> : Partial movie file        <a href=\"file://D:\\Python39\\lib\\site-packages\\manim\\scene\\scene_file_writer.py\"><span style=\"color: #7f7f7f; text-decoration-color: #7f7f7f\">scene_file_writer.py</span></a><span style=\"color: #7f7f7f; text-decoration-color: #7f7f7f\">:</span><a href=\"file://D:\\Python39\\lib\\site-packages\\manim\\scene\\scene_file_writer.py#514\"><span style=\"color: #7f7f7f; text-decoration-color: #7f7f7f\">514</span></a>\n",
       "                             written in                                                      \n",
       "                             <span style=\"color: #008000; text-decoration-color: #008000\">'D:\\Programming\\Python\\jupyter </span>                                 \n",
       "                             <span style=\"color: #008000; text-decoration-color: #008000\">notebooks\\media\\videos\\jupyter notebook</span>                         \n",
       "                             <span style=\"color: #008000; text-decoration-color: #008000\">s\\480p15\\partial_movie_files\\Lorespin\\3</span>                         \n",
       "                             <span style=\"color: #008000; text-decoration-color: #008000\">163782288_2083789766_2324937946.mp4'</span>                            \n",
       "</pre>\n"
      ],
      "text/plain": [
       "\u001b[2;36m[03/17/22 11:21:11]\u001b[0m\u001b[2;36m \u001b[0m\u001b[32mINFO    \u001b[0m Animation \u001b[32m0\u001b[0m : Partial movie file        \u001b]8;id=441447;file://D:\\Python39\\lib\\site-packages\\manim\\scene\\scene_file_writer.py\u001b\\\u001b[2mscene_file_writer.py\u001b[0m\u001b]8;;\u001b\\\u001b[2m:\u001b[0m\u001b]8;id=800509;file://D:\\Python39\\lib\\site-packages\\manim\\scene\\scene_file_writer.py#514\u001b\\\u001b[2m514\u001b[0m\u001b]8;;\u001b\\\n",
       "                             written in                                                      \n",
       "                             \u001b[32m'D:\\Programming\\Python\\jupyter \u001b[0m                                 \n",
       "                             \u001b[32mnotebooks\\media\\videos\\jupyter notebook\u001b[0m                         \n",
       "                             \u001b[32ms\\480p15\\partial_movie_files\\Lorespin\\3\u001b[0m                         \n",
       "                             \u001b[32m163782288_2083789766_2324937946.mp4'\u001b[0m                            \n"
      ]
     },
     "metadata": {},
     "output_type": "display_data"
    },
    {
     "data": {
      "text/html": [
       "<pre style=\"white-space:pre;overflow-x:auto;line-height:normal;font-family:Menlo,'DejaVu Sans Mono',consolas,'Courier New',monospace\"><span style=\"color: #7fbfbf; text-decoration-color: #7fbfbf\">                    </span><span style=\"color: #008000; text-decoration-color: #008000\">INFO    </span> Combining to Movie file.                <a href=\"file://D:\\Python39\\lib\\site-packages\\manim\\scene\\scene_file_writer.py\"><span style=\"color: #7f7f7f; text-decoration-color: #7f7f7f\">scene_file_writer.py</span></a><span style=\"color: #7f7f7f; text-decoration-color: #7f7f7f\">:</span><a href=\"file://D:\\Python39\\lib\\site-packages\\manim\\scene\\scene_file_writer.py#608\"><span style=\"color: #7f7f7f; text-decoration-color: #7f7f7f\">608</span></a>\n",
       "</pre>\n"
      ],
      "text/plain": [
       "\u001b[2;36m                   \u001b[0m\u001b[2;36m \u001b[0m\u001b[32mINFO    \u001b[0m Combining to Movie file.                \u001b]8;id=180903;file://D:\\Python39\\lib\\site-packages\\manim\\scene\\scene_file_writer.py\u001b\\\u001b[2mscene_file_writer.py\u001b[0m\u001b]8;;\u001b\\\u001b[2m:\u001b[0m\u001b]8;id=545860;file://D:\\Python39\\lib\\site-packages\\manim\\scene\\scene_file_writer.py#608\u001b\\\u001b[2m608\u001b[0m\u001b]8;;\u001b\\\n"
      ]
     },
     "metadata": {},
     "output_type": "display_data"
    },
    {
     "data": {
      "text/html": [
       "<pre style=\"white-space:pre;overflow-x:auto;line-height:normal;font-family:Menlo,'DejaVu Sans Mono',consolas,'Courier New',monospace\"><span style=\"color: #7fbfbf; text-decoration-color: #7fbfbf\">[03/17/22 11:21:12] </span><span style=\"color: #008000; text-decoration-color: #008000\">INFO    </span>                                         <a href=\"file://D:\\Python39\\lib\\site-packages\\manim\\scene\\scene_file_writer.py\"><span style=\"color: #7f7f7f; text-decoration-color: #7f7f7f\">scene_file_writer.py</span></a><span style=\"color: #7f7f7f; text-decoration-color: #7f7f7f\">:</span><a href=\"file://D:\\Python39\\lib\\site-packages\\manim\\scene\\scene_file_writer.py#729\"><span style=\"color: #7f7f7f; text-decoration-color: #7f7f7f\">729</span></a>\n",
       "                             <span style=\"color: #808000; text-decoration-color: #808000; font-weight: bold\">File</span> ready at                                                   \n",
       "                             <span style=\"color: #008000; text-decoration-color: #008000\">'D:\\Programming\\Python\\jupyter </span>                                 \n",
       "                             <span style=\"color: #008000; text-decoration-color: #008000\">notebooks\\media\\videos\\jupyter </span>                                 \n",
       "                             <span style=\"color: #008000; text-decoration-color: #008000\">notebooks\\480p15\\Lorespin.mp4'</span>                                  \n",
       "                                                                                             \n",
       "</pre>\n"
      ],
      "text/plain": [
       "\u001b[2;36m[03/17/22 11:21:12]\u001b[0m\u001b[2;36m \u001b[0m\u001b[32mINFO    \u001b[0m                                         \u001b]8;id=873451;file://D:\\Python39\\lib\\site-packages\\manim\\scene\\scene_file_writer.py\u001b\\\u001b[2mscene_file_writer.py\u001b[0m\u001b]8;;\u001b\\\u001b[2m:\u001b[0m\u001b]8;id=907688;file://D:\\Python39\\lib\\site-packages\\manim\\scene\\scene_file_writer.py#729\u001b\\\u001b[2m729\u001b[0m\u001b]8;;\u001b\\\n",
       "                             \u001b[1;33mFile\u001b[0m ready at                                                   \n",
       "                             \u001b[32m'D:\\Programming\\Python\\jupyter \u001b[0m                                 \n",
       "                             \u001b[32mnotebooks\\media\\videos\\jupyter \u001b[0m                                 \n",
       "                             \u001b[32mnotebooks\\480p15\\Lorespin.mp4'\u001b[0m                                  \n",
       "                                                                                             \n"
      ]
     },
     "metadata": {},
     "output_type": "display_data"
    },
    {
     "data": {
      "text/html": [
       "<pre style=\"white-space:pre;overflow-x:auto;line-height:normal;font-family:Menlo,'DejaVu Sans Mono',consolas,'Courier New',monospace\"><span style=\"color: #7fbfbf; text-decoration-color: #7fbfbf\">                    </span><span style=\"color: #008000; text-decoration-color: #008000\">INFO    </span> <span style=\"color: #808000; text-decoration-color: #808000; font-weight: bold\">Rendered</span> Lorespin                                   <a href=\"file://D:\\Python39\\lib\\site-packages\\manim\\scene\\scene.py\"><span style=\"color: #7f7f7f; text-decoration-color: #7f7f7f\">scene.py</span></a><span style=\"color: #7f7f7f; text-decoration-color: #7f7f7f\">:</span><a href=\"file://D:\\Python39\\lib\\site-packages\\manim\\scene\\scene.py#237\"><span style=\"color: #7f7f7f; text-decoration-color: #7f7f7f\">237</span></a>\n",
       "                             <span style=\"color: #808000; text-decoration-color: #808000; font-weight: bold\">Played</span> <span style=\"color: #008000; text-decoration-color: #008000\">1</span> <span style=\"color: #808000; text-decoration-color: #808000; font-weight: bold\">animations</span>                                             \n",
       "</pre>\n"
      ],
      "text/plain": [
       "\u001b[2;36m                   \u001b[0m\u001b[2;36m \u001b[0m\u001b[32mINFO    \u001b[0m \u001b[1;33mRendered\u001b[0m Lorespin                                   \u001b]8;id=90468;file://D:\\Python39\\lib\\site-packages\\manim\\scene\\scene.py\u001b\\\u001b[2mscene.py\u001b[0m\u001b]8;;\u001b\\\u001b[2m:\u001b[0m\u001b]8;id=260289;file://D:\\Python39\\lib\\site-packages\\manim\\scene\\scene.py#237\u001b\\\u001b[2m237\u001b[0m\u001b]8;;\u001b\\\n",
       "                             \u001b[1;33mPlayed\u001b[0m \u001b[32m1\u001b[0m \u001b[1;33manimations\u001b[0m                                             \n"
      ]
     },
     "metadata": {},
     "output_type": "display_data"
    },
    {
     "data": {
      "text/html": [
       "<video src=\"media\\jupyter\\Lorespin@2022-03-17@11-21-12.mp4\" controls autoplay loop style=\"max-width: 60%;\"  >\n",
       "      Your browser does not support the <code>video</code> element.\n",
       "    </video>"
      ],
      "text/plain": [
       "<IPython.core.display.Video object>"
      ]
     },
     "metadata": {},
     "output_type": "display_data"
    }
   ],
   "source": [
    "%%manim Lorespin\n",
    "config.background_color=BLACK\n",
    "config.transparent=True\n",
    "config.save_as_gif=False\n",
    "\n",
    "import random\n",
    "def subsample(data, sample_size):\n",
    "    samples = list(zip(*[iter(data)]*sample_size))   # use 3 for triplets, etc.\n",
    "    return list( map(lambda x:sum(x)/float(len(x)), samples) )\n",
    "class Lorespin(Scene):\n",
    "    def construct(self):\n",
    "        \n",
    "        lore = ImageMobject('papaj.png')\n",
    "        pixel_array = np.multiply(lore.get_pixel_array(), random.randint(0,255))\n",
    "        w,h =  pixel_array.shape[0],  pixel_array.shape[1]\n",
    "        W=ValueTracker(8)\n",
    "        \n",
    "        \n",
    "        def getImage():\n",
    "            vg = VGroup()\n",
    "            size = int(W.get_value())+1\n",
    "            for x in np.linspace(0,w,size, endpoint=False): \n",
    "                for y in np.linspace(0,h,size, endpoint=False):\n",
    "                    rgba = pixel_array[int(x),int(y),:]\n",
    "                    brightness = np.sum(np.multiply(rgba[0:3],[0.299, 0.587, 0.114]))\n",
    "                    color = rgba_to_color( (np.divide( rgba, 255) ) %1 )\n",
    "\n",
    "                    vg.add(Dot([size*x/w, size*y/h, brightness], radius=brightness/255))\n",
    "            \n",
    "            vg.arrange_in_grid(buff=0)\n",
    "            vg.center()\n",
    "            vg.scale_to_fit_width(7)\n",
    "            vg.scale_to_fit_height(7)\n",
    "#             mob.become(vg)\n",
    "            \n",
    "            return vg\n",
    "\n",
    "        vg=always_redraw(getImage)\n",
    "        self.add(vg)\n",
    "#         vg.add_updater(getImage)\n",
    "#         self.play(W.animate.increment_value(2**4))\n",
    "        self.wait(5)\n",
    "                \n",
    "                \n",
    "            "
   ]
  },
  {
   "cell_type": "code",
   "execution_count": 5,
   "id": "2a89a413-80fd-4e96-b5a2-6bdec8fec228",
   "metadata": {},
   "outputs": [
    {
     "name": "stdout",
     "output_type": "stream",
     "text": [
      "[0 0 0 0]\n",
      "[0 0 0 0]\n",
      "[0 0 0 0]\n",
      "[0 0 0 0]\n",
      "[0 0 0 0]\n",
      "[0 0 0 0]\n",
      "[0 0 0 0]\n",
      "[0 0 0 0]\n",
      "[0 0 0 0]\n",
      "[0 0 0 0]\n",
      "[0 0 0 0]\n",
      "[254 181 166 255]\n",
      "[0 0 0 0]\n",
      "[0 0 0 0]\n",
      "[255 164 140 255]\n",
      "[0 0 0 0]\n",
      "[0 0 0 0]\n",
      "[0 0 0 0]\n",
      "[0 0 0 0]\n",
      "[0 0 0 0]\n",
      "[0 0 0 0]\n",
      "[245 208 193 255]\n",
      "[251 227 212 255]\n",
      "[242 207 194 255]\n",
      "[255 144 124 255]\n",
      "[250 227 217 255]\n",
      "[237 205 192 255]\n",
      "[241 210 196 255]\n",
      "[252 220 208 255]\n",
      "[0 0 0 0]\n",
      "[0 0 0 0]\n",
      "[248 237 232  26]\n",
      "[240 192 167 255]\n",
      "[233 171 161 255]\n",
      "[245 209 196 255]\n",
      "[247 211 199 255]\n",
      "[238 207 194 255]\n",
      "[244 213 200 255]\n",
      "[232 194 179 255]\n",
      "[244 221 210 255]\n",
      "[0 0 0 0]\n",
      "[244 212 197 217]\n",
      "[254 181 166 255]\n",
      "[237 194 178 255]\n",
      "[232 202 188 255]\n",
      "[248 209 195 255]\n",
      "[232 194 179 255]\n",
      "[233 198 185 255]\n",
      "[245 201 188 255]\n",
      "[236 199 186 255]\n",
      "[0 0 0 0]\n",
      "[0 0 0 0]\n",
      "[244 201 177 255]\n",
      "[246 183 166 255]\n",
      "[235 191 173 255]\n",
      "[247 216 202 255]\n",
      "[243 199 183 255]\n",
      "[234 177 161 255]\n",
      "[237 180 165 255]\n",
      "[240 196 184 255]\n",
      "[0 0 0 0]\n",
      "[0 0 0 0]\n",
      "[0 0 0 0]\n",
      "[244 187 171 255]\n",
      "[242 169 149 255]\n",
      "[239 191 181 255]\n",
      "[0 0 0 0]\n",
      "[235 159 144 255]\n",
      "[236 167 151 255]\n",
      "[244 193 184 255]\n",
      "[0 0 0 0]\n",
      "[0 0 0 0]\n",
      "[0 0 0 0]\n",
      "[239 201 183 255]\n",
      "[0 0 0 0]\n",
      "[244 195 178 255]\n",
      "[0 0 0 0]\n",
      "[0 0 0 0]\n",
      "[229 138 130 255]\n",
      "[242 176 168 255]\n",
      "[0 0 0 0]\n",
      "[0 0 0 0]\n",
      "[0 0 0 0]\n",
      "[0 0 0 0]\n",
      "[0 0 0 0]\n",
      "[0 0 0 0]\n",
      "[0 0 0 0]\n",
      "[0 0 0 0]\n",
      "[232 169 156 255]\n",
      "[236 167 151 255]\n",
      "[0 0 0 0]\n",
      "[0 0 0 0]\n",
      "[0 0 0 0]\n",
      "[0 0 0 0]\n",
      "[232 155 127 255]\n",
      "[0 0 0 0]\n",
      "[0 0 0 0]\n",
      "[0 0 0 0]\n",
      "[218 117 105 255]\n",
      "[0 0 0 0]\n"
     ]
    },
    {
     "data": {
      "text/html": [
       "<pre style=\"white-space:pre;overflow-x:auto;line-height:normal;font-family:Menlo,'DejaVu Sans Mono',consolas,'Courier New',monospace\"><span style=\"color: #7fbfbf; text-decoration-color: #7fbfbf\">[02/26/22 17:31:01] </span><span style=\"color: #008000; text-decoration-color: #008000\">INFO    </span>                                         <a href=\"file://D:\\Python39\\lib\\site-packages\\manim\\scene\\scene_file_writer.py\"><span style=\"color: #7f7f7f; text-decoration-color: #7f7f7f\">scene_file_writer.py</span></a><span style=\"color: #7f7f7f; text-decoration-color: #7f7f7f\">:</span><a href=\"file://D:\\Python39\\lib\\site-packages\\manim\\scene\\scene_file_writer.py#729\"><span style=\"color: #7f7f7f; text-decoration-color: #7f7f7f\">729</span></a>\n",
       "                             <span style=\"color: #808000; text-decoration-color: #808000; font-weight: bold\">File</span> ready at                                                   \n",
       "                             <span style=\"color: #008000; text-decoration-color: #008000\">'D:\\Programming\\Python\\jupyter </span>                                 \n",
       "                             <span style=\"color: #008000; text-decoration-color: #008000\">notebooks\\media\\images\\jupyter </span>                                 \n",
       "                             <span style=\"color: #008000; text-decoration-color: #008000\">notebooks\\Lorespin_ManimCE_v0.14.0.png'</span>                         \n",
       "                                                                                             \n",
       "</pre>\n"
      ],
      "text/plain": [
       "\u001b[2;36m[02/26/22 17:31:01]\u001b[0m\u001b[2;36m \u001b[0m\u001b[32mINFO    \u001b[0m                                         \u001b]8;id=861180;file://D:\\Python39\\lib\\site-packages\\manim\\scene\\scene_file_writer.py\u001b\\\u001b[2mscene_file_writer.py\u001b[0m\u001b]8;;\u001b\\\u001b[2m:\u001b[0m\u001b]8;id=14640;file://D:\\Python39\\lib\\site-packages\\manim\\scene\\scene_file_writer.py#729\u001b\\\u001b[2m729\u001b[0m\u001b]8;;\u001b\\\n",
       "                             \u001b[1;33mFile\u001b[0m ready at                                                   \n",
       "                             \u001b[32m'D:\\Programming\\Python\\jupyter \u001b[0m                                 \n",
       "                             \u001b[32mnotebooks\\media\\images\\jupyter \u001b[0m                                 \n",
       "                             \u001b[32mnotebooks\\Lorespin_ManimCE_v0.14.0.png'\u001b[0m                         \n",
       "                                                                                             \n"
      ]
     },
     "metadata": {},
     "output_type": "display_data"
    },
    {
     "data": {
      "text/html": [
       "<pre style=\"white-space:pre;overflow-x:auto;line-height:normal;font-family:Menlo,'DejaVu Sans Mono',consolas,'Courier New',monospace\"><span style=\"color: #7fbfbf; text-decoration-color: #7fbfbf\">                    </span><span style=\"color: #008000; text-decoration-color: #008000\">INFO    </span> <span style=\"color: #808000; text-decoration-color: #808000; font-weight: bold\">Rendered</span> Lorespin                                   <a href=\"file://D:\\Python39\\lib\\site-packages\\manim\\scene\\scene.py\"><span style=\"color: #7f7f7f; text-decoration-color: #7f7f7f\">scene.py</span></a><span style=\"color: #7f7f7f; text-decoration-color: #7f7f7f\">:</span><a href=\"file://D:\\Python39\\lib\\site-packages\\manim\\scene\\scene.py#237\"><span style=\"color: #7f7f7f; text-decoration-color: #7f7f7f\">237</span></a>\n",
       "                             <span style=\"color: #808000; text-decoration-color: #808000; font-weight: bold\">Played</span> <span style=\"color: #008000; text-decoration-color: #008000\">0</span> <span style=\"color: #808000; text-decoration-color: #808000; font-weight: bold\">animations</span>                                             \n",
       "</pre>\n"
      ],
      "text/plain": [
       "\u001b[2;36m                   \u001b[0m\u001b[2;36m \u001b[0m\u001b[32mINFO    \u001b[0m \u001b[1;33mRendered\u001b[0m Lorespin                                   \u001b]8;id=891556;file://D:\\Python39\\lib\\site-packages\\manim\\scene\\scene.py\u001b\\\u001b[2mscene.py\u001b[0m\u001b]8;;\u001b\\\u001b[2m:\u001b[0m\u001b]8;id=42944;file://D:\\Python39\\lib\\site-packages\\manim\\scene\\scene.py#237\u001b\\\u001b[2m237\u001b[0m\u001b]8;;\u001b\\\n",
       "                             \u001b[1;33mPlayed\u001b[0m \u001b[32m0\u001b[0m \u001b[1;33manimations\u001b[0m                                             \n"
      ]
     },
     "metadata": {},
     "output_type": "display_data"
    },
    {
     "data": {
      "image/png": "[encoded data removed]",
      "text/plain": [
       "<IPython.core.display.Image object>"
      ]
     },
     "metadata": {},
     "output_type": "display_data"
    }
   ],
   "source": [
    "    \n",
    "class Papajspin(Scene):\n",
    "    n=0\n",
    "    width=ValueTracker(1)\n",
    "    height=ValueTracker(10)\n",
    "    def pixelize(self):\n",
    "        pixel_array = self.pixel_array\n",
    "        w,h =  pixel_array.shape[0],  pixel_array.shape[1]\n",
    "        W, H = int(self.width.get_value()), int(self.height.get_value())\n",
    "        vg = VGroup(*[Dot(color=rgba_to_color(np.divide(pixel_array[int(x),int(y),:], 255))) for x in np.linspace(0,w,W, endpoint=False) for y in np.linspace(0,h,H, endpoint=False)])\n",
    "        \n",
    "        return vg.arrange_in_grid(buff=0)\n",
    "    def construct(self):\n",
    "        lore = ImageMobject('pig.png')\n",
    "        self.pixel_array =lore.get_pixel_array()\n",
    "        papaj = ImageMobject('papaj.png')\n",
    "        vg = always_redraw(self.pixelize)\n",
    "        self.add(vg)\n",
    "        self.play(self.width.animate.set_value(20))\n",
    "        self.play(self.height.animate.set_value(20))\n",
    "        self.play(self.height.animate.set_value(50))\n",
    "        self.play(self.height.animate.set_value(50))\n",
    "#         a, b = np.split(self.pixel_array,2)\n",
    "#         self.pixel_array = np.concatenate( (np.multiply(ImageMobject(a).set_color(WHITE).get_pixel_array(), a), np.multiply(ImageMobject(b).set_color(RED).get_pixel_array(), b)) )\n",
    "#         self.add(vg)\n",
    "        a, b = np.split(self.pixel_array,2)\n",
    "        self.pixel_array = np.concatenate( (np.multiply(ImageMobject(a).set_color(RED).get_pixel_array(), a), np.multiply(ImageMobject(b).set_color(GREEN).get_pixel_array(), b)) )\n",
    "        self.add(vg)\n",
    "        self.play(self.width.animate.set_value(103), self.height.animate.set_value(103))\n",
    "        self.play(self.width.animate.set_value(50), self.height.animate.set_value(1))\n",
    "class Papajspin2(Scene):\n",
    "    n=0\n",
    "    def construct(self):\n",
    "        lore = ImageMobject('papaj.png')\n",
    "        pixel_array =lore.get_pixel_array()\n",
    "#         pixel_array = (subsample(lore.get_pixel_array(),4))\n",
    "#         papaj1 = lore.center()\n",
    "# #         self.wait()\n",
    "        g=Group(*[Dot(color=rgba_to_color([r/255,g/255,b/255,a/255])) for rgba in pixel_array for r,g,b,a in rgba]).arrange_in_grid( buff=0).scale_to_fit_height(8)\n",
    "        self.add(g)"
   ]
  },
  {
   "cell_type": "code",
   "execution_count": 3,
   "id": "cfd0e298-ed96-4165-8bab-cce111ce6da0",
   "metadata": {},
   "outputs": [
    {
     "data": {
      "text/html": [
       "<pre style=\"white-space:pre;overflow-x:auto;line-height:normal;font-family:Menlo,'DejaVu Sans Mono',consolas,'Courier New',monospace\"><span style=\"color: #7fbfbf; text-decoration-color: #7fbfbf\">[02/26/22 14:08:04] </span><span style=\"color: #008000; text-decoration-color: #008000\">INFO    </span> Animation <span style=\"color: #008000; text-decoration-color: #008000\">0</span> : Using cached data <span style=\"font-weight: bold\">(</span>hash :     <a href=\"file://D:\\Python39\\lib\\site-packages\\manim\\renderer\\cairo_renderer.py\"><span style=\"color: #7f7f7f; text-decoration-color: #7f7f7f\">cairo_renderer.py</span></a><span style=\"color: #7f7f7f; text-decoration-color: #7f7f7f\">:</span><a href=\"file://D:\\Python39\\lib\\site-packages\\manim\\renderer\\cairo_renderer.py#74\"><span style=\"color: #7f7f7f; text-decoration-color: #7f7f7f\">74</span></a>\n",
       "                             3163782288_3811959932_2784110674<span style=\"font-weight: bold\">)</span>                               \n",
       "</pre>\n"
      ],
      "text/plain": [
       "\u001b[2;36m[02/26/22 14:08:04]\u001b[0m\u001b[2;36m \u001b[0m\u001b[32mINFO    \u001b[0m Animation \u001b[32m0\u001b[0m : Using cached data \u001b[1m(\u001b[0mhash :     \u001b]8;id=829310;file://D:\\Python39\\lib\\site-packages\\manim\\renderer\\cairo_renderer.py\u001b\\\u001b[2mcairo_renderer.py\u001b[0m\u001b]8;;\u001b\\\u001b[2m:\u001b[0m\u001b]8;id=169658;file://D:\\Python39\\lib\\site-packages\\manim\\renderer\\cairo_renderer.py#74\u001b\\\u001b[2m74\u001b[0m\u001b]8;;\u001b\\\n",
       "                             3163782288_3811959932_2784110674\u001b[1m)\u001b[0m                               \n"
      ]
     },
     "metadata": {},
     "output_type": "display_data"
    },
    {
     "name": "stderr",
     "output_type": "stream",
     "text": [
      "                                                         \r"
     ]
    },
    {
     "data": {
      "text/html": [
       "<pre style=\"white-space:pre;overflow-x:auto;line-height:normal;font-family:Menlo,'DejaVu Sans Mono',consolas,'Courier New',monospace\"><span style=\"color: #7fbfbf; text-decoration-color: #7fbfbf\">[02/26/22 14:08:11] </span><span style=\"color: #008000; text-decoration-color: #008000\">INFO    </span> Animation <span style=\"color: #008000; text-decoration-color: #008000\">1</span> : Using cached data <span style=\"font-weight: bold\">(</span>hash :     <a href=\"file://D:\\Python39\\lib\\site-packages\\manim\\renderer\\cairo_renderer.py\"><span style=\"color: #7f7f7f; text-decoration-color: #7f7f7f\">cairo_renderer.py</span></a><span style=\"color: #7f7f7f; text-decoration-color: #7f7f7f\">:</span><a href=\"file://D:\\Python39\\lib\\site-packages\\manim\\renderer\\cairo_renderer.py#74\"><span style=\"color: #7f7f7f; text-decoration-color: #7f7f7f\">74</span></a>\n",
       "                             2201830969_4132514632_2179769959<span style=\"font-weight: bold\">)</span>                               \n",
       "</pre>\n"
      ],
      "text/plain": [
       "\u001b[2;36m[02/26/22 14:08:11]\u001b[0m\u001b[2;36m \u001b[0m\u001b[32mINFO    \u001b[0m Animation \u001b[32m1\u001b[0m : Using cached data \u001b[1m(\u001b[0mhash :     \u001b]8;id=825900;file://D:\\Python39\\lib\\site-packages\\manim\\renderer\\cairo_renderer.py\u001b\\\u001b[2mcairo_renderer.py\u001b[0m\u001b]8;;\u001b\\\u001b[2m:\u001b[0m\u001b]8;id=771778;file://D:\\Python39\\lib\\site-packages\\manim\\renderer\\cairo_renderer.py#74\u001b\\\u001b[2m74\u001b[0m\u001b]8;;\u001b\\\n",
       "                             2201830969_4132514632_2179769959\u001b[1m)\u001b[0m                               \n"
      ]
     },
     "metadata": {},
     "output_type": "display_data"
    },
    {
     "name": "stderr",
     "output_type": "stream",
     "text": [
      "                                                         \r"
     ]
    },
    {
     "data": {
      "text/html": [
       "<pre style=\"white-space:pre;overflow-x:auto;line-height:normal;font-family:Menlo,'DejaVu Sans Mono',consolas,'Courier New',monospace\"><span style=\"color: #7fbfbf; text-decoration-color: #7fbfbf\">[02/26/22 14:08:12] </span><span style=\"color: #008000; text-decoration-color: #008000\">INFO    </span> Animation <span style=\"color: #008000; text-decoration-color: #008000\">2</span> : Partial movie file        <a href=\"file://D:\\Python39\\lib\\site-packages\\manim\\scene\\scene_file_writer.py\"><span style=\"color: #7f7f7f; text-decoration-color: #7f7f7f\">scene_file_writer.py</span></a><span style=\"color: #7f7f7f; text-decoration-color: #7f7f7f\">:</span><a href=\"file://D:\\Python39\\lib\\site-packages\\manim\\scene\\scene_file_writer.py#514\"><span style=\"color: #7f7f7f; text-decoration-color: #7f7f7f\">514</span></a>\n",
       "                             written in                                                      \n",
       "                             <span style=\"color: #008000; text-decoration-color: #008000\">'D:\\Programming\\Python\\jupyter </span>                                 \n",
       "                             <span style=\"color: #008000; text-decoration-color: #008000\">notebooks\\media\\videos\\jupyter notebook</span>                         \n",
       "                             <span style=\"color: #008000; text-decoration-color: #008000\">s\\480p15\\partial_movie_files\\PolarPlane</span>                         \n",
       "                             <span style=\"color: #008000; text-decoration-color: #008000\">Example\\1495979052_2478587744_191365395</span>                         \n",
       "                             <span style=\"color: #008000; text-decoration-color: #008000\">4.mp4'</span>                                                          \n",
       "</pre>\n"
      ],
      "text/plain": [
       "\u001b[2;36m[02/26/22 14:08:12]\u001b[0m\u001b[2;36m \u001b[0m\u001b[32mINFO    \u001b[0m Animation \u001b[32m2\u001b[0m : Partial movie file        \u001b]8;id=334130;file://D:\\Python39\\lib\\site-packages\\manim\\scene\\scene_file_writer.py\u001b\\\u001b[2mscene_file_writer.py\u001b[0m\u001b]8;;\u001b\\\u001b[2m:\u001b[0m\u001b]8;id=225006;file://D:\\Python39\\lib\\site-packages\\manim\\scene\\scene_file_writer.py#514\u001b\\\u001b[2m514\u001b[0m\u001b]8;;\u001b\\\n",
       "                             written in                                                      \n",
       "                             \u001b[32m'D:\\Programming\\Python\\jupyter \u001b[0m                                 \n",
       "                             \u001b[32mnotebooks\\media\\videos\\jupyter notebook\u001b[0m                         \n",
       "                             \u001b[32ms\\480p15\\partial_movie_files\\PolarPlane\u001b[0m                         \n",
       "                             \u001b[32mExample\\1495979052_2478587744_191365395\u001b[0m                         \n",
       "                             \u001b[32m4.mp4'\u001b[0m                                                          \n"
      ]
     },
     "metadata": {},
     "output_type": "display_data"
    },
    {
     "data": {
      "text/html": [
       "<pre style=\"white-space:pre;overflow-x:auto;line-height:normal;font-family:Menlo,'DejaVu Sans Mono',consolas,'Courier New',monospace\"><span style=\"color: #7fbfbf; text-decoration-color: #7fbfbf\">                    </span><span style=\"color: #008000; text-decoration-color: #008000\">INFO    </span> Combining to Movie file.                <a href=\"file://D:\\Python39\\lib\\site-packages\\manim\\scene\\scene_file_writer.py\"><span style=\"color: #7f7f7f; text-decoration-color: #7f7f7f\">scene_file_writer.py</span></a><span style=\"color: #7f7f7f; text-decoration-color: #7f7f7f\">:</span><a href=\"file://D:\\Python39\\lib\\site-packages\\manim\\scene\\scene_file_writer.py#608\"><span style=\"color: #7f7f7f; text-decoration-color: #7f7f7f\">608</span></a>\n",
       "</pre>\n"
      ],
      "text/plain": [
       "\u001b[2;36m                   \u001b[0m\u001b[2;36m \u001b[0m\u001b[32mINFO    \u001b[0m Combining to Movie file.                \u001b]8;id=919847;file://D:\\Python39\\lib\\site-packages\\manim\\scene\\scene_file_writer.py\u001b\\\u001b[2mscene_file_writer.py\u001b[0m\u001b]8;;\u001b\\\u001b[2m:\u001b[0m\u001b]8;id=667163;file://D:\\Python39\\lib\\site-packages\\manim\\scene\\scene_file_writer.py#608\u001b\\\u001b[2m608\u001b[0m\u001b]8;;\u001b\\\n"
      ]
     },
     "metadata": {},
     "output_type": "display_data"
    },
    {
     "data": {
      "text/html": [
       "<pre style=\"white-space:pre;overflow-x:auto;line-height:normal;font-family:Menlo,'DejaVu Sans Mono',consolas,'Courier New',monospace\"><span style=\"color: #7fbfbf; text-decoration-color: #7fbfbf\">                    </span><span style=\"color: #008000; text-decoration-color: #008000\">INFO    </span>                                         <a href=\"file://D:\\Python39\\lib\\site-packages\\manim\\scene\\scene_file_writer.py\"><span style=\"color: #7f7f7f; text-decoration-color: #7f7f7f\">scene_file_writer.py</span></a><span style=\"color: #7f7f7f; text-decoration-color: #7f7f7f\">:</span><a href=\"file://D:\\Python39\\lib\\site-packages\\manim\\scene\\scene_file_writer.py#729\"><span style=\"color: #7f7f7f; text-decoration-color: #7f7f7f\">729</span></a>\n",
       "                             <span style=\"color: #808000; text-decoration-color: #808000; font-weight: bold\">File</span> ready at                                                   \n",
       "                             <span style=\"color: #008000; text-decoration-color: #008000\">'D:\\Programming\\Python\\jupyter </span>                                 \n",
       "                             <span style=\"color: #008000; text-decoration-color: #008000\">notebooks\\media\\videos\\jupyter </span>                                 \n",
       "                             <span style=\"color: #008000; text-decoration-color: #008000\">notebooks\\480p15\\PolarPlaneExample.mp4'</span>                         \n",
       "                                                                                             \n",
       "</pre>\n"
      ],
      "text/plain": [
       "\u001b[2;36m                   \u001b[0m\u001b[2;36m \u001b[0m\u001b[32mINFO    \u001b[0m                                         \u001b]8;id=619553;file://D:\\Python39\\lib\\site-packages\\manim\\scene\\scene_file_writer.py\u001b\\\u001b[2mscene_file_writer.py\u001b[0m\u001b]8;;\u001b\\\u001b[2m:\u001b[0m\u001b]8;id=53119;file://D:\\Python39\\lib\\site-packages\\manim\\scene\\scene_file_writer.py#729\u001b\\\u001b[2m729\u001b[0m\u001b]8;;\u001b\\\n",
       "                             \u001b[1;33mFile\u001b[0m ready at                                                   \n",
       "                             \u001b[32m'D:\\Programming\\Python\\jupyter \u001b[0m                                 \n",
       "                             \u001b[32mnotebooks\\media\\videos\\jupyter \u001b[0m                                 \n",
       "                             \u001b[32mnotebooks\\480p15\\PolarPlaneExample.mp4'\u001b[0m                         \n",
       "                                                                                             \n"
      ]
     },
     "metadata": {},
     "output_type": "display_data"
    },
    {
     "data": {
      "text/html": [
       "<pre style=\"white-space:pre;overflow-x:auto;line-height:normal;font-family:Menlo,'DejaVu Sans Mono',consolas,'Courier New',monospace\"><span style=\"color: #7fbfbf; text-decoration-color: #7fbfbf\">                    </span><span style=\"color: #008000; text-decoration-color: #008000\">INFO    </span> <span style=\"color: #808000; text-decoration-color: #808000; font-weight: bold\">Rendered</span> PolarPlaneExample                          <a href=\"file://D:\\Python39\\lib\\site-packages\\manim\\scene\\scene.py\"><span style=\"color: #7f7f7f; text-decoration-color: #7f7f7f\">scene.py</span></a><span style=\"color: #7f7f7f; text-decoration-color: #7f7f7f\">:</span><a href=\"file://D:\\Python39\\lib\\site-packages\\manim\\scene\\scene.py#237\"><span style=\"color: #7f7f7f; text-decoration-color: #7f7f7f\">237</span></a>\n",
       "                             <span style=\"color: #808000; text-decoration-color: #808000; font-weight: bold\">Played</span> <span style=\"color: #008000; text-decoration-color: #008000\">3</span> <span style=\"color: #808000; text-decoration-color: #808000; font-weight: bold\">animations</span>                                             \n",
       "</pre>\n"
      ],
      "text/plain": [
       "\u001b[2;36m                   \u001b[0m\u001b[2;36m \u001b[0m\u001b[32mINFO    \u001b[0m \u001b[1;33mRendered\u001b[0m PolarPlaneExample                          \u001b]8;id=386491;file://D:\\Python39\\lib\\site-packages\\manim\\scene\\scene.py\u001b\\\u001b[2mscene.py\u001b[0m\u001b]8;;\u001b\\\u001b[2m:\u001b[0m\u001b]8;id=283323;file://D:\\Python39\\lib\\site-packages\\manim\\scene\\scene.py#237\u001b\\\u001b[2m237\u001b[0m\u001b]8;;\u001b\\\n",
       "                             \u001b[1;33mPlayed\u001b[0m \u001b[32m3\u001b[0m \u001b[1;33manimations\u001b[0m                                             \n"
      ]
     },
     "metadata": {},
     "output_type": "display_data"
    },
    {
     "data": {
      "text/html": [
       "<video src=\"media\\jupyter\\PolarPlaneExample@2022-02-26@14-08-12.mp4\" controls autoplay loop style=\"max-width: 60%;\"  >\n",
       "      Your browser does not support the <code>video</code> element.\n",
       "    </video>"
      ],
      "text/plain": [
       "<IPython.core.display.Video object>"
      ]
     },
     "metadata": {},
     "output_type": "display_data"
    }
   ],
   "source": [
    "%%manim PolarPlaneExample\n",
    "class PolarPlaneExample(Scene):\n",
    "    def construct(self):\n",
    "        ax = Axes(\n",
    "            x_range=[-10, 10, 1],\n",
    "            y_range=[-4, 4, 1],\n",
    "            tips=False,\n",
    "            axis_config={\"include_numbers\": False},\n",
    "#             y_axis_config={\"scaling\": LogBase(custom_labels=True)},\n",
    "        )\n",
    "\n",
    "        # x_min must be > 0 because log is undefined at 0.\n",
    "        graph = ax.plot(lambda x: np.sin(x), x_range=[-10, 10], use_smoothing=False)\n",
    "        self.add(ax, graph)\n",
    "        \n",
    "        plane = NumberPlane(\n",
    "           x_range=[-10, 10, 1],\n",
    "            y_range=[-4, 4, 1],\n",
    "            tips=False,\n",
    "            axis_config={\"include_numbers\": False},\n",
    "        ).add_coordinates()\n",
    "        pplane = PolarPlane(\n",
    "            azimuth_units=\"PI radians\",\n",
    "            size=6,\n",
    "            azimuth_label_font_size=33.6,\n",
    "            radius_config={\"include_numbers\": False},\n",
    "#             background_line_style={\"stroke_opacity\": 0.4},\n",
    "        ).add_coordinates()\n",
    "        r = lambda theta: 4 #* np.sin(theta)\n",
    "        graph2 = plane.plot_polar_graph(r, [0, 2 * PI])\n",
    "        self.play( Transform(graph, graph2) )\n",
    "        self.play(FadeIn( pplane ))\n",
    "        \n",
    "#         self.play(plane.animate.apply_function_to_submobject_positions(np.log))\n",
    "        self.wait()"
   ]
  },
  {
   "cell_type": "code",
   "execution_count": 137,
   "id": "a49c03da-e0a9-4703-9771-1361dc77c777",
   "metadata": {},
   "outputs": [
    {
     "name": "stderr",
     "output_type": "stream",
     "text": [
      "                                                         \r"
     ]
    },
    {
     "data": {
      "text/html": [
       "<pre style=\"white-space:pre;overflow-x:auto;line-height:normal;font-family:Menlo,'DejaVu Sans Mono',consolas,'Courier New',monospace\"><span style=\"color: #7fbfbf; text-decoration-color: #7fbfbf\">[02/25/22 07:01:10] </span><span style=\"color: #008000; text-decoration-color: #008000\">INFO    </span> Animation <span style=\"color: #008000; text-decoration-color: #008000\">0</span> : Partial movie file        <a href=\"file://D:\\Python39\\lib\\site-packages\\manim\\scene\\scene_file_writer.py\"><span style=\"color: #7f7f7f; text-decoration-color: #7f7f7f\">scene_file_writer.py</span></a><span style=\"color: #7f7f7f; text-decoration-color: #7f7f7f\">:</span><a href=\"file://D:\\Python39\\lib\\site-packages\\manim\\scene\\scene_file_writer.py#514\"><span style=\"color: #7f7f7f; text-decoration-color: #7f7f7f\">514</span></a>\n",
       "                             written in                                                      \n",
       "                             <span style=\"color: #008000; text-decoration-color: #008000\">'D:\\Programming\\Python\\jupyter </span>                                 \n",
       "                             <span style=\"color: #008000; text-decoration-color: #008000\">notebooks\\media\\videos\\jupyter notebook</span>                         \n",
       "                             <span style=\"color: #008000; text-decoration-color: #008000\">s\\480p15\\partial_movie_files\\CurvePlot\\</span>                         \n",
       "                             <span style=\"color: #008000; text-decoration-color: #008000\">3163782288_4182026500_2281312306.mp4'</span>                           \n",
       "</pre>\n"
      ],
      "text/plain": [
       "\u001b[2;36m[02/25/22 07:01:10]\u001b[0m\u001b[2;36m \u001b[0m\u001b[32mINFO    \u001b[0m Animation \u001b[32m0\u001b[0m : Partial movie file        \u001b]8;id=218395;file://D:\\Python39\\lib\\site-packages\\manim\\scene\\scene_file_writer.py\u001b\\\u001b[2mscene_file_writer.py\u001b[0m\u001b]8;;\u001b\\\u001b[2m:\u001b[0m\u001b]8;id=511245;file://D:\\Python39\\lib\\site-packages\\manim\\scene\\scene_file_writer.py#514\u001b\\\u001b[2m514\u001b[0m\u001b]8;;\u001b\\\n",
       "                             written in                                                      \n",
       "                             \u001b[32m'D:\\Programming\\Python\\jupyter \u001b[0m                                 \n",
       "                             \u001b[32mnotebooks\\media\\videos\\jupyter notebook\u001b[0m                         \n",
       "                             \u001b[32ms\\480p15\\partial_movie_files\\CurvePlot\\\u001b[0m                         \n",
       "                             \u001b[32m3163782288_4182026500_2281312306.mp4'\u001b[0m                           \n"
      ]
     },
     "metadata": {},
     "output_type": "display_data"
    },
    {
     "name": "stdout",
     "output_type": "stream",
     "text": [
      "[07:01:10] INFO     Animation 0 : scene_file_writer.py:514\n",
      "                    Partial movie                         \n",
      "                    file written                          \n",
      "                    in 'D:\\Progra                         \n",
      "                    mming\\Python\\                         \n",
      "                    jupyter noteb                         \n",
      "                    ooks\\media\\vi                         \n",
      "                    deos\\jupyter                          \n",
      "                    notebooks\\480                         \n",
      "                    p15\\partial_m                         \n",
      "                    ovie_files\\Cu                         \n",
      "                    rvePlot\\31637                         \n",
      "                    82288_4182026                         \n",
      "                    500_228131230                         \n",
      "                    6.mp4'                                \n"
     ]
    },
    {
     "data": {
      "text/html": [
       "<pre style=\"white-space:pre;overflow-x:auto;line-height:normal;font-family:Menlo,'DejaVu Sans Mono',consolas,'Courier New',monospace\"><span style=\"color: #7fbfbf; text-decoration-color: #7fbfbf\">[02/25/22 07:01:11] </span><span style=\"color: #008000; text-decoration-color: #008000\">INFO    </span> Combining to Movie file.                <a href=\"file://D:\\Python39\\lib\\site-packages\\manim\\scene\\scene_file_writer.py\"><span style=\"color: #7f7f7f; text-decoration-color: #7f7f7f\">scene_file_writer.py</span></a><span style=\"color: #7f7f7f; text-decoration-color: #7f7f7f\">:</span><a href=\"file://D:\\Python39\\lib\\site-packages\\manim\\scene\\scene_file_writer.py#608\"><span style=\"color: #7f7f7f; text-decoration-color: #7f7f7f\">608</span></a>\n",
       "</pre>\n"
      ],
      "text/plain": [
       "\u001b[2;36m[02/25/22 07:01:11]\u001b[0m\u001b[2;36m \u001b[0m\u001b[32mINFO    \u001b[0m Combining to Movie file.                \u001b]8;id=717590;file://D:\\Python39\\lib\\site-packages\\manim\\scene\\scene_file_writer.py\u001b\\\u001b[2mscene_file_writer.py\u001b[0m\u001b]8;;\u001b\\\u001b[2m:\u001b[0m\u001b]8;id=605403;file://D:\\Python39\\lib\\site-packages\\manim\\scene\\scene_file_writer.py#608\u001b\\\u001b[2m608\u001b[0m\u001b]8;;\u001b\\\n"
      ]
     },
     "metadata": {},
     "output_type": "display_data"
    },
    {
     "name": "stdout",
     "output_type": "stream",
     "text": [
      "[07:01:11] INFO     Combining to  scene_file_writer.py:608\n",
      "                    Movie file.                           \n"
     ]
    },
    {
     "data": {
      "text/html": [
       "<pre style=\"white-space:pre;overflow-x:auto;line-height:normal;font-family:Menlo,'DejaVu Sans Mono',consolas,'Courier New',monospace\"><span style=\"color: #7fbfbf; text-decoration-color: #7fbfbf\">[02/25/22 07:01:34] </span><span style=\"color: #008000; text-decoration-color: #008000\">INFO    </span>                                         <a href=\"file://D:\\Python39\\lib\\site-packages\\manim\\scene\\scene_file_writer.py\"><span style=\"color: #7f7f7f; text-decoration-color: #7f7f7f\">scene_file_writer.py</span></a><span style=\"color: #7f7f7f; text-decoration-color: #7f7f7f\">:</span><a href=\"file://D:\\Python39\\lib\\site-packages\\manim\\scene\\scene_file_writer.py#729\"><span style=\"color: #7f7f7f; text-decoration-color: #7f7f7f\">729</span></a>\n",
       "                             <span style=\"color: #808000; text-decoration-color: #808000; font-weight: bold\">File</span> ready at                                                   \n",
       "                             <span style=\"color: #008000; text-decoration-color: #008000\">'D:\\Programming\\Python\\jupyter </span>                                 \n",
       "                             <span style=\"color: #008000; text-decoration-color: #008000\">notebooks\\media\\videos\\jupyter </span>                                 \n",
       "                             <span style=\"color: #008000; text-decoration-color: #008000\">notebooks\\480p15\\CurvePlot.mp4'</span>                                 \n",
       "                                                                                             \n",
       "</pre>\n"
      ],
      "text/plain": [
       "\u001b[2;36m[02/25/22 07:01:34]\u001b[0m\u001b[2;36m \u001b[0m\u001b[32mINFO    \u001b[0m                                         \u001b]8;id=117640;file://D:\\Python39\\lib\\site-packages\\manim\\scene\\scene_file_writer.py\u001b\\\u001b[2mscene_file_writer.py\u001b[0m\u001b]8;;\u001b\\\u001b[2m:\u001b[0m\u001b]8;id=883146;file://D:\\Python39\\lib\\site-packages\\manim\\scene\\scene_file_writer.py#729\u001b\\\u001b[2m729\u001b[0m\u001b]8;;\u001b\\\n",
       "                             \u001b[1;33mFile\u001b[0m ready at                                                   \n",
       "                             \u001b[32m'D:\\Programming\\Python\\jupyter \u001b[0m                                 \n",
       "                             \u001b[32mnotebooks\\media\\videos\\jupyter \u001b[0m                                 \n",
       "                             \u001b[32mnotebooks\\480p15\\CurvePlot.mp4'\u001b[0m                                 \n",
       "                                                                                             \n"
      ]
     },
     "metadata": {},
     "output_type": "display_data"
    },
    {
     "name": "stdout",
     "output_type": "stream",
     "text": [
      "[07:01:34] INFO                   scene_file_writer.py:729\n",
      "                    File ready at                         \n",
      "                    'D:\\Programmi                         \n",
      "                    ng\\Python\\jup                         \n",
      "                    yter notebook                         \n",
      "                    s\\media\\video                         \n",
      "                    s\\jupyter not                         \n",
      "                    ebooks\\480p15                         \n",
      "                    \\CurvePlot.mp                         \n",
      "                    4'                                    \n",
      "                                                          \n"
     ]
    },
    {
     "data": {
      "text/html": [
       "<pre style=\"white-space:pre;overflow-x:auto;line-height:normal;font-family:Menlo,'DejaVu Sans Mono',consolas,'Courier New',monospace\"><span style=\"color: #7fbfbf; text-decoration-color: #7fbfbf\">                    </span><span style=\"color: #008000; text-decoration-color: #008000\">INFO    </span> The partial movie directory is full <span style=\"font-weight: bold\">(</span>&gt;  <a href=\"file://D:\\Python39\\lib\\site-packages\\manim\\scene\\scene_file_writer.py\"><span style=\"color: #7f7f7f; text-decoration-color: #7f7f7f\">scene_file_writer.py</span></a><span style=\"color: #7f7f7f; text-decoration-color: #7f7f7f\">:</span><a href=\"file://D:\\Python39\\lib\\site-packages\\manim\\scene\\scene_file_writer.py#700\"><span style=\"color: #7f7f7f; text-decoration-color: #7f7f7f\">700</span></a>\n",
       "                             <span style=\"color: #008000; text-decoration-color: #008000\">100</span> files<span style=\"font-weight: bold\">)</span>. Therefore, manim has                                \n",
       "                             removed the <span style=\"color: #008000; text-decoration-color: #008000\">2</span> oldest <span style=\"color: #800080; text-decoration-color: #800080; font-weight: bold\">file</span><span style=\"font-weight: bold\">(</span>s<span style=\"font-weight: bold\">)</span>. You can                           \n",
       "                             change this behaviour by changing                               \n",
       "                             max_files_cached in config.                                     \n",
       "</pre>\n"
      ],
      "text/plain": [
       "\u001b[2;36m                   \u001b[0m\u001b[2;36m \u001b[0m\u001b[32mINFO    \u001b[0m The partial movie directory is full \u001b[1m(\u001b[0m>  \u001b]8;id=824472;file://D:\\Python39\\lib\\site-packages\\manim\\scene\\scene_file_writer.py\u001b\\\u001b[2mscene_file_writer.py\u001b[0m\u001b]8;;\u001b\\\u001b[2m:\u001b[0m\u001b]8;id=411701;file://D:\\Python39\\lib\\site-packages\\manim\\scene\\scene_file_writer.py#700\u001b\\\u001b[2m700\u001b[0m\u001b]8;;\u001b\\\n",
       "                             \u001b[32m100\u001b[0m files\u001b[1m)\u001b[0m. Therefore, manim has                                \n",
       "                             removed the \u001b[32m2\u001b[0m oldest \u001b[1;35mfile\u001b[0m\u001b[1m(\u001b[0ms\u001b[1m)\u001b[0m. You can                           \n",
       "                             change this behaviour by changing                               \n",
       "                             max_files_cached in config.                                     \n"
      ]
     },
     "metadata": {},
     "output_type": "display_data"
    },
    {
     "name": "stdout",
     "output_type": "stream",
     "text": [
      "           INFO     The partial   scene_file_writer.py:700\n",
      "                    movie                                 \n",
      "                    directory is                          \n",
      "                    full (> 100                           \n",
      "                    files).                               \n",
      "                    Therefore,                            \n",
      "                    manim has                             \n",
      "                    removed the 2                         \n",
      "                    oldest                                \n",
      "                    file(s). You                          \n",
      "                    can change                            \n",
      "                    this                                  \n",
      "                    behaviour by                          \n",
      "                    changing max_                         \n",
      "                    files_cached                          \n",
      "                    in config.                            \n"
     ]
    },
    {
     "data": {
      "text/html": [
       "<pre style=\"white-space:pre;overflow-x:auto;line-height:normal;font-family:Menlo,'DejaVu Sans Mono',consolas,'Courier New',monospace\"><span style=\"color: #7fbfbf; text-decoration-color: #7fbfbf\">                    </span><span style=\"color: #008000; text-decoration-color: #008000\">INFO    </span> <span style=\"color: #808000; text-decoration-color: #808000; font-weight: bold\">Rendered</span> CurvePlot                                  <a href=\"file://D:\\Python39\\lib\\site-packages\\manim\\scene\\scene.py\"><span style=\"color: #7f7f7f; text-decoration-color: #7f7f7f\">scene.py</span></a><span style=\"color: #7f7f7f; text-decoration-color: #7f7f7f\">:</span><a href=\"file://D:\\Python39\\lib\\site-packages\\manim\\scene\\scene.py#237\"><span style=\"color: #7f7f7f; text-decoration-color: #7f7f7f\">237</span></a>\n",
       "                             <span style=\"color: #808000; text-decoration-color: #808000; font-weight: bold\">Played</span> <span style=\"color: #008000; text-decoration-color: #008000\">1</span> <span style=\"color: #808000; text-decoration-color: #808000; font-weight: bold\">animations</span>                                             \n",
       "</pre>\n"
      ],
      "text/plain": [
       "\u001b[2;36m                   \u001b[0m\u001b[2;36m \u001b[0m\u001b[32mINFO    \u001b[0m \u001b[1;33mRendered\u001b[0m CurvePlot                                  \u001b]8;id=529541;file://D:\\Python39\\lib\\site-packages\\manim\\scene\\scene.py\u001b\\\u001b[2mscene.py\u001b[0m\u001b]8;;\u001b\\\u001b[2m:\u001b[0m\u001b]8;id=724443;file://D:\\Python39\\lib\\site-packages\\manim\\scene\\scene.py#237\u001b\\\u001b[2m237\u001b[0m\u001b]8;;\u001b\\\n",
       "                             \u001b[1;33mPlayed\u001b[0m \u001b[32m1\u001b[0m \u001b[1;33manimations\u001b[0m                                             \n"
      ]
     },
     "metadata": {},
     "output_type": "display_data"
    },
    {
     "name": "stdout",
     "output_type": "stream",
     "text": [
      "           INFO     Rendered CurvePlot        scene.py:237\n",
      "                    Played 1 animations                   \n"
     ]
    },
    {
     "data": {
      "text/html": [
       "<video src=\"media\\jupyter\\CurvePlot@2022-02-25@07-01-34.mp4\" controls autoplay loop style=\"max-width: 60%;\"  >\n",
       "      Your browser does not support the <code>video</code> element.\n",
       "    </video>"
      ],
      "text/plain": [
       "<IPython.core.display.Video object>"
      ]
     },
     "metadata": {},
     "output_type": "display_data"
    }
   ],
   "source": [
    "%%manim CurvePlot\n",
    "\n",
    "\n",
    "    \n",
    "import random\n",
    "def get_m_mod_n_objects(circle,x=None,y=None):\n",
    "    gradient_colors = [RED,YELLOW,BLUE]\n",
    "\n",
    "    if x==None:\n",
    "        x=random.random()\n",
    "    if y==None:\n",
    "        y = 30\n",
    "    lines = VGroup()\n",
    "    for i in range(y):\n",
    "        start_point = circle.point_from_proportion((i%y)/y)\n",
    "        end_point = circle.point_from_proportion(((i*x)%y)/y)\n",
    "        line = Line(start_point,end_point).set_stroke(width=1)\n",
    "        arc= ArcBetweenPoints(start=start_point, end=end_point).set_stroke(width=1)\n",
    "        lines.add(line, arc)\n",
    "        \n",
    "    lines.set_color_by_gradient(*gradient_colors)\n",
    "    return lines\n",
    "class CurvePlot(Scene):\n",
    "    \n",
    "    t_offset=0\n",
    "    def construct(self):\n",
    "        c = Circle(radius=5)\n",
    "        curves = VGroup()\n",
    "        curves.add(Line(ORIGIN,ORIGIN, color=YELLOW_D))\n",
    "        def get_curve(mob, dt,rate=.1):\n",
    "            self.t_offset+=dt*rate\n",
    "            \n",
    "#             last_line = curves[-1]\n",
    "#             A=last_line.get_end()\n",
    "#             B=c.point_from_proportion(random.random())\n",
    "#             new_line = Line(A,B, color=YELLOW_D)\n",
    "#             curves.add(new_line)\n",
    "            \n",
    "            curves.become(get_m_mod_n_objects(c,self.t_offset))\n",
    "        curves.add_updater(get_curve)\n",
    "        self.add(curves)\n",
    "#         self.wait()\n",
    "        self.wait(1200)\n",
    "\n",
    "        \n",
    "#         def invert(z):\n",
    "#             if all(z)!=0:\n",
    "#                 return z**(-1)\n",
    "#             else:\n",
    "#                 return 0\n",
    "# #         self.play(curves.animate.apply_function_to_submobject_positions(lambda pos: invert(pos)))\n",
    "#         self.play( curves.animate.apply_function_to_submobject_positions(lambda pos: circInv2d(pos, c)) )\n",
    "#         self.wait()c\n",
    "        curves.remove_updater(get_curve)\n",
    "        "
   ]
  },
  {
   "cell_type": "code",
   "execution_count": 35,
   "id": "9a4d61a4-0dc0-4725-959c-18498317e536",
   "metadata": {},
   "outputs": [
    {
     "data": {
      "text/html": [
       "<pre style=\"white-space:pre;overflow-x:auto;line-height:normal;font-family:Menlo,'DejaVu Sans Mono',consolas,'Courier New',monospace\"><span style=\"color: #7fbfbf; text-decoration-color: #7fbfbf\">[02/24/22 14:39:38] </span><span style=\"color: #008000; text-decoration-color: #008000\">INFO    </span> Animation <span style=\"color: #008000; text-decoration-color: #008000\">0</span> : Using cached data <span style=\"font-weight: bold\">(</span>hash :     <a href=\"file://D:\\Python39\\lib\\site-packages\\manim\\renderer\\cairo_renderer.py\"><span style=\"color: #7f7f7f; text-decoration-color: #7f7f7f\">cairo_renderer.py</span></a><span style=\"color: #7f7f7f; text-decoration-color: #7f7f7f\">:</span><a href=\"file://D:\\Python39\\lib\\site-packages\\manim\\renderer\\cairo_renderer.py#74\"><span style=\"color: #7f7f7f; text-decoration-color: #7f7f7f\">74</span></a>\n",
       "                             3163782288_1515588106_1256473225<span style=\"font-weight: bold\">)</span>                               \n",
       "</pre>\n"
      ],
      "text/plain": [
       "\u001b[2;36m[02/24/22 14:39:38]\u001b[0m\u001b[2;36m \u001b[0m\u001b[32mINFO    \u001b[0m Animation \u001b[32m0\u001b[0m : Using cached data \u001b[1m(\u001b[0mhash :     \u001b]8;id=997827;file://D:\\Python39\\lib\\site-packages\\manim\\renderer\\cairo_renderer.py\u001b\\\u001b[2mcairo_renderer.py\u001b[0m\u001b]8;;\u001b\\\u001b[2m:\u001b[0m\u001b]8;id=352296;file://D:\\Python39\\lib\\site-packages\\manim\\renderer\\cairo_renderer.py#74\u001b\\\u001b[2m74\u001b[0m\u001b]8;;\u001b\\\n",
       "                             3163782288_1515588106_1256473225\u001b[1m)\u001b[0m                               \n"
      ]
     },
     "metadata": {},
     "output_type": "display_data"
    },
    {
     "name": "stderr",
     "output_type": "stream",
     "text": [
      "                                                         \r"
     ]
    },
    {
     "data": {
      "text/html": [
       "<pre style=\"white-space:pre;overflow-x:auto;line-height:normal;font-family:Menlo,'DejaVu Sans Mono',consolas,'Courier New',monospace\"><span style=\"color: #7fbfbf; text-decoration-color: #7fbfbf\">[02/24/22 14:39:41] </span><span style=\"color: #008000; text-decoration-color: #008000\">INFO    </span> Animation <span style=\"color: #008000; text-decoration-color: #008000\">1</span> : Partial movie file        <a href=\"file://D:\\Python39\\lib\\site-packages\\manim\\scene\\scene_file_writer.py\"><span style=\"color: #7f7f7f; text-decoration-color: #7f7f7f\">scene_file_writer.py</span></a><span style=\"color: #7f7f7f; text-decoration-color: #7f7f7f\">:</span><a href=\"file://D:\\Python39\\lib\\site-packages\\manim\\scene\\scene_file_writer.py#514\"><span style=\"color: #7f7f7f; text-decoration-color: #7f7f7f\">514</span></a>\n",
       "                             written in                                                      \n",
       "                             <span style=\"color: #008000; text-decoration-color: #008000\">'D:\\Programming\\Python\\jupyter </span>                                 \n",
       "                             <span style=\"color: #008000; text-decoration-color: #008000\">notebooks\\media\\videos\\jupyter notebook</span>                         \n",
       "                             <span style=\"color: #008000; text-decoration-color: #008000\">s\\480p15\\partial_movie_files\\PlottingEx</span>                         \n",
       "                             <span style=\"color: #008000; text-decoration-color: #008000\">ample\\2201830969_1676967760_792389506.m</span>                         \n",
       "                             <span style=\"color: #008000; text-decoration-color: #008000\">p4'</span>                                                             \n",
       "</pre>\n"
      ],
      "text/plain": [
       "\u001b[2;36m[02/24/22 14:39:41]\u001b[0m\u001b[2;36m \u001b[0m\u001b[32mINFO    \u001b[0m Animation \u001b[32m1\u001b[0m : Partial movie file        \u001b]8;id=102961;file://D:\\Python39\\lib\\site-packages\\manim\\scene\\scene_file_writer.py\u001b\\\u001b[2mscene_file_writer.py\u001b[0m\u001b]8;;\u001b\\\u001b[2m:\u001b[0m\u001b]8;id=147163;file://D:\\Python39\\lib\\site-packages\\manim\\scene\\scene_file_writer.py#514\u001b\\\u001b[2m514\u001b[0m\u001b]8;;\u001b\\\n",
       "                             written in                                                      \n",
       "                             \u001b[32m'D:\\Programming\\Python\\jupyter \u001b[0m                                 \n",
       "                             \u001b[32mnotebooks\\media\\videos\\jupyter notebook\u001b[0m                         \n",
       "                             \u001b[32ms\\480p15\\partial_movie_files\\PlottingEx\u001b[0m                         \n",
       "                             \u001b[32mample\\2201830969_1676967760_792389506.m\u001b[0m                         \n",
       "                             \u001b[32mp4'\u001b[0m                                                             \n"
      ]
     },
     "metadata": {},
     "output_type": "display_data"
    },
    {
     "data": {
      "text/html": [
       "<pre style=\"white-space:pre;overflow-x:auto;line-height:normal;font-family:Menlo,'DejaVu Sans Mono',consolas,'Courier New',monospace\"><span style=\"color: #7fbfbf; text-decoration-color: #7fbfbf\">                    </span><span style=\"color: #008000; text-decoration-color: #008000\">INFO    </span> Combining to Movie file.                <a href=\"file://D:\\Python39\\lib\\site-packages\\manim\\scene\\scene_file_writer.py\"><span style=\"color: #7f7f7f; text-decoration-color: #7f7f7f\">scene_file_writer.py</span></a><span style=\"color: #7f7f7f; text-decoration-color: #7f7f7f\">:</span><a href=\"file://D:\\Python39\\lib\\site-packages\\manim\\scene\\scene_file_writer.py#608\"><span style=\"color: #7f7f7f; text-decoration-color: #7f7f7f\">608</span></a>\n",
       "</pre>\n"
      ],
      "text/plain": [
       "\u001b[2;36m                   \u001b[0m\u001b[2;36m \u001b[0m\u001b[32mINFO    \u001b[0m Combining to Movie file.                \u001b]8;id=232031;file://D:\\Python39\\lib\\site-packages\\manim\\scene\\scene_file_writer.py\u001b\\\u001b[2mscene_file_writer.py\u001b[0m\u001b]8;;\u001b\\\u001b[2m:\u001b[0m\u001b]8;id=124328;file://D:\\Python39\\lib\\site-packages\\manim\\scene\\scene_file_writer.py#608\u001b\\\u001b[2m608\u001b[0m\u001b]8;;\u001b\\\n"
      ]
     },
     "metadata": {},
     "output_type": "display_data"
    },
    {
     "data": {
      "text/html": [
       "<pre style=\"white-space:pre;overflow-x:auto;line-height:normal;font-family:Menlo,'DejaVu Sans Mono',consolas,'Courier New',monospace\"><span style=\"color: #7fbfbf; text-decoration-color: #7fbfbf\">[02/24/22 14:39:42] </span><span style=\"color: #008000; text-decoration-color: #008000\">INFO    </span>                                         <a href=\"file://D:\\Python39\\lib\\site-packages\\manim\\scene\\scene_file_writer.py\"><span style=\"color: #7f7f7f; text-decoration-color: #7f7f7f\">scene_file_writer.py</span></a><span style=\"color: #7f7f7f; text-decoration-color: #7f7f7f\">:</span><a href=\"file://D:\\Python39\\lib\\site-packages\\manim\\scene\\scene_file_writer.py#729\"><span style=\"color: #7f7f7f; text-decoration-color: #7f7f7f\">729</span></a>\n",
       "                             <span style=\"color: #808000; text-decoration-color: #808000; font-weight: bold\">File</span> ready at                                                   \n",
       "                             <span style=\"color: #008000; text-decoration-color: #008000\">'D:\\Programming\\Python\\jupyter </span>                                 \n",
       "                             <span style=\"color: #008000; text-decoration-color: #008000\">notebooks\\media\\videos\\jupyter </span>                                 \n",
       "                             <span style=\"color: #008000; text-decoration-color: #008000\">notebooks\\480p15\\PlottingExample.mp4'</span>                           \n",
       "                                                                                             \n",
       "</pre>\n"
      ],
      "text/plain": [
       "\u001b[2;36m[02/24/22 14:39:42]\u001b[0m\u001b[2;36m \u001b[0m\u001b[32mINFO    \u001b[0m                                         \u001b]8;id=658259;file://D:\\Python39\\lib\\site-packages\\manim\\scene\\scene_file_writer.py\u001b\\\u001b[2mscene_file_writer.py\u001b[0m\u001b]8;;\u001b\\\u001b[2m:\u001b[0m\u001b]8;id=149080;file://D:\\Python39\\lib\\site-packages\\manim\\scene\\scene_file_writer.py#729\u001b\\\u001b[2m729\u001b[0m\u001b]8;;\u001b\\\n",
       "                             \u001b[1;33mFile\u001b[0m ready at                                                   \n",
       "                             \u001b[32m'D:\\Programming\\Python\\jupyter \u001b[0m                                 \n",
       "                             \u001b[32mnotebooks\\media\\videos\\jupyter \u001b[0m                                 \n",
       "                             \u001b[32mnotebooks\\480p15\\PlottingExample.mp4'\u001b[0m                           \n",
       "                                                                                             \n"
      ]
     },
     "metadata": {},
     "output_type": "display_data"
    },
    {
     "data": {
      "text/html": [
       "<pre style=\"white-space:pre;overflow-x:auto;line-height:normal;font-family:Menlo,'DejaVu Sans Mono',consolas,'Courier New',monospace\"><span style=\"color: #7fbfbf; text-decoration-color: #7fbfbf\">                    </span><span style=\"color: #008000; text-decoration-color: #008000\">INFO    </span> <span style=\"color: #808000; text-decoration-color: #808000; font-weight: bold\">Rendered</span> PlottingExample                            <a href=\"file://D:\\Python39\\lib\\site-packages\\manim\\scene\\scene.py\"><span style=\"color: #7f7f7f; text-decoration-color: #7f7f7f\">scene.py</span></a><span style=\"color: #7f7f7f; text-decoration-color: #7f7f7f\">:</span><a href=\"file://D:\\Python39\\lib\\site-packages\\manim\\scene\\scene.py#237\"><span style=\"color: #7f7f7f; text-decoration-color: #7f7f7f\">237</span></a>\n",
       "                             <span style=\"color: #808000; text-decoration-color: #808000; font-weight: bold\">Played</span> <span style=\"color: #008000; text-decoration-color: #008000\">2</span> <span style=\"color: #808000; text-decoration-color: #808000; font-weight: bold\">animations</span>                                             \n",
       "</pre>\n"
      ],
      "text/plain": [
       "\u001b[2;36m                   \u001b[0m\u001b[2;36m \u001b[0m\u001b[32mINFO    \u001b[0m \u001b[1;33mRendered\u001b[0m PlottingExample                            \u001b]8;id=229866;file://D:\\Python39\\lib\\site-packages\\manim\\scene\\scene.py\u001b\\\u001b[2mscene.py\u001b[0m\u001b]8;;\u001b\\\u001b[2m:\u001b[0m\u001b]8;id=373527;file://D:\\Python39\\lib\\site-packages\\manim\\scene\\scene.py#237\u001b\\\u001b[2m237\u001b[0m\u001b]8;;\u001b\\\n",
       "                             \u001b[1;33mPlayed\u001b[0m \u001b[32m2\u001b[0m \u001b[1;33manimations\u001b[0m                                             \n"
      ]
     },
     "metadata": {},
     "output_type": "display_data"
    },
    {
     "data": {
      "text/html": [
       "<video src=\"media\\jupyter\\PlottingExample@2022-02-24@14-39-42.mp4\" controls autoplay loop style=\"max-width: 60%;\"  >\n",
       "      Your browser does not support the <code>video</code> element.\n",
       "    </video>"
      ],
      "text/plain": [
       "<IPython.core.display.Video object>"
      ]
     },
     "metadata": {},
     "output_type": "display_data"
    }
   ],
   "source": [
    "%%manim SinePlot\n",
    "\n",
    "class SinePlot(Scene):\n",
    "    t_offset=0\n",
    "    def construct(self):\n",
    "        ax = Axes(\n",
    "            x_range=[-3, 3, 1],\n",
    "            y_range=[-1, 1, 1],\n",
    "            tips=False,\n",
    "            axis_config={\"include_numbers\": True},\n",
    "#             y_axis_config={\"scaling\": LogBase(custom_labels=True)},\n",
    "        )\n",
    "\n",
    "        # x_min must be > 0 because log is undefined at 0.\n",
    "#         graph = ax.plot(lambda x: x ** 2, x_range=[0.001, 10], use_smoothing=False)\n",
    "        graph = ax.plot(lambda x: np.sin(x), x_range=[-PI, PI], use_smoothing=False)\n",
    "#         self.play(Create(ax), Write(graph))\n",
    "        self.add(ax, graph)\n",
    "        self.wait()\n",
    "        dot = Dot(radius=0.08, color=YELLOW).move_to(graph.point_from_proportion(0))\n",
    "        def go_around_sine(mob, dt, rate = 0.25):\n",
    "            self.t_offset += (dt * rate)\n",
    "            # print(self.t_offset)\n",
    "            mob.move_to(graph.point_from_proportion(self.t_offset % 1))\n",
    "        dot.add_updater(go_around_sine)\n",
    "        self.add(dot)\n",
    "        self.wait(4)\n",
    "\n",
    "        dot.remove_updater(go_around_sine)\n",
    "        "
   ]
  },
  {
   "cell_type": "code",
   "execution_count": 25,
   "id": "c0b6e694-f89c-440d-b5f2-19a7edfe7942",
   "metadata": {},
   "outputs": [
    {
     "data": {
      "text/html": [
       "<pre style=\"white-space:pre;overflow-x:auto;line-height:normal;font-family:Menlo,'DejaVu Sans Mono',consolas,'Courier New',monospace\"><span style=\"color: #7fbfbf; text-decoration-color: #7fbfbf\">[02/24/22 14:13:30] </span><span style=\"color: #008000; text-decoration-color: #008000\">INFO    </span> Animation <span style=\"color: #008000; text-decoration-color: #008000\">0</span> : Using cached data <span style=\"font-weight: bold\">(</span>hash :     <a href=\"file://D:\\Python39\\lib\\site-packages\\manim\\renderer\\cairo_renderer.py\"><span style=\"color: #7f7f7f; text-decoration-color: #7f7f7f\">cairo_renderer.py</span></a><span style=\"color: #7f7f7f; text-decoration-color: #7f7f7f\">:</span><a href=\"file://D:\\Python39\\lib\\site-packages\\manim\\renderer\\cairo_renderer.py#74\"><span style=\"color: #7f7f7f; text-decoration-color: #7f7f7f\">74</span></a>\n",
       "                             3163782288_1847145062_1275765806<span style=\"font-weight: bold\">)</span>                               \n",
       "</pre>\n"
      ],
      "text/plain": [
       "\u001b[2;36m[02/24/22 14:13:30]\u001b[0m\u001b[2;36m \u001b[0m\u001b[32mINFO    \u001b[0m Animation \u001b[32m0\u001b[0m : Using cached data \u001b[1m(\u001b[0mhash :     \u001b]8;id=832478;file://D:\\Python39\\lib\\site-packages\\manim\\renderer\\cairo_renderer.py\u001b\\\u001b[2mcairo_renderer.py\u001b[0m\u001b]8;;\u001b\\\u001b[2m:\u001b[0m\u001b]8;id=675137;file://D:\\Python39\\lib\\site-packages\\manim\\renderer\\cairo_renderer.py#74\u001b\\\u001b[2m74\u001b[0m\u001b]8;;\u001b\\\n",
       "                             3163782288_1847145062_1275765806\u001b[1m)\u001b[0m                               \n"
      ]
     },
     "metadata": {},
     "output_type": "display_data"
    },
    {
     "name": "stderr",
     "output_type": "stream",
     "text": [
      "                                                         \r"
     ]
    },
    {
     "data": {
      "text/html": [
       "<pre style=\"white-space:pre;overflow-x:auto;line-height:normal;font-family:Menlo,'DejaVu Sans Mono',consolas,'Courier New',monospace\"><span style=\"color: #7fbfbf; text-decoration-color: #7fbfbf\">                    </span><span style=\"color: #008000; text-decoration-color: #008000\">INFO    </span> Animation <span style=\"color: #008000; text-decoration-color: #008000\">1</span> : Partial movie file        <a href=\"file://D:\\Python39\\lib\\site-packages\\manim\\scene\\scene_file_writer.py\"><span style=\"color: #7f7f7f; text-decoration-color: #7f7f7f\">scene_file_writer.py</span></a><span style=\"color: #7f7f7f; text-decoration-color: #7f7f7f\">:</span><a href=\"file://D:\\Python39\\lib\\site-packages\\manim\\scene\\scene_file_writer.py#514\"><span style=\"color: #7f7f7f; text-decoration-color: #7f7f7f\">514</span></a>\n",
       "                             written in                                                      \n",
       "                             <span style=\"color: #008000; text-decoration-color: #008000\">'D:\\Programming\\Python\\jupyter </span>                                 \n",
       "                             <span style=\"color: #008000; text-decoration-color: #008000\">notebooks\\media\\videos\\jupyter notebook</span>                         \n",
       "                             <span style=\"color: #008000; text-decoration-color: #008000\">s\\480p15\\partial_movie_files\\LogScaling</span>                         \n",
       "                             <span style=\"color: #008000; text-decoration-color: #008000\">Example\\2201830969_398514950_2514178822</span>                         \n",
       "                             <span style=\"color: #008000; text-decoration-color: #008000\">.mp4'</span>                                                           \n",
       "</pre>\n"
      ],
      "text/plain": [
       "\u001b[2;36m                   \u001b[0m\u001b[2;36m \u001b[0m\u001b[32mINFO    \u001b[0m Animation \u001b[32m1\u001b[0m : Partial movie file        \u001b]8;id=198785;file://D:\\Python39\\lib\\site-packages\\manim\\scene\\scene_file_writer.py\u001b\\\u001b[2mscene_file_writer.py\u001b[0m\u001b]8;;\u001b\\\u001b[2m:\u001b[0m\u001b]8;id=219332;file://D:\\Python39\\lib\\site-packages\\manim\\scene\\scene_file_writer.py#514\u001b\\\u001b[2m514\u001b[0m\u001b]8;;\u001b\\\n",
       "                             written in                                                      \n",
       "                             \u001b[32m'D:\\Programming\\Python\\jupyter \u001b[0m                                 \n",
       "                             \u001b[32mnotebooks\\media\\videos\\jupyter notebook\u001b[0m                         \n",
       "                             \u001b[32ms\\480p15\\partial_movie_files\\LogScaling\u001b[0m                         \n",
       "                             \u001b[32mExample\\2201830969_398514950_2514178822\u001b[0m                         \n",
       "                             \u001b[32m.mp4'\u001b[0m                                                           \n"
      ]
     },
     "metadata": {},
     "output_type": "display_data"
    },
    {
     "data": {
      "text/html": [
       "<pre style=\"white-space:pre;overflow-x:auto;line-height:normal;font-family:Menlo,'DejaVu Sans Mono',consolas,'Courier New',monospace\"><span style=\"color: #7fbfbf; text-decoration-color: #7fbfbf\">                    </span><span style=\"color: #008000; text-decoration-color: #008000\">INFO    </span> Combining to Movie file.                <a href=\"file://D:\\Python39\\lib\\site-packages\\manim\\scene\\scene_file_writer.py\"><span style=\"color: #7f7f7f; text-decoration-color: #7f7f7f\">scene_file_writer.py</span></a><span style=\"color: #7f7f7f; text-decoration-color: #7f7f7f\">:</span><a href=\"file://D:\\Python39\\lib\\site-packages\\manim\\scene\\scene_file_writer.py#608\"><span style=\"color: #7f7f7f; text-decoration-color: #7f7f7f\">608</span></a>\n",
       "</pre>\n"
      ],
      "text/plain": [
       "\u001b[2;36m                   \u001b[0m\u001b[2;36m \u001b[0m\u001b[32mINFO    \u001b[0m Combining to Movie file.                \u001b]8;id=867381;file://D:\\Python39\\lib\\site-packages\\manim\\scene\\scene_file_writer.py\u001b\\\u001b[2mscene_file_writer.py\u001b[0m\u001b]8;;\u001b\\\u001b[2m:\u001b[0m\u001b]8;id=226939;file://D:\\Python39\\lib\\site-packages\\manim\\scene\\scene_file_writer.py#608\u001b\\\u001b[2m608\u001b[0m\u001b]8;;\u001b\\\n"
      ]
     },
     "metadata": {},
     "output_type": "display_data"
    },
    {
     "data": {
      "text/html": [
       "<pre style=\"white-space:pre;overflow-x:auto;line-height:normal;font-family:Menlo,'DejaVu Sans Mono',consolas,'Courier New',monospace\"><span style=\"color: #7fbfbf; text-decoration-color: #7fbfbf\">                    </span><span style=\"color: #008000; text-decoration-color: #008000\">INFO    </span>                                         <a href=\"file://D:\\Python39\\lib\\site-packages\\manim\\scene\\scene_file_writer.py\"><span style=\"color: #7f7f7f; text-decoration-color: #7f7f7f\">scene_file_writer.py</span></a><span style=\"color: #7f7f7f; text-decoration-color: #7f7f7f\">:</span><a href=\"file://D:\\Python39\\lib\\site-packages\\manim\\scene\\scene_file_writer.py#729\"><span style=\"color: #7f7f7f; text-decoration-color: #7f7f7f\">729</span></a>\n",
       "                             <span style=\"color: #808000; text-decoration-color: #808000; font-weight: bold\">File</span> ready at                                                   \n",
       "                             <span style=\"color: #008000; text-decoration-color: #008000\">'D:\\Programming\\Python\\jupyter </span>                                 \n",
       "                             <span style=\"color: #008000; text-decoration-color: #008000\">notebooks\\media\\videos\\jupyter </span>                                 \n",
       "                             <span style=\"color: #008000; text-decoration-color: #008000\">notebooks\\480p15\\LogScalingExample.mp4'</span>                         \n",
       "                                                                                             \n",
       "</pre>\n"
      ],
      "text/plain": [
       "\u001b[2;36m                   \u001b[0m\u001b[2;36m \u001b[0m\u001b[32mINFO    \u001b[0m                                         \u001b]8;id=327897;file://D:\\Python39\\lib\\site-packages\\manim\\scene\\scene_file_writer.py\u001b\\\u001b[2mscene_file_writer.py\u001b[0m\u001b]8;;\u001b\\\u001b[2m:\u001b[0m\u001b]8;id=213715;file://D:\\Python39\\lib\\site-packages\\manim\\scene\\scene_file_writer.py#729\u001b\\\u001b[2m729\u001b[0m\u001b]8;;\u001b\\\n",
       "                             \u001b[1;33mFile\u001b[0m ready at                                                   \n",
       "                             \u001b[32m'D:\\Programming\\Python\\jupyter \u001b[0m                                 \n",
       "                             \u001b[32mnotebooks\\media\\videos\\jupyter \u001b[0m                                 \n",
       "                             \u001b[32mnotebooks\\480p15\\LogScalingExample.mp4'\u001b[0m                         \n",
       "                                                                                             \n"
      ]
     },
     "metadata": {},
     "output_type": "display_data"
    },
    {
     "data": {
      "text/html": [
       "<pre style=\"white-space:pre;overflow-x:auto;line-height:normal;font-family:Menlo,'DejaVu Sans Mono',consolas,'Courier New',monospace\"><span style=\"color: #7fbfbf; text-decoration-color: #7fbfbf\">                    </span><span style=\"color: #008000; text-decoration-color: #008000\">INFO    </span> <span style=\"color: #808000; text-decoration-color: #808000; font-weight: bold\">Rendered</span> LogScalingExample                          <a href=\"file://D:\\Python39\\lib\\site-packages\\manim\\scene\\scene.py\"><span style=\"color: #7f7f7f; text-decoration-color: #7f7f7f\">scene.py</span></a><span style=\"color: #7f7f7f; text-decoration-color: #7f7f7f\">:</span><a href=\"file://D:\\Python39\\lib\\site-packages\\manim\\scene\\scene.py#237\"><span style=\"color: #7f7f7f; text-decoration-color: #7f7f7f\">237</span></a>\n",
       "                             <span style=\"color: #808000; text-decoration-color: #808000; font-weight: bold\">Played</span> <span style=\"color: #008000; text-decoration-color: #008000\">2</span> <span style=\"color: #808000; text-decoration-color: #808000; font-weight: bold\">animations</span>                                             \n",
       "</pre>\n"
      ],
      "text/plain": [
       "\u001b[2;36m                   \u001b[0m\u001b[2;36m \u001b[0m\u001b[32mINFO    \u001b[0m \u001b[1;33mRendered\u001b[0m LogScalingExample                          \u001b]8;id=579495;file://D:\\Python39\\lib\\site-packages\\manim\\scene\\scene.py\u001b\\\u001b[2mscene.py\u001b[0m\u001b]8;;\u001b\\\u001b[2m:\u001b[0m\u001b]8;id=966192;file://D:\\Python39\\lib\\site-packages\\manim\\scene\\scene.py#237\u001b\\\u001b[2m237\u001b[0m\u001b]8;;\u001b\\\n",
       "                             \u001b[1;33mPlayed\u001b[0m \u001b[32m2\u001b[0m \u001b[1;33manimations\u001b[0m                                             \n"
      ]
     },
     "metadata": {},
     "output_type": "display_data"
    },
    {
     "data": {
      "text/html": [
       "<video src=\"media\\jupyter\\LogScalingExample@2022-02-24@14-13-30.mp4\" controls autoplay loop style=\"max-width: 60%;\"  >\n",
       "      Your browser does not support the <code>video</code> element.\n",
       "    </video>"
      ],
      "text/plain": [
       "<IPython.core.display.Video object>"
      ]
     },
     "metadata": {},
     "output_type": "display_data"
    }
   ],
   "source": [
    "class Grid(Scene):\n",
    "    def construct(self):\n",
    "        plane = NumberPlane(\n",
    "            x_range = (0, 7),\n",
    "            y_range = (0, 5),\n",
    "            x_length = 7,\n",
    "            axis_config={\"include_numbers\": True},\n",
    "        )\n",
    "        plane.center()\n",
    "        line_graph = plane.plot_line_graph(\n",
    "            x_values = [0, 1.5, 2, 2.8, 4, 6.25],\n",
    "            y_values = [1, 3, 2.25, 4, 2.5, 1.75],\n",
    "            line_color=GOLD_E,\n",
    "            vertex_dot_style=dict(stroke_width=3,  fill_color=PURPLE),\n",
    "            stroke_width = 4,\n",
    "        )\n",
    "        self.add(plane, line_graph)\n",
    "    def func_to_graph(self,x):\n",
    "        return np.cos(x)\n",
    "\n",
    "    def func_to_graph2(self,x):\n",
    "        return np.sin(x)"
   ]
  },
  {
   "cell_type": "code",
   "execution_count": null,
   "id": "2f672675-982f-4df9-8229-b991efa29409",
   "metadata": {},
   "outputs": [],
   "source": []
  }
 ],
 "metadata": {
  "kernelspec": {
   "display_name": "Python 3 (ipykernel)",
   "language": "python",
   "name": "python3"
  },
  "language_info": {
   "codemirror_mode": {
    "name": "ipython",
    "version": 3
   },
   "file_extension": ".py",
   "mimetype": "text/x-python",
   "name": "python",
   "nbconvert_exporter": "python",
   "pygments_lexer": "ipython3",
   "version": "3.9.7"
  }
 },
 "nbformat": 4,
 "nbformat_minor": 5
}
