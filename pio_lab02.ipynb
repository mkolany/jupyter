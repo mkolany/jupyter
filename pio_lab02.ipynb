{
 "cells": [
  {
   "cell_type": "code",
   "execution_count": 19,
   "metadata": {},
   "outputs": [
    {
     "data": {
      "text/plain": [
       "5"
      ]
     },
     "execution_count": 19,
     "metadata": {},
     "output_type": "execute_result"
    }
   ],
   "source": [
    "# + * - / // %\n",
    "3 + 2"
   ]
  },
  {
   "cell_type": "markdown",
   "metadata": {},
   "source": [
    "# Typy, zmienne, literały"
   ]
  },
  {
   "cell_type": "code",
   "execution_count": 22,
   "metadata": {},
   "outputs": [],
   "source": [
    "zmienna = \"obj\""
   ]
  },
  {
   "cell_type": "code",
   "execution_count": 23,
   "metadata": {},
   "outputs": [
    {
     "data": {
      "text/plain": [
       "'obj'"
      ]
     },
     "execution_count": 23,
     "metadata": {},
     "output_type": "execute_result"
    }
   ],
   "source": [
    "zmienna"
   ]
  },
  {
   "cell_type": "code",
   "execution_count": 25,
   "metadata": {},
   "outputs": [
    {
     "data": {
      "text/plain": [
       "3"
      ]
     },
     "execution_count": 25,
     "metadata": {},
     "output_type": "execute_result"
    }
   ],
   "source": [
    "x = 3\n",
    "x"
   ]
  },
  {
   "cell_type": "code",
   "execution_count": 27,
   "metadata": {},
   "outputs": [
    {
     "data": {
      "text/plain": [
       "3.1415"
      ]
     },
     "execution_count": 27,
     "metadata": {},
     "output_type": "execute_result"
    }
   ],
   "source": [
    "y = 3.1415\n",
    "y"
   ]
  },
  {
   "cell_type": "code",
   "execution_count": 28,
   "metadata": {},
   "outputs": [
    {
     "data": {
      "text/plain": [
       "float"
      ]
     },
     "execution_count": 28,
     "metadata": {},
     "output_type": "execute_result"
    }
   ],
   "source": [
    "type(y)"
   ]
  },
  {
   "cell_type": "code",
   "execution_count": 29,
   "metadata": {},
   "outputs": [
    {
     "data": {
      "text/plain": [
       "int"
      ]
     },
     "execution_count": 29,
     "metadata": {},
     "output_type": "execute_result"
    }
   ],
   "source": [
    "type(x)"
   ]
  },
  {
   "cell_type": "code",
   "execution_count": 30,
   "metadata": {},
   "outputs": [
    {
     "data": {
      "text/plain": [
       "(3+12j)"
      ]
     },
     "execution_count": 30,
     "metadata": {},
     "output_type": "execute_result"
    }
   ],
   "source": [
    "z = 3 + 12j\n",
    "z"
   ]
  },
  {
   "cell_type": "code",
   "execution_count": 31,
   "metadata": {},
   "outputs": [
    {
     "data": {
      "text/plain": [
       "complex"
      ]
     },
     "execution_count": 31,
     "metadata": {},
     "output_type": "execute_result"
    }
   ],
   "source": [
    "type(z)"
   ]
  },
  {
   "cell_type": "code",
   "execution_count": 33,
   "metadata": {},
   "outputs": [],
   "source": [
    "xy = x + y"
   ]
  },
  {
   "cell_type": "code",
   "execution_count": 34,
   "metadata": {},
   "outputs": [
    {
     "data": {
      "text/plain": [
       "6.141500000000001"
      ]
     },
     "execution_count": 34,
     "metadata": {},
     "output_type": "execute_result"
    }
   ],
   "source": [
    "xy"
   ]
  },
  {
   "cell_type": "code",
   "execution_count": 35,
   "metadata": {},
   "outputs": [
    {
     "name": "stdout",
     "output_type": "stream",
     "text": [
      "6.141500000000001\n"
     ]
    }
   ],
   "source": [
    "print(xy)"
   ]
  },
  {
   "cell_type": "markdown",
   "metadata": {},
   "source": [
    "### Ćw 1\n",
    "Przelicz  temperaturę podaną w stopniach Celsiusza na stopnie Kelwina i Fahrenheita. Proszę użyć zmiennych.\n",
    "\n",
    "* Jadwiga: 20\n",
    "* Natalia B: 35\n",
    "* Daniel: 27\n",
    "* Gabriela: 28\n",
    "* Weronika: 16\n",
    "* Ziemowit: 35\n",
    "* Paweł: 18\n",
    "* Karolina: 17\n",
    "* Michał T: 25\n",
    "* Michał Z: 22\n",
    "* Vladyslav: 25\n",
    "* Kinga: 20\n",
    "* Natalia H: 28"
   ]
  },
  {
   "cell_type": "code",
   "execution_count": 45,
   "metadata": {},
   "outputs": [
    {
     "name": "stdout",
     "output_type": "stream",
     "text": [
      "Celsiusza: 16\n",
      "Kelwina: 289.15\n",
      "Fahrenheita: 60.8\n"
     ]
    }
   ],
   "source": [
    "C = 16\n",
    "\n",
    "K = 273.15 + C\n",
    "F = (C * 1.8) + 32\n",
    "\n",
    "print(\"Celsiusza:\", C)\n",
    "print(\"Kelwina:\", K)\n",
    "print(\"Fahrenheita:\", F)"
   ]
  },
  {
   "cell_type": "code",
   "execution_count": null,
   "metadata": {},
   "outputs": [],
   "source": []
  },
  {
   "cell_type": "markdown",
   "metadata": {},
   "source": [
    "## `print` i formatowanie zmiennych łańcuchowych"
   ]
  },
  {
   "cell_type": "code",
   "execution_count": 50,
   "metadata": {},
   "outputs": [],
   "source": [
    "s1 = 'apostrofy'"
   ]
  },
  {
   "cell_type": "code",
   "execution_count": 51,
   "metadata": {},
   "outputs": [],
   "source": [
    "s2 = \"cudzysłowy\""
   ]
  },
  {
   "cell_type": "code",
   "execution_count": 52,
   "metadata": {},
   "outputs": [],
   "source": [
    "s3 = '''3 \n",
    "\n",
    "apostrof'''"
   ]
  },
  {
   "cell_type": "code",
   "execution_count": 53,
   "metadata": {},
   "outputs": [],
   "source": [
    "s4 = \"\"\"3\n",
    "\n",
    "cudzysłów\"\"\""
   ]
  },
  {
   "cell_type": "code",
   "execution_count": 54,
   "metadata": {},
   "outputs": [
    {
     "data": {
      "text/plain": [
       "('apostrofy', 'cudzysłowy', '3 \\n\\napostrof', '3\\n\\ncudzysłów')"
      ]
     },
     "execution_count": 54,
     "metadata": {},
     "output_type": "execute_result"
    }
   ],
   "source": [
    "s1, s2, s3, s4"
   ]
  },
  {
   "cell_type": "code",
   "execution_count": 55,
   "metadata": {},
   "outputs": [
    {
     "data": {
      "text/plain": [
       "'zmienna s1 = apostrofy'"
      ]
     },
     "execution_count": 55,
     "metadata": {},
     "output_type": "execute_result"
    }
   ],
   "source": [
    "# c\n",
    "\"zmienna s1 = %s\" % s1 "
   ]
  },
  {
   "cell_type": "code",
   "execution_count": 56,
   "metadata": {},
   "outputs": [
    {
     "data": {
      "text/plain": [
       "'zmienne s1 = apostrofy, s2 = cudzysłowy'"
      ]
     },
     "execution_count": 56,
     "metadata": {},
     "output_type": "execute_result"
    }
   ],
   "source": [
    "\"zmienne s1 = %s, s2 = %s\" % (s1, s2)"
   ]
  },
  {
   "cell_type": "code",
   "execution_count": 57,
   "metadata": {},
   "outputs": [
    {
     "data": {
      "text/plain": [
       "'zmienne s1 = 123, s2 = 3.141500'"
      ]
     },
     "execution_count": 57,
     "metadata": {},
     "output_type": "execute_result"
    }
   ],
   "source": [
    "\"zmienne s1 = %d, s2 = %f\" % (123, 3.1415)"
   ]
  },
  {
   "cell_type": "code",
   "execution_count": 68,
   "metadata": {},
   "outputs": [
    {
     "data": {
      "text/plain": [
       "'zmienne 123 = 123, pi = 3.1415, s1 = apostrofy'"
      ]
     },
     "execution_count": 68,
     "metadata": {},
     "output_type": "execute_result"
    }
   ],
   "source": [
    "# python\n",
    "\"zmienne 123 = {}, pi = {}, s1 = {}\".format(123, 3.1415, s1)"
   ]
  },
  {
   "cell_type": "code",
   "execution_count": 69,
   "metadata": {},
   "outputs": [],
   "source": [
    "s11 = \"zmienne 123 = {}, pi = {}, s1 = {}\".format(123, 3.1415, s1)"
   ]
  },
  {
   "cell_type": "code",
   "execution_count": 70,
   "metadata": {},
   "outputs": [
    {
     "name": "stdout",
     "output_type": "stream",
     "text": [
      "zmienne 123 = 123, pi = 3.1415, s1 = apostrofy\n"
     ]
    }
   ],
   "source": [
    "print(s11)"
   ]
  },
  {
   "cell_type": "code",
   "execution_count": 64,
   "metadata": {},
   "outputs": [
    {
     "data": {
      "text/plain": [
       "'zmienne 123 = 123, pi = 3.1415, s1 = apostrofy'"
      ]
     },
     "execution_count": 64,
     "metadata": {},
     "output_type": "execute_result"
    }
   ],
   "source": [
    "s11"
   ]
  },
  {
   "cell_type": "code",
   "execution_count": 66,
   "metadata": {},
   "outputs": [
    {
     "data": {
      "text/plain": [
       "'zmienne apostrofy, 321, 3.1415'"
      ]
     },
     "execution_count": 66,
     "metadata": {},
     "output_type": "execute_result"
    }
   ],
   "source": [
    "# python\n",
    "f\"zmienne {s1}, {321}, {y}\""
   ]
  },
  {
   "cell_type": "code",
   "execution_count": 67,
   "metadata": {},
   "outputs": [
    {
     "name": "stdout",
     "output_type": "stream",
     "text": [
      "zmienne apostrofy, 321, 3.1415\n"
     ]
    }
   ],
   "source": [
    "s12 = f\"zmienne {s1}, {321}, {y}\"\n",
    "print(s12)"
   ]
  },
  {
   "cell_type": "code",
   "execution_count": null,
   "metadata": {},
   "outputs": [],
   "source": []
  },
  {
   "cell_type": "markdown",
   "metadata": {},
   "source": [
    "### Ćw 2\n",
    "Napisz prosty program zamieniający długość podaną w metrach na jednostki z wysp Brytyjskich (stopy, cale, jardy i mile). Użyj zmiennych. Odpowiedź sformatuj w ciągu znaków (`\"{} {}\".format(a, b)`)\n",
    "\n",
    "* 1 cal = 2.54 cm\n",
    "* 1 stopa = 12 cali\n",
    "* 1 jard = 3 stopy\n",
    "* 1 mila = 1760 jardów\n",
    "\n",
    "Zadania:\n",
    "* Jadwiga: 974 m na cale\n",
    "* Natalia B: 537 m na stopy\n",
    "* Daniel: 382 m na jardy \n",
    "* Gabriela: 296 m na mile\n",
    "* Weronika: 132 m na cale\n",
    "* Ziemowit: 937 m na stopy\n",
    "* Paweł: 775 m na jardy \n",
    "* Karolina: 767 m na mile\n",
    "* Michał T: 231 m na cale\n",
    "* Michał Z: 834 m na stopy\n",
    "* Vladyslav: 849 m na jardy \n",
    "* Kinga: 957 m na mile\n",
    "* Natalia H: 481 m na cale"
   ]
  },
  {
   "cell_type": "code",
   "execution_count": 75,
   "metadata": {},
   "outputs": [
    {
     "name": "stdout",
     "output_type": "stream",
     "text": [
      "132m to 5196.850393700787 cala\n",
      "382 metry to 0.23736379543466157 mili\n",
      "537 m to 1761.8110236220473 ft\n",
      "974m to 38346.45669291339 cala\n",
      "481 metrów to 18937.007874015748 cali\n",
      "834 metry na stopy 2736.2204724409453\n",
      "957m to 0.5946522309711286 mile\n"
     ]
    }
   ],
   "source": [
    "# Weronika Ladak\n",
    "metry = 132\n",
    "centymetry = metry * 100\n",
    "cale =  centymetry / 2.54\n",
    "print(\"{}m to {} cala\".format(metry, cale))\n",
    "\n",
    "# Daniel Dystrych\n",
    "metry = 382 \n",
    "cale = metry*100/2.54\n",
    "stopy = cale/12\n",
    "jard = stopy/3\n",
    "mile = jard/1760\n",
    "print('{} metry to {} mili'.format(metry,mile))\n",
    "\n",
    "# Natalia Barwinek11:01\n",
    "m = 537\n",
    "s = ((m*100)/2.54)/12\n",
    "print(\"{} m to {} ft\".format(m,s))\n",
    "\n",
    "# Jadwiga Jachymiak11:01\n",
    "m = 974\n",
    "cm  = m * 100\n",
    "cal =  cm / 2.54\n",
    "print(\"{}m to {} cala\".format (m, cal))\n",
    "\n",
    "# Natalia Homa11:01\n",
    "m = 481\n",
    "c = 100 * m / 2.54\n",
    "print(\"{} metrów to {} cali\".format(m,c))\n",
    "\n",
    "# Michal Zielinski11:01\n",
    "m = 834\n",
    "c = m * 100 / 2.54\n",
    "s = c / 12\n",
    "print(\"{} metry na stopy {}\". format(m,s))\n",
    "\n",
    "# Kinga\n",
    "metry =957 \n",
    "cm= metry *100\n",
    "cale= cm/2.54\n",
    "stopy= cale/12\n",
    "jard= stopy/3\n",
    "mile = jard/1760\n",
    "print(\"{}m to {} mile\".format (metry, mile))"
   ]
  },
  {
   "cell_type": "code",
   "execution_count": 74,
   "metadata": {},
   "outputs": [
    {
     "name": "stdout",
     "output_type": "stream",
     "text": [
      "481 metrów to 18937.007874015748 cali\n"
     ]
    }
   ],
   "source": [
    "m = 481\n",
    "c = 100 * m / 2.54\n",
    "print(\"{} metrów to {} cali\".format(m,c))"
   ]
  },
  {
   "cell_type": "markdown",
   "metadata": {},
   "source": [
    "### Cw 3\n",
    "Oblicz pierwiastki trójmianu kwadratowego. Użyj zmiennych. Odpowiedź sformatuj w ciągu znaków (`\"{} {}\".format(a, b)`) i wydrukuj `print`em.\n",
    "\n",
    "* Jadwiga: $5x^2 + 3x -6 = 0$\n",
    "* Natalia B: $6x^2 + 6x -8 = 0$\n",
    "* Daniel: $1x^2 + 5x -4 = 0$\n",
    "* Gabriela: $5x^2 + 4x -7 = 0$\n",
    "* Weronika: $6x^2 + 6x -3 = 0$\n",
    "* Ziemowit: $7x^2 + 6x -7 = 0$\n",
    "* Paweł: $7x^2 + 8x -2 = 0$\n",
    "* Karolina: $4x^2 + 6x -2 = 0$\n",
    "* Michał T: $1x^2 + 6x -8 = 0$\n",
    "* Michał Z: $2x^2 + 8x -8 = 0$\n",
    "* Vladyslav: $4x^2 + 9x -1 = 0$\n",
    "* Kinga: $3x^2 + 8x -4 = 0$\n",
    "* Natalia H: $4x^2 + 4x -9 = 0$"
   ]
  },
  {
   "cell_type": "code",
   "execution_count": 76,
   "metadata": {},
   "outputs": [
    {
     "name": "stdout",
     "output_type": "stream",
     "text": [
      "x1 wynosi 1.0, x2 wynosi 4.0\n"
     ]
    }
   ],
   "source": [
    "# Daniel Dystrych 11:09\n",
    "a, b, c = -1, 5, 4\n",
    "delta = b**2 + 4 * a * c\n",
    "x1, x2 = (-b + delta ** (1/2)) / (2 * a), (-b - delta ** (1/2)) / (2 * a)\n",
    "print('x1 wynosi {}, x2 wynosi {}'.format(x1, x2))"
   ]
  },
  {
   "cell_type": "code",
   "execution_count": 80,
   "metadata": {},
   "outputs": [
    {
     "name": "stdout",
     "output_type": "stream",
     "text": [
      "Rozwiązanie podanego równania: 0.36602540378443865 lub -1.3660254037844386\n",
      "rozwiązaniami równania kwadratowego są -4.83 i 0.83\n",
      "x1= to 3.8745078663875443, x2 = -27.874507866387546 \n",
      "x1 = -2.08113883008419, x2 = 1.0811388300841898\n",
      "x1 = 27.2990066116245, x2 = -63.2990066116245\n",
      "pierwiastki wielomianu: x1 = -1.7807764064044151, x2 = 0.28077640640441515\n",
      "x = -1.3135528725660044, y = 0.9135528725660043\n"
     ]
    }
   ],
   "source": [
    "# Weronika Ladak11:13\n",
    "import math\n",
    "# 6x^2 + 6x - 3 = 0\n",
    "a = 6\n",
    "b = 6\n",
    "c = -3\n",
    "delta = b**2 - 4*a*c\n",
    "pierwiastek = math.sqrt(delta)\n",
    "x1 = (-b + pierwiastek) / (2*a) \n",
    "x2 = (-b - pierwiastek) / (2*a)\n",
    "print(\"Rozwiązanie podanego równania: {} lub {}\".format(x1, x2))\n",
    "\n",
    "\n",
    "# Michal Zielinski11:13\n",
    "a = 2\n",
    "b = 8\n",
    "c = -8\n",
    "d = b**2 - 4 * a * c\n",
    "x1 = (-b - (d)**(1/2)) / (2*a)\n",
    "x2 = (-b + (d)**(1/2)) / (2*a)\n",
    "print(\"rozwiązaniami równania kwadratowego są {} i {}\". format(round(x1,2), round(x2,2)))\n",
    "\n",
    "# Kinga Banys11:13\n",
    "a=3\n",
    "b=8\n",
    "c=-4\n",
    "delta=b ** 2 - 4 * a * c\n",
    "x1=(-b+delta**(1/2))/2*a\n",
    "x2=(-b-delta**(1/2))/2*a\n",
    "print(\"x1= to {}, x2 = {} \".format (x1,x2 ))\n",
    "\n",
    "# Natalia Homa11:15\n",
    "a = 4\n",
    "b = 4\n",
    "c = -9\n",
    "delta = b ** 2 - 4 * a * c\n",
    "d = delta ** (1 / 2)\n",
    "x1 = (-b - d) / (2 * a)\n",
    "x2 = (-b + d) / (2 * a)\n",
    "print(\"x1 = {}, x2 = {}\".format(x1, x2))\n",
    "\n",
    "# Natalia Barwinek11:16\n",
    "a = 6\n",
    "b = 6\n",
    "c = -8\n",
    "D = b**2 - 4*a*c\n",
    "x1 = (-b + D**(1/2))/2*a\n",
    "x2 = (-b - D**(1/2))/2*a\n",
    "print (\"x1 = {}, x2 = {}\".format(x1,x2))\n",
    "\n",
    "# Karolina Sikora11:17\n",
    "a,b,c = 4,6,-2\n",
    "D = (b**2 - 4*a*c) ** (1/2)\n",
    "x1 = (-b - D)/(2*a)\n",
    "x2 = (-b + D)/(2*a)\n",
    "print(\"pierwiastki wielomianu: x1 = {}, x2 = {}\".format(x1,x2))\n",
    "\n",
    "# Jadwiga Jachymiak11:17\n",
    "a = 5\n",
    "b = 2\n",
    "c = -6\n",
    "delta = b*b-4*a*c\n",
    "x = ((-b-math.sqrt(delta))/(2*a))\n",
    "y = ((-b+math.sqrt(delta))/(2*a))\n",
    "\n",
    "print(\"x = {}, y = {}\".format(x, y))"
   ]
  },
  {
   "cell_type": "code",
   "execution_count": null,
   "metadata": {},
   "outputs": [],
   "source": []
  },
  {
   "cell_type": "markdown",
   "metadata": {},
   "source": [
    "# sterowanie programem\n",
    "\n",
    "## rozgałęzienia\n",
    "\n",
    "```\n",
    "if WARUNEK:\n",
    "    BLOK_INSTRUKCJI_IF\n",
    "elif WARUNEK_1:\n",
    "    BLOK_1\n",
    "elif WARUNEK_2:\n",
    "    BLOK_2\n",
    "...\n",
    "else:\n",
    "    BLOK_ELSE\n",
    "```\n",
    "\n",
    "https://docs.python.org/3/library/operator.html"
   ]
  },
  {
   "cell_type": "code",
   "execution_count": 81,
   "metadata": {},
   "outputs": [
    {
     "data": {
      "text/plain": [
       "(True, False)"
      ]
     },
     "execution_count": 81,
     "metadata": {},
     "output_type": "execute_result"
    }
   ],
   "source": [
    "# bool\n",
    "True, False"
   ]
  },
  {
   "cell_type": "code",
   "execution_count": 86,
   "metadata": {},
   "outputs": [
    {
     "name": "stdout",
     "output_type": "stream",
     "text": [
      "x jest 0\n"
     ]
    }
   ],
   "source": [
    "x = 0\n",
    "if x > 0:\n",
    "    print('x > 0')\n",
    "elif x == 0:\n",
    "    print('x jest 0')\n",
    "else:\n",
    "    print('x < 0')"
   ]
  },
  {
   "cell_type": "code",
   "execution_count": 104,
   "metadata": {},
   "outputs": [
    {
     "name": "stdout",
     "output_type": "stream",
     "text": [
      "x jest dodatni i parzysty\n"
     ]
    }
   ],
   "source": [
    "# czy x > 0 i czy jest parzysty \n",
    "# and, or, not  <-- operatory logiczne\n",
    "x = 12\n",
    "\n",
    "if (x > 0) and (not x % 2):  #(x % 2 == 0):\n",
    "    print('x jest dodatni i parzysty')\n",
    "else:\n",
    "    print('x nie jest taki jaki ma być')"
   ]
  },
  {
   "cell_type": "markdown",
   "metadata": {},
   "source": [
    "### Cw 4\n",
    "Korzystając ze zmiennych, napisz program, który sprawdza czy da się z trzech zmiennych liczbowych zbudować trójkąt a nastepnie oblicza i podaje porządnie sformatowny (`print` i `format`) obwód oraz pole powierzchni trójkąta. Sprawdź dla\n",
    "\n",
    "* Jadwiga: $a=44, b= 51, c= 62$\n",
    "* Natalia B: $a=25, b= 85, c= 12$\n",
    "* Daniel: $a=32, b= 15, c= 20$\n",
    "* Gabriela: $a=84, b= 96, c= 62$\n",
    "* Weronika: $a=40, b= 20, c= 83$\n",
    "* Ziemowit: $a=51, b= 65, c= 45$\n",
    "* Paweł: $a=38, b= 25, c= 38$\n",
    "* Karolina: $a=57, b= 69, c= 76$\n",
    "* Michał T: $a=30, b= 72, c= 66$\n",
    "* Michał Z: $a=22, b= 84, c= 57$\n",
    "* Vladyslav: $a=10, b= 27, c= 76$\n",
    "* Kinga: $a=81, b= 81, c= 97$\n",
    "* Natalia H: $a=20, b= 95, c= 22$"
   ]
  },
  {
   "cell_type": "code",
   "execution_count": 110,
   "metadata": {},
   "outputs": [
    {
     "name": "stdout",
     "output_type": "stream",
     "text": [
      "L =  259, P = 3146.4316594358124 \n",
      "Obwód = 202, pole = 1885.5237999028282\n",
      "To nie jest trójkąt.\n",
      "Nie da sie zbudowac trojkata\n",
      "Nie można zbudować trójkąta\n",
      "Da sie zbudowac trojkat\n",
      "Obw = 157, P = 1122.0\n",
      "nie da się zbudować trójkąta\n",
      "Obwód trójkąta wynosi 66, a jego pole 124.27389106324787\n"
     ]
    }
   ],
   "source": [
    "# Kinga Banys11:49\n",
    "a = 81\n",
    "b = 81\n",
    "c = 97\n",
    "if a + b > c and b + c > a and a + c > b:\n",
    "#     print(\"Można zbudować trójkąt\")\n",
    "    L = a + b + c\n",
    "    p = (a + b + c) / 2\n",
    "    P=(p * (p - a) * (p - b) *(p - c)) ** (1/2)\n",
    "    print(\"L =  {}, P = {} \".format (L, P ))\n",
    "else:\n",
    "    print(\"Nie można zbudować trójkąta\")\n",
    "    \n",
    "# Karolina Sikora11:50\n",
    "a, b, c = 57, 69, 76\n",
    "if (a < (b+c)) and (b < (a+c)) and (c < (a+b)):\n",
    "    Obw = a+b+c\n",
    "    Pole = (Obw/2* (Obw/2-a) * (Obw/2-b) * (Obw/2-c)) ** (1/2)\n",
    "    print(\"Obwód = {}, pole = {}\".format(Obw,Pole))\n",
    "else:\n",
    "    print(\"Z podanych boków nie da się zbudować trójkąta\")\n",
    "    \n",
    "# Natalia Homa11:50\n",
    "a = 20\n",
    "b = 95\n",
    "c = 22\n",
    "if (a + b > c) and (a + c > b) and (b + c > a):\n",
    "    obw = a + b +c\n",
    "    o = 1/2 * obw\n",
    "    pole = (o * (o - a) *(o - b) * (o - c))**(1/2)\n",
    "    print(\"Obw = {}, pole = {}\".format(obw, pole))\n",
    "else:\n",
    "    print(\"To nie jest trójkąt.\")\n",
    "        \n",
    "# Jadwiga Jachymiak11:50\n",
    "a = 44\n",
    "b = 51\n",
    "c = 62\n",
    "\n",
    "if(a>b+c and b>a+c and c>b+a):\n",
    "#     print(\"Da sie zbudowac trojkat\")\n",
    "\n",
    "    Obw = a+b+c\n",
    "    P = a*b/2\n",
    "    print(\"Obw = {}, P = {}\".format(Obw,P))\n",
    "\n",
    "else:\n",
    "    print(\"Nie da sie zbudowac trojkata\")\n",
    "    \n",
    "    \n",
    "# Weronika Ladak11:50\n",
    "a = 40\n",
    "b = 20\n",
    "c = 83\n",
    "\n",
    "if (a + b > c) and (a + c > b) and (b + c > a):\n",
    "    obw = a + b + c\n",
    "    p = 0.5 * obw\n",
    "    pole = math.sqrt( p * (p-a) * (p-b) * (p-c) )\n",
    "    print(\"To jest trójkąt o obwodzie = {} i polu = {}\".format(obw, pole))\n",
    "else:\n",
    "    print(\"Nie można zbudować trójkąta\")\n",
    "    \n",
    "    \n",
    "# Jadwiga Jachymiak11:52\n",
    "a = 44\n",
    "b = 51\n",
    "c = 62\n",
    "\n",
    "if(a+b>c and b+c>a and c+a>b):\n",
    "    print(\"Da sie zbudowac trojkat\")\n",
    "\n",
    "    Obw = a+b+c\n",
    "    P = a*b/2\n",
    "    print(\"Obw = {}, P = {}\".format(Obw,P))\n",
    "\n",
    "else:\n",
    "    print(\"Nie da sie zbudowac trojkata\")\n",
    "\n",
    "# Tu przesyłam poprawione.\n",
    "# Natalia Barwinek11:53\n",
    "a = 25\n",
    "b = 85\n",
    "c = 12\n",
    "\n",
    "if a+b > c and a+c> b and b+c > a :\n",
    "    Obw = a+b+c\n",
    "    p = Obw/2\n",
    "    Pol =(p*(p-a)*(p-b)*(p-c))**(1/2)\n",
    "    print (\"Obwód: {}, Pole: {}\".format(Obw,Pol))\n",
    "else:\n",
    "    print (\"nie da się zbudować trójkąta\")\n",
    "    \n",
    "    \n",
    "# Daniel Dystrych11:53\n",
    "def wzor_herona(a,b,c):\n",
    "    p = (a+b+c) / 2\n",
    "    pole = (p * (p-a) * (p-b) * (p-c))**(1/2)\n",
    "    return pole\n",
    "\n",
    "def czy_trojkat(a,b,c):\n",
    "    lista = [a, b, c]\n",
    "    lista.sort()\n",
    "    if (lista[0] + lista[1]) > lista[2]:\n",
    "        print(\"Obwód trójkąta wynosi {}, a jego pole {}\".format(sum(lista),wzor_herona(a,b,c)))\n",
    "    else:\n",
    "        print(\"Podane boki nie tworzą trójkąta\")\n",
    "\n",
    "czy_trojkat(31,15,20)\n",
    "\n",
    "\n",
    "# Michal Zielinski11:54\n",
    "a = 22\n",
    "b = 84\n",
    "c = 57\n",
    "\n",
    "if (a + b > c) and (a + c > b) and (c + b > a):\n",
    "    h = (a * 3**(1/2) / 2)\n",
    "    o = a + b + c\n",
    "    p = (1/2) * a * h\n",
    "    \n",
    "    print(\"bwód trójkąta wynosi: {} a  jego pole wynosi: {}\". format(round(o,2), round(p,2)))\n",
    "    \n",
    "    \n",
    "else:\n",
    "    print(\"Trójkąt nie może być zbudowany z podanych odcinków\")"
   ]
  },
  {
   "cell_type": "code",
   "execution_count": null,
   "metadata": {},
   "outputs": [],
   "source": []
  },
  {
   "cell_type": "markdown",
   "metadata": {},
   "source": [
    "## pętle\n",
    "### `while`\n",
    "\n",
    "```\n",
    "while WARUNEK:\n",
    "    BLOK_WHILE\n",
    "else:\n",
    "    BLOK_ELSE\n",
    "```"
   ]
  },
  {
   "cell_type": "code",
   "execution_count": 114,
   "metadata": {},
   "outputs": [
    {
     "name": "stdout",
     "output_type": "stream",
     "text": [
      "1\n",
      "3\n",
      "5\n",
      "7\n",
      "9\n"
     ]
    }
   ],
   "source": [
    "i = 0\n",
    "while i < 10:   # 10 < 10\n",
    "    if i % 2:  # nieparzyste\n",
    "        print(i)\n",
    "    i += 1  # i = i + 1"
   ]
  },
  {
   "cell_type": "markdown",
   "metadata": {},
   "source": [
    "### Ćw 5\n",
    "Z pomocą pętli `while`, `print` i `format` wydrukuj\n",
    "\n",
    "* Jadwiga: liczby podzielne przez 5 i 4 od -57 do 51\n",
    "* Natalia B: liczby podzielne przez 5 i 7 od -7 do 93\n",
    "* Daniel: liczby podzielne przez 3 i 4 od -97 do 79\n",
    "* Gabriela: liczby podzielne przez 8 i 6 od -80 do 30\n",
    "* Weronika: liczby podzielne przez 4 i 9 od -96 do 86\n",
    "* Ziemowit: liczby podzielne przez 5 i 4 od -42 do 0\n",
    "* Paweł: liczby podzielne przez 7 i 5 od -13 do 89\n",
    "* Karolina: liczby podzielne przez 4 i 6 od -88 do 100\n",
    "* Michał T: liczby podzielne przez 9 i 3 od -4 do 96\n",
    "* Michał Z: liczby podzielne przez 8 i 3 od -61 do 60\n",
    "* Vladyslav: liczby podzielne przez 5 i 8 od -72 do 24\n",
    "* Kinga: liczby podzielne przez 4 i 5 od -31 do 87\n",
    "* Natalia H: liczby podzielne przez 5 i 8 od -19 do 57"
   ]
  },
  {
   "cell_type": "code",
   "execution_count": 117,
   "metadata": {},
   "outputs": [
    {
     "name": "stdout",
     "output_type": "stream",
     "text": [
      "-72\n",
      "-36\n",
      "0\n",
      "36\n",
      "72\n"
     ]
    }
   ],
   "source": [
    "# Weronika Ladak12:07\n",
    "i = -96\n",
    "while i <= 86:\n",
    "    if (i % 4 == 0) and (i % 9 == 0):\n",
    "        print(i)\n",
    "    i += 1"
   ]
  },
  {
   "cell_type": "code",
   "execution_count": 118,
   "metadata": {},
   "outputs": [
    {
     "name": "stdout",
     "output_type": "stream",
     "text": [
      "-72\n",
      "-36\n",
      "0\n",
      "36\n",
      "72\n"
     ]
    }
   ],
   "source": [
    "od, do = -96, 86\n",
    "\n",
    "i = od\n",
    "while i <= do:\n",
    "    if i % 4 == 0: \n",
    "        if i % 9 == 0:\n",
    "            print(i)\n",
    "    i += 1"
   ]
  },
  {
   "cell_type": "code",
   "execution_count": 120,
   "metadata": {},
   "outputs": [
    {
     "name": "stdout",
     "output_type": "stream",
     "text": [
      "Liczby podzielne przez 3 i przez 4 to  [-96, -84, -72, -60, -48, -36, -24, -12, 0, 12, 24, 36, 48, 60, 72]\n"
     ]
    }
   ],
   "source": [
    "# Daniel Dystrych12:11\n",
    "i = -97\n",
    "podzielne34 = []\n",
    "while i<79:\n",
    "    if ((i % 3 == 0) and (i % 4 == 0)):\n",
    "        podzielne34.append(i)\n",
    "    i+=1\n",
    "print(\"Liczby podzielne przez 3 i przez 4 to \", podzielne34)"
   ]
  },
  {
   "cell_type": "code",
   "execution_count": null,
   "metadata": {},
   "outputs": [],
   "source": []
  },
  {
   "cell_type": "markdown",
   "metadata": {},
   "source": [
    "## typy sekwencyjne \n",
    "* `str`\n",
    "* `list`\n",
    "* `tuple`"
   ]
  },
  {
   "cell_type": "code",
   "execution_count": 128,
   "metadata": {},
   "outputs": [
    {
     "data": {
      "text/plain": [
       "'abcdefghijklmnoprst'"
      ]
     },
     "execution_count": 128,
     "metadata": {},
     "output_type": "execute_result"
    }
   ],
   "source": [
    "alfabet = \"abcdefghijklmnoprst\"\n",
    "alfabet"
   ]
  },
  {
   "cell_type": "code",
   "execution_count": 129,
   "metadata": {},
   "outputs": [
    {
     "data": {
      "text/plain": [
       "'d'"
      ]
     },
     "execution_count": 129,
     "metadata": {},
     "output_type": "execute_result"
    }
   ],
   "source": [
    "alfabet[3]"
   ]
  },
  {
   "cell_type": "code",
   "execution_count": 136,
   "metadata": {},
   "outputs": [
    {
     "data": {
      "text/plain": [
       "('r', 'r')"
      ]
     },
     "execution_count": 136,
     "metadata": {},
     "output_type": "execute_result"
    }
   ],
   "source": [
    "alfabet[-3], alfabet[len(alfabet)-3]"
   ]
  },
  {
   "cell_type": "code",
   "execution_count": 137,
   "metadata": {},
   "outputs": [
    {
     "data": {
      "text/plain": [
       "('a', 'a', 'a')"
      ]
     },
     "execution_count": 137,
     "metadata": {},
     "output_type": "execute_result"
    }
   ],
   "source": [
    "alfabet[0], alfabet[-len(alfabet)], alfabet[len(alfabet)-len(alfabet)]"
   ]
  },
  {
   "cell_type": "code",
   "execution_count": 135,
   "metadata": {},
   "outputs": [
    {
     "data": {
      "text/plain": [
       "19"
      ]
     },
     "execution_count": 135,
     "metadata": {},
     "output_type": "execute_result"
    }
   ],
   "source": [
    "len(alfabet)"
   ]
  },
  {
   "cell_type": "code",
   "execution_count": 138,
   "metadata": {},
   "outputs": [
    {
     "data": {
      "text/plain": [
       "[1, 2, 3, 4]"
      ]
     },
     "execution_count": 138,
     "metadata": {},
     "output_type": "execute_result"
    }
   ],
   "source": [
    "lista = [1, 2, 3, 4]\n",
    "krotka = (1, 2, 3, 4)\n",
    "lista"
   ]
  },
  {
   "cell_type": "code",
   "execution_count": 139,
   "metadata": {},
   "outputs": [
    {
     "data": {
      "text/plain": [
       "(1, 2, 3, 4)"
      ]
     },
     "execution_count": 139,
     "metadata": {},
     "output_type": "execute_result"
    }
   ],
   "source": [
    "krotka"
   ]
  },
  {
   "cell_type": "code",
   "execution_count": 140,
   "metadata": {},
   "outputs": [
    {
     "data": {
      "text/plain": [
       "3"
      ]
     },
     "execution_count": 140,
     "metadata": {},
     "output_type": "execute_result"
    }
   ],
   "source": [
    "krotka[2]"
   ]
  },
  {
   "cell_type": "code",
   "execution_count": 141,
   "metadata": {},
   "outputs": [
    {
     "data": {
      "text/plain": [
       "3"
      ]
     },
     "execution_count": 141,
     "metadata": {},
     "output_type": "execute_result"
    }
   ],
   "source": [
    "lista[2]"
   ]
  },
  {
   "cell_type": "code",
   "execution_count": 143,
   "metadata": {},
   "outputs": [
    {
     "data": {
      "text/plain": [
       "('abcdefghijklmnoprst', 'cdefg')"
      ]
     },
     "execution_count": 143,
     "metadata": {},
     "output_type": "execute_result"
    }
   ],
   "source": [
    "alfabet, alfabet[2:7]"
   ]
  },
  {
   "cell_type": "code",
   "execution_count": 151,
   "metadata": {},
   "outputs": [
    {
     "data": {
      "text/plain": [
       "'cfi'"
      ]
     },
     "execution_count": 151,
     "metadata": {},
     "output_type": "execute_result"
    }
   ],
   "source": [
    "alfabet[2:10:3]  # [od:do:co]"
   ]
  },
  {
   "cell_type": "code",
   "execution_count": 152,
   "metadata": {},
   "outputs": [
    {
     "data": {
      "text/plain": [
       "'sol'"
      ]
     },
     "execution_count": 152,
     "metadata": {},
     "output_type": "execute_result"
    }
   ],
   "source": [
    "alfabet[-2:-10:-3]  # [od:do:co]"
   ]
  },
  {
   "cell_type": "code",
   "execution_count": 153,
   "metadata": {},
   "outputs": [
    {
     "data": {
      "text/plain": [
       "'abcdefghijklmnoprst'"
      ]
     },
     "execution_count": 153,
     "metadata": {},
     "output_type": "execute_result"
    }
   ],
   "source": [
    "alfabet[0:len(alfabet)]"
   ]
  },
  {
   "cell_type": "code",
   "execution_count": 155,
   "metadata": {},
   "outputs": [
    {
     "data": {
      "text/plain": [
       "'abcdef'"
      ]
     },
     "execution_count": 155,
     "metadata": {},
     "output_type": "execute_result"
    }
   ],
   "source": [
    "alfabet[:6]"
   ]
  },
  {
   "cell_type": "code",
   "execution_count": 156,
   "metadata": {},
   "outputs": [
    {
     "data": {
      "text/plain": [
       "'ghijklmnoprst'"
      ]
     },
     "execution_count": 156,
     "metadata": {},
     "output_type": "execute_result"
    }
   ],
   "source": [
    "alfabet[6:]"
   ]
  },
  {
   "cell_type": "code",
   "execution_count": 157,
   "metadata": {},
   "outputs": [
    {
     "data": {
      "text/plain": [
       "'abcdefghijklmnoprst'"
      ]
     },
     "execution_count": 157,
     "metadata": {},
     "output_type": "execute_result"
    }
   ],
   "source": [
    "alfabet[:]"
   ]
  },
  {
   "cell_type": "code",
   "execution_count": 159,
   "metadata": {},
   "outputs": [
    {
     "data": {
      "text/plain": [
       "'adgjmpt'"
      ]
     },
     "execution_count": 159,
     "metadata": {},
     "output_type": "execute_result"
    }
   ],
   "source": [
    "alfabet[::3]"
   ]
  },
  {
   "cell_type": "code",
   "execution_count": 160,
   "metadata": {},
   "outputs": [
    {
     "data": {
      "text/plain": [
       "'tsrponmlkjihgfedcba'"
      ]
     },
     "execution_count": 160,
     "metadata": {},
     "output_type": "execute_result"
    }
   ],
   "source": [
    "alfabet[::-1]"
   ]
  },
  {
   "cell_type": "code",
   "execution_count": 161,
   "metadata": {},
   "outputs": [
    {
     "data": {
      "text/plain": [
       "[4, 3, 2, 1]"
      ]
     },
     "execution_count": 161,
     "metadata": {},
     "output_type": "execute_result"
    }
   ],
   "source": [
    "lista[::-1]"
   ]
  },
  {
   "cell_type": "code",
   "execution_count": 163,
   "metadata": {},
   "outputs": [
    {
     "data": {
      "text/plain": [
       "[1, 2, 3, 4, 5, 6]"
      ]
     },
     "execution_count": 163,
     "metadata": {},
     "output_type": "execute_result"
    }
   ],
   "source": [
    "# konkatenacja\n",
    "[1, 2, 3] + [4, 5, 6]"
   ]
  },
  {
   "cell_type": "code",
   "execution_count": 164,
   "metadata": {},
   "outputs": [
    {
     "data": {
      "text/plain": [
       "(1, 2, 3, 4, 5, 6)"
      ]
     },
     "execution_count": 164,
     "metadata": {},
     "output_type": "execute_result"
    }
   ],
   "source": [
    "(1, 2, 3) + (4, 5, 6)"
   ]
  },
  {
   "cell_type": "code",
   "execution_count": 166,
   "metadata": {},
   "outputs": [
    {
     "data": {
      "text/plain": [
       "'alamakota'"
      ]
     },
     "execution_count": 166,
     "metadata": {},
     "output_type": "execute_result"
    }
   ],
   "source": [
    "\"ala\" + 'ma' + '''kota'''"
   ]
  },
  {
   "cell_type": "code",
   "execution_count": 167,
   "metadata": {},
   "outputs": [],
   "source": [
    "# puste sekwencje\n",
    "ps1 = '' # \"\", '''''', \"\"\"\"\"\"\n",
    "ps2 = str()"
   ]
  },
  {
   "cell_type": "code",
   "execution_count": 168,
   "metadata": {},
   "outputs": [],
   "source": [
    "pl1 = []\n",
    "pl2 = list()"
   ]
  },
  {
   "cell_type": "code",
   "execution_count": 169,
   "metadata": {},
   "outputs": [],
   "source": [
    "kp1 = ()\n",
    "kp2 = tuple()"
   ]
  },
  {
   "cell_type": "code",
   "execution_count": 173,
   "metadata": {},
   "outputs": [
    {
     "data": {
      "text/plain": [
       "(False, False, False)"
      ]
     },
     "execution_count": 173,
     "metadata": {},
     "output_type": "execute_result"
    }
   ],
   "source": [
    "bool(kp1), bool(pl2), bool(ps1)"
   ]
  },
  {
   "cell_type": "code",
   "execution_count": 175,
   "metadata": {},
   "outputs": [
    {
     "name": "stdout",
     "output_type": "stream",
     "text": [
      "nie ma\n"
     ]
    }
   ],
   "source": [
    "if ps1:\n",
    "    print('sekwencja ma elementy')\n",
    "else:\n",
    "    print('nie ma')"
   ]
  },
  {
   "cell_type": "code",
   "execution_count": null,
   "metadata": {},
   "outputs": [],
   "source": []
  },
  {
   "cell_type": "markdown",
   "metadata": {},
   "source": [
    "## `for`\n",
    "\n",
    "```\n",
    "for element in sekwencja:\n",
    "    BLOK_FOR\n",
    "```"
   ]
  },
  {
   "cell_type": "code",
   "execution_count": 179,
   "metadata": {},
   "outputs": [
    {
     "name": "stdout",
     "output_type": "stream",
     "text": [
      "97 -> a\n",
      "98 -> b\n",
      "99 -> c\n",
      "100 -> d\n",
      "101 -> e\n"
     ]
    }
   ],
   "source": [
    "for element in 'abcde':\n",
    "    print(ord(element), element, sep=' -> ')"
   ]
  },
  {
   "cell_type": "code",
   "execution_count": 182,
   "metadata": {},
   "outputs": [
    {
     "name": "stdout",
     "output_type": "stream",
     "text": [
      "1 1\n",
      "2 4\n",
      "3 9\n",
      "4 16\n"
     ]
    }
   ],
   "source": [
    "for liczba in lista:\n",
    "    print(liczba, liczba ** 2)"
   ]
  },
  {
   "cell_type": "code",
   "execution_count": 184,
   "metadata": {},
   "outputs": [
    {
     "data": {
      "text/plain": [
       "[1, 2, 3]"
      ]
     },
     "execution_count": 184,
     "metadata": {},
     "output_type": "execute_result"
    }
   ],
   "source": [
    "L = []  # pusta lista\n",
    "L += [1, 2, 3]  # L = L + [1, 2, 3]\n",
    "L"
   ]
  },
  {
   "cell_type": "markdown",
   "metadata": {},
   "source": [
    "### Ćw 6\n",
    "Z pomocą pętli `for` i konkatenacji `lista1 + lista2` zbuduj listę\n",
    "\n",
    "* Jadwiga: liczb podzielnych przez 9 i 3 od -34 do 50\n",
    "* Natalia B: liczb podzielnych przez 8 i 7 od -1 do 42\n",
    "* Daniel: liczb podzielnych przez 9 i 9 od -94 do 34\n",
    "* Gabriela: liczb podzielnych przez 8 i 5 od -16 do 39\n",
    "* Weronika: liczb podzielnych przez 4 i 7 od -41 do 33\n",
    "* Ziemowit: liczb podzielnych przez 7 i 6 od -24 do 15\n",
    "* Paweł: liczb podzielnych przez 3 i 9 od -32 do 38\n",
    "* Karolina: liczb podzielnych przez 5 i 8 od -1 do 99\n",
    "* Michał T: liczb podzielnych przez 4 i 8 od -54 do 37\n",
    "* Michał Z: liczb podzielnych przez 8 i 5 od -75 do 82\n",
    "* Vladyslav: liczb podzielnych przez 6 i 3 od -64 do 84\n",
    "* Kinga: liczb podzielnych przez 5 i 6 od 0 do 98\n",
    "* Natalia H: liczb podzielnych przez 9 i 6 od -4 do 64\n",
    "\n",
    "Oblicz ich sumę."
   ]
  },
  {
   "cell_type": "code",
   "execution_count": 188,
   "metadata": {},
   "outputs": [
    {
     "name": "stdout",
     "output_type": "stream",
     "text": [
      "300\n"
     ]
    }
   ],
   "source": [
    "# Vladyslav Sotnikov12:38\n",
    "L = []\n",
    "od = -64\n",
    "do = 84\n",
    "for i in range(od, do + 1):  #!!! (od, do + 1) !!!\n",
    "    if i%6 == 0 and i%3 == 0:\n",
    "        L += [i]\n",
    "print(sum(L))"
   ]
  },
  {
   "cell_type": "code",
   "execution_count": 189,
   "metadata": {},
   "outputs": [
    {
     "data": {
      "text/plain": [
       "[1, 2, 3, 4, 5, 6, 7, 8, 9, 10]"
      ]
     },
     "execution_count": 189,
     "metadata": {},
     "output_type": "execute_result"
    }
   ],
   "source": [
    "list(range(1, 10 + 1))"
   ]
  },
  {
   "cell_type": "code",
   "execution_count": 190,
   "metadata": {},
   "outputs": [],
   "source": [
    "L = [1, 2, 3]"
   ]
  },
  {
   "cell_type": "code",
   "execution_count": 191,
   "metadata": {},
   "outputs": [],
   "source": [
    "L.append(44)"
   ]
  },
  {
   "cell_type": "code",
   "execution_count": 195,
   "metadata": {},
   "outputs": [
    {
     "data": {
      "text/plain": [
       "3"
      ]
     },
     "execution_count": 195,
     "metadata": {},
     "output_type": "execute_result"
    }
   ],
   "source": [
    "L.index(44)"
   ]
  },
  {
   "cell_type": "code",
   "execution_count": 193,
   "metadata": {},
   "outputs": [],
   "source": [
    "K = (1, 2)"
   ]
  },
  {
   "cell_type": "code",
   "execution_count": 194,
   "metadata": {},
   "outputs": [
    {
     "data": {
      "text/plain": [
       "0"
      ]
     },
     "execution_count": 194,
     "metadata": {},
     "output_type": "execute_result"
    }
   ],
   "source": [
    "K.index(1)"
   ]
  },
  {
   "cell_type": "code",
   "execution_count": 196,
   "metadata": {},
   "outputs": [],
   "source": [
    "# \"aaa\"."
   ]
  },
  {
   "cell_type": "code",
   "execution_count": null,
   "metadata": {},
   "outputs": [],
   "source": []
  }
 ],
 "metadata": {
  "kernelspec": {
   "display_name": "Python 3 (ipykernel)",
   "language": "python",
   "name": "python3"
  },
  "language_info": {
   "codemirror_mode": {
    "name": "ipython",
    "version": 3
   },
   "file_extension": ".py",
   "mimetype": "text/x-python",
   "name": "python",
   "nbconvert_exporter": "python",
   "pygments_lexer": "ipython3",
   "version": "3.9.7"
  }
 },
 "nbformat": 4,
 "nbformat_minor": 4
}
