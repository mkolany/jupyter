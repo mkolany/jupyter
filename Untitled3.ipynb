{
 "cells": [
  {
   "cell_type": "code",
   "execution_count": 52,
   "id": "f3becf19-2148-4ab9-91cb-297f7b155547",
   "metadata": {},
   "outputs": [
    {
     "data": {
      "application/vnd.jupyter.widget-view+json": {
       "model_id": "91147c038d3241068a94cbae965d5049",
       "version_major": 2,
       "version_minor": 0
      },
      "text/plain": [
       "HBox(children=(Output(layout=Layout(height='400px', overflow='scroll')), Output(layout=Layout(height='400px', …"
      ]
     },
     "metadata": {},
     "output_type": "display_data"
    }
   ],
   "source": [
    "from manim import *\n",
    "from manim.utils.color import Colors\n",
    "import numpy as np\n",
    "from ipywidgets import Dropdown, HBox, interactive, HTML,Output\n",
    "\n",
    "config.media_width = \"60%\"\n",
    "config.quality = 'low_quality'\n",
    "\n",
    "WIDTH = config.frame_width\n",
    "HEIGHT = config.frame_height\n",
    "\n",
    "PINK = \"#EE82EE\"\n",
    "VIOLET = \"#4B0082\"\n",
    "mypalette = [\"#FF008E\", \"#D22779\", \"#612897\", \"#FF008E\", \"#0C1E7F\"]\n",
    "\n",
    "ROOT_COLORS_BRIGHT = [RED, GREEN, BLUE, YELLOW, MAROON_B]\n",
    "ROOT_COLORS_DEEP = [\"#440154\", \"#3b528b\", \"#21908c\", \"#5dc963\", \"#29abca\"]\n",
    "CUBIC_COLORS = [RED_E, TEAL_E, BLUE_E]\n",
    "\n",
    "MANDELBROT_COLORS = [\n",
    "    \"#00065c\",\n",
    "    \"#061e7e\",\n",
    "    \"#0c37a0\",\n",
    "    \"#205abc\",\n",
    "    \"#4287d3\",\n",
    "    \"#D9EDE4\",\n",
    "    \"#F0F9E4\",\n",
    "    \"#BA9F6A\",\n",
    "    \"#573706\",\n",
    "]\n",
    "\n",
    "\n",
    "\n",
    "CFG_output = Output()\n",
    "CFG_output.layout.height='400px';\n",
    "CFG_output.layout.overflow='scroll';\n",
    "\n",
    "COL_output = Output()\n",
    "COL_output.layout.height='400px';\n",
    "COL_output.layout.overflow='scroll';\n",
    "\n",
    "with CFG_output:\n",
    "    print('CONFIG:')\n",
    "    for (k,v) in config.items():\n",
    "        print(f'{k:40}{v}')\n",
    "    \n",
    "with COL_output:\n",
    "    print('COLORS:')\n",
    "    for c in Colors:\n",
    "        display(HTML(f'<p style=\"background-color: {c.value}; text-align:center;\">{c.name}</p>'))\n",
    "    \n",
    "HBox([CFG_output, COL_output])\n"
   ]
  },
  {
   "cell_type": "code",
   "execution_count": 72,
   "id": "2eb6a156-ae33-41bf-bd11-a4069b1c6303",
   "metadata": {},
   "outputs": [
    {
     "data": {
      "text/plain": [
       "'Total time : 0.066989 s'"
      ]
     },
     "metadata": {},
     "output_type": "display_data"
    },
    {
     "name": "stdout",
     "output_type": "stream",
     "text": [
      "Total time : 0.07199 s\n"
     ]
    },
    {
     "data": {
      "text/html": [
       "<pre style=\"white-space:pre;overflow-x:auto;line-height:normal;font-family:Menlo,'DejaVu Sans Mono',consolas,'Courier New',monospace\"><span style=\"color: #7fbfbf; text-decoration-color: #7fbfbf\">[03/18/22 11:36:23] </span><span style=\"color: #008000; text-decoration-color: #008000\">INFO    </span> Animation <span style=\"color: #008000; text-decoration-color: #008000\">0</span> : Using cached data <span style=\"font-weight: bold\">(</span>hash :     <a href=\"file://D:\\Python39\\lib\\site-packages\\manim\\renderer\\cairo_renderer.py\"><span style=\"color: #7f7f7f; text-decoration-color: #7f7f7f\">cairo_renderer.py</span></a><span style=\"color: #7f7f7f; text-decoration-color: #7f7f7f\">:</span><a href=\"file://D:\\Python39\\lib\\site-packages\\manim\\renderer\\cairo_renderer.py#74\"><span style=\"color: #7f7f7f; text-decoration-color: #7f7f7f\">74</span></a>\n",
       "                             3163782288_1515588106_1993614711<span style=\"font-weight: bold\">)</span>                               \n",
       "</pre>\n"
      ],
      "text/plain": [
       "\u001b[2;36m[03/18/22 11:36:23]\u001b[0m\u001b[2;36m \u001b[0m\u001b[32mINFO    \u001b[0m Animation \u001b[32m0\u001b[0m : Using cached data \u001b[1m(\u001b[0mhash :     \u001b]8;id=383211;file://D:\\Python39\\lib\\site-packages\\manim\\renderer\\cairo_renderer.py\u001b\\\u001b[2mcairo_renderer.py\u001b[0m\u001b]8;;\u001b\\\u001b[2m:\u001b[0m\u001b]8;id=396918;file://D:\\Python39\\lib\\site-packages\\manim\\renderer\\cairo_renderer.py#74\u001b\\\u001b[2m74\u001b[0m\u001b]8;;\u001b\\\n",
       "                             3163782288_1515588106_1993614711\u001b[1m)\u001b[0m                               \n"
      ]
     },
     "metadata": {},
     "output_type": "display_data"
    },
    {
     "data": {
      "text/html": [
       "<pre style=\"white-space:pre;overflow-x:auto;line-height:normal;font-family:Menlo,'DejaVu Sans Mono',consolas,'Courier New',monospace\"><span style=\"color: #7fbfbf; text-decoration-color: #7fbfbf\">                    </span><span style=\"color: #008000; text-decoration-color: #008000\">INFO    </span> Combining to Movie file.                <a href=\"file://D:\\Python39\\lib\\site-packages\\manim\\scene\\scene_file_writer.py\"><span style=\"color: #7f7f7f; text-decoration-color: #7f7f7f\">scene_file_writer.py</span></a><span style=\"color: #7f7f7f; text-decoration-color: #7f7f7f\">:</span><a href=\"file://D:\\Python39\\lib\\site-packages\\manim\\scene\\scene_file_writer.py#608\"><span style=\"color: #7f7f7f; text-decoration-color: #7f7f7f\">608</span></a>\n",
       "</pre>\n"
      ],
      "text/plain": [
       "\u001b[2;36m                   \u001b[0m\u001b[2;36m \u001b[0m\u001b[32mINFO    \u001b[0m Combining to Movie file.                \u001b]8;id=416822;file://D:\\Python39\\lib\\site-packages\\manim\\scene\\scene_file_writer.py\u001b\\\u001b[2mscene_file_writer.py\u001b[0m\u001b]8;;\u001b\\\u001b[2m:\u001b[0m\u001b]8;id=622813;file://D:\\Python39\\lib\\site-packages\\manim\\scene\\scene_file_writer.py#608\u001b\\\u001b[2m608\u001b[0m\u001b]8;;\u001b\\\n"
      ]
     },
     "metadata": {},
     "output_type": "display_data"
    },
    {
     "data": {
      "text/html": [
       "<pre style=\"white-space:pre;overflow-x:auto;line-height:normal;font-family:Menlo,'DejaVu Sans Mono',consolas,'Courier New',monospace\"><span style=\"color: #7fbfbf; text-decoration-color: #7fbfbf\">[03/18/22 11:36:24] </span><span style=\"color: #008000; text-decoration-color: #008000\">INFO    </span>                                         <a href=\"file://D:\\Python39\\lib\\site-packages\\manim\\scene\\scene_file_writer.py\"><span style=\"color: #7f7f7f; text-decoration-color: #7f7f7f\">scene_file_writer.py</span></a><span style=\"color: #7f7f7f; text-decoration-color: #7f7f7f\">:</span><a href=\"file://D:\\Python39\\lib\\site-packages\\manim\\scene\\scene_file_writer.py#729\"><span style=\"color: #7f7f7f; text-decoration-color: #7f7f7f\">729</span></a>\n",
       "                             <span style=\"color: #808000; text-decoration-color: #808000; font-weight: bold\">File</span> ready at                                                   \n",
       "                             <span style=\"color: #008000; text-decoration-color: #008000\">'D:\\Programming\\Python\\jupyter </span>                                 \n",
       "                             <span style=\"color: #008000; text-decoration-color: #008000\">notebooks\\media\\videos\\jupyter </span>                                 \n",
       "                             <span style=\"color: #008000; text-decoration-color: #008000\">notebooks\\480p15\\Mandbelbrot.mp4'</span>                               \n",
       "                                                                                             \n",
       "</pre>\n"
      ],
      "text/plain": [
       "\u001b[2;36m[03/18/22 11:36:24]\u001b[0m\u001b[2;36m \u001b[0m\u001b[32mINFO    \u001b[0m                                         \u001b]8;id=510112;file://D:\\Python39\\lib\\site-packages\\manim\\scene\\scene_file_writer.py\u001b\\\u001b[2mscene_file_writer.py\u001b[0m\u001b]8;;\u001b\\\u001b[2m:\u001b[0m\u001b]8;id=74780;file://D:\\Python39\\lib\\site-packages\\manim\\scene\\scene_file_writer.py#729\u001b\\\u001b[2m729\u001b[0m\u001b]8;;\u001b\\\n",
       "                             \u001b[1;33mFile\u001b[0m ready at                                                   \n",
       "                             \u001b[32m'D:\\Programming\\Python\\jupyter \u001b[0m                                 \n",
       "                             \u001b[32mnotebooks\\media\\videos\\jupyter \u001b[0m                                 \n",
       "                             \u001b[32mnotebooks\\480p15\\Mandbelbrot.mp4'\u001b[0m                               \n",
       "                                                                                             \n"
      ]
     },
     "metadata": {},
     "output_type": "display_data"
    },
    {
     "data": {
      "text/html": [
       "<pre style=\"white-space:pre;overflow-x:auto;line-height:normal;font-family:Menlo,'DejaVu Sans Mono',consolas,'Courier New',monospace\"><span style=\"color: #7fbfbf; text-decoration-color: #7fbfbf\">                    </span><span style=\"color: #008000; text-decoration-color: #008000\">INFO    </span> <span style=\"color: #808000; text-decoration-color: #808000; font-weight: bold\">Rendered</span> Mandbelbrot                                <a href=\"file://D:\\Python39\\lib\\site-packages\\manim\\scene\\scene.py\"><span style=\"color: #7f7f7f; text-decoration-color: #7f7f7f\">scene.py</span></a><span style=\"color: #7f7f7f; text-decoration-color: #7f7f7f\">:</span><a href=\"file://D:\\Python39\\lib\\site-packages\\manim\\scene\\scene.py#237\"><span style=\"color: #7f7f7f; text-decoration-color: #7f7f7f\">237</span></a>\n",
       "                             <span style=\"color: #808000; text-decoration-color: #808000; font-weight: bold\">Played</span> <span style=\"color: #008000; text-decoration-color: #008000\">1</span> <span style=\"color: #808000; text-decoration-color: #808000; font-weight: bold\">animations</span>                                             \n",
       "</pre>\n"
      ],
      "text/plain": [
       "\u001b[2;36m                   \u001b[0m\u001b[2;36m \u001b[0m\u001b[32mINFO    \u001b[0m \u001b[1;33mRendered\u001b[0m Mandbelbrot                                \u001b]8;id=216513;file://D:\\Python39\\lib\\site-packages\\manim\\scene\\scene.py\u001b\\\u001b[2mscene.py\u001b[0m\u001b]8;;\u001b\\\u001b[2m:\u001b[0m\u001b]8;id=806602;file://D:\\Python39\\lib\\site-packages\\manim\\scene\\scene.py#237\u001b\\\u001b[2m237\u001b[0m\u001b]8;;\u001b\\\n",
       "                             \u001b[1;33mPlayed\u001b[0m \u001b[32m1\u001b[0m \u001b[1;33manimations\u001b[0m                                             \n"
      ]
     },
     "metadata": {},
     "output_type": "display_data"
    },
    {
     "data": {
      "text/html": [
       "<video src=\"media\\jupyter\\Mandbelbrot@2022-03-18@11-36-24.mp4\" controls autoplay loop style=\"max-width: 60%;\"  >\n",
       "      Your browser does not support the <code>video</code> element.\n",
       "    </video>"
      ],
      "text/plain": [
       "<IPython.core.display.Video object>"
      ]
     },
     "metadata": {},
     "output_type": "display_data"
    }
   ],
   "source": [
    "%%manim Mandbelbrot\n",
    "from datetime import *\n",
    "from IPython.display import clear_output, display\n",
    "\n",
    "class Mandbelbrot(Scene):\n",
    "    def construct(self):\n",
    "        st_t = datetime.now()\n",
    "        \n",
    "\n",
    "        rows , cols = 2, 2\n",
    "\n",
    "        iter_func = lambda z, c: z ** 2 + c\n",
    "        iter_num = 128\n",
    "        colors = color_gradient(ROOT_COLORS_DEEP, iter_num + 1)\n",
    "\n",
    "        def get_color(c):\n",
    "            z = complex(0, 0)\n",
    "            num = 0\n",
    "            while abs(z) < 2 and num < iter_num:\n",
    "                z = iter_func(z, c)\n",
    "                num += 1\n",
    "            return colors[num]\n",
    "\n",
    "        x = np.linspace(-2, 1, num=rows)#.reshape((1, rows))\n",
    "        y = np.linspace(-1, 0, num=cols)#.reshape((cols, 1))\n",
    "\n",
    "        mob = Square(stroke_width=0, fill_opacity=1).scale(1/np.sqrt(rows*cols))\n",
    "        vg=VGroup()\n",
    "        for p in ([[a,b,0] for a in x for b in y]):\n",
    "            x,y,z=p\n",
    "            \n",
    "            #color=random_bright_color()\n",
    "            color=get_color(complex(x,y)) \n",
    "            \n",
    "            p1 = mob.copy().set_fill(color=color).move_to(p)\n",
    "            p2 = p1.copy().move_to(p* np.array([1, -1, 0]))\n",
    "            vg.add(p1,p2)\n",
    "            clear_output()\n",
    "            display(f'Total time : {(datetime.now() - st_t).total_seconds()} s')\n",
    "                \n",
    "        print(f'Total time : {(datetime.now() - st_t).total_seconds()} s')\n",
    "        self.add(vg.scale_to_fit_height(HEIGHT).scale_to_fit_width( WIDTH ).center())\n",
    "        self.wait()"
   ]
  },
  {
   "cell_type": "code",
   "execution_count": 3,
   "id": "b03326be-b1a4-4fe6-826d-aa36bc3e525c",
   "metadata": {
    "collapsed": true,
    "jupyter": {
     "outputs_hidden": true
    },
    "tags": []
   },
   "outputs": [
    {
     "name": "stdout",
     "output_type": "stream",
     "text": [
      "i = 0, j = 0\t 2022-03-18 05:29:49\n",
      "i = 1, j = 0\t 2022-03-18 05:29:49\n",
      "i = 2, j = 0\t 2022-03-18 05:29:49\n",
      "i = 3, j = 0\t 2022-03-18 05:29:49\n",
      "i = 4, j = 0\t 2022-03-18 05:29:49\n",
      "Total time : 0 s\n"
     ]
    },
    {
     "data": {
      "text/html": [
       "<pre style=\"white-space:pre;overflow-x:auto;line-height:normal;font-family:Menlo,'DejaVu Sans Mono',consolas,'Courier New',monospace\"><span style=\"color: #7fbfbf; text-decoration-color: #7fbfbf\">[03/18/22 05:29:50] </span><span style=\"color: #008000; text-decoration-color: #008000\">INFO    </span> Animation <span style=\"color: #008000; text-decoration-color: #008000\">0</span> : Using cached data <span style=\"font-weight: bold\">(</span>hash :     <a href=\"file://D:\\Python39\\lib\\site-packages\\manim\\renderer\\cairo_renderer.py\"><span style=\"color: #7f7f7f; text-decoration-color: #7f7f7f\">cairo_renderer.py</span></a><span style=\"color: #7f7f7f; text-decoration-color: #7f7f7f\">:</span><a href=\"file://D:\\Python39\\lib\\site-packages\\manim\\renderer\\cairo_renderer.py#74\"><span style=\"color: #7f7f7f; text-decoration-color: #7f7f7f\">74</span></a>\n",
       "                             3163782288_1515588106_796816345<span style=\"font-weight: bold\">)</span>                                \n",
       "</pre>\n"
      ],
      "text/plain": [
       "\u001b[2;36m[03/18/22 05:29:50]\u001b[0m\u001b[2;36m \u001b[0m\u001b[32mINFO    \u001b[0m Animation \u001b[32m0\u001b[0m : Using cached data \u001b[1m(\u001b[0mhash :     \u001b]8;id=12560;file://D:\\Python39\\lib\\site-packages\\manim\\renderer\\cairo_renderer.py\u001b\\\u001b[2mcairo_renderer.py\u001b[0m\u001b]8;;\u001b\\\u001b[2m:\u001b[0m\u001b]8;id=378788;file://D:\\Python39\\lib\\site-packages\\manim\\renderer\\cairo_renderer.py#74\u001b\\\u001b[2m74\u001b[0m\u001b]8;;\u001b\\\n",
       "                             3163782288_1515588106_796816345\u001b[1m)\u001b[0m                                \n"
      ]
     },
     "metadata": {},
     "output_type": "display_data"
    },
    {
     "data": {
      "text/html": [
       "<pre style=\"white-space:pre;overflow-x:auto;line-height:normal;font-family:Menlo,'DejaVu Sans Mono',consolas,'Courier New',monospace\"><span style=\"color: #7fbfbf; text-decoration-color: #7fbfbf\">                    </span><span style=\"color: #008000; text-decoration-color: #008000\">INFO    </span> Combining to Movie file.                <a href=\"file://D:\\Python39\\lib\\site-packages\\manim\\scene\\scene_file_writer.py\"><span style=\"color: #7f7f7f; text-decoration-color: #7f7f7f\">scene_file_writer.py</span></a><span style=\"color: #7f7f7f; text-decoration-color: #7f7f7f\">:</span><a href=\"file://D:\\Python39\\lib\\site-packages\\manim\\scene\\scene_file_writer.py#608\"><span style=\"color: #7f7f7f; text-decoration-color: #7f7f7f\">608</span></a>\n",
       "</pre>\n"
      ],
      "text/plain": [
       "\u001b[2;36m                   \u001b[0m\u001b[2;36m \u001b[0m\u001b[32mINFO    \u001b[0m Combining to Movie file.                \u001b]8;id=63903;file://D:\\Python39\\lib\\site-packages\\manim\\scene\\scene_file_writer.py\u001b\\\u001b[2mscene_file_writer.py\u001b[0m\u001b]8;;\u001b\\\u001b[2m:\u001b[0m\u001b]8;id=705514;file://D:\\Python39\\lib\\site-packages\\manim\\scene\\scene_file_writer.py#608\u001b\\\u001b[2m608\u001b[0m\u001b]8;;\u001b\\\n"
      ]
     },
     "metadata": {},
     "output_type": "display_data"
    },
    {
     "data": {
      "text/html": [
       "<pre style=\"white-space:pre;overflow-x:auto;line-height:normal;font-family:Menlo,'DejaVu Sans Mono',consolas,'Courier New',monospace\"><span style=\"color: #7fbfbf; text-decoration-color: #7fbfbf\">                    </span><span style=\"color: #008000; text-decoration-color: #008000\">INFO    </span>                                         <a href=\"file://D:\\Python39\\lib\\site-packages\\manim\\scene\\scene_file_writer.py\"><span style=\"color: #7f7f7f; text-decoration-color: #7f7f7f\">scene_file_writer.py</span></a><span style=\"color: #7f7f7f; text-decoration-color: #7f7f7f\">:</span><a href=\"file://D:\\Python39\\lib\\site-packages\\manim\\scene\\scene_file_writer.py#729\"><span style=\"color: #7f7f7f; text-decoration-color: #7f7f7f\">729</span></a>\n",
       "                             <span style=\"color: #808000; text-decoration-color: #808000; font-weight: bold\">File</span> ready at                                                   \n",
       "                             <span style=\"color: #008000; text-decoration-color: #008000\">'D:\\Programming\\Python\\jupyter </span>                                 \n",
       "                             <span style=\"color: #008000; text-decoration-color: #008000\">notebooks\\media\\videos\\jupyter </span>                                 \n",
       "                             <span style=\"color: #008000; text-decoration-color: #008000\">notebooks\\480p15\\Mandbelbrot.mp4'</span>                               \n",
       "                                                                                             \n",
       "</pre>\n"
      ],
      "text/plain": [
       "\u001b[2;36m                   \u001b[0m\u001b[2;36m \u001b[0m\u001b[32mINFO    \u001b[0m                                         \u001b]8;id=425986;file://D:\\Python39\\lib\\site-packages\\manim\\scene\\scene_file_writer.py\u001b\\\u001b[2mscene_file_writer.py\u001b[0m\u001b]8;;\u001b\\\u001b[2m:\u001b[0m\u001b]8;id=737681;file://D:\\Python39\\lib\\site-packages\\manim\\scene\\scene_file_writer.py#729\u001b\\\u001b[2m729\u001b[0m\u001b]8;;\u001b\\\n",
       "                             \u001b[1;33mFile\u001b[0m ready at                                                   \n",
       "                             \u001b[32m'D:\\Programming\\Python\\jupyter \u001b[0m                                 \n",
       "                             \u001b[32mnotebooks\\media\\videos\\jupyter \u001b[0m                                 \n",
       "                             \u001b[32mnotebooks\\480p15\\Mandbelbrot.mp4'\u001b[0m                               \n",
       "                                                                                             \n"
      ]
     },
     "metadata": {},
     "output_type": "display_data"
    },
    {
     "data": {
      "text/html": [
       "<pre style=\"white-space:pre;overflow-x:auto;line-height:normal;font-family:Menlo,'DejaVu Sans Mono',consolas,'Courier New',monospace\"><span style=\"color: #7fbfbf; text-decoration-color: #7fbfbf\">                    </span><span style=\"color: #008000; text-decoration-color: #008000\">INFO    </span> <span style=\"color: #808000; text-decoration-color: #808000; font-weight: bold\">Rendered</span> Mandbelbrot                                <a href=\"file://D:\\Python39\\lib\\site-packages\\manim\\scene\\scene.py\"><span style=\"color: #7f7f7f; text-decoration-color: #7f7f7f\">scene.py</span></a><span style=\"color: #7f7f7f; text-decoration-color: #7f7f7f\">:</span><a href=\"file://D:\\Python39\\lib\\site-packages\\manim\\scene\\scene.py#237\"><span style=\"color: #7f7f7f; text-decoration-color: #7f7f7f\">237</span></a>\n",
       "                             <span style=\"color: #808000; text-decoration-color: #808000; font-weight: bold\">Played</span> <span style=\"color: #008000; text-decoration-color: #008000\">1</span> <span style=\"color: #808000; text-decoration-color: #808000; font-weight: bold\">animations</span>                                             \n",
       "</pre>\n"
      ],
      "text/plain": [
       "\u001b[2;36m                   \u001b[0m\u001b[2;36m \u001b[0m\u001b[32mINFO    \u001b[0m \u001b[1;33mRendered\u001b[0m Mandbelbrot                                \u001b]8;id=964226;file://D:\\Python39\\lib\\site-packages\\manim\\scene\\scene.py\u001b\\\u001b[2mscene.py\u001b[0m\u001b]8;;\u001b\\\u001b[2m:\u001b[0m\u001b]8;id=97928;file://D:\\Python39\\lib\\site-packages\\manim\\scene\\scene.py#237\u001b\\\u001b[2m237\u001b[0m\u001b]8;;\u001b\\\n",
       "                             \u001b[1;33mPlayed\u001b[0m \u001b[32m1\u001b[0m \u001b[1;33manimations\u001b[0m                                             \n"
      ]
     },
     "metadata": {},
     "output_type": "display_data"
    },
    {
     "data": {
      "text/html": [
       "<video src=\"media\\jupyter\\Mandbelbrot@2022-03-18@05-29-50.mp4\" controls autoplay loop style=\"max-width: 60%;\"  >\n",
       "      Your browser does not support the <code>video</code> element.\n",
       "    </video>"
      ],
      "text/plain": [
       "<IPython.core.display.Video object>"
      ]
     },
     "metadata": {},
     "output_type": "display_data"
    }
   ],
   "source": [
    "%%manim Mandbelbrot\n",
    "from datetime import *\n",
    "\n",
    "class Mandbelbrot(Scene):\n",
    "    def construct(self):\n",
    "        st_t = datetime.now()\n",
    "        \n",
    "        iter_func = lambda z, c: z ** 2 + c\n",
    "        iter_num = 128\n",
    "        colors = color_gradient(['#182AFF', WHITE, BLACK], iter_num + 1)\n",
    "        \n",
    "        def get_color(c):\n",
    "            z = complex(0, 0)\n",
    "            num = 0\n",
    "            while abs(z) < 2 and num < iter_num:\n",
    "                z = iter_func(z, c)\n",
    "                num += 1\n",
    "            return colors[num]\n",
    "        \n",
    "        scale = 2\n",
    "        rows , cols = 8, 8\n",
    "        \n",
    "        x = np.linspace(-2, 1, num=rows).reshape((1, rows))\n",
    "        y = np.linspace(-1, 1, num=cols).reshape((cols, 1))\n",
    "        \n",
    "        \n",
    "        \n",
    "        \n",
    "        sp = Square(stroke_width=0, fill_color=RED, fill_opacity=1).scale(4 * scale / cols / 2 * 1.12)\n",
    "        \n",
    "        for i in range(int(cols / 2) + 1):\n",
    "            for j in range(rows):\n",
    "                lij = (-rows / 2 + j) / rows * 4 * scale * RIGHT + \\\n",
    "                      (-cols / 2 + i) / cols * 4 * scale * UP\n",
    "                c = complex(*(lij[:2] / scale)) / 1.6 - 0.6\n",
    "                \n",
    "                self.add(sp.copy().set_fill(color=get_color(c)).move_to(lij))\n",
    "                self.add(sp.copy().set_fill(color=get_color(c)).move_to(lij * np.array([1, -1, 0])))\n",
    "                \n",
    "                if j == 0:\n",
    "                    print('i = %d, j = %d\\t' %(i, j), datetime.now().strftime('%Y-%m-%d %H:%M:%S'))\n",
    "        \n",
    "        ed_t = datetime.now()\n",
    "        tot_t = (ed_t - st_t).total_seconds()\n",
    "        print('Total time : %d s' %tot_t)\n",
    "\n",
    "        self.wait()"
   ]
  },
  {
   "cell_type": "code",
   "execution_count": 32,
   "id": "d43136f5-a5ab-4b30-86b5-31a3262e08c9",
   "metadata": {},
   "outputs": [
    {
     "data": {
      "text/plain": [
       "[[-2.0, -1.0, 0],\n",
       " [-2.0, -0.7142857142857143, 0],\n",
       " [-2.0, -0.4285714285714286, 0],\n",
       " [-2.0, -0.1428571428571429, 0],\n",
       " [-2.0, 0.1428571428571428, 0],\n",
       " [-2.0, 0.4285714285714284, 0],\n",
       " [-2.0, 0.7142857142857142, 0],\n",
       " [-2.0, 1.0, 0],\n",
       " [-1.5714285714285714, -1.0, 0],\n",
       " [-1.5714285714285714, -0.7142857142857143, 0],\n",
       " [-1.5714285714285714, -0.4285714285714286, 0],\n",
       " [-1.5714285714285714, -0.1428571428571429, 0],\n",
       " [-1.5714285714285714, 0.1428571428571428, 0],\n",
       " [-1.5714285714285714, 0.4285714285714284, 0],\n",
       " [-1.5714285714285714, 0.7142857142857142, 0],\n",
       " [-1.5714285714285714, 1.0, 0],\n",
       " [-1.1428571428571428, -1.0, 0],\n",
       " [-1.1428571428571428, -0.7142857142857143, 0],\n",
       " [-1.1428571428571428, -0.4285714285714286, 0],\n",
       " [-1.1428571428571428, -0.1428571428571429, 0],\n",
       " [-1.1428571428571428, 0.1428571428571428, 0],\n",
       " [-1.1428571428571428, 0.4285714285714284, 0],\n",
       " [-1.1428571428571428, 0.7142857142857142, 0],\n",
       " [-1.1428571428571428, 1.0, 0],\n",
       " [-0.7142857142857144, -1.0, 0],\n",
       " [-0.7142857142857144, -0.7142857142857143, 0],\n",
       " [-0.7142857142857144, -0.4285714285714286, 0],\n",
       " [-0.7142857142857144, -0.1428571428571429, 0],\n",
       " [-0.7142857142857144, 0.1428571428571428, 0],\n",
       " [-0.7142857142857144, 0.4285714285714284, 0],\n",
       " [-0.7142857142857144, 0.7142857142857142, 0],\n",
       " [-0.7142857142857144, 1.0, 0],\n",
       " [-0.2857142857142858, -1.0, 0],\n",
       " [-0.2857142857142858, -0.7142857142857143, 0],\n",
       " [-0.2857142857142858, -0.4285714285714286, 0],\n",
       " [-0.2857142857142858, -0.1428571428571429, 0],\n",
       " [-0.2857142857142858, 0.1428571428571428, 0],\n",
       " [-0.2857142857142858, 0.4285714285714284, 0],\n",
       " [-0.2857142857142858, 0.7142857142857142, 0],\n",
       " [-0.2857142857142858, 1.0, 0],\n",
       " [0.1428571428571428, -1.0, 0],\n",
       " [0.1428571428571428, -0.7142857142857143, 0],\n",
       " [0.1428571428571428, -0.4285714285714286, 0],\n",
       " [0.1428571428571428, -0.1428571428571429, 0],\n",
       " [0.1428571428571428, 0.1428571428571428, 0],\n",
       " [0.1428571428571428, 0.4285714285714284, 0],\n",
       " [0.1428571428571428, 0.7142857142857142, 0],\n",
       " [0.1428571428571428, 1.0, 0],\n",
       " [0.5714285714285712, -1.0, 0],\n",
       " [0.5714285714285712, -0.7142857142857143, 0],\n",
       " [0.5714285714285712, -0.4285714285714286, 0],\n",
       " [0.5714285714285712, -0.1428571428571429, 0],\n",
       " [0.5714285714285712, 0.1428571428571428, 0],\n",
       " [0.5714285714285712, 0.4285714285714284, 0],\n",
       " [0.5714285714285712, 0.7142857142857142, 0],\n",
       " [0.5714285714285712, 1.0, 0],\n",
       " [1.0, -1.0, 0],\n",
       " [1.0, -0.7142857142857143, 0],\n",
       " [1.0, -0.4285714285714286, 0],\n",
       " [1.0, -0.1428571428571429, 0],\n",
       " [1.0, 0.1428571428571428, 0],\n",
       " [1.0, 0.4285714285714284, 0],\n",
       " [1.0, 0.7142857142857142, 0],\n",
       " [1.0, 1.0, 0]]"
      ]
     },
     "execution_count": 32,
     "metadata": {},
     "output_type": "execute_result"
    }
   ],
   "source": [
    "\n",
    "    \n",
    "    \n",
    "\n"
   ]
  },
  {
   "cell_type": "code",
   "execution_count": 36,
   "id": "0462f41d-98f6-4b64-9d62-f10f2abd8f46",
   "metadata": {},
   "outputs": [
    {
     "name": "stdout",
     "output_type": "stream",
     "text": [
      "[-4. -4. -0.] [-1.85 -1.85]\n",
      "[-3. -4. -0.] [-1.5375 -1.85  ]\n",
      "[-2. -4. -0.] [-1.225 -1.85 ]\n",
      "[-1. -4. -0.] [-0.9125 -1.85  ]\n",
      "[ 0. -4.  0.] [-0.6  -1.85]\n",
      "[ 1. -4.  0.] [-0.2875 -1.85  ]\n",
      "[ 2. -4.  0.] [ 0.025 -1.85 ]\n",
      "[ 3. -4.  0.] [ 0.3375 -1.85  ]\n",
      "[-4. -3. -0.] [-1.85   -1.5375]\n",
      "[-3. -3. -0.] [-1.5375 -1.5375]\n",
      "[-2. -3. -0.] [-1.225  -1.5375]\n",
      "[-1. -3. -0.] [-0.9125 -1.5375]\n",
      "[ 0. -3.  0.] [-0.6    -1.5375]\n",
      "[ 1. -3.  0.] [-0.2875 -1.5375]\n",
      "[ 2. -3.  0.] [ 0.025  -1.5375]\n",
      "[ 3. -3.  0.] [ 0.3375 -1.5375]\n",
      "[-4. -2. -0.] [-1.85  -1.225]\n",
      "[-3. -2. -0.] [-1.5375 -1.225 ]\n",
      "[-2. -2. -0.] [-1.225 -1.225]\n",
      "[-1. -2. -0.] [-0.9125 -1.225 ]\n",
      "[ 0. -2.  0.] [-0.6   -1.225]\n",
      "[ 1. -2.  0.] [-0.2875 -1.225 ]\n",
      "[ 2. -2.  0.] [ 0.025 -1.225]\n",
      "[ 3. -2.  0.] [ 0.3375 -1.225 ]\n",
      "[-4. -1. -0.] [-1.85   -0.9125]\n",
      "[-3. -1. -0.] [-1.5375 -0.9125]\n",
      "[-2. -1. -0.] [-1.225  -0.9125]\n",
      "[-1. -1. -0.] [-0.9125 -0.9125]\n",
      "[ 0. -1.  0.] [-0.6    -0.9125]\n",
      "[ 1. -1.  0.] [-0.2875 -0.9125]\n",
      "[ 2. -1.  0.] [ 0.025  -0.9125]\n",
      "[ 3. -1.  0.] [ 0.3375 -0.9125]\n",
      "[-4.  0.  0.] [-1.85 -0.6 ]\n",
      "[-3.  0.  0.] [-1.5375 -0.6   ]\n",
      "[-2.  0.  0.] [-1.225 -0.6  ]\n",
      "[-1.  0.  0.] [-0.9125 -0.6   ]\n",
      "[0. 0. 0.] [-0.6 -0.6]\n",
      "[1. 0. 0.] [-0.2875 -0.6   ]\n",
      "[2. 0. 0.] [ 0.025 -0.6  ]\n",
      "[3. 0. 0.] [ 0.3375 -0.6   ]\n"
     ]
    }
   ],
   "source": [
    "\n",
    "for i in range(int(cols / 2) + 1):\n",
    "    for j in range(rows):\n",
    "        lij = (-rows / 2 + j) / rows * 4 * 2 * RIGHT + \\\n",
    "              (-cols / 2 + i) / cols * 4 * 2 * UP\n",
    "        print(lij, (lij[:2] / 2) / 1.6 - 0.6)"
   ]
  },
  {
   "cell_type": "code",
   "execution_count": null,
   "id": "6ca5e092-8aa4-4f6f-aab5-092de78ebb0d",
   "metadata": {},
   "outputs": [],
   "source": []
  }
 ],
 "metadata": {
  "kernelspec": {
   "display_name": "Python 3 (ipykernel)",
   "language": "python",
   "name": "python3"
  },
  "language_info": {
   "codemirror_mode": {
    "name": "ipython",
    "version": 3
   },
   "file_extension": ".py",
   "mimetype": "text/x-python",
   "name": "python",
   "nbconvert_exporter": "python",
   "pygments_lexer": "ipython3",
   "version": "3.9.7"
  }
 },
 "nbformat": 4,
 "nbformat_minor": 5
}
