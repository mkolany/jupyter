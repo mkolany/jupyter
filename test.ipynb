{
 "cells": [
  {
   "cell_type": "code",
   "execution_count": null,
   "source": [
    "import sympy as sym\r\n",
    "from sympy.geometry import *\r\n",
    "\r\n",
    "x = sym.Symbol('x')\r\n",
    "y = sym.Symbol('y')\r\n",
    "\r\n",
    "sym.plot_implicit(sym.Eq(x**2+y**2,1))\r\n"
   ],
   "outputs": [],
   "metadata": {}
  },
  {
   "cell_type": "code",
   "execution_count": null,
   "source": [
    "from shapely.geometry import Polygon\r\n",
    "import matplotlib.pyplot as plt\r\n",
    "polygon1 = Polygon([[0, 5], [1, 1], [0, 1]])\r\n",
    "x,y = polygon1.exterior.xy\r\n",
    "plt.plot(x,y)"
   ],
   "outputs": [],
   "metadata": {}
  },
  {
   "cell_type": "code",
   "execution_count": null,
   "source": [
    "%matplotlib inline\r\n",
    "from ipywidgets import interactive\r\n",
    "import matplotlib.pyplot as plt\r\n",
    "import numpy as np\r\n",
    "import math\r\n",
    "\r\n",
    "plt.figure(2)\r\n",
    "def polygon(sides):\r\n",
    "    r=1\r\n",
    "    phi=0\r\n",
    "\r\n",
    "    \r\n",
    "\r\n",
    "    angle = 2*math.pi/(sides)\r\n",
    "    T = np.arange(-math.pi,math.pi+angle, angle)\r\n",
    "    \r\n",
    "\r\n",
    "    x, y = np.cos(T), np.sin(T)\r\n",
    "    plt.plot(x,y)\r\n",
    "    \r\n",
    "    plt.axis('equal') \r\n",
    "    plt.axis('off')\r\n",
    "    plt.show()\r\n",
    "\r\n",
    "interactive_plot = interactive(polygon, sides=(2,16,0.1))\r\n",
    "interactive_plot"
   ],
   "outputs": [],
   "metadata": {}
  },
  {
   "cell_type": "code",
   "execution_count": null,
   "source": [
    "from ipyevents import Event \r\n",
    "from ipycanvas import Canvas\r\n",
    "\r\n",
    "canvas = Canvas(width=200, height=200)\r\n",
    "\r\n",
    "canvas.fill_style = '#63934e'\r\n",
    "canvas.stroke_style = '#4e6393'\r\n",
    "canvas.line_width = 5\r\n",
    "canvas.fill_polygon([(20, 20), (180, 20), (100, 150)])\r\n",
    "canvas.stroke_polygon([(20, 20), (180, 20), (100, 150)])\r\n",
    "\r\n",
    "im_events = Event()\r\n",
    "im_events.source = canvas\r\n",
    "im_events.watched_events = ['click']\r\n",
    "\r\n",
    "# no_drag = Event(source=canvas, watched_events=['dragstart'], prevent_default_action = True)\r\n"
   ],
   "outputs": [],
   "metadata": {}
  },
  {
   "cell_type": "code",
   "execution_count": null,
   "source": [
    "from ipywidgets import Label, HTML, HBox, Image, VBox, Box, HBox\r\n",
    "from IPython.display import display\r\n",
    "from ipyevents import Event \r\n",
    "from ipycanvas import Canvas\r\n",
    "\r\n",
    "canvas = Canvas(width=200, height=200)\r\n",
    "\r\n",
    "canvas.fill_style = '#63934e'\r\n",
    "canvas.stroke_style = '#4e6393'\r\n",
    "canvas.line_width = 5\r\n",
    "# canvas.fill_polygon([(20, 20), (180, 20), (100, 150)])\r\n",
    "coords = []\r\n",
    "\r\n",
    "canvas.stroke_polygon(coords)\r\n",
    "\r\n",
    "im_events = Event()\r\n",
    "im_events.source = canvas\r\n",
    "im_events.watched_events = ['click', 'keyup', 'keydown']\r\n",
    "\r\n",
    "# no_drag = Event(source=canvas, watched_events=['dragstart'], prevent_default_action = True)\r\n",
    "\r\n",
    "h2 = HTML('Event info')\r\n",
    "\r\n",
    "def update_coords(event):\r\n",
    "    canvas.clear()\r\n",
    "    lines = ['{}: {}'.format(k, v) for k, v in event.items()]\r\n",
    "    content = '<br>'.join(lines)\r\n",
    "    h2.value = content\r\n",
    "    coords.append((event['layerX'], event['layerY']))\r\n",
    "    canvas.stroke_polygon(coords)\r\n",
    "    \r\n",
    "im_events.on_dom_event(update_coords)\r\n",
    "\r\n",
    "display(canvas, h2)"
   ],
   "outputs": [],
   "metadata": {}
  }
 ],
 "metadata": {
  "orig_nbformat": 4,
  "language_info": {
   "name": "python"
  }
 },
 "nbformat": 4,
 "nbformat_minor": 2
}