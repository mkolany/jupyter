{
 "cells": [
  {
   "cell_type": "code",
   "execution_count": 24,
   "source": [
    "import sympy as sym\r\n",
    "\r\n",
    "x = sym.symbols('x')\r\n",
    "sym.solveset(x**2 + 1, x)\r\n"
   ],
   "outputs": [
    {
     "output_type": "execute_result",
     "data": {
      "text/latex": [
       "$\\displaystyle \\left\\{- i, i\\right\\}$"
      ],
      "text/plain": [
       "FiniteSet(I, -I)"
      ]
     },
     "metadata": {},
     "execution_count": 24
    }
   ],
   "metadata": {}
  },
  {
   "cell_type": "code",
   "execution_count": 25,
   "source": [
    "x, y, z = sym.symbols('x y z')\r\n",
    "sym.linsolve([x + y + z - 1, x + y + 2*z - 3 ], (x, y, z))"
   ],
   "outputs": [
    {
     "output_type": "execute_result",
     "data": {
      "text/latex": [
       "$\\displaystyle \\left\\{\\left( - y - 1, \\  y, \\  2\\right)\\right\\}$"
      ],
      "text/plain": [
       "FiniteSet((-y - 1, y, 2))"
      ]
     },
     "metadata": {},
     "execution_count": 25
    }
   ],
   "metadata": {}
  },
  {
   "cell_type": "code",
   "execution_count": 22,
   "source": [
    "k, m, n = sym.symbols('k m n', integer=True)\r\n",
    "\r\n",
    "sym.linsolve([k + m + n - 1, k + m + 2*n - 3 ], (k, m, n))\r\n"
   ],
   "outputs": [
    {
     "output_type": "execute_result",
     "data": {
      "text/latex": [
       "$\\displaystyle \\left\\{\\left( - m - 1, \\  m, \\  2\\right)\\right\\}$"
      ],
      "text/plain": [
       "FiniteSet((-m - 1, m, 2))"
      ]
     },
     "metadata": {},
     "execution_count": 22
    }
   ],
   "metadata": {}
  },
  {
   "cell_type": "code",
   "execution_count": 68,
   "source": [
    "from sympy import *\r\n",
    "# from IPython import display\r\n",
    "\r\n",
    "\r\n",
    "t, l, C1 =  symbols(\"t lambda C1\")\r\n",
    "y =  symbols(\"y\", cls = Function, Function = True)\r\n",
    "\r\n",
    "eq1 = Eq(diff(y(t), t), -l*y(t))\r\n",
    "eq2 = Eq(y(0),5)\r\n",
    "soln = dsolve(eq1)\r\n",
    "constants = solve(soln.subs(t,0).subs(y(0),5),C1)\r\n",
    "xsoln = expand(soln.subs(C1, constants[0]))\r\n",
    "display(eq1, eq2, soln, xsoln)"
   ],
   "outputs": [
    {
     "output_type": "display_data",
     "data": {
      "text/latex": [
       "$\\displaystyle \\frac{d}{d t} y{\\left(t \\right)} = - \\lambda y{\\left(t \\right)}$"
      ],
      "image/png": "[encoded data removed]",
      "text/plain": [
       "d                 \n",
       "──(y(t)) = -λ⋅y(t)\n",
       "dt                "
      ]
     },
     "metadata": {}
    },
    {
     "output_type": "display_data",
     "data": {
      "text/latex": [
       "$\\displaystyle y{\\left(0 \\right)} = 5$"
      ],
      "image/png": "[encoded data removed]",
      "text/plain": [
       "y(0) = 5"
      ]
     },
     "metadata": {}
    },
    {
     "output_type": "display_data",
     "data": {
      "text/latex": [
       "$\\displaystyle y{\\left(t \\right)} = C_{1} e^{- \\lambda t}$"
      ],
      "image/png": "[encoded data removed]",
      "text/plain": [
       "           -λ⋅t\n",
       "y(t) = C₁⋅ℯ    "
      ]
     },
     "metadata": {}
    },
    {
     "output_type": "display_data",
     "data": {
      "text/latex": [
       "$\\displaystyle y{\\left(t \\right)} = 5 e^{- \\lambda t}$"
      ],
      "image/png": "[encoded data removed]",
      "text/plain": [
       "          -λ⋅t\n",
       "y(t) = 5⋅ℯ    "
      ]
     },
     "metadata": {}
    }
   ],
   "metadata": {}
  },
  {
   "cell_type": "code",
   "execution_count": 61,
   "source": [
    "from shapely.geometry import  Point, LineString, Polygon\r\n",
    "import matplotlib.pyplot as plt\r\n",
    "import numpy as np\r\n",
    "from ipywidgets import interactive \r\n",
    "\r\n",
    "def polygon(n):\r\n",
    "        angle = math.pi * 2 / n\r\n",
    "        polygon1 = Polygon([\r\n",
    "                (math.sin(angle * i ) * 5,\r\n",
    "                math.cos(angle * i ) * 5)\r\n",
    "                for i in range(int(n))])\r\n",
    "\r\n",
    "        x,y = polygon1.exterior.xy\r\n",
    "        \r\n",
    "        plt.plot(x,y)\r\n",
    "        plt.axis('equal') \r\n",
    "        plt.axis('off') \r\n",
    "        plt.show()\r\n",
    "\r\n",
    "interactive(polygon, n=(3,16,0.1))"
   ],
   "outputs": [
    {
     "output_type": "display_data",
     "data": {
      "application/vnd.jupyter.widget-view+json": {
       "version_major": 2,
       "version_minor": 0,
       "model_id": "158fc44b272a49e0b04ad7b8add0cd85"
      },
      "text/plain": [
       "interactive(children=(FloatSlider(value=9.0, description='n', max=16.0, min=3.0), Output()), _dom_classes=('wi…"
      ]
     },
     "metadata": {}
    }
   ],
   "metadata": {}
  },
  {
   "cell_type": "code",
   "execution_count": 19,
   "source": [
    "# %matplotlib inline\r\n",
    "from ipywidgets import interactive, HBox, Output\r\n",
    "import matplotlib.pyplot as plt\r\n",
    "import numpy as np\r\n",
    "import math\r\n",
    "\r\n",
    "fig = plt.figure(2)\r\n",
    "out = Output()\r\n",
    "def polygon(sides):\r\n",
    "    \r\n",
    "    \r\n",
    "\r\n",
    "    angle = 2*math.pi/(sides)\r\n",
    "    T = np.arange(-math.pi,math.pi+angle, angle)\r\n",
    "    \r\n",
    "\r\n",
    "    x, y = np.cos(T), np.sin(T)\r\n",
    "    plt.plot(x,y)\r\n",
    "    \r\n",
    "    plt.axis('equal') \r\n",
    "    with out:\r\n",
    "        plt.show()\r\n",
    "\r\n",
    "interactive_plot = interactive(polygon, sides=(2,16,0.1))\r\n",
    "HBox([interactive_plot, out])"
   ],
   "outputs": [
    {
     "output_type": "display_data",
     "data": {
      "application/vnd.jupyter.widget-view+json": {
       "version_major": 2,
       "version_minor": 0,
       "model_id": "fbd5181e32b94609b68dc91e0d639999"
      },
      "text/plain": [
       "HBox(children=(interactive(children=(FloatSlider(value=9.0, description='sides', max=16.0, min=2.0), Output())…"
      ]
     },
     "metadata": {}
    }
   ],
   "metadata": {}
  },
  {
   "cell_type": "code",
   "execution_count": 20,
   "source": [
    "from ipywidgets import Label, HTML, HBox, Image, VBox, Box, HBox\r\n",
    "from IPython.display import display\r\n",
    "from ipyevents import Event \r\n",
    "from ipycanvas import Canvas\r\n",
    "\r\n",
    "canvas = Canvas(width=200, height=200)\r\n",
    "\r\n",
    "canvas.fill_style = '#63934e'\r\n",
    "canvas.stroke_style = '#4e6393'\r\n",
    "canvas.line_width = 5\r\n",
    "# canvas.fill_polygon([(20, 20), (180, 20), (100, 150)])\r\n",
    "coords = []\r\n",
    "\r\n",
    "canvas.stroke_polygon(coords)\r\n",
    "\r\n",
    "im_events = Event()\r\n",
    "im_events.source = canvas\r\n",
    "im_events.watched_events = ['click', 'keyup', 'keydown']\r\n",
    "\r\n",
    "# no_drag = Event(source=canvas, watched_events=['dragstart'], prevent_default_action = True)\r\n",
    "\r\n",
    "h2 = HTML('Event info')\r\n",
    "\r\n",
    "def update_coords(event):\r\n",
    "    canvas.clear()\r\n",
    "    lines = ['{}: {}'.format(k, v) for k, v in event.items()]\r\n",
    "    content = '<br>'.join(lines)\r\n",
    "    h2.value = content\r\n",
    "    coords.append((event['layerX'], event['layerY']))\r\n",
    "    canvas.stroke_polygon(coords)\r\n",
    "    \r\n",
    "im_events.on_dom_event(update_coords)\r\n",
    "\r\n",
    "display(canvas, h2)"
   ],
   "outputs": [
    {
     "output_type": "display_data",
     "data": {
      "application/vnd.jupyter.widget-view+json": {
       "version_major": 2,
       "version_minor": 0,
       "model_id": "dcdade0a39d640eb886cf218b2dd1174"
      },
      "text/plain": [
       "Canvas(height=200, width=200)"
      ]
     },
     "metadata": {}
    },
    {
     "output_type": "display_data",
     "data": {
      "application/vnd.jupyter.widget-view+json": {
       "version_major": 2,
       "version_minor": 0,
       "model_id": "d9bfddc1a98f4e6a92cb6c9d8651d755"
      },
      "text/plain": [
       "HTML(value='Event info')"
      ]
     },
     "metadata": {}
    }
   ],
   "metadata": {}
  },
  {
   "cell_type": "code",
   "execution_count": null,
   "source": [],
   "outputs": [],
   "metadata": {}
  }
 ],
 "metadata": {
  "orig_nbformat": 4,
  "language_info": {
   "name": "python",
   "version": "3.9.7",
   "mimetype": "text/x-python",
   "codemirror_mode": {
    "name": "ipython",
    "version": 3
   },
   "pygments_lexer": "ipython3",
   "nbconvert_exporter": "python",
   "file_extension": ".py"
  },
  "kernelspec": {
   "name": "python3",
   "display_name": "Python 3.9.7 64-bit"
  },
  "interpreter": {
   "hash": "bd4c67ef142469da7dc4d338a32ac40116904d26076b8e6aa587d80720bc6a2b"
  }
 },
 "nbformat": 4,
 "nbformat_minor": 2
}