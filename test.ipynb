{
 "cells": [
  {
   "cell_type": "code",
   "execution_count": 24,
   "source": [
    "import sympy as sym\r\n",
    "\r\n",
    "x = sym.symbols('x')\r\n",
    "sym.solveset(x**2 + 1, x)\r\n"
   ],
   "outputs": [
    {
     "output_type": "execute_result",
     "data": {
      "text/latex": [
       "$\\displaystyle \\left\\{- i, i\\right\\}$"
      ],
      "text/plain": [
       "FiniteSet(I, -I)"
      ]
     },
     "metadata": {},
     "execution_count": 24
    }
   ],
   "metadata": {}
  },
  {
   "cell_type": "code",
   "execution_count": 25,
   "source": [
    "x, y, z = sym.symbols('x y z')\r\n",
    "sym.linsolve([x + y + z - 1, x + y + 2*z - 3 ], (x, y, z))"
   ],
   "outputs": [
    {
     "output_type": "execute_result",
     "data": {
      "text/latex": [
       "$\\displaystyle \\left\\{\\left( - y - 1, \\  y, \\  2\\right)\\right\\}$"
      ],
      "text/plain": [
       "FiniteSet((-y - 1, y, 2))"
      ]
     },
     "metadata": {},
     "execution_count": 25
    }
   ],
   "metadata": {}
  },
  {
   "cell_type": "code",
   "execution_count": 22,
   "source": [
    "k, m, n = sym.symbols('k m n', integer=True)\r\n",
    "\r\n",
    "sym.linsolve([k + m + n - 1, k + m + 2*n - 3 ], (k, m, n))\r\n"
   ],
   "outputs": [
    {
     "output_type": "execute_result",
     "data": {
      "text/latex": [
       "$\\displaystyle \\left\\{\\left( - m - 1, \\  m, \\  2\\right)\\right\\}$"
      ],
      "text/plain": [
       "FiniteSet((-m - 1, m, 2))"
      ]
     },
     "metadata": {},
     "execution_count": 22
    }
   ],
   "metadata": {}
  },
  {
   "cell_type": "code",
   "execution_count": 38,
   "source": [
    "from sympy import *\r\n",
    "\r\n",
    "import sympy.functions.special.delta_functions as sfuncs\r\n",
    "from sympy.abc import *\r\n",
    "init_printing()\r\n",
    "\r\n",
    "t, C1, C2= symbols(\"t C1 C2\")\r\n",
    "x, y =  symbols(\"x y\", cls = Function, Function = True)\r\n",
    "\r\n",
    "eq1 = Eq(3 * diff(x(t), t), y(t))\r\n",
    "eq2 = Eq(diff(y(t),t), - 3 * y(t) - 15 * x(t) + 4 * sfuncs.Heaviside(t))\r\n",
    "eq2 = Eq(diff(y(t),t), - 3 * y(t) - 15 * x(t) + 4 * 1)\r\n",
    "\r\n",
    "soln = dsolve((eq1, eq2), ics = {x: 5, y: 0})\r\n",
    "soln"
   ],
   "outputs": [
    {
     "output_type": "execute_result",
     "data": {
      "text/latex": [
       "$\\displaystyle \\left[ x{\\left(t \\right)} = - \\left(\\frac{C_{1}}{10} - \\frac{\\sqrt{11} C_{2}}{30}\\right) e^{- \\frac{3 t}{2}} \\cos{\\left(\\frac{\\sqrt{11} t}{2} \\right)} + \\left(\\frac{\\sqrt{11} C_{1}}{30} + \\frac{C_{2}}{10}\\right) e^{- \\frac{3 t}{2}} \\sin{\\left(\\frac{\\sqrt{11} t}{2} \\right)} + \\frac{4 \\sqrt{11} \\sin{\\left(\\frac{\\sqrt{11} t}{2} \\right)} \\cos{\\left(\\frac{\\sqrt{11} t}{2} \\right)} \\theta\\left(t\\right)}{55} + \\frac{4 \\cos^{2}{\\left(\\frac{\\sqrt{11} t}{2} \\right)} \\theta\\left(t\\right)}{15} - \\frac{4 \\sqrt{11} e^{- \\frac{3 t}{2}} \\sin{\\left(\\frac{\\sqrt{11} t}{2} \\right)} \\theta\\left(t\\right)}{55} + \\frac{2 e^{- \\frac{3 t}{2}} \\sin{\\left(\\frac{\\sqrt{11} t}{2} \\right)} \\int e^{\\frac{3 t}{2}} \\sin{\\left(\\frac{\\sqrt{11} t}{2} \\right)} \\theta\\left(t\\right)\\, dt}{5} + \\frac{2 \\sqrt{11} e^{- \\frac{3 t}{2}} \\sin{\\left(\\frac{\\sqrt{11} t}{2} \\right)} \\int \\frac{e^{\\frac{3 t}{2}} \\theta\\left(t\\right)}{\\cos{\\left(\\frac{\\sqrt{11} t}{2} \\right)}}\\, dt}{15} - \\frac{2 \\sqrt{11} e^{- \\frac{3 t}{2}} \\sin{\\left(\\frac{\\sqrt{11} t}{2} \\right)} \\int \\frac{e^{\\frac{3 t}{2}} \\sin^{2}{\\left(\\frac{\\sqrt{11} t}{2} \\right)} \\theta\\left(t\\right)}{\\cos{\\left(\\frac{\\sqrt{11} t}{2} \\right)}}\\, dt}{15} - \\frac{4 e^{- \\frac{3 t}{2}} \\cos{\\left(\\frac{\\sqrt{11} t}{2} \\right)} \\theta\\left(t\\right)}{15} - \\frac{6 \\sqrt{11} e^{- \\frac{3 t}{2}} \\cos{\\left(\\frac{\\sqrt{11} t}{2} \\right)} \\int e^{\\frac{3 t}{2}} \\sin{\\left(\\frac{\\sqrt{11} t}{2} \\right)} \\theta\\left(t\\right)\\, dt}{55} - \\frac{2 e^{- \\frac{3 t}{2}} \\cos{\\left(\\frac{\\sqrt{11} t}{2} \\right)} \\int \\frac{e^{\\frac{3 t}{2}} \\theta\\left(t\\right)}{\\cos{\\left(\\frac{\\sqrt{11} t}{2} \\right)}}\\, dt}{5} + \\frac{2 e^{- \\frac{3 t}{2}} \\cos{\\left(\\frac{\\sqrt{11} t}{2} \\right)} \\int \\frac{e^{\\frac{3 t}{2}} \\sin^{2}{\\left(\\frac{\\sqrt{11} t}{2} \\right)} \\theta\\left(t\\right)}{\\cos{\\left(\\frac{\\sqrt{11} t}{2} \\right)}}\\, dt}{5}, \\  y{\\left(t \\right)} = C_{1} e^{- \\frac{3 t}{2}} \\cos{\\left(\\frac{\\sqrt{11} t}{2} \\right)} - C_{2} e^{- \\frac{3 t}{2}} \\sin{\\left(\\frac{\\sqrt{11} t}{2} \\right)} - \\frac{8 \\sqrt{11} \\sin{\\left(\\frac{\\sqrt{11} t}{2} \\right)} \\cos{\\left(\\frac{\\sqrt{11} t}{2} \\right)} \\theta\\left(t\\right)}{11} + \\frac{8 \\sqrt{11} e^{- \\frac{3 t}{2}} \\sin{\\left(\\frac{\\sqrt{11} t}{2} \\right)} \\theta\\left(t\\right)}{11} + \\frac{12 \\sqrt{11} e^{- \\frac{3 t}{2}} \\cos{\\left(\\frac{\\sqrt{11} t}{2} \\right)} \\int e^{\\frac{3 t}{2}} \\sin{\\left(\\frac{\\sqrt{11} t}{2} \\right)} \\theta\\left(t\\right)\\, dt}{11} + 4 e^{- \\frac{3 t}{2}} \\cos{\\left(\\frac{\\sqrt{11} t}{2} \\right)} \\int \\frac{e^{\\frac{3 t}{2}} \\theta\\left(t\\right)}{\\cos{\\left(\\frac{\\sqrt{11} t}{2} \\right)}}\\, dt - 4 e^{- \\frac{3 t}{2}} \\cos{\\left(\\frac{\\sqrt{11} t}{2} \\right)} \\int \\frac{e^{\\frac{3 t}{2}} \\sin^{2}{\\left(\\frac{\\sqrt{11} t}{2} \\right)} \\theta\\left(t\\right)}{\\cos{\\left(\\frac{\\sqrt{11} t}{2} \\right)}}\\, dt\\right]$"
      ],
      "image/png": "[encoded data removed]",
      "text/plain": [
       "⎡                                                                             \n",
       "⎢                                                                             \n",
       "⎢                                                                             \n",
       "⎢                                                                             \n",
       "⎢                                                                             \n",
       "⎢                                                                             \n",
       "⎢                                                                             \n",
       "⎢                                                                             \n",
       "⎢                        -3⋅t                              -3⋅t               \n",
       "⎢                        ─────                             ─────              \n",
       "⎢         ⎛C₁   √11⋅C₂⎞    2      ⎛√11⋅t⎞   ⎛√11⋅C₁   C₂⎞    2      ⎛√11⋅t⎞   \n",
       "⎢x(t) = - ⎜── - ──────⎟⋅ℯ     ⋅cos⎜─────⎟ + ⎜────── + ──⎟⋅ℯ     ⋅sin⎜─────⎟ + \n",
       "⎢         ⎝10     30  ⎠           ⎝  2  ⎠   ⎝  30     10⎠           ⎝  2  ⎠   \n",
       "⎢                                                                             \n",
       "⎢                                                                             \n",
       "⎣                                                                             \n",
       "\n",
       "                                                                              \n",
       "                                                                              \n",
       "                                                                              \n",
       "                                                                              \n",
       "                                                                              \n",
       "                                                                              \n",
       "                                                               -3⋅t           \n",
       "                                                               ─────          \n",
       "         ⎛√11⋅t⎞    ⎛√11⋅t⎞             2⎛√11⋅t⎞                 2      ⎛√11⋅t\n",
       "4⋅√11⋅sin⎜─────⎟⋅cos⎜─────⎟⋅θ(t)   4⋅cos ⎜─────⎟⋅θ(t)   4⋅√11⋅ℯ     ⋅sin⎜─────\n",
       "         ⎝  2  ⎠    ⎝  2  ⎠              ⎝  2  ⎠                        ⎝  2  \n",
       "──────────────────────────────── + ────────────────── - ──────────────────────\n",
       "               55                          15                        55       \n",
       "                                                                              \n",
       "                                                                              \n",
       "                                                                              \n",
       "\n",
       "                                                                              \n",
       "                                                                              \n",
       "                                                                              \n",
       "                                                                -3⋅t          \n",
       "                             ⌠                                  ─────         \n",
       "            -3⋅t             ⎮  3⋅t                               2      ⎛√11⋅\n",
       "            ─────            ⎮  ───                      2⋅√11⋅ℯ     ⋅sin⎜────\n",
       "              2      ⎛√11⋅t⎞ ⎮   2     ⎛√11⋅t⎞                           ⎝  2 \n",
       "⎞        2⋅ℯ     ⋅sin⎜─────⎟⋅⎮ ℯ   ⋅sin⎜─────⎟⋅θ(t) dt                        \n",
       "⎟⋅θ(t)               ⎝  2  ⎠ ⎮         ⎝  2  ⎠                                \n",
       "⎠                            ⌡                                                \n",
       "────── + ───────────────────────────────────────────── + ─────────────────────\n",
       "                               5                                            15\n",
       "                                                                              \n",
       "                                                                              \n",
       "                                                                              \n",
       "\n",
       "                                             ⌠                                \n",
       "   ⌠                                         ⎮  3⋅t                           \n",
       "   ⎮  3⋅t                                    ⎮  ───                           \n",
       "   ⎮  ───                   -3⋅t             ⎮   2     2⎛√11⋅t⎞               \n",
       "   ⎮   2                    ─────            ⎮ ℯ   ⋅sin ⎜─────⎟⋅θ(t)          \n",
       "t⎞ ⎮ ℯ   ⋅θ(t)                2      ⎛√11⋅t⎞ ⎮          ⎝  2  ⎠               \n",
       "─⎟⋅⎮ ────────── dt   2⋅√11⋅ℯ     ⋅sin⎜─────⎟⋅⎮ ───────────────────── dt      -\n",
       " ⎠ ⎮    ⎛√11⋅t⎞                      ⎝  2  ⎠ ⎮          ⎛√11⋅t⎞              ─\n",
       "   ⎮ cos⎜─────⎟                              ⎮       cos⎜─────⎟               \n",
       "   ⎮    ⎝  2  ⎠                              ⎮          ⎝  2  ⎠           4⋅ℯ \n",
       "   ⌡                                         ⌡                                \n",
       "────────────────── - ────────────────────────────────────────────────── - ────\n",
       "                                             15                               \n",
       "                                                                              \n",
       "                                                                              \n",
       "                                                                              \n",
       "\n",
       "                                                                              \n",
       "                                                                              \n",
       "                                                                              \n",
       "                                                                              \n",
       "                                               ⌠                              \n",
       "                              -3⋅t             ⎮  3⋅t                         \n",
       "3⋅t                           ─────            ⎮  ───                      2⋅ℯ\n",
       "────                            2      ⎛√11⋅t⎞ ⎮   2     ⎛√11⋅t⎞              \n",
       " 2      ⎛√11⋅t⎞        6⋅√11⋅ℯ     ⋅cos⎜─────⎟⋅⎮ ℯ   ⋅sin⎜─────⎟⋅θ(t) dt      \n",
       "    ⋅cos⎜─────⎟⋅θ(t)                   ⎝  2  ⎠ ⎮         ⎝  2  ⎠              \n",
       "        ⎝  2  ⎠                                ⌡                              \n",
       "──────────────────── - ───────────────────────────────────────────────── - ───\n",
       "       15                                      55                             \n",
       "                                                                              \n",
       "                                                                              \n",
       "                                                                              \n",
       "\n",
       "                                                       ⌠                      \n",
       "                 ⌠                                     ⎮  3⋅t                 \n",
       "                 ⎮  3⋅t                                ⎮  ───                 \n",
       "-3⋅t             ⎮  ───               -3⋅t             ⎮   2     2⎛√11⋅t⎞     \n",
       "─────            ⎮   2                ─────            ⎮ ℯ   ⋅sin ⎜─────⎟⋅θ(t)\n",
       "  2      ⎛√11⋅t⎞ ⎮ ℯ   ⋅θ(t)            2      ⎛√11⋅t⎞ ⎮          ⎝  2  ⎠     \n",
       "     ⋅cos⎜─────⎟⋅⎮ ────────── dt   2⋅ℯ     ⋅cos⎜─────⎟⋅⎮ ─────────────────────\n",
       "         ⎝  2  ⎠ ⎮    ⎛√11⋅t⎞                  ⎝  2  ⎠ ⎮          ⎛√11⋅t⎞     \n",
       "                 ⎮ cos⎜─────⎟                          ⎮       cos⎜─────⎟     \n",
       "                 ⎮    ⎝  2  ⎠                          ⎮          ⎝  2  ⎠     \n",
       "                 ⌡                                     ⌡                      \n",
       "──────────────────────────────── + ───────────────────────────────────────────\n",
       "              5                                          5                    \n",
       "                                                                              \n",
       "                                                                              \n",
       "                                                                              \n",
       "\n",
       "                                                                              \n",
       "                                                                              \n",
       "                                                                              \n",
       "                                                                              \n",
       "                                                                              \n",
       "                                                                              \n",
       " dt                                                                           \n",
       "                                                                              \n",
       "                -3⋅t                   -3⋅t                        ⎛√11⋅t⎞    \n",
       "                ─────                  ─────              8⋅√11⋅sin⎜─────⎟⋅cos\n",
       "                  2      ⎛√11⋅t⎞         2      ⎛√11⋅t⎞            ⎝  2  ⎠    \n",
       "───, y(t) = C₁⋅ℯ     ⋅cos⎜─────⎟ - C₂⋅ℯ     ⋅sin⎜─────⎟ - ────────────────────\n",
       "                         ⎝  2  ⎠                ⎝  2  ⎠                  11   \n",
       "                                                                              \n",
       "                                                                              \n",
       "                                                                              \n",
       "\n",
       "                                                                              \n",
       "                                                                              \n",
       "                                                                              \n",
       "                                                                              \n",
       "                                                                       ⌠      \n",
       "                                                      -3⋅t             ⎮  3⋅t \n",
       "                      -3⋅t                            ─────            ⎮  ─── \n",
       "                      ─────                             2      ⎛√11⋅t⎞ ⎮   2  \n",
       "⎛√11⋅t⎞                 2      ⎛√11⋅t⎞        12⋅√11⋅ℯ     ⋅cos⎜─────⎟⋅⎮ ℯ   ⋅\n",
       "⎜─────⎟⋅θ(t)   8⋅√11⋅ℯ     ⋅sin⎜─────⎟⋅θ(t)                    ⎝  2  ⎠ ⎮      \n",
       "⎝  2  ⎠                        ⎝  2  ⎠                                 ⌡      \n",
       "──────────── + ──────────────────────────── + ────────────────────────────────\n",
       "                            11                                        11      \n",
       "                                                                              \n",
       "                                                                              \n",
       "                                                                              \n",
       "\n",
       "                                                                              \n",
       "                                                                              \n",
       "                                                                              \n",
       "                                                                              \n",
       "                                                                              \n",
       "                                                                              \n",
       "                                         ⌠                                    \n",
       "   ⎛√11⋅t⎞                               ⎮  3⋅t                               \n",
       "sin⎜─────⎟⋅θ(t) dt      -3⋅t             ⎮  ───               -3⋅t            \n",
       "   ⎝  2  ⎠              ─────            ⎮   2                ─────           \n",
       "                          2      ⎛√11⋅t⎞ ⎮ ℯ   ⋅θ(t)            2      ⎛√11⋅t⎞\n",
       "────────────────── + 4⋅ℯ     ⋅cos⎜─────⎟⋅⎮ ────────── dt - 4⋅ℯ     ⋅cos⎜─────⎟\n",
       "                                 ⎝  2  ⎠ ⎮    ⎛√11⋅t⎞                  ⎝  2  ⎠\n",
       "                                         ⎮ cos⎜─────⎟                         \n",
       "                                         ⎮    ⎝  2  ⎠                         \n",
       "                                         ⌡                                    \n",
       "\n",
       "                           ⎤\n",
       "                           ⎥\n",
       "                           ⎥\n",
       "                           ⎥\n",
       "                           ⎥\n",
       " ⌠                         ⎥\n",
       " ⎮  3⋅t                    ⎥\n",
       " ⎮  ───                    ⎥\n",
       " ⎮   2     2⎛√11⋅t⎞        ⎥\n",
       " ⎮ ℯ   ⋅sin ⎜─────⎟⋅θ(t)   ⎥\n",
       " ⎮          ⎝  2  ⎠        ⎥\n",
       "⋅⎮ ───────────────────── dt⎥\n",
       " ⎮          ⎛√11⋅t⎞        ⎥\n",
       " ⎮       cos⎜─────⎟        ⎥\n",
       " ⎮          ⎝  2  ⎠        ⎥\n",
       " ⌡                         ⎦"
      ]
     },
     "metadata": {},
     "execution_count": 38
    }
   ],
   "metadata": {}
  },
  {
   "cell_type": "code",
   "execution_count": 18,
   "source": [
    "from shapely.geometry import  Point, LineString, Polygon\r\n",
    "import matplotlib.pyplot as plt\r\n",
    "import numpy as np\r\n",
    "from ipywidgets import interactive \r\n",
    "\r\n",
    "def polygon(n):\r\n",
    "        angle = math.pi * 2 / n\r\n",
    "        polygon1 = Polygon([\r\n",
    "                (math.sin(angle * i ) * 5,\r\n",
    "                math.cos(angle * i ) * 5)\r\n",
    "                for i in range(int(n))])\r\n",
    "\r\n",
    "        x,y = polygon1.exterior.xy\r\n",
    "        \r\n",
    "        plt.plot(x,y)\r\n",
    "        plt.axis('equal') \r\n",
    "        plt.axis('off') \r\n",
    "        plt.show()\r\n",
    "\r\n",
    "interactive(polygon, n=(3,16,0.1))"
   ],
   "outputs": [
    {
     "output_type": "display_data",
     "data": {
      "application/vnd.jupyter.widget-view+json": {
       "version_major": 2,
       "version_minor": 0,
       "model_id": "2c5438d32a114aee9ae33f4eda2a3d64"
      },
      "text/plain": [
       "interactive(children=(FloatSlider(value=9.0, description='n', max=16.0, min=3.0), Output()), _dom_classes=('wi…"
      ]
     },
     "metadata": {}
    }
   ],
   "metadata": {}
  },
  {
   "cell_type": "code",
   "execution_count": 19,
   "source": [
    "# %matplotlib inline\r\n",
    "from ipywidgets import interactive, HBox, Output\r\n",
    "import matplotlib.pyplot as plt\r\n",
    "import numpy as np\r\n",
    "import math\r\n",
    "\r\n",
    "fig = plt.figure(2)\r\n",
    "out = Output()\r\n",
    "def polygon(sides):\r\n",
    "    \r\n",
    "    \r\n",
    "\r\n",
    "    angle = 2*math.pi/(sides)\r\n",
    "    T = np.arange(-math.pi,math.pi+angle, angle)\r\n",
    "    \r\n",
    "\r\n",
    "    x, y = np.cos(T), np.sin(T)\r\n",
    "    plt.plot(x,y)\r\n",
    "    \r\n",
    "    plt.axis('equal') \r\n",
    "    with out:\r\n",
    "        plt.show()\r\n",
    "\r\n",
    "interactive_plot = interactive(polygon, sides=(2,16,0.1))\r\n",
    "HBox([interactive_plot, out])"
   ],
   "outputs": [
    {
     "output_type": "display_data",
     "data": {
      "application/vnd.jupyter.widget-view+json": {
       "version_major": 2,
       "version_minor": 0,
       "model_id": "fbd5181e32b94609b68dc91e0d639999"
      },
      "text/plain": [
       "HBox(children=(interactive(children=(FloatSlider(value=9.0, description='sides', max=16.0, min=2.0), Output())…"
      ]
     },
     "metadata": {}
    }
   ],
   "metadata": {}
  },
  {
   "cell_type": "code",
   "execution_count": 20,
   "source": [
    "from ipywidgets import Label, HTML, HBox, Image, VBox, Box, HBox\r\n",
    "from IPython.display import display\r\n",
    "from ipyevents import Event \r\n",
    "from ipycanvas import Canvas\r\n",
    "\r\n",
    "canvas = Canvas(width=200, height=200)\r\n",
    "\r\n",
    "canvas.fill_style = '#63934e'\r\n",
    "canvas.stroke_style = '#4e6393'\r\n",
    "canvas.line_width = 5\r\n",
    "# canvas.fill_polygon([(20, 20), (180, 20), (100, 150)])\r\n",
    "coords = []\r\n",
    "\r\n",
    "canvas.stroke_polygon(coords)\r\n",
    "\r\n",
    "im_events = Event()\r\n",
    "im_events.source = canvas\r\n",
    "im_events.watched_events = ['click', 'keyup', 'keydown']\r\n",
    "\r\n",
    "# no_drag = Event(source=canvas, watched_events=['dragstart'], prevent_default_action = True)\r\n",
    "\r\n",
    "h2 = HTML('Event info')\r\n",
    "\r\n",
    "def update_coords(event):\r\n",
    "    canvas.clear()\r\n",
    "    lines = ['{}: {}'.format(k, v) for k, v in event.items()]\r\n",
    "    content = '<br>'.join(lines)\r\n",
    "    h2.value = content\r\n",
    "    coords.append((event['layerX'], event['layerY']))\r\n",
    "    canvas.stroke_polygon(coords)\r\n",
    "    \r\n",
    "im_events.on_dom_event(update_coords)\r\n",
    "\r\n",
    "display(canvas, h2)"
   ],
   "outputs": [
    {
     "output_type": "display_data",
     "data": {
      "application/vnd.jupyter.widget-view+json": {
       "version_major": 2,
       "version_minor": 0,
       "model_id": "dcdade0a39d640eb886cf218b2dd1174"
      },
      "text/plain": [
       "Canvas(height=200, width=200)"
      ]
     },
     "metadata": {}
    },
    {
     "output_type": "display_data",
     "data": {
      "application/vnd.jupyter.widget-view+json": {
       "version_major": 2,
       "version_minor": 0,
       "model_id": "d9bfddc1a98f4e6a92cb6c9d8651d755"
      },
      "text/plain": [
       "HTML(value='Event info')"
      ]
     },
     "metadata": {}
    }
   ],
   "metadata": {}
  },
  {
   "cell_type": "code",
   "execution_count": null,
   "source": [],
   "outputs": [],
   "metadata": {}
  }
 ],
 "metadata": {
  "orig_nbformat": 4,
  "language_info": {
   "name": "python",
   "version": "3.9.7",
   "mimetype": "text/x-python",
   "codemirror_mode": {
    "name": "ipython",
    "version": 3
   },
   "pygments_lexer": "ipython3",
   "nbconvert_exporter": "python",
   "file_extension": ".py"
  },
  "kernelspec": {
   "name": "python3",
   "display_name": "Python 3.9.7 64-bit"
  },
  "interpreter": {
   "hash": "bd4c67ef142469da7dc4d338a32ac40116904d26076b8e6aa587d80720bc6a2b"
  }
 },
 "nbformat": 4,
 "nbformat_minor": 2
}