{
 "cells": [
  {
   "cell_type": "code",
   "execution_count": 1,
   "metadata": {},
   "outputs": [
    {
     "data": {
      "text/html": [
       "<pre style=\"white-space:pre;overflow-x:auto;line-height:normal;font-family:Menlo,'DejaVu Sans Mono',consolas,'Courier New',monospace\">Manim Community <span style=\"color: #008000; text-decoration-color: #008000\">v0.13.0</span>\n",
       "\n",
       "</pre>\n"
      ],
      "text/plain": [
       "Manim Community \u001b[32mv0.\u001b[0m\u001b[32m13.0\u001b[0m\n",
       "\n"
      ]
     },
     "metadata": {},
     "output_type": "display_data"
    }
   ],
   "source": [
    "from manim import *\n",
    "\n",
    "config.media_width = \"60%\"\n",
    "config.quality = 'low_quality'\n"
   ]
  },
  {
   "cell_type": "code",
   "execution_count": null,
   "metadata": {},
   "outputs": [],
   "source": [
    "%%manim Nudging3\n",
    "colors=[RED, YELLOW, BLUE, DARK_GRAY]\n",
    "class Nudging3(Scene):\n",
    "    def construct(self):\n",
    "        mob = ImageMobject('papaj.png').scale(0.125)\n",
    "        point=Dot([3,-4,0])\n",
    "        func = lambda z: z-mob.get_center()\n",
    "        vector_field = \n",
    "            ArrowVectorField(\n",
    "                func, min_color_scheme_value=2, max_color_scheme_value=10, colors=colors\n",
    "            )\n",
    "\n",
    "#         self.add(circle.copy().set_color(GRAY))\n",
    "\n",
    "        vector_field.nudge(mob, -2, 60, True)\n",
    "\n",
    "        mob.add_updater(vector_field.get_nudge_updater(pointwise=True))\n",
    "        self.add(vector_field, point, mob)\n",
    "        self.wait()\n",
    "#         self.play(FadeOut(vector_field))\n",
    "        \n",
    "class Nudging2(Scene):\n",
    "    def construct(self):\n",
    "        \n",
    "        func = lambda z: np.sin(z)/(abs(z)+1)\n",
    "        vector_field = ArrowVectorField(\n",
    "            func, x_range=[-7, 7, 1], y_range=[-4, 4, 1], length_func=lambda x: x / 2, min_color_scheme_value=2, max_color_scheme_value=10, colors=colors\n",
    "        )\n",
    "        self.add(vector_field)\n",
    "\n",
    "        mob = ImageMobject('papaj.png').scale(0.125).shift(0.01*LEFT)\n",
    "#         self.add(circle.copy().set_color(GRAY))\n",
    "\n",
    "        vector_field.nudge(mob, -2, 60, True)\n",
    "\n",
    "        mob.add_updater(vector_field.get_nudge_updater(pointwise=True))\n",
    "        self.add(mob)\n",
    "        self.wait(3)\n",
    "        \n",
    "        func = lambda z: (np.sin(z))/(1+5**0.5)\n",
    "        \n",
    "        vector_field2 = ArrowVectorField(\n",
    "            func, min_color_scheme_value=2, max_color_scheme_value=10, colors=[RED, YELLOW, BLUE, DARK_GRAY]\n",
    "        )\n",
    "        \n",
    "        mob2=mob.copy().scale(0.25)#ImageMobject('papaj.png').scale(0.5).shift(0.01*RIGHT)\n",
    "        mob.add_updater(vector_field2.get_nudge_updater(pointwise=True))\n",
    "        mob2.add_updater(vector_field2.get_nudge_updater(pointwise=True))\n",
    "        self.add(mob2)\n",
    "        self.play(vector_field.animate.become(vector_field2))\n",
    "#         mob.remove_updater(vector_field.get_nudge_updater(pointwise=True))\n",
    "        self.wait(3)\n",
    "         \n",
    "        func = lambda z: -2*z/(1+5**0.5)\n",
    "        vector_field3 = ArrowVectorField(\n",
    "            func, min_color_scheme_value=2, max_color_scheme_value=10, colors=colors\n",
    "        )\n",
    "        mob31=mob.copy().scale(0.5).shift(RIGHT)\n",
    "        mob32=mob2.copy().scale(0.5).shift(UP)\n",
    "        self.add(mob31, mob32)\n",
    "        \n",
    "        mob.add_updater(vector_field3.get_nudge_updater(pointwise=True))\n",
    "        mob2.add_updater(vector_field3.get_nudge_updater(pointwise=True))\n",
    "        mob31.add_updater(vector_field3.get_nudge_updater(pointwise=True))\n",
    "        mob32.add_updater(vector_field3.get_nudge_updater(pointwise=True))\n",
    "        \n",
    "        self.play(vector_field.animate.become(vector_field3))\n",
    "#         mob.remove_updater(vector_field.get_nudge_updater(pointwise=True))\n",
    "        self.wait(3)\n",
    "        \n",
    "        func = lambda z: sum([np.sin(k+z) for k in range(10)])\n",
    "        \n",
    "        vector_field4 = ArrowVectorField(\n",
    "            func, min_color_scheme_value=2, max_color_scheme_value=10, colors=colors\n",
    "        )\n",
    "        mob41=mob.copy().scale(0.5).shift(RIGHT)\n",
    "        mob42=mob2.copy().scale(0.5).shift(UP)\n",
    "        mob431=mob31.copy().scale(0.5).shift(LEFT)\n",
    "        mob432=mob32.copy().scale(0.5).shift(DOWN)\n",
    "        \n",
    "        self.add(mob41, mob42, mob431, mob432)\n",
    "        \n",
    "        mob.add_updater(vector_field4.get_nudge_updater(pointwise=True))\n",
    "        mob2.add_updater(vector_field4.get_nudge_updater(pointwise=True))\n",
    "        mob31.add_updater(vector_field4.get_nudge_updater(pointwise=True))\n",
    "        mob32.add_updater(vector_field4.get_nudge_updater(pointwise=True))\n",
    "        mob41.add_updater(vector_field4.get_nudge_updater(pointwise=True))\n",
    "        mob42.add_updater(vector_field4.get_nudge_updater(pointwise=True))\n",
    "        mob431.add_updater(vector_field4.get_nudge_updater(pointwise=True))\n",
    "        mob432.add_updater(vector_field4.get_nudge_updater(pointwise=True))\n",
    "        \n",
    "        self.play(vector_field.animate.become(vector_field4))\n",
    "#         mob.remove_updater(vector_field.get_nudge_updater(pointwise=True))\n",
    "        self.wait(6)\n",
    "        self.play(FadeOut(vector_field))\n",
    "        "
   ]
  },
  {
   "cell_type": "code",
   "execution_count": null,
   "metadata": {},
   "outputs": [],
   "source": [
    "%%manim SinCos\n",
    "\n",
    "# Import required modules\n",
    "import numpy as np\n",
    "\n",
    "\n",
    "def basic(pos):\n",
    "    return  ((pos[0] * UP + pos[1] * RIGHT) - pos) \n",
    "\n",
    "\n",
    "def sincos(pos):\n",
    "    return np.sin(pos[0]) * UP + np.cos(pos[1]) * RIGHT + pos \n",
    "\n",
    "def polya(pos):\n",
    "    X=pos[0]\n",
    "    Y=pos[1]\n",
    "    \n",
    "    Ex = (X + 1)/((X+1)**2 + Y**2) - (X - 1)/((X-1)**2 + Y**2)\n",
    "    Ey = Y/((X+1)**2 + Y**2) - Y/((X-1)**2 + Y**2)\n",
    "    \n",
    "    # # Depict illustration\n",
    "    # plt.figure(figsize=(10, 10))\n",
    "    # plt.streamplot(X,Y,Ex,Ey, density=1.4, linewidth=None, color='#A23BEC')\n",
    "    # plt.plot(-1,0,'-or')\n",
    "    # plt.plot(1,0,'-og')\n",
    "    # plt.title('Electromagnetic Field')\n",
    "\n",
    "    # # Show plot with grid\n",
    "    # plt.grid()\n",
    "    # plt.show()\n",
    "    return Ex*UP+Ey*RIGHT\n",
    "\n",
    "import random\n",
    "\n",
    "def randomPolygon():\n",
    "    chaos_seed = random.randint(3,6)\n",
    "    mob =  RegularPolygon(n=chaos_seed)\n",
    "    \n",
    "    return mob\n",
    "\n",
    "def updatePolygon(mob, stream_lines=None):\n",
    "    _mob = mob\n",
    "    chaos_seed = random.randint(3,6)\n",
    "    _mob.n=chaos_seed\n",
    "    mob.become(_mob)\n",
    "    \n",
    "        \n",
    "class SinCos(Scene):\n",
    "    def construct(self):\n",
    "        \n",
    "        chaos_seed = random.random()\n",
    "        stream_lines = StreamLines(sincos, x_range=[-2, 2, 0.2], y_range=[-2, 2, 0.2])\n",
    "        self.add(stream_lines)\n",
    "        \n",
    "        polygon = randomPolygon()\n",
    "        stream_lines.nudge(polygon, -2, 1, True)\n",
    "        polygon.add_updater(stream_lines.get_nudge_updater(pointwise=True))\n",
    "        \n",
    "        polygon.add_updater( updatePolygon )\n",
    "        self.add(polygon)\n",
    "#         self.add(circle.copy().set_color(GRAY))\n",
    "\n",
    "#         stream_lines.nudge(circle, -2, 60, True)\n",
    "#         circle.add_updater(stream_lines.get_nudge_updater(pointwise=True))\n",
    "        \n",
    "        \n",
    "#         stream_lines.nudge(dot, -2, 60)\n",
    "#         dot.add_updater(stream_lines.get_nudge_updater())\n",
    "\n",
    "#         self.add(circle)\n",
    "  \n",
    "#         stream_lines.start_animation(warm_up=False, flow_speed=1)\n",
    "#         self.wait(stream_lines.virtual_time / stream_lines.flow_speed)\n",
    "\n",
    "        stream_lines.start_submobject_movement( )\n",
    "        self.wait(stream_lines.virtual_time )\n",
    "        "
   ]
  },
  {
   "cell_type": "code",
   "execution_count": null,
   "metadata": {},
   "outputs": [],
   "source": [
    "%%manim BasicUsage\n",
    "\n",
    "\n",
    "class BasicUsage(Scene):\n",
    "    def construct(self):\n",
    "        stream_lines = StreamLines(basic)\n",
    "        stream_lines2 = StreamLines(basic)\n",
    "        self.add(stream_lines)\n",
    "        stream_lines.start_animation(warm_up=False, flow_speed=1.5)\n",
    "        self.wait(stream_lines.virtual_time / stream_lines.flow_speed)\n",
    "        \n",
    "        self.play(stream_lines.animate.become(stream_lines2))\n",
    "        stream_lines2.start_animation(warm_up=False, flow_speed=1.5)\n",
    "        self.wait(stream_lines2.virtual_time / stream_lines2.flow_speed)\n",
    "%%manim SinCos\n",
    "\n",
    "import random\n",
    "stream_lines = StreamLines(sincos, x_range=[-1, 1, 0.2], y_range=[-1, 1, 0.2])\n",
    "\n",
    "\n",
    "def randomPolygon():\n",
    "    chaos_seed = random.randint(3,6)\n",
    "    mob =  RegularPolygon(n=chaos_seed)\n",
    "    return mob\n",
    "\n",
    "    if stream_lines is not None:\n",
    "        stream_lines.nudge(mob, -6, 1, True)\n",
    "        mob.add_updater(stream_lines.get_nudge_updater(pointwise=True))\n",
    "        \n",
    "    return mob\n",
    "\n",
    "def streamMOBS(mob=None, stream=None):\n",
    "    \n",
    "    if mob is None:\n",
    "        mob = randomPolygon()\n",
    "        \n",
    "    if stream is None:\n",
    "        stream = stream_lines\n",
    "        \n",
    "    stream_lines.nudge(mob, -2, 1, True)\n",
    "    mob.add_updater(stream_lines.get_nudge_updater(pointwise=True))\n",
    "\n",
    "    \n",
    "class SinCos(Scene):\n",
    "    def construct(self):\n",
    "        \n",
    "        stream_lines = StreamLines(sincos, x_range=[-2, 2, 0.2], y_range=[-2, 2, 0.2])\n",
    "        self.add(stream_lines)\n",
    "        \n",
    "        mob=Text('jebać pis')\n",
    "        stream_lines.nudge(mob, -5, 60, True)\n",
    "        mob.add_updater(stream_lines.get_nudge_updater(pointwise=True))\n",
    "        self.add(mob)\n",
    "        \n",
    "#         stream_lines.nudge(dot, -2, 60)\n",
    "#         dot.add_updater(stream_lines.get_nudge_updater())\n",
    "\n",
    "#         self.add(circle)\n",
    "  \n",
    "        stream_lines.start_animation(warm_up=False, flow_speed=1)\n",
    "#         self.wait(stream_lines.virtual_time / stream_lines.flow_speed)\n",
    "\n",
    "#         stream_lines.start_submobject_movement( )\n",
    "        self.wait(5*stream_lines.virtual_time )\n",
    "\n",
    "class Polya(Scene):\n",
    "    def construct(self):\n",
    "#         stream_lines = StreamLines(polya, n_repeats=10)\n",
    "        stream_lines = StreamLines(polya, n_repeats=1,x_range=[-4, 4, 0.2], y_range=[-4, 4, 0.2],)\n",
    "        self.add(stream_lines)\n",
    "        stream_lines.start_animation(warm_up=False, flow_speed=1.5)\n",
    "        self.wait(stream_lines.virtual_time / stream_lines.flow_speed)\n",
    "        \n",
    "class ScaleVectorFieldFunction(Scene):\n",
    "    def construct(self):\n",
    "        vector_field = ArrowVectorField(lambda z: z)\n",
    "        vector_field2 = ArrowVectorField(lambda z: z*(np.cos(45*DEGREES)+i*np.sin(45*DEGREES)))\n",
    "        vector_field3 = ArrowVectorField(lambda z: 1/(np.sin(z)+np.cos(z) ))\n",
    "        self.play(Create(vector_field))\n",
    "        self.play(Create(vector_field2))\n",
    "        self.play(vector_field.animate.become(vector_field2))\n",
    "        self.play(vector_field2.animate.become(vector_field))\n",
    "        self.play(vector_field.animate.become(vector_field3))\n",
    "        self.wait()"
   ]
  },
  {
   "cell_type": "code",
   "execution_count": null,
   "metadata": {},
   "outputs": [],
   "source": [
    "%%manim inscribedText\n",
    "\n",
    "\n",
    "class inscribedText(Scene):\n",
    "    count=24\n",
    "    def construct(self):\n",
    "#         n=ValueTracker(0)\n",
    "        vg=VGroup()\n",
    "        for n in range(self.count):\n",
    "            coords=InscribedDot(theta = -n*TAU/self.count, radius=3.0).get_center()\n",
    "            vg.add(Text(str(n)).move_to(coords))\n",
    "#             vg.scale(1.1)\n",
    "        self.add(vg)"
   ]
  },
  {
   "cell_type": "code",
   "execution_count": null,
   "metadata": {},
   "outputs": [],
   "source": [
    "%%manim PolyClass1 PolyClass2 PolyClass3\n",
    "from collections.abc import Sequence\n",
    "import numpy as np\n",
    "import random\n",
    "\n",
    "VIOLET = \"#EE82EE\"\n",
    "INDIGO = \"#4B0082\"\n",
    "# palette = [VIOLET, INDIGO, BLUE_D, PINK, YELLOW, ORANGE, RED, PURPLE_A]\n",
    "palette = [\"#FF008E\", \"#D22779\", \"#612897\", \"#FF008E\", \"#0C1E7F\"]\n",
    "\n",
    "def colors():\n",
    "    n=0\n",
    "    while(True):\n",
    "        yield palette[n%len(palette)]\n",
    "        n+=1\n",
    "\n",
    "class InscribedDot(Dot):\n",
    "    def __init__(\n",
    "        self,\n",
    "        theta: float = 0.0,\n",
    "        radius: float = 1.0,\n",
    "        point = ORIGIN,\n",
    "        **kwargs,\n",
    "    ):\n",
    "        x, y, z = point\n",
    "        theta += 90*DEGREES\n",
    "        x += radius * np.cos( theta )\n",
    "        y += radius * np.sin( theta )\n",
    "        \n",
    "        super().__init__(\n",
    "            radius = DEFAULT_DOT_RADIUS,\n",
    "            point = [x, y, z],\n",
    "            **kwargs,\n",
    "        )\n",
    "\n",
    "    \n",
    "class InscribedPolygon(Polygon):\n",
    "    def __init__(\n",
    "        self, \n",
    "        sides: float = 5.0,\n",
    "        offset: float = 0.0,\n",
    "        skip: float = 0.0,\n",
    "        radius: float = 3.0,\n",
    "        point = ORIGIN, \n",
    "        **kwargs,\n",
    "    ):\n",
    "        midangle = TAU / (sides+1)\n",
    "        get_angle = lambda n: n*midangle - offset \n",
    "        vertices = [ InscribedDot(theta = get_angle(n) , radius = radius, point = point).get_center() for n in range(0, int(sides)+1, int(skip)+1) ]\n",
    "       \n",
    "            \n",
    "        super().__init__(\n",
    "            *vertices, \n",
    "            **kwargs\n",
    "        )\n",
    "\n",
    "class PolyClass(Scene):\n",
    "    def construct(self):\n",
    "        mobs = VGroup()\n",
    "        n=ValueTracker(2)\n",
    "        o=ValueTracker(0)\n",
    "        s=ValueTracker(0)\n",
    "#         B = InscribedDot()\n",
    "        A = Dot()\n",
    "        ip = always_redraw(lambda: InscribedPolygon( sides = n.get_value(), offset = o.get_value(), skip = int(s.get_value()) ))\n",
    "        mobs.add(ip)\n",
    "        \n",
    "        self.play(GrowFromCenter(A))\n",
    "        self.play(Transform(A, ip))\n",
    "        self.remove(A)\n",
    "        self.add(mobs)\n",
    "        \n",
    "        self.play(n.animate.set_value(4))\n",
    "        mobs.add(ip.copy())\n",
    "        ip.set_color_by_gradient(*palette)\n",
    "        \n",
    "        self.play(n.animate.set_value(8))\n",
    "        mobs.add(ip.copy())\n",
    "        ip.set_color_by_gradient(*palette)\n",
    "\n",
    "        self.play(n.animate.increment_value(666-8), s.animate.increment_value(334), o.animate.increment_value(-120*DEGREES))\n",
    "        self.play(s.animate.set_value(5), n.animate.set_value(3))\n",
    "    \n",
    "        self.play(s.animate.set_value(0), o.animate.set_value(60*DEGREES))\n",
    "        mobs.add(ip.copy())\n",
    "        \n",
    "        for _ in range(5):\n",
    "            val = random.random()\n",
    "            self.play(n.animate.increment_value(val), o.animate.increment_value(TAU*val), rate_function=linear, run_time=1)\n",
    "        mobs.add(ip.copy())\n",
    "        \n",
    "        for _ in range(5):\n",
    "            val = random.random()\n",
    "            self.play(o.animate.increment_value(TAU*val), s.animate.increment_value(1), rate_function=linear, run_time=1)\n",
    "        mobs.add(ip.copy())\n",
    "        \n",
    "        self.play(n.animate.set_value(666))\n",
    "        self.play(s.animate.set_value(0), o.animate.set_value(PI), rate_function=linear, run_time=1)\n",
    "        mobs.add(ip.copy())\n",
    "        self.wait()\n",
    "        \n",
    "class PolyClass2(Scene):\n",
    "    def construct(self):\n",
    "        \n",
    "        color = colors()\n",
    "        \n",
    "        mobs = VGroup()\n",
    "        n=ValueTracker(2)\n",
    "        o=ValueTracker(0)\n",
    "        s=ValueTracker(0)\n",
    "#         B = InscribedDot()\n",
    "        A = Dot()\n",
    "        ip = always_redraw(lambda: InscribedPolygon( sides = n.get_value(), offset = o.get_value(), skip = s.get_value(), color=next(color)))\n",
    "        mobs.add(ip)\n",
    "        \n",
    "        self.play(GrowFromCenter(A))\n",
    "        self.play(Transform(A, ip))\n",
    "        self.remove(A)\n",
    "        self.add(mobs)\n",
    "        \n",
    "        for _ in range(16):\n",
    "            val = random.random()\n",
    "            offset = TAU*val\n",
    "            skip = val*n.get_value()\n",
    "            self.play(n.animate.increment_value(val), o.animate.set_value(offset), s.animate.set_value(skip), rate_function=linear, run_time=1)\n",
    "            mobs.add(ip.copy().set_color(next(color)))\n",
    "            mobs.set_color_by_gradient(*palette)\n",
    "        self.wait()\n",
    "        \n",
    "        \n",
    "        \n",
    "class PolyClass3(Scene):\n",
    "    chunks = 4\n",
    "    iterations = 4\n",
    "    def construct(self):\n",
    "        \n",
    "        color = colors()\n",
    "        \n",
    "        n=ValueTracker(2)\n",
    "        o=ValueTracker(0)\n",
    "        s=ValueTracker(0)\n",
    "#         B = InscribedDot()\n",
    "        A = Dot()\n",
    "        ip = always_redraw(lambda: InscribedPolygon( sides = n.get_value(), offset = o.get_value(), skip = s.get_value(), color=next(color))) #radius = np.sqrt(n.get_value()**2+o.get_value()**2+s.get_value()**2)\n",
    "        mobs=VGroup(ip)\n",
    "      \n",
    "        \n",
    "        self.play(GrowFromCenter(A))\n",
    "        self.play(Transform(A, ip))\n",
    "        self.remove(A)\n",
    "        self.add(mobs)\n",
    "        \n",
    "        for _ in range(self.chunks):\n",
    "            for _ in range(self.iterations):\n",
    "                val = random.random()\n",
    "                offset = TAU*val\n",
    "                skip = val*np.sqrt(n.get_value())\n",
    "                self.play(n.animate.increment_value(val), o.animate.set_value(offset), s.animate.set_value(skip),\n",
    "                          rate_function=linear, run_time=.1) \n",
    "            mobs.add(ip.copy())\n",
    "            mobs.set_color_by_gradient(*palette)\n",
    "            self.play(mobs.animate.apply_complex_function(lambda z: np.exp(z)),\n",
    "                      rate_function=linear, run_time=.1) \n",
    "\n",
    "            self.play( o.animate.set_value(0), s.animate.set_value(0), n.animate.set_value(2),\n",
    "                      rate_function=linear, run_time=.1) \n",
    "            \n",
    "            self.play(mobs.animate.apply_complex_function(lambda z: 0),\n",
    "                      rate_function=linear, run_time=.1) \n",
    "        self.wait()\n",
    "        \n",
    "        \n",
    "        "
   ]
  },
  {
   "cell_type": "code",
   "execution_count": null,
   "metadata": {
    "tags": []
   },
   "outputs": [],
   "source": [
    "%%manim Clock\n",
    "import random\n",
    "class Clock(Scene):\n",
    "    n=ValueTracker(0)\n",
    "        \n",
    "    def construct(self):\n",
    "        vg=VGroup()\n",
    "#         mob = always_redraw(lambda: Text(str(int(self.n.get_value()))))\n",
    "        for _ in range(15):\n",
    "#             dice = random.randint(1,4)\n",
    "#             vg.shift([UP, RIGHT, DOWN, LEFT][dice-1])\n",
    "#             vg.fill_opacity-=.01\n",
    "            vg.shift(LEFT)\n",
    "            vg.arrange(RIGHT, buff=2, aligned_edge=LEFT)\n",
    "            vg.scale(0.9)\n",
    "            vg.rotate(TAU/12)\n",
    "            mob = (Text(str(len(vg.submobjects))))\n",
    "            vg.add(mob)\n",
    "            mob.move_to(ORIGIN)\n",
    "            self.play(Write(mob))\n",
    "\n",
    "#         self.play(self.n.animate.set_value(88))\n",
    "#         self.remove(vg)\n",
    "        self.wait()"
   ]
  },
  {
   "cell_type": "code",
   "execution_count": null,
   "metadata": {},
   "outputs": [],
   "source": [
    "%%manim Rec0\n",
    "\n",
    "def omega(n=0, skip=1):\n",
    "    while True:\n",
    "        yield n\n",
    "        n += skip\n",
    "class Rec0(Scene):\n",
    "    omega=omega()\n",
    "    maxN = 15\n",
    "    def construct(self):\n",
    "        mob=Text(str(next(self.omega))).move_to(ORIGIN)\n",
    "        vg = VGroup(mob)\n",
    "        self.play(Write(mob), vg.animate.shift(LEFT) )\n",
    "        for n in (self.omega):\n",
    "            m=np.log10(n+1)\n",
    "            base=10**m\n",
    "            _mob=Text(str(n)).move_to(ORIGIN)\n",
    "            vg.add(_mob)\n",
    "            self.play(vg.animate.shift(LEFT), \n",
    "#             self.play(vg.animate.arrange(2*RIGHT, center=True, aligned_edge=LEFT),\n",
    "#                       TransformFromCopy( mob, _mob , \n",
    "                      rate_function=linear, #rate_functions.rush_into\n",
    "                      run_time=.8/((base)**2)\n",
    "                     ) \n",
    "            \n",
    "            if n >= self.maxN:\n",
    "                break\n",
    "\n"
   ]
  },
  {
   "cell_type": "code",
   "execution_count": null,
   "metadata": {},
   "outputs": [],
   "source": [
    "%%manim TextTest\n",
    "\n",
    "class TextTest(Scene):\n",
    "    def construct(self):\n",
    "        t=MathTex(\"z\\\\mapsto\\\\dfrac{z^2}{1+\\\\sqrt5},\")\n",
    "        t2=MathTex(\"z\\\\in\\\\mathbb{C}\").next_to(t,2*RIGHT)\n",
    "        vg=VGroup(t,t2).move_to(ORIGIN)\n",
    "        self.add(vg)\n"
   ]
  },
  {
   "cell_type": "code",
   "execution_count": null,
   "metadata": {},
   "outputs": [],
   "source": [
    "%%manim Test\n",
    "\n",
    "# defining colors\n",
    "VIOLET = \"#EE82EE\"\n",
    "INDIGO = \"#4B0082\"\n",
    "VIBGYOR = [VIOLET, INDIGO, BLUE, GREEN, YELLOW, ORANGE, RED]\n",
    "\n",
    "import math, random\n",
    "class Test(MovingCameraScene):\n",
    "    n=8\n",
    "    chunks=4\n",
    "    def construct(self):\n",
    "        mobs = VGroup()\n",
    "        ox=0.5; oy=0.4 # centre of plot\n",
    "        \n",
    "        for i in range(1,self.chunks+1):\n",
    "            theta=0\n",
    "            alpha = i/self.chunks\n",
    "            offset=(PI/6)*alpha\n",
    "            k=4+random.random() # scale factor\n",
    "            inc = (2-TAU)*2*np.pi + offset\n",
    "            drad=k*(1+5**0.5)/4.0 # radius of each disc\n",
    "            minv=maxv=0 # minv and maxv will be used later to display inputs chosen\n",
    "\n",
    "            for j in range(1,self.n+1):\n",
    "                theta += inc # updating variables\n",
    "                r = k*j**0.5\n",
    "                x = ox + r*np.cos(theta)\n",
    "                y = oy + r*np.sin(theta)\n",
    "                if x +drad> maxv:\n",
    "                    maxv=x+drad\n",
    "                elif x -drad< minv:\n",
    "                    minv=x-drad\n",
    "                if y +drad> maxv:\n",
    "                    maxv=y+drad\n",
    "                elif y -drad< minv:\n",
    "                    minv=y-drad\n",
    "\n",
    "                R=drad\n",
    "                bias=j\n",
    "#                 vertices=random.randint(2,i+2)\n",
    "                vertices=(i+2)\n",
    "                disc=Polygon(*[np.array([R*np.cos(n+bias*R),R*np.sin(n+bias*R),0]) for n in np.linspace(0,TAU,vertices)]) \n",
    "                mobs.add(disc)\n",
    "\n",
    "\n",
    "            # setting the colors of the arcs\n",
    "            VIBGYOR.reverse()\n",
    "            mobs.set_color_by_gradient(*VIBGYOR)\n",
    "\n",
    "            frame = self.camera.frame\n",
    "\n",
    "            vg = VGroup(*mobs)\n",
    "            self.play(Create(vg),\n",
    "                rate_func=linear)"
   ]
  },
  {
   "cell_type": "code",
   "execution_count": null,
   "metadata": {},
   "outputs": [],
   "source": [
    "%%manim GridComplex\n",
    "import random, math\n",
    "\n",
    "class GridComplex(Scene):\n",
    "    \n",
    "    def construct(self):\n",
    "        t = ValueTracker(3)\n",
    "        rp = always_redraw(lambda: (RegularPolygon(n=random.randint(3,int(t.get_value())), color=random_bright_color(), fill_opacity=0).scale(1.2) ))\n",
    "        \n",
    "        self.add(rp)\n",
    "        for _ in range(5):\n",
    "            self.play(t.animate.set_value(12), run_time=5)\n",
    "            self.play(rp.copy().animate.apply_complex_function(lambda z: _*z**(_+2)), rate_func=linear)\n",
    "        self.wait()"
   ]
  },
  {
   "cell_type": "code",
   "execution_count": null,
   "metadata": {},
   "outputs": [],
   "source": [
    "%%manim Porcle\n",
    "import random, math\n",
    "\n",
    "class Porcle(MovingCameraScene):\n",
    "    \n",
    "    def construct(self):\n",
    "        t = ValueTracker(5)\n",
    "        v = ValueTracker(1)\n",
    "        b = ValueTracker(0)\n",
    "        def getCircles(O=(0,0)):\n",
    "            maxR = int(t.get_value())\n",
    "            x, y = O\n",
    "            return VGroup(*[Circle(radius=R*random.random()*1.8, fill_opacity=random.random(), color=(WHITE*(R%2)+BLACK*((R+1)%2))).move_to([x,y,0]) for R in reversed(range(maxR+1))])\n",
    "\n",
    "        def getPolys(_bias=0, _color=None):\n",
    "            \n",
    "            if _color is None:\n",
    "                _color = [WHITE, BLACK, BLUE, RED][random.randint(0,3)]\n",
    "            vertices=int(v.get_value())\n",
    "            bias=int(b.get_value())+_bias\n",
    "            maxR = int(t.get_value())\n",
    "            l = [Polygon(*[np.array([R*np.cos(n+bias*R),R*np.sin(n+bias*R),0]) for n in np.linspace(0,TAU,vertices)],  color=_color, stroke_width=random.randint(10,25)) for R in range(maxR+1)]\n",
    "                \n",
    "            return VGroup(*l)\n",
    "            \n",
    "                    \n",
    "#         circles = always_redraw(getCircles)\n",
    "        polys = always_redraw(getPolys)\n",
    "        \n",
    "        self.play(FadeIn(polys),v.animate.set_value(5))\n",
    "        for _ in range(2**5):\n",
    "            rank=math.log2(_+1)\n",
    "            if(int(rank)==rank):\n",
    "                self.add(always_redraw(lambda: getPolys(_bias=random.randint(0,360), _color=random_color())))\n",
    "            self.play(b.animate.increment_value(random.randrange(-10,15)), v.animate.set_value(random.randrange(0,8)*(_%2)+4), rate_func=linear) #, run_time=.5)\n",
    "        self.play(v.animate.set_value(1), b.animate.set_value(0), t.animate.set_value(0))\n",
    "        \n",
    "        self.wait()\n",
    "        \n",
    "        "
   ]
  },
  {
   "cell_type": "code",
   "execution_count": null,
   "metadata": {},
   "outputs": [],
   "source": [
    "%%manim StycznaSieczna\n",
    "\n",
    "class StycznaSieczna(MovingCameraScene):\n",
    "    angles = 0, 3*PI/2, 2*PI/3\n",
    "    \n",
    "    def construct(self):\n",
    "       \n",
    "        O = Dot()\n",
    "        c = Circle(radius=2.5, color=WHITE)\n",
    "    \n",
    "        P = Dot(c.point_at_angle(0))    \n",
    "        \n",
    "        \n",
    "        def handleUpdate(x):\n",
    "            value = t.get_value()\n",
    "            while value>TAU:\n",
    "                value -= TAU\n",
    "                \n",
    "            x.move_to(c.point_at_angle(value))\n",
    "        \n",
    "        def getPerpendicular(endpoints=(O,P), X=P):\n",
    "            A1, A2 = endpoints\n",
    "            dx = A2.get_center()[0]-A1.get_center()[0]\n",
    "            dy = A2.get_center()[1]-A1.get_center()[1]\n",
    "            \n",
    "            P1=X.copy().shift([10*dy, -10*dx, 0])\n",
    "            P2=X.copy().shift([-10*dy, 10*dx, 0])\n",
    "            \n",
    "            return Line(P2.get_center(), P1.get_center())\n",
    "            \n",
    "        def getRadius(X=P):\n",
    "            radiusLine = Line(X.get_center(), O.get_center())\n",
    "\n",
    "            return radiusLine\n",
    "        \n",
    "        def longerLine(A, B, scale):\n",
    "            A2=Dot().move_to(A.get_center()-scale*(B.get_center()-A.get_center()))\n",
    "            B2=Dot().move_to(B.get_center()+scale*(B.get_center()-A.get_center()))\n",
    "            return Line(A2,B2)\n",
    "        t = ValueTracker(0)\n",
    "        P.add_updater(handleUpdate)\n",
    "\n",
    "        r = always_redraw(getRadius)\n",
    "        \n",
    "        self.play(Create(O), Create(c))\n",
    "        self.play(Create(P), Create(r))\n",
    "        \n",
    "        a1, a2, a3 = self.angles\n",
    "\n",
    "        self.play(t.animate.set_value(a2))\n",
    "\n",
    "        A = P.copy().remove_updater(handleUpdate)\n",
    "        OA = getRadius(A)\n",
    "        perp0 = getPerpendicular(endpoints=(O,A),X=P)\n",
    "        \n",
    "        self.add(A)\n",
    "#         self.play()\n",
    "        \n",
    "        self.play(t.animate.set_value(a3), Create(perp0), run_time=1.5)\n",
    "        \n",
    "        B = P.copy().remove_updater(handleUpdate)\n",
    "        self.add(B)\n",
    "        \n",
    "        self.play(t.animate.set_value(a1))\n",
    "        \n",
    "        C = P.copy().remove_updater(handleUpdate)\n",
    "        self.add(C)\n",
    "        \n",
    "        AB=Line(A,B)\n",
    "        AC=DashedLine(A,C)\n",
    "        BC=longerLine(B,C,3)\n",
    "        D=Dot().move_to(line_intersection((BC.get_start(), BC.get_end()), (perp0.get_start(), perp0.get_end())))\n",
    "        self.play(FadeOut(r), Create(BC), Create(D), Create(AB), Create(AC), run_time=2)\n",
    "        self.play( ApplyMethod(self.camera.frame.shift,  2*RIGHT) )\n",
    "        \n",
    "        v1, v2, v3 = B.copy(), D.copy(), A.copy()\n",
    "        w1, w2, w3 = A.copy(), D.copy(), C.copy()\n",
    "        def getPoly():\n",
    "            return Polygon(v1.get_center(),v2.get_center(),v3.get_center(), color=BLUE_C, fill_opacity=1)\n",
    "            \n",
    "        polyADC=always_redraw(getPoly)\n",
    "        \n",
    "        self.play(Create(polyADC))\n",
    "        self.play(ApplyMethod(v3.move_to,  w3), ApplyMethod(v1.move_to,  w1))\n",
    "        \n",
    "#         self.play(Rotate(poly1f, PI, axis=A.get_center()-C.get_center()))\n",
    "#         self.play(ApplyMethod(poly1f.move_to,  midpoint(A.get_center(), C.get_center())))\n",
    "        self.wait()\n",
    "        self.play(Uncreate(polyADC))\n",
    "        \n",
    "        labels = [Text('O').next_to(O.get_center(), RIGHT), \n",
    "                  Text('A').next_to(B.get_center(), UP), \n",
    "                  Text('B').next_to(C.get_center(), RIGHT), \n",
    "                  Text('C').next_to(A.get_center(), DOWN), \n",
    "                  Text('P').next_to(D.get_center(), DOWN)]\n",
    "        self.play(*[Create(label.scale(0.75)) for label in labels])\n",
    "        self.play(ApplyMethod(self.camera.frame.scale,  2))\n",
    "        self.play( ApplyMethod(self.camera.frame.shift,  4*DOWN))\n",
    "        \n",
    "        \n",
    "#         ## tw.\n",
    "        title = Text('Twierdzenie o odcinkach siecznej i stycznej').shift( 6*DOWN )\n",
    "\n",
    "        text = MarkupText('Jeżeli styczna do okręgu w punkcie C i sieczna przecinająca okrąg w punktach A i B przecinają się w punkcie P, to:').scale(0.8).next_to(title, DOWN)\n",
    "        mtext = MathTex('|PA|\\cdot|PB|=|PC|^2').next_to(text, DOWN)\n",
    "        \n",
    "        theorem = VGroup(text, mtext)\n",
    "        \n",
    "        self.play(Write(title))\n",
    "        self.play(Create(theorem))\n",
    "        self.wait(5)\n",
    "        \n",
    "        "
   ]
  },
  {
   "cell_type": "code",
   "execution_count": 2,
   "metadata": {
    "tags": []
   },
   "outputs": [
    {
     "data": {
      "text/html": [
       "<pre style=\"white-space:pre;overflow-x:auto;line-height:normal;font-family:Menlo,'DejaVu Sans Mono',consolas,'Courier New',monospace\"><span style=\"color: #7fbfbf; text-decoration-color: #7fbfbf\">[02/09/22 14:02:47] </span><span style=\"color: #008000; text-decoration-color: #008000\">INFO    </span> Animation <span style=\"color: #008000; text-decoration-color: #008000\">0</span> : Using cached data <span style=\"font-weight: bold\">(</span>hash :     <a href=\"file://D:\\Python39\\lib\\site-packages\\manim\\renderer\\cairo_renderer.py\"><span style=\"color: #7f7f7f; text-decoration-color: #7f7f7f\">cairo_renderer.py</span></a><span style=\"color: #7f7f7f; text-decoration-color: #7f7f7f\">:</span><a href=\"file://D:\\Python39\\lib\\site-packages\\manim\\renderer\\cairo_renderer.py#74\"><span style=\"color: #7f7f7f; text-decoration-color: #7f7f7f\">74</span></a>\n",
       "                             3163782288_666027783_606851415<span style=\"font-weight: bold\">)</span>                                 \n",
       "</pre>\n"
      ],
      "text/plain": [
       "\u001b[2;36m[02/09/22 14:02:47]\u001b[0m\u001b[2;36m \u001b[0m\u001b[32mINFO    \u001b[0m Animation \u001b[32m0\u001b[0m : Using cached data \u001b[1m(\u001b[0mhash :     \u001b]8;id=542538;file://D:\\Python39\\lib\\site-packages\\manim\\renderer\\cairo_renderer.py\u001b\\\u001b[2mcairo_renderer.py\u001b[0m\u001b]8;;\u001b\\\u001b[2m:\u001b[0m\u001b]8;id=173706;file://D:\\Python39\\lib\\site-packages\\manim\\renderer\\cairo_renderer.py#74\u001b\\\u001b[2m74\u001b[0m\u001b]8;;\u001b\\\n",
       "                             3163782288_666027783_606851415\u001b[1m)\u001b[0m                                 \n"
      ]
     },
     "metadata": {},
     "output_type": "display_data"
    },
    {
     "name": "stderr",
     "output_type": "stream",
     "text": [
      "                                                                  \r"
     ]
    },
    {
     "data": {
      "text/html": [
       "<pre style=\"white-space:pre;overflow-x:auto;line-height:normal;font-family:Menlo,'DejaVu Sans Mono',consolas,'Courier New',monospace\"><span style=\"color: #7fbfbf; text-decoration-color: #7fbfbf\">                    </span><span style=\"color: #008000; text-decoration-color: #008000\">INFO    </span> Animation <span style=\"color: #008000; text-decoration-color: #008000\">1</span> : Using cached data <span style=\"font-weight: bold\">(</span>hash :     <a href=\"file://D:\\Python39\\lib\\site-packages\\manim\\renderer\\cairo_renderer.py\"><span style=\"color: #7f7f7f; text-decoration-color: #7f7f7f\">cairo_renderer.py</span></a><span style=\"color: #7f7f7f; text-decoration-color: #7f7f7f\">:</span><a href=\"file://D:\\Python39\\lib\\site-packages\\manim\\renderer\\cairo_renderer.py#74\"><span style=\"color: #7f7f7f; text-decoration-color: #7f7f7f\">74</span></a>\n",
       "                             2201830969_398514950_717956826<span style=\"font-weight: bold\">)</span>                                 \n",
       "</pre>\n"
      ],
      "text/plain": [
       "\u001b[2;36m                   \u001b[0m\u001b[2;36m \u001b[0m\u001b[32mINFO    \u001b[0m Animation \u001b[32m1\u001b[0m : Using cached data \u001b[1m(\u001b[0mhash :     \u001b]8;id=54839;file://D:\\Python39\\lib\\site-packages\\manim\\renderer\\cairo_renderer.py\u001b\\\u001b[2mcairo_renderer.py\u001b[0m\u001b]8;;\u001b\\\u001b[2m:\u001b[0m\u001b]8;id=355958;file://D:\\Python39\\lib\\site-packages\\manim\\renderer\\cairo_renderer.py#74\u001b\\\u001b[2m74\u001b[0m\u001b]8;;\u001b\\\n",
       "                             2201830969_398514950_717956826\u001b[1m)\u001b[0m                                 \n"
      ]
     },
     "metadata": {},
     "output_type": "display_data"
    },
    {
     "name": "stderr",
     "output_type": "stream",
     "text": [
      "                                                                  \r"
     ]
    },
    {
     "data": {
      "text/html": [
       "<pre style=\"white-space:pre;overflow-x:auto;line-height:normal;font-family:Menlo,'DejaVu Sans Mono',consolas,'Courier New',monospace\"><span style=\"color: #7fbfbf; text-decoration-color: #7fbfbf\">[02/09/22 14:02:48] </span><span style=\"color: #008000; text-decoration-color: #008000\">INFO    </span> Animation <span style=\"color: #008000; text-decoration-color: #008000\">2</span> : Partial movie file        <a href=\"file://D:\\Python39\\lib\\site-packages\\manim\\scene\\scene_file_writer.py\"><span style=\"color: #7f7f7f; text-decoration-color: #7f7f7f\">scene_file_writer.py</span></a><span style=\"color: #7f7f7f; text-decoration-color: #7f7f7f\">:</span><a href=\"file://D:\\Python39\\lib\\site-packages\\manim\\scene\\scene_file_writer.py#514\"><span style=\"color: #7f7f7f; text-decoration-color: #7f7f7f\">514</span></a>\n",
       "                             written in                                                      \n",
       "                             <span style=\"color: #008000; text-decoration-color: #008000\">'D:\\Programming\\Python\\jupyter </span>                                 \n",
       "                             <span style=\"color: #008000; text-decoration-color: #008000\">notebooks\\media\\videos\\jupyter notebook</span>                         \n",
       "                             <span style=\"color: #008000; text-decoration-color: #008000\">s\\480p15\\partial_movie_files\\CircleToSq</span>                         \n",
       "                             <span style=\"color: #008000; text-decoration-color: #008000\">uare\\2201830969_2219685448_3086187078.m</span>                         \n",
       "                             <span style=\"color: #008000; text-decoration-color: #008000\">p4'</span>                                                             \n",
       "</pre>\n"
      ],
      "text/plain": [
       "\u001b[2;36m[02/09/22 14:02:48]\u001b[0m\u001b[2;36m \u001b[0m\u001b[32mINFO    \u001b[0m Animation \u001b[32m2\u001b[0m : Partial movie file        \u001b]8;id=905564;file://D:\\Python39\\lib\\site-packages\\manim\\scene\\scene_file_writer.py\u001b\\\u001b[2mscene_file_writer.py\u001b[0m\u001b]8;;\u001b\\\u001b[2m:\u001b[0m\u001b]8;id=495064;file://D:\\Python39\\lib\\site-packages\\manim\\scene\\scene_file_writer.py#514\u001b\\\u001b[2m514\u001b[0m\u001b]8;;\u001b\\\n",
       "                             written in                                                      \n",
       "                             \u001b[32m'D:\\Programming\\Python\\jupyter \u001b[0m                                 \n",
       "                             \u001b[32mnotebooks\\media\\videos\\jupyter notebook\u001b[0m                         \n",
       "                             \u001b[32ms\\480p15\\partial_movie_files\\CircleToSq\u001b[0m                         \n",
       "                             \u001b[32muare\\2201830969_2219685448_3086187078.m\u001b[0m                         \n",
       "                             \u001b[32mp4'\u001b[0m                                                             \n"
      ]
     },
     "metadata": {},
     "output_type": "display_data"
    },
    {
     "name": "stderr",
     "output_type": "stream",
     "text": [
      "                                                                  \r"
     ]
    },
    {
     "data": {
      "text/html": [
       "<pre style=\"white-space:pre;overflow-x:auto;line-height:normal;font-family:Menlo,'DejaVu Sans Mono',consolas,'Courier New',monospace\"><span style=\"color: #7fbfbf; text-decoration-color: #7fbfbf\">                    </span><span style=\"color: #008000; text-decoration-color: #008000\">INFO    </span> Animation <span style=\"color: #008000; text-decoration-color: #008000\">3</span> : Partial movie file        <a href=\"file://D:\\Python39\\lib\\site-packages\\manim\\scene\\scene_file_writer.py\"><span style=\"color: #7f7f7f; text-decoration-color: #7f7f7f\">scene_file_writer.py</span></a><span style=\"color: #7f7f7f; text-decoration-color: #7f7f7f\">:</span><a href=\"file://D:\\Python39\\lib\\site-packages\\manim\\scene\\scene_file_writer.py#514\"><span style=\"color: #7f7f7f; text-decoration-color: #7f7f7f\">514</span></a>\n",
       "                             written in                                                      \n",
       "                             <span style=\"color: #008000; text-decoration-color: #008000\">'D:\\Programming\\Python\\jupyter </span>                                 \n",
       "                             <span style=\"color: #008000; text-decoration-color: #008000\">notebooks\\media\\videos\\jupyter notebook</span>                         \n",
       "                             <span style=\"color: #008000; text-decoration-color: #008000\">s\\480p15\\partial_movie_files\\CircleToSq</span>                         \n",
       "                             <span style=\"color: #008000; text-decoration-color: #008000\">uare\\2201830969_221098053_1330614310.mp</span>                         \n",
       "                             <span style=\"color: #008000; text-decoration-color: #008000\">4'</span>                                                              \n",
       "</pre>\n"
      ],
      "text/plain": [
       "\u001b[2;36m                   \u001b[0m\u001b[2;36m \u001b[0m\u001b[32mINFO    \u001b[0m Animation \u001b[32m3\u001b[0m : Partial movie file        \u001b]8;id=648427;file://D:\\Python39\\lib\\site-packages\\manim\\scene\\scene_file_writer.py\u001b\\\u001b[2mscene_file_writer.py\u001b[0m\u001b]8;;\u001b\\\u001b[2m:\u001b[0m\u001b]8;id=401492;file://D:\\Python39\\lib\\site-packages\\manim\\scene\\scene_file_writer.py#514\u001b\\\u001b[2m514\u001b[0m\u001b]8;;\u001b\\\n",
       "                             written in                                                      \n",
       "                             \u001b[32m'D:\\Programming\\Python\\jupyter \u001b[0m                                 \n",
       "                             \u001b[32mnotebooks\\media\\videos\\jupyter notebook\u001b[0m                         \n",
       "                             \u001b[32ms\\480p15\\partial_movie_files\\CircleToSq\u001b[0m                         \n",
       "                             \u001b[32muare\\2201830969_221098053_1330614310.mp\u001b[0m                         \n",
       "                             \u001b[32m4'\u001b[0m                                                              \n"
      ]
     },
     "metadata": {},
     "output_type": "display_data"
    },
    {
     "name": "stderr",
     "output_type": "stream",
     "text": [
      "                                                                  \r"
     ]
    },
    {
     "data": {
      "text/html": [
       "<pre style=\"white-space:pre;overflow-x:auto;line-height:normal;font-family:Menlo,'DejaVu Sans Mono',consolas,'Courier New',monospace\"><span style=\"color: #7fbfbf; text-decoration-color: #7fbfbf\">                    </span><span style=\"color: #008000; text-decoration-color: #008000\">INFO    </span> Animation <span style=\"color: #008000; text-decoration-color: #008000\">4</span> : Partial movie file        <a href=\"file://D:\\Python39\\lib\\site-packages\\manim\\scene\\scene_file_writer.py\"><span style=\"color: #7f7f7f; text-decoration-color: #7f7f7f\">scene_file_writer.py</span></a><span style=\"color: #7f7f7f; text-decoration-color: #7f7f7f\">:</span><a href=\"file://D:\\Python39\\lib\\site-packages\\manim\\scene\\scene_file_writer.py#514\"><span style=\"color: #7f7f7f; text-decoration-color: #7f7f7f\">514</span></a>\n",
       "                             written in                                                      \n",
       "                             <span style=\"color: #008000; text-decoration-color: #008000\">'D:\\Programming\\Python\\jupyter </span>                                 \n",
       "                             <span style=\"color: #008000; text-decoration-color: #008000\">notebooks\\media\\videos\\jupyter notebook</span>                         \n",
       "                             <span style=\"color: #008000; text-decoration-color: #008000\">s\\480p15\\partial_movie_files\\CircleToSq</span>                         \n",
       "                             <span style=\"color: #008000; text-decoration-color: #008000\">uare\\2201830969_866096816_1187276931.mp</span>                         \n",
       "                             <span style=\"color: #008000; text-decoration-color: #008000\">4'</span>                                                              \n",
       "</pre>\n"
      ],
      "text/plain": [
       "\u001b[2;36m                   \u001b[0m\u001b[2;36m \u001b[0m\u001b[32mINFO    \u001b[0m Animation \u001b[32m4\u001b[0m : Partial movie file        \u001b]8;id=61062;file://D:\\Python39\\lib\\site-packages\\manim\\scene\\scene_file_writer.py\u001b\\\u001b[2mscene_file_writer.py\u001b[0m\u001b]8;;\u001b\\\u001b[2m:\u001b[0m\u001b]8;id=948792;file://D:\\Python39\\lib\\site-packages\\manim\\scene\\scene_file_writer.py#514\u001b\\\u001b[2m514\u001b[0m\u001b]8;;\u001b\\\n",
       "                             written in                                                      \n",
       "                             \u001b[32m'D:\\Programming\\Python\\jupyter \u001b[0m                                 \n",
       "                             \u001b[32mnotebooks\\media\\videos\\jupyter notebook\u001b[0m                         \n",
       "                             \u001b[32ms\\480p15\\partial_movie_files\\CircleToSq\u001b[0m                         \n",
       "                             \u001b[32muare\\2201830969_866096816_1187276931.mp\u001b[0m                         \n",
       "                             \u001b[32m4'\u001b[0m                                                              \n"
      ]
     },
     "metadata": {},
     "output_type": "display_data"
    },
    {
     "name": "stderr",
     "output_type": "stream",
     "text": [
      "                                                                  \r"
     ]
    },
    {
     "data": {
      "text/html": [
       "<pre style=\"white-space:pre;overflow-x:auto;line-height:normal;font-family:Menlo,'DejaVu Sans Mono',consolas,'Courier New',monospace\"><span style=\"color: #7fbfbf; text-decoration-color: #7fbfbf\">                    </span><span style=\"color: #008000; text-decoration-color: #008000\">INFO    </span> Animation <span style=\"color: #008000; text-decoration-color: #008000\">5</span> : Partial movie file        <a href=\"file://D:\\Python39\\lib\\site-packages\\manim\\scene\\scene_file_writer.py\"><span style=\"color: #7f7f7f; text-decoration-color: #7f7f7f\">scene_file_writer.py</span></a><span style=\"color: #7f7f7f; text-decoration-color: #7f7f7f\">:</span><a href=\"file://D:\\Python39\\lib\\site-packages\\manim\\scene\\scene_file_writer.py#514\"><span style=\"color: #7f7f7f; text-decoration-color: #7f7f7f\">514</span></a>\n",
       "                             written in                                                      \n",
       "                             <span style=\"color: #008000; text-decoration-color: #008000\">'D:\\Programming\\Python\\jupyter </span>                                 \n",
       "                             <span style=\"color: #008000; text-decoration-color: #008000\">notebooks\\media\\videos\\jupyter notebook</span>                         \n",
       "                             <span style=\"color: #008000; text-decoration-color: #008000\">s\\480p15\\partial_movie_files\\CircleToSq</span>                         \n",
       "                             <span style=\"color: #008000; text-decoration-color: #008000\">uare\\2201830969_3251734066_1411061344.m</span>                         \n",
       "                             <span style=\"color: #008000; text-decoration-color: #008000\">p4'</span>                                                             \n",
       "</pre>\n"
      ],
      "text/plain": [
       "\u001b[2;36m                   \u001b[0m\u001b[2;36m \u001b[0m\u001b[32mINFO    \u001b[0m Animation \u001b[32m5\u001b[0m : Partial movie file        \u001b]8;id=498531;file://D:\\Python39\\lib\\site-packages\\manim\\scene\\scene_file_writer.py\u001b\\\u001b[2mscene_file_writer.py\u001b[0m\u001b]8;;\u001b\\\u001b[2m:\u001b[0m\u001b]8;id=572127;file://D:\\Python39\\lib\\site-packages\\manim\\scene\\scene_file_writer.py#514\u001b\\\u001b[2m514\u001b[0m\u001b]8;;\u001b\\\n",
       "                             written in                                                      \n",
       "                             \u001b[32m'D:\\Programming\\Python\\jupyter \u001b[0m                                 \n",
       "                             \u001b[32mnotebooks\\media\\videos\\jupyter notebook\u001b[0m                         \n",
       "                             \u001b[32ms\\480p15\\partial_movie_files\\CircleToSq\u001b[0m                         \n",
       "                             \u001b[32muare\\2201830969_3251734066_1411061344.m\u001b[0m                         \n",
       "                             \u001b[32mp4'\u001b[0m                                                             \n"
      ]
     },
     "metadata": {},
     "output_type": "display_data"
    },
    {
     "name": "stderr",
     "output_type": "stream",
     "text": [
      "                                                                  \r"
     ]
    },
    {
     "data": {
      "text/html": [
       "<pre style=\"white-space:pre;overflow-x:auto;line-height:normal;font-family:Menlo,'DejaVu Sans Mono',consolas,'Courier New',monospace\"><span style=\"color: #7fbfbf; text-decoration-color: #7fbfbf\">[02/09/22 14:02:49] </span><span style=\"color: #008000; text-decoration-color: #008000\">INFO    </span> Animation <span style=\"color: #008000; text-decoration-color: #008000\">6</span> : Partial movie file        <a href=\"file://D:\\Python39\\lib\\site-packages\\manim\\scene\\scene_file_writer.py\"><span style=\"color: #7f7f7f; text-decoration-color: #7f7f7f\">scene_file_writer.py</span></a><span style=\"color: #7f7f7f; text-decoration-color: #7f7f7f\">:</span><a href=\"file://D:\\Python39\\lib\\site-packages\\manim\\scene\\scene_file_writer.py#514\"><span style=\"color: #7f7f7f; text-decoration-color: #7f7f7f\">514</span></a>\n",
       "                             written in                                                      \n",
       "                             <span style=\"color: #008000; text-decoration-color: #008000\">'D:\\Programming\\Python\\jupyter </span>                                 \n",
       "                             <span style=\"color: #008000; text-decoration-color: #008000\">notebooks\\media\\videos\\jupyter notebook</span>                         \n",
       "                             <span style=\"color: #008000; text-decoration-color: #008000\">s\\480p15\\partial_movie_files\\CircleToSq</span>                         \n",
       "                             <span style=\"color: #008000; text-decoration-color: #008000\">uare\\2201830969_1292224007_863456005.mp</span>                         \n",
       "                             <span style=\"color: #008000; text-decoration-color: #008000\">4'</span>                                                              \n",
       "</pre>\n"
      ],
      "text/plain": [
       "\u001b[2;36m[02/09/22 14:02:49]\u001b[0m\u001b[2;36m \u001b[0m\u001b[32mINFO    \u001b[0m Animation \u001b[32m6\u001b[0m : Partial movie file        \u001b]8;id=635225;file://D:\\Python39\\lib\\site-packages\\manim\\scene\\scene_file_writer.py\u001b\\\u001b[2mscene_file_writer.py\u001b[0m\u001b]8;;\u001b\\\u001b[2m:\u001b[0m\u001b]8;id=464795;file://D:\\Python39\\lib\\site-packages\\manim\\scene\\scene_file_writer.py#514\u001b\\\u001b[2m514\u001b[0m\u001b]8;;\u001b\\\n",
       "                             written in                                                      \n",
       "                             \u001b[32m'D:\\Programming\\Python\\jupyter \u001b[0m                                 \n",
       "                             \u001b[32mnotebooks\\media\\videos\\jupyter notebook\u001b[0m                         \n",
       "                             \u001b[32ms\\480p15\\partial_movie_files\\CircleToSq\u001b[0m                         \n",
       "                             \u001b[32muare\\2201830969_1292224007_863456005.mp\u001b[0m                         \n",
       "                             \u001b[32m4'\u001b[0m                                                              \n"
      ]
     },
     "metadata": {},
     "output_type": "display_data"
    },
    {
     "name": "stderr",
     "output_type": "stream",
     "text": [
      "                                                                  \r"
     ]
    },
    {
     "data": {
      "text/html": [
       "<pre style=\"white-space:pre;overflow-x:auto;line-height:normal;font-family:Menlo,'DejaVu Sans Mono',consolas,'Courier New',monospace\"><span style=\"color: #7fbfbf; text-decoration-color: #7fbfbf\">                    </span><span style=\"color: #008000; text-decoration-color: #008000\">INFO    </span> Animation <span style=\"color: #008000; text-decoration-color: #008000\">7</span> : Partial movie file        <a href=\"file://D:\\Python39\\lib\\site-packages\\manim\\scene\\scene_file_writer.py\"><span style=\"color: #7f7f7f; text-decoration-color: #7f7f7f\">scene_file_writer.py</span></a><span style=\"color: #7f7f7f; text-decoration-color: #7f7f7f\">:</span><a href=\"file://D:\\Python39\\lib\\site-packages\\manim\\scene\\scene_file_writer.py#514\"><span style=\"color: #7f7f7f; text-decoration-color: #7f7f7f\">514</span></a>\n",
       "                             written in                                                      \n",
       "                             <span style=\"color: #008000; text-decoration-color: #008000\">'D:\\Programming\\Python\\jupyter </span>                                 \n",
       "                             <span style=\"color: #008000; text-decoration-color: #008000\">notebooks\\media\\videos\\jupyter notebook</span>                         \n",
       "                             <span style=\"color: #008000; text-decoration-color: #008000\">s\\480p15\\partial_movie_files\\CircleToSq</span>                         \n",
       "                             <span style=\"color: #008000; text-decoration-color: #008000\">uare\\2201830969_3273615911_551767524.mp</span>                         \n",
       "                             <span style=\"color: #008000; text-decoration-color: #008000\">4'</span>                                                              \n",
       "</pre>\n"
      ],
      "text/plain": [
       "\u001b[2;36m                   \u001b[0m\u001b[2;36m \u001b[0m\u001b[32mINFO    \u001b[0m Animation \u001b[32m7\u001b[0m : Partial movie file        \u001b]8;id=505107;file://D:\\Python39\\lib\\site-packages\\manim\\scene\\scene_file_writer.py\u001b\\\u001b[2mscene_file_writer.py\u001b[0m\u001b]8;;\u001b\\\u001b[2m:\u001b[0m\u001b]8;id=855632;file://D:\\Python39\\lib\\site-packages\\manim\\scene\\scene_file_writer.py#514\u001b\\\u001b[2m514\u001b[0m\u001b]8;;\u001b\\\n",
       "                             written in                                                      \n",
       "                             \u001b[32m'D:\\Programming\\Python\\jupyter \u001b[0m                                 \n",
       "                             \u001b[32mnotebooks\\media\\videos\\jupyter notebook\u001b[0m                         \n",
       "                             \u001b[32ms\\480p15\\partial_movie_files\\CircleToSq\u001b[0m                         \n",
       "                             \u001b[32muare\\2201830969_3273615911_551767524.mp\u001b[0m                         \n",
       "                             \u001b[32m4'\u001b[0m                                                              \n"
      ]
     },
     "metadata": {},
     "output_type": "display_data"
    },
    {
     "name": "stderr",
     "output_type": "stream",
     "text": [
      "                                                                  \r"
     ]
    },
    {
     "data": {
      "text/html": [
       "<pre style=\"white-space:pre;overflow-x:auto;line-height:normal;font-family:Menlo,'DejaVu Sans Mono',consolas,'Courier New',monospace\"><span style=\"color: #7fbfbf; text-decoration-color: #7fbfbf\">                    </span><span style=\"color: #008000; text-decoration-color: #008000\">INFO    </span> Animation <span style=\"color: #008000; text-decoration-color: #008000\">8</span> : Partial movie file        <a href=\"file://D:\\Python39\\lib\\site-packages\\manim\\scene\\scene_file_writer.py\"><span style=\"color: #7f7f7f; text-decoration-color: #7f7f7f\">scene_file_writer.py</span></a><span style=\"color: #7f7f7f; text-decoration-color: #7f7f7f\">:</span><a href=\"file://D:\\Python39\\lib\\site-packages\\manim\\scene\\scene_file_writer.py#514\"><span style=\"color: #7f7f7f; text-decoration-color: #7f7f7f\">514</span></a>\n",
       "                             written in                                                      \n",
       "                             <span style=\"color: #008000; text-decoration-color: #008000\">'D:\\Programming\\Python\\jupyter </span>                                 \n",
       "                             <span style=\"color: #008000; text-decoration-color: #008000\">notebooks\\media\\videos\\jupyter notebook</span>                         \n",
       "                             <span style=\"color: #008000; text-decoration-color: #008000\">s\\480p15\\partial_movie_files\\CircleToSq</span>                         \n",
       "                             <span style=\"color: #008000; text-decoration-color: #008000\">uare\\2201830969_2410287495_3906565067.m</span>                         \n",
       "                             <span style=\"color: #008000; text-decoration-color: #008000\">p4'</span>                                                             \n",
       "</pre>\n"
      ],
      "text/plain": [
       "\u001b[2;36m                   \u001b[0m\u001b[2;36m \u001b[0m\u001b[32mINFO    \u001b[0m Animation \u001b[32m8\u001b[0m : Partial movie file        \u001b]8;id=600077;file://D:\\Python39\\lib\\site-packages\\manim\\scene\\scene_file_writer.py\u001b\\\u001b[2mscene_file_writer.py\u001b[0m\u001b]8;;\u001b\\\u001b[2m:\u001b[0m\u001b]8;id=946151;file://D:\\Python39\\lib\\site-packages\\manim\\scene\\scene_file_writer.py#514\u001b\\\u001b[2m514\u001b[0m\u001b]8;;\u001b\\\n",
       "                             written in                                                      \n",
       "                             \u001b[32m'D:\\Programming\\Python\\jupyter \u001b[0m                                 \n",
       "                             \u001b[32mnotebooks\\media\\videos\\jupyter notebook\u001b[0m                         \n",
       "                             \u001b[32ms\\480p15\\partial_movie_files\\CircleToSq\u001b[0m                         \n",
       "                             \u001b[32muare\\2201830969_2410287495_3906565067.m\u001b[0m                         \n",
       "                             \u001b[32mp4'\u001b[0m                                                             \n"
      ]
     },
     "metadata": {},
     "output_type": "display_data"
    },
    {
     "name": "stderr",
     "output_type": "stream",
     "text": [
      "                                                                  \r"
     ]
    },
    {
     "data": {
      "text/html": [
       "<pre style=\"white-space:pre;overflow-x:auto;line-height:normal;font-family:Menlo,'DejaVu Sans Mono',consolas,'Courier New',monospace\"><span style=\"color: #7fbfbf; text-decoration-color: #7fbfbf\">                    </span><span style=\"color: #008000; text-decoration-color: #008000\">INFO    </span> Animation <span style=\"color: #008000; text-decoration-color: #008000\">9</span> : Partial movie file        <a href=\"file://D:\\Python39\\lib\\site-packages\\manim\\scene\\scene_file_writer.py\"><span style=\"color: #7f7f7f; text-decoration-color: #7f7f7f\">scene_file_writer.py</span></a><span style=\"color: #7f7f7f; text-decoration-color: #7f7f7f\">:</span><a href=\"file://D:\\Python39\\lib\\site-packages\\manim\\scene\\scene_file_writer.py#514\"><span style=\"color: #7f7f7f; text-decoration-color: #7f7f7f\">514</span></a>\n",
       "                             written in                                                      \n",
       "                             <span style=\"color: #008000; text-decoration-color: #008000\">'D:\\Programming\\Python\\jupyter </span>                                 \n",
       "                             <span style=\"color: #008000; text-decoration-color: #008000\">notebooks\\media\\videos\\jupyter notebook</span>                         \n",
       "                             <span style=\"color: #008000; text-decoration-color: #008000\">s\\480p15\\partial_movie_files\\CircleToSq</span>                         \n",
       "                             <span style=\"color: #008000; text-decoration-color: #008000\">uare\\2201830969_3589663599_3249409517.m</span>                         \n",
       "                             <span style=\"color: #008000; text-decoration-color: #008000\">p4'</span>                                                             \n",
       "</pre>\n"
      ],
      "text/plain": [
       "\u001b[2;36m                   \u001b[0m\u001b[2;36m \u001b[0m\u001b[32mINFO    \u001b[0m Animation \u001b[32m9\u001b[0m : Partial movie file        \u001b]8;id=399219;file://D:\\Python39\\lib\\site-packages\\manim\\scene\\scene_file_writer.py\u001b\\\u001b[2mscene_file_writer.py\u001b[0m\u001b]8;;\u001b\\\u001b[2m:\u001b[0m\u001b]8;id=581602;file://D:\\Python39\\lib\\site-packages\\manim\\scene\\scene_file_writer.py#514\u001b\\\u001b[2m514\u001b[0m\u001b]8;;\u001b\\\n",
       "                             written in                                                      \n",
       "                             \u001b[32m'D:\\Programming\\Python\\jupyter \u001b[0m                                 \n",
       "                             \u001b[32mnotebooks\\media\\videos\\jupyter notebook\u001b[0m                         \n",
       "                             \u001b[32ms\\480p15\\partial_movie_files\\CircleToSq\u001b[0m                         \n",
       "                             \u001b[32muare\\2201830969_3589663599_3249409517.m\u001b[0m                         \n",
       "                             \u001b[32mp4'\u001b[0m                                                             \n"
      ]
     },
     "metadata": {},
     "output_type": "display_data"
    },
    {
     "name": "stderr",
     "output_type": "stream",
     "text": [
      "                                                                  \r"
     ]
    },
    {
     "data": {
      "text/html": [
       "<pre style=\"white-space:pre;overflow-x:auto;line-height:normal;font-family:Menlo,'DejaVu Sans Mono',consolas,'Courier New',monospace\"><span style=\"color: #7fbfbf; text-decoration-color: #7fbfbf\">                    </span><span style=\"color: #008000; text-decoration-color: #008000\">INFO    </span> Animation <span style=\"color: #008000; text-decoration-color: #008000\">10</span> : Partial movie file       <a href=\"file://D:\\Python39\\lib\\site-packages\\manim\\scene\\scene_file_writer.py\"><span style=\"color: #7f7f7f; text-decoration-color: #7f7f7f\">scene_file_writer.py</span></a><span style=\"color: #7f7f7f; text-decoration-color: #7f7f7f\">:</span><a href=\"file://D:\\Python39\\lib\\site-packages\\manim\\scene\\scene_file_writer.py#514\"><span style=\"color: #7f7f7f; text-decoration-color: #7f7f7f\">514</span></a>\n",
       "                             written in                                                      \n",
       "                             <span style=\"color: #008000; text-decoration-color: #008000\">'D:\\Programming\\Python\\jupyter </span>                                 \n",
       "                             <span style=\"color: #008000; text-decoration-color: #008000\">notebooks\\media\\videos\\jupyter notebook</span>                         \n",
       "                             <span style=\"color: #008000; text-decoration-color: #008000\">s\\480p15\\partial_movie_files\\CircleToSq</span>                         \n",
       "                             <span style=\"color: #008000; text-decoration-color: #008000\">uare\\2201830969_1138212085_1764861267.m</span>                         \n",
       "                             <span style=\"color: #008000; text-decoration-color: #008000\">p4'</span>                                                             \n",
       "</pre>\n"
      ],
      "text/plain": [
       "\u001b[2;36m                   \u001b[0m\u001b[2;36m \u001b[0m\u001b[32mINFO    \u001b[0m Animation \u001b[32m10\u001b[0m : Partial movie file       \u001b]8;id=908956;file://D:\\Python39\\lib\\site-packages\\manim\\scene\\scene_file_writer.py\u001b\\\u001b[2mscene_file_writer.py\u001b[0m\u001b]8;;\u001b\\\u001b[2m:\u001b[0m\u001b]8;id=84788;file://D:\\Python39\\lib\\site-packages\\manim\\scene\\scene_file_writer.py#514\u001b\\\u001b[2m514\u001b[0m\u001b]8;;\u001b\\\n",
       "                             written in                                                      \n",
       "                             \u001b[32m'D:\\Programming\\Python\\jupyter \u001b[0m                                 \n",
       "                             \u001b[32mnotebooks\\media\\videos\\jupyter notebook\u001b[0m                         \n",
       "                             \u001b[32ms\\480p15\\partial_movie_files\\CircleToSq\u001b[0m                         \n",
       "                             \u001b[32muare\\2201830969_1138212085_1764861267.m\u001b[0m                         \n",
       "                             \u001b[32mp4'\u001b[0m                                                             \n"
      ]
     },
     "metadata": {},
     "output_type": "display_data"
    },
    {
     "name": "stderr",
     "output_type": "stream",
     "text": [
      "                                                                  \r"
     ]
    },
    {
     "data": {
      "text/html": [
       "<pre style=\"white-space:pre;overflow-x:auto;line-height:normal;font-family:Menlo,'DejaVu Sans Mono',consolas,'Courier New',monospace\"><span style=\"color: #7fbfbf; text-decoration-color: #7fbfbf\">[02/09/22 14:02:50] </span><span style=\"color: #008000; text-decoration-color: #008000\">INFO    </span> Animation <span style=\"color: #008000; text-decoration-color: #008000\">11</span> : Partial movie file       <a href=\"file://D:\\Python39\\lib\\site-packages\\manim\\scene\\scene_file_writer.py\"><span style=\"color: #7f7f7f; text-decoration-color: #7f7f7f\">scene_file_writer.py</span></a><span style=\"color: #7f7f7f; text-decoration-color: #7f7f7f\">:</span><a href=\"file://D:\\Python39\\lib\\site-packages\\manim\\scene\\scene_file_writer.py#514\"><span style=\"color: #7f7f7f; text-decoration-color: #7f7f7f\">514</span></a>\n",
       "                             written in                                                      \n",
       "                             <span style=\"color: #008000; text-decoration-color: #008000\">'D:\\Programming\\Python\\jupyter </span>                                 \n",
       "                             <span style=\"color: #008000; text-decoration-color: #008000\">notebooks\\media\\videos\\jupyter notebook</span>                         \n",
       "                             <span style=\"color: #008000; text-decoration-color: #008000\">s\\480p15\\partial_movie_files\\CircleToSq</span>                         \n",
       "                             <span style=\"color: #008000; text-decoration-color: #008000\">uare\\2201830969_3002970398_3274220451.m</span>                         \n",
       "                             <span style=\"color: #008000; text-decoration-color: #008000\">p4'</span>                                                             \n",
       "</pre>\n"
      ],
      "text/plain": [
       "\u001b[2;36m[02/09/22 14:02:50]\u001b[0m\u001b[2;36m \u001b[0m\u001b[32mINFO    \u001b[0m Animation \u001b[32m11\u001b[0m : Partial movie file       \u001b]8;id=445630;file://D:\\Python39\\lib\\site-packages\\manim\\scene\\scene_file_writer.py\u001b\\\u001b[2mscene_file_writer.py\u001b[0m\u001b]8;;\u001b\\\u001b[2m:\u001b[0m\u001b]8;id=534747;file://D:\\Python39\\lib\\site-packages\\manim\\scene\\scene_file_writer.py#514\u001b\\\u001b[2m514\u001b[0m\u001b]8;;\u001b\\\n",
       "                             written in                                                      \n",
       "                             \u001b[32m'D:\\Programming\\Python\\jupyter \u001b[0m                                 \n",
       "                             \u001b[32mnotebooks\\media\\videos\\jupyter notebook\u001b[0m                         \n",
       "                             \u001b[32ms\\480p15\\partial_movie_files\\CircleToSq\u001b[0m                         \n",
       "                             \u001b[32muare\\2201830969_3002970398_3274220451.m\u001b[0m                         \n",
       "                             \u001b[32mp4'\u001b[0m                                                             \n"
      ]
     },
     "metadata": {},
     "output_type": "display_data"
    },
    {
     "name": "stderr",
     "output_type": "stream",
     "text": [
      "                                                                  \r"
     ]
    },
    {
     "data": {
      "text/html": [
       "<pre style=\"white-space:pre;overflow-x:auto;line-height:normal;font-family:Menlo,'DejaVu Sans Mono',consolas,'Courier New',monospace\"><span style=\"color: #7fbfbf; text-decoration-color: #7fbfbf\">                    </span><span style=\"color: #008000; text-decoration-color: #008000\">INFO    </span> Animation <span style=\"color: #008000; text-decoration-color: #008000\">12</span> : Partial movie file       <a href=\"file://D:\\Python39\\lib\\site-packages\\manim\\scene\\scene_file_writer.py\"><span style=\"color: #7f7f7f; text-decoration-color: #7f7f7f\">scene_file_writer.py</span></a><span style=\"color: #7f7f7f; text-decoration-color: #7f7f7f\">:</span><a href=\"file://D:\\Python39\\lib\\site-packages\\manim\\scene\\scene_file_writer.py#514\"><span style=\"color: #7f7f7f; text-decoration-color: #7f7f7f\">514</span></a>\n",
       "                             written in                                                      \n",
       "                             <span style=\"color: #008000; text-decoration-color: #008000\">'D:\\Programming\\Python\\jupyter </span>                                 \n",
       "                             <span style=\"color: #008000; text-decoration-color: #008000\">notebooks\\media\\videos\\jupyter notebook</span>                         \n",
       "                             <span style=\"color: #008000; text-decoration-color: #008000\">s\\480p15\\partial_movie_files\\CircleToSq</span>                         \n",
       "                             <span style=\"color: #008000; text-decoration-color: #008000\">uare\\2201830969_143263046_2773130885.mp</span>                         \n",
       "                             <span style=\"color: #008000; text-decoration-color: #008000\">4'</span>                                                              \n",
       "</pre>\n"
      ],
      "text/plain": [
       "\u001b[2;36m                   \u001b[0m\u001b[2;36m \u001b[0m\u001b[32mINFO    \u001b[0m Animation \u001b[32m12\u001b[0m : Partial movie file       \u001b]8;id=921046;file://D:\\Python39\\lib\\site-packages\\manim\\scene\\scene_file_writer.py\u001b\\\u001b[2mscene_file_writer.py\u001b[0m\u001b]8;;\u001b\\\u001b[2m:\u001b[0m\u001b]8;id=860900;file://D:\\Python39\\lib\\site-packages\\manim\\scene\\scene_file_writer.py#514\u001b\\\u001b[2m514\u001b[0m\u001b]8;;\u001b\\\n",
       "                             written in                                                      \n",
       "                             \u001b[32m'D:\\Programming\\Python\\jupyter \u001b[0m                                 \n",
       "                             \u001b[32mnotebooks\\media\\videos\\jupyter notebook\u001b[0m                         \n",
       "                             \u001b[32ms\\480p15\\partial_movie_files\\CircleToSq\u001b[0m                         \n",
       "                             \u001b[32muare\\2201830969_143263046_2773130885.mp\u001b[0m                         \n",
       "                             \u001b[32m4'\u001b[0m                                                              \n"
      ]
     },
     "metadata": {},
     "output_type": "display_data"
    },
    {
     "name": "stderr",
     "output_type": "stream",
     "text": [
      "                                                                  \r"
     ]
    },
    {
     "data": {
      "text/html": [
       "<pre style=\"white-space:pre;overflow-x:auto;line-height:normal;font-family:Menlo,'DejaVu Sans Mono',consolas,'Courier New',monospace\"><span style=\"color: #7fbfbf; text-decoration-color: #7fbfbf\">                    </span><span style=\"color: #008000; text-decoration-color: #008000\">INFO    </span> Animation <span style=\"color: #008000; text-decoration-color: #008000\">13</span> : Partial movie file       <a href=\"file://D:\\Python39\\lib\\site-packages\\manim\\scene\\scene_file_writer.py\"><span style=\"color: #7f7f7f; text-decoration-color: #7f7f7f\">scene_file_writer.py</span></a><span style=\"color: #7f7f7f; text-decoration-color: #7f7f7f\">:</span><a href=\"file://D:\\Python39\\lib\\site-packages\\manim\\scene\\scene_file_writer.py#514\"><span style=\"color: #7f7f7f; text-decoration-color: #7f7f7f\">514</span></a>\n",
       "                             written in                                                      \n",
       "                             <span style=\"color: #008000; text-decoration-color: #008000\">'D:\\Programming\\Python\\jupyter </span>                                 \n",
       "                             <span style=\"color: #008000; text-decoration-color: #008000\">notebooks\\media\\videos\\jupyter notebook</span>                         \n",
       "                             <span style=\"color: #008000; text-decoration-color: #008000\">s\\480p15\\partial_movie_files\\CircleToSq</span>                         \n",
       "                             <span style=\"color: #008000; text-decoration-color: #008000\">uare\\2201830969_1003737619_1573314934.m</span>                         \n",
       "                             <span style=\"color: #008000; text-decoration-color: #008000\">p4'</span>                                                             \n",
       "</pre>\n"
      ],
      "text/plain": [
       "\u001b[2;36m                   \u001b[0m\u001b[2;36m \u001b[0m\u001b[32mINFO    \u001b[0m Animation \u001b[32m13\u001b[0m : Partial movie file       \u001b]8;id=870981;file://D:\\Python39\\lib\\site-packages\\manim\\scene\\scene_file_writer.py\u001b\\\u001b[2mscene_file_writer.py\u001b[0m\u001b]8;;\u001b\\\u001b[2m:\u001b[0m\u001b]8;id=74045;file://D:\\Python39\\lib\\site-packages\\manim\\scene\\scene_file_writer.py#514\u001b\\\u001b[2m514\u001b[0m\u001b]8;;\u001b\\\n",
       "                             written in                                                      \n",
       "                             \u001b[32m'D:\\Programming\\Python\\jupyter \u001b[0m                                 \n",
       "                             \u001b[32mnotebooks\\media\\videos\\jupyter notebook\u001b[0m                         \n",
       "                             \u001b[32ms\\480p15\\partial_movie_files\\CircleToSq\u001b[0m                         \n",
       "                             \u001b[32muare\\2201830969_1003737619_1573314934.m\u001b[0m                         \n",
       "                             \u001b[32mp4'\u001b[0m                                                             \n"
      ]
     },
     "metadata": {},
     "output_type": "display_data"
    },
    {
     "name": "stderr",
     "output_type": "stream",
     "text": [
      "                                                                  \r"
     ]
    },
    {
     "data": {
      "text/html": [
       "<pre style=\"white-space:pre;overflow-x:auto;line-height:normal;font-family:Menlo,'DejaVu Sans Mono',consolas,'Courier New',monospace\"><span style=\"color: #7fbfbf; text-decoration-color: #7fbfbf\">                    </span><span style=\"color: #008000; text-decoration-color: #008000\">INFO    </span> Animation <span style=\"color: #008000; text-decoration-color: #008000\">14</span> : Partial movie file       <a href=\"file://D:\\Python39\\lib\\site-packages\\manim\\scene\\scene_file_writer.py\"><span style=\"color: #7f7f7f; text-decoration-color: #7f7f7f\">scene_file_writer.py</span></a><span style=\"color: #7f7f7f; text-decoration-color: #7f7f7f\">:</span><a href=\"file://D:\\Python39\\lib\\site-packages\\manim\\scene\\scene_file_writer.py#514\"><span style=\"color: #7f7f7f; text-decoration-color: #7f7f7f\">514</span></a>\n",
       "                             written in                                                      \n",
       "                             <span style=\"color: #008000; text-decoration-color: #008000\">'D:\\Programming\\Python\\jupyter </span>                                 \n",
       "                             <span style=\"color: #008000; text-decoration-color: #008000\">notebooks\\media\\videos\\jupyter notebook</span>                         \n",
       "                             <span style=\"color: #008000; text-decoration-color: #008000\">s\\480p15\\partial_movie_files\\CircleToSq</span>                         \n",
       "                             <span style=\"color: #008000; text-decoration-color: #008000\">uare\\2201830969_4100980096_2491840569.m</span>                         \n",
       "                             <span style=\"color: #008000; text-decoration-color: #008000\">p4'</span>                                                             \n",
       "</pre>\n"
      ],
      "text/plain": [
       "\u001b[2;36m                   \u001b[0m\u001b[2;36m \u001b[0m\u001b[32mINFO    \u001b[0m Animation \u001b[32m14\u001b[0m : Partial movie file       \u001b]8;id=290111;file://D:\\Python39\\lib\\site-packages\\manim\\scene\\scene_file_writer.py\u001b\\\u001b[2mscene_file_writer.py\u001b[0m\u001b]8;;\u001b\\\u001b[2m:\u001b[0m\u001b]8;id=545908;file://D:\\Python39\\lib\\site-packages\\manim\\scene\\scene_file_writer.py#514\u001b\\\u001b[2m514\u001b[0m\u001b]8;;\u001b\\\n",
       "                             written in                                                      \n",
       "                             \u001b[32m'D:\\Programming\\Python\\jupyter \u001b[0m                                 \n",
       "                             \u001b[32mnotebooks\\media\\videos\\jupyter notebook\u001b[0m                         \n",
       "                             \u001b[32ms\\480p15\\partial_movie_files\\CircleToSq\u001b[0m                         \n",
       "                             \u001b[32muare\\2201830969_4100980096_2491840569.m\u001b[0m                         \n",
       "                             \u001b[32mp4'\u001b[0m                                                             \n"
      ]
     },
     "metadata": {},
     "output_type": "display_data"
    },
    {
     "name": "stderr",
     "output_type": "stream",
     "text": [
      "                                                                  \r"
     ]
    },
    {
     "data": {
      "text/html": [
       "<pre style=\"white-space:pre;overflow-x:auto;line-height:normal;font-family:Menlo,'DejaVu Sans Mono',consolas,'Courier New',monospace\"><span style=\"color: #7fbfbf; text-decoration-color: #7fbfbf\">                    </span><span style=\"color: #008000; text-decoration-color: #008000\">INFO    </span> Animation <span style=\"color: #008000; text-decoration-color: #008000\">15</span> : Partial movie file       <a href=\"file://D:\\Python39\\lib\\site-packages\\manim\\scene\\scene_file_writer.py\"><span style=\"color: #7f7f7f; text-decoration-color: #7f7f7f\">scene_file_writer.py</span></a><span style=\"color: #7f7f7f; text-decoration-color: #7f7f7f\">:</span><a href=\"file://D:\\Python39\\lib\\site-packages\\manim\\scene\\scene_file_writer.py#514\"><span style=\"color: #7f7f7f; text-decoration-color: #7f7f7f\">514</span></a>\n",
       "                             written in                                                      \n",
       "                             <span style=\"color: #008000; text-decoration-color: #008000\">'D:\\Programming\\Python\\jupyter </span>                                 \n",
       "                             <span style=\"color: #008000; text-decoration-color: #008000\">notebooks\\media\\videos\\jupyter notebook</span>                         \n",
       "                             <span style=\"color: #008000; text-decoration-color: #008000\">s\\480p15\\partial_movie_files\\CircleToSq</span>                         \n",
       "                             <span style=\"color: #008000; text-decoration-color: #008000\">uare\\2201830969_4002883013_957040790.mp</span>                         \n",
       "                             <span style=\"color: #008000; text-decoration-color: #008000\">4'</span>                                                              \n",
       "</pre>\n"
      ],
      "text/plain": [
       "\u001b[2;36m                   \u001b[0m\u001b[2;36m \u001b[0m\u001b[32mINFO    \u001b[0m Animation \u001b[32m15\u001b[0m : Partial movie file       \u001b]8;id=775071;file://D:\\Python39\\lib\\site-packages\\manim\\scene\\scene_file_writer.py\u001b\\\u001b[2mscene_file_writer.py\u001b[0m\u001b]8;;\u001b\\\u001b[2m:\u001b[0m\u001b]8;id=241061;file://D:\\Python39\\lib\\site-packages\\manim\\scene\\scene_file_writer.py#514\u001b\\\u001b[2m514\u001b[0m\u001b]8;;\u001b\\\n",
       "                             written in                                                      \n",
       "                             \u001b[32m'D:\\Programming\\Python\\jupyter \u001b[0m                                 \n",
       "                             \u001b[32mnotebooks\\media\\videos\\jupyter notebook\u001b[0m                         \n",
       "                             \u001b[32ms\\480p15\\partial_movie_files\\CircleToSq\u001b[0m                         \n",
       "                             \u001b[32muare\\2201830969_4002883013_957040790.mp\u001b[0m                         \n",
       "                             \u001b[32m4'\u001b[0m                                                              \n"
      ]
     },
     "metadata": {},
     "output_type": "display_data"
    },
    {
     "name": "stderr",
     "output_type": "stream",
     "text": [
      "                                                                  \r"
     ]
    },
    {
     "data": {
      "text/html": [
       "<pre style=\"white-space:pre;overflow-x:auto;line-height:normal;font-family:Menlo,'DejaVu Sans Mono',consolas,'Courier New',monospace\"><span style=\"color: #7fbfbf; text-decoration-color: #7fbfbf\">                    </span><span style=\"color: #008000; text-decoration-color: #008000\">INFO    </span> Animation <span style=\"color: #008000; text-decoration-color: #008000\">16</span> : Partial movie file       <a href=\"file://D:\\Python39\\lib\\site-packages\\manim\\scene\\scene_file_writer.py\"><span style=\"color: #7f7f7f; text-decoration-color: #7f7f7f\">scene_file_writer.py</span></a><span style=\"color: #7f7f7f; text-decoration-color: #7f7f7f\">:</span><a href=\"file://D:\\Python39\\lib\\site-packages\\manim\\scene\\scene_file_writer.py#514\"><span style=\"color: #7f7f7f; text-decoration-color: #7f7f7f\">514</span></a>\n",
       "                             written in                                                      \n",
       "                             <span style=\"color: #008000; text-decoration-color: #008000\">'D:\\Programming\\Python\\jupyter </span>                                 \n",
       "                             <span style=\"color: #008000; text-decoration-color: #008000\">notebooks\\media\\videos\\jupyter notebook</span>                         \n",
       "                             <span style=\"color: #008000; text-decoration-color: #008000\">s\\480p15\\partial_movie_files\\CircleToSq</span>                         \n",
       "                             <span style=\"color: #008000; text-decoration-color: #008000\">uare\\2201830969_2189537895_2709148361.m</span>                         \n",
       "                             <span style=\"color: #008000; text-decoration-color: #008000\">p4'</span>                                                             \n",
       "</pre>\n"
      ],
      "text/plain": [
       "\u001b[2;36m                   \u001b[0m\u001b[2;36m \u001b[0m\u001b[32mINFO    \u001b[0m Animation \u001b[32m16\u001b[0m : Partial movie file       \u001b]8;id=611373;file://D:\\Python39\\lib\\site-packages\\manim\\scene\\scene_file_writer.py\u001b\\\u001b[2mscene_file_writer.py\u001b[0m\u001b]8;;\u001b\\\u001b[2m:\u001b[0m\u001b]8;id=721712;file://D:\\Python39\\lib\\site-packages\\manim\\scene\\scene_file_writer.py#514\u001b\\\u001b[2m514\u001b[0m\u001b]8;;\u001b\\\n",
       "                             written in                                                      \n",
       "                             \u001b[32m'D:\\Programming\\Python\\jupyter \u001b[0m                                 \n",
       "                             \u001b[32mnotebooks\\media\\videos\\jupyter notebook\u001b[0m                         \n",
       "                             \u001b[32ms\\480p15\\partial_movie_files\\CircleToSq\u001b[0m                         \n",
       "                             \u001b[32muare\\2201830969_2189537895_2709148361.m\u001b[0m                         \n",
       "                             \u001b[32mp4'\u001b[0m                                                             \n"
      ]
     },
     "metadata": {},
     "output_type": "display_data"
    },
    {
     "name": "stderr",
     "output_type": "stream",
     "text": [
      "                                                                  \r"
     ]
    },
    {
     "data": {
      "text/html": [
       "<pre style=\"white-space:pre;overflow-x:auto;line-height:normal;font-family:Menlo,'DejaVu Sans Mono',consolas,'Courier New',monospace\"><span style=\"color: #7fbfbf; text-decoration-color: #7fbfbf\">[02/09/22 14:02:51] </span><span style=\"color: #008000; text-decoration-color: #008000\">INFO    </span> Animation <span style=\"color: #008000; text-decoration-color: #008000\">17</span> : Partial movie file       <a href=\"file://D:\\Python39\\lib\\site-packages\\manim\\scene\\scene_file_writer.py\"><span style=\"color: #7f7f7f; text-decoration-color: #7f7f7f\">scene_file_writer.py</span></a><span style=\"color: #7f7f7f; text-decoration-color: #7f7f7f\">:</span><a href=\"file://D:\\Python39\\lib\\site-packages\\manim\\scene\\scene_file_writer.py#514\"><span style=\"color: #7f7f7f; text-decoration-color: #7f7f7f\">514</span></a>\n",
       "                             written in                                                      \n",
       "                             <span style=\"color: #008000; text-decoration-color: #008000\">'D:\\Programming\\Python\\jupyter </span>                                 \n",
       "                             <span style=\"color: #008000; text-decoration-color: #008000\">notebooks\\media\\videos\\jupyter notebook</span>                         \n",
       "                             <span style=\"color: #008000; text-decoration-color: #008000\">s\\480p15\\partial_movie_files\\CircleToSq</span>                         \n",
       "                             <span style=\"color: #008000; text-decoration-color: #008000\">uare\\2201830969_294257098_545944210.mp4</span>                         \n",
       "                             <span style=\"color: #008000; text-decoration-color: #008000\">'</span>                                                               \n",
       "</pre>\n"
      ],
      "text/plain": [
       "\u001b[2;36m[02/09/22 14:02:51]\u001b[0m\u001b[2;36m \u001b[0m\u001b[32mINFO    \u001b[0m Animation \u001b[32m17\u001b[0m : Partial movie file       \u001b]8;id=926666;file://D:\\Python39\\lib\\site-packages\\manim\\scene\\scene_file_writer.py\u001b\\\u001b[2mscene_file_writer.py\u001b[0m\u001b]8;;\u001b\\\u001b[2m:\u001b[0m\u001b]8;id=9216;file://D:\\Python39\\lib\\site-packages\\manim\\scene\\scene_file_writer.py#514\u001b\\\u001b[2m514\u001b[0m\u001b]8;;\u001b\\\n",
       "                             written in                                                      \n",
       "                             \u001b[32m'D:\\Programming\\Python\\jupyter \u001b[0m                                 \n",
       "                             \u001b[32mnotebooks\\media\\videos\\jupyter notebook\u001b[0m                         \n",
       "                             \u001b[32ms\\480p15\\partial_movie_files\\CircleToSq\u001b[0m                         \n",
       "                             \u001b[32muare\\2201830969_294257098_545944210.mp4\u001b[0m                         \n",
       "                             \u001b[32m'\u001b[0m                                                               \n"
      ]
     },
     "metadata": {},
     "output_type": "display_data"
    },
    {
     "name": "stderr",
     "output_type": "stream",
     "text": [
      "                                                                  \r"
     ]
    },
    {
     "data": {
      "text/html": [
       "<pre style=\"white-space:pre;overflow-x:auto;line-height:normal;font-family:Menlo,'DejaVu Sans Mono',consolas,'Courier New',monospace\"><span style=\"color: #7fbfbf; text-decoration-color: #7fbfbf\">                    </span><span style=\"color: #008000; text-decoration-color: #008000\">INFO    </span> Animation <span style=\"color: #008000; text-decoration-color: #008000\">18</span> : Partial movie file       <a href=\"file://D:\\Python39\\lib\\site-packages\\manim\\scene\\scene_file_writer.py\"><span style=\"color: #7f7f7f; text-decoration-color: #7f7f7f\">scene_file_writer.py</span></a><span style=\"color: #7f7f7f; text-decoration-color: #7f7f7f\">:</span><a href=\"file://D:\\Python39\\lib\\site-packages\\manim\\scene\\scene_file_writer.py#514\"><span style=\"color: #7f7f7f; text-decoration-color: #7f7f7f\">514</span></a>\n",
       "                             written in                                                      \n",
       "                             <span style=\"color: #008000; text-decoration-color: #008000\">'D:\\Programming\\Python\\jupyter </span>                                 \n",
       "                             <span style=\"color: #008000; text-decoration-color: #008000\">notebooks\\media\\videos\\jupyter notebook</span>                         \n",
       "                             <span style=\"color: #008000; text-decoration-color: #008000\">s\\480p15\\partial_movie_files\\CircleToSq</span>                         \n",
       "                             <span style=\"color: #008000; text-decoration-color: #008000\">uare\\2201830969_4031229657_2879470361.m</span>                         \n",
       "                             <span style=\"color: #008000; text-decoration-color: #008000\">p4'</span>                                                             \n",
       "</pre>\n"
      ],
      "text/plain": [
       "\u001b[2;36m                   \u001b[0m\u001b[2;36m \u001b[0m\u001b[32mINFO    \u001b[0m Animation \u001b[32m18\u001b[0m : Partial movie file       \u001b]8;id=518918;file://D:\\Python39\\lib\\site-packages\\manim\\scene\\scene_file_writer.py\u001b\\\u001b[2mscene_file_writer.py\u001b[0m\u001b]8;;\u001b\\\u001b[2m:\u001b[0m\u001b]8;id=193369;file://D:\\Python39\\lib\\site-packages\\manim\\scene\\scene_file_writer.py#514\u001b\\\u001b[2m514\u001b[0m\u001b]8;;\u001b\\\n",
       "                             written in                                                      \n",
       "                             \u001b[32m'D:\\Programming\\Python\\jupyter \u001b[0m                                 \n",
       "                             \u001b[32mnotebooks\\media\\videos\\jupyter notebook\u001b[0m                         \n",
       "                             \u001b[32ms\\480p15\\partial_movie_files\\CircleToSq\u001b[0m                         \n",
       "                             \u001b[32muare\\2201830969_4031229657_2879470361.m\u001b[0m                         \n",
       "                             \u001b[32mp4'\u001b[0m                                                             \n"
      ]
     },
     "metadata": {},
     "output_type": "display_data"
    },
    {
     "name": "stderr",
     "output_type": "stream",
     "text": [
      "                                                                  \r"
     ]
    },
    {
     "data": {
      "text/html": [
       "<pre style=\"white-space:pre;overflow-x:auto;line-height:normal;font-family:Menlo,'DejaVu Sans Mono',consolas,'Courier New',monospace\"><span style=\"color: #7fbfbf; text-decoration-color: #7fbfbf\">                    </span><span style=\"color: #008000; text-decoration-color: #008000\">INFO    </span> Animation <span style=\"color: #008000; text-decoration-color: #008000\">19</span> : Partial movie file       <a href=\"file://D:\\Python39\\lib\\site-packages\\manim\\scene\\scene_file_writer.py\"><span style=\"color: #7f7f7f; text-decoration-color: #7f7f7f\">scene_file_writer.py</span></a><span style=\"color: #7f7f7f; text-decoration-color: #7f7f7f\">:</span><a href=\"file://D:\\Python39\\lib\\site-packages\\manim\\scene\\scene_file_writer.py#514\"><span style=\"color: #7f7f7f; text-decoration-color: #7f7f7f\">514</span></a>\n",
       "                             written in                                                      \n",
       "                             <span style=\"color: #008000; text-decoration-color: #008000\">'D:\\Programming\\Python\\jupyter </span>                                 \n",
       "                             <span style=\"color: #008000; text-decoration-color: #008000\">notebooks\\media\\videos\\jupyter notebook</span>                         \n",
       "                             <span style=\"color: #008000; text-decoration-color: #008000\">s\\480p15\\partial_movie_files\\CircleToSq</span>                         \n",
       "                             <span style=\"color: #008000; text-decoration-color: #008000\">uare\\2201830969_4058373193_2405602988.m</span>                         \n",
       "                             <span style=\"color: #008000; text-decoration-color: #008000\">p4'</span>                                                             \n",
       "</pre>\n"
      ],
      "text/plain": [
       "\u001b[2;36m                   \u001b[0m\u001b[2;36m \u001b[0m\u001b[32mINFO    \u001b[0m Animation \u001b[32m19\u001b[0m : Partial movie file       \u001b]8;id=913165;file://D:\\Python39\\lib\\site-packages\\manim\\scene\\scene_file_writer.py\u001b\\\u001b[2mscene_file_writer.py\u001b[0m\u001b]8;;\u001b\\\u001b[2m:\u001b[0m\u001b]8;id=15910;file://D:\\Python39\\lib\\site-packages\\manim\\scene\\scene_file_writer.py#514\u001b\\\u001b[2m514\u001b[0m\u001b]8;;\u001b\\\n",
       "                             written in                                                      \n",
       "                             \u001b[32m'D:\\Programming\\Python\\jupyter \u001b[0m                                 \n",
       "                             \u001b[32mnotebooks\\media\\videos\\jupyter notebook\u001b[0m                         \n",
       "                             \u001b[32ms\\480p15\\partial_movie_files\\CircleToSq\u001b[0m                         \n",
       "                             \u001b[32muare\\2201830969_4058373193_2405602988.m\u001b[0m                         \n",
       "                             \u001b[32mp4'\u001b[0m                                                             \n"
      ]
     },
     "metadata": {},
     "output_type": "display_data"
    },
    {
     "name": "stderr",
     "output_type": "stream",
     "text": [
      "                                                                  \r"
     ]
    },
    {
     "data": {
      "text/html": [
       "<pre style=\"white-space:pre;overflow-x:auto;line-height:normal;font-family:Menlo,'DejaVu Sans Mono',consolas,'Courier New',monospace\"><span style=\"color: #7fbfbf; text-decoration-color: #7fbfbf\">                    </span><span style=\"color: #008000; text-decoration-color: #008000\">INFO    </span> Animation <span style=\"color: #008000; text-decoration-color: #008000\">20</span> : Partial movie file       <a href=\"file://D:\\Python39\\lib\\site-packages\\manim\\scene\\scene_file_writer.py\"><span style=\"color: #7f7f7f; text-decoration-color: #7f7f7f\">scene_file_writer.py</span></a><span style=\"color: #7f7f7f; text-decoration-color: #7f7f7f\">:</span><a href=\"file://D:\\Python39\\lib\\site-packages\\manim\\scene\\scene_file_writer.py#514\"><span style=\"color: #7f7f7f; text-decoration-color: #7f7f7f\">514</span></a>\n",
       "                             written in                                                      \n",
       "                             <span style=\"color: #008000; text-decoration-color: #008000\">'D:\\Programming\\Python\\jupyter </span>                                 \n",
       "                             <span style=\"color: #008000; text-decoration-color: #008000\">notebooks\\media\\videos\\jupyter notebook</span>                         \n",
       "                             <span style=\"color: #008000; text-decoration-color: #008000\">s\\480p15\\partial_movie_files\\CircleToSq</span>                         \n",
       "                             <span style=\"color: #008000; text-decoration-color: #008000\">uare\\2201830969_949611264_1154081314.mp</span>                         \n",
       "                             <span style=\"color: #008000; text-decoration-color: #008000\">4'</span>                                                              \n",
       "</pre>\n"
      ],
      "text/plain": [
       "\u001b[2;36m                   \u001b[0m\u001b[2;36m \u001b[0m\u001b[32mINFO    \u001b[0m Animation \u001b[32m20\u001b[0m : Partial movie file       \u001b]8;id=883909;file://D:\\Python39\\lib\\site-packages\\manim\\scene\\scene_file_writer.py\u001b\\\u001b[2mscene_file_writer.py\u001b[0m\u001b]8;;\u001b\\\u001b[2m:\u001b[0m\u001b]8;id=307440;file://D:\\Python39\\lib\\site-packages\\manim\\scene\\scene_file_writer.py#514\u001b\\\u001b[2m514\u001b[0m\u001b]8;;\u001b\\\n",
       "                             written in                                                      \n",
       "                             \u001b[32m'D:\\Programming\\Python\\jupyter \u001b[0m                                 \n",
       "                             \u001b[32mnotebooks\\media\\videos\\jupyter notebook\u001b[0m                         \n",
       "                             \u001b[32ms\\480p15\\partial_movie_files\\CircleToSq\u001b[0m                         \n",
       "                             \u001b[32muare\\2201830969_949611264_1154081314.mp\u001b[0m                         \n",
       "                             \u001b[32m4'\u001b[0m                                                              \n"
      ]
     },
     "metadata": {},
     "output_type": "display_data"
    },
    {
     "name": "stderr",
     "output_type": "stream",
     "text": [
      "                                                                  \r"
     ]
    },
    {
     "data": {
      "text/html": [
       "<pre style=\"white-space:pre;overflow-x:auto;line-height:normal;font-family:Menlo,'DejaVu Sans Mono',consolas,'Courier New',monospace\"><span style=\"color: #7fbfbf; text-decoration-color: #7fbfbf\">                    </span><span style=\"color: #008000; text-decoration-color: #008000\">INFO    </span> Animation <span style=\"color: #008000; text-decoration-color: #008000\">21</span> : Partial movie file       <a href=\"file://D:\\Python39\\lib\\site-packages\\manim\\scene\\scene_file_writer.py\"><span style=\"color: #7f7f7f; text-decoration-color: #7f7f7f\">scene_file_writer.py</span></a><span style=\"color: #7f7f7f; text-decoration-color: #7f7f7f\">:</span><a href=\"file://D:\\Python39\\lib\\site-packages\\manim\\scene\\scene_file_writer.py#514\"><span style=\"color: #7f7f7f; text-decoration-color: #7f7f7f\">514</span></a>\n",
       "                             written in                                                      \n",
       "                             <span style=\"color: #008000; text-decoration-color: #008000\">'D:\\Programming\\Python\\jupyter </span>                                 \n",
       "                             <span style=\"color: #008000; text-decoration-color: #008000\">notebooks\\media\\videos\\jupyter notebook</span>                         \n",
       "                             <span style=\"color: #008000; text-decoration-color: #008000\">s\\480p15\\partial_movie_files\\CircleToSq</span>                         \n",
       "                             <span style=\"color: #008000; text-decoration-color: #008000\">uare\\2201830969_1566302746_3971179114.m</span>                         \n",
       "                             <span style=\"color: #008000; text-decoration-color: #008000\">p4'</span>                                                             \n",
       "</pre>\n"
      ],
      "text/plain": [
       "\u001b[2;36m                   \u001b[0m\u001b[2;36m \u001b[0m\u001b[32mINFO    \u001b[0m Animation \u001b[32m21\u001b[0m : Partial movie file       \u001b]8;id=595476;file://D:\\Python39\\lib\\site-packages\\manim\\scene\\scene_file_writer.py\u001b\\\u001b[2mscene_file_writer.py\u001b[0m\u001b]8;;\u001b\\\u001b[2m:\u001b[0m\u001b]8;id=202033;file://D:\\Python39\\lib\\site-packages\\manim\\scene\\scene_file_writer.py#514\u001b\\\u001b[2m514\u001b[0m\u001b]8;;\u001b\\\n",
       "                             written in                                                      \n",
       "                             \u001b[32m'D:\\Programming\\Python\\jupyter \u001b[0m                                 \n",
       "                             \u001b[32mnotebooks\\media\\videos\\jupyter notebook\u001b[0m                         \n",
       "                             \u001b[32ms\\480p15\\partial_movie_files\\CircleToSq\u001b[0m                         \n",
       "                             \u001b[32muare\\2201830969_1566302746_3971179114.m\u001b[0m                         \n",
       "                             \u001b[32mp4'\u001b[0m                                                             \n"
      ]
     },
     "metadata": {},
     "output_type": "display_data"
    },
    {
     "name": "stderr",
     "output_type": "stream",
     "text": [
      "                                                                  \r"
     ]
    },
    {
     "data": {
      "text/html": [
       "<pre style=\"white-space:pre;overflow-x:auto;line-height:normal;font-family:Menlo,'DejaVu Sans Mono',consolas,'Courier New',monospace\"><span style=\"color: #7fbfbf; text-decoration-color: #7fbfbf\">[02/09/22 14:02:52] </span><span style=\"color: #008000; text-decoration-color: #008000\">INFO    </span> Animation <span style=\"color: #008000; text-decoration-color: #008000\">22</span> : Partial movie file       <a href=\"file://D:\\Python39\\lib\\site-packages\\manim\\scene\\scene_file_writer.py\"><span style=\"color: #7f7f7f; text-decoration-color: #7f7f7f\">scene_file_writer.py</span></a><span style=\"color: #7f7f7f; text-decoration-color: #7f7f7f\">:</span><a href=\"file://D:\\Python39\\lib\\site-packages\\manim\\scene\\scene_file_writer.py#514\"><span style=\"color: #7f7f7f; text-decoration-color: #7f7f7f\">514</span></a>\n",
       "                             written in                                                      \n",
       "                             <span style=\"color: #008000; text-decoration-color: #008000\">'D:\\Programming\\Python\\jupyter </span>                                 \n",
       "                             <span style=\"color: #008000; text-decoration-color: #008000\">notebooks\\media\\videos\\jupyter notebook</span>                         \n",
       "                             <span style=\"color: #008000; text-decoration-color: #008000\">s\\480p15\\partial_movie_files\\CircleToSq</span>                         \n",
       "                             <span style=\"color: #008000; text-decoration-color: #008000\">uare\\2201830969_1598551280_3963153210.m</span>                         \n",
       "                             <span style=\"color: #008000; text-decoration-color: #008000\">p4'</span>                                                             \n",
       "</pre>\n"
      ],
      "text/plain": [
       "\u001b[2;36m[02/09/22 14:02:52]\u001b[0m\u001b[2;36m \u001b[0m\u001b[32mINFO    \u001b[0m Animation \u001b[32m22\u001b[0m : Partial movie file       \u001b]8;id=496980;file://D:\\Python39\\lib\\site-packages\\manim\\scene\\scene_file_writer.py\u001b\\\u001b[2mscene_file_writer.py\u001b[0m\u001b]8;;\u001b\\\u001b[2m:\u001b[0m\u001b]8;id=125567;file://D:\\Python39\\lib\\site-packages\\manim\\scene\\scene_file_writer.py#514\u001b\\\u001b[2m514\u001b[0m\u001b]8;;\u001b\\\n",
       "                             written in                                                      \n",
       "                             \u001b[32m'D:\\Programming\\Python\\jupyter \u001b[0m                                 \n",
       "                             \u001b[32mnotebooks\\media\\videos\\jupyter notebook\u001b[0m                         \n",
       "                             \u001b[32ms\\480p15\\partial_movie_files\\CircleToSq\u001b[0m                         \n",
       "                             \u001b[32muare\\2201830969_1598551280_3963153210.m\u001b[0m                         \n",
       "                             \u001b[32mp4'\u001b[0m                                                             \n"
      ]
     },
     "metadata": {},
     "output_type": "display_data"
    },
    {
     "name": "stderr",
     "output_type": "stream",
     "text": [
      "                                                                  \r"
     ]
    },
    {
     "data": {
      "text/html": [
       "<pre style=\"white-space:pre;overflow-x:auto;line-height:normal;font-family:Menlo,'DejaVu Sans Mono',consolas,'Courier New',monospace\"><span style=\"color: #7fbfbf; text-decoration-color: #7fbfbf\">                    </span><span style=\"color: #008000; text-decoration-color: #008000\">INFO    </span> Animation <span style=\"color: #008000; text-decoration-color: #008000\">23</span> : Partial movie file       <a href=\"file://D:\\Python39\\lib\\site-packages\\manim\\scene\\scene_file_writer.py\"><span style=\"color: #7f7f7f; text-decoration-color: #7f7f7f\">scene_file_writer.py</span></a><span style=\"color: #7f7f7f; text-decoration-color: #7f7f7f\">:</span><a href=\"file://D:\\Python39\\lib\\site-packages\\manim\\scene\\scene_file_writer.py#514\"><span style=\"color: #7f7f7f; text-decoration-color: #7f7f7f\">514</span></a>\n",
       "                             written in                                                      \n",
       "                             <span style=\"color: #008000; text-decoration-color: #008000\">'D:\\Programming\\Python\\jupyter </span>                                 \n",
       "                             <span style=\"color: #008000; text-decoration-color: #008000\">notebooks\\media\\videos\\jupyter notebook</span>                         \n",
       "                             <span style=\"color: #008000; text-decoration-color: #008000\">s\\480p15\\partial_movie_files\\CircleToSq</span>                         \n",
       "                             <span style=\"color: #008000; text-decoration-color: #008000\">uare\\2201830969_2494116354_2549283396.m</span>                         \n",
       "                             <span style=\"color: #008000; text-decoration-color: #008000\">p4'</span>                                                             \n",
       "</pre>\n"
      ],
      "text/plain": [
       "\u001b[2;36m                   \u001b[0m\u001b[2;36m \u001b[0m\u001b[32mINFO    \u001b[0m Animation \u001b[32m23\u001b[0m : Partial movie file       \u001b]8;id=605172;file://D:\\Python39\\lib\\site-packages\\manim\\scene\\scene_file_writer.py\u001b\\\u001b[2mscene_file_writer.py\u001b[0m\u001b]8;;\u001b\\\u001b[2m:\u001b[0m\u001b]8;id=897969;file://D:\\Python39\\lib\\site-packages\\manim\\scene\\scene_file_writer.py#514\u001b\\\u001b[2m514\u001b[0m\u001b]8;;\u001b\\\n",
       "                             written in                                                      \n",
       "                             \u001b[32m'D:\\Programming\\Python\\jupyter \u001b[0m                                 \n",
       "                             \u001b[32mnotebooks\\media\\videos\\jupyter notebook\u001b[0m                         \n",
       "                             \u001b[32ms\\480p15\\partial_movie_files\\CircleToSq\u001b[0m                         \n",
       "                             \u001b[32muare\\2201830969_2494116354_2549283396.m\u001b[0m                         \n",
       "                             \u001b[32mp4'\u001b[0m                                                             \n"
      ]
     },
     "metadata": {},
     "output_type": "display_data"
    },
    {
     "name": "stderr",
     "output_type": "stream",
     "text": [
      "                                                                  \r"
     ]
    },
    {
     "data": {
      "text/html": [
       "<pre style=\"white-space:pre;overflow-x:auto;line-height:normal;font-family:Menlo,'DejaVu Sans Mono',consolas,'Courier New',monospace\"><span style=\"color: #7fbfbf; text-decoration-color: #7fbfbf\">                    </span><span style=\"color: #008000; text-decoration-color: #008000\">INFO    </span> Animation <span style=\"color: #008000; text-decoration-color: #008000\">24</span> : Partial movie file       <a href=\"file://D:\\Python39\\lib\\site-packages\\manim\\scene\\scene_file_writer.py\"><span style=\"color: #7f7f7f; text-decoration-color: #7f7f7f\">scene_file_writer.py</span></a><span style=\"color: #7f7f7f; text-decoration-color: #7f7f7f\">:</span><a href=\"file://D:\\Python39\\lib\\site-packages\\manim\\scene\\scene_file_writer.py#514\"><span style=\"color: #7f7f7f; text-decoration-color: #7f7f7f\">514</span></a>\n",
       "                             written in                                                      \n",
       "                             <span style=\"color: #008000; text-decoration-color: #008000\">'D:\\Programming\\Python\\jupyter </span>                                 \n",
       "                             <span style=\"color: #008000; text-decoration-color: #008000\">notebooks\\media\\videos\\jupyter notebook</span>                         \n",
       "                             <span style=\"color: #008000; text-decoration-color: #008000\">s\\480p15\\partial_movie_files\\CircleToSq</span>                         \n",
       "                             <span style=\"color: #008000; text-decoration-color: #008000\">uare\\2201830969_2041886817_2095958860.m</span>                         \n",
       "                             <span style=\"color: #008000; text-decoration-color: #008000\">p4'</span>                                                             \n",
       "</pre>\n"
      ],
      "text/plain": [
       "\u001b[2;36m                   \u001b[0m\u001b[2;36m \u001b[0m\u001b[32mINFO    \u001b[0m Animation \u001b[32m24\u001b[0m : Partial movie file       \u001b]8;id=370466;file://D:\\Python39\\lib\\site-packages\\manim\\scene\\scene_file_writer.py\u001b\\\u001b[2mscene_file_writer.py\u001b[0m\u001b]8;;\u001b\\\u001b[2m:\u001b[0m\u001b]8;id=8871;file://D:\\Python39\\lib\\site-packages\\manim\\scene\\scene_file_writer.py#514\u001b\\\u001b[2m514\u001b[0m\u001b]8;;\u001b\\\n",
       "                             written in                                                      \n",
       "                             \u001b[32m'D:\\Programming\\Python\\jupyter \u001b[0m                                 \n",
       "                             \u001b[32mnotebooks\\media\\videos\\jupyter notebook\u001b[0m                         \n",
       "                             \u001b[32ms\\480p15\\partial_movie_files\\CircleToSq\u001b[0m                         \n",
       "                             \u001b[32muare\\2201830969_2041886817_2095958860.m\u001b[0m                         \n",
       "                             \u001b[32mp4'\u001b[0m                                                             \n"
      ]
     },
     "metadata": {},
     "output_type": "display_data"
    },
    {
     "name": "stderr",
     "output_type": "stream",
     "text": [
      "                                                                  \r"
     ]
    },
    {
     "data": {
      "text/html": [
       "<pre style=\"white-space:pre;overflow-x:auto;line-height:normal;font-family:Menlo,'DejaVu Sans Mono',consolas,'Courier New',monospace\"><span style=\"color: #7fbfbf; text-decoration-color: #7fbfbf\">                    </span><span style=\"color: #008000; text-decoration-color: #008000\">INFO    </span> Animation <span style=\"color: #008000; text-decoration-color: #008000\">25</span> : Partial movie file       <a href=\"file://D:\\Python39\\lib\\site-packages\\manim\\scene\\scene_file_writer.py\"><span style=\"color: #7f7f7f; text-decoration-color: #7f7f7f\">scene_file_writer.py</span></a><span style=\"color: #7f7f7f; text-decoration-color: #7f7f7f\">:</span><a href=\"file://D:\\Python39\\lib\\site-packages\\manim\\scene\\scene_file_writer.py#514\"><span style=\"color: #7f7f7f; text-decoration-color: #7f7f7f\">514</span></a>\n",
       "                             written in                                                      \n",
       "                             <span style=\"color: #008000; text-decoration-color: #008000\">'D:\\Programming\\Python\\jupyter </span>                                 \n",
       "                             <span style=\"color: #008000; text-decoration-color: #008000\">notebooks\\media\\videos\\jupyter notebook</span>                         \n",
       "                             <span style=\"color: #008000; text-decoration-color: #008000\">s\\480p15\\partial_movie_files\\CircleToSq</span>                         \n",
       "                             <span style=\"color: #008000; text-decoration-color: #008000\">uare\\2201830969_3474983426_4036613476.m</span>                         \n",
       "                             <span style=\"color: #008000; text-decoration-color: #008000\">p4'</span>                                                             \n",
       "</pre>\n"
      ],
      "text/plain": [
       "\u001b[2;36m                   \u001b[0m\u001b[2;36m \u001b[0m\u001b[32mINFO    \u001b[0m Animation \u001b[32m25\u001b[0m : Partial movie file       \u001b]8;id=810805;file://D:\\Python39\\lib\\site-packages\\manim\\scene\\scene_file_writer.py\u001b\\\u001b[2mscene_file_writer.py\u001b[0m\u001b]8;;\u001b\\\u001b[2m:\u001b[0m\u001b]8;id=818001;file://D:\\Python39\\lib\\site-packages\\manim\\scene\\scene_file_writer.py#514\u001b\\\u001b[2m514\u001b[0m\u001b]8;;\u001b\\\n",
       "                             written in                                                      \n",
       "                             \u001b[32m'D:\\Programming\\Python\\jupyter \u001b[0m                                 \n",
       "                             \u001b[32mnotebooks\\media\\videos\\jupyter notebook\u001b[0m                         \n",
       "                             \u001b[32ms\\480p15\\partial_movie_files\\CircleToSq\u001b[0m                         \n",
       "                             \u001b[32muare\\2201830969_3474983426_4036613476.m\u001b[0m                         \n",
       "                             \u001b[32mp4'\u001b[0m                                                             \n"
      ]
     },
     "metadata": {},
     "output_type": "display_data"
    },
    {
     "name": "stderr",
     "output_type": "stream",
     "text": [
      "                                                                  \r"
     ]
    },
    {
     "data": {
      "text/html": [
       "<pre style=\"white-space:pre;overflow-x:auto;line-height:normal;font-family:Menlo,'DejaVu Sans Mono',consolas,'Courier New',monospace\"><span style=\"color: #7fbfbf; text-decoration-color: #7fbfbf\">                    </span><span style=\"color: #008000; text-decoration-color: #008000\">INFO    </span> Animation <span style=\"color: #008000; text-decoration-color: #008000\">26</span> : Partial movie file       <a href=\"file://D:\\Python39\\lib\\site-packages\\manim\\scene\\scene_file_writer.py\"><span style=\"color: #7f7f7f; text-decoration-color: #7f7f7f\">scene_file_writer.py</span></a><span style=\"color: #7f7f7f; text-decoration-color: #7f7f7f\">:</span><a href=\"file://D:\\Python39\\lib\\site-packages\\manim\\scene\\scene_file_writer.py#514\"><span style=\"color: #7f7f7f; text-decoration-color: #7f7f7f\">514</span></a>\n",
       "                             written in                                                      \n",
       "                             <span style=\"color: #008000; text-decoration-color: #008000\">'D:\\Programming\\Python\\jupyter </span>                                 \n",
       "                             <span style=\"color: #008000; text-decoration-color: #008000\">notebooks\\media\\videos\\jupyter notebook</span>                         \n",
       "                             <span style=\"color: #008000; text-decoration-color: #008000\">s\\480p15\\partial_movie_files\\CircleToSq</span>                         \n",
       "                             <span style=\"color: #008000; text-decoration-color: #008000\">uare\\1495979052_1210440783_2789153631.m</span>                         \n",
       "                             <span style=\"color: #008000; text-decoration-color: #008000\">p4'</span>                                                             \n",
       "</pre>\n"
      ],
      "text/plain": [
       "\u001b[2;36m                   \u001b[0m\u001b[2;36m \u001b[0m\u001b[32mINFO    \u001b[0m Animation \u001b[32m26\u001b[0m : Partial movie file       \u001b]8;id=450824;file://D:\\Python39\\lib\\site-packages\\manim\\scene\\scene_file_writer.py\u001b\\\u001b[2mscene_file_writer.py\u001b[0m\u001b]8;;\u001b\\\u001b[2m:\u001b[0m\u001b]8;id=177319;file://D:\\Python39\\lib\\site-packages\\manim\\scene\\scene_file_writer.py#514\u001b\\\u001b[2m514\u001b[0m\u001b]8;;\u001b\\\n",
       "                             written in                                                      \n",
       "                             \u001b[32m'D:\\Programming\\Python\\jupyter \u001b[0m                                 \n",
       "                             \u001b[32mnotebooks\\media\\videos\\jupyter notebook\u001b[0m                         \n",
       "                             \u001b[32ms\\480p15\\partial_movie_files\\CircleToSq\u001b[0m                         \n",
       "                             \u001b[32muare\\1495979052_1210440783_2789153631.m\u001b[0m                         \n",
       "                             \u001b[32mp4'\u001b[0m                                                             \n"
      ]
     },
     "metadata": {},
     "output_type": "display_data"
    },
    {
     "name": "stderr",
     "output_type": "stream",
     "text": [
      "                                                                  \r"
     ]
    },
    {
     "data": {
      "text/html": [
       "<pre style=\"white-space:pre;overflow-x:auto;line-height:normal;font-family:Menlo,'DejaVu Sans Mono',consolas,'Courier New',monospace\"><span style=\"color: #7fbfbf; text-decoration-color: #7fbfbf\">                    </span><span style=\"color: #008000; text-decoration-color: #008000\">INFO    </span> Animation <span style=\"color: #008000; text-decoration-color: #008000\">27</span> : Partial movie file       <a href=\"file://D:\\Python39\\lib\\site-packages\\manim\\scene\\scene_file_writer.py\"><span style=\"color: #7f7f7f; text-decoration-color: #7f7f7f\">scene_file_writer.py</span></a><span style=\"color: #7f7f7f; text-decoration-color: #7f7f7f\">:</span><a href=\"file://D:\\Python39\\lib\\site-packages\\manim\\scene\\scene_file_writer.py#514\"><span style=\"color: #7f7f7f; text-decoration-color: #7f7f7f\">514</span></a>\n",
       "                             written in                                                      \n",
       "                             <span style=\"color: #008000; text-decoration-color: #008000\">'D:\\Programming\\Python\\jupyter </span>                                 \n",
       "                             <span style=\"color: #008000; text-decoration-color: #008000\">notebooks\\media\\videos\\jupyter notebook</span>                         \n",
       "                             <span style=\"color: #008000; text-decoration-color: #008000\">s\\480p15\\partial_movie_files\\CircleToSq</span>                         \n",
       "                             <span style=\"color: #008000; text-decoration-color: #008000\">uare\\2201830969_3596618020_2574372731.m</span>                         \n",
       "                             <span style=\"color: #008000; text-decoration-color: #008000\">p4'</span>                                                             \n",
       "</pre>\n"
      ],
      "text/plain": [
       "\u001b[2;36m                   \u001b[0m\u001b[2;36m \u001b[0m\u001b[32mINFO    \u001b[0m Animation \u001b[32m27\u001b[0m : Partial movie file       \u001b]8;id=797010;file://D:\\Python39\\lib\\site-packages\\manim\\scene\\scene_file_writer.py\u001b\\\u001b[2mscene_file_writer.py\u001b[0m\u001b]8;;\u001b\\\u001b[2m:\u001b[0m\u001b]8;id=736889;file://D:\\Python39\\lib\\site-packages\\manim\\scene\\scene_file_writer.py#514\u001b\\\u001b[2m514\u001b[0m\u001b]8;;\u001b\\\n",
       "                             written in                                                      \n",
       "                             \u001b[32m'D:\\Programming\\Python\\jupyter \u001b[0m                                 \n",
       "                             \u001b[32mnotebooks\\media\\videos\\jupyter notebook\u001b[0m                         \n",
       "                             \u001b[32ms\\480p15\\partial_movie_files\\CircleToSq\u001b[0m                         \n",
       "                             \u001b[32muare\\2201830969_3596618020_2574372731.m\u001b[0m                         \n",
       "                             \u001b[32mp4'\u001b[0m                                                             \n"
      ]
     },
     "metadata": {},
     "output_type": "display_data"
    },
    {
     "name": "stderr",
     "output_type": "stream",
     "text": [
      "                                                                  \r"
     ]
    },
    {
     "data": {
      "text/html": [
       "<pre style=\"white-space:pre;overflow-x:auto;line-height:normal;font-family:Menlo,'DejaVu Sans Mono',consolas,'Courier New',monospace\"><span style=\"color: #7fbfbf; text-decoration-color: #7fbfbf\">[02/09/22 14:02:53] </span><span style=\"color: #008000; text-decoration-color: #008000\">INFO    </span> Animation <span style=\"color: #008000; text-decoration-color: #008000\">28</span> : Partial movie file       <a href=\"file://D:\\Python39\\lib\\site-packages\\manim\\scene\\scene_file_writer.py\"><span style=\"color: #7f7f7f; text-decoration-color: #7f7f7f\">scene_file_writer.py</span></a><span style=\"color: #7f7f7f; text-decoration-color: #7f7f7f\">:</span><a href=\"file://D:\\Python39\\lib\\site-packages\\manim\\scene\\scene_file_writer.py#514\"><span style=\"color: #7f7f7f; text-decoration-color: #7f7f7f\">514</span></a>\n",
       "                             written in                                                      \n",
       "                             <span style=\"color: #008000; text-decoration-color: #008000\">'D:\\Programming\\Python\\jupyter </span>                                 \n",
       "                             <span style=\"color: #008000; text-decoration-color: #008000\">notebooks\\media\\videos\\jupyter notebook</span>                         \n",
       "                             <span style=\"color: #008000; text-decoration-color: #008000\">s\\480p15\\partial_movie_files\\CircleToSq</span>                         \n",
       "                             <span style=\"color: #008000; text-decoration-color: #008000\">uare\\2201830969_1160742832_2899562493.m</span>                         \n",
       "                             <span style=\"color: #008000; text-decoration-color: #008000\">p4'</span>                                                             \n",
       "</pre>\n"
      ],
      "text/plain": [
       "\u001b[2;36m[02/09/22 14:02:53]\u001b[0m\u001b[2;36m \u001b[0m\u001b[32mINFO    \u001b[0m Animation \u001b[32m28\u001b[0m : Partial movie file       \u001b]8;id=509923;file://D:\\Python39\\lib\\site-packages\\manim\\scene\\scene_file_writer.py\u001b\\\u001b[2mscene_file_writer.py\u001b[0m\u001b]8;;\u001b\\\u001b[2m:\u001b[0m\u001b]8;id=4731;file://D:\\Python39\\lib\\site-packages\\manim\\scene\\scene_file_writer.py#514\u001b\\\u001b[2m514\u001b[0m\u001b]8;;\u001b\\\n",
       "                             written in                                                      \n",
       "                             \u001b[32m'D:\\Programming\\Python\\jupyter \u001b[0m                                 \n",
       "                             \u001b[32mnotebooks\\media\\videos\\jupyter notebook\u001b[0m                         \n",
       "                             \u001b[32ms\\480p15\\partial_movie_files\\CircleToSq\u001b[0m                         \n",
       "                             \u001b[32muare\\2201830969_1160742832_2899562493.m\u001b[0m                         \n",
       "                             \u001b[32mp4'\u001b[0m                                                             \n"
      ]
     },
     "metadata": {},
     "output_type": "display_data"
    },
    {
     "name": "stderr",
     "output_type": "stream",
     "text": [
      "                                                                  \r"
     ]
    },
    {
     "data": {
      "text/html": [
       "<pre style=\"white-space:pre;overflow-x:auto;line-height:normal;font-family:Menlo,'DejaVu Sans Mono',consolas,'Courier New',monospace\"><span style=\"color: #7fbfbf; text-decoration-color: #7fbfbf\">                    </span><span style=\"color: #008000; text-decoration-color: #008000\">INFO    </span> Animation <span style=\"color: #008000; text-decoration-color: #008000\">29</span> : Partial movie file       <a href=\"file://D:\\Python39\\lib\\site-packages\\manim\\scene\\scene_file_writer.py\"><span style=\"color: #7f7f7f; text-decoration-color: #7f7f7f\">scene_file_writer.py</span></a><span style=\"color: #7f7f7f; text-decoration-color: #7f7f7f\">:</span><a href=\"file://D:\\Python39\\lib\\site-packages\\manim\\scene\\scene_file_writer.py#514\"><span style=\"color: #7f7f7f; text-decoration-color: #7f7f7f\">514</span></a>\n",
       "                             written in                                                      \n",
       "                             <span style=\"color: #008000; text-decoration-color: #008000\">'D:\\Programming\\Python\\jupyter </span>                                 \n",
       "                             <span style=\"color: #008000; text-decoration-color: #008000\">notebooks\\media\\videos\\jupyter notebook</span>                         \n",
       "                             <span style=\"color: #008000; text-decoration-color: #008000\">s\\480p15\\partial_movie_files\\CircleToSq</span>                         \n",
       "                             <span style=\"color: #008000; text-decoration-color: #008000\">uare\\2201830969_2708578819_3124385187.m</span>                         \n",
       "                             <span style=\"color: #008000; text-decoration-color: #008000\">p4'</span>                                                             \n",
       "</pre>\n"
      ],
      "text/plain": [
       "\u001b[2;36m                   \u001b[0m\u001b[2;36m \u001b[0m\u001b[32mINFO    \u001b[0m Animation \u001b[32m29\u001b[0m : Partial movie file       \u001b]8;id=592503;file://D:\\Python39\\lib\\site-packages\\manim\\scene\\scene_file_writer.py\u001b\\\u001b[2mscene_file_writer.py\u001b[0m\u001b]8;;\u001b\\\u001b[2m:\u001b[0m\u001b]8;id=776755;file://D:\\Python39\\lib\\site-packages\\manim\\scene\\scene_file_writer.py#514\u001b\\\u001b[2m514\u001b[0m\u001b]8;;\u001b\\\n",
       "                             written in                                                      \n",
       "                             \u001b[32m'D:\\Programming\\Python\\jupyter \u001b[0m                                 \n",
       "                             \u001b[32mnotebooks\\media\\videos\\jupyter notebook\u001b[0m                         \n",
       "                             \u001b[32ms\\480p15\\partial_movie_files\\CircleToSq\u001b[0m                         \n",
       "                             \u001b[32muare\\2201830969_2708578819_3124385187.m\u001b[0m                         \n",
       "                             \u001b[32mp4'\u001b[0m                                                             \n"
      ]
     },
     "metadata": {},
     "output_type": "display_data"
    },
    {
     "name": "stderr",
     "output_type": "stream",
     "text": [
      "                                                                  \r"
     ]
    },
    {
     "data": {
      "text/html": [
       "<pre style=\"white-space:pre;overflow-x:auto;line-height:normal;font-family:Menlo,'DejaVu Sans Mono',consolas,'Courier New',monospace\"><span style=\"color: #7fbfbf; text-decoration-color: #7fbfbf\">                    </span><span style=\"color: #008000; text-decoration-color: #008000\">INFO    </span> Animation <span style=\"color: #008000; text-decoration-color: #008000\">30</span> : Partial movie file       <a href=\"file://D:\\Python39\\lib\\site-packages\\manim\\scene\\scene_file_writer.py\"><span style=\"color: #7f7f7f; text-decoration-color: #7f7f7f\">scene_file_writer.py</span></a><span style=\"color: #7f7f7f; text-decoration-color: #7f7f7f\">:</span><a href=\"file://D:\\Python39\\lib\\site-packages\\manim\\scene\\scene_file_writer.py#514\"><span style=\"color: #7f7f7f; text-decoration-color: #7f7f7f\">514</span></a>\n",
       "                             written in                                                      \n",
       "                             <span style=\"color: #008000; text-decoration-color: #008000\">'D:\\Programming\\Python\\jupyter </span>                                 \n",
       "                             <span style=\"color: #008000; text-decoration-color: #008000\">notebooks\\media\\videos\\jupyter notebook</span>                         \n",
       "                             <span style=\"color: #008000; text-decoration-color: #008000\">s\\480p15\\partial_movie_files\\CircleToSq</span>                         \n",
       "                             <span style=\"color: #008000; text-decoration-color: #008000\">uare\\2201830969_4125605511_3838417469.m</span>                         \n",
       "                             <span style=\"color: #008000; text-decoration-color: #008000\">p4'</span>                                                             \n",
       "</pre>\n"
      ],
      "text/plain": [
       "\u001b[2;36m                   \u001b[0m\u001b[2;36m \u001b[0m\u001b[32mINFO    \u001b[0m Animation \u001b[32m30\u001b[0m : Partial movie file       \u001b]8;id=808836;file://D:\\Python39\\lib\\site-packages\\manim\\scene\\scene_file_writer.py\u001b\\\u001b[2mscene_file_writer.py\u001b[0m\u001b]8;;\u001b\\\u001b[2m:\u001b[0m\u001b]8;id=100609;file://D:\\Python39\\lib\\site-packages\\manim\\scene\\scene_file_writer.py#514\u001b\\\u001b[2m514\u001b[0m\u001b]8;;\u001b\\\n",
       "                             written in                                                      \n",
       "                             \u001b[32m'D:\\Programming\\Python\\jupyter \u001b[0m                                 \n",
       "                             \u001b[32mnotebooks\\media\\videos\\jupyter notebook\u001b[0m                         \n",
       "                             \u001b[32ms\\480p15\\partial_movie_files\\CircleToSq\u001b[0m                         \n",
       "                             \u001b[32muare\\2201830969_4125605511_3838417469.m\u001b[0m                         \n",
       "                             \u001b[32mp4'\u001b[0m                                                             \n"
      ]
     },
     "metadata": {},
     "output_type": "display_data"
    },
    {
     "name": "stderr",
     "output_type": "stream",
     "text": [
      "                                                                  \r"
     ]
    },
    {
     "data": {
      "text/html": [
       "<pre style=\"white-space:pre;overflow-x:auto;line-height:normal;font-family:Menlo,'DejaVu Sans Mono',consolas,'Courier New',monospace\"><span style=\"color: #7fbfbf; text-decoration-color: #7fbfbf\">                    </span><span style=\"color: #008000; text-decoration-color: #008000\">INFO    </span> Animation <span style=\"color: #008000; text-decoration-color: #008000\">31</span> : Partial movie file       <a href=\"file://D:\\Python39\\lib\\site-packages\\manim\\scene\\scene_file_writer.py\"><span style=\"color: #7f7f7f; text-decoration-color: #7f7f7f\">scene_file_writer.py</span></a><span style=\"color: #7f7f7f; text-decoration-color: #7f7f7f\">:</span><a href=\"file://D:\\Python39\\lib\\site-packages\\manim\\scene\\scene_file_writer.py#514\"><span style=\"color: #7f7f7f; text-decoration-color: #7f7f7f\">514</span></a>\n",
       "                             written in                                                      \n",
       "                             <span style=\"color: #008000; text-decoration-color: #008000\">'D:\\Programming\\Python\\jupyter </span>                                 \n",
       "                             <span style=\"color: #008000; text-decoration-color: #008000\">notebooks\\media\\videos\\jupyter notebook</span>                         \n",
       "                             <span style=\"color: #008000; text-decoration-color: #008000\">s\\480p15\\partial_movie_files\\CircleToSq</span>                         \n",
       "                             <span style=\"color: #008000; text-decoration-color: #008000\">uare\\2201830969_23149067_3587810048.mp4</span>                         \n",
       "                             <span style=\"color: #008000; text-decoration-color: #008000\">'</span>                                                               \n",
       "</pre>\n"
      ],
      "text/plain": [
       "\u001b[2;36m                   \u001b[0m\u001b[2;36m \u001b[0m\u001b[32mINFO    \u001b[0m Animation \u001b[32m31\u001b[0m : Partial movie file       \u001b]8;id=674289;file://D:\\Python39\\lib\\site-packages\\manim\\scene\\scene_file_writer.py\u001b\\\u001b[2mscene_file_writer.py\u001b[0m\u001b]8;;\u001b\\\u001b[2m:\u001b[0m\u001b]8;id=835080;file://D:\\Python39\\lib\\site-packages\\manim\\scene\\scene_file_writer.py#514\u001b\\\u001b[2m514\u001b[0m\u001b]8;;\u001b\\\n",
       "                             written in                                                      \n",
       "                             \u001b[32m'D:\\Programming\\Python\\jupyter \u001b[0m                                 \n",
       "                             \u001b[32mnotebooks\\media\\videos\\jupyter notebook\u001b[0m                         \n",
       "                             \u001b[32ms\\480p15\\partial_movie_files\\CircleToSq\u001b[0m                         \n",
       "                             \u001b[32muare\\2201830969_23149067_3587810048.mp4\u001b[0m                         \n",
       "                             \u001b[32m'\u001b[0m                                                               \n"
      ]
     },
     "metadata": {},
     "output_type": "display_data"
    },
    {
     "name": "stderr",
     "output_type": "stream",
     "text": [
      "                                                                  \r"
     ]
    },
    {
     "data": {
      "text/html": [
       "<pre style=\"white-space:pre;overflow-x:auto;line-height:normal;font-family:Menlo,'DejaVu Sans Mono',consolas,'Courier New',monospace\"><span style=\"color: #7fbfbf; text-decoration-color: #7fbfbf\">                    </span><span style=\"color: #008000; text-decoration-color: #008000\">INFO    </span> Animation <span style=\"color: #008000; text-decoration-color: #008000\">32</span> : Partial movie file       <a href=\"file://D:\\Python39\\lib\\site-packages\\manim\\scene\\scene_file_writer.py\"><span style=\"color: #7f7f7f; text-decoration-color: #7f7f7f\">scene_file_writer.py</span></a><span style=\"color: #7f7f7f; text-decoration-color: #7f7f7f\">:</span><a href=\"file://D:\\Python39\\lib\\site-packages\\manim\\scene\\scene_file_writer.py#514\"><span style=\"color: #7f7f7f; text-decoration-color: #7f7f7f\">514</span></a>\n",
       "                             written in                                                      \n",
       "                             <span style=\"color: #008000; text-decoration-color: #008000\">'D:\\Programming\\Python\\jupyter </span>                                 \n",
       "                             <span style=\"color: #008000; text-decoration-color: #008000\">notebooks\\media\\videos\\jupyter notebook</span>                         \n",
       "                             <span style=\"color: #008000; text-decoration-color: #008000\">s\\480p15\\partial_movie_files\\CircleToSq</span>                         \n",
       "                             <span style=\"color: #008000; text-decoration-color: #008000\">uare\\2201830969_1397854000_1448483039.m</span>                         \n",
       "                             <span style=\"color: #008000; text-decoration-color: #008000\">p4'</span>                                                             \n",
       "</pre>\n"
      ],
      "text/plain": [
       "\u001b[2;36m                   \u001b[0m\u001b[2;36m \u001b[0m\u001b[32mINFO    \u001b[0m Animation \u001b[32m32\u001b[0m : Partial movie file       \u001b]8;id=670924;file://D:\\Python39\\lib\\site-packages\\manim\\scene\\scene_file_writer.py\u001b\\\u001b[2mscene_file_writer.py\u001b[0m\u001b]8;;\u001b\\\u001b[2m:\u001b[0m\u001b]8;id=43816;file://D:\\Python39\\lib\\site-packages\\manim\\scene\\scene_file_writer.py#514\u001b\\\u001b[2m514\u001b[0m\u001b]8;;\u001b\\\n",
       "                             written in                                                      \n",
       "                             \u001b[32m'D:\\Programming\\Python\\jupyter \u001b[0m                                 \n",
       "                             \u001b[32mnotebooks\\media\\videos\\jupyter notebook\u001b[0m                         \n",
       "                             \u001b[32ms\\480p15\\partial_movie_files\\CircleToSq\u001b[0m                         \n",
       "                             \u001b[32muare\\2201830969_1397854000_1448483039.m\u001b[0m                         \n",
       "                             \u001b[32mp4'\u001b[0m                                                             \n"
      ]
     },
     "metadata": {},
     "output_type": "display_data"
    },
    {
     "name": "stderr",
     "output_type": "stream",
     "text": [
      "                                                                  \r"
     ]
    },
    {
     "data": {
      "text/html": [
       "<pre style=\"white-space:pre;overflow-x:auto;line-height:normal;font-family:Menlo,'DejaVu Sans Mono',consolas,'Courier New',monospace\"><span style=\"color: #7fbfbf; text-decoration-color: #7fbfbf\">[02/09/22 14:02:54] </span><span style=\"color: #008000; text-decoration-color: #008000\">INFO    </span> Animation <span style=\"color: #008000; text-decoration-color: #008000\">33</span> : Partial movie file       <a href=\"file://D:\\Python39\\lib\\site-packages\\manim\\scene\\scene_file_writer.py\"><span style=\"color: #7f7f7f; text-decoration-color: #7f7f7f\">scene_file_writer.py</span></a><span style=\"color: #7f7f7f; text-decoration-color: #7f7f7f\">:</span><a href=\"file://D:\\Python39\\lib\\site-packages\\manim\\scene\\scene_file_writer.py#514\"><span style=\"color: #7f7f7f; text-decoration-color: #7f7f7f\">514</span></a>\n",
       "                             written in                                                      \n",
       "                             <span style=\"color: #008000; text-decoration-color: #008000\">'D:\\Programming\\Python\\jupyter </span>                                 \n",
       "                             <span style=\"color: #008000; text-decoration-color: #008000\">notebooks\\media\\videos\\jupyter notebook</span>                         \n",
       "                             <span style=\"color: #008000; text-decoration-color: #008000\">s\\480p15\\partial_movie_files\\CircleToSq</span>                         \n",
       "                             <span style=\"color: #008000; text-decoration-color: #008000\">uare\\2201830969_3234994536_1306183303.m</span>                         \n",
       "                             <span style=\"color: #008000; text-decoration-color: #008000\">p4'</span>                                                             \n",
       "</pre>\n"
      ],
      "text/plain": [
       "\u001b[2;36m[02/09/22 14:02:54]\u001b[0m\u001b[2;36m \u001b[0m\u001b[32mINFO    \u001b[0m Animation \u001b[32m33\u001b[0m : Partial movie file       \u001b]8;id=85810;file://D:\\Python39\\lib\\site-packages\\manim\\scene\\scene_file_writer.py\u001b\\\u001b[2mscene_file_writer.py\u001b[0m\u001b]8;;\u001b\\\u001b[2m:\u001b[0m\u001b]8;id=319493;file://D:\\Python39\\lib\\site-packages\\manim\\scene\\scene_file_writer.py#514\u001b\\\u001b[2m514\u001b[0m\u001b]8;;\u001b\\\n",
       "                             written in                                                      \n",
       "                             \u001b[32m'D:\\Programming\\Python\\jupyter \u001b[0m                                 \n",
       "                             \u001b[32mnotebooks\\media\\videos\\jupyter notebook\u001b[0m                         \n",
       "                             \u001b[32ms\\480p15\\partial_movie_files\\CircleToSq\u001b[0m                         \n",
       "                             \u001b[32muare\\2201830969_3234994536_1306183303.m\u001b[0m                         \n",
       "                             \u001b[32mp4'\u001b[0m                                                             \n"
      ]
     },
     "metadata": {},
     "output_type": "display_data"
    },
    {
     "name": "stderr",
     "output_type": "stream",
     "text": [
      "                                                                  \r"
     ]
    },
    {
     "data": {
      "text/html": [
       "<pre style=\"white-space:pre;overflow-x:auto;line-height:normal;font-family:Menlo,'DejaVu Sans Mono',consolas,'Courier New',monospace\"><span style=\"color: #7fbfbf; text-decoration-color: #7fbfbf\">                    </span><span style=\"color: #008000; text-decoration-color: #008000\">INFO    </span> Animation <span style=\"color: #008000; text-decoration-color: #008000\">34</span> : Partial movie file       <a href=\"file://D:\\Python39\\lib\\site-packages\\manim\\scene\\scene_file_writer.py\"><span style=\"color: #7f7f7f; text-decoration-color: #7f7f7f\">scene_file_writer.py</span></a><span style=\"color: #7f7f7f; text-decoration-color: #7f7f7f\">:</span><a href=\"file://D:\\Python39\\lib\\site-packages\\manim\\scene\\scene_file_writer.py#514\"><span style=\"color: #7f7f7f; text-decoration-color: #7f7f7f\">514</span></a>\n",
       "                             written in                                                      \n",
       "                             <span style=\"color: #008000; text-decoration-color: #008000\">'D:\\Programming\\Python\\jupyter </span>                                 \n",
       "                             <span style=\"color: #008000; text-decoration-color: #008000\">notebooks\\media\\videos\\jupyter notebook</span>                         \n",
       "                             <span style=\"color: #008000; text-decoration-color: #008000\">s\\480p15\\partial_movie_files\\CircleToSq</span>                         \n",
       "                             <span style=\"color: #008000; text-decoration-color: #008000\">uare\\2201830969_3989031561_2246303034.m</span>                         \n",
       "                             <span style=\"color: #008000; text-decoration-color: #008000\">p4'</span>                                                             \n",
       "</pre>\n"
      ],
      "text/plain": [
       "\u001b[2;36m                   \u001b[0m\u001b[2;36m \u001b[0m\u001b[32mINFO    \u001b[0m Animation \u001b[32m34\u001b[0m : Partial movie file       \u001b]8;id=141226;file://D:\\Python39\\lib\\site-packages\\manim\\scene\\scene_file_writer.py\u001b\\\u001b[2mscene_file_writer.py\u001b[0m\u001b]8;;\u001b\\\u001b[2m:\u001b[0m\u001b]8;id=520523;file://D:\\Python39\\lib\\site-packages\\manim\\scene\\scene_file_writer.py#514\u001b\\\u001b[2m514\u001b[0m\u001b]8;;\u001b\\\n",
       "                             written in                                                      \n",
       "                             \u001b[32m'D:\\Programming\\Python\\jupyter \u001b[0m                                 \n",
       "                             \u001b[32mnotebooks\\media\\videos\\jupyter notebook\u001b[0m                         \n",
       "                             \u001b[32ms\\480p15\\partial_movie_files\\CircleToSq\u001b[0m                         \n",
       "                             \u001b[32muare\\2201830969_3989031561_2246303034.m\u001b[0m                         \n",
       "                             \u001b[32mp4'\u001b[0m                                                             \n"
      ]
     },
     "metadata": {},
     "output_type": "display_data"
    },
    {
     "name": "stderr",
     "output_type": "stream",
     "text": [
      "                                                                  \r"
     ]
    },
    {
     "data": {
      "text/html": [
       "<pre style=\"white-space:pre;overflow-x:auto;line-height:normal;font-family:Menlo,'DejaVu Sans Mono',consolas,'Courier New',monospace\"><span style=\"color: #7fbfbf; text-decoration-color: #7fbfbf\">                    </span><span style=\"color: #008000; text-decoration-color: #008000\">INFO    </span> Animation <span style=\"color: #008000; text-decoration-color: #008000\">35</span> : Partial movie file       <a href=\"file://D:\\Python39\\lib\\site-packages\\manim\\scene\\scene_file_writer.py\"><span style=\"color: #7f7f7f; text-decoration-color: #7f7f7f\">scene_file_writer.py</span></a><span style=\"color: #7f7f7f; text-decoration-color: #7f7f7f\">:</span><a href=\"file://D:\\Python39\\lib\\site-packages\\manim\\scene\\scene_file_writer.py#514\"><span style=\"color: #7f7f7f; text-decoration-color: #7f7f7f\">514</span></a>\n",
       "                             written in                                                      \n",
       "                             <span style=\"color: #008000; text-decoration-color: #008000\">'D:\\Programming\\Python\\jupyter </span>                                 \n",
       "                             <span style=\"color: #008000; text-decoration-color: #008000\">notebooks\\media\\videos\\jupyter notebook</span>                         \n",
       "                             <span style=\"color: #008000; text-decoration-color: #008000\">s\\480p15\\partial_movie_files\\CircleToSq</span>                         \n",
       "                             <span style=\"color: #008000; text-decoration-color: #008000\">uare\\2201830969_1640588437_2841217308.m</span>                         \n",
       "                             <span style=\"color: #008000; text-decoration-color: #008000\">p4'</span>                                                             \n",
       "</pre>\n"
      ],
      "text/plain": [
       "\u001b[2;36m                   \u001b[0m\u001b[2;36m \u001b[0m\u001b[32mINFO    \u001b[0m Animation \u001b[32m35\u001b[0m : Partial movie file       \u001b]8;id=313411;file://D:\\Python39\\lib\\site-packages\\manim\\scene\\scene_file_writer.py\u001b\\\u001b[2mscene_file_writer.py\u001b[0m\u001b]8;;\u001b\\\u001b[2m:\u001b[0m\u001b]8;id=230851;file://D:\\Python39\\lib\\site-packages\\manim\\scene\\scene_file_writer.py#514\u001b\\\u001b[2m514\u001b[0m\u001b]8;;\u001b\\\n",
       "                             written in                                                      \n",
       "                             \u001b[32m'D:\\Programming\\Python\\jupyter \u001b[0m                                 \n",
       "                             \u001b[32mnotebooks\\media\\videos\\jupyter notebook\u001b[0m                         \n",
       "                             \u001b[32ms\\480p15\\partial_movie_files\\CircleToSq\u001b[0m                         \n",
       "                             \u001b[32muare\\2201830969_1640588437_2841217308.m\u001b[0m                         \n",
       "                             \u001b[32mp4'\u001b[0m                                                             \n"
      ]
     },
     "metadata": {},
     "output_type": "display_data"
    },
    {
     "name": "stderr",
     "output_type": "stream",
     "text": [
      "                                                                  \r"
     ]
    },
    {
     "data": {
      "text/html": [
       "<pre style=\"white-space:pre;overflow-x:auto;line-height:normal;font-family:Menlo,'DejaVu Sans Mono',consolas,'Courier New',monospace\"><span style=\"color: #7fbfbf; text-decoration-color: #7fbfbf\">                    </span><span style=\"color: #008000; text-decoration-color: #008000\">INFO    </span> Animation <span style=\"color: #008000; text-decoration-color: #008000\">36</span> : Partial movie file       <a href=\"file://D:\\Python39\\lib\\site-packages\\manim\\scene\\scene_file_writer.py\"><span style=\"color: #7f7f7f; text-decoration-color: #7f7f7f\">scene_file_writer.py</span></a><span style=\"color: #7f7f7f; text-decoration-color: #7f7f7f\">:</span><a href=\"file://D:\\Python39\\lib\\site-packages\\manim\\scene\\scene_file_writer.py#514\"><span style=\"color: #7f7f7f; text-decoration-color: #7f7f7f\">514</span></a>\n",
       "                             written in                                                      \n",
       "                             <span style=\"color: #008000; text-decoration-color: #008000\">'D:\\Programming\\Python\\jupyter </span>                                 \n",
       "                             <span style=\"color: #008000; text-decoration-color: #008000\">notebooks\\media\\videos\\jupyter notebook</span>                         \n",
       "                             <span style=\"color: #008000; text-decoration-color: #008000\">s\\480p15\\partial_movie_files\\CircleToSq</span>                         \n",
       "                             <span style=\"color: #008000; text-decoration-color: #008000\">uare\\1495979052_853153978_532165930.mp4</span>                         \n",
       "                             <span style=\"color: #008000; text-decoration-color: #008000\">'</span>                                                               \n",
       "</pre>\n"
      ],
      "text/plain": [
       "\u001b[2;36m                   \u001b[0m\u001b[2;36m \u001b[0m\u001b[32mINFO    \u001b[0m Animation \u001b[32m36\u001b[0m : Partial movie file       \u001b]8;id=938002;file://D:\\Python39\\lib\\site-packages\\manim\\scene\\scene_file_writer.py\u001b\\\u001b[2mscene_file_writer.py\u001b[0m\u001b]8;;\u001b\\\u001b[2m:\u001b[0m\u001b]8;id=254723;file://D:\\Python39\\lib\\site-packages\\manim\\scene\\scene_file_writer.py#514\u001b\\\u001b[2m514\u001b[0m\u001b]8;;\u001b\\\n",
       "                             written in                                                      \n",
       "                             \u001b[32m'D:\\Programming\\Python\\jupyter \u001b[0m                                 \n",
       "                             \u001b[32mnotebooks\\media\\videos\\jupyter notebook\u001b[0m                         \n",
       "                             \u001b[32ms\\480p15\\partial_movie_files\\CircleToSq\u001b[0m                         \n",
       "                             \u001b[32muare\\1495979052_853153978_532165930.mp4\u001b[0m                         \n",
       "                             \u001b[32m'\u001b[0m                                                               \n"
      ]
     },
     "metadata": {},
     "output_type": "display_data"
    },
    {
     "name": "stderr",
     "output_type": "stream",
     "text": [
      "                                                                  \r"
     ]
    },
    {
     "data": {
      "text/html": [
       "<pre style=\"white-space:pre;overflow-x:auto;line-height:normal;font-family:Menlo,'DejaVu Sans Mono',consolas,'Courier New',monospace\"><span style=\"color: #7fbfbf; text-decoration-color: #7fbfbf\">[02/09/22 14:02:55] </span><span style=\"color: #008000; text-decoration-color: #008000\">INFO    </span> Animation <span style=\"color: #008000; text-decoration-color: #008000\">37</span> : Partial movie file       <a href=\"file://D:\\Python39\\lib\\site-packages\\manim\\scene\\scene_file_writer.py\"><span style=\"color: #7f7f7f; text-decoration-color: #7f7f7f\">scene_file_writer.py</span></a><span style=\"color: #7f7f7f; text-decoration-color: #7f7f7f\">:</span><a href=\"file://D:\\Python39\\lib\\site-packages\\manim\\scene\\scene_file_writer.py#514\"><span style=\"color: #7f7f7f; text-decoration-color: #7f7f7f\">514</span></a>\n",
       "                             written in                                                      \n",
       "                             <span style=\"color: #008000; text-decoration-color: #008000\">'D:\\Programming\\Python\\jupyter </span>                                 \n",
       "                             <span style=\"color: #008000; text-decoration-color: #008000\">notebooks\\media\\videos\\jupyter notebook</span>                         \n",
       "                             <span style=\"color: #008000; text-decoration-color: #008000\">s\\480p15\\partial_movie_files\\CircleToSq</span>                         \n",
       "                             <span style=\"color: #008000; text-decoration-color: #008000\">uare\\2201830969_1038242067_424809868.mp</span>                         \n",
       "                             <span style=\"color: #008000; text-decoration-color: #008000\">4'</span>                                                              \n",
       "</pre>\n"
      ],
      "text/plain": [
       "\u001b[2;36m[02/09/22 14:02:55]\u001b[0m\u001b[2;36m \u001b[0m\u001b[32mINFO    \u001b[0m Animation \u001b[32m37\u001b[0m : Partial movie file       \u001b]8;id=529764;file://D:\\Python39\\lib\\site-packages\\manim\\scene\\scene_file_writer.py\u001b\\\u001b[2mscene_file_writer.py\u001b[0m\u001b]8;;\u001b\\\u001b[2m:\u001b[0m\u001b]8;id=619509;file://D:\\Python39\\lib\\site-packages\\manim\\scene\\scene_file_writer.py#514\u001b\\\u001b[2m514\u001b[0m\u001b]8;;\u001b\\\n",
       "                             written in                                                      \n",
       "                             \u001b[32m'D:\\Programming\\Python\\jupyter \u001b[0m                                 \n",
       "                             \u001b[32mnotebooks\\media\\videos\\jupyter notebook\u001b[0m                         \n",
       "                             \u001b[32ms\\480p15\\partial_movie_files\\CircleToSq\u001b[0m                         \n",
       "                             \u001b[32muare\\2201830969_1038242067_424809868.mp\u001b[0m                         \n",
       "                             \u001b[32m4'\u001b[0m                                                              \n"
      ]
     },
     "metadata": {},
     "output_type": "display_data"
    },
    {
     "name": "stderr",
     "output_type": "stream",
     "text": [
      "                                                                  \r"
     ]
    },
    {
     "data": {
      "text/html": [
       "<pre style=\"white-space:pre;overflow-x:auto;line-height:normal;font-family:Menlo,'DejaVu Sans Mono',consolas,'Courier New',monospace\"><span style=\"color: #7fbfbf; text-decoration-color: #7fbfbf\">                    </span><span style=\"color: #008000; text-decoration-color: #008000\">INFO    </span> Animation <span style=\"color: #008000; text-decoration-color: #008000\">38</span> : Partial movie file       <a href=\"file://D:\\Python39\\lib\\site-packages\\manim\\scene\\scene_file_writer.py\"><span style=\"color: #7f7f7f; text-decoration-color: #7f7f7f\">scene_file_writer.py</span></a><span style=\"color: #7f7f7f; text-decoration-color: #7f7f7f\">:</span><a href=\"file://D:\\Python39\\lib\\site-packages\\manim\\scene\\scene_file_writer.py#514\"><span style=\"color: #7f7f7f; text-decoration-color: #7f7f7f\">514</span></a>\n",
       "                             written in                                                      \n",
       "                             <span style=\"color: #008000; text-decoration-color: #008000\">'D:\\Programming\\Python\\jupyter </span>                                 \n",
       "                             <span style=\"color: #008000; text-decoration-color: #008000\">notebooks\\media\\videos\\jupyter notebook</span>                         \n",
       "                             <span style=\"color: #008000; text-decoration-color: #008000\">s\\480p15\\partial_movie_files\\CircleToSq</span>                         \n",
       "                             <span style=\"color: #008000; text-decoration-color: #008000\">uare\\2201830969_3596784881_2589100294.m</span>                         \n",
       "                             <span style=\"color: #008000; text-decoration-color: #008000\">p4'</span>                                                             \n",
       "</pre>\n"
      ],
      "text/plain": [
       "\u001b[2;36m                   \u001b[0m\u001b[2;36m \u001b[0m\u001b[32mINFO    \u001b[0m Animation \u001b[32m38\u001b[0m : Partial movie file       \u001b]8;id=10867;file://D:\\Python39\\lib\\site-packages\\manim\\scene\\scene_file_writer.py\u001b\\\u001b[2mscene_file_writer.py\u001b[0m\u001b]8;;\u001b\\\u001b[2m:\u001b[0m\u001b]8;id=904960;file://D:\\Python39\\lib\\site-packages\\manim\\scene\\scene_file_writer.py#514\u001b\\\u001b[2m514\u001b[0m\u001b]8;;\u001b\\\n",
       "                             written in                                                      \n",
       "                             \u001b[32m'D:\\Programming\\Python\\jupyter \u001b[0m                                 \n",
       "                             \u001b[32mnotebooks\\media\\videos\\jupyter notebook\u001b[0m                         \n",
       "                             \u001b[32ms\\480p15\\partial_movie_files\\CircleToSq\u001b[0m                         \n",
       "                             \u001b[32muare\\2201830969_3596784881_2589100294.m\u001b[0m                         \n",
       "                             \u001b[32mp4'\u001b[0m                                                             \n"
      ]
     },
     "metadata": {},
     "output_type": "display_data"
    },
    {
     "name": "stderr",
     "output_type": "stream",
     "text": [
      "                                                                  \r"
     ]
    },
    {
     "data": {
      "text/html": [
       "<pre style=\"white-space:pre;overflow-x:auto;line-height:normal;font-family:Menlo,'DejaVu Sans Mono',consolas,'Courier New',monospace\"><span style=\"color: #7fbfbf; text-decoration-color: #7fbfbf\">                    </span><span style=\"color: #008000; text-decoration-color: #008000\">INFO    </span> Animation <span style=\"color: #008000; text-decoration-color: #008000\">39</span> : Partial movie file       <a href=\"file://D:\\Python39\\lib\\site-packages\\manim\\scene\\scene_file_writer.py\"><span style=\"color: #7f7f7f; text-decoration-color: #7f7f7f\">scene_file_writer.py</span></a><span style=\"color: #7f7f7f; text-decoration-color: #7f7f7f\">:</span><a href=\"file://D:\\Python39\\lib\\site-packages\\manim\\scene\\scene_file_writer.py#514\"><span style=\"color: #7f7f7f; text-decoration-color: #7f7f7f\">514</span></a>\n",
       "                             written in                                                      \n",
       "                             <span style=\"color: #008000; text-decoration-color: #008000\">'D:\\Programming\\Python\\jupyter </span>                                 \n",
       "                             <span style=\"color: #008000; text-decoration-color: #008000\">notebooks\\media\\videos\\jupyter notebook</span>                         \n",
       "                             <span style=\"color: #008000; text-decoration-color: #008000\">s\\480p15\\partial_movie_files\\CircleToSq</span>                         \n",
       "                             <span style=\"color: #008000; text-decoration-color: #008000\">uare\\2201830969_1483297686_2139501771.m</span>                         \n",
       "                             <span style=\"color: #008000; text-decoration-color: #008000\">p4'</span>                                                             \n",
       "</pre>\n"
      ],
      "text/plain": [
       "\u001b[2;36m                   \u001b[0m\u001b[2;36m \u001b[0m\u001b[32mINFO    \u001b[0m Animation \u001b[32m39\u001b[0m : Partial movie file       \u001b]8;id=617947;file://D:\\Python39\\lib\\site-packages\\manim\\scene\\scene_file_writer.py\u001b\\\u001b[2mscene_file_writer.py\u001b[0m\u001b]8;;\u001b\\\u001b[2m:\u001b[0m\u001b]8;id=168289;file://D:\\Python39\\lib\\site-packages\\manim\\scene\\scene_file_writer.py#514\u001b\\\u001b[2m514\u001b[0m\u001b]8;;\u001b\\\n",
       "                             written in                                                      \n",
       "                             \u001b[32m'D:\\Programming\\Python\\jupyter \u001b[0m                                 \n",
       "                             \u001b[32mnotebooks\\media\\videos\\jupyter notebook\u001b[0m                         \n",
       "                             \u001b[32ms\\480p15\\partial_movie_files\\CircleToSq\u001b[0m                         \n",
       "                             \u001b[32muare\\2201830969_1483297686_2139501771.m\u001b[0m                         \n",
       "                             \u001b[32mp4'\u001b[0m                                                             \n"
      ]
     },
     "metadata": {},
     "output_type": "display_data"
    },
    {
     "name": "stderr",
     "output_type": "stream",
     "text": [
      "                                                                  \r"
     ]
    },
    {
     "data": {
      "text/html": [
       "<pre style=\"white-space:pre;overflow-x:auto;line-height:normal;font-family:Menlo,'DejaVu Sans Mono',consolas,'Courier New',monospace\"><span style=\"color: #7fbfbf; text-decoration-color: #7fbfbf\">                    </span><span style=\"color: #008000; text-decoration-color: #008000\">INFO    </span> Animation <span style=\"color: #008000; text-decoration-color: #008000\">40</span> : Partial movie file       <a href=\"file://D:\\Python39\\lib\\site-packages\\manim\\scene\\scene_file_writer.py\"><span style=\"color: #7f7f7f; text-decoration-color: #7f7f7f\">scene_file_writer.py</span></a><span style=\"color: #7f7f7f; text-decoration-color: #7f7f7f\">:</span><a href=\"file://D:\\Python39\\lib\\site-packages\\manim\\scene\\scene_file_writer.py#514\"><span style=\"color: #7f7f7f; text-decoration-color: #7f7f7f\">514</span></a>\n",
       "                             written in                                                      \n",
       "                             <span style=\"color: #008000; text-decoration-color: #008000\">'D:\\Programming\\Python\\jupyter </span>                                 \n",
       "                             <span style=\"color: #008000; text-decoration-color: #008000\">notebooks\\media\\videos\\jupyter notebook</span>                         \n",
       "                             <span style=\"color: #008000; text-decoration-color: #008000\">s\\480p15\\partial_movie_files\\CircleToSq</span>                         \n",
       "                             <span style=\"color: #008000; text-decoration-color: #008000\">uare\\2201830969_1411113708_1120201669.m</span>                         \n",
       "                             <span style=\"color: #008000; text-decoration-color: #008000\">p4'</span>                                                             \n",
       "</pre>\n"
      ],
      "text/plain": [
       "\u001b[2;36m                   \u001b[0m\u001b[2;36m \u001b[0m\u001b[32mINFO    \u001b[0m Animation \u001b[32m40\u001b[0m : Partial movie file       \u001b]8;id=203508;file://D:\\Python39\\lib\\site-packages\\manim\\scene\\scene_file_writer.py\u001b\\\u001b[2mscene_file_writer.py\u001b[0m\u001b]8;;\u001b\\\u001b[2m:\u001b[0m\u001b]8;id=488782;file://D:\\Python39\\lib\\site-packages\\manim\\scene\\scene_file_writer.py#514\u001b\\\u001b[2m514\u001b[0m\u001b]8;;\u001b\\\n",
       "                             written in                                                      \n",
       "                             \u001b[32m'D:\\Programming\\Python\\jupyter \u001b[0m                                 \n",
       "                             \u001b[32mnotebooks\\media\\videos\\jupyter notebook\u001b[0m                         \n",
       "                             \u001b[32ms\\480p15\\partial_movie_files\\CircleToSq\u001b[0m                         \n",
       "                             \u001b[32muare\\2201830969_1411113708_1120201669.m\u001b[0m                         \n",
       "                             \u001b[32mp4'\u001b[0m                                                             \n"
      ]
     },
     "metadata": {},
     "output_type": "display_data"
    },
    {
     "name": "stderr",
     "output_type": "stream",
     "text": [
      "                                                                  \r"
     ]
    },
    {
     "data": {
      "text/html": [
       "<pre style=\"white-space:pre;overflow-x:auto;line-height:normal;font-family:Menlo,'DejaVu Sans Mono',consolas,'Courier New',monospace\"><span style=\"color: #7fbfbf; text-decoration-color: #7fbfbf\">                    </span><span style=\"color: #008000; text-decoration-color: #008000\">INFO    </span> Animation <span style=\"color: #008000; text-decoration-color: #008000\">41</span> : Partial movie file       <a href=\"file://D:\\Python39\\lib\\site-packages\\manim\\scene\\scene_file_writer.py\"><span style=\"color: #7f7f7f; text-decoration-color: #7f7f7f\">scene_file_writer.py</span></a><span style=\"color: #7f7f7f; text-decoration-color: #7f7f7f\">:</span><a href=\"file://D:\\Python39\\lib\\site-packages\\manim\\scene\\scene_file_writer.py#514\"><span style=\"color: #7f7f7f; text-decoration-color: #7f7f7f\">514</span></a>\n",
       "                             written in                                                      \n",
       "                             <span style=\"color: #008000; text-decoration-color: #008000\">'D:\\Programming\\Python\\jupyter </span>                                 \n",
       "                             <span style=\"color: #008000; text-decoration-color: #008000\">notebooks\\media\\videos\\jupyter notebook</span>                         \n",
       "                             <span style=\"color: #008000; text-decoration-color: #008000\">s\\480p15\\partial_movie_files\\CircleToSq</span>                         \n",
       "                             <span style=\"color: #008000; text-decoration-color: #008000\">uare\\2201830969_3943093505_3829135029.m</span>                         \n",
       "                             <span style=\"color: #008000; text-decoration-color: #008000\">p4'</span>                                                             \n",
       "</pre>\n"
      ],
      "text/plain": [
       "\u001b[2;36m                   \u001b[0m\u001b[2;36m \u001b[0m\u001b[32mINFO    \u001b[0m Animation \u001b[32m41\u001b[0m : Partial movie file       \u001b]8;id=415337;file://D:\\Python39\\lib\\site-packages\\manim\\scene\\scene_file_writer.py\u001b\\\u001b[2mscene_file_writer.py\u001b[0m\u001b]8;;\u001b\\\u001b[2m:\u001b[0m\u001b]8;id=899377;file://D:\\Python39\\lib\\site-packages\\manim\\scene\\scene_file_writer.py#514\u001b\\\u001b[2m514\u001b[0m\u001b]8;;\u001b\\\n",
       "                             written in                                                      \n",
       "                             \u001b[32m'D:\\Programming\\Python\\jupyter \u001b[0m                                 \n",
       "                             \u001b[32mnotebooks\\media\\videos\\jupyter notebook\u001b[0m                         \n",
       "                             \u001b[32ms\\480p15\\partial_movie_files\\CircleToSq\u001b[0m                         \n",
       "                             \u001b[32muare\\2201830969_3943093505_3829135029.m\u001b[0m                         \n",
       "                             \u001b[32mp4'\u001b[0m                                                             \n"
      ]
     },
     "metadata": {},
     "output_type": "display_data"
    },
    {
     "name": "stderr",
     "output_type": "stream",
     "text": [
      "                                                                  \r"
     ]
    },
    {
     "data": {
      "text/html": [
       "<pre style=\"white-space:pre;overflow-x:auto;line-height:normal;font-family:Menlo,'DejaVu Sans Mono',consolas,'Courier New',monospace\"><span style=\"color: #7fbfbf; text-decoration-color: #7fbfbf\">[02/09/22 14:02:56] </span><span style=\"color: #008000; text-decoration-color: #008000\">INFO    </span> Animation <span style=\"color: #008000; text-decoration-color: #008000\">42</span> : Partial movie file       <a href=\"file://D:\\Python39\\lib\\site-packages\\manim\\scene\\scene_file_writer.py\"><span style=\"color: #7f7f7f; text-decoration-color: #7f7f7f\">scene_file_writer.py</span></a><span style=\"color: #7f7f7f; text-decoration-color: #7f7f7f\">:</span><a href=\"file://D:\\Python39\\lib\\site-packages\\manim\\scene\\scene_file_writer.py#514\"><span style=\"color: #7f7f7f; text-decoration-color: #7f7f7f\">514</span></a>\n",
       "                             written in                                                      \n",
       "                             <span style=\"color: #008000; text-decoration-color: #008000\">'D:\\Programming\\Python\\jupyter </span>                                 \n",
       "                             <span style=\"color: #008000; text-decoration-color: #008000\">notebooks\\media\\videos\\jupyter notebook</span>                         \n",
       "                             <span style=\"color: #008000; text-decoration-color: #008000\">s\\480p15\\partial_movie_files\\CircleToSq</span>                         \n",
       "                             <span style=\"color: #008000; text-decoration-color: #008000\">uare\\2201830969_3159840023_3087363540.m</span>                         \n",
       "                             <span style=\"color: #008000; text-decoration-color: #008000\">p4'</span>                                                             \n",
       "</pre>\n"
      ],
      "text/plain": [
       "\u001b[2;36m[02/09/22 14:02:56]\u001b[0m\u001b[2;36m \u001b[0m\u001b[32mINFO    \u001b[0m Animation \u001b[32m42\u001b[0m : Partial movie file       \u001b]8;id=16093;file://D:\\Python39\\lib\\site-packages\\manim\\scene\\scene_file_writer.py\u001b\\\u001b[2mscene_file_writer.py\u001b[0m\u001b]8;;\u001b\\\u001b[2m:\u001b[0m\u001b]8;id=20946;file://D:\\Python39\\lib\\site-packages\\manim\\scene\\scene_file_writer.py#514\u001b\\\u001b[2m514\u001b[0m\u001b]8;;\u001b\\\n",
       "                             written in                                                      \n",
       "                             \u001b[32m'D:\\Programming\\Python\\jupyter \u001b[0m                                 \n",
       "                             \u001b[32mnotebooks\\media\\videos\\jupyter notebook\u001b[0m                         \n",
       "                             \u001b[32ms\\480p15\\partial_movie_files\\CircleToSq\u001b[0m                         \n",
       "                             \u001b[32muare\\2201830969_3159840023_3087363540.m\u001b[0m                         \n",
       "                             \u001b[32mp4'\u001b[0m                                                             \n"
      ]
     },
     "metadata": {},
     "output_type": "display_data"
    },
    {
     "name": "stderr",
     "output_type": "stream",
     "text": [
      "                                                                  \r"
     ]
    },
    {
     "data": {
      "text/html": [
       "<pre style=\"white-space:pre;overflow-x:auto;line-height:normal;font-family:Menlo,'DejaVu Sans Mono',consolas,'Courier New',monospace\"><span style=\"color: #7fbfbf; text-decoration-color: #7fbfbf\">                    </span><span style=\"color: #008000; text-decoration-color: #008000\">INFO    </span> Animation <span style=\"color: #008000; text-decoration-color: #008000\">43</span> : Partial movie file       <a href=\"file://D:\\Python39\\lib\\site-packages\\manim\\scene\\scene_file_writer.py\"><span style=\"color: #7f7f7f; text-decoration-color: #7f7f7f\">scene_file_writer.py</span></a><span style=\"color: #7f7f7f; text-decoration-color: #7f7f7f\">:</span><a href=\"file://D:\\Python39\\lib\\site-packages\\manim\\scene\\scene_file_writer.py#514\"><span style=\"color: #7f7f7f; text-decoration-color: #7f7f7f\">514</span></a>\n",
       "                             written in                                                      \n",
       "                             <span style=\"color: #008000; text-decoration-color: #008000\">'D:\\Programming\\Python\\jupyter </span>                                 \n",
       "                             <span style=\"color: #008000; text-decoration-color: #008000\">notebooks\\media\\videos\\jupyter notebook</span>                         \n",
       "                             <span style=\"color: #008000; text-decoration-color: #008000\">s\\480p15\\partial_movie_files\\CircleToSq</span>                         \n",
       "                             <span style=\"color: #008000; text-decoration-color: #008000\">uare\\2201830969_3394117051_1931654031.m</span>                         \n",
       "                             <span style=\"color: #008000; text-decoration-color: #008000\">p4'</span>                                                             \n",
       "</pre>\n"
      ],
      "text/plain": [
       "\u001b[2;36m                   \u001b[0m\u001b[2;36m \u001b[0m\u001b[32mINFO    \u001b[0m Animation \u001b[32m43\u001b[0m : Partial movie file       \u001b]8;id=209648;file://D:\\Python39\\lib\\site-packages\\manim\\scene\\scene_file_writer.py\u001b\\\u001b[2mscene_file_writer.py\u001b[0m\u001b]8;;\u001b\\\u001b[2m:\u001b[0m\u001b]8;id=133735;file://D:\\Python39\\lib\\site-packages\\manim\\scene\\scene_file_writer.py#514\u001b\\\u001b[2m514\u001b[0m\u001b]8;;\u001b\\\n",
       "                             written in                                                      \n",
       "                             \u001b[32m'D:\\Programming\\Python\\jupyter \u001b[0m                                 \n",
       "                             \u001b[32mnotebooks\\media\\videos\\jupyter notebook\u001b[0m                         \n",
       "                             \u001b[32ms\\480p15\\partial_movie_files\\CircleToSq\u001b[0m                         \n",
       "                             \u001b[32muare\\2201830969_3394117051_1931654031.m\u001b[0m                         \n",
       "                             \u001b[32mp4'\u001b[0m                                                             \n"
      ]
     },
     "metadata": {},
     "output_type": "display_data"
    },
    {
     "name": "stderr",
     "output_type": "stream",
     "text": [
      "                                                                  \r"
     ]
    },
    {
     "data": {
      "text/html": [
       "<pre style=\"white-space:pre;overflow-x:auto;line-height:normal;font-family:Menlo,'DejaVu Sans Mono',consolas,'Courier New',monospace\"><span style=\"color: #7fbfbf; text-decoration-color: #7fbfbf\">                    </span><span style=\"color: #008000; text-decoration-color: #008000\">INFO    </span> Animation <span style=\"color: #008000; text-decoration-color: #008000\">44</span> : Partial movie file       <a href=\"file://D:\\Python39\\lib\\site-packages\\manim\\scene\\scene_file_writer.py\"><span style=\"color: #7f7f7f; text-decoration-color: #7f7f7f\">scene_file_writer.py</span></a><span style=\"color: #7f7f7f; text-decoration-color: #7f7f7f\">:</span><a href=\"file://D:\\Python39\\lib\\site-packages\\manim\\scene\\scene_file_writer.py#514\"><span style=\"color: #7f7f7f; text-decoration-color: #7f7f7f\">514</span></a>\n",
       "                             written in                                                      \n",
       "                             <span style=\"color: #008000; text-decoration-color: #008000\">'D:\\Programming\\Python\\jupyter </span>                                 \n",
       "                             <span style=\"color: #008000; text-decoration-color: #008000\">notebooks\\media\\videos\\jupyter notebook</span>                         \n",
       "                             <span style=\"color: #008000; text-decoration-color: #008000\">s\\480p15\\partial_movie_files\\CircleToSq</span>                         \n",
       "                             <span style=\"color: #008000; text-decoration-color: #008000\">uare\\2201830969_1077106412_3861836114.m</span>                         \n",
       "                             <span style=\"color: #008000; text-decoration-color: #008000\">p4'</span>                                                             \n",
       "</pre>\n"
      ],
      "text/plain": [
       "\u001b[2;36m                   \u001b[0m\u001b[2;36m \u001b[0m\u001b[32mINFO    \u001b[0m Animation \u001b[32m44\u001b[0m : Partial movie file       \u001b]8;id=696053;file://D:\\Python39\\lib\\site-packages\\manim\\scene\\scene_file_writer.py\u001b\\\u001b[2mscene_file_writer.py\u001b[0m\u001b]8;;\u001b\\\u001b[2m:\u001b[0m\u001b]8;id=948177;file://D:\\Python39\\lib\\site-packages\\manim\\scene\\scene_file_writer.py#514\u001b\\\u001b[2m514\u001b[0m\u001b]8;;\u001b\\\n",
       "                             written in                                                      \n",
       "                             \u001b[32m'D:\\Programming\\Python\\jupyter \u001b[0m                                 \n",
       "                             \u001b[32mnotebooks\\media\\videos\\jupyter notebook\u001b[0m                         \n",
       "                             \u001b[32ms\\480p15\\partial_movie_files\\CircleToSq\u001b[0m                         \n",
       "                             \u001b[32muare\\2201830969_1077106412_3861836114.m\u001b[0m                         \n",
       "                             \u001b[32mp4'\u001b[0m                                                             \n"
      ]
     },
     "metadata": {},
     "output_type": "display_data"
    },
    {
     "name": "stderr",
     "output_type": "stream",
     "text": [
      "                                                                  \r"
     ]
    },
    {
     "data": {
      "text/html": [
       "<pre style=\"white-space:pre;overflow-x:auto;line-height:normal;font-family:Menlo,'DejaVu Sans Mono',consolas,'Courier New',monospace\"><span style=\"color: #7fbfbf; text-decoration-color: #7fbfbf\">[02/09/22 14:02:57] </span><span style=\"color: #008000; text-decoration-color: #008000\">INFO    </span> Animation <span style=\"color: #008000; text-decoration-color: #008000\">45</span> : Partial movie file       <a href=\"file://D:\\Python39\\lib\\site-packages\\manim\\scene\\scene_file_writer.py\"><span style=\"color: #7f7f7f; text-decoration-color: #7f7f7f\">scene_file_writer.py</span></a><span style=\"color: #7f7f7f; text-decoration-color: #7f7f7f\">:</span><a href=\"file://D:\\Python39\\lib\\site-packages\\manim\\scene\\scene_file_writer.py#514\"><span style=\"color: #7f7f7f; text-decoration-color: #7f7f7f\">514</span></a>\n",
       "                             written in                                                      \n",
       "                             <span style=\"color: #008000; text-decoration-color: #008000\">'D:\\Programming\\Python\\jupyter </span>                                 \n",
       "                             <span style=\"color: #008000; text-decoration-color: #008000\">notebooks\\media\\videos\\jupyter notebook</span>                         \n",
       "                             <span style=\"color: #008000; text-decoration-color: #008000\">s\\480p15\\partial_movie_files\\CircleToSq</span>                         \n",
       "                             <span style=\"color: #008000; text-decoration-color: #008000\">uare\\2201830969_4134379859_2864548112.m</span>                         \n",
       "                             <span style=\"color: #008000; text-decoration-color: #008000\">p4'</span>                                                             \n",
       "</pre>\n"
      ],
      "text/plain": [
       "\u001b[2;36m[02/09/22 14:02:57]\u001b[0m\u001b[2;36m \u001b[0m\u001b[32mINFO    \u001b[0m Animation \u001b[32m45\u001b[0m : Partial movie file       \u001b]8;id=765914;file://D:\\Python39\\lib\\site-packages\\manim\\scene\\scene_file_writer.py\u001b\\\u001b[2mscene_file_writer.py\u001b[0m\u001b]8;;\u001b\\\u001b[2m:\u001b[0m\u001b]8;id=69155;file://D:\\Python39\\lib\\site-packages\\manim\\scene\\scene_file_writer.py#514\u001b\\\u001b[2m514\u001b[0m\u001b]8;;\u001b\\\n",
       "                             written in                                                      \n",
       "                             \u001b[32m'D:\\Programming\\Python\\jupyter \u001b[0m                                 \n",
       "                             \u001b[32mnotebooks\\media\\videos\\jupyter notebook\u001b[0m                         \n",
       "                             \u001b[32ms\\480p15\\partial_movie_files\\CircleToSq\u001b[0m                         \n",
       "                             \u001b[32muare\\2201830969_4134379859_2864548112.m\u001b[0m                         \n",
       "                             \u001b[32mp4'\u001b[0m                                                             \n"
      ]
     },
     "metadata": {},
     "output_type": "display_data"
    },
    {
     "name": "stderr",
     "output_type": "stream",
     "text": [
      "                                                                  \r"
     ]
    },
    {
     "data": {
      "text/html": [
       "<pre style=\"white-space:pre;overflow-x:auto;line-height:normal;font-family:Menlo,'DejaVu Sans Mono',consolas,'Courier New',monospace\"><span style=\"color: #7fbfbf; text-decoration-color: #7fbfbf\">                    </span><span style=\"color: #008000; text-decoration-color: #008000\">INFO    </span> Animation <span style=\"color: #008000; text-decoration-color: #008000\">46</span> : Partial movie file       <a href=\"file://D:\\Python39\\lib\\site-packages\\manim\\scene\\scene_file_writer.py\"><span style=\"color: #7f7f7f; text-decoration-color: #7f7f7f\">scene_file_writer.py</span></a><span style=\"color: #7f7f7f; text-decoration-color: #7f7f7f\">:</span><a href=\"file://D:\\Python39\\lib\\site-packages\\manim\\scene\\scene_file_writer.py#514\"><span style=\"color: #7f7f7f; text-decoration-color: #7f7f7f\">514</span></a>\n",
       "                             written in                                                      \n",
       "                             <span style=\"color: #008000; text-decoration-color: #008000\">'D:\\Programming\\Python\\jupyter </span>                                 \n",
       "                             <span style=\"color: #008000; text-decoration-color: #008000\">notebooks\\media\\videos\\jupyter notebook</span>                         \n",
       "                             <span style=\"color: #008000; text-decoration-color: #008000\">s\\480p15\\partial_movie_files\\CircleToSq</span>                         \n",
       "                             <span style=\"color: #008000; text-decoration-color: #008000\">uare\\2201830969_1840740368_798427653.mp</span>                         \n",
       "                             <span style=\"color: #008000; text-decoration-color: #008000\">4'</span>                                                              \n",
       "</pre>\n"
      ],
      "text/plain": [
       "\u001b[2;36m                   \u001b[0m\u001b[2;36m \u001b[0m\u001b[32mINFO    \u001b[0m Animation \u001b[32m46\u001b[0m : Partial movie file       \u001b]8;id=752376;file://D:\\Python39\\lib\\site-packages\\manim\\scene\\scene_file_writer.py\u001b\\\u001b[2mscene_file_writer.py\u001b[0m\u001b]8;;\u001b\\\u001b[2m:\u001b[0m\u001b]8;id=915889;file://D:\\Python39\\lib\\site-packages\\manim\\scene\\scene_file_writer.py#514\u001b\\\u001b[2m514\u001b[0m\u001b]8;;\u001b\\\n",
       "                             written in                                                      \n",
       "                             \u001b[32m'D:\\Programming\\Python\\jupyter \u001b[0m                                 \n",
       "                             \u001b[32mnotebooks\\media\\videos\\jupyter notebook\u001b[0m                         \n",
       "                             \u001b[32ms\\480p15\\partial_movie_files\\CircleToSq\u001b[0m                         \n",
       "                             \u001b[32muare\\2201830969_1840740368_798427653.mp\u001b[0m                         \n",
       "                             \u001b[32m4'\u001b[0m                                                              \n"
      ]
     },
     "metadata": {},
     "output_type": "display_data"
    },
    {
     "name": "stderr",
     "output_type": "stream",
     "text": [
      "                                                                  \r"
     ]
    },
    {
     "data": {
      "text/html": [
       "<pre style=\"white-space:pre;overflow-x:auto;line-height:normal;font-family:Menlo,'DejaVu Sans Mono',consolas,'Courier New',monospace\"><span style=\"color: #7fbfbf; text-decoration-color: #7fbfbf\">                    </span><span style=\"color: #008000; text-decoration-color: #008000\">INFO    </span> Animation <span style=\"color: #008000; text-decoration-color: #008000\">47</span> : Partial movie file       <a href=\"file://D:\\Python39\\lib\\site-packages\\manim\\scene\\scene_file_writer.py\"><span style=\"color: #7f7f7f; text-decoration-color: #7f7f7f\">scene_file_writer.py</span></a><span style=\"color: #7f7f7f; text-decoration-color: #7f7f7f\">:</span><a href=\"file://D:\\Python39\\lib\\site-packages\\manim\\scene\\scene_file_writer.py#514\"><span style=\"color: #7f7f7f; text-decoration-color: #7f7f7f\">514</span></a>\n",
       "                             written in                                                      \n",
       "                             <span style=\"color: #008000; text-decoration-color: #008000\">'D:\\Programming\\Python\\jupyter </span>                                 \n",
       "                             <span style=\"color: #008000; text-decoration-color: #008000\">notebooks\\media\\videos\\jupyter notebook</span>                         \n",
       "                             <span style=\"color: #008000; text-decoration-color: #008000\">s\\480p15\\partial_movie_files\\CircleToSq</span>                         \n",
       "                             <span style=\"color: #008000; text-decoration-color: #008000\">uare\\2201830969_737679601_3227093299.mp</span>                         \n",
       "                             <span style=\"color: #008000; text-decoration-color: #008000\">4'</span>                                                              \n",
       "</pre>\n"
      ],
      "text/plain": [
       "\u001b[2;36m                   \u001b[0m\u001b[2;36m \u001b[0m\u001b[32mINFO    \u001b[0m Animation \u001b[32m47\u001b[0m : Partial movie file       \u001b]8;id=56715;file://D:\\Python39\\lib\\site-packages\\manim\\scene\\scene_file_writer.py\u001b\\\u001b[2mscene_file_writer.py\u001b[0m\u001b]8;;\u001b\\\u001b[2m:\u001b[0m\u001b]8;id=501356;file://D:\\Python39\\lib\\site-packages\\manim\\scene\\scene_file_writer.py#514\u001b\\\u001b[2m514\u001b[0m\u001b]8;;\u001b\\\n",
       "                             written in                                                      \n",
       "                             \u001b[32m'D:\\Programming\\Python\\jupyter \u001b[0m                                 \n",
       "                             \u001b[32mnotebooks\\media\\videos\\jupyter notebook\u001b[0m                         \n",
       "                             \u001b[32ms\\480p15\\partial_movie_files\\CircleToSq\u001b[0m                         \n",
       "                             \u001b[32muare\\2201830969_737679601_3227093299.mp\u001b[0m                         \n",
       "                             \u001b[32m4'\u001b[0m                                                              \n"
      ]
     },
     "metadata": {},
     "output_type": "display_data"
    },
    {
     "name": "stderr",
     "output_type": "stream",
     "text": [
      "                                                                  \r"
     ]
    },
    {
     "data": {
      "text/html": [
       "<pre style=\"white-space:pre;overflow-x:auto;line-height:normal;font-family:Menlo,'DejaVu Sans Mono',consolas,'Courier New',monospace\"><span style=\"color: #7fbfbf; text-decoration-color: #7fbfbf\">[02/09/22 14:02:58] </span><span style=\"color: #008000; text-decoration-color: #008000\">INFO    </span> Animation <span style=\"color: #008000; text-decoration-color: #008000\">48</span> : Partial movie file       <a href=\"file://D:\\Python39\\lib\\site-packages\\manim\\scene\\scene_file_writer.py\"><span style=\"color: #7f7f7f; text-decoration-color: #7f7f7f\">scene_file_writer.py</span></a><span style=\"color: #7f7f7f; text-decoration-color: #7f7f7f\">:</span><a href=\"file://D:\\Python39\\lib\\site-packages\\manim\\scene\\scene_file_writer.py#514\"><span style=\"color: #7f7f7f; text-decoration-color: #7f7f7f\">514</span></a>\n",
       "                             written in                                                      \n",
       "                             <span style=\"color: #008000; text-decoration-color: #008000\">'D:\\Programming\\Python\\jupyter </span>                                 \n",
       "                             <span style=\"color: #008000; text-decoration-color: #008000\">notebooks\\media\\videos\\jupyter notebook</span>                         \n",
       "                             <span style=\"color: #008000; text-decoration-color: #008000\">s\\480p15\\partial_movie_files\\CircleToSq</span>                         \n",
       "                             <span style=\"color: #008000; text-decoration-color: #008000\">uare\\2201830969_1220320199_1373163619.m</span>                         \n",
       "                             <span style=\"color: #008000; text-decoration-color: #008000\">p4'</span>                                                             \n",
       "</pre>\n"
      ],
      "text/plain": [
       "\u001b[2;36m[02/09/22 14:02:58]\u001b[0m\u001b[2;36m \u001b[0m\u001b[32mINFO    \u001b[0m Animation \u001b[32m48\u001b[0m : Partial movie file       \u001b]8;id=179102;file://D:\\Python39\\lib\\site-packages\\manim\\scene\\scene_file_writer.py\u001b\\\u001b[2mscene_file_writer.py\u001b[0m\u001b]8;;\u001b\\\u001b[2m:\u001b[0m\u001b]8;id=357148;file://D:\\Python39\\lib\\site-packages\\manim\\scene\\scene_file_writer.py#514\u001b\\\u001b[2m514\u001b[0m\u001b]8;;\u001b\\\n",
       "                             written in                                                      \n",
       "                             \u001b[32m'D:\\Programming\\Python\\jupyter \u001b[0m                                 \n",
       "                             \u001b[32mnotebooks\\media\\videos\\jupyter notebook\u001b[0m                         \n",
       "                             \u001b[32ms\\480p15\\partial_movie_files\\CircleToSq\u001b[0m                         \n",
       "                             \u001b[32muare\\2201830969_1220320199_1373163619.m\u001b[0m                         \n",
       "                             \u001b[32mp4'\u001b[0m                                                             \n"
      ]
     },
     "metadata": {},
     "output_type": "display_data"
    },
    {
     "name": "stderr",
     "output_type": "stream",
     "text": [
      "                                                                  \r"
     ]
    },
    {
     "data": {
      "text/html": [
       "<pre style=\"white-space:pre;overflow-x:auto;line-height:normal;font-family:Menlo,'DejaVu Sans Mono',consolas,'Courier New',monospace\"><span style=\"color: #7fbfbf; text-decoration-color: #7fbfbf\">                    </span><span style=\"color: #008000; text-decoration-color: #008000\">INFO    </span> Animation <span style=\"color: #008000; text-decoration-color: #008000\">49</span> : Partial movie file       <a href=\"file://D:\\Python39\\lib\\site-packages\\manim\\scene\\scene_file_writer.py\"><span style=\"color: #7f7f7f; text-decoration-color: #7f7f7f\">scene_file_writer.py</span></a><span style=\"color: #7f7f7f; text-decoration-color: #7f7f7f\">:</span><a href=\"file://D:\\Python39\\lib\\site-packages\\manim\\scene\\scene_file_writer.py#514\"><span style=\"color: #7f7f7f; text-decoration-color: #7f7f7f\">514</span></a>\n",
       "                             written in                                                      \n",
       "                             <span style=\"color: #008000; text-decoration-color: #008000\">'D:\\Programming\\Python\\jupyter </span>                                 \n",
       "                             <span style=\"color: #008000; text-decoration-color: #008000\">notebooks\\media\\videos\\jupyter notebook</span>                         \n",
       "                             <span style=\"color: #008000; text-decoration-color: #008000\">s\\480p15\\partial_movie_files\\CircleToSq</span>                         \n",
       "                             <span style=\"color: #008000; text-decoration-color: #008000\">uare\\2201830969_1066376099_2243474256.m</span>                         \n",
       "                             <span style=\"color: #008000; text-decoration-color: #008000\">p4'</span>                                                             \n",
       "</pre>\n"
      ],
      "text/plain": [
       "\u001b[2;36m                   \u001b[0m\u001b[2;36m \u001b[0m\u001b[32mINFO    \u001b[0m Animation \u001b[32m49\u001b[0m : Partial movie file       \u001b]8;id=468638;file://D:\\Python39\\lib\\site-packages\\manim\\scene\\scene_file_writer.py\u001b\\\u001b[2mscene_file_writer.py\u001b[0m\u001b]8;;\u001b\\\u001b[2m:\u001b[0m\u001b]8;id=167698;file://D:\\Python39\\lib\\site-packages\\manim\\scene\\scene_file_writer.py#514\u001b\\\u001b[2m514\u001b[0m\u001b]8;;\u001b\\\n",
       "                             written in                                                      \n",
       "                             \u001b[32m'D:\\Programming\\Python\\jupyter \u001b[0m                                 \n",
       "                             \u001b[32mnotebooks\\media\\videos\\jupyter notebook\u001b[0m                         \n",
       "                             \u001b[32ms\\480p15\\partial_movie_files\\CircleToSq\u001b[0m                         \n",
       "                             \u001b[32muare\\2201830969_1066376099_2243474256.m\u001b[0m                         \n",
       "                             \u001b[32mp4'\u001b[0m                                                             \n"
      ]
     },
     "metadata": {},
     "output_type": "display_data"
    },
    {
     "name": "stderr",
     "output_type": "stream",
     "text": [
      "                                                                  \r"
     ]
    },
    {
     "data": {
      "text/html": [
       "<pre style=\"white-space:pre;overflow-x:auto;line-height:normal;font-family:Menlo,'DejaVu Sans Mono',consolas,'Courier New',monospace\"><span style=\"color: #7fbfbf; text-decoration-color: #7fbfbf\">                    </span><span style=\"color: #008000; text-decoration-color: #008000\">INFO    </span> Animation <span style=\"color: #008000; text-decoration-color: #008000\">50</span> : Partial movie file       <a href=\"file://D:\\Python39\\lib\\site-packages\\manim\\scene\\scene_file_writer.py\"><span style=\"color: #7f7f7f; text-decoration-color: #7f7f7f\">scene_file_writer.py</span></a><span style=\"color: #7f7f7f; text-decoration-color: #7f7f7f\">:</span><a href=\"file://D:\\Python39\\lib\\site-packages\\manim\\scene\\scene_file_writer.py#514\"><span style=\"color: #7f7f7f; text-decoration-color: #7f7f7f\">514</span></a>\n",
       "                             written in                                                      \n",
       "                             <span style=\"color: #008000; text-decoration-color: #008000\">'D:\\Programming\\Python\\jupyter </span>                                 \n",
       "                             <span style=\"color: #008000; text-decoration-color: #008000\">notebooks\\media\\videos\\jupyter notebook</span>                         \n",
       "                             <span style=\"color: #008000; text-decoration-color: #008000\">s\\480p15\\partial_movie_files\\CircleToSq</span>                         \n",
       "                             <span style=\"color: #008000; text-decoration-color: #008000\">uare\\2201830969_2635853471_234044217.mp</span>                         \n",
       "                             <span style=\"color: #008000; text-decoration-color: #008000\">4'</span>                                                              \n",
       "</pre>\n"
      ],
      "text/plain": [
       "\u001b[2;36m                   \u001b[0m\u001b[2;36m \u001b[0m\u001b[32mINFO    \u001b[0m Animation \u001b[32m50\u001b[0m : Partial movie file       \u001b]8;id=633337;file://D:\\Python39\\lib\\site-packages\\manim\\scene\\scene_file_writer.py\u001b\\\u001b[2mscene_file_writer.py\u001b[0m\u001b]8;;\u001b\\\u001b[2m:\u001b[0m\u001b]8;id=713315;file://D:\\Python39\\lib\\site-packages\\manim\\scene\\scene_file_writer.py#514\u001b\\\u001b[2m514\u001b[0m\u001b]8;;\u001b\\\n",
       "                             written in                                                      \n",
       "                             \u001b[32m'D:\\Programming\\Python\\jupyter \u001b[0m                                 \n",
       "                             \u001b[32mnotebooks\\media\\videos\\jupyter notebook\u001b[0m                         \n",
       "                             \u001b[32ms\\480p15\\partial_movie_files\\CircleToSq\u001b[0m                         \n",
       "                             \u001b[32muare\\2201830969_2635853471_234044217.mp\u001b[0m                         \n",
       "                             \u001b[32m4'\u001b[0m                                                              \n"
      ]
     },
     "metadata": {},
     "output_type": "display_data"
    },
    {
     "name": "stderr",
     "output_type": "stream",
     "text": [
      "                                                                  \r"
     ]
    },
    {
     "data": {
      "text/html": [
       "<pre style=\"white-space:pre;overflow-x:auto;line-height:normal;font-family:Menlo,'DejaVu Sans Mono',consolas,'Courier New',monospace\"><span style=\"color: #7fbfbf; text-decoration-color: #7fbfbf\">                    </span><span style=\"color: #008000; text-decoration-color: #008000\">INFO    </span> Animation <span style=\"color: #008000; text-decoration-color: #008000\">51</span> : Partial movie file       <a href=\"file://D:\\Python39\\lib\\site-packages\\manim\\scene\\scene_file_writer.py\"><span style=\"color: #7f7f7f; text-decoration-color: #7f7f7f\">scene_file_writer.py</span></a><span style=\"color: #7f7f7f; text-decoration-color: #7f7f7f\">:</span><a href=\"file://D:\\Python39\\lib\\site-packages\\manim\\scene\\scene_file_writer.py#514\"><span style=\"color: #7f7f7f; text-decoration-color: #7f7f7f\">514</span></a>\n",
       "                             written in                                                      \n",
       "                             <span style=\"color: #008000; text-decoration-color: #008000\">'D:\\Programming\\Python\\jupyter </span>                                 \n",
       "                             <span style=\"color: #008000; text-decoration-color: #008000\">notebooks\\media\\videos\\jupyter notebook</span>                         \n",
       "                             <span style=\"color: #008000; text-decoration-color: #008000\">s\\480p15\\partial_movie_files\\CircleToSq</span>                         \n",
       "                             <span style=\"color: #008000; text-decoration-color: #008000\">uare\\2201830969_2975446815_17957140.mp4</span>                         \n",
       "                             <span style=\"color: #008000; text-decoration-color: #008000\">'</span>                                                               \n",
       "</pre>\n"
      ],
      "text/plain": [
       "\u001b[2;36m                   \u001b[0m\u001b[2;36m \u001b[0m\u001b[32mINFO    \u001b[0m Animation \u001b[32m51\u001b[0m : Partial movie file       \u001b]8;id=337064;file://D:\\Python39\\lib\\site-packages\\manim\\scene\\scene_file_writer.py\u001b\\\u001b[2mscene_file_writer.py\u001b[0m\u001b]8;;\u001b\\\u001b[2m:\u001b[0m\u001b]8;id=523346;file://D:\\Python39\\lib\\site-packages\\manim\\scene\\scene_file_writer.py#514\u001b\\\u001b[2m514\u001b[0m\u001b]8;;\u001b\\\n",
       "                             written in                                                      \n",
       "                             \u001b[32m'D:\\Programming\\Python\\jupyter \u001b[0m                                 \n",
       "                             \u001b[32mnotebooks\\media\\videos\\jupyter notebook\u001b[0m                         \n",
       "                             \u001b[32ms\\480p15\\partial_movie_files\\CircleToSq\u001b[0m                         \n",
       "                             \u001b[32muare\\2201830969_2975446815_17957140.mp4\u001b[0m                         \n",
       "                             \u001b[32m'\u001b[0m                                                               \n"
      ]
     },
     "metadata": {},
     "output_type": "display_data"
    },
    {
     "name": "stderr",
     "output_type": "stream",
     "text": [
      "                                                                  \r"
     ]
    },
    {
     "data": {
      "text/html": [
       "<pre style=\"white-space:pre;overflow-x:auto;line-height:normal;font-family:Menlo,'DejaVu Sans Mono',consolas,'Courier New',monospace\"><span style=\"color: #7fbfbf; text-decoration-color: #7fbfbf\">[02/09/22 14:02:59] </span><span style=\"color: #008000; text-decoration-color: #008000\">INFO    </span> Animation <span style=\"color: #008000; text-decoration-color: #008000\">52</span> : Partial movie file       <a href=\"file://D:\\Python39\\lib\\site-packages\\manim\\scene\\scene_file_writer.py\"><span style=\"color: #7f7f7f; text-decoration-color: #7f7f7f\">scene_file_writer.py</span></a><span style=\"color: #7f7f7f; text-decoration-color: #7f7f7f\">:</span><a href=\"file://D:\\Python39\\lib\\site-packages\\manim\\scene\\scene_file_writer.py#514\"><span style=\"color: #7f7f7f; text-decoration-color: #7f7f7f\">514</span></a>\n",
       "                             written in                                                      \n",
       "                             <span style=\"color: #008000; text-decoration-color: #008000\">'D:\\Programming\\Python\\jupyter </span>                                 \n",
       "                             <span style=\"color: #008000; text-decoration-color: #008000\">notebooks\\media\\videos\\jupyter notebook</span>                         \n",
       "                             <span style=\"color: #008000; text-decoration-color: #008000\">s\\480p15\\partial_movie_files\\CircleToSq</span>                         \n",
       "                             <span style=\"color: #008000; text-decoration-color: #008000\">uare\\2201830969_2738426560_1279303721.m</span>                         \n",
       "                             <span style=\"color: #008000; text-decoration-color: #008000\">p4'</span>                                                             \n",
       "</pre>\n"
      ],
      "text/plain": [
       "\u001b[2;36m[02/09/22 14:02:59]\u001b[0m\u001b[2;36m \u001b[0m\u001b[32mINFO    \u001b[0m Animation \u001b[32m52\u001b[0m : Partial movie file       \u001b]8;id=359637;file://D:\\Python39\\lib\\site-packages\\manim\\scene\\scene_file_writer.py\u001b\\\u001b[2mscene_file_writer.py\u001b[0m\u001b]8;;\u001b\\\u001b[2m:\u001b[0m\u001b]8;id=919623;file://D:\\Python39\\lib\\site-packages\\manim\\scene\\scene_file_writer.py#514\u001b\\\u001b[2m514\u001b[0m\u001b]8;;\u001b\\\n",
       "                             written in                                                      \n",
       "                             \u001b[32m'D:\\Programming\\Python\\jupyter \u001b[0m                                 \n",
       "                             \u001b[32mnotebooks\\media\\videos\\jupyter notebook\u001b[0m                         \n",
       "                             \u001b[32ms\\480p15\\partial_movie_files\\CircleToSq\u001b[0m                         \n",
       "                             \u001b[32muare\\2201830969_2738426560_1279303721.m\u001b[0m                         \n",
       "                             \u001b[32mp4'\u001b[0m                                                             \n"
      ]
     },
     "metadata": {},
     "output_type": "display_data"
    },
    {
     "data": {
      "text/html": [
       "<pre style=\"white-space:pre;overflow-x:auto;line-height:normal;font-family:Menlo,'DejaVu Sans Mono',consolas,'Courier New',monospace\"><span style=\"color: #7fbfbf; text-decoration-color: #7fbfbf\">                    </span><span style=\"color: #008000; text-decoration-color: #008000\">INFO    </span> Animation <span style=\"color: #008000; text-decoration-color: #008000\">53</span> : Partial movie file       <a href=\"file://D:\\Python39\\lib\\site-packages\\manim\\scene\\scene_file_writer.py\"><span style=\"color: #7f7f7f; text-decoration-color: #7f7f7f\">scene_file_writer.py</span></a><span style=\"color: #7f7f7f; text-decoration-color: #7f7f7f\">:</span><a href=\"file://D:\\Python39\\lib\\site-packages\\manim\\scene\\scene_file_writer.py#514\"><span style=\"color: #7f7f7f; text-decoration-color: #7f7f7f\">514</span></a>\n",
       "                             written in                                                      \n",
       "                             <span style=\"color: #008000; text-decoration-color: #008000\">'D:\\Programming\\Python\\jupyter </span>                                 \n",
       "                             <span style=\"color: #008000; text-decoration-color: #008000\">notebooks\\media\\videos\\jupyter notebook</span>                         \n",
       "                             <span style=\"color: #008000; text-decoration-color: #008000\">s\\480p15\\partial_movie_files\\CircleToSq</span>                         \n",
       "                             <span style=\"color: #008000; text-decoration-color: #008000\">uare\\2201830969_2478587744_2794664479.m</span>                         \n",
       "                             <span style=\"color: #008000; text-decoration-color: #008000\">p4'</span>                                                             \n",
       "</pre>\n"
      ],
      "text/plain": [
       "\u001b[2;36m                   \u001b[0m\u001b[2;36m \u001b[0m\u001b[32mINFO    \u001b[0m Animation \u001b[32m53\u001b[0m : Partial movie file       \u001b]8;id=471984;file://D:\\Python39\\lib\\site-packages\\manim\\scene\\scene_file_writer.py\u001b\\\u001b[2mscene_file_writer.py\u001b[0m\u001b]8;;\u001b\\\u001b[2m:\u001b[0m\u001b]8;id=638253;file://D:\\Python39\\lib\\site-packages\\manim\\scene\\scene_file_writer.py#514\u001b\\\u001b[2m514\u001b[0m\u001b]8;;\u001b\\\n",
       "                             written in                                                      \n",
       "                             \u001b[32m'D:\\Programming\\Python\\jupyter \u001b[0m                                 \n",
       "                             \u001b[32mnotebooks\\media\\videos\\jupyter notebook\u001b[0m                         \n",
       "                             \u001b[32ms\\480p15\\partial_movie_files\\CircleToSq\u001b[0m                         \n",
       "                             \u001b[32muare\\2201830969_2478587744_2794664479.m\u001b[0m                         \n",
       "                             \u001b[32mp4'\u001b[0m                                                             \n"
      ]
     },
     "metadata": {},
     "output_type": "display_data"
    },
    {
     "data": {
      "text/html": [
       "<pre style=\"white-space:pre;overflow-x:auto;line-height:normal;font-family:Menlo,'DejaVu Sans Mono',consolas,'Courier New',monospace\"><span style=\"color: #7fbfbf; text-decoration-color: #7fbfbf\">                    </span><span style=\"color: #008000; text-decoration-color: #008000\">INFO    </span> Combining to Movie file.                <a href=\"file://D:\\Python39\\lib\\site-packages\\manim\\scene\\scene_file_writer.py\"><span style=\"color: #7f7f7f; text-decoration-color: #7f7f7f\">scene_file_writer.py</span></a><span style=\"color: #7f7f7f; text-decoration-color: #7f7f7f\">:</span><a href=\"file://D:\\Python39\\lib\\site-packages\\manim\\scene\\scene_file_writer.py#608\"><span style=\"color: #7f7f7f; text-decoration-color: #7f7f7f\">608</span></a>\n",
       "</pre>\n"
      ],
      "text/plain": [
       "\u001b[2;36m                   \u001b[0m\u001b[2;36m \u001b[0m\u001b[32mINFO    \u001b[0m Combining to Movie file.                \u001b]8;id=567613;file://D:\\Python39\\lib\\site-packages\\manim\\scene\\scene_file_writer.py\u001b\\\u001b[2mscene_file_writer.py\u001b[0m\u001b]8;;\u001b\\\u001b[2m:\u001b[0m\u001b]8;id=574250;file://D:\\Python39\\lib\\site-packages\\manim\\scene\\scene_file_writer.py#608\u001b\\\u001b[2m608\u001b[0m\u001b]8;;\u001b\\\n"
      ]
     },
     "metadata": {},
     "output_type": "display_data"
    },
    {
     "data": {
      "text/html": [
       "<pre style=\"white-space:pre;overflow-x:auto;line-height:normal;font-family:Menlo,'DejaVu Sans Mono',consolas,'Courier New',monospace\"><span style=\"color: #7fbfbf; text-decoration-color: #7fbfbf\">                    </span><span style=\"color: #008000; text-decoration-color: #008000\">INFO    </span>                                         <a href=\"file://D:\\Python39\\lib\\site-packages\\manim\\scene\\scene_file_writer.py\"><span style=\"color: #7f7f7f; text-decoration-color: #7f7f7f\">scene_file_writer.py</span></a><span style=\"color: #7f7f7f; text-decoration-color: #7f7f7f\">:</span><a href=\"file://D:\\Python39\\lib\\site-packages\\manim\\scene\\scene_file_writer.py#729\"><span style=\"color: #7f7f7f; text-decoration-color: #7f7f7f\">729</span></a>\n",
       "                             <span style=\"color: #808000; text-decoration-color: #808000; font-weight: bold\">File</span> ready at                                                   \n",
       "                             <span style=\"color: #008000; text-decoration-color: #008000\">'D:\\Programming\\Python\\jupyter </span>                                 \n",
       "                             <span style=\"color: #008000; text-decoration-color: #008000\">notebooks\\media\\videos\\jupyter </span>                                 \n",
       "                             <span style=\"color: #008000; text-decoration-color: #008000\">notebooks\\480p15\\CircleToSquare.mp4'</span>                            \n",
       "                                                                                             \n",
       "</pre>\n"
      ],
      "text/plain": [
       "\u001b[2;36m                   \u001b[0m\u001b[2;36m \u001b[0m\u001b[32mINFO    \u001b[0m                                         \u001b]8;id=393332;file://D:\\Python39\\lib\\site-packages\\manim\\scene\\scene_file_writer.py\u001b\\\u001b[2mscene_file_writer.py\u001b[0m\u001b]8;;\u001b\\\u001b[2m:\u001b[0m\u001b]8;id=873581;file://D:\\Python39\\lib\\site-packages\\manim\\scene\\scene_file_writer.py#729\u001b\\\u001b[2m729\u001b[0m\u001b]8;;\u001b\\\n",
       "                             \u001b[1;33mFile\u001b[0m ready at                                                   \n",
       "                             \u001b[32m'D:\\Programming\\Python\\jupyter \u001b[0m                                 \n",
       "                             \u001b[32mnotebooks\\media\\videos\\jupyter \u001b[0m                                 \n",
       "                             \u001b[32mnotebooks\\480p15\\CircleToSquare.mp4'\u001b[0m                            \n",
       "                                                                                             \n"
      ]
     },
     "metadata": {},
     "output_type": "display_data"
    },
    {
     "data": {
      "text/html": [
       "<pre style=\"white-space:pre;overflow-x:auto;line-height:normal;font-family:Menlo,'DejaVu Sans Mono',consolas,'Courier New',monospace\"><span style=\"color: #7fbfbf; text-decoration-color: #7fbfbf\">                    </span><span style=\"color: #008000; text-decoration-color: #008000\">INFO    </span> The partial movie directory is full <span style=\"font-weight: bold\">(</span>&gt;  <a href=\"file://D:\\Python39\\lib\\site-packages\\manim\\scene\\scene_file_writer.py\"><span style=\"color: #7f7f7f; text-decoration-color: #7f7f7f\">scene_file_writer.py</span></a><span style=\"color: #7f7f7f; text-decoration-color: #7f7f7f\">:</span><a href=\"file://D:\\Python39\\lib\\site-packages\\manim\\scene\\scene_file_writer.py#700\"><span style=\"color: #7f7f7f; text-decoration-color: #7f7f7f\">700</span></a>\n",
       "                             <span style=\"color: #008000; text-decoration-color: #008000\">100</span> files<span style=\"font-weight: bold\">)</span>. Therefore, manim has                                \n",
       "                             removed the <span style=\"color: #008000; text-decoration-color: #008000\">52</span> oldest <span style=\"color: #800080; text-decoration-color: #800080; font-weight: bold\">file</span><span style=\"font-weight: bold\">(</span>s<span style=\"font-weight: bold\">)</span>. You can                          \n",
       "                             change this behaviour by changing                               \n",
       "                             max_files_cached in config.                                     \n",
       "</pre>\n"
      ],
      "text/plain": [
       "\u001b[2;36m                   \u001b[0m\u001b[2;36m \u001b[0m\u001b[32mINFO    \u001b[0m The partial movie directory is full \u001b[1m(\u001b[0m>  \u001b]8;id=24497;file://D:\\Python39\\lib\\site-packages\\manim\\scene\\scene_file_writer.py\u001b\\\u001b[2mscene_file_writer.py\u001b[0m\u001b]8;;\u001b\\\u001b[2m:\u001b[0m\u001b]8;id=984099;file://D:\\Python39\\lib\\site-packages\\manim\\scene\\scene_file_writer.py#700\u001b\\\u001b[2m700\u001b[0m\u001b]8;;\u001b\\\n",
       "                             \u001b[32m100\u001b[0m files\u001b[1m)\u001b[0m. Therefore, manim has                                \n",
       "                             removed the \u001b[32m52\u001b[0m oldest \u001b[1;35mfile\u001b[0m\u001b[1m(\u001b[0ms\u001b[1m)\u001b[0m. You can                          \n",
       "                             change this behaviour by changing                               \n",
       "                             max_files_cached in config.                                     \n"
      ]
     },
     "metadata": {},
     "output_type": "display_data"
    },
    {
     "data": {
      "text/html": [
       "<pre style=\"white-space:pre;overflow-x:auto;line-height:normal;font-family:Menlo,'DejaVu Sans Mono',consolas,'Courier New',monospace\"><span style=\"color: #7fbfbf; text-decoration-color: #7fbfbf\">                    </span><span style=\"color: #008000; text-decoration-color: #008000\">INFO    </span> <span style=\"color: #808000; text-decoration-color: #808000; font-weight: bold\">Rendered</span> CircleToSquare                             <a href=\"file://D:\\Python39\\lib\\site-packages\\manim\\scene\\scene.py\"><span style=\"color: #7f7f7f; text-decoration-color: #7f7f7f\">scene.py</span></a><span style=\"color: #7f7f7f; text-decoration-color: #7f7f7f\">:</span><a href=\"file://D:\\Python39\\lib\\site-packages\\manim\\scene\\scene.py#237\"><span style=\"color: #7f7f7f; text-decoration-color: #7f7f7f\">237</span></a>\n",
       "                             <span style=\"color: #808000; text-decoration-color: #808000; font-weight: bold\">Played</span> <span style=\"color: #008000; text-decoration-color: #008000\">54</span> <span style=\"color: #808000; text-decoration-color: #808000; font-weight: bold\">animations</span>                                            \n",
       "</pre>\n"
      ],
      "text/plain": [
       "\u001b[2;36m                   \u001b[0m\u001b[2;36m \u001b[0m\u001b[32mINFO    \u001b[0m \u001b[1;33mRendered\u001b[0m CircleToSquare                             \u001b]8;id=815792;file://D:\\Python39\\lib\\site-packages\\manim\\scene\\scene.py\u001b\\\u001b[2mscene.py\u001b[0m\u001b]8;;\u001b\\\u001b[2m:\u001b[0m\u001b]8;id=965459;file://D:\\Python39\\lib\\site-packages\\manim\\scene\\scene.py#237\u001b\\\u001b[2m237\u001b[0m\u001b]8;;\u001b\\\n",
       "                             \u001b[1;33mPlayed\u001b[0m \u001b[32m54\u001b[0m \u001b[1;33manimations\u001b[0m                                            \n"
      ]
     },
     "metadata": {},
     "output_type": "display_data"
    },
    {
     "data": {
      "text/html": [
       "<video src=\"media\\jupyter\\CircleToSquare@2022-02-09@14-02-59.mp4\" controls autoplay loop style=\"max-width: 60%;\"  >\n",
       "      Your browser does not support the <code>video</code> element.\n",
       "    </video>"
      ],
      "text/plain": [
       "<IPython.core.display.Video object>"
      ]
     },
     "metadata": {},
     "output_type": "display_data"
    }
   ],
   "source": [
    "%%manim CircleToSquare\n",
    "import random\n",
    "\n",
    "class CircleToSquare(Scene):\n",
    "    def construct(self):\n",
    "        blue_circle = Circle(radius=1.5, color=GREEN)\n",
    "        green_square = Square(color=random_bright_color(), fill_opacity=1)\n",
    "        self.play(Create(blue_circle))\n",
    "        self.wait()\n",
    "        \n",
    "        self.play(Transform(blue_circle, green_square))\n",
    "            \n",
    "#         squares = [Square(color=random_bright_color(), fill_opacity=1).scale(i/100 + 1).move_to((i//8-4,i%8-4,0)) for i in range(100)]\n",
    "        squares = [Square(color=random_bright_color(), fill_opacity=1).move_to((2*(i//5-3.5),2*(i%5-2.5),0)) for i in range(40)]\n",
    "        for k, s in enumerate(squares):\n",
    "            self.play(Create(s), run_time=1/2**k)\n",
    "            \n",
    "        for _ in range(10):\n",
    "            k=int(random.randint(0,len(squares)))\n",
    "            self.play(FadeOut(squares[k]))\n",
    " \n",
    "        self.wait()"
   ]
  },
  {
   "cell_type": "code",
   "execution_count": 38,
   "metadata": {},
   "outputs": [
    {
     "data": {
      "text/html": [
       "<pre style=\"white-space:pre;overflow-x:auto;line-height:normal;font-family:Menlo,'DejaVu Sans Mono',consolas,'Courier New',monospace\"><span style=\"color: #7fbfbf; text-decoration-color: #7fbfbf\">[02/10/22 00:01:59] </span><span style=\"color: #008000; text-decoration-color: #008000\">INFO    </span> Animation <span style=\"color: #008000; text-decoration-color: #008000\">0</span> : Using cached data <span style=\"font-weight: bold\">(</span>hash :     <a href=\"file://D:\\Python39\\lib\\site-packages\\manim\\renderer\\cairo_renderer.py\"><span style=\"color: #7f7f7f; text-decoration-color: #7f7f7f\">cairo_renderer.py</span></a><span style=\"color: #7f7f7f; text-decoration-color: #7f7f7f\">:</span><a href=\"file://D:\\Python39\\lib\\site-packages\\manim\\renderer\\cairo_renderer.py#74\"><span style=\"color: #7f7f7f; text-decoration-color: #7f7f7f\">74</span></a>\n",
       "                             1778658159_2580975933_2997155073<span style=\"font-weight: bold\">)</span>                               \n",
       "</pre>\n"
      ],
      "text/plain": [
       "\u001b[2;36m[02/10/22 00:01:59]\u001b[0m\u001b[2;36m \u001b[0m\u001b[32mINFO    \u001b[0m Animation \u001b[32m0\u001b[0m : Using cached data \u001b[1m(\u001b[0mhash :     \u001b]8;id=174513;file://D:\\Python39\\lib\\site-packages\\manim\\renderer\\cairo_renderer.py\u001b\\\u001b[2mcairo_renderer.py\u001b[0m\u001b]8;;\u001b\\\u001b[2m:\u001b[0m\u001b]8;id=44501;file://D:\\Python39\\lib\\site-packages\\manim\\renderer\\cairo_renderer.py#74\u001b\\\u001b[2m74\u001b[0m\u001b]8;;\u001b\\\n",
       "                             1778658159_2580975933_2997155073\u001b[1m)\u001b[0m                               \n"
      ]
     },
     "metadata": {},
     "output_type": "display_data"
    },
    {
     "name": "stderr",
     "output_type": "stream",
     "text": [
      "                                                                  \r"
     ]
    },
    {
     "data": {
      "text/html": [
       "<pre style=\"white-space:pre;overflow-x:auto;line-height:normal;font-family:Menlo,'DejaVu Sans Mono',consolas,'Courier New',monospace\"><span style=\"color: #7fbfbf; text-decoration-color: #7fbfbf\">                    </span><span style=\"color: #008000; text-decoration-color: #008000\">INFO    </span> Animation <span style=\"color: #008000; text-decoration-color: #008000\">1</span> : Using cached data <span style=\"font-weight: bold\">(</span>hash :     <a href=\"file://D:\\Python39\\lib\\site-packages\\manim\\renderer\\cairo_renderer.py\"><span style=\"color: #7f7f7f; text-decoration-color: #7f7f7f\">cairo_renderer.py</span></a><span style=\"color: #7f7f7f; text-decoration-color: #7f7f7f\">:</span><a href=\"file://D:\\Python39\\lib\\site-packages\\manim\\renderer\\cairo_renderer.py#74\"><span style=\"color: #7f7f7f; text-decoration-color: #7f7f7f\">74</span></a>\n",
       "                             77364255_303438363_3123516560<span style=\"font-weight: bold\">)</span>                                  \n",
       "</pre>\n"
      ],
      "text/plain": [
       "\u001b[2;36m                   \u001b[0m\u001b[2;36m \u001b[0m\u001b[32mINFO    \u001b[0m Animation \u001b[32m1\u001b[0m : Using cached data \u001b[1m(\u001b[0mhash :     \u001b]8;id=384673;file://D:\\Python39\\lib\\site-packages\\manim\\renderer\\cairo_renderer.py\u001b\\\u001b[2mcairo_renderer.py\u001b[0m\u001b]8;;\u001b\\\u001b[2m:\u001b[0m\u001b]8;id=809332;file://D:\\Python39\\lib\\site-packages\\manim\\renderer\\cairo_renderer.py#74\u001b\\\u001b[2m74\u001b[0m\u001b]8;;\u001b\\\n",
       "                             77364255_303438363_3123516560\u001b[1m)\u001b[0m                                  \n"
      ]
     },
     "metadata": {},
     "output_type": "display_data"
    },
    {
     "name": "stderr",
     "output_type": "stream",
     "text": [
      "                                                                  \r"
     ]
    },
    {
     "data": {
      "text/html": [
       "<pre style=\"white-space:pre;overflow-x:auto;line-height:normal;font-family:Menlo,'DejaVu Sans Mono',consolas,'Courier New',monospace\"><span style=\"color: #7fbfbf; text-decoration-color: #7fbfbf\">                    </span><span style=\"color: #008000; text-decoration-color: #008000\">INFO    </span> Animation <span style=\"color: #008000; text-decoration-color: #008000\">2</span> : Using cached data <span style=\"font-weight: bold\">(</span>hash :     <a href=\"file://D:\\Python39\\lib\\site-packages\\manim\\renderer\\cairo_renderer.py\"><span style=\"color: #7f7f7f; text-decoration-color: #7f7f7f\">cairo_renderer.py</span></a><span style=\"color: #7f7f7f; text-decoration-color: #7f7f7f\">:</span><a href=\"file://D:\\Python39\\lib\\site-packages\\manim\\renderer\\cairo_renderer.py#74\"><span style=\"color: #7f7f7f; text-decoration-color: #7f7f7f\">74</span></a>\n",
       "                             77364255_1229635411_243799703<span style=\"font-weight: bold\">)</span>                                  \n",
       "</pre>\n"
      ],
      "text/plain": [
       "\u001b[2;36m                   \u001b[0m\u001b[2;36m \u001b[0m\u001b[32mINFO    \u001b[0m Animation \u001b[32m2\u001b[0m : Using cached data \u001b[1m(\u001b[0mhash :     \u001b]8;id=496103;file://D:\\Python39\\lib\\site-packages\\manim\\renderer\\cairo_renderer.py\u001b\\\u001b[2mcairo_renderer.py\u001b[0m\u001b]8;;\u001b\\\u001b[2m:\u001b[0m\u001b]8;id=45867;file://D:\\Python39\\lib\\site-packages\\manim\\renderer\\cairo_renderer.py#74\u001b\\\u001b[2m74\u001b[0m\u001b]8;;\u001b\\\n",
       "                             77364255_1229635411_243799703\u001b[1m)\u001b[0m                                  \n"
      ]
     },
     "metadata": {},
     "output_type": "display_data"
    },
    {
     "name": "stderr",
     "output_type": "stream",
     "text": [
      "                                                                  \r"
     ]
    },
    {
     "data": {
      "text/html": [
       "<pre style=\"white-space:pre;overflow-x:auto;line-height:normal;font-family:Menlo,'DejaVu Sans Mono',consolas,'Courier New',monospace\"><span style=\"color: #7fbfbf; text-decoration-color: #7fbfbf\">                    </span><span style=\"color: #008000; text-decoration-color: #008000\">INFO    </span> Animation <span style=\"color: #008000; text-decoration-color: #008000\">3</span> : Using cached data <span style=\"font-weight: bold\">(</span>hash :     <a href=\"file://D:\\Python39\\lib\\site-packages\\manim\\renderer\\cairo_renderer.py\"><span style=\"color: #7f7f7f; text-decoration-color: #7f7f7f\">cairo_renderer.py</span></a><span style=\"color: #7f7f7f; text-decoration-color: #7f7f7f\">:</span><a href=\"file://D:\\Python39\\lib\\site-packages\\manim\\renderer\\cairo_renderer.py#74\"><span style=\"color: #7f7f7f; text-decoration-color: #7f7f7f\">74</span></a>\n",
       "                             77364255_2384852545_1248407875<span style=\"font-weight: bold\">)</span>                                 \n",
       "</pre>\n"
      ],
      "text/plain": [
       "\u001b[2;36m                   \u001b[0m\u001b[2;36m \u001b[0m\u001b[32mINFO    \u001b[0m Animation \u001b[32m3\u001b[0m : Using cached data \u001b[1m(\u001b[0mhash :     \u001b]8;id=179728;file://D:\\Python39\\lib\\site-packages\\manim\\renderer\\cairo_renderer.py\u001b\\\u001b[2mcairo_renderer.py\u001b[0m\u001b]8;;\u001b\\\u001b[2m:\u001b[0m\u001b]8;id=828477;file://D:\\Python39\\lib\\site-packages\\manim\\renderer\\cairo_renderer.py#74\u001b\\\u001b[2m74\u001b[0m\u001b]8;;\u001b\\\n",
       "                             77364255_2384852545_1248407875\u001b[1m)\u001b[0m                                 \n"
      ]
     },
     "metadata": {},
     "output_type": "display_data"
    },
    {
     "name": "stderr",
     "output_type": "stream",
     "text": [
      "                                                                  \r"
     ]
    },
    {
     "data": {
      "text/html": [
       "<pre style=\"white-space:pre;overflow-x:auto;line-height:normal;font-family:Menlo,'DejaVu Sans Mono',consolas,'Courier New',monospace\"><span style=\"color: #7fbfbf; text-decoration-color: #7fbfbf\">                    </span><span style=\"color: #008000; text-decoration-color: #008000\">INFO    </span> Animation <span style=\"color: #008000; text-decoration-color: #008000\">4</span> : Using cached data <span style=\"font-weight: bold\">(</span>hash :     <a href=\"file://D:\\Python39\\lib\\site-packages\\manim\\renderer\\cairo_renderer.py\"><span style=\"color: #7f7f7f; text-decoration-color: #7f7f7f\">cairo_renderer.py</span></a><span style=\"color: #7f7f7f; text-decoration-color: #7f7f7f\">:</span><a href=\"file://D:\\Python39\\lib\\site-packages\\manim\\renderer\\cairo_renderer.py#74\"><span style=\"color: #7f7f7f; text-decoration-color: #7f7f7f\">74</span></a>\n",
       "                             77364255_2134168052_3650123701<span style=\"font-weight: bold\">)</span>                                 \n",
       "</pre>\n"
      ],
      "text/plain": [
       "\u001b[2;36m                   \u001b[0m\u001b[2;36m \u001b[0m\u001b[32mINFO    \u001b[0m Animation \u001b[32m4\u001b[0m : Using cached data \u001b[1m(\u001b[0mhash :     \u001b]8;id=39050;file://D:\\Python39\\lib\\site-packages\\manim\\renderer\\cairo_renderer.py\u001b\\\u001b[2mcairo_renderer.py\u001b[0m\u001b]8;;\u001b\\\u001b[2m:\u001b[0m\u001b]8;id=76839;file://D:\\Python39\\lib\\site-packages\\manim\\renderer\\cairo_renderer.py#74\u001b\\\u001b[2m74\u001b[0m\u001b]8;;\u001b\\\n",
       "                             77364255_2134168052_3650123701\u001b[1m)\u001b[0m                                 \n"
      ]
     },
     "metadata": {},
     "output_type": "display_data"
    },
    {
     "name": "stderr",
     "output_type": "stream",
     "text": [
      "                                                                  \r"
     ]
    },
    {
     "data": {
      "text/html": [
       "<pre style=\"white-space:pre;overflow-x:auto;line-height:normal;font-family:Menlo,'DejaVu Sans Mono',consolas,'Courier New',monospace\"><span style=\"color: #7fbfbf; text-decoration-color: #7fbfbf\">[02/10/22 00:02:00] </span><span style=\"color: #008000; text-decoration-color: #008000\">INFO    </span> Animation <span style=\"color: #008000; text-decoration-color: #008000\">5</span> : Using cached data <span style=\"font-weight: bold\">(</span>hash :     <a href=\"file://D:\\Python39\\lib\\site-packages\\manim\\renderer\\cairo_renderer.py\"><span style=\"color: #7f7f7f; text-decoration-color: #7f7f7f\">cairo_renderer.py</span></a><span style=\"color: #7f7f7f; text-decoration-color: #7f7f7f\">:</span><a href=\"file://D:\\Python39\\lib\\site-packages\\manim\\renderer\\cairo_renderer.py#74\"><span style=\"color: #7f7f7f; text-decoration-color: #7f7f7f\">74</span></a>\n",
       "                             282541459_3172663865_1936559327<span style=\"font-weight: bold\">)</span>                                \n",
       "</pre>\n"
      ],
      "text/plain": [
       "\u001b[2;36m[02/10/22 00:02:00]\u001b[0m\u001b[2;36m \u001b[0m\u001b[32mINFO    \u001b[0m Animation \u001b[32m5\u001b[0m : Using cached data \u001b[1m(\u001b[0mhash :     \u001b]8;id=310396;file://D:\\Python39\\lib\\site-packages\\manim\\renderer\\cairo_renderer.py\u001b\\\u001b[2mcairo_renderer.py\u001b[0m\u001b]8;;\u001b\\\u001b[2m:\u001b[0m\u001b]8;id=303156;file://D:\\Python39\\lib\\site-packages\\manim\\renderer\\cairo_renderer.py#74\u001b\\\u001b[2m74\u001b[0m\u001b]8;;\u001b\\\n",
       "                             282541459_3172663865_1936559327\u001b[1m)\u001b[0m                                \n"
      ]
     },
     "metadata": {},
     "output_type": "display_data"
    },
    {
     "name": "stderr",
     "output_type": "stream",
     "text": [
      "                                                                  \r"
     ]
    },
    {
     "data": {
      "text/html": [
       "<pre style=\"white-space:pre;overflow-x:auto;line-height:normal;font-family:Menlo,'DejaVu Sans Mono',consolas,'Courier New',monospace\"><span style=\"color: #7fbfbf; text-decoration-color: #7fbfbf\">[02/10/22 00:02:04] </span><span style=\"color: #008000; text-decoration-color: #008000\">INFO    </span> Animation <span style=\"color: #008000; text-decoration-color: #008000\">6</span> : Partial movie file        <a href=\"file://D:\\Python39\\lib\\site-packages\\manim\\scene\\scene_file_writer.py\"><span style=\"color: #7f7f7f; text-decoration-color: #7f7f7f\">scene_file_writer.py</span></a><span style=\"color: #7f7f7f; text-decoration-color: #7f7f7f\">:</span><a href=\"file://D:\\Python39\\lib\\site-packages\\manim\\scene\\scene_file_writer.py#514\"><span style=\"color: #7f7f7f; text-decoration-color: #7f7f7f\">514</span></a>\n",
       "                             written in                                                      \n",
       "                             <span style=\"color: #008000; text-decoration-color: #008000\">'D:\\Programming\\Python\\jupyter </span>                                 \n",
       "                             <span style=\"color: #008000; text-decoration-color: #008000\">notebooks\\media\\videos\\jupyter notebook</span>                         \n",
       "                             <span style=\"color: #008000; text-decoration-color: #008000\">s\\480p15\\partial_movie_files\\PointsOnCi</span>                         \n",
       "                             <span style=\"color: #008000; text-decoration-color: #008000\">rcle\\282541459_1574494051_3913606373.mp</span>                         \n",
       "                             <span style=\"color: #008000; text-decoration-color: #008000\">4'</span>                                                              \n",
       "</pre>\n"
      ],
      "text/plain": [
       "\u001b[2;36m[02/10/22 00:02:04]\u001b[0m\u001b[2;36m \u001b[0m\u001b[32mINFO    \u001b[0m Animation \u001b[32m6\u001b[0m : Partial movie file        \u001b]8;id=593533;file://D:\\Python39\\lib\\site-packages\\manim\\scene\\scene_file_writer.py\u001b\\\u001b[2mscene_file_writer.py\u001b[0m\u001b]8;;\u001b\\\u001b[2m:\u001b[0m\u001b]8;id=431498;file://D:\\Python39\\lib\\site-packages\\manim\\scene\\scene_file_writer.py#514\u001b\\\u001b[2m514\u001b[0m\u001b]8;;\u001b\\\n",
       "                             written in                                                      \n",
       "                             \u001b[32m'D:\\Programming\\Python\\jupyter \u001b[0m                                 \n",
       "                             \u001b[32mnotebooks\\media\\videos\\jupyter notebook\u001b[0m                         \n",
       "                             \u001b[32ms\\480p15\\partial_movie_files\\PointsOnCi\u001b[0m                         \n",
       "                             \u001b[32mrcle\\282541459_1574494051_3913606373.mp\u001b[0m                         \n",
       "                             \u001b[32m4'\u001b[0m                                                              \n"
      ]
     },
     "metadata": {},
     "output_type": "display_data"
    },
    {
     "name": "stderr",
     "output_type": "stream",
     "text": [
      "                                                                  \r"
     ]
    },
    {
     "data": {
      "text/html": [
       "<pre style=\"white-space:pre;overflow-x:auto;line-height:normal;font-family:Menlo,'DejaVu Sans Mono',consolas,'Courier New',monospace\"><span style=\"color: #7fbfbf; text-decoration-color: #7fbfbf\">[02/10/22 00:02:06] </span><span style=\"color: #008000; text-decoration-color: #008000\">INFO    </span> Animation <span style=\"color: #008000; text-decoration-color: #008000\">7</span> : Partial movie file        <a href=\"file://D:\\Python39\\lib\\site-packages\\manim\\scene\\scene_file_writer.py\"><span style=\"color: #7f7f7f; text-decoration-color: #7f7f7f\">scene_file_writer.py</span></a><span style=\"color: #7f7f7f; text-decoration-color: #7f7f7f\">:</span><a href=\"file://D:\\Python39\\lib\\site-packages\\manim\\scene\\scene_file_writer.py#514\"><span style=\"color: #7f7f7f; text-decoration-color: #7f7f7f\">514</span></a>\n",
       "                             written in                                                      \n",
       "                             <span style=\"color: #008000; text-decoration-color: #008000\">'D:\\Programming\\Python\\jupyter </span>                                 \n",
       "                             <span style=\"color: #008000; text-decoration-color: #008000\">notebooks\\media\\videos\\jupyter notebook</span>                         \n",
       "                             <span style=\"color: #008000; text-decoration-color: #008000\">s\\480p15\\partial_movie_files\\PointsOnCi</span>                         \n",
       "                             <span style=\"color: #008000; text-decoration-color: #008000\">rcle\\282541459_2562442963_378457932.mp4</span>                         \n",
       "                             <span style=\"color: #008000; text-decoration-color: #008000\">'</span>                                                               \n",
       "</pre>\n"
      ],
      "text/plain": [
       "\u001b[2;36m[02/10/22 00:02:06]\u001b[0m\u001b[2;36m \u001b[0m\u001b[32mINFO    \u001b[0m Animation \u001b[32m7\u001b[0m : Partial movie file        \u001b]8;id=438518;file://D:\\Python39\\lib\\site-packages\\manim\\scene\\scene_file_writer.py\u001b\\\u001b[2mscene_file_writer.py\u001b[0m\u001b]8;;\u001b\\\u001b[2m:\u001b[0m\u001b]8;id=683749;file://D:\\Python39\\lib\\site-packages\\manim\\scene\\scene_file_writer.py#514\u001b\\\u001b[2m514\u001b[0m\u001b]8;;\u001b\\\n",
       "                             written in                                                      \n",
       "                             \u001b[32m'D:\\Programming\\Python\\jupyter \u001b[0m                                 \n",
       "                             \u001b[32mnotebooks\\media\\videos\\jupyter notebook\u001b[0m                         \n",
       "                             \u001b[32ms\\480p15\\partial_movie_files\\PointsOnCi\u001b[0m                         \n",
       "                             \u001b[32mrcle\\282541459_2562442963_378457932.mp4\u001b[0m                         \n",
       "                             \u001b[32m'\u001b[0m                                                               \n"
      ]
     },
     "metadata": {},
     "output_type": "display_data"
    },
    {
     "name": "stderr",
     "output_type": "stream",
     "text": [
      "                                                                  \r"
     ]
    },
    {
     "data": {
      "text/html": [
       "<pre style=\"white-space:pre;overflow-x:auto;line-height:normal;font-family:Menlo,'DejaVu Sans Mono',consolas,'Courier New',monospace\"><span style=\"color: #7fbfbf; text-decoration-color: #7fbfbf\">[02/10/22 00:02:07] </span><span style=\"color: #008000; text-decoration-color: #008000\">INFO    </span> Animation <span style=\"color: #008000; text-decoration-color: #008000\">8</span> : Partial movie file        <a href=\"file://D:\\Python39\\lib\\site-packages\\manim\\scene\\scene_file_writer.py\"><span style=\"color: #7f7f7f; text-decoration-color: #7f7f7f\">scene_file_writer.py</span></a><span style=\"color: #7f7f7f; text-decoration-color: #7f7f7f\">:</span><a href=\"file://D:\\Python39\\lib\\site-packages\\manim\\scene\\scene_file_writer.py#514\"><span style=\"color: #7f7f7f; text-decoration-color: #7f7f7f\">514</span></a>\n",
       "                             written in                                                      \n",
       "                             <span style=\"color: #008000; text-decoration-color: #008000\">'D:\\Programming\\Python\\jupyter </span>                                 \n",
       "                             <span style=\"color: #008000; text-decoration-color: #008000\">notebooks\\media\\videos\\jupyter notebook</span>                         \n",
       "                             <span style=\"color: #008000; text-decoration-color: #008000\">s\\480p15\\partial_movie_files\\PointsOnCi</span>                         \n",
       "                             <span style=\"color: #008000; text-decoration-color: #008000\">rcle\\282541459_2460785332_1064874296.mp</span>                         \n",
       "                             <span style=\"color: #008000; text-decoration-color: #008000\">4'</span>                                                              \n",
       "</pre>\n"
      ],
      "text/plain": [
       "\u001b[2;36m[02/10/22 00:02:07]\u001b[0m\u001b[2;36m \u001b[0m\u001b[32mINFO    \u001b[0m Animation \u001b[32m8\u001b[0m : Partial movie file        \u001b]8;id=257124;file://D:\\Python39\\lib\\site-packages\\manim\\scene\\scene_file_writer.py\u001b\\\u001b[2mscene_file_writer.py\u001b[0m\u001b]8;;\u001b\\\u001b[2m:\u001b[0m\u001b]8;id=942532;file://D:\\Python39\\lib\\site-packages\\manim\\scene\\scene_file_writer.py#514\u001b\\\u001b[2m514\u001b[0m\u001b]8;;\u001b\\\n",
       "                             written in                                                      \n",
       "                             \u001b[32m'D:\\Programming\\Python\\jupyter \u001b[0m                                 \n",
       "                             \u001b[32mnotebooks\\media\\videos\\jupyter notebook\u001b[0m                         \n",
       "                             \u001b[32ms\\480p15\\partial_movie_files\\PointsOnCi\u001b[0m                         \n",
       "                             \u001b[32mrcle\\282541459_2460785332_1064874296.mp\u001b[0m                         \n",
       "                             \u001b[32m4'\u001b[0m                                                              \n"
      ]
     },
     "metadata": {},
     "output_type": "display_data"
    },
    {
     "data": {
      "text/html": [
       "<pre style=\"white-space:pre;overflow-x:auto;line-height:normal;font-family:Menlo,'DejaVu Sans Mono',consolas,'Courier New',monospace\"><span style=\"color: #7fbfbf; text-decoration-color: #7fbfbf\">                    </span><span style=\"color: #008000; text-decoration-color: #008000\">INFO    </span> Animation <span style=\"color: #008000; text-decoration-color: #008000\">9</span> : Partial movie file        <a href=\"file://D:\\Python39\\lib\\site-packages\\manim\\scene\\scene_file_writer.py\"><span style=\"color: #7f7f7f; text-decoration-color: #7f7f7f\">scene_file_writer.py</span></a><span style=\"color: #7f7f7f; text-decoration-color: #7f7f7f\">:</span><a href=\"file://D:\\Python39\\lib\\site-packages\\manim\\scene\\scene_file_writer.py#514\"><span style=\"color: #7f7f7f; text-decoration-color: #7f7f7f\">514</span></a>\n",
       "                             written in                                                      \n",
       "                             <span style=\"color: #008000; text-decoration-color: #008000\">'D:\\Programming\\Python\\jupyter </span>                                 \n",
       "                             <span style=\"color: #008000; text-decoration-color: #008000\">notebooks\\media\\videos\\jupyter notebook</span>                         \n",
       "                             <span style=\"color: #008000; text-decoration-color: #008000\">s\\480p15\\partial_movie_files\\PointsOnCi</span>                         \n",
       "                             <span style=\"color: #008000; text-decoration-color: #008000\">rcle\\282541459_1515588106_3466317751.mp</span>                         \n",
       "                             <span style=\"color: #008000; text-decoration-color: #008000\">4'</span>                                                              \n",
       "</pre>\n"
      ],
      "text/plain": [
       "\u001b[2;36m                   \u001b[0m\u001b[2;36m \u001b[0m\u001b[32mINFO    \u001b[0m Animation \u001b[32m9\u001b[0m : Partial movie file        \u001b]8;id=100905;file://D:\\Python39\\lib\\site-packages\\manim\\scene\\scene_file_writer.py\u001b\\\u001b[2mscene_file_writer.py\u001b[0m\u001b]8;;\u001b\\\u001b[2m:\u001b[0m\u001b]8;id=531115;file://D:\\Python39\\lib\\site-packages\\manim\\scene\\scene_file_writer.py#514\u001b\\\u001b[2m514\u001b[0m\u001b]8;;\u001b\\\n",
       "                             written in                                                      \n",
       "                             \u001b[32m'D:\\Programming\\Python\\jupyter \u001b[0m                                 \n",
       "                             \u001b[32mnotebooks\\media\\videos\\jupyter notebook\u001b[0m                         \n",
       "                             \u001b[32ms\\480p15\\partial_movie_files\\PointsOnCi\u001b[0m                         \n",
       "                             \u001b[32mrcle\\282541459_1515588106_3466317751.mp\u001b[0m                         \n",
       "                             \u001b[32m4'\u001b[0m                                                              \n"
      ]
     },
     "metadata": {},
     "output_type": "display_data"
    },
    {
     "name": "stderr",
     "output_type": "stream",
     "text": [
      "                                                                  \r"
     ]
    },
    {
     "data": {
      "text/html": [
       "<pre style=\"white-space:pre;overflow-x:auto;line-height:normal;font-family:Menlo,'DejaVu Sans Mono',consolas,'Courier New',monospace\"><span style=\"color: #7fbfbf; text-decoration-color: #7fbfbf\">[02/10/22 00:02:09] </span><span style=\"color: #008000; text-decoration-color: #008000\">INFO    </span> Animation <span style=\"color: #008000; text-decoration-color: #008000\">10</span> : Partial movie file       <a href=\"file://D:\\Python39\\lib\\site-packages\\manim\\scene\\scene_file_writer.py\"><span style=\"color: #7f7f7f; text-decoration-color: #7f7f7f\">scene_file_writer.py</span></a><span style=\"color: #7f7f7f; text-decoration-color: #7f7f7f\">:</span><a href=\"file://D:\\Python39\\lib\\site-packages\\manim\\scene\\scene_file_writer.py#514\"><span style=\"color: #7f7f7f; text-decoration-color: #7f7f7f\">514</span></a>\n",
       "                             written in                                                      \n",
       "                             <span style=\"color: #008000; text-decoration-color: #008000\">'D:\\Programming\\Python\\jupyter </span>                                 \n",
       "                             <span style=\"color: #008000; text-decoration-color: #008000\">notebooks\\media\\videos\\jupyter notebook</span>                         \n",
       "                             <span style=\"color: #008000; text-decoration-color: #008000\">s\\480p15\\partial_movie_files\\PointsOnCi</span>                         \n",
       "                             <span style=\"color: #008000; text-decoration-color: #008000\">rcle\\282541459_2057096016_3956217410.mp</span>                         \n",
       "                             <span style=\"color: #008000; text-decoration-color: #008000\">4'</span>                                                              \n",
       "</pre>\n"
      ],
      "text/plain": [
       "\u001b[2;36m[02/10/22 00:02:09]\u001b[0m\u001b[2;36m \u001b[0m\u001b[32mINFO    \u001b[0m Animation \u001b[32m10\u001b[0m : Partial movie file       \u001b]8;id=860900;file://D:\\Python39\\lib\\site-packages\\manim\\scene\\scene_file_writer.py\u001b\\\u001b[2mscene_file_writer.py\u001b[0m\u001b]8;;\u001b\\\u001b[2m:\u001b[0m\u001b]8;id=599590;file://D:\\Python39\\lib\\site-packages\\manim\\scene\\scene_file_writer.py#514\u001b\\\u001b[2m514\u001b[0m\u001b]8;;\u001b\\\n",
       "                             written in                                                      \n",
       "                             \u001b[32m'D:\\Programming\\Python\\jupyter \u001b[0m                                 \n",
       "                             \u001b[32mnotebooks\\media\\videos\\jupyter notebook\u001b[0m                         \n",
       "                             \u001b[32ms\\480p15\\partial_movie_files\\PointsOnCi\u001b[0m                         \n",
       "                             \u001b[32mrcle\\282541459_2057096016_3956217410.mp\u001b[0m                         \n",
       "                             \u001b[32m4'\u001b[0m                                                              \n"
      ]
     },
     "metadata": {},
     "output_type": "display_data"
    },
    {
     "data": {
      "text/html": [
       "<pre style=\"white-space:pre;overflow-x:auto;line-height:normal;font-family:Menlo,'DejaVu Sans Mono',consolas,'Courier New',monospace\"><span style=\"color: #7fbfbf; text-decoration-color: #7fbfbf\">[02/10/22 00:02:12] </span><span style=\"color: #008000; text-decoration-color: #008000\">INFO    </span> Animation <span style=\"color: #008000; text-decoration-color: #008000\">11</span> : Using cached data <span style=\"font-weight: bold\">(</span>hash :    <a href=\"file://D:\\Python39\\lib\\site-packages\\manim\\renderer\\cairo_renderer.py\"><span style=\"color: #7f7f7f; text-decoration-color: #7f7f7f\">cairo_renderer.py</span></a><span style=\"color: #7f7f7f; text-decoration-color: #7f7f7f\">:</span><a href=\"file://D:\\Python39\\lib\\site-packages\\manim\\renderer\\cairo_renderer.py#74\"><span style=\"color: #7f7f7f; text-decoration-color: #7f7f7f\">74</span></a>\n",
       "                             282541459_4223972602_2090768901<span style=\"font-weight: bold\">)</span>                                \n",
       "</pre>\n"
      ],
      "text/plain": [
       "\u001b[2;36m[02/10/22 00:02:12]\u001b[0m\u001b[2;36m \u001b[0m\u001b[32mINFO    \u001b[0m Animation \u001b[32m11\u001b[0m : Using cached data \u001b[1m(\u001b[0mhash :    \u001b]8;id=625947;file://D:\\Python39\\lib\\site-packages\\manim\\renderer\\cairo_renderer.py\u001b\\\u001b[2mcairo_renderer.py\u001b[0m\u001b]8;;\u001b\\\u001b[2m:\u001b[0m\u001b]8;id=475847;file://D:\\Python39\\lib\\site-packages\\manim\\renderer\\cairo_renderer.py#74\u001b\\\u001b[2m74\u001b[0m\u001b]8;;\u001b\\\n",
       "                             282541459_4223972602_2090768901\u001b[1m)\u001b[0m                                \n"
      ]
     },
     "metadata": {},
     "output_type": "display_data"
    },
    {
     "name": "stderr",
     "output_type": "stream",
     "text": [
      "                                                                  \r"
     ]
    },
    {
     "data": {
      "text/html": [
       "<pre style=\"white-space:pre;overflow-x:auto;line-height:normal;font-family:Menlo,'DejaVu Sans Mono',consolas,'Courier New',monospace\"><span style=\"color: #7fbfbf; text-decoration-color: #7fbfbf\">[02/10/22 00:02:15] </span><span style=\"color: #008000; text-decoration-color: #008000\">INFO    </span> Animation <span style=\"color: #008000; text-decoration-color: #008000\">12</span> : Partial movie file       <a href=\"file://D:\\Python39\\lib\\site-packages\\manim\\scene\\scene_file_writer.py\"><span style=\"color: #7f7f7f; text-decoration-color: #7f7f7f\">scene_file_writer.py</span></a><span style=\"color: #7f7f7f; text-decoration-color: #7f7f7f\">:</span><a href=\"file://D:\\Python39\\lib\\site-packages\\manim\\scene\\scene_file_writer.py#514\"><span style=\"color: #7f7f7f; text-decoration-color: #7f7f7f\">514</span></a>\n",
       "                             written in                                                      \n",
       "                             <span style=\"color: #008000; text-decoration-color: #008000\">'D:\\Programming\\Python\\jupyter </span>                                 \n",
       "                             <span style=\"color: #008000; text-decoration-color: #008000\">notebooks\\media\\videos\\jupyter notebook</span>                         \n",
       "                             <span style=\"color: #008000; text-decoration-color: #008000\">s\\480p15\\partial_movie_files\\PointsOnCi</span>                         \n",
       "                             <span style=\"color: #008000; text-decoration-color: #008000\">rcle\\282541459_2243716984_3477887469.mp</span>                         \n",
       "                             <span style=\"color: #008000; text-decoration-color: #008000\">4'</span>                                                              \n",
       "</pre>\n"
      ],
      "text/plain": [
       "\u001b[2;36m[02/10/22 00:02:15]\u001b[0m\u001b[2;36m \u001b[0m\u001b[32mINFO    \u001b[0m Animation \u001b[32m12\u001b[0m : Partial movie file       \u001b]8;id=780833;file://D:\\Python39\\lib\\site-packages\\manim\\scene\\scene_file_writer.py\u001b\\\u001b[2mscene_file_writer.py\u001b[0m\u001b]8;;\u001b\\\u001b[2m:\u001b[0m\u001b]8;id=662806;file://D:\\Python39\\lib\\site-packages\\manim\\scene\\scene_file_writer.py#514\u001b\\\u001b[2m514\u001b[0m\u001b]8;;\u001b\\\n",
       "                             written in                                                      \n",
       "                             \u001b[32m'D:\\Programming\\Python\\jupyter \u001b[0m                                 \n",
       "                             \u001b[32mnotebooks\\media\\videos\\jupyter notebook\u001b[0m                         \n",
       "                             \u001b[32ms\\480p15\\partial_movie_files\\PointsOnCi\u001b[0m                         \n",
       "                             \u001b[32mrcle\\282541459_2243716984_3477887469.mp\u001b[0m                         \n",
       "                             \u001b[32m4'\u001b[0m                                                              \n"
      ]
     },
     "metadata": {},
     "output_type": "display_data"
    },
    {
     "name": "stderr",
     "output_type": "stream",
     "text": [
      "                                                                  \r"
     ]
    },
    {
     "data": {
      "text/html": [
       "<pre style=\"white-space:pre;overflow-x:auto;line-height:normal;font-family:Menlo,'DejaVu Sans Mono',consolas,'Courier New',monospace\"><span style=\"color: #7fbfbf; text-decoration-color: #7fbfbf\">[02/10/22 00:02:17] </span><span style=\"color: #008000; text-decoration-color: #008000\">INFO    </span> Animation <span style=\"color: #008000; text-decoration-color: #008000\">13</span> : Partial movie file       <a href=\"file://D:\\Python39\\lib\\site-packages\\manim\\scene\\scene_file_writer.py\"><span style=\"color: #7f7f7f; text-decoration-color: #7f7f7f\">scene_file_writer.py</span></a><span style=\"color: #7f7f7f; text-decoration-color: #7f7f7f\">:</span><a href=\"file://D:\\Python39\\lib\\site-packages\\manim\\scene\\scene_file_writer.py#514\"><span style=\"color: #7f7f7f; text-decoration-color: #7f7f7f\">514</span></a>\n",
       "                             written in                                                      \n",
       "                             <span style=\"color: #008000; text-decoration-color: #008000\">'D:\\Programming\\Python\\jupyter </span>                                 \n",
       "                             <span style=\"color: #008000; text-decoration-color: #008000\">notebooks\\media\\videos\\jupyter notebook</span>                         \n",
       "                             <span style=\"color: #008000; text-decoration-color: #008000\">s\\480p15\\partial_movie_files\\PointsOnCi</span>                         \n",
       "                             <span style=\"color: #008000; text-decoration-color: #008000\">rcle\\4133010710_1520672765_1732859859.m</span>                         \n",
       "                             <span style=\"color: #008000; text-decoration-color: #008000\">p4'</span>                                                             \n",
       "</pre>\n"
      ],
      "text/plain": [
       "\u001b[2;36m[02/10/22 00:02:17]\u001b[0m\u001b[2;36m \u001b[0m\u001b[32mINFO    \u001b[0m Animation \u001b[32m13\u001b[0m : Partial movie file       \u001b]8;id=456358;file://D:\\Python39\\lib\\site-packages\\manim\\scene\\scene_file_writer.py\u001b\\\u001b[2mscene_file_writer.py\u001b[0m\u001b]8;;\u001b\\\u001b[2m:\u001b[0m\u001b]8;id=172036;file://D:\\Python39\\lib\\site-packages\\manim\\scene\\scene_file_writer.py#514\u001b\\\u001b[2m514\u001b[0m\u001b]8;;\u001b\\\n",
       "                             written in                                                      \n",
       "                             \u001b[32m'D:\\Programming\\Python\\jupyter \u001b[0m                                 \n",
       "                             \u001b[32mnotebooks\\media\\videos\\jupyter notebook\u001b[0m                         \n",
       "                             \u001b[32ms\\480p15\\partial_movie_files\\PointsOnCi\u001b[0m                         \n",
       "                             \u001b[32mrcle\\4133010710_1520672765_1732859859.m\u001b[0m                         \n",
       "                             \u001b[32mp4'\u001b[0m                                                             \n"
      ]
     },
     "metadata": {},
     "output_type": "display_data"
    },
    {
     "data": {
      "text/html": [
       "<pre style=\"white-space:pre;overflow-x:auto;line-height:normal;font-family:Menlo,'DejaVu Sans Mono',consolas,'Courier New',monospace\"><span style=\"color: #7fbfbf; text-decoration-color: #7fbfbf\">[02/10/22 00:02:18] </span><span style=\"color: #008000; text-decoration-color: #008000\">INFO    </span> Animation <span style=\"color: #008000; text-decoration-color: #008000\">14</span> : Using cached data <span style=\"font-weight: bold\">(</span>hash :    <a href=\"file://D:\\Python39\\lib\\site-packages\\manim\\renderer\\cairo_renderer.py\"><span style=\"color: #7f7f7f; text-decoration-color: #7f7f7f\">cairo_renderer.py</span></a><span style=\"color: #7f7f7f; text-decoration-color: #7f7f7f\">:</span><a href=\"file://D:\\Python39\\lib\\site-packages\\manim\\renderer\\cairo_renderer.py#74\"><span style=\"color: #7f7f7f; text-decoration-color: #7f7f7f\">74</span></a>\n",
       "                             498392479_581121402_1551467041<span style=\"font-weight: bold\">)</span>                                 \n",
       "</pre>\n"
      ],
      "text/plain": [
       "\u001b[2;36m[02/10/22 00:02:18]\u001b[0m\u001b[2;36m \u001b[0m\u001b[32mINFO    \u001b[0m Animation \u001b[32m14\u001b[0m : Using cached data \u001b[1m(\u001b[0mhash :    \u001b]8;id=93430;file://D:\\Python39\\lib\\site-packages\\manim\\renderer\\cairo_renderer.py\u001b\\\u001b[2mcairo_renderer.py\u001b[0m\u001b]8;;\u001b\\\u001b[2m:\u001b[0m\u001b]8;id=567168;file://D:\\Python39\\lib\\site-packages\\manim\\renderer\\cairo_renderer.py#74\u001b\\\u001b[2m74\u001b[0m\u001b]8;;\u001b\\\n",
       "                             498392479_581121402_1551467041\u001b[1m)\u001b[0m                                 \n"
      ]
     },
     "metadata": {},
     "output_type": "display_data"
    },
    {
     "name": "stderr",
     "output_type": "stream",
     "text": [
      "                                                                  \r"
     ]
    },
    {
     "data": {
      "text/html": [
       "<pre style=\"white-space:pre;overflow-x:auto;line-height:normal;font-family:Menlo,'DejaVu Sans Mono',consolas,'Courier New',monospace\"><span style=\"color: #7fbfbf; text-decoration-color: #7fbfbf\">[02/10/22 00:02:24] </span><span style=\"color: #008000; text-decoration-color: #008000\">INFO    </span> Animation <span style=\"color: #008000; text-decoration-color: #008000\">15</span> : Partial movie file       <a href=\"file://D:\\Python39\\lib\\site-packages\\manim\\scene\\scene_file_writer.py\"><span style=\"color: #7f7f7f; text-decoration-color: #7f7f7f\">scene_file_writer.py</span></a><span style=\"color: #7f7f7f; text-decoration-color: #7f7f7f\">:</span><a href=\"file://D:\\Python39\\lib\\site-packages\\manim\\scene\\scene_file_writer.py#514\"><span style=\"color: #7f7f7f; text-decoration-color: #7f7f7f\">514</span></a>\n",
       "                             written in                                                      \n",
       "                             <span style=\"color: #008000; text-decoration-color: #008000\">'D:\\Programming\\Python\\jupyter </span>                                 \n",
       "                             <span style=\"color: #008000; text-decoration-color: #008000\">notebooks\\media\\videos\\jupyter notebook</span>                         \n",
       "                             <span style=\"color: #008000; text-decoration-color: #008000\">s\\480p15\\partial_movie_files\\PointsOnCi</span>                         \n",
       "                             <span style=\"color: #008000; text-decoration-color: #008000\">rcle\\498392479_1359122656_3557913773.mp</span>                         \n",
       "                             <span style=\"color: #008000; text-decoration-color: #008000\">4'</span>                                                              \n",
       "</pre>\n"
      ],
      "text/plain": [
       "\u001b[2;36m[02/10/22 00:02:24]\u001b[0m\u001b[2;36m \u001b[0m\u001b[32mINFO    \u001b[0m Animation \u001b[32m15\u001b[0m : Partial movie file       \u001b]8;id=360654;file://D:\\Python39\\lib\\site-packages\\manim\\scene\\scene_file_writer.py\u001b\\\u001b[2mscene_file_writer.py\u001b[0m\u001b]8;;\u001b\\\u001b[2m:\u001b[0m\u001b]8;id=14681;file://D:\\Python39\\lib\\site-packages\\manim\\scene\\scene_file_writer.py#514\u001b\\\u001b[2m514\u001b[0m\u001b]8;;\u001b\\\n",
       "                             written in                                                      \n",
       "                             \u001b[32m'D:\\Programming\\Python\\jupyter \u001b[0m                                 \n",
       "                             \u001b[32mnotebooks\\media\\videos\\jupyter notebook\u001b[0m                         \n",
       "                             \u001b[32ms\\480p15\\partial_movie_files\\PointsOnCi\u001b[0m                         \n",
       "                             \u001b[32mrcle\\498392479_1359122656_3557913773.mp\u001b[0m                         \n",
       "                             \u001b[32m4'\u001b[0m                                                              \n"
      ]
     },
     "metadata": {},
     "output_type": "display_data"
    },
    {
     "data": {
      "text/html": [
       "<pre style=\"white-space:pre;overflow-x:auto;line-height:normal;font-family:Menlo,'DejaVu Sans Mono',consolas,'Courier New',monospace\"><span style=\"color: #7fbfbf; text-decoration-color: #7fbfbf\">[02/10/22 00:02:26] </span><span style=\"color: #008000; text-decoration-color: #008000\">INFO    </span> Animation <span style=\"color: #008000; text-decoration-color: #008000\">16</span> : Partial movie file       <a href=\"file://D:\\Python39\\lib\\site-packages\\manim\\scene\\scene_file_writer.py\"><span style=\"color: #7f7f7f; text-decoration-color: #7f7f7f\">scene_file_writer.py</span></a><span style=\"color: #7f7f7f; text-decoration-color: #7f7f7f\">:</span><a href=\"file://D:\\Python39\\lib\\site-packages\\manim\\scene\\scene_file_writer.py#514\"><span style=\"color: #7f7f7f; text-decoration-color: #7f7f7f\">514</span></a>\n",
       "                             written in                                                      \n",
       "                             <span style=\"color: #008000; text-decoration-color: #008000\">'D:\\Programming\\Python\\jupyter </span>                                 \n",
       "                             <span style=\"color: #008000; text-decoration-color: #008000\">notebooks\\media\\videos\\jupyter notebook</span>                         \n",
       "                             <span style=\"color: #008000; text-decoration-color: #008000\">s\\480p15\\partial_movie_files\\PointsOnCi</span>                         \n",
       "                             <span style=\"color: #008000; text-decoration-color: #008000\">rcle\\498392479_2083789766_4100920499.mp</span>                         \n",
       "                             <span style=\"color: #008000; text-decoration-color: #008000\">4'</span>                                                              \n",
       "</pre>\n"
      ],
      "text/plain": [
       "\u001b[2;36m[02/10/22 00:02:26]\u001b[0m\u001b[2;36m \u001b[0m\u001b[32mINFO    \u001b[0m Animation \u001b[32m16\u001b[0m : Partial movie file       \u001b]8;id=992056;file://D:\\Python39\\lib\\site-packages\\manim\\scene\\scene_file_writer.py\u001b\\\u001b[2mscene_file_writer.py\u001b[0m\u001b]8;;\u001b\\\u001b[2m:\u001b[0m\u001b]8;id=220002;file://D:\\Python39\\lib\\site-packages\\manim\\scene\\scene_file_writer.py#514\u001b\\\u001b[2m514\u001b[0m\u001b]8;;\u001b\\\n",
       "                             written in                                                      \n",
       "                             \u001b[32m'D:\\Programming\\Python\\jupyter \u001b[0m                                 \n",
       "                             \u001b[32mnotebooks\\media\\videos\\jupyter notebook\u001b[0m                         \n",
       "                             \u001b[32ms\\480p15\\partial_movie_files\\PointsOnCi\u001b[0m                         \n",
       "                             \u001b[32mrcle\\498392479_2083789766_4100920499.mp\u001b[0m                         \n",
       "                             \u001b[32m4'\u001b[0m                                                              \n"
      ]
     },
     "metadata": {},
     "output_type": "display_data"
    },
    {
     "data": {
      "text/html": [
       "<pre style=\"white-space:pre;overflow-x:auto;line-height:normal;font-family:Menlo,'DejaVu Sans Mono',consolas,'Courier New',monospace\"><span style=\"color: #7fbfbf; text-decoration-color: #7fbfbf\">                    </span><span style=\"color: #008000; text-decoration-color: #008000\">INFO    </span> Combining to Movie file.                <a href=\"file://D:\\Python39\\lib\\site-packages\\manim\\scene\\scene_file_writer.py\"><span style=\"color: #7f7f7f; text-decoration-color: #7f7f7f\">scene_file_writer.py</span></a><span style=\"color: #7f7f7f; text-decoration-color: #7f7f7f\">:</span><a href=\"file://D:\\Python39\\lib\\site-packages\\manim\\scene\\scene_file_writer.py#608\"><span style=\"color: #7f7f7f; text-decoration-color: #7f7f7f\">608</span></a>\n",
       "</pre>\n"
      ],
      "text/plain": [
       "\u001b[2;36m                   \u001b[0m\u001b[2;36m \u001b[0m\u001b[32mINFO    \u001b[0m Combining to Movie file.                \u001b]8;id=585699;file://D:\\Python39\\lib\\site-packages\\manim\\scene\\scene_file_writer.py\u001b\\\u001b[2mscene_file_writer.py\u001b[0m\u001b]8;;\u001b\\\u001b[2m:\u001b[0m\u001b]8;id=647072;file://D:\\Python39\\lib\\site-packages\\manim\\scene\\scene_file_writer.py#608\u001b\\\u001b[2m608\u001b[0m\u001b]8;;\u001b\\\n"
      ]
     },
     "metadata": {},
     "output_type": "display_data"
    },
    {
     "data": {
      "text/html": [
       "<pre style=\"white-space:pre;overflow-x:auto;line-height:normal;font-family:Menlo,'DejaVu Sans Mono',consolas,'Courier New',monospace\"><span style=\"color: #7fbfbf; text-decoration-color: #7fbfbf\">[02/10/22 00:02:29] </span><span style=\"color: #008000; text-decoration-color: #008000\">INFO    </span>                                         <a href=\"file://D:\\Python39\\lib\\site-packages\\manim\\scene\\scene_file_writer.py\"><span style=\"color: #7f7f7f; text-decoration-color: #7f7f7f\">scene_file_writer.py</span></a><span style=\"color: #7f7f7f; text-decoration-color: #7f7f7f\">:</span><a href=\"file://D:\\Python39\\lib\\site-packages\\manim\\scene\\scene_file_writer.py#729\"><span style=\"color: #7f7f7f; text-decoration-color: #7f7f7f\">729</span></a>\n",
       "                             <span style=\"color: #808000; text-decoration-color: #808000; font-weight: bold\">File</span> ready at                                                   \n",
       "                             <span style=\"color: #008000; text-decoration-color: #008000\">'D:\\Programming\\Python\\jupyter </span>                                 \n",
       "                             <span style=\"color: #008000; text-decoration-color: #008000\">notebooks\\media\\videos\\jupyter </span>                                 \n",
       "                             <span style=\"color: #008000; text-decoration-color: #008000\">notebooks\\480p15\\PointsOnCircle.mp4'</span>                            \n",
       "                                                                                             \n",
       "</pre>\n"
      ],
      "text/plain": [
       "\u001b[2;36m[02/10/22 00:02:29]\u001b[0m\u001b[2;36m \u001b[0m\u001b[32mINFO    \u001b[0m                                         \u001b]8;id=128732;file://D:\\Python39\\lib\\site-packages\\manim\\scene\\scene_file_writer.py\u001b\\\u001b[2mscene_file_writer.py\u001b[0m\u001b]8;;\u001b\\\u001b[2m:\u001b[0m\u001b]8;id=406404;file://D:\\Python39\\lib\\site-packages\\manim\\scene\\scene_file_writer.py#729\u001b\\\u001b[2m729\u001b[0m\u001b]8;;\u001b\\\n",
       "                             \u001b[1;33mFile\u001b[0m ready at                                                   \n",
       "                             \u001b[32m'D:\\Programming\\Python\\jupyter \u001b[0m                                 \n",
       "                             \u001b[32mnotebooks\\media\\videos\\jupyter \u001b[0m                                 \n",
       "                             \u001b[32mnotebooks\\480p15\\PointsOnCircle.mp4'\u001b[0m                            \n",
       "                                                                                             \n"
      ]
     },
     "metadata": {},
     "output_type": "display_data"
    },
    {
     "data": {
      "text/html": [
       "<pre style=\"white-space:pre;overflow-x:auto;line-height:normal;font-family:Menlo,'DejaVu Sans Mono',consolas,'Courier New',monospace\"><span style=\"color: #7fbfbf; text-decoration-color: #7fbfbf\">[02/10/22 00:02:30] </span><span style=\"color: #008000; text-decoration-color: #008000\">INFO    </span> The partial movie directory is full <span style=\"font-weight: bold\">(</span>&gt;  <a href=\"file://D:\\Python39\\lib\\site-packages\\manim\\scene\\scene_file_writer.py\"><span style=\"color: #7f7f7f; text-decoration-color: #7f7f7f\">scene_file_writer.py</span></a><span style=\"color: #7f7f7f; text-decoration-color: #7f7f7f\">:</span><a href=\"file://D:\\Python39\\lib\\site-packages\\manim\\scene\\scene_file_writer.py#700\"><span style=\"color: #7f7f7f; text-decoration-color: #7f7f7f\">700</span></a>\n",
       "                             <span style=\"color: #008000; text-decoration-color: #008000\">100</span> files<span style=\"font-weight: bold\">)</span>. Therefore, manim has                                \n",
       "                             removed the <span style=\"color: #008000; text-decoration-color: #008000\">9</span> oldest <span style=\"color: #800080; text-decoration-color: #800080; font-weight: bold\">file</span><span style=\"font-weight: bold\">(</span>s<span style=\"font-weight: bold\">)</span>. You can                           \n",
       "                             change this behaviour by changing                               \n",
       "                             max_files_cached in config.                                     \n",
       "</pre>\n"
      ],
      "text/plain": [
       "\u001b[2;36m[02/10/22 00:02:30]\u001b[0m\u001b[2;36m \u001b[0m\u001b[32mINFO    \u001b[0m The partial movie directory is full \u001b[1m(\u001b[0m>  \u001b]8;id=127696;file://D:\\Python39\\lib\\site-packages\\manim\\scene\\scene_file_writer.py\u001b\\\u001b[2mscene_file_writer.py\u001b[0m\u001b]8;;\u001b\\\u001b[2m:\u001b[0m\u001b]8;id=615929;file://D:\\Python39\\lib\\site-packages\\manim\\scene\\scene_file_writer.py#700\u001b\\\u001b[2m700\u001b[0m\u001b]8;;\u001b\\\n",
       "                             \u001b[32m100\u001b[0m files\u001b[1m)\u001b[0m. Therefore, manim has                                \n",
       "                             removed the \u001b[32m9\u001b[0m oldest \u001b[1;35mfile\u001b[0m\u001b[1m(\u001b[0ms\u001b[1m)\u001b[0m. You can                           \n",
       "                             change this behaviour by changing                               \n",
       "                             max_files_cached in config.                                     \n"
      ]
     },
     "metadata": {},
     "output_type": "display_data"
    },
    {
     "data": {
      "text/html": [
       "<pre style=\"white-space:pre;overflow-x:auto;line-height:normal;font-family:Menlo,'DejaVu Sans Mono',consolas,'Courier New',monospace\"><span style=\"color: #7fbfbf; text-decoration-color: #7fbfbf\">                    </span><span style=\"color: #008000; text-decoration-color: #008000\">INFO    </span> <span style=\"color: #808000; text-decoration-color: #808000; font-weight: bold\">Rendered</span> PointsOnCircle                             <a href=\"file://D:\\Python39\\lib\\site-packages\\manim\\scene\\scene.py\"><span style=\"color: #7f7f7f; text-decoration-color: #7f7f7f\">scene.py</span></a><span style=\"color: #7f7f7f; text-decoration-color: #7f7f7f\">:</span><a href=\"file://D:\\Python39\\lib\\site-packages\\manim\\scene\\scene.py#237\"><span style=\"color: #7f7f7f; text-decoration-color: #7f7f7f\">237</span></a>\n",
       "                             <span style=\"color: #808000; text-decoration-color: #808000; font-weight: bold\">Played</span> <span style=\"color: #008000; text-decoration-color: #008000\">17</span> <span style=\"color: #808000; text-decoration-color: #808000; font-weight: bold\">animations</span>                                            \n",
       "</pre>\n"
      ],
      "text/plain": [
       "\u001b[2;36m                   \u001b[0m\u001b[2;36m \u001b[0m\u001b[32mINFO    \u001b[0m \u001b[1;33mRendered\u001b[0m PointsOnCircle                             \u001b]8;id=897240;file://D:\\Python39\\lib\\site-packages\\manim\\scene\\scene.py\u001b\\\u001b[2mscene.py\u001b[0m\u001b]8;;\u001b\\\u001b[2m:\u001b[0m\u001b]8;id=17010;file://D:\\Python39\\lib\\site-packages\\manim\\scene\\scene.py#237\u001b\\\u001b[2m237\u001b[0m\u001b]8;;\u001b\\\n",
       "                             \u001b[1;33mPlayed\u001b[0m \u001b[32m17\u001b[0m \u001b[1;33manimations\u001b[0m                                            \n"
      ]
     },
     "metadata": {},
     "output_type": "display_data"
    },
    {
     "data": {
      "text/html": [
       "<video src=\"media\\jupyter\\PointsOnCircle@2022-02-10@00-02-30.mp4\" controls autoplay loop style=\"max-width: 60%;\"  >\n",
       "      Your browser does not support the <code>video</code> element.\n",
       "    </video>"
      ],
      "text/plain": [
       "<IPython.core.display.Video object>"
      ]
     },
     "metadata": {},
     "output_type": "display_data"
    }
   ],
   "source": [
    "%%manim PointsOnCircle\n",
    "\n",
    "class PointsOnCircle(MovingCameraScene):\n",
    "    def construct(self):\n",
    "        O = Dot()\n",
    "        c = Circle(radius=2.5, color=WHITE)\n",
    "\n",
    "        def handleUpdate(x):\n",
    "            value = t.get_value()\n",
    "            while value>TAU:\n",
    "                value -= TAU\n",
    "            x.move_to(c.point_at_angle(value))\n",
    "            \n",
    "        t = ValueTracker(0)\n",
    "        P = Dot(c.point_at_angle(0))\n",
    "                \n",
    "        P.add_updater(handleUpdate)\n",
    "\n",
    "        def getPerpendicular():\n",
    "            dx = O.get_center()[0]-P.get_center()[0]\n",
    "            dy = O.get_center()[1]-P.get_center()[1]\n",
    "#             x = A.get_center()[0] - dy\n",
    "#             y = A.get_center()[0] + dx\n",
    "            A2=P.copy().shift([10*dy, -10*dx, 0])\n",
    "            A3=P.copy().shift([-10*dy, 10*dx, 0])\n",
    "            perpLine = Line(A3.get_center(), A2.get_center())\n",
    "            \n",
    "            return perpLine\n",
    "            \n",
    "        def getRadius():\n",
    "            radiusLine = Line(P.get_center(), O.get_center())\n",
    "            \n",
    "            vg = radiusLine\n",
    "            return vg\n",
    "            \n",
    "        r = always_redraw(getRadius)\n",
    "        self.play(Create(O), Create(c))\n",
    "        self.play(Create(P), Create(r))\n",
    "        self.play(t.animate.increment_value(3*PI/2), run_time=3)\n",
    "        \n",
    "        perp1 = always_redraw(getPerpendicular)\n",
    "        perp2 = perp1.copy()\n",
    "        \n",
    "        A = P.copy().remove_updater(handleUpdate)\n",
    "        OA = r.copy()\n",
    "        \n",
    "        self.add(perp2, OA, A)\n",
    "        self.play(t.animate.increment_value(PI))\n",
    "        self.add(perp1)\n",
    "        \n",
    "        self.play(t.animate.increment_value(-PI/6), ApplyMethod(self.camera.frame.move_to,  3*RIGHT))\n",
    "        \n",
    "        C=Dot().move_to(line_intersection((perp1.get_start(), perp1.get_end()), (perp2.get_start(), perp2.get_end())))\n",
    "        OC=DashedLine(O.get_center(), C.get_center())\n",
    "        \n",
    "        poly1f=Polygon(O.get_center(),C.get_center(),P.get_center(), color=random_bright_color(), fill_opacity=1)\n",
    "        \n",
    "        poly1=Polygon(O.get_center(),C.get_center(),P.get_center(), color=WHITE)\n",
    "        poly2=Polygon(O.get_center(),C.get_center(),A.get_center(), color=WHITE)\n",
    "        \n",
    "        self.play(Create(C),Create(OC))\n",
    "        self.play(Create(poly1f))\n",
    "        self.play(Rotate(poly1f, PI, axis=C.get_center()))\n",
    "        self.play(ApplyMethod(poly1f.move_to,  midpoint(O.get_center(), C.get_center())))\n",
    "        self.wait()\n",
    "        self.play(Uncreate(poly1f))\n",
    "        \n",
    "        ## tw.\n",
    "        title = Text('Twierdzenie o odcinkach stycznych').shift( 6*DOWN)\n",
    "        text = MarkupText('Jeżeli styczne do okręgu w punktach A i B przecinają się w punkcie P, to:').scale(0.8).next_to(title, 1.5*DOWN)\n",
    "        mtext = MathTex('|AP|=|BP|').next_to(text, DOWN)\n",
    "        \n",
    "        theorem = VGroup(text, mtext)\n",
    "        \n",
    "        labels = [Text('O').next_to(O.get_center(), LEFT), \n",
    "                  Text('A').next_to(A.get_center(), DOWN), \n",
    "                  Text('B').next_to(P.get_center(), RIGHT), \n",
    "                  Text('P').next_to(C.get_center(), DOWN)]\n",
    "        self.play(*[Create(label.scale(0.75)) for label in labels])\n",
    "        self.play(ApplyMethod(self.camera.frame.scale,  2))\n",
    "        self.play( ApplyMethod(self.camera.frame.shift, -3*RIGHT+4*DOWN))\n",
    "        self.play(Write(title))\n",
    "        self.play(Create(theorem))\n",
    "        self.wait(5)\n",
    "#         self.play(Create(l1), Create(d2))\n",
    "#         self.play(Rotate(vg,-PI/6))\n",
    "        \n",
    "        "
   ]
  },
  {
   "cell_type": "code",
   "execution_count": null,
   "metadata": {
    "tags": []
   },
   "outputs": [],
   "source": [
    "\n",
    "%%manim RecamanSequence\n",
    "\n",
    "# defining colors\n",
    "VIOLET = \"#EE82EE\"\n",
    "INDIGO = \"#4B0082\"\n",
    "VIBGYOR = [VIOLET, INDIGO, BLUE, GREEN, YELLOW, ORANGE, RED]\n",
    "\n",
    "# Recaman Sequence\n",
    "#\n",
    "# Inspired By:\n",
    "#       Numberphile video: https://youtu.be/FGC5TdIiT9U\n",
    "#       Coding Train: Coding Challenge #110.1 -- https://youtu.be/DhFZfzOvNTU\n",
    "\n",
    "class RecamanSequence(MovingCameraScene):\n",
    "    n=10\n",
    "\n",
    "    def construct(self):\n",
    "        count = 0\n",
    "        visited = [0] + [None] * self.n\n",
    "        arcs = VGroup()\n",
    "\n",
    "        self.index = 0  # acts as a pointer\n",
    "        max_width = max(self.index/(count+1), 1)  # to set the frame width\n",
    "\n",
    "        for i in range(self.n):\n",
    "            index = self.index - count\n",
    "\n",
    "            if index < 0 or index in visited:\n",
    "                index = self.index + count\n",
    "\n",
    "            # defining the start and end of the arc\n",
    "            start = np.array([visited[count]/(count+1), 0, 0])\n",
    "            end = np.array([index/(count+1), 0, 0])\n",
    "\n",
    "            # defining the angle of arc (i.e., whether it would be an upward arc or downward arc)\n",
    "            angle = PI if count % 2 else -PI\n",
    "\n",
    "            if index < visited[count]:\n",
    "                angle *= -1\n",
    "\n",
    "            arc = ArcBetweenPoints(start, end, angle)\n",
    "            arcs.add(arc)\n",
    "\n",
    "            # updating variables\n",
    "            self.index = index\n",
    "            count += 1\n",
    "            visited[count] = self.index\n",
    "\n",
    "        # setting the colors of the arcs\n",
    "        VIBGYOR.reverse()\n",
    "        arcs.set_color_by_gradient(*VIBGYOR)\n",
    "\n",
    "        frame = self.camera.frame\n",
    "\n",
    "        # rendering the sequence\n",
    "        for i, arc in enumerate(arcs):\n",
    "            max_width = max(max_width, max(visited[:i + 2])/(count+1))\n",
    "\n",
    "            # as the frame width changes, the arcs starts to look thinner, so increasing\n",
    "            # the stroke width of all arcs as frame width increases.\n",
    "            arcs.set_stroke(width=arcs.get_stroke_width() * 1.028)\n",
    "\n",
    "            self.play(\n",
    "                Create(arc),\n",
    "                frame.animate.scale(max_width/frame.width),\n",
    "                ApplyMethod(frame = self.camera.frame.move_to,  max_width * RIGHT),\n",
    "                rate_func=linear,\n",
    "                run_time=0.25\n",
    "            )\n",
    "#         self.play(ApplyMethod(vgc.apply_complex_function, lambda x: np.exp(x*1j)))\n",
    "\n"
   ]
  },
  {
   "cell_type": "code",
   "execution_count": null,
   "metadata": {
    "tags": []
   },
   "outputs": [],
   "source": [
    "%%manim IterateColor\n",
    "\n",
    "class HelloWorld(Scene):\n",
    "    def construct(self):\n",
    "        text = Text(\"Hello world\", font_size=144)\n",
    "        self.add(text)\n",
    "        \n",
    "class SingleLineColor(Scene):\n",
    "    def construct(self):\n",
    "        text = MarkupText(f'all in red <span fgcolor=\"{YELLOW}\">except this</span>', color=RED)\n",
    "        self.add(text)\n",
    "        \n",
    "\n",
    "class FontsExample(Scene):\n",
    "    def construct(self):\n",
    "        ft = Text(\"Noto Sans\", font=\"Noto Sans\")\n",
    "        self.add(ft)\n",
    "class SlantsExample(Scene):\n",
    "    def construct(self):\n",
    "        a = Text(\"Italic\", slant=ITALIC)\n",
    "        self.add(a)\n",
    "class SimpleColor(Scene):\n",
    "    def construct(self):\n",
    "        col = Text(\"RED COLOR\", color=RED)\n",
    "        self.add(col)\n",
    "\n",
    "class LineSpacing(Scene):\n",
    "    def construct(self):\n",
    "        a = Text(\"Hello\\nWorld\", line_spacing=1)\n",
    "        b = Text(\"Hello\\nWorld\", line_spacing=4)\n",
    "        self.add(Group(a,b).arrange(LEFT, buff=5))\n",
    "class IterateColor(Scene):\n",
    "    def construct(self):\n",
    "        text = Text(\"JAN PEDAŁ DRUGI\", font=\"Lato\")\n",
    "        for letter in text:\n",
    "            letter.set_color(random_bright_color())\n",
    "        text2 = Text(\"demon, pedofil, sługa szatana\", font=\"Noto Sans\").next_to(text, DOWN).scale(0.5)\n",
    "        for letter in text2:\n",
    "            letter.set_color(random_bright_color())\n",
    "        \n",
    "        self.play(Create(text))\n",
    "        self.play(Create(text2))\n",
    "        \n",
    "        tex = MathTex(r'21 \\cdot 37 - 111 &= 3\\cdot 7 \\cdot 37 - 3 \\cdot 37\\\\ &= 3 \\cdot 37 \\cdot (7-1)\\\\ &= 6 \\cdot 3 \\cdot 37 \\\\ &= 6 \\cdot 111 =\\ldots')\n",
    "        tex2 = MathTex(r'= 666', font_size=96).next_to(tex, DOWN)\n",
    "        self.play(Transform(text, tex),FadeOut(text2))\n",
    "        self.wait()\n",
    "        self.play(Create(tex2))\n",
    "        self.wait()\n",
    "\n",
    "class MarkupTest(Scene):\n",
    "    def construct(self):\n",
    "        text = MarkupText(\n",
    "            f'<span underline=\"double\" underline_color=\"green\">double green underline</span> in red text<span fgcolor=\"{YELLOW}\"> except this</span>',\n",
    "            color=RED,\n",
    "       max_widthfont_size=34\n",
    "        )\n",
    "        self.play(Create(text))\n",
    "        self.wait()"
   ]
  },
  {
   "cell_type": "code",
   "execution_count": null,
   "metadata": {},
   "outputs": [],
   "source": [
    "%%manim HelloLaTeX\n",
    "\n",
    "class HelloLaTeX(Scene):\n",
    "    def construct(self):\n",
    "        tex = MathTex(r\"\\dfrac23\", font_size=144)\n",
    "        self.add(tex)"
   ]
  },
  {
   "cell_type": "code",
   "execution_count": null,
   "metadata": {},
   "outputs": [],
   "source": [
    "%%manim Test\n",
    "\n",
    "import math\n",
    "class Test(MovingCameraScene):\n",
    "    n=8\n",
    "    def construct(self):\n",
    "        mobs = VGroup()\n",
    "\n",
    "        self.index = 0  # acts as a pointer\n",
    "\n",
    "        for i in range(self.n):\n",
    "            mobs.add(Circle(radius=i+1))\n",
    "\n",
    "            # updating variables\n",
    "            self.index  += 1\n",
    "\n",
    "        # setting the colors of the arcs\n",
    "        VIBGYOR.reverse()\n",
    "        mobs.set_color_by_gradient(*VIBGYOR)\n",
    "\n",
    "        frame = self.camera.frame\n",
    "        # rendering the sequence\n",
    "        for i, mob in enumerate(mobs):\n",
    "\n",
    "            self.play(\n",
    "                Create(mob),\n",
    "                frame.animate.scale(2*(i+1)/frame.width),\n",
    "                rate_func=linear,\n",
    "                run_time=1/(i+1)\n",
    "            )\n",
    "        self.wait()\n",
    "        for i, mob in enumerate(mobs[:-1]):\n",
    "\n",
    "            self.play(\n",
    "                ApplyMethod(mob.become,  Circle(radius=i+1, color=random_bright_color(), fill_opacity=1)),\n",
    "                rate_func=linear,\n",
    "                run_time=1/(i+1)\n",
    "            )\n",
    "        self.play(frame.animate.scale(1/len(mobs)))\n",
    "        self.wait()\n",
    "            "
   ]
  },
  {
   "cell_type": "code",
   "execution_count": null,
   "metadata": {
    "tags": []
   },
   "outputs": [],
   "source": [
    "%%manim Test\n",
    "\n",
    "import math\n",
    "class Test(MovingCameraScene):\n",
    "    n=64\n",
    "    chunks=4\n",
    "    def construct(self):\n",
    "        mobs = VGroup()\n",
    "        ox=0.5; oy=0.4 # centre of plot\n",
    "        \n",
    "        for i in range(1,self.chunks+1):\n",
    "            theta=0\n",
    "            offset=(PI/6)*self.chunks//i\n",
    "            k=(1.1)*i**2# scale factor\n",
    "            inc = (2-tau)*2*np.pi + offset\n",
    "            drad=k*(1+5**0.5)/4.0 # radius of each disc\n",
    "            minv=maxv=0 # minv and maxv will be used later to display inputs chosen\n",
    "\n",
    "            for j in range(1,self.n+1):\n",
    "                theta += inc # updating variables\n",
    "                r = k*j**0.5\n",
    "                x = ox + r*np.cos(theta)\n",
    "                y = oy + r*np.sin(theta)\n",
    "                if x +drad> maxv:\n",
    "                    maxv=x+drad\n",
    "                elif x -drad< minv:\n",
    "                    minv=x-drad\n",
    "                if y +drad> maxv:\n",
    "                    maxv=y+drad\n",
    "                elif y -drad< minv:\n",
    "                    minv=y-drad\n",
    "                disc = Circle(radius=drad, fill_opacity=1).move_to([x,y,0])\n",
    "                mobs.add(disc)\n",
    "\n",
    "\n",
    "        # setting the colors of the arcs\n",
    "        VIBGYOR.reverse()\n",
    "        mobs.set_color_by_gradient(*VIBGYOR)\n",
    "\n",
    "        frame = self.camera.frame\n",
    "\n",
    "        vg = VGroup(*mobs)\n",
    "        self.play(Create(vg),frame.animate.scale((maxv-minv)/frame.height),\n",
    "            rate_func=linear,\n",
    "            run_time=self.n/(max(i, k)+1))\n",
    "        # rendering the sequence\n",
    "#         for i, mob in enumerate(mobs):\n",
    "\n",
    "#             self.play(\n",
    "#                 Create(mob),\n",
    "#                 frame.animate.scale((maxv-minv)/frame.height*(i+1)/self.n*2),\n",
    "#                 rate_func=linear,\n",
    "#                 run_time=1/(i+1)\n",
    "#             )"
   ]
  },
  {
   "cell_type": "code",
   "execution_count": null,
   "metadata": {},
   "outputs": [],
   "source": [
    "%%manim TimesTableScene\n",
    "\n",
    "# Times Table\n",
    "# Mathologer's video: https://youtu.be/qhbuKbxJsk8\n",
    "class TimesTable(VMobject):\n",
    "    m=2\n",
    "    n=200\n",
    "    stroke_width=1.5\n",
    "    radius=2.5\n",
    "    colors = [BLUE_D, WHITE, BLUE_D] \n",
    "    \n",
    "#     CONFIG = {\n",
    "#         \"m\": 2,  # multiplication factor\n",
    "#         \"n\": 200,  # number of lines\n",
    "#         \"stroke_width\": 1.5,  # stroke width of lines, circle\n",
    "#         \"radius\": 2.5,  # radius of circle\n",
    "#         \"colors\": [BLUE_D, WHITE, BLUE_D]  # color of lines\n",
    "#     }\n",
    "\n",
    "    def __init__(self, m=0, **kwargs):\n",
    "        super().__init__(**kwargs)\n",
    "\n",
    "        self.circle = Circle(\n",
    "            radius=self.radius,\n",
    "            stroke_width=self.stroke_width * 2\n",
    "        )\n",
    "        self.lines = self.get_lines()\n",
    "\n",
    "        self.add(self.lines, self.circle)\n",
    "\n",
    "    def get_lines(self):\n",
    "        r = self.radius\n",
    "        cos = np.cos\n",
    "        sin = np.sin\n",
    "        m = self.m\n",
    "        return VGroup(*[\n",
    "            Line(\n",
    "                (r * cos(theta), r * sin(theta), 0),\n",
    "                (r * cos(m * theta), r * sin(m * theta), 0),\n",
    "                stroke_width=self.stroke_width\n",
    "            )\n",
    "            for theta in np.linspace(0, TAU, self.n)\n",
    "        ]).set_color_by_gradient(*self.colors)\n",
    "\n",
    "\n",
    "class TimesTableScene(MovingCameraScene):\n",
    "    def construct(self):\n",
    "        max_factor = 10\n",
    "        axes = Axes()\n",
    "        \n",
    "        axes.set_height(self.camera.frame.height)\n",
    "        labels = axes.get_axis_labels()\n",
    "\n",
    "        text, factor = factor_is = VGroup(\n",
    "            Text(\"Factor = \"),\n",
    "            DecimalNumber(0, num_decimal_places=0, font_size=30)\n",
    "        )\n",
    "        factor_is.arrange(RIGHT)\n",
    "        factor_is.move_to(np.array([4, 3, 0]))\n",
    "\n",
    "        self.play(\n",
    "            Create(axes),\n",
    "            Write(labels),\n",
    "            Write(factor_is)\n",
    "        )\n",
    "\n",
    "        factor_tracker = ValueTracker()\n",
    "        f_always(factor.set_value, factor_tracker.get_value)\n",
    "\n",
    "        def create_and_remove_lines(lines):\n",
    "            self.play(*[\n",
    "                Create(line) for line in lines\n",
    "            ], rate_func=linear)\n",
    "            self.wait()\n",
    "            self.remove(*[line for line in lines])\n",
    "\n",
    "        self.table = TimesTable(m=0)\n",
    "        self.play(Create(self.table.circle))\n",
    "        create_and_remove_lines(self.table.lines)\n",
    "\n",
    "        for i in range(2, max_factor):\n",
    "            factor_tracker.set_value(i)\n",
    "            self.table = TimesTable(m=i)\n",
    "            create_and_remove_lines(self.table.lines)\n",
    "\n",
    "        self.add(self.table)\n",
    "\n",
    "        def update_table(table):\n",
    "            new_table = TimesTable(m=factor_tracker.get_value())\n",
    "            table.become(new_table)\n",
    "\n",
    "        factor.num_decimal_places = 2\n",
    "\n",
    "        self.table.add_updater(update_table)\n",
    "        self.play(\n",
    "            factor_tracker.animate.set_value(0),\n",
    "            run_time=max_factor * 1.5,\n",
    "            rate_func=linear\n",
    "        )\n",
    "        self.wait()\n",
    "#         self.play(*[Uncreate(m) for m in self.mobjects]) "
   ]
  },
  {
   "cell_type": "code",
   "execution_count": null,
   "metadata": {},
   "outputs": [],
   "source": []
  },
  {
   "cell_type": "code",
   "execution_count": null,
   "metadata": {},
   "outputs": [],
   "source": []
  }
 ],
 "metadata": {
  "interpreter": {
   "hash": "bd4c67ef142469da7dc4d338a32ac40116904d26076b8e6aa587d80720bc6a2b"
  },
  "kernelspec": {
   "display_name": "Python 3 (ipykernel)",
   "language": "python",
   "name": "python3"
  },
  "language_info": {
   "codemirror_mode": {
    "name": "ipython",
    "version": 3
   },
   "file_extension": ".py",
   "mimetype": "text/x-python",
   "name": "python",
   "nbconvert_exporter": "python",
   "pygments_lexer": "ipython3",
   "version": "3.9.7"
  }
 },
 "nbformat": 4,
 "nbformat_minor": 4
}
