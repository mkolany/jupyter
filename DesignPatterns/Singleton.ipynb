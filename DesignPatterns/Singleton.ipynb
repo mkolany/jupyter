{
 "cells": [
  {
   "cell_type": "code",
   "execution_count": 119,
   "metadata": {},
   "outputs": [
    {
     "name": "stdout",
     "output_type": "stream",
     "text": [
      "__call__ GPIO.a.b(8, name=4, bname=4)\n",
      "__repr__ GPIO.a.b._ipython_canary_method_should_not_exist_._ipython_canary_method_should_not_exist_()\n"
     ]
    },
    {
     "data": {
      "text/plain": [
       "xyz"
      ]
     },
     "execution_count": 119,
     "metadata": {},
     "output_type": "execute_result"
    }
   ],
   "source": [
    "class SingletonMeta(type):\n",
    "    _instances = {}\n",
    "\n",
    "    def __call__(cls, *args, **kwargs):\n",
    "        \"\"\"\n",
    "        Possible changes to the value of the `__init__` argument do not affect\n",
    "        the returned instance.\n",
    "        \"\"\"\n",
    "        if cls not in cls._instances:\n",
    "            instance = super().__call__(*args, **kwargs)\n",
    "            cls._instances[cls] = instance\n",
    "        return cls._instances[cls]\n",
    "\n",
    "try:\n",
    "    import RPi.GPIO as GPIO\n",
    "    import RTD\n",
    "    import visa\n",
    "\n",
    "except ModuleNotFoundError:\n",
    "    from queue import LifoQueue\n",
    "    class Adapter(object):\n",
    "        q = LifoQueue()\n",
    "        def __init__(self, name=''):\n",
    "            self.name=name\n",
    "        def __getattr__(self, *args, **kwargs):\n",
    "            self.q.put(args[0])\n",
    "            return self\n",
    "\n",
    "        def __call__(self, *args, **kwargs):\n",
    "            \n",
    "            print('__call__ {}.{}({})'.format(self.name, '.'.join(list(self.q.queue)), ', '.join([str(a) for a in args]+['{}={}'.format(*kv) for kv in kwargs.items()])))\n",
    "            return self\n",
    "\n",
    "        def __repr__(self,*args,**kwargs):\n",
    "            print('__repr__ {}.{}({})'.format(self.name, '.'.join(list(self.q.queue)), ', '.join([str(a) for a in args]+['{}={}'.format(*kv) for kv in kwargs.items()])))\n",
    "\n",
    "            return 'xyz'\n",
    "    GPIO = Adapter('GPIO')\n",
    "    RTD = Adapter('RTD')\n",
    "    VISA = Adapter('VISA')\n",
    "\n",
    "GPIO.a.b(8, name=4, bname=4)\n"
   ]
  },
  {
   "cell_type": "code",
   "execution_count": 114,
   "metadata": {},
   "outputs": [
    {
     "name": "stdout",
     "output_type": "stream",
     "text": [
      "__call__ GPIO.a.b.setmode.BCM(its all fake)\n",
      "__call__ GPIO.a.b.setmode.BCM.setwarnings(False)\n",
      "__call__ GPIO.a.b.setmode.BCM.setwarnings.setup.OUT(4, its all fake)\n",
      "__call__ GPIO.a.b.setmode.BCM.setwarnings.setup.OUT.setup.OUT(19, its all fake)\n",
      "__call__ GPIO.a.b.setmode.BCM.setwarnings.setup.OUT.setup.OUT.PWM(4, 10)\n",
      "__call__ GPIO.a.b.setmode.BCM.setwarnings.setup.OUT.setup.OUT.PWM.PWM(19, 10)\n"
     ]
    },
    {
     "ename": "AttributeError",
     "evalue": "'int' object has no attribute 'start'",
     "output_type": "error",
     "traceback": [
      "\u001b[1;31m---------------------------------------------------------------------------\u001b[0m",
      "\u001b[1;31mAttributeError\u001b[0m                            Traceback (most recent call last)",
      "\u001b[1;32m<ipython-input-114-bb729b3af2a3>\u001b[0m in \u001b[0;36m<module>\u001b[1;34m\u001b[0m\n\u001b[0;32m     25\u001b[0m \u001b[1;32mif\u001b[0m \u001b[0m__name__\u001b[0m \u001b[1;33m==\u001b[0m \u001b[1;34m\"__main__\"\u001b[0m\u001b[1;33m:\u001b[0m\u001b[1;33m\u001b[0m\u001b[1;33m\u001b[0m\u001b[0m\n\u001b[0;32m     26\u001b[0m     \u001b[1;31m# The client code.\u001b[0m\u001b[1;33m\u001b[0m\u001b[1;33m\u001b[0m\u001b[1;33m\u001b[0m\u001b[0m\n\u001b[1;32m---> 27\u001b[1;33m     \u001b[0ms1\u001b[0m \u001b[1;33m=\u001b[0m \u001b[0mKeithley\u001b[0m\u001b[1;33m(\u001b[0m\u001b[1;33m)\u001b[0m\u001b[1;33m\u001b[0m\u001b[1;33m\u001b[0m\u001b[0m\n\u001b[0m",
      "\u001b[1;32m<ipython-input-113-4c66b75b9ad5>\u001b[0m in \u001b[0;36m__call__\u001b[1;34m(cls, *args, **kwargs)\u001b[0m\n\u001b[0;32m      8\u001b[0m         \"\"\"\n\u001b[0;32m      9\u001b[0m         \u001b[1;32mif\u001b[0m \u001b[0mcls\u001b[0m \u001b[1;32mnot\u001b[0m \u001b[1;32min\u001b[0m \u001b[0mcls\u001b[0m\u001b[1;33m.\u001b[0m\u001b[0m_instances\u001b[0m\u001b[1;33m:\u001b[0m\u001b[1;33m\u001b[0m\u001b[1;33m\u001b[0m\u001b[0m\n\u001b[1;32m---> 10\u001b[1;33m             \u001b[0minstance\u001b[0m \u001b[1;33m=\u001b[0m \u001b[0msuper\u001b[0m\u001b[1;33m(\u001b[0m\u001b[1;33m)\u001b[0m\u001b[1;33m.\u001b[0m\u001b[0m__call__\u001b[0m\u001b[1;33m(\u001b[0m\u001b[1;33m*\u001b[0m\u001b[0margs\u001b[0m\u001b[1;33m,\u001b[0m \u001b[1;33m**\u001b[0m\u001b[0mkwargs\u001b[0m\u001b[1;33m)\u001b[0m\u001b[1;33m\u001b[0m\u001b[1;33m\u001b[0m\u001b[0m\n\u001b[0m\u001b[0;32m     11\u001b[0m             \u001b[0mcls\u001b[0m\u001b[1;33m.\u001b[0m\u001b[0m_instances\u001b[0m\u001b[1;33m[\u001b[0m\u001b[0mcls\u001b[0m\u001b[1;33m]\u001b[0m \u001b[1;33m=\u001b[0m \u001b[0minstance\u001b[0m\u001b[1;33m\u001b[0m\u001b[1;33m\u001b[0m\u001b[0m\n\u001b[0;32m     12\u001b[0m         \u001b[1;32mreturn\u001b[0m \u001b[0mcls\u001b[0m\u001b[1;33m.\u001b[0m\u001b[0m_instances\u001b[0m\u001b[1;33m[\u001b[0m\u001b[0mcls\u001b[0m\u001b[1;33m]\u001b[0m\u001b[1;33m\u001b[0m\u001b[1;33m\u001b[0m\u001b[0m\n",
      "\u001b[1;32m<ipython-input-114-bb729b3af2a3>\u001b[0m in \u001b[0;36m__init__\u001b[1;34m(self)\u001b[0m\n\u001b[0;32m     17\u001b[0m         \u001b[0mpwm_1\u001b[0m \u001b[1;33m=\u001b[0m \u001b[0mGPIO\u001b[0m\u001b[1;33m.\u001b[0m\u001b[0mPWM\u001b[0m\u001b[1;33m(\u001b[0m\u001b[0mpin_1\u001b[0m\u001b[1;33m,\u001b[0m \u001b[1;36m10\u001b[0m\u001b[1;33m)\u001b[0m\u001b[1;33m\u001b[0m\u001b[1;33m\u001b[0m\u001b[0m\n\u001b[0;32m     18\u001b[0m         \u001b[0mpwm_2\u001b[0m \u001b[1;33m=\u001b[0m \u001b[0mGPIO\u001b[0m\u001b[1;33m.\u001b[0m\u001b[0mPWM\u001b[0m\u001b[1;33m(\u001b[0m\u001b[0mpin_2\u001b[0m\u001b[1;33m,\u001b[0m \u001b[1;36m10\u001b[0m\u001b[1;33m)\u001b[0m\u001b[1;33m\u001b[0m\u001b[1;33m\u001b[0m\u001b[0m\n\u001b[1;32m---> 19\u001b[1;33m         \u001b[0mpwm_1\u001b[0m\u001b[1;33m.\u001b[0m\u001b[0mstart\u001b[0m\u001b[1;33m(\u001b[0m\u001b[1;36m0\u001b[0m\u001b[1;33m)\u001b[0m\u001b[1;33m\u001b[0m\u001b[1;33m\u001b[0m\u001b[0m\n\u001b[0m\u001b[0;32m     20\u001b[0m         \u001b[0mpwm_2\u001b[0m\u001b[1;33m.\u001b[0m\u001b[0mstart\u001b[0m\u001b[1;33m(\u001b[0m\u001b[1;36m0\u001b[0m\u001b[1;33m)\u001b[0m\u001b[1;33m\u001b[0m\u001b[1;33m\u001b[0m\u001b[0m\n\u001b[0;32m     21\u001b[0m \u001b[1;33m\u001b[0m\u001b[0m\n",
      "\u001b[1;31mAttributeError\u001b[0m: 'int' object has no attribute 'start'"
     ]
    }
   ],
   "source": [
    "\n",
    "import time\n",
    "import csv\n",
    "\n",
    "class Keithley(metaclass=SingletonMeta):\n",
    "    def __init__(self):\n",
    "        # -*- coding: utf-8 -*-\n",
    "        \n",
    "        ## pin setup\n",
    "        GPIO.setmode(GPIO.BCM)\n",
    "        GPIO.setwarnings(False)\n",
    "\n",
    "        pin_1 = 4\n",
    "        pin_2 = 19\n",
    "\n",
    "        GPIO.setup(pin_1, GPIO.OUT)\n",
    "        GPIO.setup(pin_2, GPIO.OUT)\n",
    "        pwm_1 = GPIO.PWM(pin_1, 10)\n",
    "        pwm_2 = GPIO.PWM(pin_2, 10)\n",
    "        pwm_1.start(0)\n",
    "        pwm_2.start(0)\n",
    "\n",
    "        sensor_1 = RTD.max31865(csPin = 16)\n",
    "        sensor_2 = RTD.max31865(csPin = 12)\n",
    "\n",
    "if __name__ == \"__main__\":\n",
    "    # The client code.\n",
    "    s1 = Keithley()\n"
   ]
  },
  {
   "cell_type": "code",
   "execution_count": null,
   "metadata": {},
   "outputs": [],
   "source": []
  }
 ],
 "metadata": {
  "kernelspec": {
   "display_name": "Python 3",
   "language": "python",
   "name": "python3"
  },
  "orig_nbformat": 4
 },
 "nbformat": 4,
 "nbformat_minor": 2
}
