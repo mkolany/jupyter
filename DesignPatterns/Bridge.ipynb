{
 "cells": [
  {
   "cell_type": "markdown",
   "id": "b7d82d19-11e2-405a-9896-06c9362e8237",
   "metadata": {},
   "source": [
    "## Bridge pattern – przykład wzorcowy:"
   ]
  },
  {
   "cell_type": "code",
   "execution_count": 73,
   "id": "e780c837-7c2e-4813-af7a-0d1496653276",
   "metadata": {
    "tags": []
   },
   "outputs": [
    {
     "name": "stdout",
     "output_type": "stream",
     "text": [
      "Base operation with: Shape:\n",
      "\tImplementation (Square): Here's the result on the platform A.\n",
      "\n",
      "Base operation with: ColorizedShape:\n",
      "\tImplementation (Circle): Here's the result on the platform B.\n",
      "\tred"
     ]
    }
   ],
   "source": [
    "from __future__ import annotations\n",
    "from abc import ABC, abstractmethod\n",
    "\n",
    "\n",
    "class Shape:\n",
    "    \"\"\"\n",
    "    The Shape defines the interface for the \"control\" part of the two\n",
    "    class hierarchies. It maintains a reference to an object of the\n",
    "    Implementation hierarchy and delegates all of the real work to this object.\n",
    "    \"\"\"\n",
    "\n",
    "    def __init__(self, implementation: Implementation) -> None:\n",
    "        self.implementation = implementation\n",
    "\n",
    "    def operation(self) -> str:\n",
    "        return (f\"Base operation with: {self.__class__.__name__}:\\n\\t\"\n",
    "                f\"{self.implementation.operation_implementation()}\")\n",
    "\n",
    "\n",
    "class ColorizedShape(Shape):\n",
    "    \"\"\"\n",
    "    You can extend the Shape without changing the Implementation classes.\n",
    "    \"\"\"\n",
    "\n",
    "    def __init__(self, implementation: Implementation) -> None:\n",
    "        super().__init__(implementation)\n",
    "        self.color = 'red'\n",
    "\n",
    "    def operation(self) -> str:\n",
    "        return (f\"{super().operation()}\\n\\t\"\n",
    "                f\"{self.color}\")\n",
    "\n",
    "\n",
    "class Implementation(ABC):\n",
    "    \"\"\"\n",
    "    The Implementation defines the interface for all implementation classes. It\n",
    "    doesn't have to match the Shape's interface. In fact, the two\n",
    "    interfaces can be entirely different. Typically the Implementation interface\n",
    "    provides only primitive operations, while the Shape defines higher-\n",
    "    level operations based on those primitives.\n",
    "    \"\"\"\n",
    "\n",
    "    @abstractmethod\n",
    "    def operation_implementation(self) -> str:\n",
    "        pass\n",
    "\n",
    "\n",
    "\"\"\"\n",
    "Each Concrete Implementation corresponds to a specific platform and implements\n",
    "the Implementation interface using that platform's API.\n",
    "\"\"\"\n",
    "\n",
    "class Square(Implementation):\n",
    "    def operation_implementation(self) -> str:\n",
    "        return \"Implementation (Square): Here's the result on the platform A.\"\n",
    "\n",
    "\n",
    "class Circle(Implementation):\n",
    "    def operation_implementation(self) -> str:\n",
    "        return \"Implementation (Circle): Here's the result on the platform B.\"\n",
    "\n",
    "\n",
    "def client_code(abstraction: Shape) -> None:\n",
    "    \"\"\"\n",
    "    Except for the initialization phase, where an Shape object gets linked\n",
    "    with a specific Implementation object, the client code should only depend on\n",
    "    the Shape class. This way the client code can support any abstraction-\n",
    "    implementation combination.\n",
    "    \"\"\"\n",
    "\n",
    "    # ...\n",
    "\n",
    "    print(abstraction.operation(), end=\"\")\n",
    "\n",
    "    # ...\n",
    "\n",
    "\n",
    "# \"__main__\"\n",
    "\"\"\"\n",
    "The client code should be able to work with any pre-configured abstraction-\n",
    "implementation combination.\n",
    "\"\"\"\n",
    "\n",
    "abstraction = Shape( Square()) \n",
    "client_code(abstraction)\n",
    "\n",
    "print(\"\\n\")\n",
    "\n",
    "abstraction = ColorizedShape( Circle() )\n",
    "client_code(abstraction)"
   ]
  },
  {
   "cell_type": "markdown",
   "id": "8f5946dd-9c52-4e57-833b-270922da3b76",
   "metadata": {},
   "source": [
    "### Moje implementacje:"
   ]
  },
  {
   "cell_type": "code",
   "execution_count": 75,
   "id": "3ef9842d-f412-4bd0-8243-e625fa0e02b5",
   "metadata": {},
   "outputs": [
    {
     "name": "stdout",
     "output_type": "stream",
     "text": [
      "Debug: CHUJ\n"
     ]
    },
    {
     "data": {
      "text/plain": [
       "[__main__.FilteredLogger, __main__.Logger, object]"
      ]
     },
     "execution_count": 75,
     "metadata": {},
     "output_type": "execute_result"
    }
   ],
   "source": [
    "import sys\n",
    "\n",
    "#abstraction\n",
    "class Logger:\n",
    "    def __init__(self, handler):\n",
    "        self.handler = handler\n",
    "\n",
    "    def log(self, message):\n",
    "        self.handler.emit(message)\n",
    "\n",
    "#abstraction extension\n",
    "class FilteredLogger(Logger):\n",
    "    def __init__(self, pattern, handler):\n",
    "        self.pattern = pattern\n",
    "        super().__init__(handler)\n",
    "\n",
    "    def log(self, message):\n",
    "        if self.pattern in message:\n",
    "            super().log(message)\n",
    "\n",
    "#implementations\n",
    "class FileHandler:\n",
    "    def __init__(self, output=sys.stdout):\n",
    "        self.output = output\n",
    "\n",
    "    def emit(self, message):\n",
    "        self.output.write(message + '\\n')\n",
    "        self.output.flush()\n",
    "\n",
    "handler = FileHandler(sys.stdout)\n",
    "logger = FilteredLogger('Debug', handler)\n",
    "\n",
    "logger.log('Error: CIPA')\n",
    "logger.log('Debug: CHUJ')\n",
    "type(logger).mro()"
   ]
  },
  {
   "cell_type": "code",
   "execution_count": 76,
   "id": "0111b173-b284-446d-ab82-b353cb3693bc",
   "metadata": {},
   "outputs": [
    {
     "name": "stdout",
     "output_type": "stream",
     "text": [
      "circel\n",
      "> red\n"
     ]
    }
   ],
   "source": [
    "from abc import ABC, abstractmethod\n",
    "\n",
    "class Shape(ABC):\n",
    "    def __init__(self, color: Color, draw_api: DrawAPI) -> None:\n",
    "        self.color = color\n",
    "        self.draw_api = draw_api\n",
    "        self.create()\n",
    "    \n",
    "    def print_color(self):\n",
    "        return self.color.get_color()\n",
    "    \n",
    "    def draw(self):\n",
    "        self.draw_api.display(self.print_color())\n",
    "        \n",
    "    @abstractmethod\n",
    "    def create(self):\n",
    "        pass\n",
    "     \n",
    "class Circle(Shape):\n",
    "    def create(self):        \n",
    "        print(\"circel\")\n",
    "        \n",
    "class Square(Shape):\n",
    "    def create(self):\n",
    "        print(\"squaire\")\n",
    "          \n",
    "class DrawAPI(ABC):\n",
    "    @abstractmethod\n",
    "    def display(self):\n",
    "        pass\n",
    "    \n",
    "class JustPrintIt(DrawAPI):\n",
    "    def display(self, some_shit):\n",
    "        print(f'> {some_shit}')\n",
    "\n",
    "class Color(ABC):\n",
    "    @abstractmethod\n",
    "    def get_color(self):\n",
    "        pass\n",
    "\n",
    "class Red(Color):\n",
    "    def get_color(self):\n",
    "        return \"red\"\n",
    "\n",
    "class Blue(Color):\n",
    "    def get_color(self):\n",
    "        return \"bleu\"\n",
    "\n",
    "dapi = JustPrintIt()\n",
    "red  = Red()\n",
    "circle1 = Circle(red, dapi)\n",
    "    \n",
    "circle1.draw()"
   ]
  },
  {
   "cell_type": "markdown",
   "id": "d521cf9c-11e4-4ef1-9769-b3ec2eb4f83d",
   "metadata": {},
   "source": [
    "## Handler pattern – przykład wzorcowy:"
   ]
  },
  {
   "cell_type": "code",
   "execution_count": 57,
   "id": "9156356e-72b8-4aa6-b3e0-76e8530ce274",
   "metadata": {},
   "outputs": [
    {
     "data": {
      "text/plain": [
       "2"
      ]
     },
     "execution_count": 57,
     "metadata": {},
     "output_type": "execute_result"
    }
   ],
   "source": [
    "from abc import ABC, abstractmethod\n",
    "from typing import Optional, Tuple, TypeVar\n",
    "\n",
    "T = TypeVar(\"T\")\n",
    "\n",
    "class AbstractHandler(ABC):\n",
    "    def __init__(self, successor: Optional[T] = None):\n",
    "        self.successor = successor\n",
    "\n",
    "    def handle(self, request: int) -> None:\n",
    "        \"\"\"\n",
    "        Handle request and call next handler in chain if exists.\n",
    "        \"\"\"\n",
    "        res = self.handler(request)\n",
    "        if self.successor:\n",
    "            self.successor.handle(res)\n",
    "        else:\n",
    "            print(res)\n",
    "            return res\n",
    "\n",
    "    @abstractmethod\n",
    "    def handler(self,  request: int) -> Optional[T]:\n",
    "        pass\n",
    "\n",
    "# \"__main__\"\n",
    "class Successor(AbstractHandler):\n",
    "    def handler(self,  request: int) -> Optional[T]:\n",
    "        return  request+1\n",
    "class Divide(AbstractHandler):\n",
    "    def handler(self,  request: int) -> Optional[T]:\n",
    "        return request//2\n",
    "    \n",
    "class Multiply(AbstractHandler):\n",
    "    def handler(self,  request: int) -> Optional[T]:\n",
    "        return request*2\n",
    "    \n",
    "class Square(AbstractHandler):\n",
    "    def handler(self,  request: int) -> Optional[T]:\n",
    "        return request**2\n",
    "    \n",
    "class Stop(AbstractHandler):\n",
    "    def handler(self,  request: int) -> Optional[T]:\n",
    "        if (request>17) :\n",
    "             self.successor = None \n",
    "        return request\n",
    " \n",
    "h0 = Successor()\n",
    "h1 = Divide()\n",
    "h2 = Multiply()\n",
    "h3 = Square()\n",
    "h4 = Stop()\n",
    "\n",
    "h0.successor = h1\n",
    "h1.successor = h4\n",
    "h2.successor = h4\n",
    "# h3.successor = h4\n",
    "h4.successor = h0\n",
    "\n",
    "h0.handler(1)"
   ]
  },
  {
   "cell_type": "code",
   "execution_count": 52,
   "id": "7fc77a9e-da48-43d4-a06e-d49e640a6827",
   "metadata": {},
   "outputs": [
    {
     "data": {
      "text/plain": [
       "2"
      ]
     },
     "execution_count": 52,
     "metadata": {},
     "output_type": "execute_result"
    }
   ],
   "source": [
    "2%17"
   ]
  },
  {
   "cell_type": "code",
   "execution_count": null,
   "id": "913f5ef5-6227-4966-bba5-2630300c1195",
   "metadata": {},
   "outputs": [],
   "source": []
  }
 ],
 "metadata": {
  "kernelspec": {
   "display_name": "Python 3 (ipykernel)",
   "language": "python",
   "name": "python3"
  },
  "language_info": {
   "codemirror_mode": {
    "name": "ipython",
    "version": 3
   },
   "file_extension": ".py",
   "mimetype": "text/x-python",
   "name": "python",
   "nbconvert_exporter": "python",
   "pygments_lexer": "ipython3",
   "version": "3.9.7"
  }
 },
 "nbformat": 4,
 "nbformat_minor": 5
}
