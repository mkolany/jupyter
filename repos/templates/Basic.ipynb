{
 "cells": [
  {
   "cell_type": "markdown",
   "id": "082801ef-2f0b-42b2-847e-ee7c4b4e9f36",
   "metadata": {},
   "source": [
    "# Siemson\n",
    "## Kot kluska"
   ]
  },
  {
   "cell_type": "code",
   "execution_count": 1,
   "id": "d64d766e-e4f4-40b7-b698-4bc54d89b477",
   "metadata": {},
   "outputs": [
    {
     "data": {
      "text/plain": [
       "3"
      ]
     },
     "execution_count": 1,
     "metadata": {},
     "output_type": "execute_result"
    }
   ],
   "source": [
    "2+1"
   ]
  },
  {
   "cell_type": "code",
   "execution_count": null,
   "id": "b02e6a76-4127-452f-8b10-fb6ff0909725",
   "metadata": {},
   "outputs": [],
   "source": []
  }
 ],
 "metadata": {
  "kernelspec": {
   "display_name": "Python 3 (ipykernel)",
   "language": "python",
   "name": "python3"
  },
  "language_info": {
   "codemirror_mode": {
    "name": "ipython",
    "version": 3
   },
   "file_extension": ".py",
   "mimetype": "text/x-python",
   "name": "python",
   "nbconvert_exporter": "python",
   "pygments_lexer": "ipython3",
   "version": "3.9.7"
  },
  "toc-autonumbering": true,
  "toc-showmarkdowntxt": false
 },
 "nbformat": 4,
 "nbformat_minor": 5
}
