{
 "cells": [
  {
   "cell_type": "markdown",
   "id": "2955c46a",
   "metadata": {},
   "source": [
    "<!-- <img style=\"display: block; width: 100vw; height: 350px; object-fit: cover; object-position: center 20%;\" src=\"images/Studio_del_Corpo_Umano_-_Leonardo_da_Vinci.png\">\n",
    " -->\n",
    "<img width =\"100%\" height= \"350px\" class=\"banner\" src=\"images/Studio_del_Corpo_Umano_-_Leonardo_da_Vinci.png\">"
   ]
  },
  {
   "cell_type": "markdown",
   "id": "09196342",
   "metadata": {},
   "source": [
    "# Ciągi geometryczne\n",
    "### Procent prosty\n",
    "\n",
    "####  Wstęp teoretyczny\n",
    "Pojęcie to związane jest z oprocentowaniem kapitału $K_0$ w którym dochód w postaci odsetek nie jest doliczany do kwoty, z której będą one obliczane w następnym okresie kapitalizacji odsetek. \n",
    "\n",
    "####  W praktyce\n",
    "Oznacza to, że w każdym okresie są one obliczane od tej samej kwoty, a więc odsetki zawsze będą wynosiły:\n",
    "$$d=\\frac{p}{100}\\cdot K_0$$\n",
    "gdzie **p%** jest stopą procentową dla omawianego okresu kapitalizacji.\n",
    "\n",
    "> **Uwaga**\n",
    "> \n",
    "> Warto podkreślić, że np. dla stopy rocznej wynoszącej 9% i czteromiesięcznego okresu kapitalizacji będzie to 3%\n",
    "\n",
    "Stąd wynika, że po upływie $n$ okresów kapitalizacji odsetek dochód uzyskany z odsetek wynosi:\n",
    "$n\\cdot d=n\\cdot\\frac{p}{100}\\cdot K_0$,\n",
    "a więc kapitał końcowy $K_n$ wynosi:\n",
    "$$ K_n=K_0+n\\cdot\\frac{p}{100}\\cdot K_0\\\\=K_0\\cdot(1+n\\cdot\\frac{p}{100})$$"
   ]
  },
  {
   "cell_type": "markdown",
   "id": "0d87bb01",
   "metadata": {},
   "source": [
    "#### Poniżej znajduje się applet, za pomocą którego można zasymulować tego typu sytuację:"
   ]
  },
  {
   "cell_type": "code",
   "execution_count": 8,
   "id": "764d2a3f",
   "metadata": {},
   "outputs": [
    {
     "name": "stdout",
     "output_type": "stream",
     "text": [
      "procent_prosty:\n",
      "\n",
      "\t(n=0) \tKn = 1000.00 zł\n",
      "\t(n=1) \tKn = 1006.67 zł\n",
      "\t(n=2) \tKn = 1013.33 zł\n",
      "\t(n=3) \tKn = 1020.00 zł\n",
      "\t(n=4) \tKn = 1026.67 zł\n",
      "\t(n=5) \tKn = 1033.33 zł\n",
      "\t(n=6) \tKn = 1040.00 zł\n",
      "\t(n=7) \tKn = 1046.67 zł\n",
      "\t(n=8) \tKn = 1053.33 zł\n",
      "\t(n=9) \tKn = 1060.00 zł\n"
     ]
    }
   ],
   "source": [
    "\n",
    "def procent_prosty(kapital_poczatkowy, oprocentowanie):\n",
    "    Kp=kapital_poczatkowy\n",
    "    p=oprocentowanie\n",
    "    \n",
    "    n=0\n",
    "    d=0\n",
    "    while True:\n",
    "        yield n, Kp+d\n",
    "        d += (p/100)*Kp\n",
    "        n +=1\n",
    "lokata1 = procent_prosty(1000, 2/3)\n",
    "\n",
    "\n",
    "def kapitalizacja(lokata):\n",
    "    okres, kapital = next(lokata)    \n",
    "    print(\"\\t(n={0}) \\tKn = {1:.2f} zł\".format(okres, kapital, lokata.__name__))\n",
    "        \n",
    "print('procent_prosty:\\n')\n",
    "for _ in range(10):\n",
    "    kapitalizacja(lokata1)"
   ]
  },
  {
   "cell_type": "markdown",
   "id": "53c5f45c",
   "metadata": {},
   "source": [
    "### Procent składany\n",
    "\n",
    "####  Wstęp teoretyczny\n",
    "W tym przypadku odsetki obliczane są z kwoty uwzględniające dotychczasowe odsetki.\n",
    "\n",
    "####  W praktyce\n",
    "Przyjrzyjmy się temu procesowi. Jeśli kapitał początkowy wynosi $K_0$, a odpowiednia stopa procentowa związana z ich kapitalizacją wynosi **p%**, to po pierwszym okresie kapitalizacji kapitał wynosić będzie\n",
    "$$K_1=K_0+\\frac{p}{100}\\cdot K_0=\\\\\n",
    "=K_0\\cdot\\left(1+\\frac{p}{100}\\right)$$\n",
    "\n",
    "Zauważmy, że widać tu wyraźnie, że do jakiegoś kapitału bazowego (w tym wypadku $K_0$) doliczona została kwota wynikająca z odsetek. Gdyby od tych odsetek należało odliczyć podatek, to należy zająć się tym w części związanej z odsetkami (np. dla podatku wynoszącego **10%** odsetek pojawiłoby się tam $\\ldots+\\frac{90}{100}(\\frac{p}{100}\\cdot K_0)\\ldots$ \n",
    "\n",
    "\n",
    "Co się dzieje w następnym okresie? Cóż, sytuacja będzie dość podobna, jednak odsetki będą tu obliczane z kwoty $K_1$ zamiast $K_0$, bo tyle obecnie posiadamy na lokacie. Wobec tego posiadany kapitał powinien wynosić (ostatnie przekształcenie dotyczy podstawienia w miejsce $K_1$ tego, co wyszło w punkcie poprzednim):\n",
    "$$K_2=K_1+\\frac{p}{100}\\cdot K_1=K_1\\cdot\\left(1+\\frac{p}{100}\\right)=\\\\=K_0\\cdot\\left(1+\\frac{p}{100}\\right)^2$$\n",
    "*.*\n",
    "\n",
    "\n",
    "Okazuje się, że dla $n=3$ też wychodzi podobnie:\n",
    "$$K_3=K_2+\\frac{p}{100}\\cdot K_2=K_2\\cdot\\left(1+\\frac{p}{100}\\right)=K_0\\cdot\\left(1+\\frac{p}{100}\\right)^3$$\n",
    "\n",
    "I tak dalej.\n",
    "Myślę, że chyba każdy się już spodziewa, że w dowolnym sensownym $n$–tym okresie kapitalizacji kapitał $K_n$ powinno dać się wyliczyć z poniższego wzoru:\n",
    "$$K_n = K_0\\cdot\\left(1+\\frac{p}{100}\\right)^n$$\n"
   ]
  },
  {
   "cell_type": "code",
   "execution_count": 2,
   "id": "3100677b",
   "metadata": {},
   "outputs": [],
   "source": [
    "#### Poniżej kolejny applet:"
   ]
  },
  {
   "cell_type": "code",
   "execution_count": 5,
   "id": "8cf85925",
   "metadata": {},
   "outputs": [
    {
     "name": "stdout",
     "output_type": "stream",
     "text": [
      "procent_skladany:\n",
      "\n",
      "(n=0) \t\tKn = 1000.00 zł\n",
      "(n=1) \t\tKn = 1006.67 zł\n",
      "(n=2) \t\tKn = 1013.38 zł\n",
      "(n=3) \t\tKn = 1020.13 zł\n",
      "(n=4) \t\tKn = 1026.93 zł\n",
      "(n=5) \t\tKn = 1033.78 zł\n",
      "(n=6) \t\tKn = 1040.67 zł\n",
      "(n=7) \t\tKn = 1047.61 zł\n",
      "(n=8) \t\tKn = 1054.59 zł\n",
      "(n=9) \t\tKn = 1061.63 zł\n"
     ]
    }
   ],
   "source": [
    "def procent_skladany(kapital_poczatkowy, oprocentowanie):\n",
    "    Kp=kapital_poczatkowy\n",
    "    p=oprocentowanie\n",
    "    \n",
    "    n=0\n",
    "    while True:\n",
    "        yield n, Kp\n",
    "        Kp += (p/100)*Kp\n",
    "        n +=1\n",
    "        \n",
    "print('procent_skladany:\\n')\n",
    "lokata2 = procent_skladany(1000, 2/3)\n",
    "for _ in range(10):\n",
    "    kapitalizacja(lokata2)    \n"
   ]
  },
  {
   "cell_type": "code",
   "execution_count": null,
   "id": "e388c656",
   "metadata": {},
   "outputs": [],
   "source": []
  }
 ],
 "metadata": {
  "interpreter": {
   "hash": "c75c8f5213e4439354c72e401b9fcc90f28d5aeb4dc5bd494b5358a46ef49854"
  },
  "kernelspec": {
   "display_name": "Python 3 (ipykernel)",
   "language": "python",
   "name": "python3"
  },
  "language_info": {
   "codemirror_mode": {
    "name": "ipython",
    "version": 3
   },
   "file_extension": ".py",
   "mimetype": "text/x-python",
   "name": "python",
   "nbconvert_exporter": "python",
   "pygments_lexer": "ipython3",
   "version": "3.9.7"
  }
 },
 "nbformat": 4,
 "nbformat_minor": 5
}
