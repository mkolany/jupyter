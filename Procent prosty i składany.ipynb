{
 "cells": [
  {
   "cell_type": "markdown",
   "id": "2955c46a",
   "metadata": {},
   "source": [
    "<!-- <img style=\"display: block; width: 100vw; height: 350px; object-fit: cover; object-position: center 20%;\" src=\"images/Studio_del_Corpo_Umano_-_Leonardo_da_Vinci.png\">\n",
    " -->\n",
    "<img width =\"100%\" height= \"350px\" class=\"banner\" src=\"images/Studio_del_Corpo_Umano_-_Leonardo_da_Vinci.png\">"
   ]
  },
  {
   "cell_type": "markdown",
   "id": "eae76951",
   "metadata": {},
   "source": [
    "# Ciągi geometryczne\n",
    "### Procent prosty\n",
    "\n",
    "####  Wstęp teoretyczny\n",
    "Pojęcie to związane jest z oprocentowaniem kapitału $K_0$ w którym dochód w postaci odsetek nie jest doliczany do kwoty, z której będą one obliczane w następnym okresie kapitalizacji odsetek. \n",
    "\n",
    "####  W praktyce\n",
    "Oznacza to, że w każdym okresie są one obliczane od tej samej kwoty, a więc odsetki zawsze będą wynosiły:\n",
    "$$d=\\frac{p}{100}\\cdot K_0$$\n",
    "gdzie **p%** jest stopą procentową dla omawianego okresu kapitalizacji (warto podkreślić, że np. dla stopy rocznej wynoszącej 9% i czteromiesięcznego okresu kapitalizacji będzie to 3%). \n",
    "\n",
    "Stąd wynika, że po upływie $n$ okresów kapitalizacji odsetek dochód uzyskany z odsetek wynosi:\n",
    "$n\\cdot d=n\\cdot\\frac{p}{100}\\cdot K_0$,\n",
    "a więc kapitał końcowy $K_n$ wynosi:\n",
    "$$ K_n=K_0+n\\cdot\\frac{p}{100}\\cdot K_0\\\\=K_0\\cdot(1+n\\cdot\\frac{p}{100})$$"
   ]
  },
  {
   "cell_type": "markdown",
   "id": "0d87bb01",
   "metadata": {},
   "source": [
    "#### Poniżej znajduje się applet, za pomocą którego można zasymulować tego typu sytuację:"
   ]
  },
  {
   "cell_type": "code",
   "execution_count": 74,
   "id": "402383d7",
   "metadata": {},
   "outputs": [
    {
     "data": {
      "application/vnd.jupyter.widget-view+json": {
       "model_id": "97a77983970f422a8e6eb0a273c58a08",
       "version_major": 2,
       "version_minor": 0
      },
      "text/plain": [
       "VBox(children=(Output(layout=Layout(border='0.6px solid black', width='100%')), Button(description='następny o…"
      ]
     },
     "metadata": {},
     "output_type": "display_data"
    }
   ],
   "source": [
    "from ipywidgets import Button, Output, VBox\n",
    "from IPython.display import clear_output \n",
    "def procent_prosty(kapital_poczatkowy, oprocentowanie):\n",
    "    Kp=kapital_poczatkowy\n",
    "    p=oprocentowanie\n",
    "    \n",
    "    n=0\n",
    "    d=0\n",
    "    while True:\n",
    "        yield n, Kp+d\n",
    "        d += (p/100)*Kp\n",
    "        n +=1\n",
    "\n",
    "lokata1 = procent_prosty(1000, 2/3)\n",
    "\n",
    "_output = Output()\n",
    "_output.layout.border = '0.6px solid black';\n",
    "_output.layout.width = '100%';\n",
    "\n",
    "def uplyw_czasu(*args):\n",
    "    okres, kapital = next(lokata1)    \n",
    "    with _output:\n",
    "        print(\"(n={0})\\t Odłożony kapitał:  {1:.2f} zł\".format(okres, kapital))\n",
    "        \n",
    "uplyw_czasu()\n",
    "b=Button(description='następny okres')\n",
    "        \n",
    "b.on_click(uplyw_czasu)\n",
    "\n",
    "display(VBox([_output, b]))\n",
    "\n"
   ]
  },
  {
   "cell_type": "markdown",
   "id": "861190bc",
   "metadata": {},
   "source": [
    "### Procent składany\n",
    "\n",
    "####  Wstęp teoretyczny\n",
    "W tym przypadku odsetki obliczane są z kwoty uwzględniające dotychczasowe odsetki.\n",
    "\n",
    "####  W praktyce\n",
    "Przyjrzyjmy się temu procesowi. Jeśli kapitał początkowy wynosi $K_0$, a odpowiednia stopa procentowa związana z ich kapitalizacją wynosi **p%**, to po pierwszym okresie kapitalizacji kapitał wynosić będzie\n",
    "$$K_1=K_0+\\frac{p}{100}\\cdot K_0=\\\\\n",
    "=K_0\\cdot\\left(1+\\frac{p}{100}\\right)$$\n",
    "\n",
    "Zauważmy, że widać tu wyraźnie, że do jakiegoś kapitału bazowego (w tym wypadku $K_0$) doliczona została kwota wynikająca z odsetek. Gdyby od tych odsetek należało odliczyć podatek, to należy zająć się tym w części związanej z odsetkami (np. dla podatku wynoszącego **10%** odsetek pojawiłoby się tam $\\ldots+\\frac{90}{100}(\\frac{p}{100}\\cdot K_0)\\ldots$ \n",
    "\n",
    "\n",
    "Co się dzieje w następnym okresie? Cóż, sytuacja będzie dość podobna, jednak odsetki będą tu obliczane z kwoty $K_1$ zamiast $K_0$, bo tyle obecnie posiadamy na lokacie. Wobec tego posiadany kapitał powinien wynosić (ostatnie przekształcenie dotyczy podstawienia w miejsce $K_1$ tego, co wyszło w punkcie poprzednim):\n",
    "$$K_2=K_1+\\frac{p}{100}\\cdot K_1=K_1\\cdot\\left(1+\\frac{p}{100}\\right)=\\\\=K_0\\cdot\\left(1+\\frac{p}{100}\\right)^2$$\n",
    "*.*\n",
    "\n",
    "\n",
    "Okazuje się, że dla $n=3$ też wychodzi podobnie:\n",
    "$$K_3=K_2+\\frac{p}{100}\\cdot K_2=K_2\\cdot\\left(1+\\frac{p}{100}\\right)=K_0\\cdot\\left(1+\\frac{p}{100}\\right)^3$$\n",
    "\n",
    "I tak dalej.\n",
    "Myślę, że chyba każdy się już spodziewa, że w dowolnym sensownym $n$–tym okresie kapitalizacji kapitał $K_n$ powinno dać się wyliczyć z poniższego wzoru:\n",
    "$$K_n = K_0\\cdot\\left(1+\\frac{p}{100}\\right)^n$$\n"
   ]
  },
  {
   "cell_type": "code",
   "execution_count": 76,
   "id": "bc7f07e3",
   "metadata": {},
   "outputs": [],
   "source": [
    "#### Poniżej kolejny applet:"
   ]
  },
  {
   "cell_type": "code",
   "execution_count": 85,
   "id": "3e957406",
   "metadata": {},
   "outputs": [
    {
     "data": {
      "application/vnd.jupyter.widget-view+json": {
       "model_id": "78f9dffb09034fe4a460f00ab6b382e5",
       "version_major": 2,
       "version_minor": 0
      },
      "text/plain": [
       "VBox(children=(Output(layout=Layout(border='0.6px solid black', width='100%')), Button(description='następny o…"
      ]
     },
     "metadata": {},
     "output_type": "display_data"
    }
   ],
   "source": [
    "from ipywidgets import Button, Output, VBox\n",
    "from IPython.display import clear_output \n",
    "\n",
    "def procent_skladany(kapital_poczatkowy, oprocentowanie):\n",
    "    Kp=kapital_poczatkowy\n",
    "    p=oprocentowanie\n",
    "    \n",
    "    n=0\n",
    "    while True:\n",
    "        yield n, Kp\n",
    "        Kp += (p/100)*Kp\n",
    "        n +=1\n",
    "        \n",
    "lokata1 = procent_prosty(1000, 2/3)\n",
    "lokata2 = procent_skladany(1000, 2/3)\n",
    "\n",
    "_output = Output()\n",
    "_output.layout.border = '0.6px solid black';\n",
    "_output.layout.width = '100%';\n",
    "\n",
    "def uplyw_czasu(*args):\n",
    "    okres, kapital1 = next(lokata1)    \n",
    "    okres, kapital2 = next(lokata2)    \n",
    "    \n",
    "    with _output:\n",
    "        print(\"(n={0})\\t 1. lokata:  {1:.2f} zł\\t\\t 2. lokata:  {2:.2f} zł\".format(okres, kapital1, kapital2))\n",
    "        \n",
    "uplyw_czasu()\n",
    "b=Button(description='następny okres')\n",
    "        \n",
    "b.on_click(uplyw_czasu)\n",
    "\n",
    "display(VBox([_output, b]))\n",
    "\n"
   ]
  },
  {
   "cell_type": "code",
   "execution_count": null,
   "id": "92838f6d",
   "metadata": {},
   "outputs": [],
   "source": []
  }
 ],
 "metadata": {
  "interpreter": {
   "hash": "c75c8f5213e4439354c72e401b9fcc90f28d5aeb4dc5bd494b5358a46ef49854"
  },
  "kernelspec": {
   "display_name": "Python 3 (ipykernel)",
   "language": "python",
   "name": "python3"
  },
  "language_info": {
   "codemirror_mode": {
    "name": "ipython",
    "version": 3
   },
   "file_extension": ".py",
   "mimetype": "text/x-python",
   "name": "python",
   "nbconvert_exporter": "python",
   "pygments_lexer": "ipython3",
   "version": "3.9.7"
  }
 },
 "nbformat": 4,
 "nbformat_minor": 5
}
