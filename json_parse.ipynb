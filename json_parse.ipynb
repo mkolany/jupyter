{
 "cells": [
  {
   "cell_type": "markdown",
   "metadata": {},
   "source": [
    "import sys\n",
    "\n",
    "!{sys.executable} -m pip install numpy"
   ]
  },
  {
   "cell_type": "code",
   "execution_count": 12,
   "metadata": {},
   "outputs": [
    {
     "name": "stdout",
     "output_type": "stream",
     "text": [
      "Collecting lxml\n",
      "  Using cached lxml-4.6.3.tar.gz (3.2 MB)\n",
      "Using legacy 'setup.py install' for lxml, since package 'wheel' is not installed.\n",
      "Installing collected packages: lxml\n",
      "    Running setup.py install for lxml: started\n",
      "    Running setup.py install for lxml: finished with status 'error'\n"
     ]
    },
    {
     "name": "stderr",
     "output_type": "stream",
     "text": [
      "    ERROR: Command errored out with exit status 1:\n",
      "     command: 'C:\\Users\\michal.kolany\\AppData\\Local\\Programs\\Python\\Python310\\python.exe' -u -c 'import io, os, sys, setuptools, tokenize; sys.argv[0] = '\"'\"'C:\\\\Users\\\\michal.kolany\\\\AppData\\\\Local\\\\Temp\\\\pip-install-qnd0svig\\\\lxml_080e735051e941af8ae027cef46086b9\\\\setup.py'\"'\"'; __file__='\"'\"'C:\\\\Users\\\\michal.kolany\\\\AppData\\\\Local\\\\Temp\\\\pip-install-qnd0svig\\\\lxml_080e735051e941af8ae027cef46086b9\\\\setup.py'\"'\"';f = getattr(tokenize, '\"'\"'open'\"'\"', open)(__file__) if os.path.exists(__file__) else io.StringIO('\"'\"'from setuptools import setup; setup()'\"'\"');code = f.read().replace('\"'\"'\\r\\n'\"'\"', '\"'\"'\\n'\"'\"');f.close();exec(compile(code, __file__, '\"'\"'exec'\"'\"'))' install --record 'C:\\Users\\michal.kolany\\AppData\\Local\\Temp\\pip-record-aykq13hn\\install-record.txt' --single-version-externally-managed --compile --install-headers 'C:\\Users\\michal.kolany\\AppData\\Local\\Programs\\Python\\Python310\\Include\\lxml'\n",
      "         cwd: C:\\Users\\michal.kolany\\AppData\\Local\\Temp\\pip-install-qnd0svig\\lxml_080e735051e941af8ae027cef46086b9\\\n",
      "    Complete output (74 lines):\n",
      "    Building lxml version 4.6.3.\n",
      "    Building without Cython.\n",
      "    Building against pre-built libxml2 andl libxslt libraries\n",
      "    running install\n",
      "    running build\n",
      "    running build_py\n",
      "    creating build\n",
      "    creating build\\lib.win-amd64-3.10\n",
      "    creating build\\lib.win-amd64-3.10\\lxml\n",
      "    copying src\\lxml\\builder.py -> build\\lib.win-amd64-3.10\\lxml\n",
      "    copying src\\lxml\\cssselect.py -> build\\lib.win-amd64-3.10\\lxml\n",
      "    copying src\\lxml\\doctestcompare.py -> build\\lib.win-amd64-3.10\\lxml\n",
      "    copying src\\lxml\\ElementInclude.py -> build\\lib.win-amd64-3.10\\lxml\n",
      "    copying src\\lxml\\pyclasslookup.py -> build\\lib.win-amd64-3.10\\lxml\n",
      "    copying src\\lxml\\sax.py -> build\\lib.win-amd64-3.10\\lxml\n",
      "    copying src\\lxml\\usedoctest.py -> build\\lib.win-amd64-3.10\\lxml\n",
      "    copying src\\lxml\\_elementpath.py -> build\\lib.win-amd64-3.10\\lxml\n",
      "    copying src\\lxml\\__init__.py -> build\\lib.win-amd64-3.10\\lxml\n",
      "    creating build\\lib.win-amd64-3.10\\lxml\\includes\n",
      "    copying src\\lxml\\includes\\__init__.py -> build\\lib.win-amd64-3.10\\lxml\\includes\n",
      "    creating build\\lib.win-amd64-3.10\\lxml\\html\n",
      "    copying src\\lxml\\html\\builder.py -> build\\lib.win-amd64-3.10\\lxml\\html\n",
      "    copying src\\lxml\\html\\clean.py -> build\\lib.win-amd64-3.10\\lxml\\html\n",
      "    copying src\\lxml\\html\\defs.py -> build\\lib.win-amd64-3.10\\lxml\\html\n",
      "    copying src\\lxml\\html\\diff.py -> build\\lib.win-amd64-3.10\\lxml\\html\n",
      "    copying src\\lxml\\html\\ElementSoup.py -> build\\lib.win-amd64-3.10\\lxml\\html\n",
      "    copying src\\lxml\\html\\formfill.py -> build\\lib.win-amd64-3.10\\lxml\\html\n",
      "    copying src\\lxml\\html\\html5parser.py -> build\\lib.win-amd64-3.10\\lxml\\html\n",
      "    copying src\\lxml\\html\\soupparser.py -> build\\lib.win-amd64-3.10\\lxml\\html\n",
      "    copying src\\lxml\\html\\usedoctest.py -> build\\lib.win-amd64-3.10\\lxml\\html\n",
      "    copying src\\lxml\\html\\_diffcommand.py -> build\\lib.win-amd64-3.10\\lxml\\html\n",
      "    copying src\\lxml\\html\\_html5builder.py -> build\\lib.win-amd64-3.10\\lxml\\html\n",
      "    copying src\\lxml\\html\\_setmixin.py -> build\\lib.win-amd64-3.10\\lxml\\html\n",
      "    copying src\\lxml\\html\\__init__.py -> build\\lib.win-amd64-3.10\\lxml\\html\n",
      "    creating build\\lib.win-amd64-3.10\\lxml\\isoschematron\n",
      "    copying src\\lxml\\isoschematron\\__init__.py -> build\\lib.win-amd64-3.10\\lxml\\isoschematron\n",
      "    copying src\\lxml\\etree.h -> build\\lib.win-amd64-3.10\\lxml\n",
      "    copying src\\lxml\\etree_api.h -> build\\lib.win-amd64-3.10\\lxml\n",
      "    copying src\\lxml\\lxml.etree.h -> build\\lib.win-amd64-3.10\\lxml\n",
      "    copying src\\lxml\\lxml.etree_api.h -> build\\lib.win-amd64-3.10\\lxml\n",
      "    copying src\\lxml\\includes\\c14n.pxd -> build\\lib.win-amd64-3.10\\lxml\\includes\n",
      "    copying src\\lxml\\includes\\config.pxd -> build\\lib.win-amd64-3.10\\lxml\\includes\n",
      "    copying src\\lxml\\includes\\dtdvalid.pxd -> build\\lib.win-amd64-3.10\\lxml\\includes\n",
      "    copying src\\lxml\\includes\\etreepublic.pxd -> build\\lib.win-amd64-3.10\\lxml\\includes\n",
      "    copying src\\lxml\\includes\\htmlparser.pxd -> build\\lib.win-amd64-3.10\\lxml\\includes\n",
      "    copying src\\lxml\\includes\\relaxng.pxd -> build\\lib.win-amd64-3.10\\lxml\\includes\n",
      "    copying src\\lxml\\includes\\schematron.pxd -> build\\lib.win-amd64-3.10\\lxml\\includes\n",
      "    copying src\\lxml\\includes\\tree.pxd -> build\\lib.win-amd64-3.10\\lxml\\includes\n",
      "    copying src\\lxml\\includes\\uri.pxd -> build\\lib.win-amd64-3.10\\lxml\\includes\n",
      "    copying src\\lxml\\includes\\xinclude.pxd -> build\\lib.win-amd64-3.10\\lxml\\includes\n",
      "    copying src\\lxml\\includes\\xmlerror.pxd -> build\\lib.win-amd64-3.10\\lxml\\includes\n",
      "    copying src\\lxml\\includes\\xmlparser.pxd -> build\\lib.win-amd64-3.10\\lxml\\includes\n",
      "    copying src\\lxml\\includes\\xmlschema.pxd -> build\\lib.win-amd64-3.10\\lxml\\includes\n",
      "    copying src\\lxml\\includes\\xpath.pxd -> build\\lib.win-amd64-3.10\\lxml\\includes\n",
      "    copying src\\lxml\\includes\\xslt.pxd -> build\\lib.win-amd64-3.10\\lxml\\includes\n",
      "    copying src\\lxml\\includes\\__init__.pxd -> build\\lib.win-amd64-3.10\\lxml\\includes\n",
      "    copying src\\lxml\\includes\\etree_defs.h -> build\\lib.win-amd64-3.10\\lxml\\includes\n",
      "    copying src\\lxml\\includes\\lxml-version.h -> build\\lib.win-amd64-3.10\\lxml\\includes\n",
      "    creating build\\lib.win-amd64-3.10\\lxml\\isoschematron\\resources\n",
      "    creating build\\lib.win-amd64-3.10\\lxml\\isoschematron\\resources\\rng\n",
      "    copying src\\lxml\\isoschematron\\resources\\rng\\iso-schematron.rng -> build\\lib.win-amd64-3.10\\lxml\\isoschematron\\resources\\rng\n",
      "    creating build\\lib.win-amd64-3.10\\lxml\\isoschematron\\resources\\xsl\n",
      "    copying src\\lxml\\isoschematron\\resources\\xsl\\RNG2Schtrn.xsl -> build\\lib.win-amd64-3.10\\lxml\\isoschematron\\resources\\xsl\n",
      "    copying src\\lxml\\isoschematron\\resources\\xsl\\XSD2Schtrn.xsl -> build\\lib.win-amd64-3.10\\lxml\\isoschematron\\resources\\xsl\n",
      "    creating build\\lib.win-amd64-3.10\\lxml\\isoschematron\\resources\\xsl\\iso-schematron-xslt1\n",
      "    copying src\\lxml\\isoschematron\\resources\\xsl\\iso-schematron-xslt1\\iso_abstract_expand.xsl -> build\\lib.win-amd64-3.10\\lxml\\isoschematron\\resources\\xsl\\iso-schematron-xslt1\n",
      "    copying src\\lxml\\isoschematron\\resources\\xsl\\iso-schematron-xslt1\\iso_dsdl_include.xsl -> build\\lib.win-amd64-3.10\\lxml\\isoschematron\\resources\\xsl\\iso-schematron-xslt1\n",
      "    copying src\\lxml\\isoschematron\\resources\\xsl\\iso-schematron-xslt1\\iso_schematron_message.xsl -> build\\lib.win-amd64-3.10\\lxml\\isoschematron\\resources\\xsl\\iso-schematron-xslt1\n",
      "    copying src\\lxml\\isoschematron\\resources\\xsl\\iso-schematron-xslt1\\iso_schematron_skeleton_for_xslt1.xsl -> build\\lib.win-amd64-3.10\\lxml\\isoschematron\\resources\\xsl\\iso-schematron-xslt1\n",
      "    copying src\\lxml\\isoschematron\\resources\\xsl\\iso-schematron-xslt1\\iso_svrl_for_xslt1.xsl -> build\\lib.win-amd64-3.10\\lxml\\isoschematron\\resources\\xsl\\iso-schematron-xslt1\n",
      "    copying src\\lxml\\isoschematron\\resources\\xsl\\iso-schematron-xslt1\\readme.txt -> build\\lib.win-amd64-3.10\\lxml\\isoschematron\\resources\\xsl\\iso-schematron-xslt1\n",
      "    running build_ext\n",
      "    building 'lxml.etree' extension\n",
      "    error: Microsoft Visual C++ 14.0 or greater is required. Get it with \"Microsoft C++ Build Tools\": https://visualstudio.microsoft.com/visual-cpp-build-tools/\n",
      "    ----------------------------------------\n",
      "ERROR: Command errored out with exit status 1: 'C:\\Users\\michal.kolany\\AppData\\Local\\Programs\\Python\\Python310\\python.exe' -u -c 'import io, os, sys, setuptools, tokenize; sys.argv[0] = '\"'\"'C:\\\\Users\\\\michal.kolany\\\\AppData\\\\Local\\\\Temp\\\\pip-install-qnd0svig\\\\lxml_080e735051e941af8ae027cef46086b9\\\\setup.py'\"'\"'; __file__='\"'\"'C:\\\\Users\\\\michal.kolany\\\\AppData\\\\Local\\\\Temp\\\\pip-install-qnd0svig\\\\lxml_080e735051e941af8ae027cef46086b9\\\\setup.py'\"'\"';f = getattr(tokenize, '\"'\"'open'\"'\"', open)(__file__) if os.path.exists(__file__) else io.StringIO('\"'\"'from setuptools import setup; setup()'\"'\"');code = f.read().replace('\"'\"'\\r\\n'\"'\"', '\"'\"'\\n'\"'\"');f.close();exec(compile(code, __file__, '\"'\"'exec'\"'\"'))' install --record 'C:\\Users\\michal.kolany\\AppData\\Local\\Temp\\pip-record-aykq13hn\\install-record.txt' --single-version-externally-managed --compile --install-headers 'C:\\Users\\michal.kolany\\AppData\\Local\\Programs\\Python\\Python310\\Include\\lxml' Check the logs for full command output.\n",
      "WARNING: You are using pip version 21.2.3; however, version 21.3 is available.\n",
      "You should consider upgrading via the 'C:\\Users\\michal.kolany\\AppData\\Local\\Programs\\Python\\Python310\\python.exe -m pip install --upgrade pip' command.\n"
     ]
    }
   ],
   "source": [
    "!{sys.executable} -m pip install lxml"
   ]
  },
  {
   "cell_type": "code",
   "execution_count": 1,
   "metadata": {},
   "outputs": [
    {
     "data": {
      "text/plain": [
       "'c:\\\\Users\\\\User\\\\Downloads'"
      ]
     },
     "execution_count": 1,
     "metadata": {},
     "output_type": "execute_result"
    }
   ],
   "source": [
    "import os\n",
    "os.getcwd()"
   ]
  },
  {
   "cell_type": "code",
   "execution_count": 4,
   "metadata": {},
   "outputs": [
    {
     "data": {
      "text/plain": [
       "dict_keys(['Settings', 'Project', 'GlobalVariables', 'ObjectDefinitions', 'Packages', 'ScriptMethods', 'Hierarchy'])"
      ]
     },
     "execution_count": 4,
     "metadata": {},
     "output_type": "execute_result"
    }
   ],
   "source": [
    "import json\n",
    "file = open('user_story_flow.json', encoding=\"utf8\")\n",
    "ny = json.load(file)\n",
    "ny.keys()"
   ]
  },
  {
   "cell_type": "code",
   "execution_count": 6,
   "metadata": {},
   "outputs": [
    {
     "data": {
      "text/plain": [
       "dict_keys(['Settings', 'Project', 'GlobalVariables', 'ObjectDefinitions', 'Packages', 'ScriptMethods', 'Hierarchy'])"
      ]
     },
     "execution_count": 6,
     "metadata": {},
     "output_type": "execute_result"
    }
   ],
   "source": [
    "ny.keys()"
   ]
  },
  {
   "cell_type": "code",
   "execution_count": 22,
   "metadata": {},
   "outputs": [],
   "source": [
    "import re\n",
    "from bs4 import BeautifulSoup\n",
    "\n",
    "\n",
    "class SaggerParser:\n",
    "    def __init__(self):\n",
    "        pass\n",
    "\n",
    "    def openXML(self, file,encoding=\"utf8\"):\n",
    "        '''savegames are in XML format'''\n",
    "        self.type = 'xml'\n",
    "        try:\n",
    "            with open(file, 'r', encoding=encoding) as f:\n",
    "                self.data = f.read() \n",
    "                \n",
    "        except TypeError as e:\n",
    "            self.data = file\n",
    "        except Exception as e:\n",
    "            print(type(e))\n",
    "    def createSoup(self):\n",
    "        self.soup = BeautifulSoup(self.data, \"html.parser\")\n",
    "\n",
    "\n",
    "    def show(self, maxDepth=10):\n",
    "            \n",
    "        if (self.type=='xml'):\n",
    "            for line in self.soup.prettify().split(\"\\n\"):\n",
    "                match = re.match(\"(\\s*)<([A-Za-z]+)>\", line)\n",
    "                if match and len(match.group(1)) <= maxDepth:\n",
    "                    print(2*match.group(1) + match.group(2))"
   ]
  },
  {
   "cell_type": "code",
   "execution_count": 23,
   "metadata": {},
   "outputs": [
    {
     "name": "stdout",
     "output_type": "stream",
     "text": [
      "<a>\n",
      "<ab></ab>\n",
      "</a>\n",
      "<c></c>\n",
      "\n",
      "<a>\n",
      " <ab>\n",
      " </ab>\n",
      "</a>\n",
      "<c>\n",
      "</c>\n",
      "\n",
      "a\n",
      "  ab\n",
      "c\n"
     ]
    }
   ],
   "source": [
    "# f='CAMP_200_SUEZ_CANAL.sav' #xml file\n",
    "import io\n",
    "\n",
    "f = io.StringIO(u\"\"\"<a>\n",
    "                <ab></ab>\n",
    "            </a>\n",
    "            <c></c>\n",
    "        \"\"\")\n",
    "sp = SaggerParser()\n",
    "sp.openXML(f)\n",
    "sp.createSoup()\n",
    "print(sp.soup)\n",
    "print(sp.soup.prettify())\n",
    "sp.show()\n",
    "# sp.soup\n",
    "\n",
    "# with open(fname, 'r', encoding=\"utf8\") as f:\n",
    "#     data = f.read()\n",
    "\n",
    "# # Passing the stored data inside\n",
    "# # the beautifulsoup parser, storing\n",
    "# # the returned object\n",
    "# Bs_data = BeautifulSoup(data, \"html.parser\")\n",
    "# x=Bs_data.prettify()\n",
    "\n",
    "# maxDepth=10\n",
    "# for line in x.split(\"\\n\"):\n",
    "#     match = re.match(\"(\\s*)<([A-Za-z]+)>\", line)\n",
    "#     if match and len(match.group(1)) <= maxDepth:\n",
    "#         print(2*match.group(1) + match.group(2))"
   ]
  },
  {
   "cell_type": "code",
   "execution_count": 33,
   "metadata": {},
   "outputs": [],
   "source": [
    "import pprint\n",
    "from collections import defaultdict\n",
    "\n",
    "class Graph(object):\n",
    "    \"\"\" Graph data structure, undirected by default. \"\"\"\n",
    "\n",
    "    def __init__(self, connections=[], directed=False):\n",
    "        self._graph = defaultdict(set)\n",
    "        self._directed = directed\n",
    "        self.add_connections(connections)\n",
    "\n",
    "    def add_rootWithConnections(self, node1, connections):\n",
    "        \"\"\" Add connections between a root node and its children (list of nodes) to graph \"\"\"\n",
    "\n",
    "        for node2 in connections:\n",
    "            self.add(node1, node2)\n",
    "\n",
    "    def add_connections(self, connections):\n",
    "        \"\"\" Add connections (list of tuple pairs) to graph \"\"\"\n",
    "\n",
    "        for node1, node2 in connections:\n",
    "            self.add(node1, node2)\n",
    "\n",
    "    def add(self, node1, node2):\n",
    "        \"\"\" Add connection between node1 and node2 \"\"\"\n",
    "\n",
    "        self._graph[node1].add(node2)\n",
    "        if not self._directed:\n",
    "            self._graph[node2].add(node1)\n",
    "\n",
    "    def remove(self, node):\n",
    "        \"\"\" Remove all references to node \"\"\"\n",
    "\n",
    "        for n, cxns in self._graph.items():  # python3: items(); python2: iteritems()\n",
    "            try:\n",
    "                cxns.remove(node)\n",
    "            except KeyError:\n",
    "                pass\n",
    "        try:\n",
    "            del self._graph[node]\n",
    "        except KeyError:\n",
    "            pass\n",
    "\n",
    "    def is_connected(self, node1, node2):\n",
    "        \"\"\" Is node1 directly connected to node2 \"\"\"\n",
    "\n",
    "        return node1 in self._graph and node2 in self._graph[node1]\n",
    "\n",
    "    def find_path(self, node1, node2, path=[]):\n",
    "        \"\"\" Find any path between node1 and node2 (may not be shortest) \"\"\"\n",
    "\n",
    "        path = path + [node1]\n",
    "        if node1 == node2:\n",
    "            return path\n",
    "        if node1 not in self._graph:\n",
    "            return None\n",
    "        for node in self._graph[node1]:\n",
    "            if node not in path:\n",
    "                new_path = self.find_path(node, node2, path)\n",
    "                if new_path:\n",
    "                    return new_path\n",
    "        return None\n",
    "\n",
    "    def __str__(self):\n",
    "        return '{}({})'.format(self.__class__.__name__, dict(self._graph))\n"
   ]
  },
  {
   "cell_type": "code",
   "execution_count": 34,
   "metadata": {},
   "outputs": [
    {
     "name": "stdout",
     "output_type": "stream",
     "text": [
      "1 <a>\n",
      "<ab></ab>\n",
      "</a>\n",
      "1 \n",
      "\n",
      "1 <c></c>\n",
      "1 \n",
      "\n"
     ]
    }
   ],
   "source": [
    "g = Graph()\n",
    "for el in sp.soup.children:\n",
    "    print(1, el)"
   ]
  },
  {
   "cell_type": "code",
   "execution_count": 1,
   "metadata": {},
   "outputs": [],
   "source": [
    "from bs4 import BeautifulSoup\n",
    " \n",
    " \n",
    "# Reading the data inside the xml\n",
    "# file to a variable under the name\n",
    "# data\n",
    "with open('user_story_flow.json', 'r', encoding=\"utf8\") as f:\n",
    "    data = f.read()\n",
    "\n",
    "# Passing the stored data inside\n",
    "# the beautifulsoup parser, storing\n",
    "# the returned object\n",
    "Bs_data = BeautifulSoup(data, \"html.parser\")\n",
    "x=Bs_data.prettify()\n"
   ]
  },
  {
   "cell_type": "code",
   "execution_count": 31,
   "metadata": {},
   "outputs": [
    {
     "name": "stdout",
     "output_type": "stream",
     "text": [
      "1 <a>\n",
      "<ab></ab>\n",
      "</a>\n",
      "1 \n",
      "\n",
      "1 <c></c>\n",
      "1 \n",
      "\n"
     ]
    }
   ],
   "source": [
    "for el in sp.soup.children:\n",
    "    print(1, el)"
   ]
  },
  {
   "cell_type": "code",
   "execution_count": 26,
   "metadata": {},
   "outputs": [
    {
     "name": "stdout",
     "output_type": "stream",
     "text": [
      "a\n",
      "  ab\n",
      "c\n"
     ]
    }
   ],
   "source": [
    "import re\n",
    "\n",
    "\n",
    "maxDepth=10\n",
    "for line in sp.soup.prettify().split(\"\\n\"):\n",
    "    match = re.match(\"(\\s*)<([A-Za-z]+)>\", line)\n",
    "    if match and len(match.group(1)) <= maxDepth:\n",
    "        print(2*match.group(1) + match.group(2))"
   ]
  }
 ],
 "metadata": {
  "interpreter": {
   "hash": "bd4c67ef142469da7dc4d338a32ac40116904d26076b8e6aa587d80720bc6a2b"
  },
  "kernelspec": {
   "display_name": "Python 3.9.7 64-bit",
   "name": "python3"
  },
  "language_info": {
   "codemirror_mode": {
    "name": "ipython",
    "version": 3
   },
   "file_extension": ".py",
   "mimetype": "text/x-python",
   "name": "python",
   "nbconvert_exporter": "python",
   "pygments_lexer": "ipython3",
   "version": "3.9.7"
  }
 },
 "nbformat": 4,
 "nbformat_minor": 5
}
