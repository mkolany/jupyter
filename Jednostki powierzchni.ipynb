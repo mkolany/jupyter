{
 "cells": [
  {
   "cell_type": "markdown",
   "id": "2955c46a",
   "metadata": {},
   "source": [
    "<!-- <img style=\"display: block; width: 100vw; height: 350px; object-fit: cover; object-position: center 20%;\" src=\"images/Studio_del_Corpo_Umano_-_Leonardo_da_Vinci.png\">\n",
    " -->\n",
    "<img width =\"100%\" height= \"350px\" class=\"banner\" src=\"images/Studio_del_Corpo_Umano_-_Leonardo_da_Vinci.png\">"
   ]
  },
  {
   "cell_type": "markdown",
   "id": "d3b58a44-f001-4c27-8651-98ec68f5563b",
   "metadata": {},
   "source": [
    "**Link do spotkania:** <a> https://us04web.zoom.us/j/79198757290?pwd=elYBj-iLhzxMUQDoMU3AM_K4i7yNbn.1 </a>\n",
    "\n"
   ]
  },
  {
   "attachments": {
    "16271422-a03e-4d8a-9b0a-d7e3b0fcd3c7.png": {
     "image/png": "[encoded data removed]"
    }
   },
   "cell_type": "markdown",
   "id": "c43b6a19-a432-4e78-9d5a-47ad3fe167ef",
   "metadata": {
    "tags": []
   },
   "source": [
    "# Przeliczanie jednostek powierzchni\n",
    "Podstawową jednostką pola powierzchni jest 1 metr kwadratowy. Można sobie ją zwizualizować np. jako pole poniższego kwadratu:\n",
    "![image.png](attachment:16271422-a03e-4d8a-9b0a-d7e3b0fcd3c7.png)\n",
    "\n",
    "Ponadto jednostkami powierzchni są też np. kilometry kwadratowe (km$^2$), decymetry kwadratowe (dm$^2$) centymetry kwadratowe (cm$^2$) oraz dziwaczne ary (a) i hektary (ha). **Ar odpowiada 100 metrom kwadratowym**, a **hektar to 100 arów**. Pozostałe jednostki można rozszyfrować w oparciu o znajomość odpowiadających im jednostek długości. Spójrzmy:\n",
    "\n",
    "1. Przyjrzyj się powyższemu rysunkowi. Ile wynosi pole tego kwadratu?\n",
    "2. Spróbujemy zamienić metry kwadratowe na centymetry kwadratowe. W tym celu zapisz powyższe długości w centymetrach.\n",
    "3. Policz pole tego kwadratu raz jeszcze, tym razem za pomocą długości wyrażonych w centymetrach. Ile Ci wyszło? \n",
    "\n",
    "<details>\n",
    "    <summary>Odpowiedź</summary>\n",
    "<p>\n",
    "Okazuje się, że 1 metr kwadratowy odpowiada 10000 centymetrom kwadratowym. Wydaje się to może nieco zaskakujące, ale powyższe ćwiczenie pokazuje, że ma to jednak jakiś sens. Można to zwięźle podsumować w następujący sposób:\n",
    "$$ 1\\;\\textrm{m}^2 = 1\\;\\textrm{m}\\cdot1\\;\\textrm{m} = 100\\;\\textrm{cm} \\cdot 100\\;\\textrm{cm} = 10000\\;\\textrm{cm}^2$$\n",
    "</p>\n",
    "</details>\n",
    "\n",
    "<details>\n",
    "    <summary>Ćwiczenia</summary>\n",
    "<p>\n",
    "1. Ile centymetrów kwadratowych jest w 3 kilometrach kwadratowych?\n",
    "2. Ile metrów kwadratowych ma pole uprawne wielkości 100 hektarów?\n",
    "3. Ile decymetrów kwadratowych powierzchni ma kartka o wymiarach 210 mm x 297 mm?\n",
    "4. Uzupełnij luki:\n",
    "$$ 1\\,000\\,000\\;\\textrm{mm}^2 = 10\\,000 \\ldots = 100 \\ldots = 1 \\ldots = 0,\\!01 \\ldots = 0,\\!0001 \\ldots$$\n",
    "$$ 1\\;\\textrm{ha} = \\ldots\\;\\textrm{a} = \\ldots\\;\\textrm{m}^2  = \\ldots\\;\\textrm{cm}^2  =\\ldots\\;\\textrm{mm}^2  $$\n",
    "</p>\n",
    "</details>"
   ]
  },
  {
   "cell_type": "code",
   "execution_count": null,
   "id": "52cb10e7-ddb0-494a-bd54-19f67c930ff8",
   "metadata": {},
   "outputs": [],
   "source": []
  }
 ],
 "metadata": {
  "interpreter": {
   "hash": "c75c8f5213e4439354c72e401b9fcc90f28d5aeb4dc5bd494b5358a46ef49854"
  },
  "kernelspec": {
   "display_name": "Python 3 (ipykernel)",
   "language": "python",
   "name": "python3"
  },
  "language_info": {
   "codemirror_mode": {
    "name": "ipython",
    "version": 3
   },
   "file_extension": ".py",
   "mimetype": "text/x-python",
   "name": "python",
   "nbconvert_exporter": "python",
   "pygments_lexer": "ipython3",
   "version": "3.9.7"
  }
 },
 "nbformat": 4,
 "nbformat_minor": 5
}
