{
 "cells": [
  {
   "cell_type": "markdown",
   "metadata": {},
   "source": [
    "## PIO\n",
    "### Projekt 1 [50 pkt]\n",
    "\n",
    "Proszę użyć tego arkusza do programowania. Na początek proszę zmienić 'nazwisko_imie' na Państwa nazwisko i imie, bez polskich znaków diakrytycznych.\n",
    "\n",
    "Jak już Państwo zaprogramują wszystko, proszę zapisać arkusz (File->Save and Checkpoint) oraz zapisać arkusz na dysk (File->Download as->Notebook). Ten plik proszę wgrać na classroom. \n",
    "\n",
    "**Uwaga** Przed oddaniem pliku warto zrestartować kernel Python-a, i uruchomić wszystkie komórki ręcznie, patrząc czy wszystko jest OK. Błędy rzucane przez interpreter spowodują 0 punktów."
   ]
  },
  {
   "cell_type": "code",
   "execution_count": 1,
   "metadata": {},
   "outputs": [],
   "source": [
    "# współpraca:\n",
    "# czas spędzony nad projektem:"
   ]
  },
  {
   "cell_type": "markdown",
   "metadata": {},
   "source": [
    "### Śmiertelne króliki Fibonacciego\n",
    "\n",
    "Leonardo Fibonacci opracował swój słynny ciąg modelując liczebność populacji królików. Zaczynamy od jednej pary królików, która po miesiącu dojrzewa i po następnym miesiącu wydaje parę młodych i natychmiast ponownie zachodzi w ciążę, po następnym miesiącu pierwsza para wydaje kolejne młode a druga dojrzewa i zachodzi w ciążę itd. Wielkość populacji (liczba par) w kolejnych miesiącach wynosi 1, 1, 2, 3, 5, 8... Model ten zakłada, że każdej parze zawsze rodzą się dokładnie jeden samiec i jedna samica, ale głównym problemem w modelu jest to, że króliki są nieśmiertelne!\n",
    "\n",
    "![Image of rabbits](http://www.drawinghowtodraw.com/drawing-lessons/drawing-animals-creatures-lessons/images/howtodrawrabbiesbunniesdrawinglessons_html_37f16756.png)\n",
    "\n",
    "Urealnijmy trochę ten problem. Napisz funkcję obliczającą liczebność populacji śmiertelnych królików. Funkcja przyjmuje trzy argumenty - ``miesiąc``, dla którego obliczamy liczebność, ``miot`` - liczba par, które się rodzą jednorazowo z jednej pary oraz ``zycie`` - czas życia królików (w miesiącach). Minimalna długość życia królików to 3 miesiące. Oznacza to, że każda para zdąży się rozmnożyć przynajmniej 2 razy. W ostatnim miesiącu życia nastąpi **najpierw poród, a dopiero potem śmierć** pary królików.\n",
    "\n",
    "Jak teraz wyglądać będzie populacja króli po czasie jaki zadajemy w parametrze ``miesiac``? Rozwiązanie zaprojektuj z użyciem abstrakcji oraz dekompozycji. Rozbij zadanie na podproblemy i do każdego zbuduj funkcję. Na koniec wykorzystaj podprogramy do odpowiedzi na pytanie Pana Leonarda: ile to będzie tych króli po `n` miesiącach?\n",
    "\n",
    "__Specyfikacja__\n",
    "\n",
    "Wejście\n",
    "* miesiac: INT > 0\n",
    "* miot: INT > 0\n",
    "* zycie: INT >= 3\n",
    "\n",
    "Wyjście\n",
    "* populacja: INT"
   ]
  },
  {
   "cell_type": "code",
   "execution_count": 3,
   "metadata": {},
   "outputs": [
    {
     "name": "stdout",
     "output_type": "stream",
     "text": [
      "Hello world!\n",
      "Simulating 4 months with lifespan=4 and spawn=3:\n",
      "\n",
      "[0]\n",
      "Current month: 0, population: 1 (mature rabbits: 0, dead rabbits: 0 --> new rabbits: 0)\n",
      "\n",
      "[0]\n",
      "Current month: 1, population: 1 (mature rabbits: 0, dead rabbits: 0 --> new rabbits: 0)\n",
      "\n",
      "[0, 2, 2, 2]\n",
      "Current month: 2, population: 4 (mature rabbits: 1, dead rabbits: 0 --> new rabbits: 3)\n",
      "\n",
      "[0, 2, 2, 2, 3, 3, 3]\n",
      "Current month: 3, population: 7 (mature rabbits: 1, dead rabbits: 0 --> new rabbits: 3)\n",
      "\n",
      "That world existed for 4 months so far. Current population of rabbits: 7.\n",
      "[0, 2, 2, 2, 3, 3, 3]\n"
     ]
    }
   ],
   "source": [
    "from collections import deque\n",
    "\n",
    "class World:    \n",
    "    lifespan=3\n",
    "    spawn=1\n",
    "    def __init__(self):\n",
    "        self.restartWorld()\n",
    "    \n",
    "    def restartWorld(self):\n",
    "        print('Hello world!')\n",
    "        self.currentMonth = 0\n",
    "        self.rabbits=deque([0])\n",
    "        self.newCount = 1\n",
    "        self.deadCount = 0\n",
    "        \n",
    "    def getPopulation(self):\n",
    "        return len(self.rabbits)\n",
    "    \n",
    "    def getMatureRabbitsCount(self):\n",
    "        return ( sum((self.currentMonth - rabbitBirth > 1) for rabbitBirth in self.rabbits) )\n",
    "    \n",
    "    def procreate(self, newCount):\n",
    "        self.rabbits.extend([self.currentMonth]*newCount)\n",
    "        self.newCount = newCount\n",
    "    \n",
    "    def destroy(self):\n",
    "        try:\n",
    "            while(self.currentMonth - self.rabbits[0]>=self.lifespan):\n",
    "                self.rabbits.popleft()\n",
    "                self.deadCount += 1\n",
    "        except IndexError as e:\n",
    "            pass    \n",
    "    \n",
    "    def addMonth(self):\n",
    "        self.newCount = 0\n",
    "        self.deadCount = 0\n",
    "        newRabbits = self.spawn * self.getMatureRabbitsCount() \n",
    "        self.procreate(newRabbits)\n",
    "        self.destroy()\n",
    "    \n",
    "    def simulatePassingMonths(self, months, lifespan=3, spawn=1, log=False):\n",
    "        print('Simulating {0} months with lifespan={1} and spawn={2}:'.format(months, lifespan, spawn))\n",
    "        print()\n",
    "        self.lifespan=lifespan\n",
    "        self.spawn=spawn\n",
    "        \n",
    "        for _ in range(months):\n",
    "            self.addMonth()\n",
    "            if(log):\n",
    "                print (\"{5}\\nCurrent month: {0}, population: {1} (mature rabbits: {2}, dead rabbits: {4} --> new rabbits: {3})\".format(self.currentMonth, self.getPopulation(),  self.getMatureRabbitsCount(), self.newCount, self.deadCount, list(self.rabbits)))\n",
    "                print()\n",
    "            \n",
    "            self.currentMonth += 1\n",
    "    def __repr__(self):\n",
    "        return 'That world existed for {0} months so far. Current population of rabbits: {1}.\\n{2}'.format(self.currentMonth, self.getPopulation(), list(self.rabbits))\n",
    "\n",
    "world = World()\n",
    "world.simulatePassingMonths(4, 4, 3, log=True)\n",
    "\n",
    "print(world)"
   ]
  },
  {
   "cell_type": "code",
   "execution_count": null,
   "metadata": {},
   "outputs": [],
   "source": []
  }
 ],
 "metadata": {
  "kernelspec": {
   "display_name": "Python 3 (ipykernel)",
   "language": "python",
   "name": "python3"
  },
  "language_info": {
   "codemirror_mode": {
    "name": "ipython",
    "version": 3
   },
   "file_extension": ".py",
   "mimetype": "text/x-python",
   "name": "python",
   "nbconvert_exporter": "python",
   "pygments_lexer": "ipython3",
   "version": "3.9.7"
  }
 },
 "nbformat": 4,
 "nbformat_minor": 4
}
