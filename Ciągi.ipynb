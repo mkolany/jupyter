{
 "cells": [
  {
   "cell_type": "markdown",
   "id": "2955c46a",
   "metadata": {},
   "source": [
    "<!-- <img style=\"display: block; width: 100vw; height: 350px; object-fit: cover; object-position: center 20%;\" src=\"images/Studio_del_Corpo_Umano_-_Leonardo_da_Vinci.png\">\n",
    " -->\n",
    "<img width =\"100%\" height= \"350px\" class=\"banner\" src=\"images/Studio_del_Corpo_Umano_-_Leonardo_da_Vinci.png\">"
   ]
  },
  {
   "cell_type": "markdown",
   "id": "c43b6a19-a432-4e78-9d5a-47ad3fe167ef",
   "metadata": {},
   "source": [
    "# Ciągi \n",
    "W pewnym uproszczeniu ciągi to jakieś liczby wypisane po kolei.\n",
    "$$ 1,2,3,42,0,0,0,\\ldots$$\n",
    "Wśród elementów ciągu $a$ możemy z łatwością wyróżnić element pierwszy $a_1$, drugi $a_2$, itd.\n",
    "Jest to najważniejsza właśność dotycząca ciągów, a zresztą inne własności dotyczące ciągów związane są jedynie z pewnymi szczególnymi przypadkami i wymagają dodatkowych założeń.\n",
    "\n",
    "## Ciągi arytmetyczne\n",
    "Są to ciągi, w których każdy następny element powstał przez dodanie do poprzedniego elementu jakiejś stałej liczby oznaczanej czasem jako $r$. \n",
    "$$ 1,2,3,4,5,6,\\ldots$$\n",
    "Skoro ciągi arytmetyczne powstają w taki sposób, to wystarczy znać $a_1$ i $r$, by wiedzieć o nim wszystko. Element stojący na $n$-tym miejscu powstał przez dodanie do elementu $a_1$ $r$ $(n-1)$-razy:\n",
    "$$ a_n = a_1 + (n-1)\\cdot r$$\n",
    "Jest to tzw. **wzór ogólny** ciągu arytmetycznego.\n",
    "\n",
    "#### Inne własności\n",
    "Dlaczego tak właściwie te ciągi nazywane są arytmetyczne? Związane jest to z tym, że dla dowolnego naturalnego $k>1$ zachodzi poniższa własność:\n",
    "$$a_k=\\frac{a_{k-1}+a_{k+1}}{2}$$\n",
    "Innymi słowy $a_k$ jest średnią arytmetyczną elementu poprzedniego i następnego.\n",
    "\n",
    "Ponadto, sumę $k$ początkowych elementów takiego ciągu można obliczyć w następujący sposób:\n",
    "$$S_k=\\frac{a_1+a_k}{2}\\cdot n$$"
   ]
  },
  {
   "cell_type": "code",
   "execution_count": 1,
   "id": "0fa4c9ee-0dd5-49e8-b964-af32bed43855",
   "metadata": {},
   "outputs": [
    {
     "name": "stdout",
     "output_type": "stream",
     "text": [
      "a1=1\n",
      "a2=3\n",
      "a3=5\n",
      "a4=7\n",
      "a5=9\n",
      "a6=11\n",
      "a7=13\n",
      "a8=15\n",
      "a9=17\n"
     ]
    }
   ],
   "source": [
    "def ciag_arytmetyczny(a1,r):\n",
    "    value=a1\n",
    "    while True:\n",
    "        yield value\n",
    "        value += r\n",
    "\n",
    "a=ciag_arytmetyczny(1,2)\n",
    "for n in range(1,10):\n",
    "    print('a{}={}'.format(n, next(a)))\n",
    "        "
   ]
  },
  {
   "cell_type": "markdown",
   "id": "8d6d2401-6993-4846-b650-c0c64ca08ec0",
   "metadata": {},
   "source": [
    "## Ciągi geometryczne\n",
    "Są to ciągi, w których każdy następny element powstał przez pomnożenie poprzedniego elementu przez jakąś stałą liczbę oznaczaną czasem jako $q$. \n",
    "$$ 1,2,4,8,16,32,\\ldots$$\n",
    "W tym wypadku wystarczy znać $a_1$ i $q$. Element stojący na $n$-tym miejscu powstał przez pomnożenie pierwszego elementu $(n-1)$-razy przez $q$:\n",
    "$$ a_n = a_1\\cdot q^{n-1}$$\n",
    "Jest to tzw. **wzór ogólny** ciągu geometrycznego.\n",
    "\n",
    "#### Inne własności\n",
    "Dla dowolnego naturalnego $k>1$ zachodzi poniższa własność:\n",
    "$$a_k=\\sqrt{a_{k-1}\\cdot a_{k+1}}$$\n",
    "Innymi słowy $a_k$ jest średnią geometryczną elementu poprzedniego i następnego.\n",
    "\n",
    "Ponadto, sumę $k$ początkowych elementów takiego ciągu można obliczyć w następujący sposób:\n",
    "$$S_k=\\begin{cases} \n",
    "a_1\\cdot \\frac{1-q^k}{1-q}& \\text{dla } q\\ne 1\\\\ \n",
    "a_1\\cdot k& \\text{dla } q = 1 \n",
    "\\end{cases}$$\n",
    "\n",
    "Jeżeli $|q|<1$, to jesteśmy w stanie obliczyć nawet sumę wszystkich elementów takiego ciągu i wynosi ona:\n",
    "$$S_{\\infty}=\\frac{a_1}{1-q}$$"
   ]
  },
  {
   "cell_type": "code",
   "execution_count": 2,
   "id": "001979ab-85fa-4c19-a850-3be09212c46d",
   "metadata": {},
   "outputs": [
    {
     "name": "stdout",
     "output_type": "stream",
     "text": [
      "b1=1\n",
      "b2=2\n",
      "b3=4\n",
      "b4=8\n",
      "b5=16\n",
      "b6=32\n",
      "b7=64\n",
      "b8=128\n",
      "b9=256\n"
     ]
    }
   ],
   "source": [
    "def ciag_geometryczny(a1,q):\n",
    "    value=a1\n",
    "    while True:\n",
    "        yield value\n",
    "        value *= q\n",
    "        \n",
    "b=ciag_geometryczny(1,2)\n",
    "for n in range(1,10):\n",
    "    print('b{}={}'.format(n, next(b)))"
   ]
  },
  {
   "cell_type": "markdown",
   "id": "f397a974-e7ba-4120-b340-bd20e8646f57",
   "metadata": {},
   "source": [
    "### Procent prosty\n",
    "Pojęcie to związane jest z oprocentowaniem kapitału $K_0$ w którym dochód w postaci odsetek nie jest doliczany do kwoty, z której będą one obliczane w następnym okresie kapitalizacji odsetek. \n",
    "#### Wstęp teoretyczny\n",
    "Oznacza to, że w każdym okresie są one obliczane od tej samej kwoty, a więc odsetki q będą wynosiły:\n",
    "$$d=\\frac{p}{100}\\cdot K_0$$\n",
    "gdzie **p%** jest stopą procentową dla omawianego okresu kapitalizacji*.\n",
    "\n",
    "Stąd wynika, że po upływie $n$ okresów kapitalizacji odsetek dochód uzyskany z odsetek wynosi:\n",
    "$n\\cdot d=n\\cdot\\frac{p}{100}\\cdot K_0$,\n",
    "a więc kapitał końcowy $K_n$ wynosi:\n",
    "$$ \n",
    "\\begin{align}\n",
    "K_n&=K_0+n\\cdot\\frac{p}{100}\\cdot K_0=\\\\\n",
    "&=K_0\\cdot(1+n\\cdot\\frac{p}{100})\n",
    "\\end{align}\n",
    "$$\n",
    "\n",
    "###### \\* Dla stopy rocznej wynoszącej 9% i czteromiesięcznego okresu kapitalizacji, stopą procentową jest p=3%. Czy domyślasz się dlaczego?"
   ]
  },
  {
   "cell_type": "code",
   "execution_count": 6,
   "id": "f6f0649e",
   "metadata": {},
   "outputs": [
    {
     "name": "stdout",
     "output_type": "stream",
     "text": [
      "0. 1000.00 zł\n",
      "1. 1006.67 zł\n",
      "2. 1013.33 zł\n",
      "3. 1020.00 zł\n",
      "4. 1026.67 zł\n",
      "5. 1033.33 zł\n",
      "6. 1040.00 zł\n",
      "7. 1046.67 zł\n",
      "8. 1053.33 zł\n",
      "9. 1060.00 zł\n"
     ]
    }
   ],
   "source": [
    "def procent_prosty(kapital_poczatkowy, oprocentowanie):\n",
    "    Kp=kapital_poczatkowy\n",
    "    p=oprocentowanie\n",
    "    \n",
    "    n=0\n",
    "    d=0\n",
    "    while True:\n",
    "        yield n, Kp+d\n",
    "        d += (p/100)*Kp\n",
    "        n +=1\n",
    "lokata1 = procent_prosty(1000, 2/3)\n",
    "\n",
    "\n",
    "def kapitalizacja(lokata):\n",
    "    okres, kapital = next(lokata)    \n",
    "    print(\"{0}. {1:.2f} zł\".format(okres, kapital, lokata.__name__))\n",
    "        \n",
    "for _ in range(10):\n",
    "    kapitalizacja(lokata1)"
   ]
  },
  {
   "cell_type": "markdown",
   "id": "d735a544",
   "metadata": {},
   "source": [
    "### Procent składany\n",
    "W tym przypadku odsetki obliczane są z kwoty uwzględniające dotychczasowe odsetki.\n",
    "\n",
    "####  Wstęp teoretyczny\n",
    "Przyjrzyjmy się temu procesowi. Jeśli kapitał początkowy wynosi $K_0$, a odpowiednia stopa procentowa związana z ich kapitalizacją wynosi **p%**, to po pierwszym okresie kapitalizacji kapitał wynosić będzie\n",
    "$$\n",
    "\\begin{align}\n",
    "K_1&=K_0+\\frac{p}{100}\\cdot K_0=\\\\\n",
    "&=K_0\\cdot\\left(1+\\frac{p}{100}\\right)\n",
    "\\end{align}\n",
    "$$\n",
    "\n",
    "Zauważmy, że widać tu wyraźnie, że do jakiegoś kapitału bazowego (w tym wypadku $K_0$) doliczona została kwota wynikająca z odsetek. Gdyby od tych odsetek należało odliczyć podatek, to należy zająć się tym w części związanej z odsetkami (np. dla podatku wynoszącego **10%** odsetek pojawiłoby się tam $\\ldots+\\frac{90}{100}(\\frac{p}{100}\\cdot K_0)\\ldots$ \n",
    "\n",
    "\n",
    "Co się dzieje w następnym okresie? Cóż, sytuacja będzie dość podobna, jednak odsetki będą tu obliczane z kwoty $K_1$ zamiast $K_0$, bo tyle obecnie posiadamy na lokacie. Wobec tego posiadany kapitał powinien wynosić (ostatnie przekształcenie dotyczy podstawienia w miejsce $K_1$ tego, co wyszło w punkcie poprzednim):\n",
    "$$\n",
    "\\begin{align}\n",
    "K_2&=K_1+\\frac{p}{100}\\cdot K_1=\\\\\n",
    "&=K_1\\cdot\\left(1+\\frac{p}{100}\\right)=\\\\\n",
    "&=K_0\\cdot\\left(1+\\frac{p}{100}\\right)^2\n",
    "\\end{align}\n",
    "$$\n",
    "*.*\n",
    "\n",
    "\n",
    "Okazuje się, że dla $n=3$ też wychodzi podobnie:\n",
    "$$\n",
    "\\begin{align}\n",
    "K_3&=K_2+\\frac{p}{100}\\cdot K_2=\\\\\n",
    "&=K_2\\cdot\\left(1+\\frac{p}{100}\\right)=\\\\\n",
    "&=K_0\\cdot\\left(1+\\frac{p}{100}\\right)^3\n",
    "\\end{align}\n",
    "$$\n",
    "\n",
    "I tak dalej.\n",
    "Myślę, że chyba każdy się już spodziewa, że w dowolnym sensownym $n$–tym okresie kapitalizacji kapitał $K_n$ powinno dać się wyliczyć z poniższego wzoru:\n",
    "$$K_n = K_0\\cdot\\left(1+\\frac{p}{100}\\right)^n$$\n"
   ]
  },
  {
   "cell_type": "code",
   "execution_count": 5,
   "id": "2028fd27",
   "metadata": {},
   "outputs": [
    {
     "name": "stdout",
     "output_type": "stream",
     "text": [
      "0. 1000.00 zł\n",
      "1. 1006.67 zł\n",
      "2. 1013.38 zł\n",
      "3. 1020.13 zł\n",
      "4. 1026.93 zł\n",
      "5. 1033.78 zł\n",
      "6. 1040.67 zł\n",
      "7. 1047.61 zł\n",
      "8. 1054.59 zł\n",
      "9. 1061.63 zł\n"
     ]
    }
   ],
   "source": [
    "def procent_skladany(kapital_poczatkowy, oprocentowanie):\n",
    "    Kp=kapital_poczatkowy\n",
    "    p=oprocentowanie\n",
    "    \n",
    "    n=0\n",
    "    while True:\n",
    "        yield n, Kp\n",
    "        Kp += (p/100)*Kp\n",
    "        n +=1\n",
    "        \n",
    "lokata2 = procent_skladany(1000, 2/3)\n",
    "for _ in range(10):\n",
    "    kapitalizacja(lokata2)    \n"
   ]
  }
 ],
 "metadata": {
  "interpreter": {
   "hash": "c75c8f5213e4439354c72e401b9fcc90f28d5aeb4dc5bd494b5358a46ef49854"
  },
  "kernelspec": {
   "display_name": "Python 3 (ipykernel)",
   "language": "python",
   "name": "python3"
  },
  "language_info": {
   "codemirror_mode": {
    "name": "ipython",
    "version": 3
   },
   "file_extension": ".py",
   "mimetype": "text/x-python",
   "name": "python",
   "nbconvert_exporter": "python",
   "pygments_lexer": "ipython3",
   "version": "3.9.7"
  }
 },
 "nbformat": 4,
 "nbformat_minor": 5
}
