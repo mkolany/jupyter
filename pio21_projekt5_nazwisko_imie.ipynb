{
 "cells": [
  {
   "cell_type": "markdown",
   "metadata": {},
   "source": [
    "## PIO\n",
    "### Projekt 5 [50 pkt]\n",
    "\n",
    "Proszę użyć tego arkusza do programowania. Na początek proszę zmienić 'nazwisko_imie' na Państwa nazwisko i imie, bez polskich znaków diakrytycznych.\n",
    "\n",
    "Jak już Państwo zaprogramują wszystko, proszę zapisać arkusz (File->Save and Checkpoint) oraz zapisać arkusz na dysk (File->Download as->Notebook). Ten plik proszę wgrać na classroom. "
   ]
  },
  {
   "cell_type": "code",
   "execution_count": null,
   "metadata": {},
   "outputs": [],
   "source": []
  },
  {
   "cell_type": "markdown",
   "metadata": {},
   "source": [
    "### Automatyczna klasówka z języka angielskiego\n",
    "\n",
    "Proszę napisać program generujący automatyczne klasówki z języka angielskiego. Bazujemy na problemie z lab 9, ale treści do klasówek proszę pobierać ze strony interentowej oferującej naukę języka np: https://www.gettinenglish.com\n",
    "\n",
    "Funkcjonalność \n",
    "1. Uczniowie - czytanie listy uczniów z pliku\n",
    "2. Klasówka\n",
    "    1. minimum 3 zadania różniące się choć trochę treścią dla każdego z uczniów\n",
    "    2. zapisywanie treści klasówek do plików imiennych\n",
    "    3. składowanie plików w katalogu o nazwie tożsamej z nazwą egzaminu (klasówki...)\n",
    "3. Pobieranie treści z www\n",
    "    1. konfiguracja adresu strony www powinna być w miarę prosta i zrozumiała\n",
    "    2. parsowanie strony powinno być choć w niewielkim stopniu dostępne za pomocą parametrów (np: klasy tagów do których się odwołuje parser)\n",
    "\n",
    "Opcjonalnie\n",
    "* automatyczne wysyłanie klasówek na adresy mailowe uczniów\n"
   ]
  },
  {
   "cell_type": "code",
   "execution_count": 14,
   "metadata": {},
   "outputs": [
    {
     "data": {
      "application/vnd.jupyter.widget-view+json": {
       "model_id": "176e4ba8ccc94a3da4516810794d443c",
       "version_major": 2,
       "version_minor": 0
      },
      "text/plain": [
       "Box(children=(VBox(children=(HBox(children=(Button(description='Load student lists', style=ButtonStyle()), But…"
      ]
     },
     "metadata": {},
     "output_type": "display_data"
    }
   ],
   "source": []
  },
  {
   "cell_type": "code",
   "execution_count": 1,
   "metadata": {},
   "outputs": [
    {
     "data": {
      "application/vnd.jupyter.widget-view+json": {
       "model_id": "d8f7e66bffb844fda519a7070f0af8c8",
       "version_major": 2,
       "version_minor": 0
      },
      "text/plain": [
       "Box(children=(VBox(children=(HBox(children=(Button(description='Load student lists', style=ButtonStyle()), But…"
      ]
     },
     "metadata": {},
     "output_type": "display_data"
    }
   ],
   "source": []
  },
  {
   "cell_type": "code",
   "execution_count": 90,
   "metadata": {},
   "outputs": [
    {
     "name": "stdout",
     "output_type": "stream",
     "text": [
      "https://www.gettinenglish.com/materialy-do-nauki-angielskiego/\n",
      "I wanna stay at home\n",
      "Agoraphobia is an anxiety disorder in which people may experience fear and frequently refrain from getting into a situation that can make them feel trapped, embarrassed or helpless. Some agoraphobics are fearful of open spaces. Some even in a medical emergency, refuse to leave their homes because stepping outside their comfort zone is overwhelming. An agoraphobic also breaks out in a sweat while standing in a queue or being in a crowd. Most people who have agoraphobia avoid the place where deep emotional distress is likely to occur; they feel that they need a chum to accompany them to any public places.\n",
      "\n",
      "„My name’s Melissa and I’ve suffered from agoraphobia since my early twenties. I know it sounds outlandish but every time I wanna go out I feel tingling in my hands and feet, nausea, and a sense of impending doom!”\n",
      "\n",
      "A number of physical and environmental factors can trigger agoraphobia and other phobias. For instance, they have been linked to a biochemical imbalance, mainly related to certain neurotransmitters in the brain. In a given situation, people with panic attack may begin to associate a mounting dismay with the situation and learn to avoid it.\n",
      "\n",
      "According to some theories, unresolved emotional conflicts can result in immense irritation. That is why physicians ought to make sure that the symptoms are not related to some other underlying medical conditions. Agoraphobia treatment usually consists of both medication and psychotherapy that can help you get rid of anxiety attacks. The patient can be exposed gradually to the situation that usually brings about fear with the help of breathing or relaxation techniques.\n",
      "\n",
      "„As a recovered agoraphobic, I can say that a few years ago I felt as though somebody put a curse on me. My therapist helped me to achieve and maintain a sense of calm. As far as I am concerned, I think I am doing so much better now but I cannot say the same about my twin sister Melissa. Poor thing!”\n",
      "\n"
     ]
    }
   ],
   "source": [
    "import urllib.request as urllib2\n",
    "from bs4 import BeautifulSoup\n",
    "\n",
    "def parseGettinEnglish(url, _type='RC', log = False):\n",
    "    \"\"\" \n",
    "    gettinenglish.com parser. \n",
    "        RC = Reading Comprehension \n",
    "    \"\"\"\n",
    "    data = urllib2.urlopen(url)\n",
    "    soup = BeautifulSoup(data, 'html.parser')\n",
    "\n",
    "\n",
    "    title = ''\n",
    "    stuff = ''\n",
    "    answers = ''\n",
    "    try:\n",
    "        title = soup.find(\"div\", {\"class\": \"single-post-content\"}).h2.extract().getText().strip()\n",
    "    except:\n",
    "        title = soup.find(\"h1\", {\"class\": \"single-post-title\"}).getText().strip()\n",
    "\n",
    "    stuff = soup.find(\"div\", {\"class\": \"single-post-content\"}).findAll('p')\n",
    "    \n",
    "    for n, p in enumerate(stuff):\n",
    "        if log:\n",
    "            print(n)  \n",
    "            print(p.prettify())\n",
    "            print()\n",
    "        try:\n",
    "    #         p.a.replace_with('')\n",
    "            p.a.extract()\n",
    "            p.div.extract()\n",
    "            pass\n",
    "\n",
    "        except:\n",
    "            pass\n",
    "\n",
    "        if (p.getText()=='') or (p.strong is not None):\n",
    "            stuff.pop(n)\n",
    "\n",
    "    text = '\\n\\n'.join((map(BeautifulSoup.getText, stuff)))\n",
    "    \n",
    "    print(url)\n",
    "    print(title) \n",
    "    print(text)\n",
    "    print()\n",
    "    return (title, text)\n",
    "\n",
    "\n",
    "url = \"https://www.gettinenglish.com/egzaminy/czytanie-ze-zrozumieniem/\"\n",
    "\n",
    "data = urllib2.urlopen(url)\n",
    "soup = BeautifulSoup(data, 'html.parser')\n",
    "_urls = [x['href'] for x in soup.find(\"div\", {\"class\": \"main-section\"}).findAll(\"a\", {\"class\": \"post-url\"})]\n",
    "\n",
    "for n, _ in enumerate(_urls):\n",
    "    (title, text) = parseGettinEnglish(url = _,  _type='RC')\n",
    "    print(n, _)\n"
   ]
  },
  {
   "cell_type": "code",
   "execution_count": 16,
   "metadata": {},
   "outputs": [],
   "source": [
    "from ipywidgets import *\n",
    "import validators\n",
    "import urllib.request as urllib2\n",
    "from bs4 import BeautifulSoup, NavigableString, Tag\n",
    "import re \n",
    "\n",
    "class GettinParser():  \n",
    "    _gui = widgets.Output(layout={'border': '1px solid black'})\n",
    "    _url = None\n",
    "    _soup = BeautifulSoup()\n",
    "    _title_filter = ['post-header-title']\n",
    "    \n",
    "    \n",
    "    def display_GUI(self):\n",
    "#         self._gui  = widgets.Output(layout={'border': '1px solid black'})\n",
    "        self._gui.clear_output()\n",
    "        self.updateGUI()\n",
    "        display(self._gui)\n",
    "        \n",
    "        \n",
    "    @property\n",
    "    def url(self):\n",
    "        return self._url\n",
    "    \n",
    "    @url.setter\n",
    "    def url(self, value):\n",
    "        try:\n",
    "            if validators.url(value):\n",
    "                print(\"Setting value of url to {}\".format(value))\n",
    "                self._url = value\n",
    "                self.update()\n",
    "            else:\n",
    "                print(\"Error: {} is not a valid url\".format(value))\n",
    "            \n",
    "        except Exception as e:\n",
    "            print(f\"{type(e).__name__} was raised: {e}\") \n",
    "    \n",
    "    def update(self):\n",
    "        self.parseURL()\n",
    "\n",
    "    def parseURL(self):\n",
    "        data = urllib2.urlopen(self._url)\n",
    "        self._soup = BeautifulSoup(data, 'html.parser')\n",
    "        self._titleOutput=widgets.Output()\n",
    "        \n",
    "        def soupWalker(soup, level=0):\n",
    "       \n",
    "            indent = (level) * '·' + 'o'\n",
    "\n",
    "            if soup.name is not None:\n",
    "                for child in soup.children:\n",
    "                    if isinstance(child, Tag):\n",
    "                        name = child.name\n",
    "                        classList = (child.get('class'))\n",
    "                        if classList is not None:\n",
    "                            classes = ', '.join(list(classList))\n",
    "                        else:\n",
    "                            classes = 'none'\n",
    "                        with self._titleOutput:\n",
    "                            print(indent, '<{}> ({})'.format(name, classes))\n",
    "\n",
    "                    soupWalker(child, level+1)\n",
    "                    \n",
    "        self._titles = self._soup.find_all(class_=self._title_filter)\n",
    "        \n",
    "#         self._titles = self._soup.find_all(class_=lambda c: all(f in c for f in self._title_filter))\n",
    "\n",
    "        \n",
    "        for node in (self._titles):\n",
    "            soupWalker(node.parent)\n",
    "            \n",
    "        self.updateGUI()\n",
    "        \n",
    "    def updateGUI(self):\n",
    "        self._gui.clear_output()\n",
    "        \n",
    "        buttonLayout={'width': '120px'}\n",
    "        textAreaLayout={'width': '50%', 'height': '300px'}\n",
    "        \n",
    "        urlText = (Text(value=self.url,\n",
    "                        placeholder='Enter url...', \n",
    "                        disabled=False, \n",
    "                        continuous_update=False))\n",
    "        \n",
    "        def urlButtonCallback(b, value=None):\n",
    "            self.url = (urlText.value) \n",
    "            \n",
    "        urlText.observe(urlButtonCallback, names='value')\n",
    "        \n",
    "        parseText = (Textarea(value=self._soup.prettify(),\n",
    "                        disabled=False,  \n",
    "                        layout=textAreaLayout))\n",
    "        \n",
    "        titleText = (Text(value=', '.join(self._title_filter),\n",
    "                          description='Filter classes:', \n",
    "                          continuous_update=False))\n",
    "        \n",
    "        def on_value_change(change):\n",
    "            self._title_filter=(change['new']).split(',')\n",
    "            print(self._title_filter)\n",
    "            self.update()\n",
    "\n",
    "        titleText.observe(on_value_change, names='value')\n",
    "        \n",
    "        titleDropdown = Dropdown(options=list(map(BeautifulSoup.getText, self._titles)),\n",
    "                                description='Choose:', \n",
    "                                disabled=False)\n",
    "        \n",
    "        titleOutput= self._titleOutput\n",
    "        \n",
    "        \n",
    "        app = VBox(children = [urlText,\n",
    "                              HBox(children = [VBox(children = [titleText, titleDropdown, titleOutput]), \n",
    "                                               parseText])]) #titleOutpu\n",
    "        \n",
    "        with self._gui:\n",
    "            display(app)\n",
    "        "
   ]
  },
  {
   "cell_type": "code",
   "execution_count": 17,
   "metadata": {},
   "outputs": [
    {
     "name": "stdout",
     "output_type": "stream",
     "text": [
      "Setting value of url to https://www.gettinenglish.com/czytanki-po-angielsku-b1/\n"
     ]
    },
    {
     "data": {
      "application/vnd.jupyter.widget-view+json": {
       "model_id": "7e51a6467dc24f2188d492061921cecc",
       "version_major": 2,
       "version_minor": 0
      },
      "text/plain": [
       "Output(layout=Layout(border='1px solid black'))"
      ]
     },
     "metadata": {},
     "output_type": "display_data"
    }
   ],
   "source": [
    "parser = GettinParser()\n",
    "#parser.url = 'https://www.gettinenglish.com/angielski-tekst-do-czytania-c1/' 'https://www.gettinenglish.com/czytanki-po-angielsku-b1/'\n",
    "parser.url = 'https://www.gettinenglish.com/czytanki-po-angielsku-b1/' \n",
    "parser.display_GUI()"
   ]
  },
  {
   "cell_type": "raw",
   "metadata": {
    "tags": []
   },
   "source": [
    "import sys\n",
    "!{sys.executable} -m pip install validators"
   ]
  },
  {
   "cell_type": "code",
   "execution_count": 18,
   "metadata": {
    "tags": []
   },
   "outputs": [
    {
     "data": {
      "text/plain": [
       "['a', 'a', 'a', 'a']"
      ]
     },
     "execution_count": 18,
     "metadata": {},
     "output_type": "execute_result"
    }
   ],
   "source": [
    "['a']*4"
   ]
  },
  {
   "cell_type": "code",
   "execution_count": null,
   "metadata": {},
   "outputs": [],
   "source": []
  }
 ],
 "metadata": {
  "kernelspec": {
   "display_name": "Python 3 (ipykernel)",
   "language": "python",
   "name": "python3"
  },
  "language_info": {
   "codemirror_mode": {
    "name": "ipython",
    "version": 3
   },
   "file_extension": ".py",
   "mimetype": "text/x-python",
   "name": "python",
   "nbconvert_exporter": "python",
   "pygments_lexer": "ipython3",
   "version": "3.9.7"
  }
 },
 "nbformat": 4,
 "nbformat_minor": 4
}
