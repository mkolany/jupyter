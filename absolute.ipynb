{
 "cells": [
  {
   "cell_type": "markdown",
   "source": [
    "<!-- <img style=\"display: block; width: 100vw; height: 350px; object-fit: cover; object-position: center 20%;\" src=\"images/Studio_del_Corpo_Umano_-_Leonardo_da_Vinci.png\">\r\n",
    " -->\r\n",
    "<img width =\"100%\" height= \"350px\" class=\"banner\" src=\"images/Studio_del_Corpo_Umano_-_Leonardo_da_Vinci.png\">"
   ],
   "metadata": {}
  },
  {
   "cell_type": "markdown",
   "source": [
    "# Wartość bezwzględna\r\n",
    "## Definicja\r\n",
    "$$ |x| = \r\n",
    "\\begin{cases} \r\n",
    "\\phantom{-}x, & x\\geq 0\\\\ \r\n",
    "-x, & x<0 \r\n",
    "\\end{cases}$$\r\n",
    "\r\n",
    "[Wykres funkcji $f(x)=|x|$ (geogebra)](https://www.geogebra.org/classic/ker2ykkv)\r\n",
    "\r\n",
    "## Intuicja\r\n",
    "Wartość bezwzględną $|x|$ można traktować jak odległość liczby $x$ od zera. Wówczas oczywistym jest, że np. $|-3|=3=|3|$. Ponadto, oznacza to także, że napis postaci $|x-a|$ można utożsamić z odległością liczby $x$ od liczby $a$. Ten fakt może znacząco przyspieszyć i ułatwić rachunki.\r\n",
    "\r\n",
    "## Równania z wartością bezwzględną\r\n",
    "Przypuśćmy, że do rozwiązania mamy równanie $|x-5|=3$. W szkole do rozwiązywania takich równań podchodzi się poprzez analizę dwóch przypadków, w których wiadomo w jaki sposób należy opuścić wartość bezwzględną, tj. $x-5\\geq 0$ i $x-5<0$. Są to wszystkie możliwości i to podejście prowadzi do poprawnego wyniku, jednak nie jest ono najszybsze.\r\n",
    "\r\n",
    "Odwołując się do intuicji związanej z odległością, wiemy, że napis $|x-5|$ odpowiada odległości między liczbą $x$ a liczbą $5$. Zadanie sprowadza się więc do znalezienia takich liczb, które są w odległości 3 od liczby 5. Czy wiesz co to za liczby? Ja wiem, są to $5+3=8$ oraz $5-3=2$. Wobec tego rozwiązaniami rzeczonego równania są liczby $x=8$ oraz $x=2$. "
   ],
   "metadata": {}
  },
  {
   "cell_type": "markdown",
   "source": [],
   "metadata": {}
  }
 ],
 "metadata": {
  "language_info": {
   "name": "python",
   "version": "3.9.7",
   "mimetype": "text/x-python",
   "codemirror_mode": {
    "name": "ipython",
    "version": 3
   },
   "pygments_lexer": "ipython3",
   "nbconvert_exporter": "python",
   "file_extension": ".py"
  },
  "kernelspec": {
   "name": "python3",
   "display_name": "Python 3.9.7 64-bit"
  },
  "interpreter": {
   "hash": "bd4c67ef142469da7dc4d338a32ac40116904d26076b8e6aa587d80720bc6a2b"
  }
 },
 "nbformat": 4,
 "nbformat_minor": 5
}