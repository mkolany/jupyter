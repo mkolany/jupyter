{
 "cells": [
  {
   "cell_type": "markdown",
   "metadata": {},
   "source": [
    "<!-- <img style=\"display: block; width: 100vw; height: 350px; object-fit: cover; object-position: center 20%;\" src=\"images/Studio_del_Corpo_Umano_-_Leonardo_da_Vinci.png\">\n",
    " -->\n",
    "<img width =\"100%\" height= \"350px\" class=\"banner\" src=\"images/Studio_del_Corpo_Umano_-_Leonardo_da_Vinci.png\">"
   ]
  },
  {
   "cell_type": "markdown",
   "metadata": {},
   "source": [
    "# Wartość bezwzględna\n",
    "## Definicja\n",
    "$$ |x| = \n",
    "\\begin{cases} \n",
    "\\phantom{-}x, & x\\geq 0\\\\ \n",
    "-x, & x<0 \n",
    "\\end{cases}$$\n",
    "\n",
    "[Wykres funkcji $f(x)=|x|$ (geogebra)](https://www.geogebra.org/classic/ker2ykkv)\n",
    "\n",
    "## Intuicja\n",
    "Wartość bezwzględną $|x|$ można traktować jak odległość liczby $x$ od zera. Wówczas oczywistym jest, że np. $|-3|=3=|3|$. Ponadto, oznacza to także, że napis postaci $|x-a|$ można utożsamić z odległością liczby $x$ od liczby $a$. Ten fakt może znacząco przyspieszyć i ułatwić rachunki.\n",
    "\n",
    "## Równania z wartością bezwzględną\n",
    "Przypuśćmy, że do rozwiązania mamy równanie $|x-5|=3$. W szkole do rozwiązywania takich równań podchodzi się poprzez analizę dwóch przypadków, w których wiadomo w jaki sposób należy opuścić wartość bezwzględną, tj. $x-5\\geq 0$ i $x-5<0$. Są to wszystkie możliwości i to podejście prowadzi do poprawnego wyniku, jednak nie jest ono najszybsze.\n",
    "\n",
    "Odwołując się do intuicji związanej z odległością, wiemy, że napis $|x-5|$ odpowiada odległości między liczbą $x$ a liczbą $5$. Zadanie sprowadza się więc do znalezienia takich liczb, które są w odległości 3 od liczby 5. Czy wiesz co to za liczby? Ja wiem, są to $5+3=8$ oraz $5-3=2$. Wobec tego rozwiązaniami rzeczonego równania są liczby $x=8$ oraz $x=2$. "
   ]
  },
  {
   "cell_type": "markdown",
   "metadata": {},
   "source": []
  }
 ],
 "metadata": {
  "interpreter": {
   "hash": "bd4c67ef142469da7dc4d338a32ac40116904d26076b8e6aa587d80720bc6a2b"
  },
  "kernelspec": {
   "display_name": "Python 3.9.7 64-bit",
   "name": "python3"
  },
  "language_info": {
   "codemirror_mode": {
    "name": "ipython",
    "version": 3
   },
   "file_extension": ".py",
   "mimetype": "text/x-python",
   "name": "python",
   "nbconvert_exporter": "python",
   "pygments_lexer": "ipython3",
   "version": "3.9.7"
  }
 },
 "nbformat": 4,
 "nbformat_minor": 5
}
