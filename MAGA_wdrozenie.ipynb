{
 "cells": [
  {
   "cell_type": "markdown",
   "metadata": {},
   "source": [
    "<!-- <img style=\"display: block; width: 100vw; height: 350px; object-fit: cover; object-position: center 20%;\" src=\"images/Studio_del_Corpo_Umano_-_Leonardo_da_Vinci.png\">\n",
    " -->\n",
    "<img width =\"100%\" height= \"350px\" class=\"banner\" src=\"images/Studio_del_Corpo_Umano_-_Leonardo_da_Vinci.png\">"
   ]
  },
  {
   "cell_type": "markdown",
   "metadata": {},
   "source": [
    "# Wdrożenie - pierwsze kroki\n",
    "## Logowanie do komputera\n",
    "Powiernikiem hasła jest Radek (ew. jedna z karteczek)\n",
    "\n",
    "## Mail w domenie @magamingstudios.com\n",
    "Szukaj maila pt. __Your Microsoft 365 account is ready__ od GoDaddy na swojej prywatnej skrzynce pocztowej. Odpowiednio wcześniej powinieneś dostać CC z rozmowy między Radkiem a odpowiednią osobą w #MAGstudio, w której prosi o utworzenie skrzynki dla Ciebie :) \n",
    "\n",
    "## Konfiguracja slacka\n",
    "Ściągnij [Slacka](https://ansharstudios.slack.com/) i załóż konto na służbowego maila z poprzedniego kroku. Na tej skrzynce dostaniesz wkrótce zaproszenia do poszczególnych kanałów. Postaraj się skonfigurować Slacka tak, by mieć dostępne 2 workspace: MAGSowy i Ansharowy. W ten sposób mamy prosty podział Slacków:\n",
    "\n",
    "* bezpośrednia komunikacja, spotkania, ogłoszenia – __workspace Anshar__ \n",
    "     `#proj-sagger-creators`\n",
    "\n",
    "* bieżąca praca, konsultacje, itp. – __workspace MAGS__\n",
    "     `#proj-sagger-implementacja`\n",
    "\n",
    "## Steam\n",
    "Załóż konto na służbowy mail. Powinieneś dostać dwa klucze aktywacyjne:\n",
    "\n",
    "* `#release`   \n",
    "* `#daily` – podobno głównie z tej wersji powinniśmy korzystać\n",
    "\n",
    "## Artica\n",
    "* Help Center & Tutorials\n",
    "     `https://www.articy.com/en/support/`\n",
    "\n",
    "## Przydatne aliasy w sieci lokalnej\n",
    "* serwer z przydatnymi katalogami, które można sobie wygodnie podmapować\n",
    "     `192.168.111.1`\n",
    "     * launcher v1.0:\n",
    "     `192.168.111.1/Launcher/`\n",
    "     * jakieś tutoriale:\n",
    "     `192.168.111.1/canto/`\n",
    "     * i templatki:\n",
    "     `192.168.111.1/horreum/`\n",
    "     * skaner:\n",
    "     `192.168.111.1/Scan1/`\n",
    ">\n",
    "     \n",
    "* serwer `192.168.111.6` (alias `\\\\wizzard`)  \n",
    "    * [wikipedia](http://192.168.111.6/mediawiki/index.php?title=Main_Page)"
   ]
  },
  {
   "cell_type": "code",
   "execution_count": null,
   "metadata": {},
   "outputs": [],
   "source": []
  },
  {
   "cell_type": "markdown",
   "metadata": {},
   "source": []
  },
  {
   "cell_type": "code",
   "execution_count": 1,
   "metadata": {},
   "outputs": [
    {
     "data": {
      "text/plain": [
       "4"
      ]
     },
     "execution_count": 1,
     "metadata": {},
     "output_type": "execute_result"
    }
   ],
   "source": [
    "2+2"
   ]
  },
  {
   "cell_type": "markdown",
   "metadata": {},
   "source": []
  }
 ],
 "metadata": {
  "interpreter": {
   "hash": "c75c8f5213e4439354c72e401b9fcc90f28d5aeb4dc5bd494b5358a46ef49854"
  },
  "kernelspec": {
   "display_name": "Python 3.10.0 64-bit",
   "name": "python3"
  },
  "language_info": {
   "codemirror_mode": {
    "name": "ipython",
    "version": 3
   },
   "file_extension": ".py",
   "mimetype": "text/x-python",
   "name": "python",
   "nbconvert_exporter": "python",
   "pygments_lexer": "ipython3",
   "version": "3.10.0"
  }
 },
 "nbformat": 4,
 "nbformat_minor": 5
}
