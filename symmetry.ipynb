{
 "cells": [
  {
   "cell_type": "markdown",
   "source": [
    "<!-- <img style=\"display: block; width: 100vw; height: 350px; object-fit: cover; object-position: center 20%;\" src=\"images/Studio_del_Corpo_Umano_-_Leonardo_da_Vinci.png\">\r\n",
    " -->\r\n",
    "<img width =\"100%\" height= \"350px\" class=\"banner\" src=\"images/Studio_del_Corpo_Umano_-_Leonardo_da_Vinci.png\">"
   ],
   "metadata": {}
  },
  {
   "cell_type": "markdown",
   "source": [
    "# Symetrie w matematyce $-$ i nie tylko\r\n",
    "#### W języku potocznym słów *symetria* (gr. *συμμετρια*) i *symetryczny* używa się w odniesieniu do obiektów, w których dostrzegamy dwie takie części, że każda z nich może powstać z drugiej (np. poprzez lustrzane odbicie). Antyczni filofowie często utożsamiali piękno i harmonię z symetrią. Artyści, architekci a nawet muzycy dość często dbali o to, by w ich dziełach zawrzeć jakąś formę symetrii."
   ],
   "metadata": {}
  },
  {
   "cell_type": "markdown",
   "source": [
    "### Spójrz na poniższe przykłady, by wyrobić w sobie podstawową intuicję na temat tego pojęcia:\r\n",
    "<img src=\"https://upload.wikimedia.org/wikipedia/commons/thumb/1/19/Taj_Mahal%2C_Agra_views_from_around_%2885%29.JPG/800px-Taj_Mahal%2C_Agra_views_from_around_%2885%29.JPG\">\r\n",
    "<img src=\"https://upload.wikimedia.org/wikipedia/commons/thumb/6/65/Isfahan_Lotfollah_mosque_ceiling_symmetric.jpg/800px-Isfahan_Lotfollah_mosque_ceiling_symmetric.jpg\">\r\n",
    "<img width=\"800px\" src=\"http://www.mi.sanu.ac.rs/vismath/visbook/apagyi/Image1214.jpg\">\r\n",
    "\r\n",
    "<img width=\"800px\" src=\"https://external-preview.redd.it/sYoGf4Iq5zk056DW5aNad_stHoCwjmTsrjiz3Ca-HOI.jpg?auto=webp&s=79cd9faa8711d9fd5e051796494e4c618f0e983b\">\r\n",
    "\r\n",
    "##### PS. Dwa ostatnie przykłady były muzyczne. Jeśli Cię to zaintrygowało, to polecam ciekawy wykład na ten temat: [Symetria w muzyce | Copernicus Festival](https://www.youtube.com/watch?v=AUKjEcWiQzY)\r\n"
   ],
   "metadata": {}
  },
  {
   "cell_type": "markdown",
   "source": [
    "### Definicje związane z pojęciem symetrii w matematyce szkolnej\r\n",
    "#### Symetria osiowa\r\n",
    "\r\n",
    "####  symetria środkowa"
   ],
   "metadata": {}
  },
  {
   "cell_type": "code",
   "execution_count": 2,
   "source": [
    "#%matplotlib inline # from the example in the documentation. but doesn't seem necessary in current JupyterLab 3.1.11 or the classic notebook available now https://github.com/fomightez/communication_voila\r\n",
    "from ipywidgets import interactive\r\n",
    "import matplotlib.pyplot as plt\r\n",
    "import numpy as np\r\n",
    "\r\n",
    "def my_sine(x, w, amp, phi):\r\n",
    "    \"\"\"\r\n",
    "    Return a sine for x with angular frequency w and amplitude amp.\r\n",
    "    \"\"\"\r\n",
    "    return amp*np.sin(w * (x-phi))\r\n",
    "\r\n",
    "def f( w, amp, phi):\r\n",
    "    plt.figure(2)\r\n",
    "    x = np.linspace(0, 2 * np.pi, 300)\r\n",
    "    plt.plot(x, my_sine(x, w, amp, phi), color='C0')\r\n",
    "    #plt.ylim(-5, 5)\r\n",
    "    plt.grid(True) #optional grid\r\n",
    "    plt.show()\r\n",
    "\r\n",
    "interactive_plot = interactive(f, w=(0, 10, 1), amp=(0, 4, .1), phi=(0, 2*np.pi+0.01, 0.01))\r\n",
    "#output = interactive_plot.children[-1]\r\n",
    "#output.layout.height = '450px'\r\n",
    "interactive_plot"
   ],
   "outputs": [
    {
     "output_type": "display_data",
     "data": {
      "application/vnd.jupyter.widget-view+json": {
       "version_major": 2,
       "version_minor": 0,
       "model_id": "29db29c8de124a5ab4e6e363a8d50563"
      },
      "text/plain": [
       "interactive(children=(IntSlider(value=5, description='w', max=10), FloatSlider(value=2.0, description='amp', m…"
      ]
     },
     "metadata": {}
    }
   ],
   "metadata": {}
  },
  {
   "cell_type": "code",
   "execution_count": null,
   "source": [],
   "outputs": [],
   "metadata": {}
  }
 ],
 "metadata": {
  "language_info": {
   "name": "python",
   "version": "3.9.7",
   "mimetype": "text/x-python",
   "codemirror_mode": {
    "name": "ipython",
    "version": 3
   },
   "pygments_lexer": "ipython3",
   "nbconvert_exporter": "python",
   "file_extension": ".py"
  },
  "kernelspec": {
   "name": "python3",
   "display_name": "Python 3.9.7 64-bit"
  },
  "interpreter": {
   "hash": "bd4c67ef142469da7dc4d338a32ac40116904d26076b8e6aa587d80720bc6a2b"
  }
 },
 "nbformat": 4,
 "nbformat_minor": 5
}