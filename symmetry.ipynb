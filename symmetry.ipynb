{
 "cells": [
  {
   "cell_type": "markdown",
   "source": [
    "<!-- <img style=\"display: block; width: 100vw; height: 350px; object-fit: cover; object-position: center 20%;\" src=\"images/Studio_del_Corpo_Umano_-_Leonardo_da_Vinci.png\">\r\n",
    " -->\r\n",
    "<img width =\"100%\" height= \"350px\" class=\"banner\" src=\"images/Studio_del_Corpo_Umano_-_Leonardo_da_Vinci.png\">"
   ],
   "metadata": {}
  },
  {
   "cell_type": "markdown",
   "source": [
    "# Symetrie w matematyce – i nie tylko\r\n",
    "#### W języku potocznym słów *symetria* (gr. *συμμετρια*) i *symetryczny* używa się w odniesieniu do obiektów, w których dostrzegamy dwie takie części, że każda z nich może powstać z drugiej (np. poprzez lustrzane odbicie). Antyczni filofowie często utożsamiali piękno i harmonię z symetrią. Artyści, architekci a nawet muzycy dość często dbali o to, by w ich dziełach zawrzeć jakąś formę symetrii."
   ],
   "metadata": {}
  },
  {
   "cell_type": "markdown",
   "source": [
    "## Intuicja\r\n",
    "### Spójrz na poniższe przykłady, by wyrobić w sobie podstawową intuicję na temat pojęcia symetrii:\r\n",
    "<img src=\"https://upload.wikimedia.org/wikipedia/commons/thumb/1/19/Taj_Mahal%2C_Agra_views_from_around_%2885%29.JPG/800px-Taj_Mahal%2C_Agra_views_from_around_%2885%29.JPG\">\r\n",
    "<img src=\"https://upload.wikimedia.org/wikipedia/commons/thumb/6/65/Isfahan_Lotfollah_mosque_ceiling_symmetric.jpg/800px-Isfahan_Lotfollah_mosque_ceiling_symmetric.jpg\">\r\n",
    "<img width=\"800px\" src=\"http://www.mi.sanu.ac.rs/vismath/visbook/apagyi/Image1214.jpg\">\r\n",
    "\r\n",
    "<img width=\"800px\" src=\"https://external-preview.redd.it/sYoGf4Iq5zk056DW5aNad_stHoCwjmTsrjiz3Ca-HOI.jpg?auto=webp&s=79cd9faa8711d9fd5e051796494e4c618f0e983b\">\r\n",
    "\r\n",
    "##### PS. Dwa ostatnie przykłady są nieco dziwne, bo dotyczą muzyki. Jeśli Cię to zaintrygowało, to polecam ciekawy wykład na ten temat: [Symetria w muzyce | Copernicus Festival](https://www.youtube.com/watch?v=AUKjEcWiQzY)\r\n"
   ],
   "metadata": {}
  },
  {
   "cell_type": "markdown",
   "source": [
    "## Definicje związane z pojęciem symetrii w matematyce szkolnej\r\n",
    "#### Symetria osiowa\r\n",
    "Figura po prawej powstała przez odbicie figury po lewej symetrycznie względem zaznaczonej osi. **Oznacza to, że odległości wszystkich punktów figury po lewej do tej osi, muszą być równe odległości odpowiadających im punktów figury po prawej stronie.**\r\n",
    "<img src=\"https://i.imgur.com/9D2OKv5.png\">\r\n",
    "\r\n",
    "Przypuśćmy, że punkty mają współrzędne $A=(-4,-2)$, $B=(-4, 6)$, $C=(-2,-1)$, a osią jest pionowa oś układu współrzędnych. Jakie są współrzędne punktów $A', B', C'$?\r\n",
    "\r\n",
    "####  Symetria środkowa\r\n",
    "W tym wypadku zgadzać ma się nie odległość do osi, a do jakiegoś punktu, *zwanego środkiem symetrii*:\r\n",
    "\r\n",
    "<img src=\"https://i.imgur.com/GKvMg4k.png\">\r\n",
    "\r\n",
    "Przypuśćmy, że punkty mają współrzędne $A=(-5,1)$, $B=(-3, 2)$, $C=(-2,-2)$, a środkiem symetrii jest środek układu współrzędnych (czyli punkt $(0,0)$). Jakie są współrzędne punktów $A'', B'', C''$?\r\n"
   ],
   "metadata": {}
  },
  {
   "cell_type": "code",
   "execution_count": 31,
   "source": [
    "import sympy as sym\r\n",
    "x = sym.Symbol('x')\r\n",
    "y = sym.Symbol('y')\r\n",
    "\r\n",
    "(x + y) ** 2\r\n"
   ],
   "outputs": [
    {
     "output_type": "execute_result",
     "data": {
      "text/latex": [
       "$\\displaystyle \\left(x + y\\right)^{2}$"
      ],
      "text/plain": [
       "(x + y)**2"
      ]
     },
     "metadata": {},
     "execution_count": 31
    }
   ],
   "metadata": {}
  },
  {
   "cell_type": "code",
   "execution_count": 32,
   "source": [
    "from dataclasses import dataclass\r\n",
    "\r\n",
    "@dataclass\r\n",
    "class Point:\r\n",
    "    x: int  \r\n",
    "    y: int  "
   ],
   "outputs": [],
   "metadata": {}
  },
  {
   "cell_type": "code",
   "execution_count": 33,
   "source": [
    "%matplotlib inline\r\n",
    "from ipywidgets import interactive\r\n",
    "import matplotlib.pyplot as plt\r\n",
    "import numpy as np\r\n",
    "import math\r\n",
    "\r\n",
    "plt.figure(2)\r\n",
    "def polygon(sides):\r\n",
    "    r=1\r\n",
    "    phi=0\r\n",
    "\r\n",
    "    \r\n",
    "\r\n",
    "    angle = 2*math.pi/(sides)\r\n",
    "    T = np.arange(-math.pi,math.pi+angle, angle)\r\n",
    "    \r\n",
    "\r\n",
    "    x, y = np.cos(T), np.sin(T)\r\n",
    "    plt.plot(x,y)\r\n",
    "    \r\n",
    "    plt.axis('equal') \r\n",
    "    plt.axis('off')\r\n",
    "    plt.show()\r\n",
    "\r\n",
    "interactive_plot = interactive(polygon, sides=(2,16,0.1))\r\n",
    "interactive_plot"
   ],
   "outputs": [
    {
     "output_type": "display_data",
     "data": {
      "application/vnd.jupyter.widget-view+json": {
       "version_major": 2,
       "version_minor": 0,
       "model_id": "0b7a96b8e97844448b6c0478835e3bc4"
      },
      "text/plain": [
       "interactive(children=(FloatSlider(value=9.0, description='sides', max=16.0, min=2.0), Output()), _dom_classes=…"
      ]
     },
     "metadata": {}
    }
   ],
   "metadata": {}
  },
  {
   "cell_type": "code",
   "execution_count": null,
   "source": [],
   "outputs": [],
   "metadata": {}
  },
  {
   "cell_type": "code",
   "execution_count": 34,
   "source": [
    "from ipyevents import Event \r\n",
    "from ipycanvas import Canvas\r\n",
    "\r\n",
    "canvas = Canvas(width=200, height=200)\r\n",
    "\r\n",
    "canvas.fill_style = '#63934e'\r\n",
    "canvas.stroke_style = '#4e6393'\r\n",
    "canvas.line_width = 5\r\n",
    "canvas.fill_polygon([(20, 20), (180, 20), (100, 150)])\r\n",
    "canvas.stroke_polygon([(20, 20), (180, 20), (100, 150)])\r\n",
    "\r\n",
    "im_events = Event()\r\n",
    "im_events.source = canvas\r\n",
    "im_events.watched_events = ['click']\r\n",
    "\r\n",
    "# no_drag = Event(source=canvas, watched_events=['dragstart'], prevent_default_action = True)\r\n"
   ],
   "outputs": [],
   "metadata": {}
  },
  {
   "cell_type": "code",
   "execution_count": 36,
   "source": [
    "from ipywidgets import Label, HTML, HBox, Image, VBox, Box, HBox\r\n",
    "from IPython.display import display\r\n",
    "from ipyevents import Event \r\n",
    "from ipycanvas import Canvas\r\n",
    "\r\n",
    "canvas = Canvas(width=200, height=200)\r\n",
    "\r\n",
    "canvas.fill_style = '#63934e'\r\n",
    "canvas.stroke_style = '#4e6393'\r\n",
    "canvas.line_width = 5\r\n",
    "# canvas.fill_polygon([(20, 20), (180, 20), (100, 150)])\r\n",
    "coords = []\r\n",
    "\r\n",
    "canvas.stroke_polygon(coords)\r\n",
    "\r\n",
    "im_events = Event()\r\n",
    "im_events.source = canvas\r\n",
    "im_events.watched_events = ['click', 'keyup', 'keydown']\r\n",
    "\r\n",
    "# no_drag = Event(source=canvas, watched_events=['dragstart'], prevent_default_action = True)\r\n",
    "\r\n",
    "h2 = HTML('Event info')\r\n",
    "\r\n",
    "def update_coords(event):\r\n",
    "    canvas.clear()\r\n",
    "    lines = ['{}: {}'.format(k, v) for k, v in event.items()]\r\n",
    "    content = '<br>'.join(lines)\r\n",
    "    h2.value = content\r\n",
    "    coords.append((event['layerX'], event['layerY']))\r\n",
    "    canvas.stroke_polygon(coords)\r\n",
    "    \r\n",
    "im_events.on_dom_event(update_coords)\r\n",
    "\r\n",
    "display(canvas, h2)"
   ],
   "outputs": [
    {
     "output_type": "display_data",
     "data": {
      "application/vnd.jupyter.widget-view+json": {
       "version_major": 2,
       "version_minor": 0,
       "model_id": "c96f01fa7e9947ea832ba41b1bd61b12"
      },
      "text/plain": [
       "Canvas(height=200, width=200)"
      ]
     },
     "metadata": {}
    },
    {
     "output_type": "display_data",
     "data": {
      "application/vnd.jupyter.widget-view+json": {
       "version_major": 2,
       "version_minor": 0,
       "model_id": "a1fc556de8844c73878f63db1ba140ec"
      },
      "text/plain": [
       "HTML(value='Event info')"
      ]
     },
     "metadata": {}
    }
   ],
   "metadata": {}
  },
  {
   "cell_type": "code",
   "execution_count": null,
   "source": [],
   "outputs": [],
   "metadata": {}
  }
 ],
 "metadata": {
  "language_info": {
   "name": "python",
   "version": "3.9.7",
   "mimetype": "text/x-python",
   "codemirror_mode": {
    "name": "ipython",
    "version": 3
   },
   "pygments_lexer": "ipython3",
   "nbconvert_exporter": "python",
   "file_extension": ".py"
  },
  "kernelspec": {
   "name": "python3",
   "display_name": "Python 3.9.7 64-bit"
  },
  "interpreter": {
   "hash": "bd4c67ef142469da7dc4d338a32ac40116904d26076b8e6aa587d80720bc6a2b"
  }
 },
 "nbformat": 4,
 "nbformat_minor": 5
}