{
 "cells": [
  {
   "cell_type": "markdown",
   "source": [
    "<!-- <img style=\"display: block; width: 100vw; height: 350px; object-fit: cover; object-position: center 20%;\" src=\"images/Studio_del_Corpo_Umano_-_Leonardo_da_Vinci.png\">\r\n",
    " -->\r\n",
    "<img width =\"100%\" height= \"350px\" class=\"banner\" src=\"images/Studio_del_Corpo_Umano_-_Leonardo_da_Vinci.png\">"
   ],
   "metadata": {}
  },
  {
   "cell_type": "markdown",
   "source": [
    "# Symetrie w matematyce – i nie tylko\r\n",
    "#### W języku potocznym słów *symetria* (gr. *συμμετρια*) i *symetryczny* używa się w odniesieniu do obiektów, w których dostrzegamy dwie takie części, że każda z nich może powstać z drugiej (np. poprzez lustrzane odbicie). Antyczni filofowie często utożsamiali piękno i harmonię z symetrią. Artyści, architekci a nawet muzycy dość często dbali o to, by w ich dziełach zawrzeć jakąś formę symetrii."
   ],
   "metadata": {}
  },
  {
   "cell_type": "markdown",
   "source": [
    "## Intuicja\r\n",
    "### Spójrz na poniższe przykłady, by wyrobić w sobie podstawową intuicję na temat pojęcia symetrii:\r\n",
    "<img src=\"https://upload.wikimedia.org/wikipedia/commons/thumb/1/19/Taj_Mahal%2C_Agra_views_from_around_%2885%29.JPG/800px-Taj_Mahal%2C_Agra_views_from_around_%2885%29.JPG\">\r\n",
    "<img src=\"https://upload.wikimedia.org/wikipedia/commons/thumb/6/65/Isfahan_Lotfollah_mosque_ceiling_symmetric.jpg/800px-Isfahan_Lotfollah_mosque_ceiling_symmetric.jpg\">\r\n",
    "<img width=\"800px\" src=\"http://www.mi.sanu.ac.rs/vismath/visbook/apagyi/Image1214.jpg\">\r\n",
    "\r\n",
    "<img width=\"800px\" src=\"https://external-preview.redd.it/sYoGf4Iq5zk056DW5aNad_stHoCwjmTsrjiz3Ca-HOI.jpg?auto=webp&s=79cd9faa8711d9fd5e051796494e4c618f0e983b\">\r\n",
    "\r\n",
    "##### PS. Dwa ostatnie przykłady są nieco dziwne, bo dotyczą muzyki. Jeśli Cię to zaintrygowało, to polecam ciekawy wykład na ten temat: [Symetria w muzyce | Copernicus Festival](https://www.youtube.com/watch?v=AUKjEcWiQzY)\r\n"
   ],
   "metadata": {}
  },
  {
   "cell_type": "markdown",
   "source": [
    "## Definicje związane z pojęciem symetrii w matematyce szkolnej\r\n",
    "#### Symetria osiowa\r\n",
    "Figura po prawej powstała przez odbicie figury po lewej symetrycznie względem zaznaczonej osi. **Oznacza to, że odległości wszystkich punktów figury po lewej do tej osi, muszą być równe odległości odpowiadających im punktów figury po prawej stronie.**\r\n",
    "<img src=\"https://i.imgur.com/9D2OKv5.png\">\r\n",
    "\r\n",
    "Przypuśćmy, że punkty mają współrzędne $A=(-4,-2)$, $B=(-4, 6)$, $C=(-2,-1)$, a osią jest pionowa oś układu współrzędnych. Jakie są współrzędne punktów $A'$, $B'$, $C'$?\r\n",
    "\r\n",
    "####  Symetria środkowa\r\n",
    "W tym wypadku zgadzać ma się nie odległość do osi, a do jakiegoś punktu, *zwanego środkiem symetrii*:\r\n",
    "\r\n",
    "<img src=\"https://i.imgur.com/GKvMg4k.png\">\r\n",
    "\r\n",
    "Przypuśćmy, że punkty mają współrzędne $A=(-5,1)$, $B=(-3, 2)$, $C=(-2,-2)$, a środkiem symetrii jest środek układu współrzędnych (czyli punkt $(0,0)$). Jakie są współrzędne punktów $A''$, $B''$, $C''$?\r\n"
   ],
   "metadata": {}
  },
  {
   "cell_type": "code",
   "execution_count": 17,
   "source": [
    "import sympy as sym\r\n",
    "x = sym.Symbol('x')\r\n",
    "y = sym.Symbol('y')\r\n",
    "\r\n",
    "(x + y) ** 2\r\n"
   ],
   "outputs": [
    {
     "output_type": "execute_result",
     "data": {
      "text/latex": [
       "$\\displaystyle \\left(x + y\\right)^{2}$"
      ],
      "text/plain": [
       "(x + y)**2"
      ]
     },
     "metadata": {},
     "execution_count": 17
    }
   ],
   "metadata": {}
  },
  {
   "cell_type": "code",
   "execution_count": 30,
   "source": [
    "%matplotlib widget\r\n",
    "import ipywidgets as widgets\r\n",
    "import matplotlib.pyplot as plt\r\n",
    "import numpy as np\r\n",
    "import math\r\n",
    "\r\n",
    "def my_poly(sides, r=1, phi=0):\r\n",
    "    return np.array([(math.cos(th-phi) * r, math.sin(th-phi) * r)  \r\n",
    "    for th in [i * (2 * math.pi) / sides for i in range(sides+1)]])\r\n",
    "\r\n",
    "def my_sine(x, w=1, amp=1, phi=0):\r\n",
    "    \"\"\"\r\n",
    "    Return a sine for x with angular frequeny w and amplitude amp.\r\n",
    "    \"\"\"\r\n",
    "    return amp*np.sin(w * (x-phi))\r\n",
    "\r\n",
    "x, y = my_poly(5).T\r\n",
    "plt.scatter(x,y)"
   ],
   "outputs": [
    {
     "output_type": "display_data",
     "data": {
      "application/vnd.jupyter.widget-view+json": {
       "version_major": 2,
       "version_minor": 0,
       "model_id": "9a9b8b6193bc4ab78a6d0eb6921a69b4"
      },
      "text/plain": [
       "Canvas(toolbar=Toolbar(toolitems=[('Home', 'Reset original view', 'home', 'home'), ('Back', 'Back to previous …"
      ]
     },
     "metadata": {}
    },
    {
     "output_type": "execute_result",
     "data": {
      "text/plain": [
       "<matplotlib.collections.PathCollection at 0x210a0bc2b20>"
      ]
     },
     "metadata": {},
     "execution_count": 30
    }
   ],
   "metadata": {}
  },
  {
   "cell_type": "code",
   "execution_count": null,
   "source": [],
   "outputs": [],
   "metadata": {}
  }
 ],
 "metadata": {
  "language_info": {
   "name": "python",
   "version": "3.9.7",
   "mimetype": "text/x-python",
   "codemirror_mode": {
    "name": "ipython",
    "version": 3
   },
   "pygments_lexer": "ipython3",
   "nbconvert_exporter": "python",
   "file_extension": ".py"
  },
  "kernelspec": {
   "name": "python3",
   "display_name": "Python 3.9.7 64-bit"
  },
  "interpreter": {
   "hash": "bd4c67ef142469da7dc4d338a32ac40116904d26076b8e6aa587d80720bc6a2b"
  }
 },
 "nbformat": 4,
 "nbformat_minor": 5
}