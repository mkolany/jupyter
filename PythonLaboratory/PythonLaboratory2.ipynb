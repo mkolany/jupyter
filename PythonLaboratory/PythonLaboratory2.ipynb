{
 "cells": [
  {
   "cell_type": "code",
   "execution_count": 1,
   "metadata": {},
   "outputs": [],
   "source": [
    "from abc import ABC, ABCMeta, abstractmethod\n",
    "from typing import Callable, TypeVar, Optional, Any,  Type\n",
    "T = TypeVar(\"T\")\n",
    "\n",
    "class Adapter:\n",
    "    \"\"\"\n",
    "    Adapts an object by replacing methods.\n",
    "    \n",
    "    Usage:\n",
    "        Adapter(adaptee desired_method=adaptee.method)\n",
    "    \"\"\"\n",
    "    def __init__(self, obj: T, **adapted_methods: Callable):\n",
    "        # Setting the adapted methods in the object's dict.\n",
    "        self.obj = obj\n",
    "        self.__dict__.update(adapted_methods)\n",
    "\n",
    "    def __getattr__(self, attr):\n",
    "        \"\"\"All non-adapted calls are passed to the object.\"\"\"\n",
    "        return getattr(self.obj, attr)\n",
    "\n",
    "    def original_dict(self):\n",
    "        return self.obj.__dict__\n",
    "\n",
    "class Singleton(ABCMeta):\n",
    "    \"\"\"\n",
    "    Class of that type can be initialized only once. \n",
    "    \"\"\"\n",
    "    _instances = {}\n",
    "\n",
    "    def __call__(cls, *args, **kwargs):\n",
    "        if cls.__name__ not in cls._instances:\n",
    "            cls._instances[cls.__name__] = super().__call__(*args, **kwargs)\n",
    "        return cls._instances[cls.__name__]\n",
    "\n",
    "\n",
    "\n"
   ]
  },
  {
   "cell_type": "code",
   "execution_count": 2,
   "metadata": {},
   "outputs": [],
   "source": [
    "from typing import Optional, TypeVar, Callable\n",
    "T = TypeVar(\"T\")\n",
    "\n",
    "class Module:\n",
    "    _successor = None\n",
    "    def __init__(self, name: str) -> None:\n",
    "        self.name = name\n",
    "        \n",
    "    \n",
    "    def handle(self) -> None:\n",
    "        res = self.run()\n",
    "        if not self._successor:\n",
    "            return res\n",
    "        else:\n",
    "            self._successor.handle(res)\n",
    "            \n",
    "    def run(self) -> None:\n",
    "        raise NotImplementedError\n",
    "\n",
    "class Device(Module):\n",
    "    def __init__(self,  name: str, handler: Callable) -> None:\n",
    "        self.handler=handler\n",
    "    def run(self) -> None:\n",
    "        return self.handler()\n",
    "\n",
    "def beep(*args, **kwargs):\n",
    "    pass\n"
   ]
  },
  {
   "cell_type": "code",
   "execution_count": 3,
   "metadata": {},
   "outputs": [
    {
     "name": "stdout",
     "output_type": "stream",
     "text": [
      "Loading visa package (it takes a while)\n",
      "Connecting to a device\n",
      "\n",
      "KEITHLEY INSTRUMENTS,MODEL 2450,04384536,1.6.4c\n",
      "\n",
      "KEITHLEY INSTRUMENTS,MODEL DMM6500,04507180,1.7.5b\n",
      "\n",
      "2000,10-Chan Mux,0.0.0a,00000000\n",
      "\n",
      "\n",
      "Setting it up (this is quite fast)\n"
     ]
    },
    {
     "data": {
      "text/plain": [
       "-5.004972e-07"
      ]
     },
     "execution_count": 3,
     "metadata": {},
     "output_type": "execute_result"
    }
   ],
   "source": [
    "try:\n",
    "    print(\"Loading visa package (it takes a while)\")\n",
    "    import visa\n",
    "\n",
    "    print(\"Connecting to a device\\n\")\n",
    "    rm = visa.ResourceManager('@py')\n",
    "    smu2450 = rm.open_resource('USB0::1510::9296::04384536::0::INSTR')\n",
    "    smu2450.timeout = None\n",
    "    dmm6500 = rm.open_resource('USB0::1510::25856::04507180::0::INSTR')\n",
    "    dmm6500.timeout = None\n",
    "    beep('C')\n",
    "\n",
    "    print(smu2450.query('*IDN?'))\n",
    "    print(dmm6500.query('*IDN?'))\n",
    "    print(dmm6500.query('SYST:CARD1:IDN?'))\n",
    "\n",
    "    print(\"\\nSetting it up (this is quite fast)\")\n",
    "\n",
    "    smu2450.write('*RST')\n",
    "    smu2450.write('OUTP:SMOD HIMP')\n",
    "    smu2450.write('SOUR:FUNC CURR')\n",
    "    smu2450.write('SOUR:CURR:VLIM .5')\n",
    "    smu2450.write('SOUR:DEL .1')\n",
    "\n",
    "    beep('CEC')\n",
    "except Exception as e:\n",
    "    print(repr(e))"
   ]
  },
  {
   "cell_type": "code",
   "execution_count": null,
   "metadata": {},
   "outputs": [],
   "source": [
    "def voltMeas():\n",
    "    dmm6500.write('*RST')\n",
    "    dmm6500.write('SENS:FUNC \"VOLT:DC\", (@1)')\n",
    "    dmm6500.write('SENS:VOLT:RANG 0.1, (@1)')\n",
    "    dmm6500.write('SENS:VOLT:INP AUTO, (@1)')\n",
    "    dmm6500.write('SENS:VOLT:NPLC 10, (@1)')\n",
    "    dmm6500.write('SENS:VOLT:AZER ON, (@1)')\n",
    "    dmm6500.write('ROUT:CLOS (@1)')\n",
    "\n",
    "    V = dmm6500.query('READ?')\n",
    "    return float(V)*(-1)\n",
    "\n",
    "def resMeas():\n",
    "    smu2450.write('SOURCE:CURR 0.01')\n",
    "    smu2450.write('OUTP ON')\n",
    "    dmm6500.write('*RST')\n",
    "    dmm6500.write('SENS:FUNC \"VOLT:DC\", (@1)')\n",
    "    dmm6500.write('SENS:VOLT:RANG 0.1, (@1)')\n",
    "    dmm6500.write('SENS:VOLT:INP AUTO, (@1)')\n",
    "    dmm6500.write('SENS:VOLT:NPLC 10, (@1)')\n",
    "    dmm6500.write('SENS:VOLT:AZER ON, (@1)')\n",
    "    dmm6500.write('ROUT:CLOS (@1)')\n",
    "\n",
    "    V1=float(dmm6500.query('READ?'))\n",
    "    smu2450.write('OUTP OFF')\n",
    "\n",
    "    smu2450.write('SOURCE:CURR -0.01')\n",
    "    smu2450.write('OUTP ON')\n",
    "    dmm6500.write('*RST')\n",
    "    dmm6500.write('SENS:FUNC \"VOLT:DC\", (@1)')\n",
    "    dmm6500.write('SENS:VOLT:RANG 0.1, (@1)')\n",
    "    dmm6500.write('SENS:VOLT:INP AUTO, (@1)')\n",
    "    dmm6500.write('SENS:VOLT:NPLC 10, (@1)')\n",
    "    dmm6500.write('SENS:VOLT:AZER ON, (@1)')\n",
    "    dmm6500.write('ROUT:CLOS (@1)')\n",
    "\n",
    "    V2=float(dmm6500.query('READ?'))\n",
    "    smu2450.write('OUTP OFF')\n",
    "\n",
    "    R=(V1-V2)/.02\n",
    "    return float(R)"
   ]
  },
  {
   "cell_type": "code",
   "execution_count": 11,
   "metadata": {},
   "outputs": [
    {
     "data": {
      "text/plain": [
       "-3.217777e-07"
      ]
     },
     "execution_count": 11,
     "metadata": {},
     "output_type": "execute_result"
    }
   ],
   "source": [
    "\n",
    "d=Device(\"dmm6500\", voltMeas)\n",
    "e=Device(\"smu2450\", resmeas)\n",
    "print(\"{},{}\".format(d.handle(), d.__class__.mro())\n",
    "e.handle()\n",
    "\n"
   ]
  },
  {
   "cell_type": "code",
   "execution_count": null,
   "metadata": {},
   "outputs": [],
   "source": []
  }
 ],
 "metadata": {
  "interpreter": {
   "hash": "bd4c67ef142469da7dc4d338a32ac40116904d26076b8e6aa587d80720bc6a2b"
  },
  "kernelspec": {
   "display_name": "Python",
   "language": "python",
   "name": "python"
  },
  "language_info": {
   "codemirror_mode": {
    "name": "ipython",
    "version": 3
   },
   "file_extension": ".py",
   "mimetype": "text/x-python",
   "name": "python",
   "nbconvert_exporter": "python",
   "pygments_lexer": "ipython3",
   "version": "3.8.0"
  },
  "orig_nbformat": 4
 },
 "nbformat": 4,
 "nbformat_minor": 2
}
