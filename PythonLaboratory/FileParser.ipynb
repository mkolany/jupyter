{
 "cells": [
  {
   "cell_type": "markdown",
   "metadata": {},
   "source": [
    "# Data analysis can be split into three elementary steps:\n",
    "## 1. Importing the data\n",
    "All the methods necessary to **read** the file contents, parse data and output it in desired format. Ie. something like that:\n",
    " \n",
    "```\n",
    "import pathlib\n",
    "import pandas as pd\n",
    "\n",
    "def data_import(self, path: pathlib.Path) -> pd.DataFrame:\n",
    "    # ... \n",
    "    # dataframe =\n",
    "    return dataframe\n",
    "```\n",
    "\n",
    "## 2. Processing the data\n",
    "All the smoothing, normalization, interpolation, etc. should happen here. Implemented using composite design pattern.\n",
    "\n",
    "## 3. Showing the data\n",
    "ble ble\n",
    "\n",
    "# Implementation using bridge design pattern/dependency injection:\n"
   ]
  },
  {
   "cell_type": "code",
   "execution_count": 102,
   "metadata": {},
   "outputs": [
    {
     "data": {
      "text/plain": [
       "0\n",
       "1100.0    1.085271\n",
       "1099.0    1.085271\n",
       "1098.0    1.082687\n",
       "1097.0    1.080103\n",
       "1096.0    1.077519\n",
       "            ...   \n",
       "404.0     2.552972\n",
       "403.0     2.687339\n",
       "402.0     2.821705\n",
       "401.0     2.961240\n",
       "400.0     3.064599\n",
       "Name: 1, Length: 701, dtype: float64"
      ]
     },
     "execution_count": 102,
     "metadata": {},
     "output_type": "execute_result"
    }
   ],
   "source": [
    "import pathlib\n",
    "from pathlib import Path\n",
    "from IPython.display import display\n",
    "from abc import ABC, abstractmethod\n",
    "from typing import Callable, Optional, List\n",
    "import pandas as pd\n",
    "from pandas.errors import ParserError\n",
    "import numpy as np\n",
    "import itertools\n",
    "\n",
    "class Handler(ABC):\n",
    "    @abstractmethod\n",
    "    def handle(self, *args, **kwargs):\n",
    "        raise NotImplementedError(\"You should implement this!\")\n",
    "        \n",
    "    def update_handler(self, new_handler: Callable) -> None:\n",
    "        self.handle = new_handler\n",
    "        \n",
    "class FileHandler(Handler):\n",
    "    def handle(self, path: pathlib.Path) -> pd.DataFrame:\n",
    "        with open(path) as f:\n",
    "            for i, row in enumerate(f):\n",
    "                for delimiter, decimal in (itertools.product([';',',','\\t'], ['.',','])):\n",
    "                    try:\n",
    "                        df = pd.read_csv(path ,delimiter=delimiter, decimal=decimal, index_col=0, skiprows=i,header=None, on_bad_lines='skip', dtype=np.float64)\n",
    "                        \n",
    "\n",
    "                        return df\n",
    "                        # return df[df.columns[-1]]\n",
    "\n",
    "                    except Exception:\n",
    "                        pass\n",
    "    \n",
    "class DataHandler(Handler):\n",
    "    def __init__(self, handler: Optional[Callable]=None):\n",
    "        super().__init__()\n",
    "        \n",
    "        if handler is not None:\n",
    "            self.update_handler(handler)\n",
    "        \n",
    "    def handle(self,  data: pd.DataFrame) -> pd.DataFrame:\n",
    "        return data\n",
    "\n",
    "class Pipeline(DataHandler):\n",
    "    def __init__(self) -> None:\n",
    "        self.operations: List[DataHandler] = []\n",
    "        \n",
    "    def handle(self,  data: pd.DataFrame) -> pd.DataFrame:\n",
    "        for o in self.operations:\n",
    "            data = o.handle( data )\n",
    "        return data\n",
    "\n",
    "    def add(self, *operations: DataHandler) -> None:\n",
    "        for o in operations:\n",
    "            self.operations.append(o)\n",
    "\n",
    "    def remove(self,*operations: DataHandler) -> None:\n",
    "        for o in operations:\n",
    "            self.operations.remove(o)\n",
    "            \n",
    "class DataModel(ABC):\n",
    "    def __init__(self, path: pathlib.Path, reader: Optional[FileHandler]=FileHandler()) -> None:\n",
    "        self._reader=reader\n",
    "        self._pipeline=Pipeline()\n",
    "        self.path=path\n",
    "    @property\n",
    "    def path(self):\n",
    "        return self._path\n",
    "    \n",
    "    @path.setter\n",
    "    def path(self, path: pathlib.Path):\n",
    "        self._path = path\n",
    "    @property\n",
    "    def raw_data(self):\n",
    "        return self._reader.handle(self.path)\n",
    "    @property\n",
    "    def data(self):\n",
    "        return self._pipeline.handle(self.raw_data)\n",
    " \n",
    "absorbance_data = Path('../patka-pomiary/CPE45_PFOBPy_comocat.txt')\n",
    "fluorescence_data = Path('../patka-pomiary/func39.txt')\n",
    "\n",
    "\n",
    "\n",
    "get_last_column_only = DataHandler(lambda df: df[df.columns[-1]])\n",
    "normalize = DataHandler(lambda df: df.truediv(df.where(np.logical_and(df.index>800, df.index<1000)).min()))\n",
    "\n",
    "dm = DataModel(path=absorbance_data)\n",
    "\n",
    "dm2 = DataModel(path=fluorescence_data)\n",
    "\n",
    "# display(dm.data)\n",
    "# display(dm2.data)\n",
    "\n",
    "dm._pipeline.add(get_last_column_only)\n",
    "dm._pipeline.add(normalize)\n",
    "dm.data"
   ]
  },
  {
   "cell_type": "code",
   "execution_count": 108,
   "metadata": {},
   "outputs": [
    {
     "data": {
      "text/plain": [
       "__main__.DataHandler"
      ]
     },
     "execution_count": 108,
     "metadata": {},
     "output_type": "execute_result"
    }
   ],
   "source": []
  },
  {
   "cell_type": "code",
   "execution_count": 93,
   "metadata": {},
   "outputs": [
    {
     "data": {
      "text/plain": [
       "<AxesSubplot:xlabel='0'>"
      ]
     },
     "execution_count": 93,
     "metadata": {},
     "output_type": "execute_result"
    },
    {
     "data": {
      "image/png": "[encoded data removed]",
      "text/plain": [
       "<Figure size 432x288 with 1 Axes>"
      ]
     },
     "metadata": {
      "needs_background": "light"
     },
     "output_type": "display_data"
    }
   ],
   "source": []
  },
  {
   "cell_type": "code",
   "execution_count": null,
   "metadata": {},
   "outputs": [],
   "source": []
  }
 ],
 "metadata": {
  "interpreter": {
   "hash": "bd4c67ef142469da7dc4d338a32ac40116904d26076b8e6aa587d80720bc6a2b"
  },
  "kernelspec": {
   "display_name": "Python 3 (ipykernel)",
   "language": "python",
   "name": "python3"
  },
  "language_info": {
   "codemirror_mode": {
    "name": "ipython",
    "version": 3
   },
   "file_extension": ".py",
   "mimetype": "text/x-python",
   "name": "python",
   "nbconvert_exporter": "python",
   "pygments_lexer": "ipython3",
   "version": "3.9.7"
  }
 },
 "nbformat": 4,
 "nbformat_minor": 4
}
