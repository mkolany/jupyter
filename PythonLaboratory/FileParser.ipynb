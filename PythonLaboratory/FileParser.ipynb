{
 "cells": [
  {
   "cell_type": "code",
   "execution_count": 226,
   "metadata": {},
   "outputs": [
    {
     "ename": "TypeError",
     "evalue": "get_data() takes 2 positional arguments but 4 were given",
     "output_type": "error",
     "traceback": [
      "\u001b[1;31m---------------------------------------------------------------------------\u001b[0m",
      "\u001b[1;31mTypeError\u001b[0m                                 Traceback (most recent call last)",
      "\u001b[1;32m~\\AppData\\Local\\Temp/ipykernel_9336/3185118046.py\u001b[0m in \u001b[0;36m<module>\u001b[1;34m\u001b[0m\n\u001b[0;32m     70\u001b[0m \u001b[1;33m\u001b[0m\u001b[0m\n\u001b[0;32m     71\u001b[0m \u001b[0mrd\u001b[0m \u001b[1;33m=\u001b[0m \u001b[0mAvantes\u001b[0m\u001b[1;33m(\u001b[0m \u001b[0mfile\u001b[0m\u001b[1;33m=\u001b[0m\u001b[0mfluorescence_csv\u001b[0m\u001b[1;33m,\u001b[0m \u001b[0mapi\u001b[0m\u001b[1;33m=\u001b[0m\u001b[0mDisplay\u001b[0m\u001b[1;33m(\u001b[0m\u001b[1;33m)\u001b[0m \u001b[1;33m)\u001b[0m \u001b[1;31m# api=Display() is set by default\u001b[0m\u001b[1;33m\u001b[0m\u001b[1;33m\u001b[0m\u001b[0m\n\u001b[1;32m---> 72\u001b[1;33m \u001b[0mrd2\u001b[0m \u001b[1;33m=\u001b[0m \u001b[0mHitachi\u001b[0m\u001b[1;33m(\u001b[0m \u001b[0mfile\u001b[0m\u001b[1;33m=\u001b[0m\u001b[0mabsorbance_csv\u001b[0m\u001b[1;33m,\u001b[0m \u001b[0mapi\u001b[0m\u001b[1;33m=\u001b[0m\u001b[0mDisplay\u001b[0m\u001b[1;33m(\u001b[0m\u001b[1;33m)\u001b[0m \u001b[1;33m)\u001b[0m\u001b[1;33m\u001b[0m\u001b[1;33m\u001b[0m\u001b[0m\n\u001b[0m\u001b[0;32m     73\u001b[0m \u001b[1;33m\u001b[0m\u001b[0m\n\u001b[0;32m     74\u001b[0m \u001b[0mrd\u001b[0m\u001b[1;33m.\u001b[0m\u001b[0mdisplay\u001b[0m\u001b[1;33m(\u001b[0m\u001b[1;33m)\u001b[0m\u001b[1;33m\u001b[0m\u001b[1;33m\u001b[0m\u001b[0m\n",
      "\u001b[1;32m~\\AppData\\Local\\Temp/ipykernel_9336/3185118046.py\u001b[0m in \u001b[0;36m__init__\u001b[1;34m(self, file, api)\u001b[0m\n\u001b[0;32m     26\u001b[0m \u001b[1;33m\u001b[0m\u001b[0m\n\u001b[0;32m     27\u001b[0m         \u001b[1;31m###\u001b[0m\u001b[1;33m\u001b[0m\u001b[1;33m\u001b[0m\u001b[0m\n\u001b[1;32m---> 28\u001b[1;33m         \u001b[0mself\u001b[0m\u001b[1;33m.\u001b[0m\u001b[0mget_data\u001b[0m\u001b[1;33m(\u001b[0m\u001b[0mfile\u001b[0m\u001b[1;33m)\u001b[0m\u001b[1;33m\u001b[0m\u001b[1;33m\u001b[0m\u001b[0m\n\u001b[0m\u001b[0;32m     29\u001b[0m \u001b[1;33m\u001b[0m\u001b[0m\n\u001b[0;32m     30\u001b[0m     \u001b[1;32mdef\u001b[0m \u001b[0mdisplay\u001b[0m\u001b[1;33m(\u001b[0m\u001b[0mself\u001b[0m\u001b[1;33m)\u001b[0m\u001b[1;33m:\u001b[0m\u001b[1;33m\u001b[0m\u001b[1;33m\u001b[0m\u001b[0m\n",
      "\u001b[1;32m~\\AppData\\Local\\Temp/ipykernel_9336/3185118046.py\u001b[0m in \u001b[0;36mget_data\u001b[1;34m(self, file, header, delimiter)\u001b[0m\n\u001b[0;32m     64\u001b[0m \u001b[1;32mclass\u001b[0m \u001b[0mHitachi\u001b[0m\u001b[1;33m(\u001b[0m\u001b[0mRawData\u001b[0m\u001b[1;33m)\u001b[0m\u001b[1;33m:\u001b[0m\u001b[1;33m\u001b[0m\u001b[1;33m\u001b[0m\u001b[0m\n\u001b[0;32m     65\u001b[0m     \u001b[1;32mdef\u001b[0m \u001b[0mget_data\u001b[0m\u001b[1;33m(\u001b[0m\u001b[0mself\u001b[0m\u001b[1;33m,\u001b[0m \u001b[0mfile\u001b[0m\u001b[1;33m,\u001b[0m \u001b[0mheader\u001b[0m\u001b[1;33m=\u001b[0m\u001b[1;33m(\u001b[0m\u001b[1;36m30\u001b[0m\u001b[1;33m,\u001b[0m\u001b[1;36m1\u001b[0m\u001b[1;33m)\u001b[0m\u001b[1;33m,\u001b[0m \u001b[0mdelimiter\u001b[0m\u001b[1;33m=\u001b[0m\u001b[1;34m'\\t'\u001b[0m\u001b[1;33m)\u001b[0m\u001b[1;33m:\u001b[0m\u001b[1;33m\u001b[0m\u001b[1;33m\u001b[0m\u001b[0m\n\u001b[1;32m---> 66\u001b[1;33m         \u001b[1;32mreturn\u001b[0m \u001b[0msuper\u001b[0m\u001b[1;33m(\u001b[0m\u001b[1;33m)\u001b[0m\u001b[1;33m.\u001b[0m\u001b[0mget_data\u001b[0m\u001b[1;33m(\u001b[0m\u001b[0mfile\u001b[0m\u001b[1;33m,\u001b[0m \u001b[0mheader\u001b[0m\u001b[1;33m,\u001b[0m \u001b[0mdelimiter\u001b[0m\u001b[1;33m)\u001b[0m\u001b[1;33m\u001b[0m\u001b[1;33m\u001b[0m\u001b[0m\n\u001b[0m\u001b[0;32m     67\u001b[0m \u001b[1;33m\u001b[0m\u001b[0m\n\u001b[0;32m     68\u001b[0m \u001b[0mabsorbance_csv\u001b[0m \u001b[1;33m=\u001b[0m  \u001b[0mPath\u001b[0m\u001b[1;33m(\u001b[0m\u001b[1;34m'../patka-pomiary/CPE45_PFOBPy_comocat.txt'\u001b[0m\u001b[1;33m)\u001b[0m\u001b[1;33m\u001b[0m\u001b[1;33m\u001b[0m\u001b[0m\n",
      "\u001b[1;31mTypeError\u001b[0m: get_data() takes 2 positional arguments but 4 were given"
     ]
    }
   ],
   "source": [
    "from abc import ABC, abstractmethod\n",
    "from IPython.display import display, clear_output\n",
    "from typing import List, Any, Optional\n",
    "import numpy as np \n",
    "import pandas as pd \n",
    "from pathlib import Path\n",
    "from lib.logger import log\n",
    "\n",
    "class DisplayAPI(ABC):\n",
    "    @abstractmethod\n",
    "    def display(self):\n",
    "        pass\n",
    "    \n",
    "class Print(DisplayAPI):\n",
    "    def display(self, some_shit):\n",
    "        print(some_shit.data)\n",
    "    \n",
    "class Display(DisplayAPI):\n",
    "    def display(self, some_shit):\n",
    "        display(some_shit.data)\n",
    "    \n",
    "class RawData(ABC):\n",
    "    def __init__(self, file, api: Optional[DisplayAPI] = Display() ) -> None:\n",
    "        self.file = file\n",
    "        self.api = api\n",
    "        \n",
    "        ###\n",
    "        self.get_data(file)\n",
    "     \n",
    "    def display(self):\n",
    "        self.api.display(self)\n",
    "        \n",
    "    @abstractmethod\n",
    "    def get_data(self, file):\n",
    "        pass\n",
    "    \n",
    "    @property\n",
    "    def text(self):\n",
    "        return self.file.read_text()\n",
    "    @property\n",
    "    def lines(self):\n",
    "        return self.text.splitlines()\n",
    "\n",
    "    \n",
    "class CSVFile(RawData):\n",
    "    def get_data(self,  file, header, delimiter):\n",
    "        header_line, skip = header\n",
    "        header = self.lines[header_line].split(delimiter)\n",
    "        data = np.genfromtxt((x.replace(',', '.').encode() for x in open(file)),skip_header=header_line+skip, delimiter=delimiter)\n",
    "        \n",
    "        df = pd.DataFrame(data[:,1:], index=data[:,0], columns=header[1:])\n",
    "        df.index.name=header[0]\n",
    "\n",
    "        self.data=df\n",
    "    \n",
    "    def get_sections(self) -> List[Any]:\n",
    "        indexes = [ *[k for k,line in enumerate(self.lines) if line==''], -1]\n",
    "        return [self.lines[i+1:k] for i,k in zip(indexes[0::2], indexes[1::2])]\n",
    "\n",
    "class Avantes(CSVFile):\n",
    "    def get_data(self, file, header=(5,3), delimiter=';'):\n",
    "        return super().get_data(file, header, delimiter)\n",
    "        \n",
    "class Hitachi(CSVFile):\n",
    "    def get_data(self, file, header=(30,1), delimiter='\\t'):\n",
    "        return super().get_data(file, header, delimiter)\n",
    "       \n",
    "absorbance_csv =  Path('../patka-pomiary/CPE45_PFOBPy_comocat.txt')\n",
    "fluorescence_csv =  Path('../patka-pomiary/func39.txt')\n",
    "\n",
    "rd = Avantes( file=fluorescence_csv, api=Display() ) # api=Display() is set by default \n",
    "rd2 = Hitachi( file=absorbance_csv, api=Display() )\n",
    "\n",
    "rd.display()\n",
    "rd2.display()"
   ]
  },
  {
   "cell_type": "code",
   "execution_count": null,
   "metadata": {},
   "outputs": [],
   "source": []
  }
 ],
 "metadata": {
  "interpreter": {
   "hash": "bd4c67ef142469da7dc4d338a32ac40116904d26076b8e6aa587d80720bc6a2b"
  },
  "kernelspec": {
   "display_name": "Python 3.9.7 64-bit",
   "language": "python",
   "name": "python3"
  },
  "language_info": {
   "codemirror_mode": {
    "name": "ipython",
    "version": 3
   },
   "file_extension": ".py",
   "mimetype": "text/x-python",
   "name": "python",
   "nbconvert_exporter": "python",
   "pygments_lexer": "ipython3",
   "version": "3.9.7"
  },
  "orig_nbformat": 4
 },
 "nbformat": 4,
 "nbformat_minor": 2
}
