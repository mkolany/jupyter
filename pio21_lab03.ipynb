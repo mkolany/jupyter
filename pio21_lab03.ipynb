{
 "cells": [
  {
   "cell_type": "markdown",
   "metadata": {},
   "source": [
    "# PIO\n",
    "### Lab 03: Python w pigułce, cz 2\n",
    "\n",
    "**start 10:05**\n",
    "\n",
    "### w cz 1\n",
    "* zmienne, typy\n",
    "* warunki logiczne i rozgałęzienia `if-elif-else`\n",
    "* pętle `while` i `for` \n",
    "* typy sekwencyjne, konkatenacja, wycinanie list"
   ]
  },
  {
   "cell_type": "code",
   "execution_count": null,
   "metadata": {},
   "outputs": [],
   "source": []
  },
  {
   "cell_type": "markdown",
   "metadata": {},
   "source": [
    "### Ćwiczenie 0 (gdy czekamy na wszystkich)\n",
    "Napisz program wczytujący pesel użytkownika. Zweryfikuj jego poprawność. Na podstawie numeru pesel wydrukuj informacje o płci osoby, miesiącu jej urodzenia i obecnym wieku (ustalonym na podstawie roku).\n",
    "\n",
    "Przykładowa postać:\n",
    "\n",
    "| 020708 | 0362 | 8 |\n",
    "\n",
    "* cyfry [1-6] – data urodzenia z określeniem stulecia urodzenia\n",
    "* cyfry [7-10] – numer serii z oznaczeniem płci\n",
    "* cyfra [10] – płeć (parzyste - kobieta, nieparzyste - mężczyzna)\n",
    "* cyfra [11] – cyfra kontrolna\n",
    "\n",
    "Jak obliczyć cyfrę kontrolną - https://www.gov.pl/web/gov/czym-jest-numer-pesel\n"
   ]
  },
  {
   "cell_type": "code",
   "execution_count": null,
   "metadata": {},
   "outputs": [],
   "source": []
  },
  {
   "cell_type": "markdown",
   "metadata": {},
   "source": [
    "### Ćwiczenie 1\n",
    "Za pomocą pętli `for` zbuduj wykorzystując konkatenację (`obj1 + obj2`)\n",
    "\n",
    "* **[Banyś\tKinga, Barwinek\tNatalia, Dystrych\tDaniel, Grzegorczyk\tPaweł]**\n",
    "    listę kwadratów liczb od 100 do 200, oblicz jej sumę -> \n",
    "    ```[10000, 40000, ...]```\n",
    "* **[Homa\tNatalia, Kłodzińska\tGabriela, Ładak\tWeronika, Sikora\tKarolina]**: \n",
    "    krotkę pierwiastków liczb od 100 do 200, oblicz jej sumę -> \n",
    "    ```(10.0, 14.142135623730951, ...)```\n",
    "* **[Sotnikov\tVladyslav, Tomanek\tMichał, Wójcicki\tZiemowit, Zieliński\tMichał]**: \n",
    "    ciąg znaków sześcianów liczb od 100 do 200, podaj długość ciągu -> \n",
    "    ```\"1000000, 1030301, ...\"```"
   ]
  },
  {
   "cell_type": "code",
   "execution_count": null,
   "metadata": {},
   "outputs": [],
   "source": []
  },
  {
   "cell_type": "markdown",
   "metadata": {},
   "source": [
    "## wyrażenia listowe (słownikowe) z warunkiem\n",
    "\n",
    "```\n",
    "[funkcja(zmienna) for zmienna in sekwencja if WARUNEK]\n",
    "```"
   ]
  },
  {
   "cell_type": "code",
   "execution_count": 23,
   "metadata": {},
   "outputs": [],
   "source": [
    "# listę kwadratów liczb od 100 do 200, oblicz jej sumę\n",
    "\n",
    "# wyrażenie listowe\n",
    "L = [i**2 for i in range(100, 200 + 1) if i%2 == 0]\n",
    "# print(sum(L))\n",
    "\n",
    "# generator\n",
    "G = (i**0.5 for i in range(100, 200 + 1))\n",
    "# print(sum(G))\n",
    "\n",
    "# join\n",
    "Z = ' - '.join([str(i**3) for i in range(100, 200 + 1)])\n",
    "# print(len(Z))\n",
    "\n",
    "# słownik kwadratów liczb od 100 do 200, oblicz jej sumę -> [10000, 40000, ...]\n",
    "S = {key: key**2 for key in range(100, 201) if key%2}\n",
    "# print(sum(S.values()))"
   ]
  },
  {
   "cell_type": "markdown",
   "metadata": {},
   "source": [
    "### Ćwiczenie 2\n",
    "Za pomocą wyrażeń listowych\n",
    "\n",
    "* **Banyś Kinga, Tomanek Michał** Wygeneruj listę wszystkich liczb podzielnych przez 3 z przedziału 1000 do 1200.  \n",
    "* **Barwinek Natalia, Wójcicki Ziemowit** Wygeneruj listę lat przestępnych od 1900 do 2000.\n",
    "* **Dystrych Daniel, Zieliński Michał** Wygeneruj listę sześcianów liczb z przedziału $[99, 9]$.\n",
    "* **Grzegorczyk Paweł** Wygeneruj listę krotek $(x, y)$ przy czym $x \\ne y$ $x,y\\in [0,20]$.\n",
    "* **Homa Natalia** Wygeneruj listę krotek $(x, y)$ przy czym $x + y>5$ $x,y\\in [0,20]$.\n",
    "* **Kłodzińska Gabriela** Wygeneruj listę krotek (C, F), gdzie C, to temperatura w skali Celsjusza zmieniajca się od -20 do 100 stopni co 5 stopni, a F to odpowiadająca jej temperatura w skali Fahrenheita.\n",
    "* **Ładak Weronika** Utwórz listę imion osób z Twojej grupy.  Utwórz listę imion  zakończonych literą \"a\".\n",
    "* **Sikora Karolina** Utwórz listę krotek zawierającą imiona i nazwiska osób z grupy `[(Imie, Nazwisko), (Adam, Bober), ...]`. Na jej bazie zbuduj listę zawierającą inicjały w formie `['IN', 'AB', ...]`.\n",
    "* **Sotnikov Vladyslav** Utwórz listę słowników zawierającą imiona i nazwiska osób z grupy `[{Imie: Nazwisko}, {Adam: Bober}, ...]`. Na jej bazie zbuduj listę zawierającą inicjały w formie `['I-N', 'A-B', ...]`."
   ]
  },
  {
   "cell_type": "code",
   "execution_count": 24,
   "metadata": {},
   "outputs": [
    {
     "name": "stdout",
     "output_type": "stream",
     "text": [
      "[1002, 1005, 1008, 1011, 1014, 1017, 1020, 1023, 1026, 1029, 1032, 1035, 1038, 1041, 1044, 1047, 1050, 1053, 1056, 1059, 1062, 1065, 1068, 1071, 1074, 1077, 1080, 1083, 1086, 1089, 1092, 1095, 1098, 1101, 1104, 1107, 1110, 1113, 1116, 1119, 1122, 1125, 1128, 1131, 1134, 1137, 1140, 1143, 1146, 1149, 1152, 1155, 1158, 1161, 1164, 1167, 1170, 1173, 1176, 1179, 1182, 1185, 1188, 1191, 1194, 1197, 1200]\n",
      "[970299, 941192, 912673, 884736, 857375, 830584, 804357, 778688, 753571, 729000, 704969, 681472, 658503, 636056, 614125, 592704, 571787, 551368, 531441, 512000, 493039, 474552, 456533, 438976, 421875, 405224, 389017, 373248, 357911, 343000, 328509, 314432, 300763, 287496, 274625, 262144, 250047, 238328, 226981, 216000, 205379, 195112, 185193, 175616, 166375, 157464, 148877, 140608, 132651, 125000, 117649, 110592, 103823, 97336, 91125, 85184, 79507, 74088, 68921, 64000, 59319, 54872, 50653, 46656, 42875, 39304, 35937, 32768, 29791, 27000, 24389, 21952, 19683, 17576, 15625, 13824, 12167, 10648, 9261, 8000, 6859, 5832, 4913, 4096, 3375, 2744, 2197, 1728, 1331, 1000, 729]\n",
      "[1904, 1908, 1912, 1916, 1920, 1924, 1928, 1932, 1936, 1940, 1944, 1948, 1952, 1956, 1960, 1964, 1968, 1972, 1976, 1980, 1984, 1988, 1992, 1996, 2000]\n",
      "['KS', 'DD', 'KB', 'MT', 'MZ', 'NB', 'NH', 'VS', 'WL', 'ZW']\n",
      "['Kinga', 'Natalia', 'Natalia', 'Gabriela', 'Weronika', 'Karolina']\n"
     ]
    }
   ],
   "source": [
    "print([i for i in range(1000,1201) if i%3==0])\n",
    "print([i**3 for i in range (9,100)][::-1])\n",
    "print([year for year in range(1900, 2001) if (year%4==0 and year%100!=0) or (year%400==0)])\n",
    "G = [('Karolina','Sikora'),('Daniel','Dystrych'),('Kinga','Banys'),('Michał','Tomanek'),('Michał','Zieliński'),('Natalia','Barwinek'),('Natalia','Homa'),\n",
    "     ('Vladyslav','Sotnikov'),('Weronika','Ladak'),('Ziemowit','Wojcicki')]\n",
    "print([k[0][0]+k[1][0] for k in G])\n",
    "grupa = ['Kinga', 'Michał', 'Natalia', 'Ziemowit', 'Daniel', 'Michał', 'Paweł', 'Natalia', 'Gabriela', 'Weronika', 'Karolina', 'Wladyslaw']\n",
    "print([imie for imie in grupa if imie[-1] == 'a'])"
   ]
  },
  {
   "cell_type": "code",
   "execution_count": null,
   "metadata": {},
   "outputs": [],
   "source": []
  },
  {
   "cell_type": "markdown",
   "metadata": {},
   "source": [
    "# Funkcje\n",
    "\n",
    "```\n",
    "def nazwa_funkcji(arg1, arg2, arg3=var1, arg4=var2, *args, **kwargs):\n",
    "    \"\"\"\n",
    "    To jest docsting funkcji.\n",
    "    \"\"\"\n",
    "    \n",
    "    CIAŁO_FUNKCJI\n",
    "    Tu mamy dostęp do wszystkich powyższych parametrów formalnych funkcji\n",
    "    bez potrzeby ich definiowania (są zdefiniowane w nawiasie).\n",
    "    \n",
    "    return <obj>\n",
    "```"
   ]
  },
  {
   "cell_type": "code",
   "execution_count": 25,
   "metadata": {},
   "outputs": [],
   "source": [
    "def dodaj_10(x):\n",
    "    'Funkcja dodaje 10 do liczby x i zwaraca sumę'\n",
    "    ret = x + 10\n",
    "    return ret"
   ]
  },
  {
   "cell_type": "code",
   "execution_count": 26,
   "metadata": {},
   "outputs": [
    {
     "data": {
      "text/plain": [
       "20"
      ]
     },
     "execution_count": 26,
     "metadata": {},
     "output_type": "execute_result"
    }
   ],
   "source": [
    "dodaj_10(10)"
   ]
  },
  {
   "cell_type": "code",
   "execution_count": 27,
   "metadata": {},
   "outputs": [
    {
     "data": {
      "text/plain": [
       "0"
      ]
     },
     "execution_count": 27,
     "metadata": {},
     "output_type": "execute_result"
    }
   ],
   "source": [
    "dodaj_10(-10)"
   ]
  },
  {
   "cell_type": "code",
   "execution_count": 28,
   "metadata": {},
   "outputs": [],
   "source": [
    "def odejmij_10(x=10):\n",
    "    '''\n",
    "    Funkcja odejmuje 10 do liczby x i zwaraca różnicę\n",
    "    WE\n",
    "        x: INT/FLOAT, domyślnie x = 10\n",
    "    WY\n",
    "        INT/FLOAT: x - 10\n",
    "    '''\n",
    "    ret = x - 10\n",
    "    return ret"
   ]
  },
  {
   "cell_type": "code",
   "execution_count": 31,
   "metadata": {},
   "outputs": [
    {
     "data": {
      "text/plain": [
       "(0, 0)"
      ]
     },
     "execution_count": 31,
     "metadata": {},
     "output_type": "execute_result"
    }
   ],
   "source": [
    "odejmij_10(10), odejmij_10()"
   ]
  },
  {
   "cell_type": "markdown",
   "metadata": {},
   "source": [
    "### Ćwiczenie 3\n",
    "Skonstruuj własne funkcje, jako argument będziemy podawać liczbę\n",
    "\n",
    "1. zwracającą kwadrat liczby\n",
    "* zwracającą pierwiastek liczby\n",
    "* zwracającą liczbę o przeciwnym znaku\n",
    "* zwracającą `True` gdy liczba jest parzysta lub `False` gdy nie jest\n",
    "* zwracającą `True` gdy liczba jest nieparzysta lub `False` gdy nie jest\n",
    "* zwracającą odwrotność liczby\n",
    "\n",
    "\n",
    "Lista\n",
    "1. Banyś Kinga, Barwinek Natalia\n",
    "3. Dystrych Daniel, Grzegorczyk Paweł\n",
    "5. Homa Natalia, Kłodzińska Gabriela\n",
    "7. Ładak Weronika, Sikora Karolina\n",
    "9. Sotnikov Vladyslav, Tomanek Michał\n",
    "11. Wójcicki Ziemowit, Zieliński Michał"
   ]
  },
  {
   "cell_type": "code",
   "execution_count": 38,
   "metadata": {},
   "outputs": [],
   "source": [
    "# Ziemowit Wojcicki11:24\n",
    "def return_inv(x):\n",
    "    \"\"\"\n",
    "    Funckcja przyjuje jako argument liczbę typu int lub float, \n",
    "    różną od zera i zwraca jej odwrotność. \n",
    "    W przeciwnym razie zwraca None.\n",
    "    \"\"\"\n",
    "    if x != 0:\n",
    "        inv = 1/x\n",
    "        return inv\n",
    "    else:\n",
    "        return None\n",
    "    \n",
    "    # jezeli x == 0, bedziemy w tej linii\n",
    "#     return\n",
    "#     return None"
   ]
  },
  {
   "cell_type": "code",
   "execution_count": 39,
   "metadata": {},
   "outputs": [
    {
     "name": "stdout",
     "output_type": "stream",
     "text": [
      "0.1\n"
     ]
    }
   ],
   "source": [
    "print(return_inv(10))"
   ]
  },
  {
   "cell_type": "code",
   "execution_count": 40,
   "metadata": {},
   "outputs": [
    {
     "name": "stdout",
     "output_type": "stream",
     "text": [
      "None\n"
     ]
    }
   ],
   "source": [
    "print(return_inv(0))"
   ]
  },
  {
   "cell_type": "code",
   "execution_count": 46,
   "metadata": {},
   "outputs": [],
   "source": [
    "def czy_wieksza(x, y=0):\n",
    "    print(f'x={x}, y={y}')\n",
    "    return x > y"
   ]
  },
  {
   "cell_type": "code",
   "execution_count": 47,
   "metadata": {},
   "outputs": [
    {
     "name": "stdout",
     "output_type": "stream",
     "text": [
      "x=12, y=10\n"
     ]
    },
    {
     "data": {
      "text/plain": [
       "True"
      ]
     },
     "execution_count": 47,
     "metadata": {},
     "output_type": "execute_result"
    }
   ],
   "source": [
    "czy_wieksza(12, 10)"
   ]
  },
  {
   "cell_type": "code",
   "execution_count": 48,
   "metadata": {},
   "outputs": [
    {
     "name": "stdout",
     "output_type": "stream",
     "text": [
      "x=12, y=0\n"
     ]
    },
    {
     "data": {
      "text/plain": [
       "True"
      ]
     },
     "execution_count": 48,
     "metadata": {},
     "output_type": "execute_result"
    }
   ],
   "source": [
    "czy_wieksza(12)"
   ]
  },
  {
   "cell_type": "code",
   "execution_count": 49,
   "metadata": {},
   "outputs": [
    {
     "name": "stdout",
     "output_type": "stream",
     "text": [
      "x=12, y=0\n"
     ]
    },
    {
     "data": {
      "text/plain": [
       "True"
      ]
     },
     "execution_count": 49,
     "metadata": {},
     "output_type": "execute_result"
    }
   ],
   "source": [
    "czy_wieksza(x=12)"
   ]
  },
  {
   "cell_type": "code",
   "execution_count": 50,
   "metadata": {},
   "outputs": [
    {
     "name": "stdout",
     "output_type": "stream",
     "text": [
      "x=12, y=24\n"
     ]
    },
    {
     "data": {
      "text/plain": [
       "False"
      ]
     },
     "execution_count": 50,
     "metadata": {},
     "output_type": "execute_result"
    }
   ],
   "source": [
    "czy_wieksza(x=12, y=24)"
   ]
  },
  {
   "cell_type": "code",
   "execution_count": 51,
   "metadata": {},
   "outputs": [
    {
     "name": "stdout",
     "output_type": "stream",
     "text": [
      "x=12, y=24\n"
     ]
    },
    {
     "data": {
      "text/plain": [
       "False"
      ]
     },
     "execution_count": 51,
     "metadata": {},
     "output_type": "execute_result"
    }
   ],
   "source": [
    "czy_wieksza(y=24, x=12)"
   ]
  },
  {
   "cell_type": "code",
   "execution_count": 53,
   "metadata": {},
   "outputs": [
    {
     "name": "stdout",
     "output_type": "stream",
     "text": [
      "x=12, y=17\n"
     ]
    },
    {
     "data": {
      "text/plain": [
       "False"
      ]
     },
     "execution_count": 53,
     "metadata": {},
     "output_type": "execute_result"
    }
   ],
   "source": [
    "czy_wieksza(12, y=17)"
   ]
  },
  {
   "cell_type": "code",
   "execution_count": 54,
   "metadata": {},
   "outputs": [
    {
     "ename": "TypeError",
     "evalue": "czy_wieksza() got multiple values for argument 'x'",
     "output_type": "error",
     "traceback": [
      "\u001b[0;31m---------------------------------------------------------------------------\u001b[0m",
      "\u001b[0;31mTypeError\u001b[0m                                 Traceback (most recent call last)",
      "\u001b[0;32m<ipython-input-54-cf4dae2af1ca>\u001b[0m in \u001b[0;36m<module>\u001b[0;34m\u001b[0m\n\u001b[0;32m----> 1\u001b[0;31m \u001b[0mczy_wieksza\u001b[0m\u001b[0;34m(\u001b[0m\u001b[0;36m12\u001b[0m\u001b[0;34m,\u001b[0m \u001b[0mx\u001b[0m\u001b[0;34m=\u001b[0m\u001b[0;36m17\u001b[0m\u001b[0;34m)\u001b[0m\u001b[0;34m\u001b[0m\u001b[0;34m\u001b[0m\u001b[0m\n\u001b[0m",
      "\u001b[0;31mTypeError\u001b[0m: czy_wieksza() got multiple values for argument 'x'"
     ]
    }
   ],
   "source": [
    "czy_wieksza(12, x=17)"
   ]
  },
  {
   "cell_type": "code",
   "execution_count": 55,
   "metadata": {},
   "outputs": [
    {
     "ename": "SyntaxError",
     "evalue": "positional argument follows keyword argument (<ipython-input-55-241532e91378>, line 1)",
     "output_type": "error",
     "traceback": [
      "\u001b[0;36m  File \u001b[0;32m\"<ipython-input-55-241532e91378>\"\u001b[0;36m, line \u001b[0;32m1\u001b[0m\n\u001b[0;31m    czy_wieksza(y=17, 23)\u001b[0m\n\u001b[0m                     ^\u001b[0m\n\u001b[0;31mSyntaxError\u001b[0m\u001b[0;31m:\u001b[0m positional argument follows keyword argument\n"
     ]
    }
   ],
   "source": [
    "czy_wieksza(y=17, 23)"
   ]
  },
  {
   "cell_type": "markdown",
   "metadata": {},
   "source": [
    "### Ćwiczenie 4\n",
    "Zbuduj funkcje\n",
    "\n",
    "1. `plus(a, b)`: zwraca sumę wartości bezwzględnych a i b, ale tylko gdy oba arg są liczbami\n",
    "* `iloczyn(a, b)`: zwraca iloczyn wartości a i b, ale tylko gdy oba są liczbami LUB jeden jest stringiem\n",
    "* `znak(x)`: zwraca -1 gdy x < 0, 0 gdy x = 0, 1 gdy x > 0\n",
    "* `modulo(a, b)`: zwraca wynik reszty dzielenia większej liczby przez mniejszą\n",
    "* `foo(u, v)`: iloczyn liczb a i b gdy choć jedna jest parzysta lub iloraz w innym przypadku\n",
    "* `suma(r)`: zwraca sumę wszystkich liczb naturalnych mniejszych od r, gdy r > 0\n",
    "\n",
    "Lista\n",
    "\n",
    "1. Dystrych Daniel, Grzegorczyk Paweł\n",
    "5. Homa Natalia, Kłodzińska Gabriela\n",
    "7. Ładak Weronika, Sikora Karolina\n",
    "9. Sotnikov Vladyslav, Tomanek Michał\n",
    "11. Wójcicki Ziemowit, Zieliński Michał\n",
    "1. Banyś Kinga, Barwinek Natalia"
   ]
  },
  {
   "cell_type": "code",
   "execution_count": 66,
   "metadata": {},
   "outputs": [],
   "source": [
    "# help(dwie_liczby)"
   ]
  },
  {
   "cell_type": "code",
   "execution_count": 68,
   "metadata": {},
   "outputs": [],
   "source": [
    "def dwie_liczby(a, b, slownik=True):\n",
    "    'WY: (a, b, suma, roznica, iloczyn, iloraz)'\n",
    "    suma = a + b\n",
    "    roznica = a - b\n",
    "    iloczyn = a * b\n",
    "    iloraz = a / b if b != 0 else None\n",
    "    if slownik:\n",
    "        ret = {'a': a, 'b': b,\n",
    "           'suma': suma, 'roznica': roznica, \n",
    "           'iloczyn': iloczyn, 'iloraz': iloraz}\n",
    "    else:\n",
    "        ret = (a, b, suma, roznica, iloczyn, iloraz) \n",
    "    return ret\n",
    "\n",
    "# dwie_liczby(3, 1, slownik=not False)"
   ]
  },
  {
   "cell_type": "markdown",
   "metadata": {},
   "source": [
    "### Ćwiczenie 5\n",
    "Zaprojektuj funkcje zwracające (a) listę liczb od A do B podzielnych przez X i Y, (b) ich sumę oraz (c) iloczyn (zwracamy wszystkie 3 informacje a-b-c)\n",
    "\n",
    "1. A = 0, B = 1000, X = 13, Y = 7\n",
    "1. A = -1000, B = 0, X = 13, Y = 7\n",
    "1. A = 99, B = 199, X = 3, Y = 4\n",
    "1. A = 0, B = 300, X = 9, Y = 5\n",
    "1. A = -342, B = 567, X = 11, Y = 19\n",
    "1. A = -123, B = 123, X = 2, Y = 11\n",
    "\n",
    "Lista\n",
    "1. Homa Natalia, Kłodzińska Gabriela\n",
    "7. Ładak Weronika, Sikora Karolina\n",
    "9. Sotnikov Vladyslav, Tomanek Michał\n",
    "11. Wójcicki Ziemowit, Zieliński Michał\n",
    "1. Banyś Kinga, Barwinek Natalia\n",
    "1. Dystrych Daniel, Grzegorczyk Paweł"
   ]
  },
  {
   "cell_type": "code",
   "execution_count": null,
   "metadata": {},
   "outputs": [],
   "source": []
  },
  {
   "cell_type": "markdown",
   "metadata": {},
   "source": [
    "# funkcja lambda\n",
    "\n",
    "```\n",
    "    foo = lambda arg, arg2, ...: jednolinijkowe_cialo_funkcj_lambda\n",
    "```"
   ]
  },
  {
   "cell_type": "code",
   "execution_count": 70,
   "metadata": {},
   "outputs": [],
   "source": [
    "dwa_x = lambda x: 2 * x"
   ]
  },
  {
   "cell_type": "code",
   "execution_count": 75,
   "metadata": {},
   "outputs": [],
   "source": [
    "# dwa_x(12)"
   ]
  },
  {
   "cell_type": "markdown",
   "metadata": {},
   "source": [
    "### Ćwiczenie 6\n",
    "Skonstruuj własne funkcje lambda o jednym parametrze formalnym\n",
    "\n",
    "1. zwracającą kwadrat liczby\n",
    "* zwracającą pierwiastek liczby\n",
    "* zwracającą liczbę o przeciwnym znaku\n",
    "* zwracającą odwrotność liczby\n",
    "* zwracającą połowę wartości liczby\n",
    "* zwracającą podwojoną wartość liczby\n",
    "\n",
    "Każdą z nich \n",
    "* uruchom dla kilku argumentów, \n",
    "* przechwyć do zmiennej, \n",
    "* uruchom w pętli\n",
    "\n",
    "Lista\n",
    "1. Homa Natalia, Kłodzińska Gabriela\n",
    "7. Ładak Weronika, Sikora Karolina\n",
    "9. Sotnikov Vladyslav, Tomanek Michał\n",
    "11. Wójcicki Ziemowit, Zieliński Michał\n",
    "1. Banyś Kinga, Barwinek Natalia\n",
    "1. Dystrych Daniel, Grzegorczyk Paweł"
   ]
  },
  {
   "cell_type": "code",
   "execution_count": 74,
   "metadata": {},
   "outputs": [
    {
     "data": {
      "text/plain": [
       "100"
      ]
     },
     "execution_count": 74,
     "metadata": {},
     "output_type": "execute_result"
    }
   ],
   "source": [
    "(lambda x: 10 * x)(10)"
   ]
  },
  {
   "cell_type": "markdown",
   "metadata": {},
   "source": [
    "### Ćwiczenie 7\n",
    "Skonstruuj funkcje `lambda` (zaproponuj rozsądne nazwy)\n",
    "\n",
    "1. zwracającą listę liczb parzystych od 0 do argumentu\n",
    "* zwracającą listę liczb nieparzystych od -|argumentu| do 0\n",
    "* zwracającą listę liczb podzielnych przez 7 od -|argumentu| do |argumentu|\n",
    "* zwracającą słownik pierwszych N liter alfabetu (klucze) wraz z ich kodem ascii (wartości)\n",
    "* zwracającą podany ciąg znaków bez spacji (funkcja usuwająca spacje)\n",
    "* zwracającą słownik liter alfabetu (klucze) wraz z ich kodem ascii (wartości) od `a` aż do podanej litery jako argument\n",
    "\n",
    "Lista\n",
    "1. Ładak Weronika, Sikora Karolina\n",
    "9. Sotnikov Vladyslav, Tomanek Michał\n",
    "11. Wójcicki Ziemowit, Zieliński Michał\n",
    "1. Banyś Kinga, Barwinek Natalia\n",
    "1. Dystrych Daniel, Grzegorczyk Paweł\n",
    "1. Homa Natalia, Kłodzińska Gabriela"
   ]
  },
  {
   "cell_type": "code",
   "execution_count": 83,
   "metadata": {},
   "outputs": [
    {
     "data": {
      "text/plain": [
       "{'a': 97, 'b': 98, 'c': 99, 'd': 100, 'e': 101}"
      ]
     },
     "execution_count": 83,
     "metadata": {},
     "output_type": "execute_result"
    }
   ],
   "source": [
    "# zwracającą słownik pierwszych N liter alfabetu (klucze) wraz z ich kodem ascii (wartości)\n",
    "N = 5\n",
    "{letter: ord(letter) for letter in 'abcdefghij'[:N]}"
   ]
  },
  {
   "cell_type": "code",
   "execution_count": 84,
   "metadata": {},
   "outputs": [
    {
     "data": {
      "text/plain": [
       "'abcdefghijklmnopqrstuvwxyz'"
      ]
     },
     "execution_count": 84,
     "metadata": {},
     "output_type": "execute_result"
    }
   ],
   "source": [
    "from string import ascii_lowercase\n",
    "ascii_lowercase"
   ]
  },
  {
   "cell_type": "markdown",
   "metadata": {},
   "source": [
    "### Ćwiczenie 8\n",
    "Skonstruuj dwuargumentowe funkcje `lambda`\n",
    "\n",
    "1. zwracającą listę liczb parzystych od `a` do `b`\n",
    "* zwracającą listę liczb nieparzystych od `a` do `b`\n",
    "* zwracającą listę liczb podzielnych przez 7 od `a` do `b`\n",
    "* zwracającą słownik liter alfabetu (klucze) wraz z ich kodem ascii (wartości) od `litera1` do `litera2`\n",
    "* zwracającą podany ciąg znaków `s` bez `znaku` (funkcja usuwająca `znak` z `s`)\n",
    "* zwracającą listę liczb od `a` do `b` jeżeli w rozwinięciu binarnym liczby jest dokładnie jedno zero\n",
    "\n",
    "Lista\n",
    "1. Sotnikov Vladyslav, Tomanek Michał\n",
    "11. Wójcicki Ziemowit, Zieliński Michał\n",
    "1. Banyś Kinga, Barwinek Natalia\n",
    "1. Dystrych Daniel, Grzegorczyk Paweł\n",
    "1. Homa Natalia, Kłodzińska Gabriela\n",
    "1. Ładak Weronika, Sikora Karolina"
   ]
  },
  {
   "cell_type": "code",
   "execution_count": null,
   "metadata": {},
   "outputs": [],
   "source": []
  },
  {
   "cell_type": "markdown",
   "metadata": {},
   "source": [
    "\n",
    "### Ćwiczenie 9\n",
    "Zbuduj funkcję obliczającą n-ty wyraz ciągu Fibonacciego. \n",
    "\n",
    "1. rekurencyjnie\n",
    "2. iteracyjnie\n",
    "\n",
    "$$F(0) = 1, n = 0$$\n",
    "$$F(1) = 1, n= 1$$\n",
    "$$F(n) = F(n-1) + F(n-2), n=2, 3, 4, ...$$"
   ]
  },
  {
   "cell_type": "code",
   "execution_count": 85,
   "metadata": {},
   "outputs": [],
   "source": [
    "# 1, 1, 2, 3, 5, 8, 13, 21, 34..."
   ]
  },
  {
   "cell_type": "code",
   "execution_count": null,
   "metadata": {},
   "outputs": [],
   "source": []
  }
 ],
 "metadata": {
  "kernelspec": {
   "display_name": "Python 3",
   "language": "python",
   "name": "python3"
  },
  "language_info": {
   "codemirror_mode": {
    "name": "ipython",
    "version": 3
   },
   "file_extension": ".py",
   "mimetype": "text/x-python",
   "name": "python",
   "nbconvert_exporter": "python",
   "pygments_lexer": "ipython3",
   "version": "3.7.3"
  }
 },
 "nbformat": 4,
 "nbformat_minor": 2
}
