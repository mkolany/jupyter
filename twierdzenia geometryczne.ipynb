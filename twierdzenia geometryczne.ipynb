{
 "cells": [
  {
   "cell_type": "markdown",
   "id": "2955c46a",
   "metadata": {},
   "source": [
    "<!-- <img style=\"display: block; width: 100vw; height: 350px; object-fit: cover; object-position: center 20%;\" src=\"images/Studio_del_Corpo_Umano_-_Leonardo_da_Vinci.png\">\n",
    " -->\n",
    "<img width =\"100%\" height= \"350px\" class=\"banner\" src=\"images/Studio_del_Corpo_Umano_-_Leonardo_da_Vinci.png\">"
   ]
  },
  {
   "cell_type": "markdown",
   "id": "c43b6a19-a432-4e78-9d5a-47ad3fe167ef",
   "metadata": {},
   "source": [
    "## Twierdzenie o odcinkach stycznych\n",
    "\n",
    "W pewnym uproszczeniu ciągi to jakieś liczby wypisane po kolei.\n",
    "$$ 1,2,3,42,0,0,0,\\ldots$$\n",
    "Wśród elementów ciągu $a$ możemy z łatwością wyróżnić element pierwszy $a_1$, drugi $a_2$, itd.\n",
    "Jest to najważniejsza właśność dotycząca ciągów, a zresztą inne własności dotyczące ciągów związane są jedynie z pewnymi szczególnymi przypadkami i wymagają dodatkowych założeń. \n"
   ]
  },
  {
   "cell_type": "code",
   "execution_count": 14,
   "id": "d7579c7b",
   "metadata": {},
   "outputs": [
    {
     "data": {
      "application/vnd.jupyter.widget-view+json": {
       "model_id": "2230e6df7a9b4225b68fff8577030578",
       "version_major": 2,
       "version_minor": 0
      },
      "text/plain": [
       "interactive(children=(FloatSlider(value=9.0, description='n', max=16.0, min=3.0), Output()), _dom_classes=('wi…"
      ]
     },
     "metadata": {},
     "output_type": "display_data"
    }
   ],
   "source": [
    "from shapely.geometry import  Point, LineString, Polygon\n",
    "import matplotlib.pyplot as plt\n",
    "import numpy as np\n",
    "from ipywidgets import interactive \n",
    "import math\n",
    "\n",
    "def polygon(n):\n",
    "        angle = math.pi * 2 / n\n",
    "        polygon1 = Polygon([\n",
    "                (math.sin(angle * i ) * 5,\n",
    "                math.cos(angle * i ) * 5)\n",
    "                for i in range(int(n))])\n",
    "\n",
    "        x,y = polygon1.exterior.xy\n",
    "        \n",
    "        plt.plot(x,y)\n",
    "        plt.axis('equal') \n",
    "        plt.axis('off') \n",
    "        plt.show()\n",
    "\n",
    "interactive(polygon, n=(3,16,0.1))"
   ]
  },
  {
   "cell_type": "code",
   "execution_count": 16,
   "id": "190414a7",
   "metadata": {},
   "outputs": [
    {
     "data": {
      "image/png": "[encoded data removed]",
      "text/plain": [
       "<Figure size 432x288 with 1 Axes>"
      ]
     },
     "metadata": {
      "needs_background": "light"
     },
     "output_type": "display_data"
    }
   ],
   "source": [
    "import matplotlib.pyplot as plt\n",
    "import shapely\n",
    "from shapely.geometry.point import Point\n",
    "p = Point(0, 0)\n",
    "circle = p.buffer(1.0)\n",
    "x,y = (circle.exterior.xy)\n",
    "plt.plot(x,y) \n",
    "plt.axis('equal') \n",
    "plt.axis('off') \n",
    "plt.show()"
   ]
  },
  {
   "cell_type": "markdown",
   "id": "4ecedf73",
   "metadata": {},
   "source": [
    "\n",
    "## Twierdzenie o stycznej i siecznej\n",
    "## Twierdzenie o siecznych \n",
    "## Twierdzenie o cięciwach "
   ]
  }
 ],
 "metadata": {
  "interpreter": {
   "hash": "c75c8f5213e4439354c72e401b9fcc90f28d5aeb4dc5bd494b5358a46ef49854"
  },
  "kernelspec": {
   "display_name": "Python 3 (ipykernel)",
   "language": "python",
   "name": "python3"
  },
  "language_info": {
   "codemirror_mode": {
    "name": "ipython",
    "version": 3
   },
   "file_extension": ".py",
   "mimetype": "text/x-python",
   "name": "python",
   "nbconvert_exporter": "python",
   "pygments_lexer": "ipython3",
   "version": "3.9.7"
  }
 },
 "nbformat": 4,
 "nbformat_minor": 5
}
