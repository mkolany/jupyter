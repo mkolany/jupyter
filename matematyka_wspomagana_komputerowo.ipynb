{
 "cells": [
  {
   "cell_type": "markdown",
   "source": [
    "<!-- <img style=\"display: block; width: 100vw; height: 350px; object-fit: cover; object-position: center 20%;\" src=\"images/Studio_del_Corpo_Umano_-_Leonardo_da_Vinci.png\">\r\n",
    " -->\r\n",
    "<img width =\"100%\" height= \"350px\" class=\"banner\" src=\"images/Studio_del_Corpo_Umano_-_Leonardo_da_Vinci.png\">"
   ],
   "metadata": {}
  },
  {
   "cell_type": "markdown",
   "source": [
    "# Matematyka wspomagana komputerowo – przegląd planowanych zagadnień\r\n",
    "## Pisanie matematyki na komputerze (podstawy $\\LaTeX$)\r\n",
    "\r\n",
    "$$ \r\n",
    "|x| = \r\n",
    "\\begin{cases} \r\n",
    "\\phantom{-}x, & x\\geq 0\\\\ \r\n",
    "-x, & x<0 \r\n",
    "\\end{cases}\r\n",
    "$$\r\n",
    "\r\n",
    "$$ \r\n",
    "\\frac1{96}\r\n",
    "\\Big(\r\n",
    "\\frac1{97}\r\n",
    "\\bigg(\r\n",
    "\\frac1{98}\r\n",
    "\\big(\r\n",
    "\\frac1{99}\r\n",
    "\\left(\r\n",
    "\\frac1{100}\r\n",
    "n+\r\n",
    "\\frac{99}{100}\r\n",
    "\\right)+\r\n",
    "\\frac{98}{99}\r\n",
    "\\big)+\r\n",
    "\\frac{97}{98}\r\n",
    "\\bigg)+\r\n",
    "\\frac{96}{97}\r\n",
    "\\Big)\r\n",
    "=\r\n",
    "\\frac1{96}\r\n",
    "$$\r\n",
    "\r\n",
    "$$\r\n",
    "\\left(\r\n",
    "{(x^2-x)\\sqrt{x+2}}\r\n",
    "\\right)'\r\n",
    "=\r\n",
    "\\underbrace{\r\n",
    "\\left(\r\n",
    "{x^2-x}\r\n",
    "\\right)'\r\n",
    "}_{=2x-1}\r\n",
    "\\sqrt{x+2}\r\n",
    "+\r\n",
    "\\underbrace{\r\n",
    "\\left(\r\n",
    "\\sqrt{x+2}\r\n",
    "\\right)'\r\n",
    "}_{=\\frac1{2\\sqrt{x+2}}*}\r\n",
    "(x^2-x)\r\n",
    "=\r\n",
    "\\ldots \r\n",
    "=\r\n",
    "\\frac{5 x^2 + 5 x - 4}{2 \\sqrt{x + 2}}\r\n",
    "$$\r\n",
    "\r\n",
    "$$\r\n",
    "\\varnothing\\ne A\\subseteq C\\quad\r\n",
    "\\to\r\n",
    "\\quad \r\n",
    "\\mathop{\\exists}\\limits_{c\\in A}\r\n",
    "\\left(c\\cap A=\\varnothing\\right)\r\n",
    "$$"
   ],
   "metadata": {}
  },
  {
   "cell_type": "markdown",
   "source": [
    "## Rysowanie matematyki na komputerze\r\n",
    "\r\n",
    "### *  Krótkie omówienie biblioteki TiKz do $\\LaTeX$ \r\n",
    "\r\n",
    "<img src=\"./latextikz.png\">\r\n",
    "\r\n",
    "### Spotkanie z Geogebrą\r\n",
    "#### Szkolne podstawy\r\n",
    "\r\n",
    "<img src=\"./geogebra.png\">\r\n",
    "\r\n",
    "*  [Kliknij, żeby zobaczyć applet](https://www.geogebra.org/classic/pqwqkbt2)\r\n",
    "\r\n",
    "#### Święta geometria\r\n",
    "<img src=\"./geogebra2.png\">\r\n",
    "\r\n",
    "*  [Kliknij, żeby zobaczyć applet](https://www.geogebra.org/classic/e73rdbcb)\r\n",
    "*  [Film z czegoś innego, ale też fajnego](https://gfycat.com/ifr/TiredSpotlessDachshund)\r\n",
    "\r\n",
    "### Matplotlib i podstawy języka Python"
   ],
   "metadata": {}
  },
  {
   "cell_type": "code",
   "execution_count": 15,
   "source": [
    "%matplotlib widget\r\n",
    "import matplotlib.pyplot as plt\r\n",
    "import numpy as np\r\n",
    "\r\n",
    "# Data for plotting\r\n",
    "t = np.arange(-4.0, 4.0, 0.01)\r\n",
    "s = np.sin(t) + np.cos(2*t)\r\n",
    "\r\n",
    "fig, ax = plt.subplots()\r\n",
    "ax.plot(t, s)\r\n",
    "\r\n",
    "ax.set(xlabel='time (s)', \r\n",
    "       ylabel='voltage (mV)',\r\n",
    "       title='$\\sin(t)+\\cos(2t)$')\r\n",
    "ax.grid()\r\n",
    "\r\n",
    "fig.savefig(\"test.png\")\r\n",
    "plt.show()"
   ],
   "outputs": [
    {
     "output_type": "display_data",
     "data": {
      "application/vnd.jupyter.widget-view+json": {
       "version_major": 2,
       "version_minor": 0,
       "model_id": "7f3ee904c0dd46eaa7fe06c8a988158c"
      },
      "text/plain": [
       "Canvas(toolbar=Toolbar(toolitems=[('Home', 'Reset original view', 'home', 'home'), ('Back', 'Back to previous …"
      ]
     },
     "metadata": {}
    }
   ],
   "metadata": {}
  },
  {
   "cell_type": "code",
   "execution_count": 25,
   "source": [
    "import matplotlib.pyplot as plt\r\n",
    "from matplotlib import cm\r\n",
    "from matplotlib.ticker import LinearLocator\r\n",
    "import numpy as np\r\n",
    "\r\n",
    "fig, ax = plt.subplots(subplot_kw={\"projection\": \"3d\"})\r\n",
    "\r\n",
    "# Make data.\r\n",
    "X = np.arange(-5, 5, 0.25)\r\n",
    "Y = np.arange(-5, 5, 0.25)\r\n",
    "X, Y = np.meshgrid(X, Y)\r\n",
    "R = np.sqrt(X**2 + Y**2)\r\n",
    "Z = np.sin(R)\r\n",
    "\r\n",
    "# Plot the surface.\r\n",
    "surf = ax.plot_surface(X, Y, Z, cmap=cm.coolwarm, linewidth=0, antialiased=False)\r\n",
    "\r\n",
    "# Customize the z axis.\r\n",
    "ax.set_zlim(-1.01, 1.01)\r\n",
    "ax.zaxis.set_major_locator(LinearLocator(10))\r\n",
    "# A StrMethodFormatter is used automatically\r\n",
    "ax.zaxis.set_major_formatter('{x:.02f}')\r\n",
    "\r\n",
    "# Add a color bar which maps values to colors.\r\n",
    "# fig.colorbar(surf, shrink=0.5, aspect=5)\r\n",
    "\r\n",
    "plt.show()"
   ],
   "outputs": [
    {
     "output_type": "display_data",
     "data": {
      "application/vnd.jupyter.widget-view+json": {
       "version_major": 2,
       "version_minor": 0,
       "model_id": "873973dbb88a48a9a6720e9d7e3bbacd"
      },
      "text/plain": [
       "Canvas(toolbar=Toolbar(toolitems=[('Home', 'Reset original view', 'home', 'home'), ('Back', 'Back to previous …"
      ]
     },
     "metadata": {}
    }
   ],
   "metadata": {}
  },
  {
   "cell_type": "code",
   "execution_count": 16,
   "source": [
    "from mpl_toolkits.mplot3d import axes3d\r\n",
    "\r\n",
    "fig = plt.figure()\r\n",
    "ax = fig.add_subplot(111, projection='3d')\r\n",
    "\r\n",
    "# Grab some test data.\r\n",
    "X, Y, Z = axes3d.get_test_data(0.05)\r\n",
    "\r\n",
    "# Plot a basic wireframe.\r\n",
    "ax.plot_wireframe(X, Y, Z, rstride=10, cstride=10)\r\n",
    "\r\n",
    "plt.show()"
   ],
   "outputs": [
    {
     "output_type": "display_data",
     "data": {
      "application/vnd.jupyter.widget-view+json": {
       "version_major": 2,
       "version_minor": 0,
       "model_id": "1299f490fe3b44e3ab3623bb7c845488"
      },
      "text/plain": [
       "Canvas(toolbar=Toolbar(toolitems=[('Home', 'Reset original view', 'home', 'home'), ('Back', 'Back to previous …"
      ]
     },
     "metadata": {}
    }
   ],
   "metadata": {}
  },
  {
   "cell_type": "markdown",
   "source": [
    "### Processing\r\n",
    "\r\n",
    "<img src=\"./processing.png\">\r\n",
    "\r\n",
    "*  [Kliknij aby zobaczyć efekt](https://gfycat.com/ifr/VillainousNextGarpike)"
   ],
   "metadata": {}
  },
  {
   "cell_type": "code",
   "execution_count": null,
   "source": [],
   "outputs": [],
   "metadata": {}
  },
  {
   "cell_type": "code",
   "execution_count": null,
   "source": [],
   "outputs": [],
   "metadata": {}
  },
  {
   "cell_type": "markdown",
   "source": [],
   "metadata": {}
  }
 ],
 "metadata": {
  "language_info": {
   "name": "python",
   "version": "3.9.7",
   "mimetype": "text/x-python",
   "codemirror_mode": {
    "name": "ipython",
    "version": 3
   },
   "pygments_lexer": "ipython3",
   "nbconvert_exporter": "python",
   "file_extension": ".py"
  },
  "kernelspec": {
   "name": "python3",
   "display_name": "Python 3.9.7 64-bit"
  },
  "interpreter": {
   "hash": "bd4c67ef142469da7dc4d338a32ac40116904d26076b8e6aa587d80720bc6a2b"
  }
 },
 "nbformat": 4,
 "nbformat_minor": 5
}