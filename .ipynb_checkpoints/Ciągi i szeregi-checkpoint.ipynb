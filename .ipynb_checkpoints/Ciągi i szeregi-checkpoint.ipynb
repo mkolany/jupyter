{
 "cells": [
  {
   "cell_type": "markdown",
   "id": "2955c46a",
   "metadata": {},
   "source": [
    "<!-- <img style=\"display: block; width: 100vw; height: 350px; object-fit: cover; object-position: center 20%;\" src=\"images/Studio_del_Corpo_Umano_-_Leonardo_da_Vinci.png\">\n",
    " -->\n",
    "<img width =\"100%\" height= \"350px\" class=\"banner\" src=\"images/Studio_del_Corpo_Umano_-_Leonardo_da_Vinci.png\">"
   ]
  },
  {
   "cell_type": "markdown",
   "id": "c43b6a19-a432-4e78-9d5a-47ad3fe167ef",
   "metadata": {},
   "source": [
    "# Ciągi \n",
    "W pewnym uproszczeniu ciągi to jakieś liczby wypisane po kolei.\n",
    "$$ 1,2,3,42,0,0,0,\\ldots$$\n",
    "Wśród elementów ciągu $a$ możemy z łatwością wyróżnić element pierwszy $a_1$, drugi $a_2$, itd.\n",
    "Jest to najważniejsza właśność dotycząca ciągów, a zresztą inne własności dotyczące ciągów związane są jedynie z pewnymi szczególnymi przypadkami i wymagają dodatkowych założeń.\n",
    "\n",
    "## Ciągi arytmetyczne\n",
    "Są to ciągi, w których każdy następny element powstał przez dodanie do poprzedniego elementu jakiejś stałej liczby oznaczanej czasem jako $r$. \n",
    "$$ 1,2,3,4,5,6,\\ldots$$\n",
    "Skoro ciągi arytmetyczne powstają w taki sposób, to wystarczy znać $a_1$ i $r$, by wiedzieć o nim wszystko. Element stojący na $n$-tym miejscu powstał przez dodanie do elementu $a_1$ $r$ $(n-1)$-razy:\n",
    "$$ a_n = a_1 + (n-1)\\cdot r$$\n",
    "Jest to tzw. **wzór ogólny** ciągu arytmetycznego.\n",
    "\n",
    "#### Inne własności\n",
    "Dlaczego tak właściwie te ciągi nazywane są arytmetyczne? Związane jest to z tym, że dla dowolnego naturalnego $k>1$ zachodzi poniższa własność:\n",
    "$$a_k=\\frac{a_{k-1}+a_{k+1}}{2}$$\n",
    "Innymi słowy $a_k$ jest średnią arytmetyczną elementu poprzedniego i następnego.\n",
    "\n",
    "Ponadto, sumę $k$ początkowych elementów takiego ciągu można obliczyć w następujący sposób:\n",
    "$$S_k=\\frac{a_1+a_k}{2}\\cdot n$$"
   ]
  },
  {
   "cell_type": "code",
   "execution_count": 2,
   "id": "0fa4c9ee-0dd5-49e8-b964-af32bed43855",
   "metadata": {},
   "outputs": [
    {
     "name": "stdout",
     "output_type": "stream",
     "text": [
      "1 3 5 7 9 11 13 15 17 19 21 23 25 27 29 31 33 35 37 39 41 43 45 47 49 51 53 55 57 59 61 63 65 67 69 71 73 75 77 79 81 83 85 87 89 91 93 95 97 99 101 103 105 107 109 111 113 115 117 119 121 123 125 127 129 131 133 135 137 139 141 143 145 147 149 151 153 155 157 159 161 163 165 167 169 171 173 175 177 179 181 183 185 187 189 191 193 195 197 199\n"
     ]
    }
   ],
   "source": [
    "def ciag_arytmetyczny(a1,r):\n",
    "    value=a1\n",
    "    while True:\n",
    "        yield value\n",
    "        value += r\n",
    "\n",
    "a=ciag_arytmetyczny(1,2)\n",
    "print(*[next(a) for _ in range(100)])\n",
    "        "
   ]
  },
  {
   "cell_type": "markdown",
   "id": "8d6d2401-6993-4846-b650-c0c64ca08ec0",
   "metadata": {},
   "source": [
    "## Ciągi geometryczne\n",
    "Są to ciągi, w których każdy następny element powstał przez pomnożenie poprzedniego elementu przez jakąś stałą liczbę oznaczaną czasem jako $q$. \n",
    "$$ 1,2,4,8,16,32,\\ldots$$\n",
    "W tym wypadku wystarczy znać $a_1$ i $q$. Element stojący na $n$-tym miejscu powstał przez pomnożenie pierwszego elementu $(n-1)$-razy przez $q$:\n",
    "$$ a_n = a_1\\cdot q^{n-1}$$\n",
    "Jest to tzw. **wzór ogólny** ciągu geometrycznego.\n",
    "\n",
    "#### Inne własności\n",
    "Dla dowolnego naturalnego $k>1$ zachodzi poniższa własność:\n",
    "$$a_k=\\sqrt{a_{k-1}\\cdot a_{k+1}}$$\n",
    "Innymi słowy $a_k$ jest średnią geometryczną elementu poprzedniego i następnego.\n",
    "\n",
    "Ponadto, sumę $k$ początkowych elementów takiego ciągu można obliczyć w następujący sposób:\n",
    "$$S_k=\\begin{cases} \n",
    "a_1\\cdot \\frac{1-q^k}{1-q}& \\text{dla } q\\ne 1\\\\ \n",
    "a_1\\cdot k& \\text{dla } q = 1 \n",
    "\\end{cases}$$\n",
    "\n",
    "Jeżeli $|q|<1$, to jesteśmy w stanie obliczyć nawet sumę wszystkich elementów takiego ciągu i wynosi ona:\n",
    "$$S_{\\infty}=\\frac{a_1}{1-q}$$"
   ]
  },
  {
   "cell_type": "code",
   "execution_count": 3,
   "id": "001979ab-85fa-4c19-a850-3be09212c46d",
   "metadata": {},
   "outputs": [
    {
     "name": "stdout",
     "output_type": "stream",
     "text": [
      "b1=1\n",
      "b2=2\n",
      "b3=4\n",
      "b4=8\n",
      "b5=16\n",
      "b6=32\n",
      "b7=64\n",
      "b8=128\n",
      "b9=256\n"
     ]
    }
   ],
   "source": [
    "def ciag_geometryczny(a1,q):\n",
    "    value=a1\n",
    "    while True:\n",
    "        yield value\n",
    "        value *= q\n",
    "        \n",
    "b=ciag_geometryczny(1,2)\n",
    "for n in range(1,10):\n",
    "    print('b{}={}'.format(n, next(b)))"
   ]
  },
  {
   "cell_type": "markdown",
   "id": "f397a974-e7ba-4120-b340-bd20e8646f57",
   "metadata": {},
   "source": [
    "### Procent prosty\n",
    "Pojęcie to związane jest z oprocentowaniem kapitału $K_0$ w którym dochód w postaci odsetek nie jest doliczany do kwoty, z której będą one obliczane w następnym okresie kapitalizacji odsetek. \n",
    "#### Wstęp teoretyczny\n",
    "Oznacza to, że w każdym okresie są one obliczane od tej samej kwoty, a więc odsetki q będą wynosiły:\n",
    "$$d=\\frac{p}{100}\\cdot K_0$$\n",
    "gdzie **p%** jest stopą procentową dla omawianego okresu kapitalizacji*.\n",
    "\n",
    "Stąd wynika, że po upływie $n$ okresów kapitalizacji odsetek dochód uzyskany z odsetek wynosi:\n",
    "$n\\cdot d=n\\cdot\\frac{p}{100}\\cdot K_0$,\n",
    "a więc kapitał końcowy $K_n$ wynosi:\n",
    "$$ \n",
    "\\begin{align}\n",
    "K_n&=K_0+n\\cdot\\frac{p}{100}\\cdot K_0=\\\\\n",
    "&=K_0\\cdot(1+n\\cdot\\frac{p}{100})\n",
    "\\end{align}\n",
    "$$\n",
    "\n",
    "###### \\* Dla stopy rocznej wynoszącej 9% i czteromiesięcznego okresu kapitalizacji, stopą procentową jest p=3%. Czy domyślasz się dlaczego?"
   ]
  },
  {
   "cell_type": "code",
   "execution_count": 8,
   "id": "f6f0649e",
   "metadata": {},
   "outputs": [
    {
     "name": "stdout",
     "output_type": "stream",
     "text": [
      "0. 1000.00 zł\n",
      "1. 1006.67 zł\n",
      "2. 1013.33 zł\n",
      "3. 1020.00 zł\n",
      "4. 1026.67 zł\n",
      "5. 1033.33 zł\n",
      "6. 1040.00 zł\n",
      "7. 1046.67 zł\n",
      "8. 1053.33 zł\n",
      "9. 1060.00 zł\n"
     ]
    }
   ],
   "source": [
    "def procent_prosty(kapital_poczatkowy, oprocentowanie):\n",
    "    Kp=kapital_poczatkowy\n",
    "    p=oprocentowanie\n",
    "    \n",
    "    n=0\n",
    "    d=0\n",
    "    while True:\n",
    "        yield n, Kp+d\n",
    "        d += (p/100)*Kp\n",
    "        n +=1\n",
    "lokata1 = procent_prosty(1000, 2/3)\n",
    "\n",
    "\n",
    "def kapitalizacja(lokata):\n",
    "    okres, kapital = next(lokata)    \n",
    "    print(\"{0}. {1:.2f} zł\".format(okres, kapital, lokata.__name__))\n",
    "        \n",
    "for _ in range(10):\n",
    "    kapitalizacja(lokata1)"
   ]
  },
  {
   "cell_type": "markdown",
   "id": "d735a544",
   "metadata": {},
   "source": [
    "### Procent składany\n",
    "W tym przypadku odsetki obliczane są z kwoty uwzględniające dotychczasowe odsetki.\n",
    "\n",
    "####  Wstęp teoretyczny\n",
    "Przyjrzyjmy się temu procesowi. Jeśli kapitał początkowy wynosi $K_0$, a odpowiednia stopa procentowa związana z ich kapitalizacją wynosi **p%**, to po pierwszym okresie kapitalizacji kapitał wynosić będzie\n",
    "$$\n",
    "\\begin{align}\n",
    "K_1&=K_0+\\frac{p}{100}\\cdot K_0=\\\\\n",
    "&=K_0\\cdot\\left(1+\\frac{p}{100}\\right)\n",
    "\\end{align}\n",
    "$$\n",
    "\n",
    "Zauważmy, że widać tu wyraźnie, że do jakiegoś kapitału bazowego (w tym wypadku $K_0$) doliczona została kwota wynikająca z odsetek. Gdyby od tych odsetek należało odliczyć podatek, to należy zająć się tym w części związanej z odsetkami (np. dla podatku wynoszącego **10%** odsetek pojawiłoby się tam $\\ldots+\\frac{90}{100}(\\frac{p}{100}\\cdot K_0)\\ldots$ \n",
    "\n",
    "\n",
    "Co się dzieje w następnym okresie? Cóż, sytuacja będzie dość podobna, jednak odsetki będą tu obliczane z kwoty $K_1$ zamiast $K_0$, bo tyle obecnie posiadamy na lokacie. Wobec tego posiadany kapitał powinien wynosić (ostatnie przekształcenie dotyczy podstawienia w miejsce $K_1$ tego, co wyszło w punkcie poprzednim):\n",
    "$$\n",
    "\\begin{align}\n",
    "K_2&=K_1+\\frac{p}{100}\\cdot K_1=\\\\\n",
    "&=K_1\\cdot\\left(1+\\frac{p}{100}\\right)=\\\\\n",
    "&=K_0\\cdot\\left(1+\\frac{p}{100}\\right)^2\n",
    "\\end{align}\n",
    "$$\n",
    "*.*\n",
    "\n",
    "\n",
    "Okazuje się, że dla $n=3$ też wychodzi podobnie:\n",
    "$$\n",
    "\\begin{align}\n",
    "K_3&=K_2+\\frac{p}{100}\\cdot K_2=\\\\\n",
    "&=K_2\\cdot\\left(1+\\frac{p}{100}\\right)=\\\\\n",
    "&=K_0\\cdot\\left(1+\\frac{p}{100}\\right)^3\n",
    "\\end{align}\n",
    "$$\n",
    "\n",
    "I tak dalej.\n",
    "Myślę, że chyba każdy się już spodziewa, że w dowolnym sensownym $n$–tym okresie kapitalizacji kapitał $K_n$ powinno dać się wyliczyć z poniższego wzoru:\n",
    "$$K_n = K_0\\cdot\\left(1+\\frac{p}{100}\\right)^n$$\n"
   ]
  },
  {
   "cell_type": "code",
   "execution_count": 5,
   "id": "2028fd27",
   "metadata": {},
   "outputs": [
    {
     "name": "stdout",
     "output_type": "stream",
     "text": [
      "0. 1000.00 zł\n",
      "1. 1006.67 zł\n",
      "2. 1013.38 zł\n",
      "3. 1020.13 zł\n",
      "4. 1026.93 zł\n",
      "5. 1033.78 zł\n",
      "6. 1040.67 zł\n",
      "7. 1047.61 zł\n",
      "8. 1054.59 zł\n",
      "9. 1061.63 zł\n"
     ]
    }
   ],
   "source": [
    "def procent_skladany(kapital_poczatkowy, oprocentowanie):\n",
    "    Kp=kapital_poczatkowy\n",
    "    p=oprocentowanie\n",
    "    \n",
    "    n=0\n",
    "    while True:\n",
    "        yield n, Kp\n",
    "        Kp += (p/100)*Kp\n",
    "        n +=1\n",
    "        \n",
    "lokata2 = procent_skladany(1000, 2/3)\n",
    "for _ in range(10):\n",
    "    kapitalizacja(lokata2)    \n"
   ]
  },
  {
   "cell_type": "markdown",
   "id": "2d4b18ff-941f-4bc2-bee1-9eea947e9b66",
   "metadata": {},
   "source": [
    "## Ciągi definiowane rekurencyjnie\n",
    "Ciągi można też definiować rekurencyjnie, przez podanie kilku pierwszych elementów oraz wzoru, który pozwala otrzymać wartość elementu następnego z wartości poprzednich. Np. \n",
    "$$ a_n = \n",
    "\\begin{cases}\n",
    "0, &n=1\\\\\n",
    "a_{n-1}+1, &n\\ne 1\n",
    "\\end{cases}\n",
    "%\n",
    "\\qquad\n",
    "%\n",
    "b_n = \n",
    "\\begin{cases}\n",
    "1, &n=1\\\\\n",
    "2a_{n-1}, &n\\ne 1\n",
    "\\end{cases}\n",
    "%\n",
    "\\qquad\n",
    "%\n",
    "c_n = \n",
    "\\begin{cases}\n",
    "6, &n=1\\\\\n",
    "5a_{n-1}-3, &n\\ne 1\n",
    "\\end{cases}\n",
    "%\n",
    "\\qquad\n",
    "%\n",
    "d_n = \n",
    "\\begin{cases}\n",
    "1, &n=1 \\lor n=2\\\\\n",
    "a_{n-1}+a_{n-2}, &n>2\n",
    "\\end{cases}\n",
    "$$"
   ]
  },
  {
   "cell_type": "code",
   "execution_count": 32,
   "id": "87ac43ea-7853-4ae5-bc3a-19f3a5e490d3",
   "metadata": {},
   "outputs": [
    {
     "data": {
      "text/plain": [
       "'1, 2, 3, 4, 5, 6, 7, 8, 9, 10, ...'"
      ]
     },
     "metadata": {},
     "output_type": "display_data"
    },
    {
     "data": {
      "text/plain": [
       "'1, 2, 4, 8, 16, 32, 64, 128, 256, 512, ...'"
      ]
     },
     "metadata": {},
     "output_type": "display_data"
    },
    {
     "data": {
      "text/plain": [
       "'6, 27, 132, 657, 3282, 16407, 82032, 410157, 2050782, 10253907, ...'"
      ]
     },
     "metadata": {},
     "output_type": "display_data"
    },
    {
     "data": {
      "text/plain": [
       "'1, 1, 2, 3, 5, 8, 13, 21, 34, 55, 89, 144, 233, 377, 610, 987, 1597, 2584, 4181, 6765, 10946, 17711, 28657, 46368, 75025, 121393, 196418, 317811, 514229, 832040, ...'"
      ]
     },
     "metadata": {},
     "output_type": "display_data"
    }
   ],
   "source": [
    "def ciag_rekurencyjny(a1, succ=lambda an: an):\n",
    "    value=a1\n",
    "    while True:\n",
    "        yield value\n",
    "        value = succ(value)\n",
    "        \n",
    "a=ciag_rekurencyjny(1, succ=lambda an: an+1)\n",
    "b=ciag_rekurencyjny(1, succ=lambda an: an*2)\n",
    "c=ciag_rekurencyjny(6, succ=lambda an: 5*an-3)\n",
    "\n",
    "def ciag_fib():\n",
    "    a,b=1,1\n",
    "    while True:\n",
    "        yield a\n",
    "        a,b = b, a+b\n",
    "        \n",
    "d=ciag_fib()\n",
    "\n",
    "display(', '.join([str(next(a)) for _ in range(10)])+', ...')\n",
    "display(', '.join([str(next(b)) for _ in range(10)])+', ...')\n",
    "display(', '.join([str(next(c)) for _ in range(10)])+', ...')\n",
    "display(', '.join([str(next(d)) for _ in range(30)])+', ...')"
   ]
  },
  {
   "cell_type": "markdown",
   "id": "a3519426-12d8-47e7-be5b-0736c6e8597f",
   "metadata": {},
   "source": [
    "## Granica ciągu\n",
    "Mówimy, że liczba $g$ jest granicą ciągu $a$, gdy \n",
    "$$\\forall_{\\varepsilon>0}\\exists_{k_0\\in\\mathbb{N}}\\forall_{k>k_0} |a_k-g| \\leq \\varepsilon$$\n",
    "\n",
    "### Intuicja\n",
    "Najłatwiej zrozumieć to na przykładzie. Rozważmy ciąg $a_n=\\frac1n$. Przyjrzyjmy się jego początkowym elementom:"
   ]
  },
  {
   "cell_type": "code",
   "execution_count": 106,
   "id": "d0e58687-a17a-4734-8fee-1a66e7491fd8",
   "metadata": {
    "tags": []
   },
   "outputs": [
    {
     "data": {
      "application/vnd.jupyter.widget-view+json": {
       "model_id": "cb472805b84743238f21741ce99a7892",
       "version_major": 2,
       "version_minor": 0
      },
      "text/plain": [
       "VBox(children=(Dropdown(description='function', options={'1/n': <function <lambda> at 0x0000020AB2F8C9D0>, 'si…"
      ]
     },
     "metadata": {},
     "output_type": "display_data"
    }
   ],
   "source": [
    "from ipywidgets import interactive_output, Label, Textarea, VBox, HBox, Output\n",
    "import numpy as np\n",
    "import matplotlib.pyplot as plt\n",
    "\n",
    "span=(1,255)\n",
    "def sequence(n, function):\n",
    "    X=np.linspace(1,n+1,n)\n",
    "    Y=function(X)\n",
    "    _, maxX = span\n",
    "    fullY=function(np.linspace(1,maxX+1,maxX))\n",
    "    \n",
    "    plt.scatter(X,Y)\n",
    "    plt.axline(xy1=(0,0), slope=0, ls='--', color='r')\n",
    "    plt.axis([0,maxX,1.1*min(fullY),1.1*max(fullY)])\n",
    "    \n",
    "    plt_output = Output()\n",
    "    val_output = Textarea(', '.join([f'{y:>2.4}' for y in Y]), layout=Layout(width='50%',height='250px'))\n",
    "    with plt_output:\n",
    "        plt.show()\n",
    "    display(HBox([plt_output, val_output]))\n",
    "\n",
    "widget=interactive(sequence, n=span, function={'1/n':lambda x: 1/x, 'sin(n)/n':lambda x: np.sin(x)/x, 'sin(n)':lambda x: np.sin(x)})\n",
    "widget.children[0].value=0\n",
    "widget.children[0].continuous_update=False\n",
    "VBox([widget.children[1], widget.children[-1], widget.children[0]])"
   ]
  },
  {
   "cell_type": "markdown",
   "id": "582a9436-89cb-43d9-85d5-6002d261a4f9",
   "metadata": {},
   "source": [
    "$$a_1=1, \\;a_2=\\frac12, \\;a_3=\\frac13, \\;\\ldots\\; a_{100000}=0.00001, \\;\\ldots$$ \n",
    "\n",
    "wyraźnie widać, że ciąg ten \"wydaje się zmierzać do zera\"... tylko co to właściwie znaczy? Można powiedzieć, że \"od pewnego miejsca\" wszystkie wartości tego ciągu na pewno \"będą blisko tej wartości\". Dowolnie blisko. Do tego właśnie odnosi się $\\varepsilon$ z powyższej definicji. Z kolei $k_0$ wyznacza miejsce od którego tak właśnie będzie. \n",
    "\n",
    "##### Nudny formalizm matematyczny\n",
    "Przypuśćmy, że $\\varepsilon=0.1$. Czy istnieje takie $k_0$, że wszystkie elementy $a_k$ dla $k>k_0$ będą różniły się od $g=0$ co o najwyżej $\\varepsilon$? Z pewnością -- wystarczy wziąć $k_0=10$, bo dla $k>10$ wartość $a_k<\\frac1{10}$. Zatem w tym wypadku zachodzi warunek $|a_k-g|\\leq\\varepsilon$. \n",
    "\n",
    "A co dla innych wartości $\\varepsilon$ (a w szczególności tych mniejszych)? Okazuje się, że w każdym przypadku wystarczy wziąć za $k_0$ coś typu $\\lceil\\frac1\\varepsilon\\rceil$, żeby powyższy warunek był spełniony. \n",
    "\n",
    "Granicą ciągu $a_n=\\frac1n$ faktycznie jest 0. Zgadza się to zarówno z naszą intuicją, jak i z definicją, która pojawiła się na samym początku."
   ]
  },
  {
   "cell_type": "markdown",
   "id": "60b7d3dd-afa2-455d-a209-7fd1d56e1cc0",
   "metadata": {},
   "source": [
    "### Inne pojęcia pojawiające się w temacie ciągów\n",
    "##### Wyznacz __miejsca zerowe__ ciągu danego wzorem $a_n=n^2-1$. \n",
    "Zwróćmy uwagę, że ciągi to po prostu funkcje, których dziedziną jest jakiś podzbiór liczb naturalnych, które z jakiegoś powodu oznacza się w nieco inny sposób i np. zamiast $a(1)$ pisze się $a_1$.\n",
    "\n",
    "To spojrzenie ułatwia zrozumieć co może się kryć za pojęciem \"miejsca zerowego\" ciągu. Będą to bowiem takie $k\\in\\mathbb{N}$ dla których $a_k=0$... czyli to samo co zwykle.\n",
    "\n",
    "Okazuje się zatem, że rozwiązanie zadania sprowadza się do rozwiązania poniższego równania:\n",
    "$$ \n",
    "\\begin{align*}\n",
    "0&=n^2-1\\\\\n",
    "0&=(n-1)(n+1)\\\\\n",
    "&\\Rightarrow\\; n=-1 \\;\\lor\\; n=1\n",
    "\\end{align*}\n",
    "$$\n",
    "\n",
    "__Uwaga!__ Należy tu jednak pamiętać, że $n\\in\\mathbb{N}$. Ostatecznie wychodzi na to, że miejscem zerowym ciągu $a_n=n^2-1$ jest jedynie $n=1$. Faktycznie $a_1=1^2-1=0$.\n",
    "\n",
    "##### Ile __wyrazów całkowitych__ posiada ciąg dany wzorem $a_n=\\frac{2n^2-7n+100}{n}$?\n",
    "\n",
    "Wyrazy całkowite to te wyrazy ciągu, które są liczbami całkowitymi, tj. $a_k\\in \\mathbb{Z}=\\{\\ldots,-1,0,1,\\ldots\\}$. \n",
    "\n",
    "Nie ma chyba ogólnego sposobu rozwiązywania tego typu zadań, ale zwykle wystarczy w nich troszkę pokombinować. Zauważmy, że wzór tego ciągu zapisać w następujący sposób:\n",
    "$$ a_n=2n-7+\\frac{100}n$$\n",
    "\n",
    "Z uwagi na to, że $n\\in\\mathbb{N}$ widać, że jedynym czynnikiem, który mógłby powodować, że wartość tego wyrażenia nie będzie całkowita jest $\\frac{100}n$. Jeśli będzie on liczbą całkowitą, to wartość tego wyrażenia także taka będzie i vice versa.\n",
    "\n",
    "Dla jakich $n$ wartość $\\frac{100}{n}$ będzie liczbą całkowitą? Odpowiedzi należy szukać wśród dzielników liczby $100$. O ile tylko $n$ będzie dzielnikiem liczby 100, to wynik dzielenia będzie całkowity.\n",
    "Wobec tego rozwiązanie tego zadania sprowadza się do policzenia ile jest dzielników liczby $100$. \n",
    "\n",
    "Jak tego dokonać? Cóż, jest wiele dróg na ten sam szczyt. Ja preferuję rozwiązanie polegające na rozłożeniu $100$ na czynniki pierwsze. $100=25\\cdot4=5^2\\cdot 2^2$. Każda liczba będąca dzielnikiem tej liczby będzie zatem postaci $5^a\\cdot 2^b$, gdzie $a,b\\in\\{0,1,2\\}$. Wobec tego wszystkich możliwości jest $3\\cdot 3=9$. Faktycznie:\n",
    "$$1, 2, 4, 5, 10, 20, 25, 50, 100$$\n",
    "\n",
    "Wobec tego wyrazów całkowitych ciągu danego w zadaniu jest 9. Oto one: $a_1, a_2, a_4, a_5, a_{10}, a_{20}, a_{25}, a_{50}, a_{100}$."
   ]
  },
  {
   "cell_type": "markdown",
   "id": "53228d01-3d8f-41ad-87b6-860047df70f1",
   "metadata": {},
   "source": [
    "# Szeregi\n",
    "\n",
    "**Szeregi** to ciąg *sum częściowych* innego ciągu:\n",
    "$$s_n=a_1+a_2+\\ldots+a_n$$\n",
    "gdzie $(a_n)$ jest jakimś ciągiem liczb rzeczywistych. Innymi słowy *szereg* to \n",
    "\n",
    "**Sumą szeregu** nazywamy $S\\in\\mathbb{R}$ będące granicą takich sum częściowych $$S=\\lim\\limits_{n\\to\\infty} s_n$$\n",
    "Jeżeli taka liczba istnieje, to rozważany szereg nazywamy *szeregiem zbieżnym* (sumowalnym), a w przeciwnym wypadku *rozbieżnym* (niesumowalnym).\n",
    "\n",
    "## Przykłady\n",
    "* $s=\\sum\\limits_{k=1}^\\infty \\frac1{2^n}$\n",
    "* $t=\\sum\\limits_{k=1}^\\infty (-1)^n$\n",
    "* $s=\\sum\\limits_{k=1}^\\infty 1$"
   ]
  },
  {
   "cell_type": "code",
   "execution_count": 38,
   "id": "5a9804c1-2726-461b-839b-b1ebfa604673",
   "metadata": {},
   "outputs": [
    {
     "data": {
      "text/html": [
       "<div>\n",
       "<style scoped>\n",
       "    .dataframe tbody tr th:only-of-type {\n",
       "        vertical-align: middle;\n",
       "    }\n",
       "\n",
       "    .dataframe tbody tr th {\n",
       "        vertical-align: top;\n",
       "    }\n",
       "\n",
       "    .dataframe thead th {\n",
       "        text-align: right;\n",
       "    }\n",
       "</style>\n",
       "<table border=\"1\" class=\"dataframe\">\n",
       "  <thead>\n",
       "    <tr style=\"text-align: right;\">\n",
       "      <th>n</th>\n",
       "      <th>1</th>\n",
       "      <th>2</th>\n",
       "      <th>3</th>\n",
       "      <th>4</th>\n",
       "      <th>5</th>\n",
       "      <th>6</th>\n",
       "      <th>7</th>\n",
       "      <th>8</th>\n",
       "      <th>9</th>\n",
       "      <th>10</th>\n",
       "      <th>...</th>\n",
       "      <th>91</th>\n",
       "      <th>92</th>\n",
       "      <th>93</th>\n",
       "      <th>94</th>\n",
       "      <th>95</th>\n",
       "      <th>96</th>\n",
       "      <th>97</th>\n",
       "      <th>98</th>\n",
       "      <th>99</th>\n",
       "      <th>100</th>\n",
       "    </tr>\n",
       "  </thead>\n",
       "  <tbody>\n",
       "    <tr>\n",
       "      <th>s_n</th>\n",
       "      <td>0.5</td>\n",
       "      <td>0.75</td>\n",
       "      <td>0.875</td>\n",
       "      <td>0.9375</td>\n",
       "      <td>0.96875</td>\n",
       "      <td>0.984375</td>\n",
       "      <td>0.992188</td>\n",
       "      <td>0.996094</td>\n",
       "      <td>0.998047</td>\n",
       "      <td>0.999023</td>\n",
       "      <td>...</td>\n",
       "      <td>1.0</td>\n",
       "      <td>1.0</td>\n",
       "      <td>1.0</td>\n",
       "      <td>1.0</td>\n",
       "      <td>1.0</td>\n",
       "      <td>1.0</td>\n",
       "      <td>1.0</td>\n",
       "      <td>1.0</td>\n",
       "      <td>1.0</td>\n",
       "      <td>1.0</td>\n",
       "    </tr>\n",
       "    <tr>\n",
       "      <th>t_n</th>\n",
       "      <td>-1.0</td>\n",
       "      <td>0.00</td>\n",
       "      <td>-1.000</td>\n",
       "      <td>0.0000</td>\n",
       "      <td>-1.00000</td>\n",
       "      <td>0.000000</td>\n",
       "      <td>-1.000000</td>\n",
       "      <td>0.000000</td>\n",
       "      <td>-1.000000</td>\n",
       "      <td>0.000000</td>\n",
       "      <td>...</td>\n",
       "      <td>-1.0</td>\n",
       "      <td>0.0</td>\n",
       "      <td>-1.0</td>\n",
       "      <td>0.0</td>\n",
       "      <td>-1.0</td>\n",
       "      <td>0.0</td>\n",
       "      <td>-1.0</td>\n",
       "      <td>0.0</td>\n",
       "      <td>-1.0</td>\n",
       "      <td>0.0</td>\n",
       "    </tr>\n",
       "    <tr>\n",
       "      <th>u_n</th>\n",
       "      <td>2.0</td>\n",
       "      <td>5.00</td>\n",
       "      <td>9.000</td>\n",
       "      <td>14.0000</td>\n",
       "      <td>20.00000</td>\n",
       "      <td>27.000000</td>\n",
       "      <td>35.000000</td>\n",
       "      <td>44.000000</td>\n",
       "      <td>54.000000</td>\n",
       "      <td>65.000000</td>\n",
       "      <td>...</td>\n",
       "      <td>4277.0</td>\n",
       "      <td>4370.0</td>\n",
       "      <td>4464.0</td>\n",
       "      <td>4559.0</td>\n",
       "      <td>4655.0</td>\n",
       "      <td>4752.0</td>\n",
       "      <td>4850.0</td>\n",
       "      <td>4949.0</td>\n",
       "      <td>5049.0</td>\n",
       "      <td>5150.0</td>\n",
       "    </tr>\n",
       "  </tbody>\n",
       "</table>\n",
       "<p>3 rows × 100 columns</p>\n",
       "</div>"
      ],
      "text/plain": [
       "n    1     2      3        4         5          6          7          8    \\\n",
       "s_n  0.5  0.75  0.875   0.9375   0.96875   0.984375   0.992188   0.996094   \n",
       "t_n -1.0  0.00 -1.000   0.0000  -1.00000   0.000000  -1.000000   0.000000   \n",
       "u_n  2.0  5.00  9.000  14.0000  20.00000  27.000000  35.000000  44.000000   \n",
       "\n",
       "n          9          10   ...     91      92      93      94      95   \\\n",
       "s_n   0.998047   0.999023  ...     1.0     1.0     1.0     1.0     1.0   \n",
       "t_n  -1.000000   0.000000  ...    -1.0     0.0    -1.0     0.0    -1.0   \n",
       "u_n  54.000000  65.000000  ...  4277.0  4370.0  4464.0  4559.0  4655.0   \n",
       "\n",
       "n       96      97      98      99      100  \n",
       "s_n     1.0     1.0     1.0     1.0     1.0  \n",
       "t_n     0.0    -1.0     0.0    -1.0     0.0  \n",
       "u_n  4752.0  4850.0  4949.0  5049.0  5150.0  \n",
       "\n",
       "[3 rows x 100 columns]"
      ]
     },
     "execution_count": 38,
     "metadata": {},
     "output_type": "execute_result"
    }
   ],
   "source": [
    "def szereg_zbiezny():\n",
    "    sn=0\n",
    "    an=1\n",
    "    while True:\n",
    "        an *= 1/2\n",
    "        sn += an\n",
    "        yield sn\n",
    "        \n",
    "def szereg_rozbiezny():\n",
    "    sn=0\n",
    "    an=1\n",
    "    while True:\n",
    "        an *= -1\n",
    "        sn += an\n",
    "        yield sn\n",
    "\n",
    "def szereg_rozbiezny2():\n",
    "    sn=0\n",
    "    an=1\n",
    "    while True:\n",
    "        an += 1\n",
    "        sn += an\n",
    "        yield sn\n",
    "        \n",
    "s=szereg_zbiezny()\n",
    "t=szereg_rozbiezny()\n",
    "u=szereg_rozbiezny2()\n",
    "\n",
    "import pandas as pd\n",
    "df = pd.DataFrame([(next(s), next(t), next(u)) for _ in range(100)], columns=['s_n','t_n','u_n'])\n",
    "df.index += 1\n",
    "df.index.rename('n', inplace=True)\n",
    "df.T"
   ]
  },
  {
   "cell_type": "markdown",
   "id": "02a00e2b-c9aa-4db3-8d9f-545687f722c7",
   "metadata": {},
   "source": [
    "## Własności"
   ]
  },
  {
   "cell_type": "markdown",
   "id": "8178f39c-8a47-4fbd-b5f8-f9377ed63f09",
   "metadata": {},
   "source": [
    "### Zadania \n",
    "\n",
    "1. Cegła waży 1kg i pół cegły. Ile waży cegła?\n",
    "2. Środki kwadratu o boku długości a połączono ze sobą. W ten sposób został utworzony kwadrat, którego środki boków znów połączono ze sobą i tak dalej. Obliczyć pole powierzchni wszystkich utworzonych w ten sposób figur geometrycznych."
   ]
  },
  {
   "cell_type": "code",
   "execution_count": null,
   "id": "250c5657-3da7-4352-8633-676e19468771",
   "metadata": {},
   "outputs": [],
   "source": []
  },
  {
   "cell_type": "code",
   "execution_count": null,
   "id": "0a6664c0-db8b-4ea3-b6f9-9e90bcc5cf81",
   "metadata": {},
   "outputs": [],
   "source": []
  }
 ],
 "metadata": {
  "interpreter": {
   "hash": "c75c8f5213e4439354c72e401b9fcc90f28d5aeb4dc5bd494b5358a46ef49854"
  },
  "kernelspec": {
   "display_name": "Python 3 (ipykernel)",
   "language": "python",
   "name": "python3"
  },
  "language_info": {
   "codemirror_mode": {
    "name": "ipython",
    "version": 3
   },
   "file_extension": ".py",
   "mimetype": "text/x-python",
   "name": "python",
   "nbconvert_exporter": "python",
   "pygments_lexer": "ipython3",
   "version": "3.9.7"
  }
 },
 "nbformat": 4,
 "nbformat_minor": 5
}
