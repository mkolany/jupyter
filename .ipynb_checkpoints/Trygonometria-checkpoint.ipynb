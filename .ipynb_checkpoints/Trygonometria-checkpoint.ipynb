{
 "cells": [
  {
   "cell_type": "markdown",
   "id": "293629e2",
   "metadata": {},
   "source": [
    "<!-- <img style=\"display: block; width: 100vw; height: 350px; object-fit: cover; object-position: center 20%;\" src=\"images/Studio_del_Corpo_Umano_-_Leonardo_da_Vinci.png\">\n",
    " -->\n",
    "<img width =\"100%\" height= \"350px\" class=\"banner\" src=\"https://i.imgur.com/w5LY8hX.png\">"
   ]
  },
  {
   "cell_type": "markdown",
   "id": "00401402",
   "metadata": {},
   "source": [
    "# Trygonometria"
   ]
  },
  {
   "cell_type": "markdown",
   "id": "32bdf3bd",
   "metadata": {},
   "source": [
    "\n",
    "## Podstawowe definicje\n",
    "\\begin{align}\n",
    "\\sin(\\alpha) &= \\dfrac{a}{c} \\qquad \\qquad & \\sin(\\alpha) &= \\dfrac{y}{r} \\\\\n",
    "\\cos(\\alpha) &= \\dfrac{b}{c} \\qquad\\qquad & \\cos(\\alpha) &= \\dfrac{x}{r} \\\\\n",
    "\\mathrm{tg}(\\alpha) &= \\dfrac{a}{b}  \\qquad\\qquad & \\mathrm{tg}(\\alpha) &= \\dfrac{y}{x} \\qquad\\qquad (b,x\\ne0)\\\\\n",
    "\\end{align}\n",
    "\n",
    "<img style=\"position: absolute; top: 0; right: 0; height: 100%;\" src=\"https://i.imgur.com/K2ZGTll.png\">\n"
   ]
  },
  {
   "cell_type": "markdown",
   "id": "52ae07e0",
   "metadata": {},
   "source": [
    "## Zadania\n",
    "1. W której ćwiartce układu współrzędnych leżą poniższe kąty?\n",
    "* $\\alpha = 30^\\circ $\n",
    "* $\\beta = 120^\\circ$\n",
    "* $\\gamma = 750^\\circ$\n",
    "* $\\delta = 300^\\circ$\n",
    "2. Oblicz wartości $\\sin$, $\\cos$ oraz $\\mathrm{tg}$ dla powyższych kątów\n",
    "\n",
    "3. W której ćwiartce układu współrzędnych leżą poniższe kąty?\n",
    "* $\\alpha = \\frac{13\\pi}{3} $\n",
    "* $\\beta = -\\frac{7}{2}\\pi$\n",
    "* $\\gamma = 35\\pi$\n",
    "* $\\delta = \\frac{49\\pi}{3} $\n",
    "4. Oblicz wartości $\\sin$, $\\cos$ oraz $\\mathrm{tg}$ dla powyższych kątów\n",
    "5. Określ znak wyrażenia:\n",
    "$$\\sin{110^\\circ}\\cdot\\cos{110^\\circ}\\cdot\\mathrm{tg}{230^\\circ}\\cdot\\mathrm{ctg}{320^\\circ}$$"
   ]
  },
  {
   "cell_type": "code",
   "execution_count": null,
   "id": "2a1801a2",
   "metadata": {},
   "outputs": [],
   "source": [
    "B"
   ]
  }
 ],
 "metadata": {
  "interpreter": {
   "hash": "bd4c67ef142469da7dc4d338a32ac40116904d26076b8e6aa587d80720bc6a2b"
  },
  "kernelspec": {
   "display_name": "Python 3 (ipykernel)",
   "language": "python",
   "name": "python3"
  },
  "language_info": {
   "codemirror_mode": {
    "name": "ipython",
    "version": 3
   },
   "file_extension": ".py",
   "mimetype": "text/x-python",
   "name": "python",
   "nbconvert_exporter": "python",
   "pygments_lexer": "ipython3",
   "version": "3.9.7"
  }
 },
 "nbformat": 4,
 "nbformat_minor": 5
}
