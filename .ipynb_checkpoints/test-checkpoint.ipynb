{
 "cells": [
  {
   "cell_type": "code",
   "execution_count": 24,
   "metadata": {},
   "outputs": [
    {
     "data": {
      "text/latex": [
       "$\\displaystyle \\left\\{- i, i\\right\\}$"
      ],
      "text/plain": [
       "FiniteSet(I, -I)"
      ]
     },
     "execution_count": 24,
     "metadata": {},
     "output_type": "execute_result"
    }
   ],
   "source": [
    "import sympy as sym\n",
    "\n",
    "x = sym.symbols('x')\n",
    "sym.solveset(x**2 + 1, x)\n"
   ]
  },
  {
   "cell_type": "code",
   "execution_count": 25,
   "metadata": {},
   "outputs": [
    {
     "data": {
      "text/latex": [
       "$\\displaystyle \\left\\{\\left( - y - 1, \\  y, \\  2\\right)\\right\\}$"
      ],
      "text/plain": [
       "FiniteSet((-y - 1, y, 2))"
      ]
     },
     "execution_count": 25,
     "metadata": {},
     "output_type": "execute_result"
    }
   ],
   "source": [
    "x, y, z = sym.symbols('x y z')\n",
    "sym.linsolve([x + y + z - 1, x + y + 2*z - 3 ], (x, y, z))"
   ]
  },
  {
   "cell_type": "code",
   "execution_count": 22,
   "metadata": {},
   "outputs": [
    {
     "data": {
      "text/latex": [
       "$\\displaystyle \\left\\{\\left( - m - 1, \\  m, \\  2\\right)\\right\\}$"
      ],
      "text/plain": [
       "FiniteSet((-m - 1, m, 2))"
      ]
     },
     "execution_count": 22,
     "metadata": {},
     "output_type": "execute_result"
    }
   ],
   "source": [
    "k, m, n = sym.symbols('k m n', integer=True)\n",
    "\n",
    "sym.linsolve([k + m + n - 1, k + m + 2*n - 3 ], (k, m, n))\n"
   ]
  },
  {
   "cell_type": "code",
   "execution_count": 68,
   "metadata": {},
   "outputs": [
    {
     "data": {
      "image/png": "[encoded data removed]",
      "text/latex": [
       "$\\displaystyle \\frac{d}{d t} y{\\left(t \\right)} = - \\lambda y{\\left(t \\right)}$"
      ],
      "text/plain": [
       "d                 \n",
       "──(y(t)) = -λ⋅y(t)\n",
       "dt                "
      ]
     },
     "metadata": {},
     "output_type": "display_data"
    },
    {
     "data": {
      "image/png": "[encoded data removed]",
      "text/latex": [
       "$\\displaystyle y{\\left(0 \\right)} = 5$"
      ],
      "text/plain": [
       "y(0) = 5"
      ]
     },
     "metadata": {},
     "output_type": "display_data"
    },
    {
     "data": {
      "image/png": "[encoded data removed]",
      "text/latex": [
       "$\\displaystyle y{\\left(t \\right)} = C_{1} e^{- \\lambda t}$"
      ],
      "text/plain": [
       "           -λ⋅t\n",
       "y(t) = C₁⋅ℯ    "
      ]
     },
     "metadata": {},
     "output_type": "display_data"
    },
    {
     "data": {
      "image/png": "[encoded data removed]",
      "text/latex": [
       "$\\displaystyle y{\\left(t \\right)} = 5 e^{- \\lambda t}$"
      ],
      "text/plain": [
       "          -λ⋅t\n",
       "y(t) = 5⋅ℯ    "
      ]
     },
     "metadata": {},
     "output_type": "display_data"
    }
   ],
   "source": [
    "from sympy import *\n",
    "# from IPython import display\n",
    "\n",
    "\n",
    "t, l, C1 =  symbols(\"t lambda C1\")\n",
    "y =  symbols(\"y\", cls = Function, Function = True)\n",
    "\n",
    "eq1 = Eq(diff(y(t), t), -l*y(t))\n",
    "eq2 = Eq(y(0),5)\n",
    "soln = dsolve(eq1)\n",
    "constants = solve(soln.subs(t,0).subs(y(0),5),C1)\n",
    "xsoln = expand(soln.subs(C1, constants[0]))\n",
    "display(eq1, eq2, soln, xsoln)"
   ]
  },
  {
   "cell_type": "code",
   "execution_count": 61,
   "metadata": {},
   "outputs": [
    {
     "data": {
      "application/vnd.jupyter.widget-view+json": {
       "model_id": "158fc44b272a49e0b04ad7b8add0cd85",
       "version_major": 2,
       "version_minor": 0
      },
      "text/plain": [
       "interactive(children=(FloatSlider(value=9.0, description='n', max=16.0, min=3.0), Output()), _dom_classes=('wi…"
      ]
     },
     "metadata": {},
     "output_type": "display_data"
    }
   ],
   "source": [
    "from shapely.geometry import  Point, LineString, Polygon\n",
    "import matplotlib.pyplot as plt\n",
    "import numpy as np\n",
    "from ipywidgets import interactive \n",
    "\n",
    "def polygon(n):\n",
    "        angle = math.pi * 2 / n\n",
    "        polygon1 = Polygon([\n",
    "                (math.sin(angle * i ) * 5,\n",
    "                math.cos(angle * i ) * 5)\n",
    "                for i in range(int(n))])\n",
    "\n",
    "        x,y = polygon1.exterior.xy\n",
    "        \n",
    "        plt.plot(x,y)\n",
    "        plt.axis('equal') \n",
    "        plt.axis('off') \n",
    "        plt.show()\n",
    "\n",
    "interactive(polygon, n=(3,16,0.1))"
   ]
  },
  {
   "cell_type": "code",
   "execution_count": 19,
   "metadata": {},
   "outputs": [
    {
     "data": {
      "application/vnd.jupyter.widget-view+json": {
       "model_id": "fbd5181e32b94609b68dc91e0d639999",
       "version_major": 2,
       "version_minor": 0
      },
      "text/plain": [
       "HBox(children=(interactive(children=(FloatSlider(value=9.0, description='sides', max=16.0, min=2.0), Output())…"
      ]
     },
     "metadata": {},
     "output_type": "display_data"
    }
   ],
   "source": [
    "# %matplotlib inline\n",
    "from ipywidgets import interactive, HBox, Output\n",
    "import matplotlib.pyplot as plt\n",
    "import numpy as np\n",
    "import math\n",
    "\n",
    "fig = plt.figure(2)\n",
    "out = Output()\n",
    "def polygon(sides):\n",
    "    \n",
    "    \n",
    "\n",
    "    angle = 2*math.pi/(sides)\n",
    "    T = np.arange(-math.pi,math.pi+angle, angle)\n",
    "    \n",
    "\n",
    "    x, y = np.cos(T), np.sin(T)\n",
    "    plt.plot(x,y)\n",
    "    \n",
    "    plt.axis('equal') \n",
    "    with out:\n",
    "        plt.show()\n",
    "\n",
    "interactive_plot = interactive(polygon, sides=(2,16,0.1))\n",
    "HBox([interactive_plot, out])"
   ]
  },
  {
   "cell_type": "code",
   "execution_count": 20,
   "metadata": {},
   "outputs": [
    {
     "data": {
      "application/vnd.jupyter.widget-view+json": {
       "model_id": "dcdade0a39d640eb886cf218b2dd1174",
       "version_major": 2,
       "version_minor": 0
      },
      "text/plain": [
       "Canvas(height=200, width=200)"
      ]
     },
     "metadata": {},
     "output_type": "display_data"
    },
    {
     "data": {
      "application/vnd.jupyter.widget-view+json": {
       "model_id": "d9bfddc1a98f4e6a92cb6c9d8651d755",
       "version_major": 2,
       "version_minor": 0
      },
      "text/plain": [
       "HTML(value='Event info')"
      ]
     },
     "metadata": {},
     "output_type": "display_data"
    }
   ],
   "source": [
    "from ipywidgets import Label, HTML, HBox, Image, VBox, Box, HBox\n",
    "from IPython.display import display\n",
    "from ipyevents import Event \n",
    "from ipycanvas import Canvas\n",
    "\n",
    "canvas = Canvas(width=200, height=200)\n",
    "\n",
    "canvas.fill_style = '#63934e'\n",
    "canvas.stroke_style = '#4e6393'\n",
    "canvas.line_width = 5\n",
    "# canvas.fill_polygon([(20, 20), (180, 20), (100, 150)])\n",
    "coords = []\n",
    "\n",
    "canvas.stroke_polygon(coords)\n",
    "\n",
    "im_events = Event()\n",
    "im_events.source = canvas\n",
    "im_events.watched_events = ['click', 'keyup', 'keydown']\n",
    "\n",
    "# no_drag = Event(source=canvas, watched_events=['dragstart'], prevent_default_action = True)\n",
    "\n",
    "h2 = HTML('Event info')\n",
    "\n",
    "def update_coords(event):\n",
    "    canvas.clear()\n",
    "    lines = ['{}: {}'.format(k, v) for k, v in event.items()]\n",
    "    content = '<br>'.join(lines)\n",
    "    h2.value = content\n",
    "    coords.append((event['layerX'], event['layerY']))\n",
    "    canvas.stroke_polygon(coords)\n",
    "    \n",
    "im_events.on_dom_event(update_coords)\n",
    "\n",
    "display(canvas, h2)"
   ]
  },
  {
   "cell_type": "code",
   "execution_count": null,
   "metadata": {},
   "outputs": [],
   "source": []
  }
 ],
 "metadata": {
  "interpreter": {
   "hash": "bd4c67ef142469da7dc4d338a32ac40116904d26076b8e6aa587d80720bc6a2b"
  },
  "kernelspec": {
   "display_name": "Python 3 (ipykernel)",
   "language": "python",
   "name": "python3"
  },
  "language_info": {
   "codemirror_mode": {
    "name": "ipython",
    "version": 3
   },
   "file_extension": ".py",
   "mimetype": "text/x-python",
   "name": "python",
   "nbconvert_exporter": "python",
   "pygments_lexer": "ipython3",
   "version": "3.9.7"
  }
 },
 "nbformat": 4,
 "nbformat_minor": 4
}
