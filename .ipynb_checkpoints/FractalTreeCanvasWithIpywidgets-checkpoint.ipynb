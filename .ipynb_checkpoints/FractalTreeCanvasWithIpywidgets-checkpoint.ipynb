{
 "cells": [
  {
   "cell_type": "code",
   "execution_count": 4,
   "id": "95acf429-72a7-44d9-ae36-936aa0b3f581",
   "metadata": {},
   "outputs": [
    {
     "data": {
      "application/vnd.jupyter.widget-view+json": {
       "model_id": "858559da0468437198b0ac595923cf0a",
       "version_major": 2,
       "version_minor": 0
      },
      "text/plain": [
       "Canvas(height=600, width=800)"
      ]
     },
     "metadata": {},
     "output_type": "display_data"
    },
    {
     "data": {
      "application/vnd.jupyter.widget-view+json": {
       "model_id": "2dcdb323145645738fc973867684afe8",
       "version_major": 2,
       "version_minor": 0
      },
      "text/plain": [
       "interactive(children=(FloatSlider(value=0.7645422316829393, description='l_factor', max=0.8, min=0.6, step=0.0…"
      ]
     },
     "metadata": {},
     "output_type": "display_data"
    }
   ],
   "source": [
    "from math import pi\n",
    "from random import uniform\n",
    "\n",
    "from ipywidgets import Button, interactive, fixed\n",
    "\n",
    "from ipycanvas import Canvas, hold_canvas\n",
    "\n",
    "canvas = Canvas(width=800, height=600)\n",
    "\n",
    "def recursive_draw_leaf(canvas, length, r_angle, r_factor, l_angle, l_factor):\n",
    "    canvas.stroke_line(0, 0, 0, -length)\n",
    "    canvas.translate(0, -length)\n",
    "\n",
    "    if length > 5:\n",
    "        canvas.save()\n",
    "\n",
    "        canvas.rotate(r_angle)\n",
    "        recursive_draw_leaf(\n",
    "            canvas, length * r_factor, r_angle, r_factor, l_angle, l_factor\n",
    "        )\n",
    "\n",
    "        canvas.restore()\n",
    "\n",
    "        canvas.save()\n",
    "\n",
    "        canvas.rotate(l_angle)\n",
    "        recursive_draw_leaf(\n",
    "            canvas, length * l_factor, r_angle, r_factor, l_angle, l_factor\n",
    "        )\n",
    "\n",
    "        canvas.restore()\n",
    "        \n",
    "from cachetools import cached, TTLCache\n",
    "cache = TTLCache(maxsize=100, ttl=86400)\n",
    "\n",
    "@cached(cache)\n",
    "def draw_tree(canvas, \n",
    "              l_factor = uniform(0.6, 0.8), \n",
    "              r_factor = uniform(0.6, 0.8),\n",
    "              l_angle = uniform(-pi / 5.0, -pi / 10.0), \n",
    "              r_angle = uniform(pi / 10.0, pi / 5.0)):\n",
    "    with hold_canvas(canvas):\n",
    "        canvas.save()\n",
    "\n",
    "        canvas.clear()\n",
    "\n",
    "        canvas.translate(canvas.width / 2.0, canvas.height)\n",
    "\n",
    "        canvas.stroke_style = \"black\"\n",
    "\n",
    "        \n",
    "        \n",
    "\n",
    "        \n",
    "\n",
    "        recursive_draw_leaf(canvas, 150, r_angle, r_factor, l_angle, l_factor)\n",
    "\n",
    "        canvas.restore()\n",
    "\n",
    "button = Button(description=\"Generate tree!\")\n",
    "\n",
    "\n",
    "def click_callback(*args, **kwargs):\n",
    "    global canvas\n",
    "\n",
    "    draw_tree(canvas)\n",
    "\n",
    "\n",
    "button.on_click(click_callback)\n",
    "\n",
    "draw_tree(canvas)\n",
    "\n",
    "l_factor = uniform(0.6, 0.8) \n",
    "r_factor = uniform(0.6, 0.8)\n",
    "l_angle = uniform(-pi / 5.0, -pi / 10.0) \n",
    "r_angle = uniform(pi / 10.0, pi / 5.0)\n",
    "\n",
    "display(canvas, interactive(draw_tree, canvas = fixed(canvas), l_factor = (0.6, 0.8, 0.01), r_factor = (0.6, 0.8, 0.01), l_angle = (-pi / 5.0, -pi / 10.0, 0.01) , r_angle=(pi / 10.0, pi / 5.0, 0.01), continuous_update=True))\n",
    "\n"
   ]
  },
  {
   "cell_type": "code",
   "execution_count": null,
   "id": "063650f2-225d-4408-9e54-e4996cf8de0f",
   "metadata": {},
   "outputs": [],
   "source": []
  }
 ],
 "metadata": {
  "kernelspec": {
   "display_name": "Python 3 (ipykernel)",
   "language": "python",
   "name": "python3"
  },
  "language_info": {
   "codemirror_mode": {
    "name": "ipython",
    "version": 3
   },
   "file_extension": ".py",
   "mimetype": "text/x-python",
   "name": "python",
   "nbconvert_exporter": "python",
   "pygments_lexer": "ipython3",
   "version": "3.9.7"
  }
 },
 "nbformat": 4,
 "nbformat_minor": 5
}
