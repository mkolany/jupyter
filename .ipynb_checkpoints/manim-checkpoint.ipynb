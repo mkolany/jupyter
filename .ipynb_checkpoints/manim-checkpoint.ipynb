{
 "cells": [
  {
   "cell_type": "code",
   "execution_count": 28,
   "id": "857e99b0-9248-45db-ba2c-2056fdd7fc79",
   "metadata": {},
   "outputs": [
    {
     "data": {
      "application/vnd.jupyter.widget-view+json": {
       "model_id": "aa31272fad68497aad4920f3781d50ec",
       "version_major": 2,
       "version_minor": 0
      },
      "text/plain": [
       "HBox(children=(Output(layout=Layout(height='400px', overflow='scroll')), Output(layout=Layout(height='400px', …"
      ]
     },
     "metadata": {},
     "output_type": "display_data"
    }
   ],
   "source": [
    "from manim import *\n",
    "from manim.utils.color import Colors\n",
    "import numpy as np\n",
    "from ipywidgets import Dropdown, HBox, interactive, HTML,Output\n",
    "\n",
    "config.media_width = \"60%\"\n",
    "config.quality = 'low_quality'\n",
    "config.background_color = BLACK\n",
    "# config.background_color = WHITE\n",
    "# config.background_opacity = 0\n",
    "\n",
    "WIDTH = config.frame_width\n",
    "HEIGHT = config.frame_height\n",
    "\n",
    "PINK = \"#EE82EE\"\n",
    "VIOLET = \"#4B0082\"\n",
    "NEON_PALETTE = [\"#FF008E\", \"#D22779\", \"#612897\", \"#FF008E\", \"#0C1E7F\"]\n",
    "\n",
    "ROOT_COLORS_BRIGHT = [RED, GREEN, BLUE, YELLOW, MAROON_B]\n",
    "ROOT_COLORS_DEEP = [\"#440154\", \"#3b528b\", \"#21908c\", \"#5dc963\", \"#29abca\"]\n",
    "CUBIC_COLORS = [RED_E, TEAL_E, BLUE_E]\n",
    "\n",
    "SOME_PALETTE = [\"#00065c\",\"#061e7e\",\"#0c37a0\",\"#205abc\",\"#4287d3\",\"#D9EDE4\",\"#F0F9E4\",\"#BA9F6A\",\"#573706\"]\n",
    "\n",
    "\n",
    "\n",
    "CFG_output = Output()\n",
    "CFG_output.layout.height='400px';\n",
    "CFG_output.layout.overflow='scroll';\n",
    "\n",
    "COL_output = Output()\n",
    "COL_output.layout.height='400px';\n",
    "COL_output.layout.overflow='scroll';\n",
    "\n",
    "with CFG_output:\n",
    "    print('CONFIG:')\n",
    "    for (k,v) in config.items():\n",
    "        print(f'{k:40}{v}')\n",
    "    \n",
    "\n",
    "\n",
    "\n",
    "CFG_output = Output()\n",
    "CFG_output.layout.height='400px';\n",
    "CFG_output.layout.overflow='scroll';\n",
    "\n",
    "COL_output = Output()\n",
    "COL_output.layout.height='400px';\n",
    "COL_output.layout.overflow='scroll';\n",
    "\n",
    "with CFG_output:\n",
    "    print('CONFIG:')\n",
    "    for (k,v) in config.items():\n",
    "        print(f'{k:40}{v}')\n",
    "    \n",
    "with COL_output:\n",
    "    print('COLORS:')\n",
    "    for c in Colors:\n",
    "        display(HTML(f'<p style=\"background-color: {c.value}; text-align:center;\">{c.name}</p>'))\n",
    "    \n",
    "HBox([CFG_output, COL_output])\n"
   ]
  },
  {
   "cell_type": "code",
   "execution_count": 75,
   "id": "cd1656ba-131e-4154-abb2-57b43a2959e6",
   "metadata": {},
   "outputs": [
    {
     "data": {
      "text/html": [
       "<pre style=\"white-space:pre;overflow-x:auto;line-height:normal;font-family:Menlo,'DejaVu Sans Mono',consolas,'Courier New',monospace\"><span style=\"color: #7fbfbf; text-decoration-color: #7fbfbf\">[03/21/22 16:03:00] </span><span style=\"color: #008000; text-decoration-color: #008000\">INFO    </span> Animation <span style=\"color: #008000; text-decoration-color: #008000\">0</span> : Using cached data <span style=\"font-weight: bold\">(</span>hash :     <a href=\"file://D:\\Python39\\lib\\site-packages\\manim\\renderer\\cairo_renderer.py\"><span style=\"color: #7f7f7f; text-decoration-color: #7f7f7f\">cairo_renderer.py</span></a><span style=\"color: #7f7f7f; text-decoration-color: #7f7f7f\">:</span><a href=\"file://D:\\Python39\\lib\\site-packages\\manim\\renderer\\cairo_renderer.py#74\"><span style=\"color: #7f7f7f; text-decoration-color: #7f7f7f\">74</span></a>\n",
       "                             3680823526_1515588106_3099446693<span style=\"font-weight: bold\">)</span>                               \n",
       "</pre>\n"
      ],
      "text/plain": [
       "\u001b[2;36m[03/21/22 16:03:00]\u001b[0m\u001b[2;36m \u001b[0m\u001b[32mINFO    \u001b[0m Animation \u001b[32m0\u001b[0m : Using cached data \u001b[1m(\u001b[0mhash :     \u001b]8;id=534918;file://D:\\Python39\\lib\\site-packages\\manim\\renderer\\cairo_renderer.py\u001b\\\u001b[2mcairo_renderer.py\u001b[0m\u001b]8;;\u001b\\\u001b[2m:\u001b[0m\u001b]8;id=392065;file://D:\\Python39\\lib\\site-packages\\manim\\renderer\\cairo_renderer.py#74\u001b\\\u001b[2m74\u001b[0m\u001b]8;;\u001b\\\n",
       "                             3680823526_1515588106_3099446693\u001b[1m)\u001b[0m                               \n"
      ]
     },
     "metadata": {},
     "output_type": "display_data"
    },
    {
     "name": "stderr",
     "output_type": "stream",
     "text": [
      "INFO:manim:Animation 0 : Using cached data (hash : 3680823526_1515588106_3099446693)\n"
     ]
    },
    {
     "data": {
      "text/html": [
       "<pre style=\"white-space:pre;overflow-x:auto;line-height:normal;font-family:Menlo,'DejaVu Sans Mono',consolas,'Courier New',monospace\"><span style=\"color: #7fbfbf; text-decoration-color: #7fbfbf\">                    </span><span style=\"color: #008000; text-decoration-color: #008000\">INFO    </span> Animation <span style=\"color: #008000; text-decoration-color: #008000\">1</span> : Using cached data <span style=\"font-weight: bold\">(</span>hash :     <a href=\"file://D:\\Python39\\lib\\site-packages\\manim\\renderer\\cairo_renderer.py\"><span style=\"color: #7f7f7f; text-decoration-color: #7f7f7f\">cairo_renderer.py</span></a><span style=\"color: #7f7f7f; text-decoration-color: #7f7f7f\">:</span><a href=\"file://D:\\Python39\\lib\\site-packages\\manim\\renderer\\cairo_renderer.py#74\"><span style=\"color: #7f7f7f; text-decoration-color: #7f7f7f\">74</span></a>\n",
       "                             1105829514_2905166263_3686671448<span style=\"font-weight: bold\">)</span>                               \n",
       "</pre>\n"
      ],
      "text/plain": [
       "\u001b[2;36m                   \u001b[0m\u001b[2;36m \u001b[0m\u001b[32mINFO    \u001b[0m Animation \u001b[32m1\u001b[0m : Using cached data \u001b[1m(\u001b[0mhash :     \u001b]8;id=812259;file://D:\\Python39\\lib\\site-packages\\manim\\renderer\\cairo_renderer.py\u001b\\\u001b[2mcairo_renderer.py\u001b[0m\u001b]8;;\u001b\\\u001b[2m:\u001b[0m\u001b]8;id=420220;file://D:\\Python39\\lib\\site-packages\\manim\\renderer\\cairo_renderer.py#74\u001b\\\u001b[2m74\u001b[0m\u001b]8;;\u001b\\\n",
       "                             1105829514_2905166263_3686671448\u001b[1m)\u001b[0m                               \n"
      ]
     },
     "metadata": {},
     "output_type": "display_data"
    },
    {
     "name": "stderr",
     "output_type": "stream",
     "text": [
      "INFO:manim:Animation 1 : Using cached data (hash : 1105829514_2905166263_3686671448)\n",
      "                                                         \r"
     ]
    },
    {
     "data": {
      "text/html": [
       "<pre style=\"white-space:pre;overflow-x:auto;line-height:normal;font-family:Menlo,'DejaVu Sans Mono',consolas,'Courier New',monospace\"><span style=\"color: #7fbfbf; text-decoration-color: #7fbfbf\">                    </span><span style=\"color: #008000; text-decoration-color: #008000\">INFO    </span> Animation <span style=\"color: #008000; text-decoration-color: #008000\">2</span> : Using cached data <span style=\"font-weight: bold\">(</span>hash :     <a href=\"file://D:\\Python39\\lib\\site-packages\\manim\\renderer\\cairo_renderer.py\"><span style=\"color: #7f7f7f; text-decoration-color: #7f7f7f\">cairo_renderer.py</span></a><span style=\"color: #7f7f7f; text-decoration-color: #7f7f7f\">:</span><a href=\"file://D:\\Python39\\lib\\site-packages\\manim\\renderer\\cairo_renderer.py#74\"><span style=\"color: #7f7f7f; text-decoration-color: #7f7f7f\">74</span></a>\n",
       "                             1105829514_1378847798_1090469128<span style=\"font-weight: bold\">)</span>                               \n",
       "</pre>\n"
      ],
      "text/plain": [
       "\u001b[2;36m                   \u001b[0m\u001b[2;36m \u001b[0m\u001b[32mINFO    \u001b[0m Animation \u001b[32m2\u001b[0m : Using cached data \u001b[1m(\u001b[0mhash :     \u001b]8;id=557399;file://D:\\Python39\\lib\\site-packages\\manim\\renderer\\cairo_renderer.py\u001b\\\u001b[2mcairo_renderer.py\u001b[0m\u001b]8;;\u001b\\\u001b[2m:\u001b[0m\u001b]8;id=99236;file://D:\\Python39\\lib\\site-packages\\manim\\renderer\\cairo_renderer.py#74\u001b\\\u001b[2m74\u001b[0m\u001b]8;;\u001b\\\n",
       "                             1105829514_1378847798_1090469128\u001b[1m)\u001b[0m                               \n"
      ]
     },
     "metadata": {},
     "output_type": "display_data"
    },
    {
     "name": "stderr",
     "output_type": "stream",
     "text": [
      "INFO:manim:Animation 2 : Using cached data (hash : 1105829514_1378847798_1090469128)\n",
      "                                                         \r"
     ]
    },
    {
     "data": {
      "text/html": [
       "<pre style=\"white-space:pre;overflow-x:auto;line-height:normal;font-family:Menlo,'DejaVu Sans Mono',consolas,'Courier New',monospace\"><span style=\"color: #7fbfbf; text-decoration-color: #7fbfbf\">                    </span><span style=\"color: #008000; text-decoration-color: #008000\">INFO    </span> Animation <span style=\"color: #008000; text-decoration-color: #008000\">3</span> : Using cached data <span style=\"font-weight: bold\">(</span>hash :     <a href=\"file://D:\\Python39\\lib\\site-packages\\manim\\renderer\\cairo_renderer.py\"><span style=\"color: #7f7f7f; text-decoration-color: #7f7f7f\">cairo_renderer.py</span></a><span style=\"color: #7f7f7f; text-decoration-color: #7f7f7f\">:</span><a href=\"file://D:\\Python39\\lib\\site-packages\\manim\\renderer\\cairo_renderer.py#74\"><span style=\"color: #7f7f7f; text-decoration-color: #7f7f7f\">74</span></a>\n",
       "                             1105829514_1146463065_3978343957<span style=\"font-weight: bold\">)</span>                               \n",
       "</pre>\n"
      ],
      "text/plain": [
       "\u001b[2;36m                   \u001b[0m\u001b[2;36m \u001b[0m\u001b[32mINFO    \u001b[0m Animation \u001b[32m3\u001b[0m : Using cached data \u001b[1m(\u001b[0mhash :     \u001b]8;id=128394;file://D:\\Python39\\lib\\site-packages\\manim\\renderer\\cairo_renderer.py\u001b\\\u001b[2mcairo_renderer.py\u001b[0m\u001b]8;;\u001b\\\u001b[2m:\u001b[0m\u001b]8;id=84380;file://D:\\Python39\\lib\\site-packages\\manim\\renderer\\cairo_renderer.py#74\u001b\\\u001b[2m74\u001b[0m\u001b]8;;\u001b\\\n",
       "                             1105829514_1146463065_3978343957\u001b[1m)\u001b[0m                               \n"
      ]
     },
     "metadata": {},
     "output_type": "display_data"
    },
    {
     "name": "stderr",
     "output_type": "stream",
     "text": [
      "INFO:manim:Animation 3 : Using cached data (hash : 1105829514_1146463065_3978343957)\n",
      "                                                         \r"
     ]
    },
    {
     "data": {
      "text/html": [
       "<pre style=\"white-space:pre;overflow-x:auto;line-height:normal;font-family:Menlo,'DejaVu Sans Mono',consolas,'Courier New',monospace\"><span style=\"color: #7fbfbf; text-decoration-color: #7fbfbf\">                    </span><span style=\"color: #008000; text-decoration-color: #008000\">INFO    </span> Animation <span style=\"color: #008000; text-decoration-color: #008000\">4</span> : Using cached data <span style=\"font-weight: bold\">(</span>hash :     <a href=\"file://D:\\Python39\\lib\\site-packages\\manim\\renderer\\cairo_renderer.py\"><span style=\"color: #7f7f7f; text-decoration-color: #7f7f7f\">cairo_renderer.py</span></a><span style=\"color: #7f7f7f; text-decoration-color: #7f7f7f\">:</span><a href=\"file://D:\\Python39\\lib\\site-packages\\manim\\renderer\\cairo_renderer.py#74\"><span style=\"color: #7f7f7f; text-decoration-color: #7f7f7f\">74</span></a>\n",
       "                             1105829514_2749858086_3814127142<span style=\"font-weight: bold\">)</span>                               \n",
       "</pre>\n"
      ],
      "text/plain": [
       "\u001b[2;36m                   \u001b[0m\u001b[2;36m \u001b[0m\u001b[32mINFO    \u001b[0m Animation \u001b[32m4\u001b[0m : Using cached data \u001b[1m(\u001b[0mhash :     \u001b]8;id=53545;file://D:\\Python39\\lib\\site-packages\\manim\\renderer\\cairo_renderer.py\u001b\\\u001b[2mcairo_renderer.py\u001b[0m\u001b]8;;\u001b\\\u001b[2m:\u001b[0m\u001b]8;id=524118;file://D:\\Python39\\lib\\site-packages\\manim\\renderer\\cairo_renderer.py#74\u001b\\\u001b[2m74\u001b[0m\u001b]8;;\u001b\\\n",
       "                             1105829514_2749858086_3814127142\u001b[1m)\u001b[0m                               \n"
      ]
     },
     "metadata": {},
     "output_type": "display_data"
    },
    {
     "name": "stderr",
     "output_type": "stream",
     "text": [
      "INFO:manim:Animation 4 : Using cached data (hash : 1105829514_2749858086_3814127142)\n",
      "                                                         \r"
     ]
    },
    {
     "data": {
      "text/html": [
       "<pre style=\"white-space:pre;overflow-x:auto;line-height:normal;font-family:Menlo,'DejaVu Sans Mono',consolas,'Courier New',monospace\"><span style=\"color: #7fbfbf; text-decoration-color: #7fbfbf\">                    </span><span style=\"color: #008000; text-decoration-color: #008000\">INFO    </span> Animation <span style=\"color: #008000; text-decoration-color: #008000\">5</span> : Using cached data <span style=\"font-weight: bold\">(</span>hash :     <a href=\"file://D:\\Python39\\lib\\site-packages\\manim\\renderer\\cairo_renderer.py\"><span style=\"color: #7f7f7f; text-decoration-color: #7f7f7f\">cairo_renderer.py</span></a><span style=\"color: #7f7f7f; text-decoration-color: #7f7f7f\">:</span><a href=\"file://D:\\Python39\\lib\\site-packages\\manim\\renderer\\cairo_renderer.py#74\"><span style=\"color: #7f7f7f; text-decoration-color: #7f7f7f\">74</span></a>\n",
       "                             1105829514_3592294219_2413048755<span style=\"font-weight: bold\">)</span>                               \n",
       "</pre>\n"
      ],
      "text/plain": [
       "\u001b[2;36m                   \u001b[0m\u001b[2;36m \u001b[0m\u001b[32mINFO    \u001b[0m Animation \u001b[32m5\u001b[0m : Using cached data \u001b[1m(\u001b[0mhash :     \u001b]8;id=937622;file://D:\\Python39\\lib\\site-packages\\manim\\renderer\\cairo_renderer.py\u001b\\\u001b[2mcairo_renderer.py\u001b[0m\u001b]8;;\u001b\\\u001b[2m:\u001b[0m\u001b]8;id=296948;file://D:\\Python39\\lib\\site-packages\\manim\\renderer\\cairo_renderer.py#74\u001b\\\u001b[2m74\u001b[0m\u001b]8;;\u001b\\\n",
       "                             1105829514_3592294219_2413048755\u001b[1m)\u001b[0m                               \n"
      ]
     },
     "metadata": {},
     "output_type": "display_data"
    },
    {
     "name": "stderr",
     "output_type": "stream",
     "text": [
      "INFO:manim:Animation 5 : Using cached data (hash : 1105829514_3592294219_2413048755)\n",
      "                                                         \r"
     ]
    },
    {
     "data": {
      "text/html": [
       "<pre style=\"white-space:pre;overflow-x:auto;line-height:normal;font-family:Menlo,'DejaVu Sans Mono',consolas,'Courier New',monospace\"><span style=\"color: #7fbfbf; text-decoration-color: #7fbfbf\">                    </span><span style=\"color: #008000; text-decoration-color: #008000\">INFO    </span> Animation <span style=\"color: #008000; text-decoration-color: #008000\">6</span> : Using cached data <span style=\"font-weight: bold\">(</span>hash :     <a href=\"file://D:\\Python39\\lib\\site-packages\\manim\\renderer\\cairo_renderer.py\"><span style=\"color: #7f7f7f; text-decoration-color: #7f7f7f\">cairo_renderer.py</span></a><span style=\"color: #7f7f7f; text-decoration-color: #7f7f7f\">:</span><a href=\"file://D:\\Python39\\lib\\site-packages\\manim\\renderer\\cairo_renderer.py#74\"><span style=\"color: #7f7f7f; text-decoration-color: #7f7f7f\">74</span></a>\n",
       "                             1105829514_398514950_1427144405<span style=\"font-weight: bold\">)</span>                                \n",
       "</pre>\n"
      ],
      "text/plain": [
       "\u001b[2;36m                   \u001b[0m\u001b[2;36m \u001b[0m\u001b[32mINFO    \u001b[0m Animation \u001b[32m6\u001b[0m : Using cached data \u001b[1m(\u001b[0mhash :     \u001b]8;id=543744;file://D:\\Python39\\lib\\site-packages\\manim\\renderer\\cairo_renderer.py\u001b\\\u001b[2mcairo_renderer.py\u001b[0m\u001b]8;;\u001b\\\u001b[2m:\u001b[0m\u001b]8;id=831456;file://D:\\Python39\\lib\\site-packages\\manim\\renderer\\cairo_renderer.py#74\u001b\\\u001b[2m74\u001b[0m\u001b]8;;\u001b\\\n",
       "                             1105829514_398514950_1427144405\u001b[1m)\u001b[0m                                \n"
      ]
     },
     "metadata": {},
     "output_type": "display_data"
    },
    {
     "name": "stderr",
     "output_type": "stream",
     "text": [
      "INFO:manim:Animation 6 : Using cached data (hash : 1105829514_398514950_1427144405)\n"
     ]
    },
    {
     "data": {
      "text/html": [
       "<pre style=\"white-space:pre;overflow-x:auto;line-height:normal;font-family:Menlo,'DejaVu Sans Mono',consolas,'Courier New',monospace\"><span style=\"color: #7fbfbf; text-decoration-color: #7fbfbf\">                    </span><span style=\"color: #008000; text-decoration-color: #008000\">INFO    </span> Animation <span style=\"color: #008000; text-decoration-color: #008000\">7</span> : Using cached data <span style=\"font-weight: bold\">(</span>hash :     <a href=\"file://D:\\Python39\\lib\\site-packages\\manim\\renderer\\cairo_renderer.py\"><span style=\"color: #7f7f7f; text-decoration-color: #7f7f7f\">cairo_renderer.py</span></a><span style=\"color: #7f7f7f; text-decoration-color: #7f7f7f\">:</span><a href=\"file://D:\\Python39\\lib\\site-packages\\manim\\renderer\\cairo_renderer.py#74\"><span style=\"color: #7f7f7f; text-decoration-color: #7f7f7f\">74</span></a>\n",
       "                             1105829514_2905166263_3601319945<span style=\"font-weight: bold\">)</span>                               \n",
       "</pre>\n"
      ],
      "text/plain": [
       "\u001b[2;36m                   \u001b[0m\u001b[2;36m \u001b[0m\u001b[32mINFO    \u001b[0m Animation \u001b[32m7\u001b[0m : Using cached data \u001b[1m(\u001b[0mhash :     \u001b]8;id=298205;file://D:\\Python39\\lib\\site-packages\\manim\\renderer\\cairo_renderer.py\u001b\\\u001b[2mcairo_renderer.py\u001b[0m\u001b]8;;\u001b\\\u001b[2m:\u001b[0m\u001b]8;id=107590;file://D:\\Python39\\lib\\site-packages\\manim\\renderer\\cairo_renderer.py#74\u001b\\\u001b[2m74\u001b[0m\u001b]8;;\u001b\\\n",
       "                             1105829514_2905166263_3601319945\u001b[1m)\u001b[0m                               \n"
      ]
     },
     "metadata": {},
     "output_type": "display_data"
    },
    {
     "name": "stderr",
     "output_type": "stream",
     "text": [
      "INFO:manim:Animation 7 : Using cached data (hash : 1105829514_2905166263_3601319945)\n",
      "                                                         \r"
     ]
    },
    {
     "data": {
      "text/html": [
       "<pre style=\"white-space:pre;overflow-x:auto;line-height:normal;font-family:Menlo,'DejaVu Sans Mono',consolas,'Courier New',monospace\"><span style=\"color: #7fbfbf; text-decoration-color: #7fbfbf\">                    </span><span style=\"color: #008000; text-decoration-color: #008000\">INFO    </span> Animation <span style=\"color: #008000; text-decoration-color: #008000\">8</span> : Using cached data <span style=\"font-weight: bold\">(</span>hash :     <a href=\"file://D:\\Python39\\lib\\site-packages\\manim\\renderer\\cairo_renderer.py\"><span style=\"color: #7f7f7f; text-decoration-color: #7f7f7f\">cairo_renderer.py</span></a><span style=\"color: #7f7f7f; text-decoration-color: #7f7f7f\">:</span><a href=\"file://D:\\Python39\\lib\\site-packages\\manim\\renderer\\cairo_renderer.py#74\"><span style=\"color: #7f7f7f; text-decoration-color: #7f7f7f\">74</span></a>\n",
       "                             1105829514_398514950_1969288736<span style=\"font-weight: bold\">)</span>                                \n",
       "</pre>\n"
      ],
      "text/plain": [
       "\u001b[2;36m                   \u001b[0m\u001b[2;36m \u001b[0m\u001b[32mINFO    \u001b[0m Animation \u001b[32m8\u001b[0m : Using cached data \u001b[1m(\u001b[0mhash :     \u001b]8;id=635508;file://D:\\Python39\\lib\\site-packages\\manim\\renderer\\cairo_renderer.py\u001b\\\u001b[2mcairo_renderer.py\u001b[0m\u001b]8;;\u001b\\\u001b[2m:\u001b[0m\u001b]8;id=229167;file://D:\\Python39\\lib\\site-packages\\manim\\renderer\\cairo_renderer.py#74\u001b\\\u001b[2m74\u001b[0m\u001b]8;;\u001b\\\n",
       "                             1105829514_398514950_1969288736\u001b[1m)\u001b[0m                                \n"
      ]
     },
     "metadata": {},
     "output_type": "display_data"
    },
    {
     "name": "stderr",
     "output_type": "stream",
     "text": [
      "INFO:manim:Animation 8 : Using cached data (hash : 1105829514_398514950_1969288736)\n"
     ]
    },
    {
     "data": {
      "text/html": [
       "<pre style=\"white-space:pre;overflow-x:auto;line-height:normal;font-family:Menlo,'DejaVu Sans Mono',consolas,'Courier New',monospace\"><span style=\"color: #7fbfbf; text-decoration-color: #7fbfbf\">                    </span><span style=\"color: #008000; text-decoration-color: #008000\">INFO    </span> Animation <span style=\"color: #008000; text-decoration-color: #008000\">9</span> : Using cached data <span style=\"font-weight: bold\">(</span>hash :     <a href=\"file://D:\\Python39\\lib\\site-packages\\manim\\renderer\\cairo_renderer.py\"><span style=\"color: #7f7f7f; text-decoration-color: #7f7f7f\">cairo_renderer.py</span></a><span style=\"color: #7f7f7f; text-decoration-color: #7f7f7f\">:</span><a href=\"file://D:\\Python39\\lib\\site-packages\\manim\\renderer\\cairo_renderer.py#74\"><span style=\"color: #7f7f7f; text-decoration-color: #7f7f7f\">74</span></a>\n",
       "                             1105829514_2837494449_419929966<span style=\"font-weight: bold\">)</span>                                \n",
       "</pre>\n"
      ],
      "text/plain": [
       "\u001b[2;36m                   \u001b[0m\u001b[2;36m \u001b[0m\u001b[32mINFO    \u001b[0m Animation \u001b[32m9\u001b[0m : Using cached data \u001b[1m(\u001b[0mhash :     \u001b]8;id=176158;file://D:\\Python39\\lib\\site-packages\\manim\\renderer\\cairo_renderer.py\u001b\\\u001b[2mcairo_renderer.py\u001b[0m\u001b]8;;\u001b\\\u001b[2m:\u001b[0m\u001b]8;id=535451;file://D:\\Python39\\lib\\site-packages\\manim\\renderer\\cairo_renderer.py#74\u001b\\\u001b[2m74\u001b[0m\u001b]8;;\u001b\\\n",
       "                             1105829514_2837494449_419929966\u001b[1m)\u001b[0m                                \n"
      ]
     },
     "metadata": {},
     "output_type": "display_data"
    },
    {
     "name": "stderr",
     "output_type": "stream",
     "text": [
      "INFO:manim:Animation 9 : Using cached data (hash : 1105829514_2837494449_419929966)\n",
      "                                                         \r"
     ]
    },
    {
     "data": {
      "text/html": [
       "<pre style=\"white-space:pre;overflow-x:auto;line-height:normal;font-family:Menlo,'DejaVu Sans Mono',consolas,'Courier New',monospace\"><span style=\"color: #7fbfbf; text-decoration-color: #7fbfbf\">[03/21/22 16:03:01] </span><span style=\"color: #008000; text-decoration-color: #008000\">INFO    </span> Animation <span style=\"color: #008000; text-decoration-color: #008000\">10</span> : Partial movie file       <a href=\"file://D:\\Python39\\lib\\site-packages\\manim\\scene\\scene_file_writer.py\"><span style=\"color: #7f7f7f; text-decoration-color: #7f7f7f\">scene_file_writer.py</span></a><span style=\"color: #7f7f7f; text-decoration-color: #7f7f7f\">:</span><a href=\"file://D:\\Python39\\lib\\site-packages\\manim\\scene\\scene_file_writer.py#514\"><span style=\"color: #7f7f7f; text-decoration-color: #7f7f7f\">514</span></a>\n",
       "                             written in                                                      \n",
       "                             <span style=\"color: #008000; text-decoration-color: #008000\">'D:\\Programming\\Python\\jupyter </span>                                 \n",
       "                             <span style=\"color: #008000; text-decoration-color: #008000\">notebooks\\media\\videos\\jupyter notebook</span>                         \n",
       "                             <span style=\"color: #008000; text-decoration-color: #008000\">s\\480p15\\partial_movie_files\\MovingAngl</span>                         \n",
       "                             <span style=\"color: #008000; text-decoration-color: #008000\">e\\3369886894_2150010895_435608177.mp4'</span>                          \n",
       "</pre>\n"
      ],
      "text/plain": [
       "\u001b[2;36m[03/21/22 16:03:01]\u001b[0m\u001b[2;36m \u001b[0m\u001b[32mINFO    \u001b[0m Animation \u001b[32m10\u001b[0m : Partial movie file       \u001b]8;id=269248;file://D:\\Python39\\lib\\site-packages\\manim\\scene\\scene_file_writer.py\u001b\\\u001b[2mscene_file_writer.py\u001b[0m\u001b]8;;\u001b\\\u001b[2m:\u001b[0m\u001b]8;id=548802;file://D:\\Python39\\lib\\site-packages\\manim\\scene\\scene_file_writer.py#514\u001b\\\u001b[2m514\u001b[0m\u001b]8;;\u001b\\\n",
       "                             written in                                                      \n",
       "                             \u001b[32m'D:\\Programming\\Python\\jupyter \u001b[0m                                 \n",
       "                             \u001b[32mnotebooks\\media\\videos\\jupyter notebook\u001b[0m                         \n",
       "                             \u001b[32ms\\480p15\\partial_movie_files\\MovingAngl\u001b[0m                         \n",
       "                             \u001b[32me\\3369886894_2150010895_435608177.mp4'\u001b[0m                          \n"
      ]
     },
     "metadata": {},
     "output_type": "display_data"
    },
    {
     "name": "stderr",
     "output_type": "stream",
     "text": [
      "INFO:manim:Animation 10 : Partial movie file written in 'D:\\Programming\\Python\\jupyter notebooks\\media\\videos\\jupyter notebooks\\480p15\\partial_movie_files\\MovingAngle\\3369886894_2150010895_435608177.mp4'\n"
     ]
    },
    {
     "data": {
      "text/html": [
       "<pre style=\"white-space:pre;overflow-x:auto;line-height:normal;font-family:Menlo,'DejaVu Sans Mono',consolas,'Courier New',monospace\"><span style=\"color: #7fbfbf; text-decoration-color: #7fbfbf\">                    </span><span style=\"color: #008000; text-decoration-color: #008000\">INFO    </span> Animation <span style=\"color: #008000; text-decoration-color: #008000\">11</span> : Using cached data <span style=\"font-weight: bold\">(</span>hash :    <a href=\"file://D:\\Python39\\lib\\site-packages\\manim\\renderer\\cairo_renderer.py\"><span style=\"color: #7f7f7f; text-decoration-color: #7f7f7f\">cairo_renderer.py</span></a><span style=\"color: #7f7f7f; text-decoration-color: #7f7f7f\">:</span><a href=\"file://D:\\Python39\\lib\\site-packages\\manim\\renderer\\cairo_renderer.py#74\"><span style=\"color: #7f7f7f; text-decoration-color: #7f7f7f\">74</span></a>\n",
       "                             1105829514_4106232872_2760180352<span style=\"font-weight: bold\">)</span>                               \n",
       "</pre>\n"
      ],
      "text/plain": [
       "\u001b[2;36m                   \u001b[0m\u001b[2;36m \u001b[0m\u001b[32mINFO    \u001b[0m Animation \u001b[32m11\u001b[0m : Using cached data \u001b[1m(\u001b[0mhash :    \u001b]8;id=317087;file://D:\\Python39\\lib\\site-packages\\manim\\renderer\\cairo_renderer.py\u001b\\\u001b[2mcairo_renderer.py\u001b[0m\u001b]8;;\u001b\\\u001b[2m:\u001b[0m\u001b]8;id=28584;file://D:\\Python39\\lib\\site-packages\\manim\\renderer\\cairo_renderer.py#74\u001b\\\u001b[2m74\u001b[0m\u001b]8;;\u001b\\\n",
       "                             1105829514_4106232872_2760180352\u001b[1m)\u001b[0m                               \n"
      ]
     },
     "metadata": {},
     "output_type": "display_data"
    },
    {
     "name": "stderr",
     "output_type": "stream",
     "text": [
      "INFO:manim:Animation 11 : Using cached data (hash : 1105829514_4106232872_2760180352)\n",
      "                                                         \r"
     ]
    },
    {
     "data": {
      "text/html": [
       "<pre style=\"white-space:pre;overflow-x:auto;line-height:normal;font-family:Menlo,'DejaVu Sans Mono',consolas,'Courier New',monospace\"><span style=\"color: #7fbfbf; text-decoration-color: #7fbfbf\">                    </span><span style=\"color: #008000; text-decoration-color: #008000\">INFO    </span> Animation <span style=\"color: #008000; text-decoration-color: #008000\">12</span> : Using cached data <span style=\"font-weight: bold\">(</span>hash :    <a href=\"file://D:\\Python39\\lib\\site-packages\\manim\\renderer\\cairo_renderer.py\"><span style=\"color: #7f7f7f; text-decoration-color: #7f7f7f\">cairo_renderer.py</span></a><span style=\"color: #7f7f7f; text-decoration-color: #7f7f7f\">:</span><a href=\"file://D:\\Python39\\lib\\site-packages\\manim\\renderer\\cairo_renderer.py#74\"><span style=\"color: #7f7f7f; text-decoration-color: #7f7f7f\">74</span></a>\n",
       "                             1105829514_398514950_883770756<span style=\"font-weight: bold\">)</span>                                 \n",
       "</pre>\n"
      ],
      "text/plain": [
       "\u001b[2;36m                   \u001b[0m\u001b[2;36m \u001b[0m\u001b[32mINFO    \u001b[0m Animation \u001b[32m12\u001b[0m : Using cached data \u001b[1m(\u001b[0mhash :    \u001b]8;id=369699;file://D:\\Python39\\lib\\site-packages\\manim\\renderer\\cairo_renderer.py\u001b\\\u001b[2mcairo_renderer.py\u001b[0m\u001b]8;;\u001b\\\u001b[2m:\u001b[0m\u001b]8;id=741970;file://D:\\Python39\\lib\\site-packages\\manim\\renderer\\cairo_renderer.py#74\u001b\\\u001b[2m74\u001b[0m\u001b]8;;\u001b\\\n",
       "                             1105829514_398514950_883770756\u001b[1m)\u001b[0m                                 \n"
      ]
     },
     "metadata": {},
     "output_type": "display_data"
    },
    {
     "name": "stderr",
     "output_type": "stream",
     "text": [
      "INFO:manim:Animation 12 : Using cached data (hash : 1105829514_398514950_883770756)\n"
     ]
    },
    {
     "data": {
      "text/html": [
       "<pre style=\"white-space:pre;overflow-x:auto;line-height:normal;font-family:Menlo,'DejaVu Sans Mono',consolas,'Courier New',monospace\"><span style=\"color: #7fbfbf; text-decoration-color: #7fbfbf\">                    </span><span style=\"color: #008000; text-decoration-color: #008000\">INFO    </span> Animation <span style=\"color: #008000; text-decoration-color: #008000\">13</span> : Using cached data <span style=\"font-weight: bold\">(</span>hash :    <a href=\"file://D:\\Python39\\lib\\site-packages\\manim\\renderer\\cairo_renderer.py\"><span style=\"color: #7f7f7f; text-decoration-color: #7f7f7f\">cairo_renderer.py</span></a><span style=\"color: #7f7f7f; text-decoration-color: #7f7f7f\">:</span><a href=\"file://D:\\Python39\\lib\\site-packages\\manim\\renderer\\cairo_renderer.py#74\"><span style=\"color: #7f7f7f; text-decoration-color: #7f7f7f\">74</span></a>\n",
       "                             1105829514_3489814521_1533265405<span style=\"font-weight: bold\">)</span>                               \n",
       "</pre>\n"
      ],
      "text/plain": [
       "\u001b[2;36m                   \u001b[0m\u001b[2;36m \u001b[0m\u001b[32mINFO    \u001b[0m Animation \u001b[32m13\u001b[0m : Using cached data \u001b[1m(\u001b[0mhash :    \u001b]8;id=341020;file://D:\\Python39\\lib\\site-packages\\manim\\renderer\\cairo_renderer.py\u001b\\\u001b[2mcairo_renderer.py\u001b[0m\u001b]8;;\u001b\\\u001b[2m:\u001b[0m\u001b]8;id=384842;file://D:\\Python39\\lib\\site-packages\\manim\\renderer\\cairo_renderer.py#74\u001b\\\u001b[2m74\u001b[0m\u001b]8;;\u001b\\\n",
       "                             1105829514_3489814521_1533265405\u001b[1m)\u001b[0m                               \n"
      ]
     },
     "metadata": {},
     "output_type": "display_data"
    },
    {
     "name": "stderr",
     "output_type": "stream",
     "text": [
      "INFO:manim:Animation 13 : Using cached data (hash : 1105829514_3489814521_1533265405)\n",
      "                                                         \r"
     ]
    },
    {
     "data": {
      "text/html": [
       "<pre style=\"white-space:pre;overflow-x:auto;line-height:normal;font-family:Menlo,'DejaVu Sans Mono',consolas,'Courier New',monospace\"><span style=\"color: #7fbfbf; text-decoration-color: #7fbfbf\">                    </span><span style=\"color: #008000; text-decoration-color: #008000\">INFO    </span> Animation <span style=\"color: #008000; text-decoration-color: #008000\">14</span> : Partial movie file       <a href=\"file://D:\\Python39\\lib\\site-packages\\manim\\scene\\scene_file_writer.py\"><span style=\"color: #7f7f7f; text-decoration-color: #7f7f7f\">scene_file_writer.py</span></a><span style=\"color: #7f7f7f; text-decoration-color: #7f7f7f\">:</span><a href=\"file://D:\\Python39\\lib\\site-packages\\manim\\scene\\scene_file_writer.py#514\"><span style=\"color: #7f7f7f; text-decoration-color: #7f7f7f\">514</span></a>\n",
       "                             written in                                                      \n",
       "                             <span style=\"color: #008000; text-decoration-color: #008000\">'D:\\Programming\\Python\\jupyter </span>                                 \n",
       "                             <span style=\"color: #008000; text-decoration-color: #008000\">notebooks\\media\\videos\\jupyter notebook</span>                         \n",
       "                             <span style=\"color: #008000; text-decoration-color: #008000\">s\\480p15\\partial_movie_files\\MovingAngl</span>                         \n",
       "                             <span style=\"color: #008000; text-decoration-color: #008000\">e\\1105829514_933687294_1695407249.mp4'</span>                          \n",
       "</pre>\n"
      ],
      "text/plain": [
       "\u001b[2;36m                   \u001b[0m\u001b[2;36m \u001b[0m\u001b[32mINFO    \u001b[0m Animation \u001b[32m14\u001b[0m : Partial movie file       \u001b]8;id=891625;file://D:\\Python39\\lib\\site-packages\\manim\\scene\\scene_file_writer.py\u001b\\\u001b[2mscene_file_writer.py\u001b[0m\u001b]8;;\u001b\\\u001b[2m:\u001b[0m\u001b]8;id=307127;file://D:\\Python39\\lib\\site-packages\\manim\\scene\\scene_file_writer.py#514\u001b\\\u001b[2m514\u001b[0m\u001b]8;;\u001b\\\n",
       "                             written in                                                      \n",
       "                             \u001b[32m'D:\\Programming\\Python\\jupyter \u001b[0m                                 \n",
       "                             \u001b[32mnotebooks\\media\\videos\\jupyter notebook\u001b[0m                         \n",
       "                             \u001b[32ms\\480p15\\partial_movie_files\\MovingAngl\u001b[0m                         \n",
       "                             \u001b[32me\\1105829514_933687294_1695407249.mp4'\u001b[0m                          \n"
      ]
     },
     "metadata": {},
     "output_type": "display_data"
    },
    {
     "name": "stderr",
     "output_type": "stream",
     "text": [
      "INFO:manim:Animation 14 : Partial movie file written in 'D:\\Programming\\Python\\jupyter notebooks\\media\\videos\\jupyter notebooks\\480p15\\partial_movie_files\\MovingAngle\\1105829514_933687294_1695407249.mp4'\n"
     ]
    },
    {
     "data": {
      "text/html": [
       "<pre style=\"white-space:pre;overflow-x:auto;line-height:normal;font-family:Menlo,'DejaVu Sans Mono',consolas,'Courier New',monospace\"><span style=\"color: #7fbfbf; text-decoration-color: #7fbfbf\">[03/21/22 16:03:02] </span><span style=\"color: #008000; text-decoration-color: #008000\">INFO    </span> Animation <span style=\"color: #008000; text-decoration-color: #008000\">15</span> : Using cached data <span style=\"font-weight: bold\">(</span>hash :    <a href=\"file://D:\\Python39\\lib\\site-packages\\manim\\renderer\\cairo_renderer.py\"><span style=\"color: #7f7f7f; text-decoration-color: #7f7f7f\">cairo_renderer.py</span></a><span style=\"color: #7f7f7f; text-decoration-color: #7f7f7f\">:</span><a href=\"file://D:\\Python39\\lib\\site-packages\\manim\\renderer\\cairo_renderer.py#74\"><span style=\"color: #7f7f7f; text-decoration-color: #7f7f7f\">74</span></a>\n",
       "                             1105829514_398514950_2592175359<span style=\"font-weight: bold\">)</span>                                \n",
       "</pre>\n"
      ],
      "text/plain": [
       "\u001b[2;36m[03/21/22 16:03:02]\u001b[0m\u001b[2;36m \u001b[0m\u001b[32mINFO    \u001b[0m Animation \u001b[32m15\u001b[0m : Using cached data \u001b[1m(\u001b[0mhash :    \u001b]8;id=986103;file://D:\\Python39\\lib\\site-packages\\manim\\renderer\\cairo_renderer.py\u001b\\\u001b[2mcairo_renderer.py\u001b[0m\u001b]8;;\u001b\\\u001b[2m:\u001b[0m\u001b]8;id=492091;file://D:\\Python39\\lib\\site-packages\\manim\\renderer\\cairo_renderer.py#74\u001b\\\u001b[2m74\u001b[0m\u001b]8;;\u001b\\\n",
       "                             1105829514_398514950_2592175359\u001b[1m)\u001b[0m                                \n"
      ]
     },
     "metadata": {},
     "output_type": "display_data"
    },
    {
     "name": "stderr",
     "output_type": "stream",
     "text": [
      "INFO:manim:Animation 15 : Using cached data (hash : 1105829514_398514950_2592175359)\n"
     ]
    },
    {
     "data": {
      "text/html": [
       "<pre style=\"white-space:pre;overflow-x:auto;line-height:normal;font-family:Menlo,'DejaVu Sans Mono',consolas,'Courier New',monospace\"><span style=\"color: #7fbfbf; text-decoration-color: #7fbfbf\">                    </span><span style=\"color: #008000; text-decoration-color: #008000\">INFO    </span> Combining to Movie file.                <a href=\"file://D:\\Python39\\lib\\site-packages\\manim\\scene\\scene_file_writer.py\"><span style=\"color: #7f7f7f; text-decoration-color: #7f7f7f\">scene_file_writer.py</span></a><span style=\"color: #7f7f7f; text-decoration-color: #7f7f7f\">:</span><a href=\"file://D:\\Python39\\lib\\site-packages\\manim\\scene\\scene_file_writer.py#608\"><span style=\"color: #7f7f7f; text-decoration-color: #7f7f7f\">608</span></a>\n",
       "</pre>\n"
      ],
      "text/plain": [
       "\u001b[2;36m                   \u001b[0m\u001b[2;36m \u001b[0m\u001b[32mINFO    \u001b[0m Combining to Movie file.                \u001b]8;id=160906;file://D:\\Python39\\lib\\site-packages\\manim\\scene\\scene_file_writer.py\u001b\\\u001b[2mscene_file_writer.py\u001b[0m\u001b]8;;\u001b\\\u001b[2m:\u001b[0m\u001b]8;id=513016;file://D:\\Python39\\lib\\site-packages\\manim\\scene\\scene_file_writer.py#608\u001b\\\u001b[2m608\u001b[0m\u001b]8;;\u001b\\\n"
      ]
     },
     "metadata": {},
     "output_type": "display_data"
    },
    {
     "name": "stderr",
     "output_type": "stream",
     "text": [
      "INFO:manim:Combining to Movie file.\n"
     ]
    },
    {
     "data": {
      "text/html": [
       "<pre style=\"white-space:pre;overflow-x:auto;line-height:normal;font-family:Menlo,'DejaVu Sans Mono',consolas,'Courier New',monospace\"><span style=\"color: #7fbfbf; text-decoration-color: #7fbfbf\">                    </span><span style=\"color: #008000; text-decoration-color: #008000\">INFO    </span>                                         <a href=\"file://D:\\Python39\\lib\\site-packages\\manim\\scene\\scene_file_writer.py\"><span style=\"color: #7f7f7f; text-decoration-color: #7f7f7f\">scene_file_writer.py</span></a><span style=\"color: #7f7f7f; text-decoration-color: #7f7f7f\">:</span><a href=\"file://D:\\Python39\\lib\\site-packages\\manim\\scene\\scene_file_writer.py#729\"><span style=\"color: #7f7f7f; text-decoration-color: #7f7f7f\">729</span></a>\n",
       "                             <span style=\"color: #808000; text-decoration-color: #808000; font-weight: bold\">File</span> ready at                                                   \n",
       "                             <span style=\"color: #008000; text-decoration-color: #008000\">'D:\\Programming\\Python\\jupyter </span>                                 \n",
       "                             <span style=\"color: #008000; text-decoration-color: #008000\">notebooks\\media\\videos\\jupyter </span>                                 \n",
       "                             <span style=\"color: #008000; text-decoration-color: #008000\">notebooks\\480p15\\MovingAngle.mp4'</span>                               \n",
       "                                                                                             \n",
       "</pre>\n"
      ],
      "text/plain": [
       "\u001b[2;36m                   \u001b[0m\u001b[2;36m \u001b[0m\u001b[32mINFO    \u001b[0m                                         \u001b]8;id=725207;file://D:\\Python39\\lib\\site-packages\\manim\\scene\\scene_file_writer.py\u001b\\\u001b[2mscene_file_writer.py\u001b[0m\u001b]8;;\u001b\\\u001b[2m:\u001b[0m\u001b]8;id=349962;file://D:\\Python39\\lib\\site-packages\\manim\\scene\\scene_file_writer.py#729\u001b\\\u001b[2m729\u001b[0m\u001b]8;;\u001b\\\n",
       "                             \u001b[1;33mFile\u001b[0m ready at                                                   \n",
       "                             \u001b[32m'D:\\Programming\\Python\\jupyter \u001b[0m                                 \n",
       "                             \u001b[32mnotebooks\\media\\videos\\jupyter \u001b[0m                                 \n",
       "                             \u001b[32mnotebooks\\480p15\\MovingAngle.mp4'\u001b[0m                               \n",
       "                                                                                             \n"
      ]
     },
     "metadata": {},
     "output_type": "display_data"
    },
    {
     "name": "stderr",
     "output_type": "stream",
     "text": [
      "INFO:manim:\n",
      "File ready at 'D:\\Programming\\Python\\jupyter notebooks\\media\\videos\\jupyter notebooks\\480p15\\MovingAngle.mp4'\n",
      "\n"
     ]
    },
    {
     "data": {
      "text/html": [
       "<pre style=\"white-space:pre;overflow-x:auto;line-height:normal;font-family:Menlo,'DejaVu Sans Mono',consolas,'Courier New',monospace\"><span style=\"color: #7fbfbf; text-decoration-color: #7fbfbf\">                    </span><span style=\"color: #008000; text-decoration-color: #008000\">INFO    </span> The partial movie directory is full <span style=\"font-weight: bold\">(</span>&gt;  <a href=\"file://D:\\Python39\\lib\\site-packages\\manim\\scene\\scene_file_writer.py\"><span style=\"color: #7f7f7f; text-decoration-color: #7f7f7f\">scene_file_writer.py</span></a><span style=\"color: #7f7f7f; text-decoration-color: #7f7f7f\">:</span><a href=\"file://D:\\Python39\\lib\\site-packages\\manim\\scene\\scene_file_writer.py#700\"><span style=\"color: #7f7f7f; text-decoration-color: #7f7f7f\">700</span></a>\n",
       "                             <span style=\"color: #008000; text-decoration-color: #008000\">100</span> files<span style=\"font-weight: bold\">)</span>. Therefore, manim has                                \n",
       "                             removed the <span style=\"color: #008000; text-decoration-color: #008000\">2</span> oldest <span style=\"color: #800080; text-decoration-color: #800080; font-weight: bold\">file</span><span style=\"font-weight: bold\">(</span>s<span style=\"font-weight: bold\">)</span>. You can                           \n",
       "                             change this behaviour by changing                               \n",
       "                             max_files_cached in config.                                     \n",
       "</pre>\n"
      ],
      "text/plain": [
       "\u001b[2;36m                   \u001b[0m\u001b[2;36m \u001b[0m\u001b[32mINFO    \u001b[0m The partial movie directory is full \u001b[1m(\u001b[0m>  \u001b]8;id=260623;file://D:\\Python39\\lib\\site-packages\\manim\\scene\\scene_file_writer.py\u001b\\\u001b[2mscene_file_writer.py\u001b[0m\u001b]8;;\u001b\\\u001b[2m:\u001b[0m\u001b]8;id=425223;file://D:\\Python39\\lib\\site-packages\\manim\\scene\\scene_file_writer.py#700\u001b\\\u001b[2m700\u001b[0m\u001b]8;;\u001b\\\n",
       "                             \u001b[32m100\u001b[0m files\u001b[1m)\u001b[0m. Therefore, manim has                                \n",
       "                             removed the \u001b[32m2\u001b[0m oldest \u001b[1;35mfile\u001b[0m\u001b[1m(\u001b[0ms\u001b[1m)\u001b[0m. You can                           \n",
       "                             change this behaviour by changing                               \n",
       "                             max_files_cached in config.                                     \n"
      ]
     },
     "metadata": {},
     "output_type": "display_data"
    },
    {
     "name": "stderr",
     "output_type": "stream",
     "text": [
      "INFO:manim:The partial movie directory is full (> 100 files). Therefore, manim has removed the 2 oldest file(s). You can change this behaviour by changing max_files_cached in config.\n"
     ]
    },
    {
     "data": {
      "text/html": [
       "<pre style=\"white-space:pre;overflow-x:auto;line-height:normal;font-family:Menlo,'DejaVu Sans Mono',consolas,'Courier New',monospace\"><span style=\"color: #7fbfbf; text-decoration-color: #7fbfbf\">                    </span><span style=\"color: #008000; text-decoration-color: #008000\">INFO    </span> <span style=\"color: #808000; text-decoration-color: #808000; font-weight: bold\">Rendered</span> MovingAngle                                <a href=\"file://D:\\Python39\\lib\\site-packages\\manim\\scene\\scene.py\"><span style=\"color: #7f7f7f; text-decoration-color: #7f7f7f\">scene.py</span></a><span style=\"color: #7f7f7f; text-decoration-color: #7f7f7f\">:</span><a href=\"file://D:\\Python39\\lib\\site-packages\\manim\\scene\\scene.py#237\"><span style=\"color: #7f7f7f; text-decoration-color: #7f7f7f\">237</span></a>\n",
       "                             <span style=\"color: #808000; text-decoration-color: #808000; font-weight: bold\">Played</span> <span style=\"color: #008000; text-decoration-color: #008000\">16</span> <span style=\"color: #808000; text-decoration-color: #808000; font-weight: bold\">animations</span>                                            \n",
       "</pre>\n"
      ],
      "text/plain": [
       "\u001b[2;36m                   \u001b[0m\u001b[2;36m \u001b[0m\u001b[32mINFO    \u001b[0m \u001b[1;33mRendered\u001b[0m MovingAngle                                \u001b]8;id=469796;file://D:\\Python39\\lib\\site-packages\\manim\\scene\\scene.py\u001b\\\u001b[2mscene.py\u001b[0m\u001b]8;;\u001b\\\u001b[2m:\u001b[0m\u001b]8;id=962589;file://D:\\Python39\\lib\\site-packages\\manim\\scene\\scene.py#237\u001b\\\u001b[2m237\u001b[0m\u001b]8;;\u001b\\\n",
       "                             \u001b[1;33mPlayed\u001b[0m \u001b[32m16\u001b[0m \u001b[1;33manimations\u001b[0m                                            \n"
      ]
     },
     "metadata": {},
     "output_type": "display_data"
    },
    {
     "name": "stderr",
     "output_type": "stream",
     "text": [
      "INFO:manim:Rendered MovingAngle\n",
      "Played 16 animations\n"
     ]
    },
    {
     "data": {
      "text/html": [
       "<video src=\"media\\jupyter\\MovingAngle@2022-03-21@16-03-02.mp4\" controls autoplay loop style=\"max-width: 60%;\"  >\n",
       "      Your browser does not support the <code>video</code> element.\n",
       "    </video>"
      ],
      "text/plain": [
       "<IPython.core.display.Video object>"
      ]
     },
     "metadata": {},
     "output_type": "display_data"
    }
   ],
   "source": [
    "%%manim MovingAngle\n",
    "config.background_color = WHITE\n",
    "\n",
    "class MovingAngle(Scene):\n",
    "    def construct(self):\n",
    "        \n",
    "        O=ORIGIN\n",
    "        P=4*RIGHT\n",
    "        rotation_center = O\n",
    "        \n",
    "        theta_tracker = ValueTracker(.001)\n",
    "        line1 = Line(O, P, color=BLUE)\n",
    "        line_moving = line1.copy()\n",
    "        line_ref = line_moving.copy()\n",
    "        line_moving.rotate(\n",
    "            theta_tracker.get_value() * DEGREES, about_point=O\n",
    "        )\n",
    "        a = Angle(line1, line_moving, radius=.5+3*SMALL_BUFF, other_angle=False, color=BLUE)\n",
    "#        \n",
    "\n",
    "        self.add(line1, line_moving, a)\n",
    "        self.wait()\n",
    "\n",
    "        line_moving.add_updater(\n",
    "            lambda x: x.become(line_ref.copy()).rotate(\n",
    "                theta_tracker.get_value() * DEGREES, about_point=O\n",
    "            )\n",
    "        )\n",
    "\n",
    "        a.add_updater(\n",
    "            lambda x: x.become( Angle(line1, line_moving, radius=.5+3*SMALL_BUFF, other_angle=False, color=BLUE) )\n",
    "        ) \n",
    "#         tex = MathTex(f\"{theta_tracker.get_value():.0f}^\\circ\").move_to(np.multiply(a.get_center_of_mass(),0.8) #[.5,.5,0])\n",
    "#             Angle(\n",
    "#                 line1, line_moving, radius= .5+SMALL_BUFF, other_angle=False\n",
    "#             ).point_from_proportion(0.5)\n",
    "        tex = MathTex(r\"\\alpha\", color=BLUE)\n",
    "#         tex.add_updater( lambda x: x.become( MathTex(f\"{theta_tracker.get_value():.0f}^\\circ\").move_to(np.multiply(a.get_center_of_mass(),0.8)))\n",
    "        tex.add_updater( lambda x: x.move_to(np.multiply(a.get_center_of_mass(),0.6)))\n",
    "\n",
    "        self.play(theta_tracker.animate.set_value(110), rate_function=linear)\n",
    "        self.play(theta_tracker.animate.set_value(90), rate_function=linear)\n",
    "        self.play(theta_tracker.animate.set_value(180), rate_function=linear)\n",
    "        self.play(theta_tracker.animate.set_value(270), rate_function=linear)\n",
    "        self.play(theta_tracker.animate.set_value(.001), rate_function=linear)\n",
    "        self.wait()\n",
    "        self.play(theta_tracker.animate.set_value(110), rate_function=linear)\n",
    "        self.wait()\n",
    "        self.play(Write(tex))\n",
    "        self.play(theta_tracker.animate.set_value(40), rate_function=linear)\n",
    "        self.play(theta_tracker.animate.set_value(140), rate_function=linear)\n",
    "        self.wait()\n",
    "        self.play(FadeOut(line_moving, line1, tex, a))\n",
    "        t=Text('Kąty')\n",
    "        self.play(FadeIn(t))\n",
    "        self.wait()\n",
    "        "
   ]
  },
  {
   "cell_type": "code",
   "execution_count": 29,
   "id": "43fc189c-41c6-44fe-a33b-b17bac3527f8",
   "metadata": {
    "tags": []
   },
   "outputs": [
    {
     "data": {
      "text/plain": [
       "256"
      ]
     },
     "execution_count": 29,
     "metadata": {},
     "output_type": "execute_result"
    }
   ],
   "source": [
    "\n",
    "def change_winding(mob):\n",
    "    points = mob.points\n",
    "    mob.points = np.roll(points, int(len(points)/4), axis=0) \n",
    "    \n",
    "    \n",
    "def get_poslist(m,n,iterations=100):\n",
    "\n",
    "    x = np.linspace(-2, 1, num=m).reshape((1, m))\n",
    "    y = np.linspace(-1, 1, num=n).reshape((n, 1))\n",
    "    C = np.tile(x, (n, 1)) + 1j * np.tile(y, (1, m))\n",
    "\n",
    "    Z = np.zeros((n, m), dtype=complex)\n",
    "    M = np.full((n, m), True, dtype=bool)\n",
    "    for i in range(iterations+1):\n",
    "        Z[M] = Z[M] * Z[M] + C[M]\n",
    "        M[np.abs(Z) > 2] = False\n",
    "\n",
    "    \n",
    "    return np.uint8(np.flipud(1 - M) * 255) \n",
    "\n",
    "def pixelize(pixel_array, W=2**5, H=2**5):\n",
    "    w,h =  pixel_array.shape[0],  pixel_array.shape[1]\n",
    "    vg = VGroup(*[Dot(color=rgba_to_color(np.divide(pixel_array[int(x),int(y),:], 255))) for x in np.linspace(0,w,W, endpoint=False) for y in np.linspace(0,h,H, endpoint=False)])\n",
    "\n",
    "    return vg.arrange_in_grid(buff=0).scale_to_fit_height(HEIGHT)\n",
    "\n",
    "class Papaj():\n",
    "    dots = [pixelize(ImageMobject('papaj.png').get_pixel_array(), W=2**n,H=2**n) for n in [0,1,2,3,4,6]]\n",
    "    \n",
    "papies=Papaj()\n",
    "\n",
    "class Star(Polygon):\n",
    "    \"\"\" Develop by friedkeenan\"\"\"\n",
    "    def __init__(self, n=6, *, density=2, outer_radius=1, inner_radius=None, start_angle=None, **kwargs):\n",
    "        if density <= 0 or density >= n / 2:\n",
    "            raise ValueError(f\"Incompatible density {density}\")\n",
    "\n",
    "        inner_angle = TAU / (2 * n)\n",
    "\n",
    "        if inner_radius is None:\n",
    "            # Calculate the inner radius for n and density.\n",
    "            # See https://math.stackexchange.com/a/2136292\n",
    "\n",
    "            outer_angle = TAU * density / n\n",
    "\n",
    "            inverse_x = 1 - np.tan(inner_angle) * ((np.cos(outer_angle) - 1) / np.sin(outer_angle))\n",
    "\n",
    "            inner_radius = outer_radius / (np.cos(inner_angle) * inverse_x)\n",
    "\n",
    "\n",
    "        def regular_vertices(n, radius=1, start_angle=None):\n",
    "            if start_angle is None:\n",
    "                if n % 2 == 0:\n",
    "                    start_angle = 0\n",
    "                else:\n",
    "                    start_angle = TAU / 4\n",
    "\n",
    "            start_vector = rotate_vector(RIGHT * radius, start_angle)\n",
    "            vertices     = compass_directions(n, start_vector)\n",
    "\n",
    "            return vertices, start_angle\n",
    "\n",
    "        outer_vertices, self.start_angle = regular_vertices(n, radius=outer_radius, start_angle=start_angle)\n",
    "        inner_vertices, _                = regular_vertices(n, radius=inner_radius, start_angle=self.start_angle + inner_angle)\n",
    "\n",
    "        vertices = []\n",
    "        for pair in zip(outer_vertices, inner_vertices):\n",
    "            vertices.extend(pair)\n",
    "\n",
    "        super().__init__(*vertices, **kwargs)\n",
    "        \n",
    "def flatten(input_list):\n",
    "    return [(x/255,y/255,z/255,a/255) for sublist in input_list for (x,y,z,a) in sublist]\n",
    "def mandelbrot(p):\n",
    "    an=0\n",
    "    n=0\n",
    "    while True:\n",
    "        yield n, complex_to_R3(an)\n",
    "        try:\n",
    "            an = (an**2+R3_to_complex(p))\n",
    "            n+=1\n",
    "        except:\n",
    "#             an = np.nan\n",
    "            break\n",
    "\n",
    "    \n",
    "def deplete(gen):\n",
    "    while True:\n",
    "        try:\n",
    "            n, an = next(gen)\n",
    "            if n>=256:\n",
    "                raise ValueError\n",
    "        except:\n",
    "            break\n",
    "    return n\n",
    "\n",
    "def circInv2d(pos=[0,0,0],circle=Circle()):\n",
    "    \n",
    "    x,y,z=pos\n",
    "    cx, cy, cz = circle.get_center()\n",
    "    cr = circle.radius\n",
    "    \n",
    "    dx = x - cx; dy = y - cy\n",
    "    d = np.hypot(dx, dy)\n",
    "    \n",
    "    if (d!=0):\n",
    "        dx = dx / d; dy = dy / d\n",
    "        dnew = cr ** 2.0 / d\n",
    "        x = float(dnew * dx + cx)\n",
    "        y = float(dnew * dy + cy)\n",
    "\n",
    "        return [x,y,z]\n",
    "    else:\n",
    "        return [0.0,0.0,0.0]\n",
    "    \n",
    "        \n",
    "a=mandelbrot([.25,0,0])\n",
    "\n",
    "\n",
    "deplete(a)    "
   ]
  },
  {
   "cell_type": "code",
   "execution_count": 65,
   "id": "0eaef6d6-7ea7-4546-ae07-e4718d605b69",
   "metadata": {},
   "outputs": [
    {
     "data": {
      "text/html": [
       "<pre style=\"white-space:pre;overflow-x:auto;line-height:normal;font-family:Menlo,'DejaVu Sans Mono',consolas,'Courier New',monospace\"><span style=\"color: #7fbfbf; text-decoration-color: #7fbfbf\">[03/21/22 15:31:48] </span><span style=\"color: #008000; text-decoration-color: #008000\">INFO    </span> Animation <span style=\"color: #008000; text-decoration-color: #008000\">0</span> : Partial movie file        <a href=\"file://D:\\Python39\\lib\\site-packages\\manim\\scene\\scene_file_writer.py\"><span style=\"color: #7f7f7f; text-decoration-color: #7f7f7f\">scene_file_writer.py</span></a><span style=\"color: #7f7f7f; text-decoration-color: #7f7f7f\">:</span><a href=\"file://D:\\Python39\\lib\\site-packages\\manim\\scene\\scene_file_writer.py#514\"><span style=\"color: #7f7f7f; text-decoration-color: #7f7f7f\">514</span></a>\n",
       "                             written in                                                      \n",
       "                             <span style=\"color: #008000; text-decoration-color: #008000\">'D:\\Programming\\Python\\jupyter </span>                                 \n",
       "                             <span style=\"color: #008000; text-decoration-color: #008000\">notebooks\\media\\videos\\jupyter notebook</span>                         \n",
       "                             <span style=\"color: #008000; text-decoration-color: #008000\">s\\480p15\\partial_movie_files\\PolyScene\\</span>                         \n",
       "                             <span style=\"color: #008000; text-decoration-color: #008000\">3163782288_1515588106_1531942714.mp4'</span>                           \n",
       "</pre>\n"
      ],
      "text/plain": [
       "\u001b[2;36m[03/21/22 15:31:48]\u001b[0m\u001b[2;36m \u001b[0m\u001b[32mINFO    \u001b[0m Animation \u001b[32m0\u001b[0m : Partial movie file        \u001b]8;id=541187;file://D:\\Python39\\lib\\site-packages\\manim\\scene\\scene_file_writer.py\u001b\\\u001b[2mscene_file_writer.py\u001b[0m\u001b]8;;\u001b\\\u001b[2m:\u001b[0m\u001b]8;id=825550;file://D:\\Python39\\lib\\site-packages\\manim\\scene\\scene_file_writer.py#514\u001b\\\u001b[2m514\u001b[0m\u001b]8;;\u001b\\\n",
       "                             written in                                                      \n",
       "                             \u001b[32m'D:\\Programming\\Python\\jupyter \u001b[0m                                 \n",
       "                             \u001b[32mnotebooks\\media\\videos\\jupyter notebook\u001b[0m                         \n",
       "                             \u001b[32ms\\480p15\\partial_movie_files\\PolyScene\\\u001b[0m                         \n",
       "                             \u001b[32m3163782288_1515588106_1531942714.mp4'\u001b[0m                           \n"
      ]
     },
     "metadata": {},
     "output_type": "display_data"
    },
    {
     "name": "stderr",
     "output_type": "stream",
     "text": [
      "INFO:manim:Animation 0 : Partial movie file written in 'D:\\Programming\\Python\\jupyter notebooks\\media\\videos\\jupyter notebooks\\480p15\\partial_movie_files\\PolyScene\\3163782288_1515588106_1531942714.mp4'\n",
      "                                                         \r"
     ]
    },
    {
     "data": {
      "text/html": [
       "<pre style=\"white-space:pre;overflow-x:auto;line-height:normal;font-family:Menlo,'DejaVu Sans Mono',consolas,'Courier New',monospace\"><span style=\"color: #7fbfbf; text-decoration-color: #7fbfbf\">                    </span><span style=\"color: #008000; text-decoration-color: #008000\">INFO    </span> Animation <span style=\"color: #008000; text-decoration-color: #008000\">1</span> : Partial movie file        <a href=\"file://D:\\Python39\\lib\\site-packages\\manim\\scene\\scene_file_writer.py\"><span style=\"color: #7f7f7f; text-decoration-color: #7f7f7f\">scene_file_writer.py</span></a><span style=\"color: #7f7f7f; text-decoration-color: #7f7f7f\">:</span><a href=\"file://D:\\Python39\\lib\\site-packages\\manim\\scene\\scene_file_writer.py#514\"><span style=\"color: #7f7f7f; text-decoration-color: #7f7f7f\">514</span></a>\n",
       "                             written in                                                      \n",
       "                             <span style=\"color: #008000; text-decoration-color: #008000\">'D:\\Programming\\Python\\jupyter </span>                                 \n",
       "                             <span style=\"color: #008000; text-decoration-color: #008000\">notebooks\\media\\videos\\jupyter notebook</span>                         \n",
       "                             <span style=\"color: #008000; text-decoration-color: #008000\">s\\480p15\\partial_movie_files\\PolyScene\\</span>                         \n",
       "                             <span style=\"color: #008000; text-decoration-color: #008000\">2201830969_1537912206_1636212607.mp4'</span>                           \n",
       "</pre>\n"
      ],
      "text/plain": [
       "\u001b[2;36m                   \u001b[0m\u001b[2;36m \u001b[0m\u001b[32mINFO    \u001b[0m Animation \u001b[32m1\u001b[0m : Partial movie file        \u001b]8;id=719565;file://D:\\Python39\\lib\\site-packages\\manim\\scene\\scene_file_writer.py\u001b\\\u001b[2mscene_file_writer.py\u001b[0m\u001b]8;;\u001b\\\u001b[2m:\u001b[0m\u001b]8;id=861980;file://D:\\Python39\\lib\\site-packages\\manim\\scene\\scene_file_writer.py#514\u001b\\\u001b[2m514\u001b[0m\u001b]8;;\u001b\\\n",
       "                             written in                                                      \n",
       "                             \u001b[32m'D:\\Programming\\Python\\jupyter \u001b[0m                                 \n",
       "                             \u001b[32mnotebooks\\media\\videos\\jupyter notebook\u001b[0m                         \n",
       "                             \u001b[32ms\\480p15\\partial_movie_files\\PolyScene\\\u001b[0m                         \n",
       "                             \u001b[32m2201830969_1537912206_1636212607.mp4'\u001b[0m                           \n"
      ]
     },
     "metadata": {},
     "output_type": "display_data"
    },
    {
     "name": "stderr",
     "output_type": "stream",
     "text": [
      "INFO:manim:Animation 1 : Partial movie file written in 'D:\\Programming\\Python\\jupyter notebooks\\media\\videos\\jupyter notebooks\\480p15\\partial_movie_files\\PolyScene\\2201830969_1537912206_1636212607.mp4'\n"
     ]
    },
    {
     "data": {
      "text/html": [
       "<pre style=\"white-space:pre;overflow-x:auto;line-height:normal;font-family:Menlo,'DejaVu Sans Mono',consolas,'Courier New',monospace\"><span style=\"color: #7fbfbf; text-decoration-color: #7fbfbf\">                    </span><span style=\"color: #008000; text-decoration-color: #008000\">INFO    </span> Animation <span style=\"color: #008000; text-decoration-color: #008000\">2</span> : Partial movie file        <a href=\"file://D:\\Python39\\lib\\site-packages\\manim\\scene\\scene_file_writer.py\"><span style=\"color: #7f7f7f; text-decoration-color: #7f7f7f\">scene_file_writer.py</span></a><span style=\"color: #7f7f7f; text-decoration-color: #7f7f7f\">:</span><a href=\"file://D:\\Python39\\lib\\site-packages\\manim\\scene\\scene_file_writer.py#514\"><span style=\"color: #7f7f7f; text-decoration-color: #7f7f7f\">514</span></a>\n",
       "                             written in                                                      \n",
       "                             <span style=\"color: #008000; text-decoration-color: #008000\">'D:\\Programming\\Python\\jupyter </span>                                 \n",
       "                             <span style=\"color: #008000; text-decoration-color: #008000\">notebooks\\media\\videos\\jupyter notebook</span>                         \n",
       "                             <span style=\"color: #008000; text-decoration-color: #008000\">s\\480p15\\partial_movie_files\\PolyScene\\</span>                         \n",
       "                             <span style=\"color: #008000; text-decoration-color: #008000\">2201830969_398514950_2276654932.mp4'</span>                            \n",
       "</pre>\n"
      ],
      "text/plain": [
       "\u001b[2;36m                   \u001b[0m\u001b[2;36m \u001b[0m\u001b[32mINFO    \u001b[0m Animation \u001b[32m2\u001b[0m : Partial movie file        \u001b]8;id=59061;file://D:\\Python39\\lib\\site-packages\\manim\\scene\\scene_file_writer.py\u001b\\\u001b[2mscene_file_writer.py\u001b[0m\u001b]8;;\u001b\\\u001b[2m:\u001b[0m\u001b]8;id=871235;file://D:\\Python39\\lib\\site-packages\\manim\\scene\\scene_file_writer.py#514\u001b\\\u001b[2m514\u001b[0m\u001b]8;;\u001b\\\n",
       "                             written in                                                      \n",
       "                             \u001b[32m'D:\\Programming\\Python\\jupyter \u001b[0m                                 \n",
       "                             \u001b[32mnotebooks\\media\\videos\\jupyter notebook\u001b[0m                         \n",
       "                             \u001b[32ms\\480p15\\partial_movie_files\\PolyScene\\\u001b[0m                         \n",
       "                             \u001b[32m2201830969_398514950_2276654932.mp4'\u001b[0m                            \n"
      ]
     },
     "metadata": {},
     "output_type": "display_data"
    },
    {
     "name": "stderr",
     "output_type": "stream",
     "text": [
      "INFO:manim:Animation 2 : Partial movie file written in 'D:\\Programming\\Python\\jupyter notebooks\\media\\videos\\jupyter notebooks\\480p15\\partial_movie_files\\PolyScene\\2201830969_398514950_2276654932.mp4'\n"
     ]
    },
    {
     "data": {
      "text/html": [
       "<pre style=\"white-space:pre;overflow-x:auto;line-height:normal;font-family:Menlo,'DejaVu Sans Mono',consolas,'Courier New',monospace\"><span style=\"color: #7fbfbf; text-decoration-color: #7fbfbf\">                    </span><span style=\"color: #008000; text-decoration-color: #008000\">INFO    </span> Combining to Movie file.                <a href=\"file://D:\\Python39\\lib\\site-packages\\manim\\scene\\scene_file_writer.py\"><span style=\"color: #7f7f7f; text-decoration-color: #7f7f7f\">scene_file_writer.py</span></a><span style=\"color: #7f7f7f; text-decoration-color: #7f7f7f\">:</span><a href=\"file://D:\\Python39\\lib\\site-packages\\manim\\scene\\scene_file_writer.py#608\"><span style=\"color: #7f7f7f; text-decoration-color: #7f7f7f\">608</span></a>\n",
       "</pre>\n"
      ],
      "text/plain": [
       "\u001b[2;36m                   \u001b[0m\u001b[2;36m \u001b[0m\u001b[32mINFO    \u001b[0m Combining to Movie file.                \u001b]8;id=481870;file://D:\\Python39\\lib\\site-packages\\manim\\scene\\scene_file_writer.py\u001b\\\u001b[2mscene_file_writer.py\u001b[0m\u001b]8;;\u001b\\\u001b[2m:\u001b[0m\u001b]8;id=729571;file://D:\\Python39\\lib\\site-packages\\manim\\scene\\scene_file_writer.py#608\u001b\\\u001b[2m608\u001b[0m\u001b]8;;\u001b\\\n"
      ]
     },
     "metadata": {},
     "output_type": "display_data"
    },
    {
     "name": "stderr",
     "output_type": "stream",
     "text": [
      "INFO:manim:Combining to Movie file.\n"
     ]
    },
    {
     "data": {
      "text/html": [
       "<pre style=\"white-space:pre;overflow-x:auto;line-height:normal;font-family:Menlo,'DejaVu Sans Mono',consolas,'Courier New',monospace\"><span style=\"color: #7fbfbf; text-decoration-color: #7fbfbf\">                    </span><span style=\"color: #008000; text-decoration-color: #008000\">INFO    </span>                                         <a href=\"file://D:\\Python39\\lib\\site-packages\\manim\\scene\\scene_file_writer.py\"><span style=\"color: #7f7f7f; text-decoration-color: #7f7f7f\">scene_file_writer.py</span></a><span style=\"color: #7f7f7f; text-decoration-color: #7f7f7f\">:</span><a href=\"file://D:\\Python39\\lib\\site-packages\\manim\\scene\\scene_file_writer.py#729\"><span style=\"color: #7f7f7f; text-decoration-color: #7f7f7f\">729</span></a>\n",
       "                             <span style=\"color: #808000; text-decoration-color: #808000; font-weight: bold\">File</span> ready at                                                   \n",
       "                             <span style=\"color: #008000; text-decoration-color: #008000\">'D:\\Programming\\Python\\jupyter </span>                                 \n",
       "                             <span style=\"color: #008000; text-decoration-color: #008000\">notebooks\\media\\videos\\jupyter </span>                                 \n",
       "                             <span style=\"color: #008000; text-decoration-color: #008000\">notebooks\\480p15\\PolyScene.mp4'</span>                                 \n",
       "                                                                                             \n",
       "</pre>\n"
      ],
      "text/plain": [
       "\u001b[2;36m                   \u001b[0m\u001b[2;36m \u001b[0m\u001b[32mINFO    \u001b[0m                                         \u001b]8;id=212817;file://D:\\Python39\\lib\\site-packages\\manim\\scene\\scene_file_writer.py\u001b\\\u001b[2mscene_file_writer.py\u001b[0m\u001b]8;;\u001b\\\u001b[2m:\u001b[0m\u001b]8;id=571787;file://D:\\Python39\\lib\\site-packages\\manim\\scene\\scene_file_writer.py#729\u001b\\\u001b[2m729\u001b[0m\u001b]8;;\u001b\\\n",
       "                             \u001b[1;33mFile\u001b[0m ready at                                                   \n",
       "                             \u001b[32m'D:\\Programming\\Python\\jupyter \u001b[0m                                 \n",
       "                             \u001b[32mnotebooks\\media\\videos\\jupyter \u001b[0m                                 \n",
       "                             \u001b[32mnotebooks\\480p15\\PolyScene.mp4'\u001b[0m                                 \n",
       "                                                                                             \n"
      ]
     },
     "metadata": {},
     "output_type": "display_data"
    },
    {
     "name": "stderr",
     "output_type": "stream",
     "text": [
      "INFO:manim:\n",
      "File ready at 'D:\\Programming\\Python\\jupyter notebooks\\media\\videos\\jupyter notebooks\\480p15\\PolyScene.mp4'\n",
      "\n"
     ]
    },
    {
     "data": {
      "text/html": [
       "<pre style=\"white-space:pre;overflow-x:auto;line-height:normal;font-family:Menlo,'DejaVu Sans Mono',consolas,'Courier New',monospace\"><span style=\"color: #7fbfbf; text-decoration-color: #7fbfbf\">                    </span><span style=\"color: #008000; text-decoration-color: #008000\">INFO    </span> <span style=\"color: #808000; text-decoration-color: #808000; font-weight: bold\">Rendered</span> PolyScene                                  <a href=\"file://D:\\Python39\\lib\\site-packages\\manim\\scene\\scene.py\"><span style=\"color: #7f7f7f; text-decoration-color: #7f7f7f\">scene.py</span></a><span style=\"color: #7f7f7f; text-decoration-color: #7f7f7f\">:</span><a href=\"file://D:\\Python39\\lib\\site-packages\\manim\\scene\\scene.py#237\"><span style=\"color: #7f7f7f; text-decoration-color: #7f7f7f\">237</span></a>\n",
       "                             <span style=\"color: #808000; text-decoration-color: #808000; font-weight: bold\">Played</span> <span style=\"color: #008000; text-decoration-color: #008000\">3</span> <span style=\"color: #808000; text-decoration-color: #808000; font-weight: bold\">animations</span>                                             \n",
       "</pre>\n"
      ],
      "text/plain": [
       "\u001b[2;36m                   \u001b[0m\u001b[2;36m \u001b[0m\u001b[32mINFO    \u001b[0m \u001b[1;33mRendered\u001b[0m PolyScene                                  \u001b]8;id=837548;file://D:\\Python39\\lib\\site-packages\\manim\\scene\\scene.py\u001b\\\u001b[2mscene.py\u001b[0m\u001b]8;;\u001b\\\u001b[2m:\u001b[0m\u001b]8;id=437270;file://D:\\Python39\\lib\\site-packages\\manim\\scene\\scene.py#237\u001b\\\u001b[2m237\u001b[0m\u001b]8;;\u001b\\\n",
       "                             \u001b[1;33mPlayed\u001b[0m \u001b[32m3\u001b[0m \u001b[1;33manimations\u001b[0m                                             \n"
      ]
     },
     "metadata": {},
     "output_type": "display_data"
    },
    {
     "name": "stderr",
     "output_type": "stream",
     "text": [
      "INFO:manim:Rendered PolyScene\n",
      "Played 3 animations\n"
     ]
    },
    {
     "data": {
      "text/html": [
       "<video src=\"media\\jupyter\\PolyScene@2022-03-21@15-31-48.mp4\" controls autoplay loop style=\"max-width: 60%;\"  >\n",
       "      Your browser does not support the <code>video</code> element.\n",
       "    </video>"
      ],
      "text/plain": [
       "<IPython.core.display.Video object>"
      ]
     },
     "metadata": {},
     "output_type": "display_data"
    }
   ],
   "source": [
    "%%manim PolyScene\n",
    "class Poly(Animation):\n",
    "    def __init__(self, mob: RegularPolygon, start: float, end: float, **kwargs) -> None:\n",
    "        # Pass number as the mobject of the animation\n",
    "        super().__init__(mob,  **kwargs)\n",
    "        # Set start and end\n",
    "        self.start = start\n",
    "        self.end = end\n",
    "\n",
    "    def interpolate_mobject(self, alpha: float) -> None:\n",
    "        # Set value of DecimalNumber according to alpha\n",
    "        value = self.start + (alpha * (self.end - self.start))\n",
    "        self.mobject.become(RegularPolygon(n=int(value)))\n",
    "\n",
    "\n",
    "class PolyScene(Scene):\n",
    "    def construct(self):\n",
    "        # Create Decimal Number and add it to scene\n",
    "        mob = RegularPolygon(n=3)\n",
    "#         mob.add_updater(lambda mob: mob.center())\n",
    "\n",
    "        self.add(mob)\n",
    "        self.wait()\n",
    "\n",
    "        # Play the Count Animation to count from 0 to 100 in 4 seconds\n",
    "        self.play(Poly(mob, 3, 11), run_time=1, rate_func=linear)\n",
    "        self.wait()"
   ]
  },
  {
   "cell_type": "code",
   "execution_count": 51,
   "id": "eac9868c-7a24-4169-b2dc-bda052ca1daa",
   "metadata": {
    "tags": []
   },
   "outputs": [
    {
     "data": {
      "text/html": [
       "<pre style=\"white-space:pre;overflow-x:auto;line-height:normal;font-family:Menlo,'DejaVu Sans Mono',consolas,'Courier New',monospace\"><span style=\"color: #7fbfbf; text-decoration-color: #7fbfbf\">[03/21/22 15:25:55] </span><span style=\"color: #008000; text-decoration-color: #008000\">INFO    </span> Animation <span style=\"color: #008000; text-decoration-color: #008000\">0</span> : Using cached data <span style=\"font-weight: bold\">(</span>hash :     <a href=\"file://D:\\Python39\\lib\\site-packages\\manim\\renderer\\cairo_renderer.py\"><span style=\"color: #7f7f7f; text-decoration-color: #7f7f7f\">cairo_renderer.py</span></a><span style=\"color: #7f7f7f; text-decoration-color: #7f7f7f\">:</span><a href=\"file://D:\\Python39\\lib\\site-packages\\manim\\renderer\\cairo_renderer.py#74\"><span style=\"color: #7f7f7f; text-decoration-color: #7f7f7f\">74</span></a>\n",
       "                             3163782288_1515588106_790871225<span style=\"font-weight: bold\">)</span>                                \n",
       "</pre>\n"
      ],
      "text/plain": [
       "\u001b[2;36m[03/21/22 15:25:55]\u001b[0m\u001b[2;36m \u001b[0m\u001b[32mINFO    \u001b[0m Animation \u001b[32m0\u001b[0m : Using cached data \u001b[1m(\u001b[0mhash :     \u001b]8;id=15268;file://D:\\Python39\\lib\\site-packages\\manim\\renderer\\cairo_renderer.py\u001b\\\u001b[2mcairo_renderer.py\u001b[0m\u001b]8;;\u001b\\\u001b[2m:\u001b[0m\u001b]8;id=446834;file://D:\\Python39\\lib\\site-packages\\manim\\renderer\\cairo_renderer.py#74\u001b\\\u001b[2m74\u001b[0m\u001b]8;;\u001b\\\n",
       "                             3163782288_1515588106_790871225\u001b[1m)\u001b[0m                                \n"
      ]
     },
     "metadata": {},
     "output_type": "display_data"
    },
    {
     "name": "stderr",
     "output_type": "stream",
     "text": [
      "INFO:manim:Animation 0 : Using cached data (hash : 3163782288_1515588106_790871225)\n"
     ]
    },
    {
     "data": {
      "text/html": [
       "<pre style=\"white-space:pre;overflow-x:auto;line-height:normal;font-family:Menlo,'DejaVu Sans Mono',consolas,'Courier New',monospace\"><span style=\"color: #7fbfbf; text-decoration-color: #7fbfbf\">                    </span><span style=\"color: #008000; text-decoration-color: #008000\">INFO    </span> Animation <span style=\"color: #008000; text-decoration-color: #008000\">1</span> : Using cached data <span style=\"font-weight: bold\">(</span>hash :     <a href=\"file://D:\\Python39\\lib\\site-packages\\manim\\renderer\\cairo_renderer.py\"><span style=\"color: #7f7f7f; text-decoration-color: #7f7f7f\">cairo_renderer.py</span></a><span style=\"color: #7f7f7f; text-decoration-color: #7f7f7f\">:</span><a href=\"file://D:\\Python39\\lib\\site-packages\\manim\\renderer\\cairo_renderer.py#74\"><span style=\"color: #7f7f7f; text-decoration-color: #7f7f7f\">74</span></a>\n",
       "                             2201830969_1934647765_1719172886<span style=\"font-weight: bold\">)</span>                               \n",
       "</pre>\n"
      ],
      "text/plain": [
       "\u001b[2;36m                   \u001b[0m\u001b[2;36m \u001b[0m\u001b[32mINFO    \u001b[0m Animation \u001b[32m1\u001b[0m : Using cached data \u001b[1m(\u001b[0mhash :     \u001b]8;id=145323;file://D:\\Python39\\lib\\site-packages\\manim\\renderer\\cairo_renderer.py\u001b\\\u001b[2mcairo_renderer.py\u001b[0m\u001b]8;;\u001b\\\u001b[2m:\u001b[0m\u001b]8;id=547438;file://D:\\Python39\\lib\\site-packages\\manim\\renderer\\cairo_renderer.py#74\u001b\\\u001b[2m74\u001b[0m\u001b]8;;\u001b\\\n",
       "                             2201830969_1934647765_1719172886\u001b[1m)\u001b[0m                               \n"
      ]
     },
     "metadata": {},
     "output_type": "display_data"
    },
    {
     "name": "stderr",
     "output_type": "stream",
     "text": [
      "INFO:manim:Animation 1 : Using cached data (hash : 2201830969_1934647765_1719172886)\n",
      "                                                         \r"
     ]
    },
    {
     "data": {
      "text/html": [
       "<pre style=\"white-space:pre;overflow-x:auto;line-height:normal;font-family:Menlo,'DejaVu Sans Mono',consolas,'Courier New',monospace\"><span style=\"color: #7fbfbf; text-decoration-color: #7fbfbf\">[03/21/22 15:25:56] </span><span style=\"color: #008000; text-decoration-color: #008000\">INFO    </span> Animation <span style=\"color: #008000; text-decoration-color: #008000\">2</span> : Partial movie file        <a href=\"file://D:\\Python39\\lib\\site-packages\\manim\\scene\\scene_file_writer.py\"><span style=\"color: #7f7f7f; text-decoration-color: #7f7f7f\">scene_file_writer.py</span></a><span style=\"color: #7f7f7f; text-decoration-color: #7f7f7f\">:</span><a href=\"file://D:\\Python39\\lib\\site-packages\\manim\\scene\\scene_file_writer.py#514\"><span style=\"color: #7f7f7f; text-decoration-color: #7f7f7f\">514</span></a>\n",
       "                             written in                                                      \n",
       "                             <span style=\"color: #008000; text-decoration-color: #008000\">'D:\\Programming\\Python\\jupyter </span>                                 \n",
       "                             <span style=\"color: #008000; text-decoration-color: #008000\">notebooks\\media\\videos\\jupyter notebook</span>                         \n",
       "                             <span style=\"color: #008000; text-decoration-color: #008000\">s\\480p15\\partial_movie_files\\CountingSc</span>                         \n",
       "                             <span style=\"color: #008000; text-decoration-color: #008000\">ene\\2201830969_398514950_3782405458.mp4</span>                         \n",
       "                             <span style=\"color: #008000; text-decoration-color: #008000\">'</span>                                                               \n",
       "</pre>\n"
      ],
      "text/plain": [
       "\u001b[2;36m[03/21/22 15:25:56]\u001b[0m\u001b[2;36m \u001b[0m\u001b[32mINFO    \u001b[0m Animation \u001b[32m2\u001b[0m : Partial movie file        \u001b]8;id=754520;file://D:\\Python39\\lib\\site-packages\\manim\\scene\\scene_file_writer.py\u001b\\\u001b[2mscene_file_writer.py\u001b[0m\u001b]8;;\u001b\\\u001b[2m:\u001b[0m\u001b]8;id=614294;file://D:\\Python39\\lib\\site-packages\\manim\\scene\\scene_file_writer.py#514\u001b\\\u001b[2m514\u001b[0m\u001b]8;;\u001b\\\n",
       "                             written in                                                      \n",
       "                             \u001b[32m'D:\\Programming\\Python\\jupyter \u001b[0m                                 \n",
       "                             \u001b[32mnotebooks\\media\\videos\\jupyter notebook\u001b[0m                         \n",
       "                             \u001b[32ms\\480p15\\partial_movie_files\\CountingSc\u001b[0m                         \n",
       "                             \u001b[32mene\\2201830969_398514950_3782405458.mp4\u001b[0m                         \n",
       "                             \u001b[32m'\u001b[0m                                                               \n"
      ]
     },
     "metadata": {},
     "output_type": "display_data"
    },
    {
     "name": "stderr",
     "output_type": "stream",
     "text": [
      "INFO:manim:Animation 2 : Partial movie file written in 'D:\\Programming\\Python\\jupyter notebooks\\media\\videos\\jupyter notebooks\\480p15\\partial_movie_files\\CountingScene\\2201830969_398514950_3782405458.mp4'\n"
     ]
    },
    {
     "data": {
      "text/html": [
       "<pre style=\"white-space:pre;overflow-x:auto;line-height:normal;font-family:Menlo,'DejaVu Sans Mono',consolas,'Courier New',monospace\"><span style=\"color: #7fbfbf; text-decoration-color: #7fbfbf\">                    </span><span style=\"color: #008000; text-decoration-color: #008000\">INFO    </span> Combining to Movie file.                <a href=\"file://D:\\Python39\\lib\\site-packages\\manim\\scene\\scene_file_writer.py\"><span style=\"color: #7f7f7f; text-decoration-color: #7f7f7f\">scene_file_writer.py</span></a><span style=\"color: #7f7f7f; text-decoration-color: #7f7f7f\">:</span><a href=\"file://D:\\Python39\\lib\\site-packages\\manim\\scene\\scene_file_writer.py#608\"><span style=\"color: #7f7f7f; text-decoration-color: #7f7f7f\">608</span></a>\n",
       "</pre>\n"
      ],
      "text/plain": [
       "\u001b[2;36m                   \u001b[0m\u001b[2;36m \u001b[0m\u001b[32mINFO    \u001b[0m Combining to Movie file.                \u001b]8;id=830115;file://D:\\Python39\\lib\\site-packages\\manim\\scene\\scene_file_writer.py\u001b\\\u001b[2mscene_file_writer.py\u001b[0m\u001b]8;;\u001b\\\u001b[2m:\u001b[0m\u001b]8;id=144089;file://D:\\Python39\\lib\\site-packages\\manim\\scene\\scene_file_writer.py#608\u001b\\\u001b[2m608\u001b[0m\u001b]8;;\u001b\\\n"
      ]
     },
     "metadata": {},
     "output_type": "display_data"
    },
    {
     "name": "stderr",
     "output_type": "stream",
     "text": [
      "INFO:manim:Combining to Movie file.\n"
     ]
    },
    {
     "data": {
      "text/html": [
       "<pre style=\"white-space:pre;overflow-x:auto;line-height:normal;font-family:Menlo,'DejaVu Sans Mono',consolas,'Courier New',monospace\"><span style=\"color: #7fbfbf; text-decoration-color: #7fbfbf\">                    </span><span style=\"color: #008000; text-decoration-color: #008000\">INFO    </span>                                         <a href=\"file://D:\\Python39\\lib\\site-packages\\manim\\scene\\scene_file_writer.py\"><span style=\"color: #7f7f7f; text-decoration-color: #7f7f7f\">scene_file_writer.py</span></a><span style=\"color: #7f7f7f; text-decoration-color: #7f7f7f\">:</span><a href=\"file://D:\\Python39\\lib\\site-packages\\manim\\scene\\scene_file_writer.py#729\"><span style=\"color: #7f7f7f; text-decoration-color: #7f7f7f\">729</span></a>\n",
       "                             <span style=\"color: #808000; text-decoration-color: #808000; font-weight: bold\">File</span> ready at                                                   \n",
       "                             <span style=\"color: #008000; text-decoration-color: #008000\">'D:\\Programming\\Python\\jupyter </span>                                 \n",
       "                             <span style=\"color: #008000; text-decoration-color: #008000\">notebooks\\media\\videos\\jupyter </span>                                 \n",
       "                             <span style=\"color: #008000; text-decoration-color: #008000\">notebooks\\480p15\\CountingScene.mp4'</span>                             \n",
       "                                                                                             \n",
       "</pre>\n"
      ],
      "text/plain": [
       "\u001b[2;36m                   \u001b[0m\u001b[2;36m \u001b[0m\u001b[32mINFO    \u001b[0m                                         \u001b]8;id=448769;file://D:\\Python39\\lib\\site-packages\\manim\\scene\\scene_file_writer.py\u001b\\\u001b[2mscene_file_writer.py\u001b[0m\u001b]8;;\u001b\\\u001b[2m:\u001b[0m\u001b]8;id=372275;file://D:\\Python39\\lib\\site-packages\\manim\\scene\\scene_file_writer.py#729\u001b\\\u001b[2m729\u001b[0m\u001b]8;;\u001b\\\n",
       "                             \u001b[1;33mFile\u001b[0m ready at                                                   \n",
       "                             \u001b[32m'D:\\Programming\\Python\\jupyter \u001b[0m                                 \n",
       "                             \u001b[32mnotebooks\\media\\videos\\jupyter \u001b[0m                                 \n",
       "                             \u001b[32mnotebooks\\480p15\\CountingScene.mp4'\u001b[0m                             \n",
       "                                                                                             \n"
      ]
     },
     "metadata": {},
     "output_type": "display_data"
    },
    {
     "name": "stderr",
     "output_type": "stream",
     "text": [
      "INFO:manim:\n",
      "File ready at 'D:\\Programming\\Python\\jupyter notebooks\\media\\videos\\jupyter notebooks\\480p15\\CountingScene.mp4'\n",
      "\n"
     ]
    },
    {
     "data": {
      "text/html": [
       "<pre style=\"white-space:pre;overflow-x:auto;line-height:normal;font-family:Menlo,'DejaVu Sans Mono',consolas,'Courier New',monospace\"><span style=\"color: #7fbfbf; text-decoration-color: #7fbfbf\">                    </span><span style=\"color: #008000; text-decoration-color: #008000\">INFO    </span> <span style=\"color: #808000; text-decoration-color: #808000; font-weight: bold\">Rendered</span> CountingScene                              <a href=\"file://D:\\Python39\\lib\\site-packages\\manim\\scene\\scene.py\"><span style=\"color: #7f7f7f; text-decoration-color: #7f7f7f\">scene.py</span></a><span style=\"color: #7f7f7f; text-decoration-color: #7f7f7f\">:</span><a href=\"file://D:\\Python39\\lib\\site-packages\\manim\\scene\\scene.py#237\"><span style=\"color: #7f7f7f; text-decoration-color: #7f7f7f\">237</span></a>\n",
       "                             <span style=\"color: #808000; text-decoration-color: #808000; font-weight: bold\">Played</span> <span style=\"color: #008000; text-decoration-color: #008000\">3</span> <span style=\"color: #808000; text-decoration-color: #808000; font-weight: bold\">animations</span>                                             \n",
       "</pre>\n"
      ],
      "text/plain": [
       "\u001b[2;36m                   \u001b[0m\u001b[2;36m \u001b[0m\u001b[32mINFO    \u001b[0m \u001b[1;33mRendered\u001b[0m CountingScene                              \u001b]8;id=240026;file://D:\\Python39\\lib\\site-packages\\manim\\scene\\scene.py\u001b\\\u001b[2mscene.py\u001b[0m\u001b]8;;\u001b\\\u001b[2m:\u001b[0m\u001b]8;id=589104;file://D:\\Python39\\lib\\site-packages\\manim\\scene\\scene.py#237\u001b\\\u001b[2m237\u001b[0m\u001b]8;;\u001b\\\n",
       "                             \u001b[1;33mPlayed\u001b[0m \u001b[32m3\u001b[0m \u001b[1;33manimations\u001b[0m                                             \n"
      ]
     },
     "metadata": {},
     "output_type": "display_data"
    },
    {
     "name": "stderr",
     "output_type": "stream",
     "text": [
      "INFO:manim:Rendered CountingScene\n",
      "Played 3 animations\n"
     ]
    },
    {
     "data": {
      "text/html": [
       "<video src=\"media\\jupyter\\CountingScene@2022-03-21@15-25-56.mp4\" controls autoplay loop style=\"max-width: 60%;\"  >\n",
       "      Your browser does not support the <code>video</code> element.\n",
       "    </video>"
      ],
      "text/plain": [
       "<IPython.core.display.Video object>"
      ]
     },
     "metadata": {},
     "output_type": "display_data"
    }
   ],
   "source": [
    "%%manim CountingScene\n",
    "class Count(Animation):\n",
    "    def __init__(self, number: DecimalNumber, start: float, end: float, **kwargs) -> None:\n",
    "        # Pass number as the mobject of the animation\n",
    "        super().__init__(number,  **kwargs)\n",
    "        # Set start and end\n",
    "        self.start = start\n",
    "        self.end = end\n",
    "\n",
    "    def interpolate_mobject(self, alpha: float) -> None:\n",
    "        # Set value of DecimalNumber according to alpha\n",
    "        value = self.start + (alpha * (self.end - self.start))\n",
    "        self.mobject.set_value(value)\n",
    "\n",
    "\n",
    "class CountingScene(Scene):\n",
    "    def construct(self):\n",
    "        # Create Decimal Number and add it to scene\n",
    "        number = DecimalNumber().scale(5)\n",
    "        # Add an updater to keep the DecimalNumber centered as its value changes\n",
    "        number.add_updater(lambda number: number.move_to(ORIGIN))\n",
    "\n",
    "        self.add(number)\n",
    "\n",
    "        self.wait()\n",
    "\n",
    "        # Play the Count Animation to count from 0 to 100 in 4 seconds\n",
    "        self.play(Count(number, 0, 100), run_time=1, rate_func=linear)\n",
    "\n",
    "        self.wait()"
   ]
  },
  {
   "cell_type": "code",
   "execution_count": 50,
   "id": "018f6977-1f9a-4a22-8ad6-ee33a182516f",
   "metadata": {},
   "outputs": [
    {
     "data": {
      "text/html": [
       "<pre style=\"white-space:pre;overflow-x:auto;line-height:normal;font-family:Menlo,'DejaVu Sans Mono',consolas,'Courier New',monospace\"><span style=\"color: #7fbfbf; text-decoration-color: #7fbfbf\">[03/21/22 15:25:23] </span><span style=\"color: #008000; text-decoration-color: #008000\">INFO    </span> Animation <span style=\"color: #008000; text-decoration-color: #008000\">0</span> : Using cached data <span style=\"font-weight: bold\">(</span>hash :     <a href=\"file://D:\\Python39\\lib\\site-packages\\manim\\renderer\\cairo_renderer.py\"><span style=\"color: #7f7f7f; text-decoration-color: #7f7f7f\">cairo_renderer.py</span></a><span style=\"color: #7f7f7f; text-decoration-color: #7f7f7f\">:</span><a href=\"file://D:\\Python39\\lib\\site-packages\\manim\\renderer\\cairo_renderer.py#74\"><span style=\"color: #7f7f7f; text-decoration-color: #7f7f7f\">74</span></a>\n",
       "                             3163782288_2476440913_2381069866<span style=\"font-weight: bold\">)</span>                               \n",
       "</pre>\n"
      ],
      "text/plain": [
       "\u001b[2;36m[03/21/22 15:25:23]\u001b[0m\u001b[2;36m \u001b[0m\u001b[32mINFO    \u001b[0m Animation \u001b[32m0\u001b[0m : Using cached data \u001b[1m(\u001b[0mhash :     \u001b]8;id=447061;file://D:\\Python39\\lib\\site-packages\\manim\\renderer\\cairo_renderer.py\u001b\\\u001b[2mcairo_renderer.py\u001b[0m\u001b]8;;\u001b\\\u001b[2m:\u001b[0m\u001b]8;id=702526;file://D:\\Python39\\lib\\site-packages\\manim\\renderer\\cairo_renderer.py#74\u001b\\\u001b[2m74\u001b[0m\u001b]8;;\u001b\\\n",
       "                             3163782288_2476440913_2381069866\u001b[1m)\u001b[0m                               \n"
      ]
     },
     "metadata": {},
     "output_type": "display_data"
    },
    {
     "name": "stderr",
     "output_type": "stream",
     "text": [
      "INFO:manim:Animation 0 : Using cached data (hash : 3163782288_2476440913_2381069866)\n",
      "                                                         \r"
     ]
    },
    {
     "data": {
      "text/html": [
       "<pre style=\"white-space:pre;overflow-x:auto;line-height:normal;font-family:Menlo,'DejaVu Sans Mono',consolas,'Courier New',monospace\"><span style=\"color: #7fbfbf; text-decoration-color: #7fbfbf\">                    </span><span style=\"color: #008000; text-decoration-color: #008000\">INFO    </span> Animation <span style=\"color: #008000; text-decoration-color: #008000\">1</span> : Using cached data <span style=\"font-weight: bold\">(</span>hash :     <a href=\"file://D:\\Python39\\lib\\site-packages\\manim\\renderer\\cairo_renderer.py\"><span style=\"color: #7f7f7f; text-decoration-color: #7f7f7f\">cairo_renderer.py</span></a><span style=\"color: #7f7f7f; text-decoration-color: #7f7f7f\">:</span><a href=\"file://D:\\Python39\\lib\\site-packages\\manim\\renderer\\cairo_renderer.py#74\"><span style=\"color: #7f7f7f; text-decoration-color: #7f7f7f\">74</span></a>\n",
       "                             2201830969_1419267189_2381069866<span style=\"font-weight: bold\">)</span>                               \n",
       "</pre>\n"
      ],
      "text/plain": [
       "\u001b[2;36m                   \u001b[0m\u001b[2;36m \u001b[0m\u001b[32mINFO    \u001b[0m Animation \u001b[32m1\u001b[0m : Using cached data \u001b[1m(\u001b[0mhash :     \u001b]8;id=347889;file://D:\\Python39\\lib\\site-packages\\manim\\renderer\\cairo_renderer.py\u001b\\\u001b[2mcairo_renderer.py\u001b[0m\u001b]8;;\u001b\\\u001b[2m:\u001b[0m\u001b]8;id=461179;file://D:\\Python39\\lib\\site-packages\\manim\\renderer\\cairo_renderer.py#74\u001b\\\u001b[2m74\u001b[0m\u001b]8;;\u001b\\\n",
       "                             2201830969_1419267189_2381069866\u001b[1m)\u001b[0m                               \n"
      ]
     },
     "metadata": {},
     "output_type": "display_data"
    },
    {
     "name": "stderr",
     "output_type": "stream",
     "text": [
      "INFO:manim:Animation 1 : Using cached data (hash : 2201830969_1419267189_2381069866)\n",
      "                                                         \r"
     ]
    },
    {
     "data": {
      "text/html": [
       "<pre style=\"white-space:pre;overflow-x:auto;line-height:normal;font-family:Menlo,'DejaVu Sans Mono',consolas,'Courier New',monospace\"><span style=\"color: #7fbfbf; text-decoration-color: #7fbfbf\">[03/21/22 15:25:24] </span><span style=\"color: #008000; text-decoration-color: #008000\">INFO    </span> Animation <span style=\"color: #008000; text-decoration-color: #008000\">2</span> : Partial movie file        <a href=\"file://D:\\Python39\\lib\\site-packages\\manim\\scene\\scene_file_writer.py\"><span style=\"color: #7f7f7f; text-decoration-color: #7f7f7f\">scene_file_writer.py</span></a><span style=\"color: #7f7f7f; text-decoration-color: #7f7f7f\">:</span><a href=\"file://D:\\Python39\\lib\\site-packages\\manim\\scene\\scene_file_writer.py#514\"><span style=\"color: #7f7f7f; text-decoration-color: #7f7f7f\">514</span></a>\n",
       "                             written in                                                      \n",
       "                             <span style=\"color: #008000; text-decoration-color: #008000\">'D:\\Programming\\Python\\jupyter </span>                                 \n",
       "                             <span style=\"color: #008000; text-decoration-color: #008000\">notebooks\\media\\videos\\jupyter notebook</span>                         \n",
       "                             <span style=\"color: #008000; text-decoration-color: #008000\">s\\480p15\\partial_movie_files\\test\\22018</span>                         \n",
       "                             <span style=\"color: #008000; text-decoration-color: #008000\">30969_730319499_2381069866.mp4'</span>                                 \n",
       "</pre>\n"
      ],
      "text/plain": [
       "\u001b[2;36m[03/21/22 15:25:24]\u001b[0m\u001b[2;36m \u001b[0m\u001b[32mINFO    \u001b[0m Animation \u001b[32m2\u001b[0m : Partial movie file        \u001b]8;id=762142;file://D:\\Python39\\lib\\site-packages\\manim\\scene\\scene_file_writer.py\u001b\\\u001b[2mscene_file_writer.py\u001b[0m\u001b]8;;\u001b\\\u001b[2m:\u001b[0m\u001b]8;id=615603;file://D:\\Python39\\lib\\site-packages\\manim\\scene\\scene_file_writer.py#514\u001b\\\u001b[2m514\u001b[0m\u001b]8;;\u001b\\\n",
       "                             written in                                                      \n",
       "                             \u001b[32m'D:\\Programming\\Python\\jupyter \u001b[0m                                 \n",
       "                             \u001b[32mnotebooks\\media\\videos\\jupyter notebook\u001b[0m                         \n",
       "                             \u001b[32ms\\480p15\\partial_movie_files\\test\\22018\u001b[0m                         \n",
       "                             \u001b[32m30969_730319499_2381069866.mp4'\u001b[0m                                 \n"
      ]
     },
     "metadata": {},
     "output_type": "display_data"
    },
    {
     "name": "stderr",
     "output_type": "stream",
     "text": [
      "INFO:manim:Animation 2 : Partial movie file written in 'D:\\Programming\\Python\\jupyter notebooks\\media\\videos\\jupyter notebooks\\480p15\\partial_movie_files\\test\\2201830969_730319499_2381069866.mp4'\n"
     ]
    },
    {
     "data": {
      "text/html": [
       "<pre style=\"white-space:pre;overflow-x:auto;line-height:normal;font-family:Menlo,'DejaVu Sans Mono',consolas,'Courier New',monospace\"><span style=\"color: #7fbfbf; text-decoration-color: #7fbfbf\">                    </span><span style=\"color: #008000; text-decoration-color: #008000\">INFO    </span> Animation <span style=\"color: #008000; text-decoration-color: #008000\">3</span> : Using cached data <span style=\"font-weight: bold\">(</span>hash :     <a href=\"file://D:\\Python39\\lib\\site-packages\\manim\\renderer\\cairo_renderer.py\"><span style=\"color: #7f7f7f; text-decoration-color: #7f7f7f\">cairo_renderer.py</span></a><span style=\"color: #7f7f7f; text-decoration-color: #7f7f7f\">:</span><a href=\"file://D:\\Python39\\lib\\site-packages\\manim\\renderer\\cairo_renderer.py#74\"><span style=\"color: #7f7f7f; text-decoration-color: #7f7f7f\">74</span></a>\n",
       "                             2201830969_2016662830_2381069866<span style=\"font-weight: bold\">)</span>                               \n",
       "</pre>\n"
      ],
      "text/plain": [
       "\u001b[2;36m                   \u001b[0m\u001b[2;36m \u001b[0m\u001b[32mINFO    \u001b[0m Animation \u001b[32m3\u001b[0m : Using cached data \u001b[1m(\u001b[0mhash :     \u001b]8;id=42004;file://D:\\Python39\\lib\\site-packages\\manim\\renderer\\cairo_renderer.py\u001b\\\u001b[2mcairo_renderer.py\u001b[0m\u001b]8;;\u001b\\\u001b[2m:\u001b[0m\u001b]8;id=274484;file://D:\\Python39\\lib\\site-packages\\manim\\renderer\\cairo_renderer.py#74\u001b\\\u001b[2m74\u001b[0m\u001b]8;;\u001b\\\n",
       "                             2201830969_2016662830_2381069866\u001b[1m)\u001b[0m                               \n"
      ]
     },
     "metadata": {},
     "output_type": "display_data"
    },
    {
     "name": "stderr",
     "output_type": "stream",
     "text": [
      "INFO:manim:Animation 3 : Using cached data (hash : 2201830969_2016662830_2381069866)\n",
      "                                                         \r"
     ]
    },
    {
     "data": {
      "text/html": [
       "<pre style=\"white-space:pre;overflow-x:auto;line-height:normal;font-family:Menlo,'DejaVu Sans Mono',consolas,'Courier New',monospace\"><span style=\"color: #7fbfbf; text-decoration-color: #7fbfbf\">                    </span><span style=\"color: #008000; text-decoration-color: #008000\">INFO    </span> Combining to Movie file.                <a href=\"file://D:\\Python39\\lib\\site-packages\\manim\\scene\\scene_file_writer.py\"><span style=\"color: #7f7f7f; text-decoration-color: #7f7f7f\">scene_file_writer.py</span></a><span style=\"color: #7f7f7f; text-decoration-color: #7f7f7f\">:</span><a href=\"file://D:\\Python39\\lib\\site-packages\\manim\\scene\\scene_file_writer.py#608\"><span style=\"color: #7f7f7f; text-decoration-color: #7f7f7f\">608</span></a>\n",
       "</pre>\n"
      ],
      "text/plain": [
       "\u001b[2;36m                   \u001b[0m\u001b[2;36m \u001b[0m\u001b[32mINFO    \u001b[0m Combining to Movie file.                \u001b]8;id=121753;file://D:\\Python39\\lib\\site-packages\\manim\\scene\\scene_file_writer.py\u001b\\\u001b[2mscene_file_writer.py\u001b[0m\u001b]8;;\u001b\\\u001b[2m:\u001b[0m\u001b]8;id=755885;file://D:\\Python39\\lib\\site-packages\\manim\\scene\\scene_file_writer.py#608\u001b\\\u001b[2m608\u001b[0m\u001b]8;;\u001b\\\n"
      ]
     },
     "metadata": {},
     "output_type": "display_data"
    },
    {
     "name": "stderr",
     "output_type": "stream",
     "text": [
      "INFO:manim:Combining to Movie file.\n"
     ]
    },
    {
     "data": {
      "text/html": [
       "<pre style=\"white-space:pre;overflow-x:auto;line-height:normal;font-family:Menlo,'DejaVu Sans Mono',consolas,'Courier New',monospace\"><span style=\"color: #7fbfbf; text-decoration-color: #7fbfbf\">                    </span><span style=\"color: #008000; text-decoration-color: #008000\">INFO    </span>                                         <a href=\"file://D:\\Python39\\lib\\site-packages\\manim\\scene\\scene_file_writer.py\"><span style=\"color: #7f7f7f; text-decoration-color: #7f7f7f\">scene_file_writer.py</span></a><span style=\"color: #7f7f7f; text-decoration-color: #7f7f7f\">:</span><a href=\"file://D:\\Python39\\lib\\site-packages\\manim\\scene\\scene_file_writer.py#729\"><span style=\"color: #7f7f7f; text-decoration-color: #7f7f7f\">729</span></a>\n",
       "                             <span style=\"color: #808000; text-decoration-color: #808000; font-weight: bold\">File</span> ready at                                                   \n",
       "                             <span style=\"color: #008000; text-decoration-color: #008000\">'D:\\Programming\\Python\\jupyter </span>                                 \n",
       "                             <span style=\"color: #008000; text-decoration-color: #008000\">notebooks\\media\\videos\\jupyter </span>                                 \n",
       "                             <span style=\"color: #008000; text-decoration-color: #008000\">notebooks\\480p15\\test.mp4'</span>                                      \n",
       "                                                                                             \n",
       "</pre>\n"
      ],
      "text/plain": [
       "\u001b[2;36m                   \u001b[0m\u001b[2;36m \u001b[0m\u001b[32mINFO    \u001b[0m                                         \u001b]8;id=290078;file://D:\\Python39\\lib\\site-packages\\manim\\scene\\scene_file_writer.py\u001b\\\u001b[2mscene_file_writer.py\u001b[0m\u001b]8;;\u001b\\\u001b[2m:\u001b[0m\u001b]8;id=383881;file://D:\\Python39\\lib\\site-packages\\manim\\scene\\scene_file_writer.py#729\u001b\\\u001b[2m729\u001b[0m\u001b]8;;\u001b\\\n",
       "                             \u001b[1;33mFile\u001b[0m ready at                                                   \n",
       "                             \u001b[32m'D:\\Programming\\Python\\jupyter \u001b[0m                                 \n",
       "                             \u001b[32mnotebooks\\media\\videos\\jupyter \u001b[0m                                 \n",
       "                             \u001b[32mnotebooks\\480p15\\test.mp4'\u001b[0m                                      \n",
       "                                                                                             \n"
      ]
     },
     "metadata": {},
     "output_type": "display_data"
    },
    {
     "name": "stderr",
     "output_type": "stream",
     "text": [
      "INFO:manim:\n",
      "File ready at 'D:\\Programming\\Python\\jupyter notebooks\\media\\videos\\jupyter notebooks\\480p15\\test.mp4'\n",
      "\n"
     ]
    },
    {
     "data": {
      "text/html": [
       "<pre style=\"white-space:pre;overflow-x:auto;line-height:normal;font-family:Menlo,'DejaVu Sans Mono',consolas,'Courier New',monospace\"><span style=\"color: #7fbfbf; text-decoration-color: #7fbfbf\">                    </span><span style=\"color: #008000; text-decoration-color: #008000\">INFO    </span> The partial movie directory is full <span style=\"font-weight: bold\">(</span>&gt;  <a href=\"file://D:\\Python39\\lib\\site-packages\\manim\\scene\\scene_file_writer.py\"><span style=\"color: #7f7f7f; text-decoration-color: #7f7f7f\">scene_file_writer.py</span></a><span style=\"color: #7f7f7f; text-decoration-color: #7f7f7f\">:</span><a href=\"file://D:\\Python39\\lib\\site-packages\\manim\\scene\\scene_file_writer.py#700\"><span style=\"color: #7f7f7f; text-decoration-color: #7f7f7f\">700</span></a>\n",
       "                             <span style=\"color: #008000; text-decoration-color: #008000\">100</span> files<span style=\"font-weight: bold\">)</span>. Therefore, manim has                                \n",
       "                             removed the <span style=\"color: #008000; text-decoration-color: #008000\">1</span> oldest <span style=\"color: #800080; text-decoration-color: #800080; font-weight: bold\">file</span><span style=\"font-weight: bold\">(</span>s<span style=\"font-weight: bold\">)</span>. You can                           \n",
       "                             change this behaviour by changing                               \n",
       "                             max_files_cached in config.                                     \n",
       "</pre>\n"
      ],
      "text/plain": [
       "\u001b[2;36m                   \u001b[0m\u001b[2;36m \u001b[0m\u001b[32mINFO    \u001b[0m The partial movie directory is full \u001b[1m(\u001b[0m>  \u001b]8;id=151337;file://D:\\Python39\\lib\\site-packages\\manim\\scene\\scene_file_writer.py\u001b\\\u001b[2mscene_file_writer.py\u001b[0m\u001b]8;;\u001b\\\u001b[2m:\u001b[0m\u001b]8;id=987159;file://D:\\Python39\\lib\\site-packages\\manim\\scene\\scene_file_writer.py#700\u001b\\\u001b[2m700\u001b[0m\u001b]8;;\u001b\\\n",
       "                             \u001b[32m100\u001b[0m files\u001b[1m)\u001b[0m. Therefore, manim has                                \n",
       "                             removed the \u001b[32m1\u001b[0m oldest \u001b[1;35mfile\u001b[0m\u001b[1m(\u001b[0ms\u001b[1m)\u001b[0m. You can                           \n",
       "                             change this behaviour by changing                               \n",
       "                             max_files_cached in config.                                     \n"
      ]
     },
     "metadata": {},
     "output_type": "display_data"
    },
    {
     "name": "stderr",
     "output_type": "stream",
     "text": [
      "INFO:manim:The partial movie directory is full (> 100 files). Therefore, manim has removed the 1 oldest file(s). You can change this behaviour by changing max_files_cached in config.\n"
     ]
    },
    {
     "data": {
      "text/html": [
       "<pre style=\"white-space:pre;overflow-x:auto;line-height:normal;font-family:Menlo,'DejaVu Sans Mono',consolas,'Courier New',monospace\"><span style=\"color: #7fbfbf; text-decoration-color: #7fbfbf\">                    </span><span style=\"color: #008000; text-decoration-color: #008000\">INFO    </span> <span style=\"color: #808000; text-decoration-color: #808000; font-weight: bold\">Rendered</span> test                                       <a href=\"file://D:\\Python39\\lib\\site-packages\\manim\\scene\\scene.py\"><span style=\"color: #7f7f7f; text-decoration-color: #7f7f7f\">scene.py</span></a><span style=\"color: #7f7f7f; text-decoration-color: #7f7f7f\">:</span><a href=\"file://D:\\Python39\\lib\\site-packages\\manim\\scene\\scene.py#237\"><span style=\"color: #7f7f7f; text-decoration-color: #7f7f7f\">237</span></a>\n",
       "                             <span style=\"color: #808000; text-decoration-color: #808000; font-weight: bold\">Played</span> <span style=\"color: #008000; text-decoration-color: #008000\">4</span> <span style=\"color: #808000; text-decoration-color: #808000; font-weight: bold\">animations</span>                                             \n",
       "</pre>\n"
      ],
      "text/plain": [
       "\u001b[2;36m                   \u001b[0m\u001b[2;36m \u001b[0m\u001b[32mINFO    \u001b[0m \u001b[1;33mRendered\u001b[0m test                                       \u001b]8;id=54366;file://D:\\Python39\\lib\\site-packages\\manim\\scene\\scene.py\u001b\\\u001b[2mscene.py\u001b[0m\u001b]8;;\u001b\\\u001b[2m:\u001b[0m\u001b]8;id=186713;file://D:\\Python39\\lib\\site-packages\\manim\\scene\\scene.py#237\u001b\\\u001b[2m237\u001b[0m\u001b]8;;\u001b\\\n",
       "                             \u001b[1;33mPlayed\u001b[0m \u001b[32m4\u001b[0m \u001b[1;33manimations\u001b[0m                                             \n"
      ]
     },
     "metadata": {},
     "output_type": "display_data"
    },
    {
     "name": "stderr",
     "output_type": "stream",
     "text": [
      "INFO:manim:Rendered test\n",
      "Played 4 animations\n"
     ]
    },
    {
     "data": {
      "text/html": [
       "<video src=\"media\\jupyter\\test@2022-03-21@15-25-24.mp4\" controls autoplay loop style=\"max-width: 60%;\"  >\n",
       "      Your browser does not support the <code>video</code> element.\n",
       "    </video>"
      ],
      "text/plain": [
       "<IPython.core.display.Video object>"
      ]
     },
     "metadata": {},
     "output_type": "display_data"
    }
   ],
   "source": [
    "%%manim test\n",
    "\n",
    "class FuncRotater(Animation):\n",
    "    \n",
    "    def __init__(self, dot, rev_func, *args, **kwargs) -> None:\n",
    "        # Pass number as the mobject of the animation\n",
    "        super().__init__(dot, *args, **kwargs)\n",
    "        self.dot = dot\n",
    "        self.rev_func = rev_func\n",
    "#     def interpolate_submobject(self, submobject, starting_submobject, alpha):\n",
    "#         submobject.points = np.array(starting_submobject.points)\n",
    "    def interpolate_mobject(self, alpha):\n",
    "#         Animation.interpolate_mobject(self, alpha)\n",
    "        angle_revs = self.rev_func(alpha)\n",
    "        self.mobject.rotate(angle_revs * TAU, about_point = ORIGIN)\n",
    "\n",
    "class test(Scene):\n",
    "    def construct(self):\n",
    "        circle = Circle()\n",
    "        dot = Dot()\n",
    "        dot2 = dot.copy().shift(RIGHT)\n",
    "        self.play(GrowFromCenter(dot))\n",
    "        self.play(Transform(dot, dot2))\n",
    "#         self.play(MoveAlongPath(dot, circle), run_time = 1, )\n",
    "        self.play(FuncRotater(dot, rev_func = lambda x : x % 0.25, run_time = 2, rate_func = linear))\n",
    "        self.play(FadeOut(dot))\n"
   ]
  },
  {
   "cell_type": "code",
   "execution_count": 46,
   "id": "8d0403e4-b398-42da-a1a6-f1c87ec57090",
   "metadata": {
    "collapsed": true,
    "jupyter": {
     "outputs_hidden": true,
     "source_hidden": true
    },
    "tags": []
   },
   "outputs": [
    {
     "data": {
      "text/html": [
       "<pre style=\"white-space:pre;overflow-x:auto;line-height:normal;font-family:Menlo,'DejaVu Sans Mono',consolas,'Courier New',monospace\"><span style=\"color: #7fbfbf; text-decoration-color: #7fbfbf\">                    </span><span style=\"color: #008000; text-decoration-color: #008000\">INFO    </span> Animation <span style=\"color: #008000; text-decoration-color: #008000\">0</span> : Using cached data <span style=\"font-weight: bold\">(</span>hash :     <a href=\"file://D:\\Python39\\lib\\site-packages\\manim\\renderer\\cairo_renderer.py\"><span style=\"color: #7f7f7f; text-decoration-color: #7f7f7f\">cairo_renderer.py</span></a><span style=\"color: #7f7f7f; text-decoration-color: #7f7f7f\">:</span><a href=\"file://D:\\Python39\\lib\\site-packages\\manim\\renderer\\cairo_renderer.py#74\"><span style=\"color: #7f7f7f; text-decoration-color: #7f7f7f\">74</span></a>\n",
       "                             3163782288_2061132743_1580301726<span style=\"font-weight: bold\">)</span>                               \n",
       "</pre>\n"
      ],
      "text/plain": [
       "\u001b[2;36m                   \u001b[0m\u001b[2;36m \u001b[0m\u001b[32mINFO    \u001b[0m Animation \u001b[32m0\u001b[0m : Using cached data \u001b[1m(\u001b[0mhash :     \u001b]8;id=8426;file://D:\\Python39\\lib\\site-packages\\manim\\renderer\\cairo_renderer.py\u001b\\\u001b[2mcairo_renderer.py\u001b[0m\u001b]8;;\u001b\\\u001b[2m:\u001b[0m\u001b]8;id=495775;file://D:\\Python39\\lib\\site-packages\\manim\\renderer\\cairo_renderer.py#74\u001b\\\u001b[2m74\u001b[0m\u001b]8;;\u001b\\\n",
       "                             3163782288_2061132743_1580301726\u001b[1m)\u001b[0m                               \n"
      ]
     },
     "metadata": {},
     "output_type": "display_data"
    },
    {
     "name": "stderr",
     "output_type": "stream",
     "text": [
      "INFO:manim:Animation 0 : Using cached data (hash : 3163782288_2061132743_1580301726)\n",
      "                                                         \r"
     ]
    },
    {
     "data": {
      "text/html": [
       "<pre style=\"white-space:pre;overflow-x:auto;line-height:normal;font-family:Menlo,'DejaVu Sans Mono',consolas,'Courier New',monospace\"><span style=\"color: #7fbfbf; text-decoration-color: #7fbfbf\">[03/21/22 15:22:28] </span><span style=\"color: #008000; text-decoration-color: #008000\">INFO    </span> Animation <span style=\"color: #008000; text-decoration-color: #008000\">1</span> : Using cached data <span style=\"font-weight: bold\">(</span>hash :     <a href=\"file://D:\\Python39\\lib\\site-packages\\manim\\renderer\\cairo_renderer.py\"><span style=\"color: #7f7f7f; text-decoration-color: #7f7f7f\">cairo_renderer.py</span></a><span style=\"color: #7f7f7f; text-decoration-color: #7f7f7f\">:</span><a href=\"file://D:\\Python39\\lib\\site-packages\\manim\\renderer\\cairo_renderer.py#74\"><span style=\"color: #7f7f7f; text-decoration-color: #7f7f7f\">74</span></a>\n",
       "                             2201830969_3858036053_797191953<span style=\"font-weight: bold\">)</span>                                \n",
       "</pre>\n"
      ],
      "text/plain": [
       "\u001b[2;36m[03/21/22 15:22:28]\u001b[0m\u001b[2;36m \u001b[0m\u001b[32mINFO    \u001b[0m Animation \u001b[32m1\u001b[0m : Using cached data \u001b[1m(\u001b[0mhash :     \u001b]8;id=163765;file://D:\\Python39\\lib\\site-packages\\manim\\renderer\\cairo_renderer.py\u001b\\\u001b[2mcairo_renderer.py\u001b[0m\u001b]8;;\u001b\\\u001b[2m:\u001b[0m\u001b]8;id=792055;file://D:\\Python39\\lib\\site-packages\\manim\\renderer\\cairo_renderer.py#74\u001b\\\u001b[2m74\u001b[0m\u001b]8;;\u001b\\\n",
       "                             2201830969_3858036053_797191953\u001b[1m)\u001b[0m                                \n"
      ]
     },
     "metadata": {},
     "output_type": "display_data"
    },
    {
     "name": "stderr",
     "output_type": "stream",
     "text": [
      "INFO:manim:Animation 1 : Using cached data (hash : 2201830969_3858036053_797191953)\n",
      "                                                         \r"
     ]
    },
    {
     "data": {
      "text/html": [
       "<pre style=\"white-space:pre;overflow-x:auto;line-height:normal;font-family:Menlo,'DejaVu Sans Mono',consolas,'Courier New',monospace\"><span style=\"color: #7fbfbf; text-decoration-color: #7fbfbf\">                    </span><span style=\"color: #008000; text-decoration-color: #008000\">INFO    </span> Combining to Movie file.                <a href=\"file://D:\\Python39\\lib\\site-packages\\manim\\scene\\scene_file_writer.py\"><span style=\"color: #7f7f7f; text-decoration-color: #7f7f7f\">scene_file_writer.py</span></a><span style=\"color: #7f7f7f; text-decoration-color: #7f7f7f\">:</span><a href=\"file://D:\\Python39\\lib\\site-packages\\manim\\scene\\scene_file_writer.py#608\"><span style=\"color: #7f7f7f; text-decoration-color: #7f7f7f\">608</span></a>\n",
       "</pre>\n"
      ],
      "text/plain": [
       "\u001b[2;36m                   \u001b[0m\u001b[2;36m \u001b[0m\u001b[32mINFO    \u001b[0m Combining to Movie file.                \u001b]8;id=722999;file://D:\\Python39\\lib\\site-packages\\manim\\scene\\scene_file_writer.py\u001b\\\u001b[2mscene_file_writer.py\u001b[0m\u001b]8;;\u001b\\\u001b[2m:\u001b[0m\u001b]8;id=495640;file://D:\\Python39\\lib\\site-packages\\manim\\scene\\scene_file_writer.py#608\u001b\\\u001b[2m608\u001b[0m\u001b]8;;\u001b\\\n"
      ]
     },
     "metadata": {},
     "output_type": "display_data"
    },
    {
     "name": "stderr",
     "output_type": "stream",
     "text": [
      "INFO:manim:Combining to Movie file.\n"
     ]
    },
    {
     "data": {
      "text/html": [
       "<pre style=\"white-space:pre;overflow-x:auto;line-height:normal;font-family:Menlo,'DejaVu Sans Mono',consolas,'Courier New',monospace\"><span style=\"color: #7fbfbf; text-decoration-color: #7fbfbf\">                    </span><span style=\"color: #008000; text-decoration-color: #008000\">INFO    </span>                                         <a href=\"file://D:\\Python39\\lib\\site-packages\\manim\\scene\\scene_file_writer.py\"><span style=\"color: #7f7f7f; text-decoration-color: #7f7f7f\">scene_file_writer.py</span></a><span style=\"color: #7f7f7f; text-decoration-color: #7f7f7f\">:</span><a href=\"file://D:\\Python39\\lib\\site-packages\\manim\\scene\\scene_file_writer.py#729\"><span style=\"color: #7f7f7f; text-decoration-color: #7f7f7f\">729</span></a>\n",
       "                             <span style=\"color: #808000; text-decoration-color: #808000; font-weight: bold\">File</span> ready at                                                   \n",
       "                             <span style=\"color: #008000; text-decoration-color: #008000\">'D:\\Programming\\Python\\jupyter </span>                                 \n",
       "                             <span style=\"color: #008000; text-decoration-color: #008000\">notebooks\\media\\videos\\jupyter </span>                                 \n",
       "                             <span style=\"color: #008000; text-decoration-color: #008000\">notebooks\\480p15\\LagRatios.mp4'</span>                                 \n",
       "                                                                                             \n",
       "</pre>\n"
      ],
      "text/plain": [
       "\u001b[2;36m                   \u001b[0m\u001b[2;36m \u001b[0m\u001b[32mINFO    \u001b[0m                                         \u001b]8;id=170631;file://D:\\Python39\\lib\\site-packages\\manim\\scene\\scene_file_writer.py\u001b\\\u001b[2mscene_file_writer.py\u001b[0m\u001b]8;;\u001b\\\u001b[2m:\u001b[0m\u001b]8;id=112209;file://D:\\Python39\\lib\\site-packages\\manim\\scene\\scene_file_writer.py#729\u001b\\\u001b[2m729\u001b[0m\u001b]8;;\u001b\\\n",
       "                             \u001b[1;33mFile\u001b[0m ready at                                                   \n",
       "                             \u001b[32m'D:\\Programming\\Python\\jupyter \u001b[0m                                 \n",
       "                             \u001b[32mnotebooks\\media\\videos\\jupyter \u001b[0m                                 \n",
       "                             \u001b[32mnotebooks\\480p15\\LagRatios.mp4'\u001b[0m                                 \n",
       "                                                                                             \n"
      ]
     },
     "metadata": {},
     "output_type": "display_data"
    },
    {
     "name": "stderr",
     "output_type": "stream",
     "text": [
      "INFO:manim:\n",
      "File ready at 'D:\\Programming\\Python\\jupyter notebooks\\media\\videos\\jupyter notebooks\\480p15\\LagRatios.mp4'\n",
      "\n"
     ]
    },
    {
     "data": {
      "text/html": [
       "<pre style=\"white-space:pre;overflow-x:auto;line-height:normal;font-family:Menlo,'DejaVu Sans Mono',consolas,'Courier New',monospace\"><span style=\"color: #7fbfbf; text-decoration-color: #7fbfbf\">                    </span><span style=\"color: #008000; text-decoration-color: #008000\">INFO    </span> <span style=\"color: #808000; text-decoration-color: #808000; font-weight: bold\">Rendered</span> LagRatios                                  <a href=\"file://D:\\Python39\\lib\\site-packages\\manim\\scene\\scene.py\"><span style=\"color: #7f7f7f; text-decoration-color: #7f7f7f\">scene.py</span></a><span style=\"color: #7f7f7f; text-decoration-color: #7f7f7f\">:</span><a href=\"file://D:\\Python39\\lib\\site-packages\\manim\\scene\\scene.py#237\"><span style=\"color: #7f7f7f; text-decoration-color: #7f7f7f\">237</span></a>\n",
       "                             <span style=\"color: #808000; text-decoration-color: #808000; font-weight: bold\">Played</span> <span style=\"color: #008000; text-decoration-color: #008000\">2</span> <span style=\"color: #808000; text-decoration-color: #808000; font-weight: bold\">animations</span>                                             \n",
       "</pre>\n"
      ],
      "text/plain": [
       "\u001b[2;36m                   \u001b[0m\u001b[2;36m \u001b[0m\u001b[32mINFO    \u001b[0m \u001b[1;33mRendered\u001b[0m LagRatios                                  \u001b]8;id=387768;file://D:\\Python39\\lib\\site-packages\\manim\\scene\\scene.py\u001b\\\u001b[2mscene.py\u001b[0m\u001b]8;;\u001b\\\u001b[2m:\u001b[0m\u001b]8;id=542430;file://D:\\Python39\\lib\\site-packages\\manim\\scene\\scene.py#237\u001b\\\u001b[2m237\u001b[0m\u001b]8;;\u001b\\\n",
       "                             \u001b[1;33mPlayed\u001b[0m \u001b[32m2\u001b[0m \u001b[1;33manimations\u001b[0m                                             \n"
      ]
     },
     "metadata": {},
     "output_type": "display_data"
    },
    {
     "name": "stderr",
     "output_type": "stream",
     "text": [
      "INFO:manim:Rendered LagRatios\n",
      "Played 2 animations\n"
     ]
    },
    {
     "data": {
      "text/html": [
       "<video src=\"media\\jupyter\\LagRatios@2022-03-21@15-22-28.mp4\" controls autoplay loop style=\"max-width: 60%;\"  >\n",
       "      Your browser does not support the <code>video</code> element.\n",
       "    </video>"
      ],
      "text/plain": [
       "<IPython.core.display.Video object>"
      ]
     },
     "metadata": {},
     "output_type": "display_data"
    }
   ],
   "source": [
    "%%manim LagRatios\n",
    "\n",
    "class LagRatios(Scene):\n",
    "    def construct(self):\n",
    "        ratios = [0, 0.1, 0.5, 1, 2]  # demonstrated lag_ratios\n",
    "\n",
    "        # Create dot groups\n",
    "        group = VGroup(*[Dot() for _ in range(4)]).arrange_submobjects()\n",
    "        groups = VGroup(*[group.copy() for _ in ratios]).arrange_submobjects(buff=1)\n",
    "        self.add(groups)\n",
    "\n",
    "        # Label groups\n",
    "        self.add(Text(\"lag_ratio = \", font_size=36).next_to(groups, UP, buff=1.5))\n",
    "        for group, ratio in zip(groups, ratios):\n",
    "            self.add(Text(str(ratio), font_size=36).next_to(group, UP))\n",
    "\n",
    "        #Animate groups with different lag_ratios\n",
    "        self.play(AnimationGroup(*[\n",
    "            group.animate(lag_ratio=ratio, run_time=1.5).shift(DOWN * 2)\n",
    "            for group, ratio in zip(groups, ratios)\n",
    "        ]))\n",
    "\n",
    "        # lag_ratio also works recursively on nested submobjects:\n",
    "        self.play(groups.animate(run_time=1, lag_ratio=0.1).shift(UP * 2))\n",
    "        \n",
    "        "
   ]
  },
  {
   "cell_type": "code",
   "execution_count": 65,
   "id": "54103d7b-803c-41ff-9799-44a7fc5d2100",
   "metadata": {
    "collapsed": true,
    "jupyter": {
     "outputs_hidden": true,
     "source_hidden": true
    },
    "tags": []
   },
   "outputs": [
    {
     "data": {
      "text/html": [
       "<pre style=\"white-space:pre;overflow-x:auto;line-height:normal;font-family:Menlo,'DejaVu Sans Mono',consolas,'Courier New',monospace\"><span style=\"color: #7fbfbf; text-decoration-color: #7fbfbf\">[03/20/22 12:43:54] </span><span style=\"color: #800000; text-decoration-color: #800000\">WARNING </span> It looks like the <span style=\"color: #808000; text-decoration-color: #808000; font-weight: bold\">scene</span> contains a lot of         <a href=\"file://D:\\Python39\\lib\\site-packages\\manim\\utils\\hashing.py\"><span style=\"color: #7f7f7f; text-decoration-color: #7f7f7f\">hashing.py</span></a><span style=\"color: #7f7f7f; text-decoration-color: #7f7f7f\">:</span><a href=\"file://D:\\Python39\\lib\\site-packages\\manim\\utils\\hashing.py#152\"><span style=\"color: #7f7f7f; text-decoration-color: #7f7f7f\">152</span></a>\n",
       "                             sub-mobjects. Caching is sometimes not suited to                \n",
       "                             handle such large <span style=\"color: #808000; text-decoration-color: #808000; font-weight: bold\">scene</span>s, you might consider                    \n",
       "                             disabling caching with --disable_caching to                     \n",
       "                             potentially speed up the rendering process.                     \n",
       "</pre>\n"
      ],
      "text/plain": [
       "\u001b[2;36m[03/20/22 12:43:54]\u001b[0m\u001b[2;36m \u001b[0m\u001b[31mWARNING \u001b[0m It looks like the \u001b[1;33mscene\u001b[0m contains a lot of         \u001b]8;id=591297;file://D:\\Python39\\lib\\site-packages\\manim\\utils\\hashing.py\u001b\\\u001b[2mhashing.py\u001b[0m\u001b]8;;\u001b\\\u001b[2m:\u001b[0m\u001b]8;id=397648;file://D:\\Python39\\lib\\site-packages\\manim\\utils\\hashing.py#152\u001b\\\u001b[2m152\u001b[0m\u001b]8;;\u001b\\\n",
       "                             sub-mobjects. Caching is sometimes not suited to                \n",
       "                             handle such large \u001b[1;33mscene\u001b[0ms, you might consider                    \n",
       "                             disabling caching with --disable_caching to                     \n",
       "                             potentially speed up the rendering process.                     \n"
      ]
     },
     "metadata": {},
     "output_type": "display_data"
    },
    {
     "name": "stderr",
     "output_type": "stream",
     "text": [
      "WARNING:manim:It looks like the scene contains a lot of sub-mobjects. Caching is sometimes not suited to handle such large scenes, you might consider disabling caching with --disable_caching to potentially speed up the rendering process.\n"
     ]
    },
    {
     "data": {
      "text/html": [
       "<pre style=\"white-space:pre;overflow-x:auto;line-height:normal;font-family:Menlo,'DejaVu Sans Mono',consolas,'Courier New',monospace\"><span style=\"color: #7fbfbf; text-decoration-color: #7fbfbf\">                    </span><span style=\"color: #800000; text-decoration-color: #800000\">WARNING </span> You can disable this warning by setting           <a href=\"file://D:\\Python39\\lib\\site-packages\\manim\\utils\\hashing.py\"><span style=\"color: #7f7f7f; text-decoration-color: #7f7f7f\">hashing.py</span></a><span style=\"color: #7f7f7f; text-decoration-color: #7f7f7f\">:</span><a href=\"file://D:\\Python39\\lib\\site-packages\\manim\\utils\\hashing.py#158\"><span style=\"color: #7f7f7f; text-decoration-color: #7f7f7f\">158</span></a>\n",
       "                             disable_caching_warning to <span style=\"color: #00ff00; text-decoration-color: #00ff00; font-style: italic\">True</span> in your config                  \n",
       "                             file.                                                           \n",
       "</pre>\n"
      ],
      "text/plain": [
       "\u001b[2;36m                   \u001b[0m\u001b[2;36m \u001b[0m\u001b[31mWARNING \u001b[0m You can disable this warning by setting           \u001b]8;id=454015;file://D:\\Python39\\lib\\site-packages\\manim\\utils\\hashing.py\u001b\\\u001b[2mhashing.py\u001b[0m\u001b]8;;\u001b\\\u001b[2m:\u001b[0m\u001b]8;id=339486;file://D:\\Python39\\lib\\site-packages\\manim\\utils\\hashing.py#158\u001b\\\u001b[2m158\u001b[0m\u001b]8;;\u001b\\\n",
       "                             disable_caching_warning to \u001b[3;92mTrue\u001b[0m in your config                  \n",
       "                             file.                                                           \n"
      ]
     },
     "metadata": {},
     "output_type": "display_data"
    },
    {
     "name": "stderr",
     "output_type": "stream",
     "text": [
      "WARNING:manim:You can disable this warning by setting disable_caching_warning to True in your config file.\n"
     ]
    },
    {
     "data": {
      "text/html": [
       "<pre style=\"white-space:pre;overflow-x:auto;line-height:normal;font-family:Menlo,'DejaVu Sans Mono',consolas,'Courier New',monospace\"><span style=\"color: #7fbfbf; text-decoration-color: #7fbfbf\">[03/20/22 12:45:10] </span><span style=\"color: #008000; text-decoration-color: #008000\">INFO    </span> Animation <span style=\"color: #008000; text-decoration-color: #008000\">0</span> : Partial movie file        <a href=\"file://D:\\Python39\\lib\\site-packages\\manim\\scene\\scene_file_writer.py\"><span style=\"color: #7f7f7f; text-decoration-color: #7f7f7f\">scene_file_writer.py</span></a><span style=\"color: #7f7f7f; text-decoration-color: #7f7f7f\">:</span><a href=\"file://D:\\Python39\\lib\\site-packages\\manim\\scene\\scene_file_writer.py#514\"><span style=\"color: #7f7f7f; text-decoration-color: #7f7f7f\">514</span></a>\n",
       "                             written in                                                      \n",
       "                             <span style=\"color: #008000; text-decoration-color: #008000\">'D:\\Programming\\Python\\jupyter </span>                                 \n",
       "                             <span style=\"color: #008000; text-decoration-color: #008000\">notebooks\\media\\videos\\jupyter notebook</span>                         \n",
       "                             <span style=\"color: #008000; text-decoration-color: #008000\">s\\480p15\\partial_movie_files\\ManyMobs2\\</span>                         \n",
       "                             <span style=\"color: #008000; text-decoration-color: #008000\">3680823526_1515588106_827830315.mp4'</span>                            \n",
       "</pre>\n"
      ],
      "text/plain": [
       "\u001b[2;36m[03/20/22 12:45:10]\u001b[0m\u001b[2;36m \u001b[0m\u001b[32mINFO    \u001b[0m Animation \u001b[32m0\u001b[0m : Partial movie file        \u001b]8;id=886112;file://D:\\Python39\\lib\\site-packages\\manim\\scene\\scene_file_writer.py\u001b\\\u001b[2mscene_file_writer.py\u001b[0m\u001b]8;;\u001b\\\u001b[2m:\u001b[0m\u001b]8;id=254647;file://D:\\Python39\\lib\\site-packages\\manim\\scene\\scene_file_writer.py#514\u001b\\\u001b[2m514\u001b[0m\u001b]8;;\u001b\\\n",
       "                             written in                                                      \n",
       "                             \u001b[32m'D:\\Programming\\Python\\jupyter \u001b[0m                                 \n",
       "                             \u001b[32mnotebooks\\media\\videos\\jupyter notebook\u001b[0m                         \n",
       "                             \u001b[32ms\\480p15\\partial_movie_files\\ManyMobs2\\\u001b[0m                         \n",
       "                             \u001b[32m3680823526_1515588106_827830315.mp4'\u001b[0m                            \n"
      ]
     },
     "metadata": {},
     "output_type": "display_data"
    },
    {
     "name": "stderr",
     "output_type": "stream",
     "text": [
      "INFO:manim:Animation 0 : Partial movie file written in 'D:\\Programming\\Python\\jupyter notebooks\\media\\videos\\jupyter notebooks\\480p15\\partial_movie_files\\ManyMobs2\\3680823526_1515588106_827830315.mp4'\n"
     ]
    },
    {
     "data": {
      "text/html": [
       "<pre style=\"white-space:pre;overflow-x:auto;line-height:normal;font-family:Menlo,'DejaVu Sans Mono',consolas,'Courier New',monospace\"><span style=\"color: #7fbfbf; text-decoration-color: #7fbfbf\">                    </span><span style=\"color: #008000; text-decoration-color: #008000\">INFO    </span> Combining to Movie file.                <a href=\"file://D:\\Python39\\lib\\site-packages\\manim\\scene\\scene_file_writer.py\"><span style=\"color: #7f7f7f; text-decoration-color: #7f7f7f\">scene_file_writer.py</span></a><span style=\"color: #7f7f7f; text-decoration-color: #7f7f7f\">:</span><a href=\"file://D:\\Python39\\lib\\site-packages\\manim\\scene\\scene_file_writer.py#608\"><span style=\"color: #7f7f7f; text-decoration-color: #7f7f7f\">608</span></a>\n",
       "</pre>\n"
      ],
      "text/plain": [
       "\u001b[2;36m                   \u001b[0m\u001b[2;36m \u001b[0m\u001b[32mINFO    \u001b[0m Combining to Movie file.                \u001b]8;id=85656;file://D:\\Python39\\lib\\site-packages\\manim\\scene\\scene_file_writer.py\u001b\\\u001b[2mscene_file_writer.py\u001b[0m\u001b]8;;\u001b\\\u001b[2m:\u001b[0m\u001b]8;id=449396;file://D:\\Python39\\lib\\site-packages\\manim\\scene\\scene_file_writer.py#608\u001b\\\u001b[2m608\u001b[0m\u001b]8;;\u001b\\\n"
      ]
     },
     "metadata": {},
     "output_type": "display_data"
    },
    {
     "name": "stderr",
     "output_type": "stream",
     "text": [
      "INFO:manim:Combining to Movie file.\n"
     ]
    },
    {
     "data": {
      "text/html": [
       "<pre style=\"white-space:pre;overflow-x:auto;line-height:normal;font-family:Menlo,'DejaVu Sans Mono',consolas,'Courier New',monospace\"><span style=\"color: #7fbfbf; text-decoration-color: #7fbfbf\">                    </span><span style=\"color: #008000; text-decoration-color: #008000\">INFO    </span>                                         <a href=\"file://D:\\Python39\\lib\\site-packages\\manim\\scene\\scene_file_writer.py\"><span style=\"color: #7f7f7f; text-decoration-color: #7f7f7f\">scene_file_writer.py</span></a><span style=\"color: #7f7f7f; text-decoration-color: #7f7f7f\">:</span><a href=\"file://D:\\Python39\\lib\\site-packages\\manim\\scene\\scene_file_writer.py#729\"><span style=\"color: #7f7f7f; text-decoration-color: #7f7f7f\">729</span></a>\n",
       "                             <span style=\"color: #808000; text-decoration-color: #808000; font-weight: bold\">File</span> ready at                                                   \n",
       "                             <span style=\"color: #008000; text-decoration-color: #008000\">'D:\\Programming\\Python\\jupyter </span>                                 \n",
       "                             <span style=\"color: #008000; text-decoration-color: #008000\">notebooks\\media\\videos\\jupyter </span>                                 \n",
       "                             <span style=\"color: #008000; text-decoration-color: #008000\">notebooks\\480p15\\ManyMobs2.mp4'</span>                                 \n",
       "                                                                                             \n",
       "</pre>\n"
      ],
      "text/plain": [
       "\u001b[2;36m                   \u001b[0m\u001b[2;36m \u001b[0m\u001b[32mINFO    \u001b[0m                                         \u001b]8;id=997835;file://D:\\Python39\\lib\\site-packages\\manim\\scene\\scene_file_writer.py\u001b\\\u001b[2mscene_file_writer.py\u001b[0m\u001b]8;;\u001b\\\u001b[2m:\u001b[0m\u001b]8;id=310830;file://D:\\Python39\\lib\\site-packages\\manim\\scene\\scene_file_writer.py#729\u001b\\\u001b[2m729\u001b[0m\u001b]8;;\u001b\\\n",
       "                             \u001b[1;33mFile\u001b[0m ready at                                                   \n",
       "                             \u001b[32m'D:\\Programming\\Python\\jupyter \u001b[0m                                 \n",
       "                             \u001b[32mnotebooks\\media\\videos\\jupyter \u001b[0m                                 \n",
       "                             \u001b[32mnotebooks\\480p15\\ManyMobs2.mp4'\u001b[0m                                 \n",
       "                                                                                             \n"
      ]
     },
     "metadata": {},
     "output_type": "display_data"
    },
    {
     "name": "stderr",
     "output_type": "stream",
     "text": [
      "INFO:manim:\n",
      "File ready at 'D:\\Programming\\Python\\jupyter notebooks\\media\\videos\\jupyter notebooks\\480p15\\ManyMobs2.mp4'\n",
      "\n"
     ]
    },
    {
     "data": {
      "text/html": [
       "<pre style=\"white-space:pre;overflow-x:auto;line-height:normal;font-family:Menlo,'DejaVu Sans Mono',consolas,'Courier New',monospace\"><span style=\"color: #7fbfbf; text-decoration-color: #7fbfbf\">                    </span><span style=\"color: #008000; text-decoration-color: #008000\">INFO    </span> <span style=\"color: #808000; text-decoration-color: #808000; font-weight: bold\">Rendered</span> ManyMobs2                                  <a href=\"file://D:\\Python39\\lib\\site-packages\\manim\\scene\\scene.py\"><span style=\"color: #7f7f7f; text-decoration-color: #7f7f7f\">scene.py</span></a><span style=\"color: #7f7f7f; text-decoration-color: #7f7f7f\">:</span><a href=\"file://D:\\Python39\\lib\\site-packages\\manim\\scene\\scene.py#237\"><span style=\"color: #7f7f7f; text-decoration-color: #7f7f7f\">237</span></a>\n",
       "                             <span style=\"color: #808000; text-decoration-color: #808000; font-weight: bold\">Played</span> <span style=\"color: #008000; text-decoration-color: #008000\">1</span> <span style=\"color: #808000; text-decoration-color: #808000; font-weight: bold\">animations</span>                                             \n",
       "</pre>\n"
      ],
      "text/plain": [
       "\u001b[2;36m                   \u001b[0m\u001b[2;36m \u001b[0m\u001b[32mINFO    \u001b[0m \u001b[1;33mRendered\u001b[0m ManyMobs2                                  \u001b]8;id=170606;file://D:\\Python39\\lib\\site-packages\\manim\\scene\\scene.py\u001b\\\u001b[2mscene.py\u001b[0m\u001b]8;;\u001b\\\u001b[2m:\u001b[0m\u001b]8;id=541236;file://D:\\Python39\\lib\\site-packages\\manim\\scene\\scene.py#237\u001b\\\u001b[2m237\u001b[0m\u001b]8;;\u001b\\\n",
       "                             \u001b[1;33mPlayed\u001b[0m \u001b[32m1\u001b[0m \u001b[1;33manimations\u001b[0m                                             \n"
      ]
     },
     "metadata": {},
     "output_type": "display_data"
    },
    {
     "name": "stderr",
     "output_type": "stream",
     "text": [
      "INFO:manim:Rendered ManyMobs2\n",
      "Played 1 animations\n"
     ]
    },
    {
     "data": {
      "text/html": [
       "<video src=\"media\\jupyter\\ManyMobs2@2022-03-20@12-45-10.mp4\" controls autoplay loop style=\"max-width: 60%;\"  >\n",
       "      Your browser does not support the <code>video</code> element.\n",
       "    </video>"
      ],
      "text/plain": [
       "<IPython.core.display.Video object>"
      ]
     },
     "metadata": {},
     "output_type": "display_data"
    }
   ],
   "source": [
    "%%manim ManyMobs2\n",
    "\n",
    "class ManyMobs2(Scene):\n",
    "    def construct(self):\n",
    "        m=VGroup()\n",
    "        self.add(m)\n",
    "        s=Square(stroke_opacity=0, fill_opacity=1, color=BLUE)\n",
    "        \n",
    "        vg=VGroup()\n",
    "        val=2**16\n",
    "        \n",
    "        for _ in range(val):\n",
    "            vg.add(s.copy().scale(val**(-.5)))\n",
    "        vg.arrange_in_grid(buff=0)\n",
    "#         vg.scale_to_fit_width(WIDTH)\n",
    "        vg.center()\n",
    "        \n",
    "        self.add(vg)\n",
    "        \n",
    "        \n",
    "        iter_func = lambda z, c: z ** 2 + c\n",
    "        iter_num = 128\n",
    "        colors = color_gradient(NEON_PALETTE, iter_num + 1)\n",
    "\n",
    "        def get_color(c):\n",
    "            z = complex(0, 0)\n",
    "            num = 0\n",
    "            while abs(z) < 2 and num < iter_num:\n",
    "                z = iter_func(z, c)\n",
    "                num += 1\n",
    "            return colors[num]\n",
    "        def updater(mob):\n",
    "            mob.apply_to_family(lambda mob: mob.set_color(get_color( complex(*(mob.get_center())[:2] ))))\n",
    "        vg.add_updater(updater)\n",
    "        self.wait()"
   ]
  },
  {
   "cell_type": "code",
   "execution_count": 48,
   "id": "507c25a6-9aba-4adf-94d9-1898f640e25a",
   "metadata": {
    "jupyter": {
     "source_hidden": true
    },
    "tags": []
   },
   "outputs": [],
   "source": [
    "class ManyMobs(Scene):\n",
    "    def construct(self):\n",
    "        m=VGroup()\n",
    "        self.add(m)\n",
    "        n=ValueTracker(1)\n",
    "        s=Square(stroke_opacity=0, fill_opacity=1, color=BLUE)\n",
    "        def updater(mob):\n",
    "            vg=VGroup()\n",
    "            val=int(n.get_value())\n",
    "            for _ in range(val):\n",
    "                vg.add(s.copy())\n",
    "            vg.arrange_in_grid()\n",
    "            vg.center()\n",
    "            mob.become(vg)\n",
    "        m.add_updater(updater)\n",
    "        for k in range(2,8):\n",
    "            self.play(n.animate.set_value(k**2), rate_function=linear)\n",
    "        self.wait()\n",
    "        "
   ]
  },
  {
   "cell_type": "code",
   "execution_count": 182,
   "id": "e8ed3b5e-823a-415b-a55c-f6114d93ea35",
   "metadata": {},
   "outputs": [
    {
     "data": {
      "text/html": [
       "<pre style=\"white-space:pre;overflow-x:auto;line-height:normal;font-family:Menlo,'DejaVu Sans Mono',consolas,'Courier New',monospace\"><span style=\"color: #7fbfbf; text-decoration-color: #7fbfbf\">[03/19/22 12:29:25] </span><span style=\"color: #008000; text-decoration-color: #008000\">INFO    </span> Animation <span style=\"color: #008000; text-decoration-color: #008000\">0</span> : Using cached data <span style=\"font-weight: bold\">(</span>hash :     <a href=\"file://D:\\Python39\\lib\\site-packages\\manim\\renderer\\cairo_renderer.py\"><span style=\"color: #7f7f7f; text-decoration-color: #7f7f7f\">cairo_renderer.py</span></a><span style=\"color: #7f7f7f; text-decoration-color: #7f7f7f\">:</span><a href=\"file://D:\\Python39\\lib\\site-packages\\manim\\renderer\\cairo_renderer.py#74\"><span style=\"color: #7f7f7f; text-decoration-color: #7f7f7f\">74</span></a>\n",
       "                             3163782288_1515588106_3099446693<span style=\"font-weight: bold\">)</span>                               \n",
       "</pre>\n"
      ],
      "text/plain": [
       "\u001b[2;36m[03/19/22 12:29:25]\u001b[0m\u001b[2;36m \u001b[0m\u001b[32mINFO    \u001b[0m Animation \u001b[32m0\u001b[0m : Using cached data \u001b[1m(\u001b[0mhash :     \u001b]8;id=213831;file://D:\\Python39\\lib\\site-packages\\manim\\renderer\\cairo_renderer.py\u001b\\\u001b[2mcairo_renderer.py\u001b[0m\u001b]8;;\u001b\\\u001b[2m:\u001b[0m\u001b]8;id=551365;file://D:\\Python39\\lib\\site-packages\\manim\\renderer\\cairo_renderer.py#74\u001b\\\u001b[2m74\u001b[0m\u001b]8;;\u001b\\\n",
       "                             3163782288_1515588106_3099446693\u001b[1m)\u001b[0m                               \n"
      ]
     },
     "metadata": {},
     "output_type": "display_data"
    },
    {
     "data": {
      "text/html": [
       "<pre style=\"white-space:pre;overflow-x:auto;line-height:normal;font-family:Menlo,'DejaVu Sans Mono',consolas,'Courier New',monospace\"><span style=\"color: #7fbfbf; text-decoration-color: #7fbfbf\">                    </span><span style=\"color: #008000; text-decoration-color: #008000\">INFO    </span> Animation <span style=\"color: #008000; text-decoration-color: #008000\">1</span> : Using cached data <span style=\"font-weight: bold\">(</span>hash :     <a href=\"file://D:\\Python39\\lib\\site-packages\\manim\\renderer\\cairo_renderer.py\"><span style=\"color: #7f7f7f; text-decoration-color: #7f7f7f\">cairo_renderer.py</span></a><span style=\"color: #7f7f7f; text-decoration-color: #7f7f7f\">:</span><a href=\"file://D:\\Python39\\lib\\site-packages\\manim\\renderer\\cairo_renderer.py#74\"><span style=\"color: #7f7f7f; text-decoration-color: #7f7f7f\">74</span></a>\n",
       "                             2201830969_1919755313_3686671448<span style=\"font-weight: bold\">)</span>                               \n",
       "</pre>\n"
      ],
      "text/plain": [
       "\u001b[2;36m                   \u001b[0m\u001b[2;36m \u001b[0m\u001b[32mINFO    \u001b[0m Animation \u001b[32m1\u001b[0m : Using cached data \u001b[1m(\u001b[0mhash :     \u001b]8;id=207797;file://D:\\Python39\\lib\\site-packages\\manim\\renderer\\cairo_renderer.py\u001b\\\u001b[2mcairo_renderer.py\u001b[0m\u001b]8;;\u001b\\\u001b[2m:\u001b[0m\u001b]8;id=744057;file://D:\\Python39\\lib\\site-packages\\manim\\renderer\\cairo_renderer.py#74\u001b\\\u001b[2m74\u001b[0m\u001b]8;;\u001b\\\n",
       "                             2201830969_1919755313_3686671448\u001b[1m)\u001b[0m                               \n"
      ]
     },
     "metadata": {},
     "output_type": "display_data"
    },
    {
     "name": "stderr",
     "output_type": "stream",
     "text": [
      "                                                                  \r"
     ]
    },
    {
     "data": {
      "text/html": [
       "<pre style=\"white-space:pre;overflow-x:auto;line-height:normal;font-family:Menlo,'DejaVu Sans Mono',consolas,'Courier New',monospace\"><span style=\"color: #7fbfbf; text-decoration-color: #7fbfbf\">                    </span><span style=\"color: #008000; text-decoration-color: #008000\">INFO    </span> Animation <span style=\"color: #008000; text-decoration-color: #008000\">2</span> : Using cached data <span style=\"font-weight: bold\">(</span>hash :     <a href=\"file://D:\\Python39\\lib\\site-packages\\manim\\renderer\\cairo_renderer.py\"><span style=\"color: #7f7f7f; text-decoration-color: #7f7f7f\">cairo_renderer.py</span></a><span style=\"color: #7f7f7f; text-decoration-color: #7f7f7f\">:</span><a href=\"file://D:\\Python39\\lib\\site-packages\\manim\\renderer\\cairo_renderer.py#74\"><span style=\"color: #7f7f7f; text-decoration-color: #7f7f7f\">74</span></a>\n",
       "                             2201830969_2482692769_1321397651<span style=\"font-weight: bold\">)</span>                               \n",
       "</pre>\n"
      ],
      "text/plain": [
       "\u001b[2;36m                   \u001b[0m\u001b[2;36m \u001b[0m\u001b[32mINFO    \u001b[0m Animation \u001b[32m2\u001b[0m : Using cached data \u001b[1m(\u001b[0mhash :     \u001b]8;id=336060;file://D:\\Python39\\lib\\site-packages\\manim\\renderer\\cairo_renderer.py\u001b\\\u001b[2mcairo_renderer.py\u001b[0m\u001b]8;;\u001b\\\u001b[2m:\u001b[0m\u001b]8;id=266880;file://D:\\Python39\\lib\\site-packages\\manim\\renderer\\cairo_renderer.py#74\u001b\\\u001b[2m74\u001b[0m\u001b]8;;\u001b\\\n",
       "                             2201830969_2482692769_1321397651\u001b[1m)\u001b[0m                               \n"
      ]
     },
     "metadata": {},
     "output_type": "display_data"
    },
    {
     "name": "stderr",
     "output_type": "stream",
     "text": [
      "                                                                  \r"
     ]
    },
    {
     "data": {
      "text/html": [
       "<pre style=\"white-space:pre;overflow-x:auto;line-height:normal;font-family:Menlo,'DejaVu Sans Mono',consolas,'Courier New',monospace\"><span style=\"color: #7fbfbf; text-decoration-color: #7fbfbf\">                    </span><span style=\"color: #008000; text-decoration-color: #008000\">INFO    </span> Animation <span style=\"color: #008000; text-decoration-color: #008000\">3</span> : Using cached data <span style=\"font-weight: bold\">(</span>hash :     <a href=\"file://D:\\Python39\\lib\\site-packages\\manim\\renderer\\cairo_renderer.py\"><span style=\"color: #7f7f7f; text-decoration-color: #7f7f7f\">cairo_renderer.py</span></a><span style=\"color: #7f7f7f; text-decoration-color: #7f7f7f\">:</span><a href=\"file://D:\\Python39\\lib\\site-packages\\manim\\renderer\\cairo_renderer.py#74\"><span style=\"color: #7f7f7f; text-decoration-color: #7f7f7f\">74</span></a>\n",
       "                             2201830969_1146463065_3978343957<span style=\"font-weight: bold\">)</span>                               \n",
       "</pre>\n"
      ],
      "text/plain": [
       "\u001b[2;36m                   \u001b[0m\u001b[2;36m \u001b[0m\u001b[32mINFO    \u001b[0m Animation \u001b[32m3\u001b[0m : Using cached data \u001b[1m(\u001b[0mhash :     \u001b]8;id=462633;file://D:\\Python39\\lib\\site-packages\\manim\\renderer\\cairo_renderer.py\u001b\\\u001b[2mcairo_renderer.py\u001b[0m\u001b]8;;\u001b\\\u001b[2m:\u001b[0m\u001b]8;id=317735;file://D:\\Python39\\lib\\site-packages\\manim\\renderer\\cairo_renderer.py#74\u001b\\\u001b[2m74\u001b[0m\u001b]8;;\u001b\\\n",
       "                             2201830969_1146463065_3978343957\u001b[1m)\u001b[0m                               \n"
      ]
     },
     "metadata": {},
     "output_type": "display_data"
    },
    {
     "name": "stderr",
     "output_type": "stream",
     "text": [
      "                                                                  \r"
     ]
    },
    {
     "data": {
      "text/html": [
       "<pre style=\"white-space:pre;overflow-x:auto;line-height:normal;font-family:Menlo,'DejaVu Sans Mono',consolas,'Courier New',monospace\"><span style=\"color: #7fbfbf; text-decoration-color: #7fbfbf\">[03/19/22 12:29:26] </span><span style=\"color: #008000; text-decoration-color: #008000\">INFO    </span> Animation <span style=\"color: #008000; text-decoration-color: #008000\">4</span> : Using cached data <span style=\"font-weight: bold\">(</span>hash :     <a href=\"file://D:\\Python39\\lib\\site-packages\\manim\\renderer\\cairo_renderer.py\"><span style=\"color: #7f7f7f; text-decoration-color: #7f7f7f\">cairo_renderer.py</span></a><span style=\"color: #7f7f7f; text-decoration-color: #7f7f7f\">:</span><a href=\"file://D:\\Python39\\lib\\site-packages\\manim\\renderer\\cairo_renderer.py#74\"><span style=\"color: #7f7f7f; text-decoration-color: #7f7f7f\">74</span></a>\n",
       "                             2201830969_1562557900_3814127142<span style=\"font-weight: bold\">)</span>                               \n",
       "</pre>\n"
      ],
      "text/plain": [
       "\u001b[2;36m[03/19/22 12:29:26]\u001b[0m\u001b[2;36m \u001b[0m\u001b[32mINFO    \u001b[0m Animation \u001b[32m4\u001b[0m : Using cached data \u001b[1m(\u001b[0mhash :     \u001b]8;id=657265;file://D:\\Python39\\lib\\site-packages\\manim\\renderer\\cairo_renderer.py\u001b\\\u001b[2mcairo_renderer.py\u001b[0m\u001b]8;;\u001b\\\u001b[2m:\u001b[0m\u001b]8;id=597245;file://D:\\Python39\\lib\\site-packages\\manim\\renderer\\cairo_renderer.py#74\u001b\\\u001b[2m74\u001b[0m\u001b]8;;\u001b\\\n",
       "                             2201830969_1562557900_3814127142\u001b[1m)\u001b[0m                               \n"
      ]
     },
     "metadata": {},
     "output_type": "display_data"
    },
    {
     "name": "stderr",
     "output_type": "stream",
     "text": [
      "                                                                  \r"
     ]
    },
    {
     "data": {
      "text/html": [
       "<pre style=\"white-space:pre;overflow-x:auto;line-height:normal;font-family:Menlo,'DejaVu Sans Mono',consolas,'Courier New',monospace\"><span style=\"color: #7fbfbf; text-decoration-color: #7fbfbf\">                    </span><span style=\"color: #008000; text-decoration-color: #008000\">INFO    </span> Animation <span style=\"color: #008000; text-decoration-color: #008000\">5</span> : Using cached data <span style=\"font-weight: bold\">(</span>hash :     <a href=\"file://D:\\Python39\\lib\\site-packages\\manim\\renderer\\cairo_renderer.py\"><span style=\"color: #7f7f7f; text-decoration-color: #7f7f7f\">cairo_renderer.py</span></a><span style=\"color: #7f7f7f; text-decoration-color: #7f7f7f\">:</span><a href=\"file://D:\\Python39\\lib\\site-packages\\manim\\renderer\\cairo_renderer.py#74\"><span style=\"color: #7f7f7f; text-decoration-color: #7f7f7f\">74</span></a>\n",
       "                             2201830969_3592294219_2413048755<span style=\"font-weight: bold\">)</span>                               \n",
       "</pre>\n"
      ],
      "text/plain": [
       "\u001b[2;36m                   \u001b[0m\u001b[2;36m \u001b[0m\u001b[32mINFO    \u001b[0m Animation \u001b[32m5\u001b[0m : Using cached data \u001b[1m(\u001b[0mhash :     \u001b]8;id=856246;file://D:\\Python39\\lib\\site-packages\\manim\\renderer\\cairo_renderer.py\u001b\\\u001b[2mcairo_renderer.py\u001b[0m\u001b]8;;\u001b\\\u001b[2m:\u001b[0m\u001b]8;id=238808;file://D:\\Python39\\lib\\site-packages\\manim\\renderer\\cairo_renderer.py#74\u001b\\\u001b[2m74\u001b[0m\u001b]8;;\u001b\\\n",
       "                             2201830969_3592294219_2413048755\u001b[1m)\u001b[0m                               \n"
      ]
     },
     "metadata": {},
     "output_type": "display_data"
    },
    {
     "name": "stderr",
     "output_type": "stream",
     "text": [
      "                                                                  \r"
     ]
    },
    {
     "data": {
      "text/html": [
       "<pre style=\"white-space:pre;overflow-x:auto;line-height:normal;font-family:Menlo,'DejaVu Sans Mono',consolas,'Courier New',monospace\"><span style=\"color: #7fbfbf; text-decoration-color: #7fbfbf\">                    </span><span style=\"color: #008000; text-decoration-color: #008000\">INFO    </span> Animation <span style=\"color: #008000; text-decoration-color: #008000\">6</span> : Using cached data <span style=\"font-weight: bold\">(</span>hash :     <a href=\"file://D:\\Python39\\lib\\site-packages\\manim\\renderer\\cairo_renderer.py\"><span style=\"color: #7f7f7f; text-decoration-color: #7f7f7f\">cairo_renderer.py</span></a><span style=\"color: #7f7f7f; text-decoration-color: #7f7f7f\">:</span><a href=\"file://D:\\Python39\\lib\\site-packages\\manim\\renderer\\cairo_renderer.py#74\"><span style=\"color: #7f7f7f; text-decoration-color: #7f7f7f\">74</span></a>\n",
       "                             2201830969_398514950_1427144405<span style=\"font-weight: bold\">)</span>                                \n",
       "</pre>\n"
      ],
      "text/plain": [
       "\u001b[2;36m                   \u001b[0m\u001b[2;36m \u001b[0m\u001b[32mINFO    \u001b[0m Animation \u001b[32m6\u001b[0m : Using cached data \u001b[1m(\u001b[0mhash :     \u001b]8;id=460670;file://D:\\Python39\\lib\\site-packages\\manim\\renderer\\cairo_renderer.py\u001b\\\u001b[2mcairo_renderer.py\u001b[0m\u001b]8;;\u001b\\\u001b[2m:\u001b[0m\u001b]8;id=349383;file://D:\\Python39\\lib\\site-packages\\manim\\renderer\\cairo_renderer.py#74\u001b\\\u001b[2m74\u001b[0m\u001b]8;;\u001b\\\n",
       "                             2201830969_398514950_1427144405\u001b[1m)\u001b[0m                                \n"
      ]
     },
     "metadata": {},
     "output_type": "display_data"
    },
    {
     "data": {
      "text/html": [
       "<pre style=\"white-space:pre;overflow-x:auto;line-height:normal;font-family:Menlo,'DejaVu Sans Mono',consolas,'Courier New',monospace\"><span style=\"color: #7fbfbf; text-decoration-color: #7fbfbf\">                    </span><span style=\"color: #008000; text-decoration-color: #008000\">INFO    </span> Animation <span style=\"color: #008000; text-decoration-color: #008000\">7</span> : Using cached data <span style=\"font-weight: bold\">(</span>hash :     <a href=\"file://D:\\Python39\\lib\\site-packages\\manim\\renderer\\cairo_renderer.py\"><span style=\"color: #7f7f7f; text-decoration-color: #7f7f7f\">cairo_renderer.py</span></a><span style=\"color: #7f7f7f; text-decoration-color: #7f7f7f\">:</span><a href=\"file://D:\\Python39\\lib\\site-packages\\manim\\renderer\\cairo_renderer.py#74\"><span style=\"color: #7f7f7f; text-decoration-color: #7f7f7f\">74</span></a>\n",
       "                             2201830969_2905166263_3601319945<span style=\"font-weight: bold\">)</span>                               \n",
       "</pre>\n"
      ],
      "text/plain": [
       "\u001b[2;36m                   \u001b[0m\u001b[2;36m \u001b[0m\u001b[32mINFO    \u001b[0m Animation \u001b[32m7\u001b[0m : Using cached data \u001b[1m(\u001b[0mhash :     \u001b]8;id=49987;file://D:\\Python39\\lib\\site-packages\\manim\\renderer\\cairo_renderer.py\u001b\\\u001b[2mcairo_renderer.py\u001b[0m\u001b]8;;\u001b\\\u001b[2m:\u001b[0m\u001b]8;id=573479;file://D:\\Python39\\lib\\site-packages\\manim\\renderer\\cairo_renderer.py#74\u001b\\\u001b[2m74\u001b[0m\u001b]8;;\u001b\\\n",
       "                             2201830969_2905166263_3601319945\u001b[1m)\u001b[0m                               \n"
      ]
     },
     "metadata": {},
     "output_type": "display_data"
    },
    {
     "name": "stderr",
     "output_type": "stream",
     "text": [
      "                                                                  \r"
     ]
    },
    {
     "data": {
      "text/html": [
       "<pre style=\"white-space:pre;overflow-x:auto;line-height:normal;font-family:Menlo,'DejaVu Sans Mono',consolas,'Courier New',monospace\"><span style=\"color: #7fbfbf; text-decoration-color: #7fbfbf\">                    </span><span style=\"color: #008000; text-decoration-color: #008000\">INFO    </span> Animation <span style=\"color: #008000; text-decoration-color: #008000\">8</span> : Using cached data <span style=\"font-weight: bold\">(</span>hash :     <a href=\"file://D:\\Python39\\lib\\site-packages\\manim\\renderer\\cairo_renderer.py\"><span style=\"color: #7f7f7f; text-decoration-color: #7f7f7f\">cairo_renderer.py</span></a><span style=\"color: #7f7f7f; text-decoration-color: #7f7f7f\">:</span><a href=\"file://D:\\Python39\\lib\\site-packages\\manim\\renderer\\cairo_renderer.py#74\"><span style=\"color: #7f7f7f; text-decoration-color: #7f7f7f\">74</span></a>\n",
       "                             2201830969_398514950_1969288736<span style=\"font-weight: bold\">)</span>                                \n",
       "</pre>\n"
      ],
      "text/plain": [
       "\u001b[2;36m                   \u001b[0m\u001b[2;36m \u001b[0m\u001b[32mINFO    \u001b[0m Animation \u001b[32m8\u001b[0m : Using cached data \u001b[1m(\u001b[0mhash :     \u001b]8;id=322974;file://D:\\Python39\\lib\\site-packages\\manim\\renderer\\cairo_renderer.py\u001b\\\u001b[2mcairo_renderer.py\u001b[0m\u001b]8;;\u001b\\\u001b[2m:\u001b[0m\u001b]8;id=41501;file://D:\\Python39\\lib\\site-packages\\manim\\renderer\\cairo_renderer.py#74\u001b\\\u001b[2m74\u001b[0m\u001b]8;;\u001b\\\n",
       "                             2201830969_398514950_1969288736\u001b[1m)\u001b[0m                                \n"
      ]
     },
     "metadata": {},
     "output_type": "display_data"
    },
    {
     "data": {
      "text/html": [
       "<pre style=\"white-space:pre;overflow-x:auto;line-height:normal;font-family:Menlo,'DejaVu Sans Mono',consolas,'Courier New',monospace\"><span style=\"color: #7fbfbf; text-decoration-color: #7fbfbf\">                    </span><span style=\"color: #008000; text-decoration-color: #008000\">INFO    </span> Animation <span style=\"color: #008000; text-decoration-color: #008000\">9</span> : Using cached data <span style=\"font-weight: bold\">(</span>hash :     <a href=\"file://D:\\Python39\\lib\\site-packages\\manim\\renderer\\cairo_renderer.py\"><span style=\"color: #7f7f7f; text-decoration-color: #7f7f7f\">cairo_renderer.py</span></a><span style=\"color: #7f7f7f; text-decoration-color: #7f7f7f\">:</span><a href=\"file://D:\\Python39\\lib\\site-packages\\manim\\renderer\\cairo_renderer.py#74\"><span style=\"color: #7f7f7f; text-decoration-color: #7f7f7f\">74</span></a>\n",
       "                             2201830969_2837494449_419929966<span style=\"font-weight: bold\">)</span>                                \n",
       "</pre>\n"
      ],
      "text/plain": [
       "\u001b[2;36m                   \u001b[0m\u001b[2;36m \u001b[0m\u001b[32mINFO    \u001b[0m Animation \u001b[32m9\u001b[0m : Using cached data \u001b[1m(\u001b[0mhash :     \u001b]8;id=170301;file://D:\\Python39\\lib\\site-packages\\manim\\renderer\\cairo_renderer.py\u001b\\\u001b[2mcairo_renderer.py\u001b[0m\u001b]8;;\u001b\\\u001b[2m:\u001b[0m\u001b]8;id=496912;file://D:\\Python39\\lib\\site-packages\\manim\\renderer\\cairo_renderer.py#74\u001b\\\u001b[2m74\u001b[0m\u001b]8;;\u001b\\\n",
       "                             2201830969_2837494449_419929966\u001b[1m)\u001b[0m                                \n"
      ]
     },
     "metadata": {},
     "output_type": "display_data"
    },
    {
     "name": "stderr",
     "output_type": "stream",
     "text": [
      "                                                                  \r"
     ]
    },
    {
     "data": {
      "text/html": [
       "<pre style=\"white-space:pre;overflow-x:auto;line-height:normal;font-family:Menlo,'DejaVu Sans Mono',consolas,'Courier New',monospace\"><span style=\"color: #7fbfbf; text-decoration-color: #7fbfbf\">                    </span><span style=\"color: #008000; text-decoration-color: #008000\">INFO    </span> Animation <span style=\"color: #008000; text-decoration-color: #008000\">10</span> : Partial movie file       <a href=\"file://D:\\Python39\\lib\\site-packages\\manim\\scene\\scene_file_writer.py\"><span style=\"color: #7f7f7f; text-decoration-color: #7f7f7f\">scene_file_writer.py</span></a><span style=\"color: #7f7f7f; text-decoration-color: #7f7f7f\">:</span><a href=\"file://D:\\Python39\\lib\\site-packages\\manim\\scene\\scene_file_writer.py#514\"><span style=\"color: #7f7f7f; text-decoration-color: #7f7f7f\">514</span></a>\n",
       "                             written in                                                      \n",
       "                             <span style=\"color: #008000; text-decoration-color: #008000\">'D:\\Programming\\Python\\jupyter </span>                                 \n",
       "                             <span style=\"color: #008000; text-decoration-color: #008000\">notebooks\\media\\videos\\jupyter notebook</span>                         \n",
       "                             <span style=\"color: #008000; text-decoration-color: #008000\">s\\480p15\\partial_movie_files\\MovingAngl</span>                         \n",
       "                             <span style=\"color: #008000; text-decoration-color: #008000\">e\\1495979052_2150010895_435608177.mp4'</span>                          \n",
       "</pre>\n"
      ],
      "text/plain": [
       "\u001b[2;36m                   \u001b[0m\u001b[2;36m \u001b[0m\u001b[32mINFO    \u001b[0m Animation \u001b[32m10\u001b[0m : Partial movie file       \u001b]8;id=842891;file://D:\\Python39\\lib\\site-packages\\manim\\scene\\scene_file_writer.py\u001b\\\u001b[2mscene_file_writer.py\u001b[0m\u001b]8;;\u001b\\\u001b[2m:\u001b[0m\u001b]8;id=937692;file://D:\\Python39\\lib\\site-packages\\manim\\scene\\scene_file_writer.py#514\u001b\\\u001b[2m514\u001b[0m\u001b]8;;\u001b\\\n",
       "                             written in                                                      \n",
       "                             \u001b[32m'D:\\Programming\\Python\\jupyter \u001b[0m                                 \n",
       "                             \u001b[32mnotebooks\\media\\videos\\jupyter notebook\u001b[0m                         \n",
       "                             \u001b[32ms\\480p15\\partial_movie_files\\MovingAngl\u001b[0m                         \n",
       "                             \u001b[32me\\1495979052_2150010895_435608177.mp4'\u001b[0m                          \n"
      ]
     },
     "metadata": {},
     "output_type": "display_data"
    },
    {
     "name": "stderr",
     "output_type": "stream",
     "text": [
      "                                                                  \r"
     ]
    },
    {
     "data": {
      "text/html": [
       "<pre style=\"white-space:pre;overflow-x:auto;line-height:normal;font-family:Menlo,'DejaVu Sans Mono',consolas,'Courier New',monospace\"><span style=\"color: #7fbfbf; text-decoration-color: #7fbfbf\">[03/19/22 12:29:27] </span><span style=\"color: #008000; text-decoration-color: #008000\">INFO    </span> Animation <span style=\"color: #008000; text-decoration-color: #008000\">11</span> : Partial movie file       <a href=\"file://D:\\Python39\\lib\\site-packages\\manim\\scene\\scene_file_writer.py\"><span style=\"color: #7f7f7f; text-decoration-color: #7f7f7f\">scene_file_writer.py</span></a><span style=\"color: #7f7f7f; text-decoration-color: #7f7f7f\">:</span><a href=\"file://D:\\Python39\\lib\\site-packages\\manim\\scene\\scene_file_writer.py#514\"><span style=\"color: #7f7f7f; text-decoration-color: #7f7f7f\">514</span></a>\n",
       "                             written in                                                      \n",
       "                             <span style=\"color: #008000; text-decoration-color: #008000\">'D:\\Programming\\Python\\jupyter </span>                                 \n",
       "                             <span style=\"color: #008000; text-decoration-color: #008000\">notebooks\\media\\videos\\jupyter notebook</span>                         \n",
       "                             <span style=\"color: #008000; text-decoration-color: #008000\">s\\480p15\\partial_movie_files\\MovingAngl</span>                         \n",
       "                             <span style=\"color: #008000; text-decoration-color: #008000\">e\\2201830969_2018365187_2760180352.mp4'</span>                         \n",
       "</pre>\n"
      ],
      "text/plain": [
       "\u001b[2;36m[03/19/22 12:29:27]\u001b[0m\u001b[2;36m \u001b[0m\u001b[32mINFO    \u001b[0m Animation \u001b[32m11\u001b[0m : Partial movie file       \u001b]8;id=543386;file://D:\\Python39\\lib\\site-packages\\manim\\scene\\scene_file_writer.py\u001b\\\u001b[2mscene_file_writer.py\u001b[0m\u001b]8;;\u001b\\\u001b[2m:\u001b[0m\u001b]8;id=364991;file://D:\\Python39\\lib\\site-packages\\manim\\scene\\scene_file_writer.py#514\u001b\\\u001b[2m514\u001b[0m\u001b]8;;\u001b\\\n",
       "                             written in                                                      \n",
       "                             \u001b[32m'D:\\Programming\\Python\\jupyter \u001b[0m                                 \n",
       "                             \u001b[32mnotebooks\\media\\videos\\jupyter notebook\u001b[0m                         \n",
       "                             \u001b[32ms\\480p15\\partial_movie_files\\MovingAngl\u001b[0m                         \n",
       "                             \u001b[32me\\2201830969_2018365187_2760180352.mp4'\u001b[0m                         \n"
      ]
     },
     "metadata": {},
     "output_type": "display_data"
    },
    {
     "data": {
      "text/html": [
       "<pre style=\"white-space:pre;overflow-x:auto;line-height:normal;font-family:Menlo,'DejaVu Sans Mono',consolas,'Courier New',monospace\"><span style=\"color: #7fbfbf; text-decoration-color: #7fbfbf\">                    </span><span style=\"color: #008000; text-decoration-color: #008000\">INFO    </span> Animation <span style=\"color: #008000; text-decoration-color: #008000\">12</span> : Partial movie file       <a href=\"file://D:\\Python39\\lib\\site-packages\\manim\\scene\\scene_file_writer.py\"><span style=\"color: #7f7f7f; text-decoration-color: #7f7f7f\">scene_file_writer.py</span></a><span style=\"color: #7f7f7f; text-decoration-color: #7f7f7f\">:</span><a href=\"file://D:\\Python39\\lib\\site-packages\\manim\\scene\\scene_file_writer.py#514\"><span style=\"color: #7f7f7f; text-decoration-color: #7f7f7f\">514</span></a>\n",
       "                             written in                                                      \n",
       "                             <span style=\"color: #008000; text-decoration-color: #008000\">'D:\\Programming\\Python\\jupyter </span>                                 \n",
       "                             <span style=\"color: #008000; text-decoration-color: #008000\">notebooks\\media\\videos\\jupyter notebook</span>                         \n",
       "                             <span style=\"color: #008000; text-decoration-color: #008000\">s\\480p15\\partial_movie_files\\MovingAngl</span>                         \n",
       "                             <span style=\"color: #008000; text-decoration-color: #008000\">e\\2201830969_2478587744_1413873408.mp4'</span>                         \n",
       "</pre>\n"
      ],
      "text/plain": [
       "\u001b[2;36m                   \u001b[0m\u001b[2;36m \u001b[0m\u001b[32mINFO    \u001b[0m Animation \u001b[32m12\u001b[0m : Partial movie file       \u001b]8;id=304659;file://D:\\Python39\\lib\\site-packages\\manim\\scene\\scene_file_writer.py\u001b\\\u001b[2mscene_file_writer.py\u001b[0m\u001b]8;;\u001b\\\u001b[2m:\u001b[0m\u001b]8;id=144653;file://D:\\Python39\\lib\\site-packages\\manim\\scene\\scene_file_writer.py#514\u001b\\\u001b[2m514\u001b[0m\u001b]8;;\u001b\\\n",
       "                             written in                                                      \n",
       "                             \u001b[32m'D:\\Programming\\Python\\jupyter \u001b[0m                                 \n",
       "                             \u001b[32mnotebooks\\media\\videos\\jupyter notebook\u001b[0m                         \n",
       "                             \u001b[32ms\\480p15\\partial_movie_files\\MovingAngl\u001b[0m                         \n",
       "                             \u001b[32me\\2201830969_2478587744_1413873408.mp4'\u001b[0m                         \n"
      ]
     },
     "metadata": {},
     "output_type": "display_data"
    },
    {
     "data": {
      "text/html": [
       "<pre style=\"white-space:pre;overflow-x:auto;line-height:normal;font-family:Menlo,'DejaVu Sans Mono',consolas,'Courier New',monospace\"><span style=\"color: #7fbfbf; text-decoration-color: #7fbfbf\">                    </span><span style=\"color: #008000; text-decoration-color: #008000\">INFO    </span> Animation <span style=\"color: #008000; text-decoration-color: #008000\">13</span> : Using cached data <span style=\"font-weight: bold\">(</span>hash :    <a href=\"file://D:\\Python39\\lib\\site-packages\\manim\\renderer\\cairo_renderer.py\"><span style=\"color: #7f7f7f; text-decoration-color: #7f7f7f\">cairo_renderer.py</span></a><span style=\"color: #7f7f7f; text-decoration-color: #7f7f7f\">:</span><a href=\"file://D:\\Python39\\lib\\site-packages\\manim\\renderer\\cairo_renderer.py#74\"><span style=\"color: #7f7f7f; text-decoration-color: #7f7f7f\">74</span></a>\n",
       "                             2201830969_2409023890_3531566125<span style=\"font-weight: bold\">)</span>                               \n",
       "</pre>\n"
      ],
      "text/plain": [
       "\u001b[2;36m                   \u001b[0m\u001b[2;36m \u001b[0m\u001b[32mINFO    \u001b[0m Animation \u001b[32m13\u001b[0m : Using cached data \u001b[1m(\u001b[0mhash :    \u001b]8;id=909259;file://D:\\Python39\\lib\\site-packages\\manim\\renderer\\cairo_renderer.py\u001b\\\u001b[2mcairo_renderer.py\u001b[0m\u001b]8;;\u001b\\\u001b[2m:\u001b[0m\u001b]8;id=819700;file://D:\\Python39\\lib\\site-packages\\manim\\renderer\\cairo_renderer.py#74\u001b\\\u001b[2m74\u001b[0m\u001b]8;;\u001b\\\n",
       "                             2201830969_2409023890_3531566125\u001b[1m)\u001b[0m                               \n"
      ]
     },
     "metadata": {},
     "output_type": "display_data"
    },
    {
     "name": "stderr",
     "output_type": "stream",
     "text": [
      "                                                                  \r"
     ]
    },
    {
     "data": {
      "text/html": [
       "<pre style=\"white-space:pre;overflow-x:auto;line-height:normal;font-family:Menlo,'DejaVu Sans Mono',consolas,'Courier New',monospace\"><span style=\"color: #7fbfbf; text-decoration-color: #7fbfbf\">                    </span><span style=\"color: #008000; text-decoration-color: #008000\">INFO    </span> Animation <span style=\"color: #008000; text-decoration-color: #008000\">14</span> : Using cached data <span style=\"font-weight: bold\">(</span>hash :    <a href=\"file://D:\\Python39\\lib\\site-packages\\manim\\renderer\\cairo_renderer.py\"><span style=\"color: #7f7f7f; text-decoration-color: #7f7f7f\">cairo_renderer.py</span></a><span style=\"color: #7f7f7f; text-decoration-color: #7f7f7f\">:</span><a href=\"file://D:\\Python39\\lib\\site-packages\\manim\\renderer\\cairo_renderer.py#74\"><span style=\"color: #7f7f7f; text-decoration-color: #7f7f7f\">74</span></a>\n",
       "                             2201830969_398514950_132053805<span style=\"font-weight: bold\">)</span>                                 \n",
       "</pre>\n"
      ],
      "text/plain": [
       "\u001b[2;36m                   \u001b[0m\u001b[2;36m \u001b[0m\u001b[32mINFO    \u001b[0m Animation \u001b[32m14\u001b[0m : Using cached data \u001b[1m(\u001b[0mhash :    \u001b]8;id=568368;file://D:\\Python39\\lib\\site-packages\\manim\\renderer\\cairo_renderer.py\u001b\\\u001b[2mcairo_renderer.py\u001b[0m\u001b]8;;\u001b\\\u001b[2m:\u001b[0m\u001b]8;id=379068;file://D:\\Python39\\lib\\site-packages\\manim\\renderer\\cairo_renderer.py#74\u001b\\\u001b[2m74\u001b[0m\u001b]8;;\u001b\\\n",
       "                             2201830969_398514950_132053805\u001b[1m)\u001b[0m                                 \n"
      ]
     },
     "metadata": {},
     "output_type": "display_data"
    },
    {
     "data": {
      "text/html": [
       "<pre style=\"white-space:pre;overflow-x:auto;line-height:normal;font-family:Menlo,'DejaVu Sans Mono',consolas,'Courier New',monospace\"><span style=\"color: #7fbfbf; text-decoration-color: #7fbfbf\">                    </span><span style=\"color: #008000; text-decoration-color: #008000\">INFO    </span> Animation <span style=\"color: #008000; text-decoration-color: #008000\">15</span> : Using cached data <span style=\"font-weight: bold\">(</span>hash :    <a href=\"file://D:\\Python39\\lib\\site-packages\\manim\\renderer\\cairo_renderer.py\"><span style=\"color: #7f7f7f; text-decoration-color: #7f7f7f\">cairo_renderer.py</span></a><span style=\"color: #7f7f7f; text-decoration-color: #7f7f7f\">:</span><a href=\"file://D:\\Python39\\lib\\site-packages\\manim\\renderer\\cairo_renderer.py#74\"><span style=\"color: #7f7f7f; text-decoration-color: #7f7f7f\">74</span></a>\n",
       "                             2201830969_2933559294_1369009833<span style=\"font-weight: bold\">)</span>                               \n",
       "</pre>\n"
      ],
      "text/plain": [
       "\u001b[2;36m                   \u001b[0m\u001b[2;36m \u001b[0m\u001b[32mINFO    \u001b[0m Animation \u001b[32m15\u001b[0m : Using cached data \u001b[1m(\u001b[0mhash :    \u001b]8;id=61010;file://D:\\Python39\\lib\\site-packages\\manim\\renderer\\cairo_renderer.py\u001b\\\u001b[2mcairo_renderer.py\u001b[0m\u001b]8;;\u001b\\\u001b[2m:\u001b[0m\u001b]8;id=311418;file://D:\\Python39\\lib\\site-packages\\manim\\renderer\\cairo_renderer.py#74\u001b\\\u001b[2m74\u001b[0m\u001b]8;;\u001b\\\n",
       "                             2201830969_2933559294_1369009833\u001b[1m)\u001b[0m                               \n"
      ]
     },
     "metadata": {},
     "output_type": "display_data"
    },
    {
     "name": "stderr",
     "output_type": "stream",
     "text": [
      "                                                                  \r"
     ]
    },
    {
     "data": {
      "text/html": [
       "<pre style=\"white-space:pre;overflow-x:auto;line-height:normal;font-family:Menlo,'DejaVu Sans Mono',consolas,'Courier New',monospace\"><span style=\"color: #7fbfbf; text-decoration-color: #7fbfbf\">                    </span><span style=\"color: #008000; text-decoration-color: #008000\">INFO    </span> Animation <span style=\"color: #008000; text-decoration-color: #008000\">16</span> : Using cached data <span style=\"font-weight: bold\">(</span>hash :    <a href=\"file://D:\\Python39\\lib\\site-packages\\manim\\renderer\\cairo_renderer.py\"><span style=\"color: #7f7f7f; text-decoration-color: #7f7f7f\">cairo_renderer.py</span></a><span style=\"color: #7f7f7f; text-decoration-color: #7f7f7f\">:</span><a href=\"file://D:\\Python39\\lib\\site-packages\\manim\\renderer\\cairo_renderer.py#74\"><span style=\"color: #7f7f7f; text-decoration-color: #7f7f7f\">74</span></a>\n",
       "                             2201830969_398514950_262492976<span style=\"font-weight: bold\">)</span>                                 \n",
       "</pre>\n"
      ],
      "text/plain": [
       "\u001b[2;36m                   \u001b[0m\u001b[2;36m \u001b[0m\u001b[32mINFO    \u001b[0m Animation \u001b[32m16\u001b[0m : Using cached data \u001b[1m(\u001b[0mhash :    \u001b]8;id=631217;file://D:\\Python39\\lib\\site-packages\\manim\\renderer\\cairo_renderer.py\u001b\\\u001b[2mcairo_renderer.py\u001b[0m\u001b]8;;\u001b\\\u001b[2m:\u001b[0m\u001b]8;id=215889;file://D:\\Python39\\lib\\site-packages\\manim\\renderer\\cairo_renderer.py#74\u001b\\\u001b[2m74\u001b[0m\u001b]8;;\u001b\\\n",
       "                             2201830969_398514950_262492976\u001b[1m)\u001b[0m                                 \n"
      ]
     },
     "metadata": {},
     "output_type": "display_data"
    },
    {
     "data": {
      "text/html": [
       "<pre style=\"white-space:pre;overflow-x:auto;line-height:normal;font-family:Menlo,'DejaVu Sans Mono',consolas,'Courier New',monospace\"><span style=\"color: #7fbfbf; text-decoration-color: #7fbfbf\">                    </span><span style=\"color: #008000; text-decoration-color: #008000\">INFO    </span> Combining to Movie file.                <a href=\"file://D:\\Python39\\lib\\site-packages\\manim\\scene\\scene_file_writer.py\"><span style=\"color: #7f7f7f; text-decoration-color: #7f7f7f\">scene_file_writer.py</span></a><span style=\"color: #7f7f7f; text-decoration-color: #7f7f7f\">:</span><a href=\"file://D:\\Python39\\lib\\site-packages\\manim\\scene\\scene_file_writer.py#608\"><span style=\"color: #7f7f7f; text-decoration-color: #7f7f7f\">608</span></a>\n",
       "</pre>\n"
      ],
      "text/plain": [
       "\u001b[2;36m                   \u001b[0m\u001b[2;36m \u001b[0m\u001b[32mINFO    \u001b[0m Combining to Movie file.                \u001b]8;id=946681;file://D:\\Python39\\lib\\site-packages\\manim\\scene\\scene_file_writer.py\u001b\\\u001b[2mscene_file_writer.py\u001b[0m\u001b]8;;\u001b\\\u001b[2m:\u001b[0m\u001b]8;id=44669;file://D:\\Python39\\lib\\site-packages\\manim\\scene\\scene_file_writer.py#608\u001b\\\u001b[2m608\u001b[0m\u001b]8;;\u001b\\\n"
      ]
     },
     "metadata": {},
     "output_type": "display_data"
    },
    {
     "data": {
      "text/html": [
       "<pre style=\"white-space:pre;overflow-x:auto;line-height:normal;font-family:Menlo,'DejaVu Sans Mono',consolas,'Courier New',monospace\"><span style=\"color: #7fbfbf; text-decoration-color: #7fbfbf\">[03/19/22 12:29:28] </span><span style=\"color: #008000; text-decoration-color: #008000\">INFO    </span>                                         <a href=\"file://D:\\Python39\\lib\\site-packages\\manim\\scene\\scene_file_writer.py\"><span style=\"color: #7f7f7f; text-decoration-color: #7f7f7f\">scene_file_writer.py</span></a><span style=\"color: #7f7f7f; text-decoration-color: #7f7f7f\">:</span><a href=\"file://D:\\Python39\\lib\\site-packages\\manim\\scene\\scene_file_writer.py#729\"><span style=\"color: #7f7f7f; text-decoration-color: #7f7f7f\">729</span></a>\n",
       "                             <span style=\"color: #808000; text-decoration-color: #808000; font-weight: bold\">File</span> ready at                                                   \n",
       "                             <span style=\"color: #008000; text-decoration-color: #008000\">'D:\\Programming\\Python\\jupyter </span>                                 \n",
       "                             <span style=\"color: #008000; text-decoration-color: #008000\">notebooks\\media\\videos\\jupyter </span>                                 \n",
       "                             <span style=\"color: #008000; text-decoration-color: #008000\">notebooks\\480p15\\MovingAngle.mp4'</span>                               \n",
       "                                                                                             \n",
       "</pre>\n"
      ],
      "text/plain": [
       "\u001b[2;36m[03/19/22 12:29:28]\u001b[0m\u001b[2;36m \u001b[0m\u001b[32mINFO    \u001b[0m                                         \u001b]8;id=767414;file://D:\\Python39\\lib\\site-packages\\manim\\scene\\scene_file_writer.py\u001b\\\u001b[2mscene_file_writer.py\u001b[0m\u001b]8;;\u001b\\\u001b[2m:\u001b[0m\u001b]8;id=130705;file://D:\\Python39\\lib\\site-packages\\manim\\scene\\scene_file_writer.py#729\u001b\\\u001b[2m729\u001b[0m\u001b]8;;\u001b\\\n",
       "                             \u001b[1;33mFile\u001b[0m ready at                                                   \n",
       "                             \u001b[32m'D:\\Programming\\Python\\jupyter \u001b[0m                                 \n",
       "                             \u001b[32mnotebooks\\media\\videos\\jupyter \u001b[0m                                 \n",
       "                             \u001b[32mnotebooks\\480p15\\MovingAngle.mp4'\u001b[0m                               \n",
       "                                                                                             \n"
      ]
     },
     "metadata": {},
     "output_type": "display_data"
    },
    {
     "data": {
      "text/html": [
       "<pre style=\"white-space:pre;overflow-x:auto;line-height:normal;font-family:Menlo,'DejaVu Sans Mono',consolas,'Courier New',monospace\"><span style=\"color: #7fbfbf; text-decoration-color: #7fbfbf\">                    </span><span style=\"color: #008000; text-decoration-color: #008000\">INFO    </span> The partial movie directory is full <span style=\"font-weight: bold\">(</span>&gt;  <a href=\"file://D:\\Python39\\lib\\site-packages\\manim\\scene\\scene_file_writer.py\"><span style=\"color: #7f7f7f; text-decoration-color: #7f7f7f\">scene_file_writer.py</span></a><span style=\"color: #7f7f7f; text-decoration-color: #7f7f7f\">:</span><a href=\"file://D:\\Python39\\lib\\site-packages\\manim\\scene\\scene_file_writer.py#700\"><span style=\"color: #7f7f7f; text-decoration-color: #7f7f7f\">700</span></a>\n",
       "                             <span style=\"color: #008000; text-decoration-color: #008000\">100</span> files<span style=\"font-weight: bold\">)</span>. Therefore, manim has                                \n",
       "                             removed the <span style=\"color: #008000; text-decoration-color: #008000\">4</span> oldest <span style=\"color: #800080; text-decoration-color: #800080; font-weight: bold\">file</span><span style=\"font-weight: bold\">(</span>s<span style=\"font-weight: bold\">)</span>. You can                           \n",
       "                             change this behaviour by changing                               \n",
       "                             max_files_cached in config.                                     \n",
       "</pre>\n"
      ],
      "text/plain": [
       "\u001b[2;36m                   \u001b[0m\u001b[2;36m \u001b[0m\u001b[32mINFO    \u001b[0m The partial movie directory is full \u001b[1m(\u001b[0m>  \u001b]8;id=445868;file://D:\\Python39\\lib\\site-packages\\manim\\scene\\scene_file_writer.py\u001b\\\u001b[2mscene_file_writer.py\u001b[0m\u001b]8;;\u001b\\\u001b[2m:\u001b[0m\u001b]8;id=960434;file://D:\\Python39\\lib\\site-packages\\manim\\scene\\scene_file_writer.py#700\u001b\\\u001b[2m700\u001b[0m\u001b]8;;\u001b\\\n",
       "                             \u001b[32m100\u001b[0m files\u001b[1m)\u001b[0m. Therefore, manim has                                \n",
       "                             removed the \u001b[32m4\u001b[0m oldest \u001b[1;35mfile\u001b[0m\u001b[1m(\u001b[0ms\u001b[1m)\u001b[0m. You can                           \n",
       "                             change this behaviour by changing                               \n",
       "                             max_files_cached in config.                                     \n"
      ]
     },
     "metadata": {},
     "output_type": "display_data"
    },
    {
     "data": {
      "text/html": [
       "<pre style=\"white-space:pre;overflow-x:auto;line-height:normal;font-family:Menlo,'DejaVu Sans Mono',consolas,'Courier New',monospace\"><span style=\"color: #7fbfbf; text-decoration-color: #7fbfbf\">                    </span><span style=\"color: #008000; text-decoration-color: #008000\">INFO    </span> <span style=\"color: #808000; text-decoration-color: #808000; font-weight: bold\">Rendered</span> MovingAngle                                <a href=\"file://D:\\Python39\\lib\\site-packages\\manim\\scene\\scene.py\"><span style=\"color: #7f7f7f; text-decoration-color: #7f7f7f\">scene.py</span></a><span style=\"color: #7f7f7f; text-decoration-color: #7f7f7f\">:</span><a href=\"file://D:\\Python39\\lib\\site-packages\\manim\\scene\\scene.py#237\"><span style=\"color: #7f7f7f; text-decoration-color: #7f7f7f\">237</span></a>\n",
       "                             <span style=\"color: #808000; text-decoration-color: #808000; font-weight: bold\">Played</span> <span style=\"color: #008000; text-decoration-color: #008000\">17</span> <span style=\"color: #808000; text-decoration-color: #808000; font-weight: bold\">animations</span>                                            \n",
       "</pre>\n"
      ],
      "text/plain": [
       "\u001b[2;36m                   \u001b[0m\u001b[2;36m \u001b[0m\u001b[32mINFO    \u001b[0m \u001b[1;33mRendered\u001b[0m MovingAngle                                \u001b]8;id=143501;file://D:\\Python39\\lib\\site-packages\\manim\\scene\\scene.py\u001b\\\u001b[2mscene.py\u001b[0m\u001b]8;;\u001b\\\u001b[2m:\u001b[0m\u001b]8;id=561233;file://D:\\Python39\\lib\\site-packages\\manim\\scene\\scene.py#237\u001b\\\u001b[2m237\u001b[0m\u001b]8;;\u001b\\\n",
       "                             \u001b[1;33mPlayed\u001b[0m \u001b[32m17\u001b[0m \u001b[1;33manimations\u001b[0m                                            \n"
      ]
     },
     "metadata": {},
     "output_type": "display_data"
    },
    {
     "data": {
      "text/html": [
       "<video src=\"media\\jupyter\\MovingAngle@2022-03-19@12-29-28.mp4\" controls autoplay loop style=\"max-width: 60%;\"  >\n",
       "      Your browser does not support the <code>video</code> element.\n",
       "    </video>"
      ],
      "text/plain": [
       "<IPython.core.display.Video object>"
      ]
     },
     "metadata": {},
     "output_type": "display_data"
    }
   ],
   "source": [
    "%%manim MovingAngle\n",
    "\n",
    "class MovingAngle(Scene):\n",
    "    def construct(self):\n",
    "        \n",
    "        O=ORIGIN\n",
    "        P=4*RIGHT\n",
    "        rotation_center = O\n",
    "        \n",
    "        theta_tracker = ValueTracker(.001)\n",
    "        line1 = Line(O, P, color=BLUE)\n",
    "        line_moving = line1.copy()\n",
    "        line_ref = line_moving.copy()\n",
    "        line_moving.rotate(\n",
    "            theta_tracker.get_value() * DEGREES, about_point=O\n",
    "        )\n",
    "        a = Angle(line1, line_moving, radius=.5+3*SMALL_BUFF, other_angle=False, color=BLUE)\n",
    "#        \n",
    "\n",
    "        self.add(line1, line_moving, a)\n",
    "        self.wait()\n",
    "\n",
    "        line_moving.add_updater(\n",
    "            lambda x: x.become(line_ref.copy()).rotate(\n",
    "                theta_tracker.get_value() * DEGREES, about_point=O\n",
    "            )\n",
    "        )\n",
    "\n",
    "        a.add_updater(\n",
    "            lambda x: x.become( Angle(line1, line_moving, radius=.5+3*SMALL_BUFF, other_angle=False, color=BLUE) )\n",
    "        ) \n",
    "#         tex = MathTex(f\"{theta_tracker.get_value():.0f}^\\circ\").move_to(np.multiply(a.get_center_of_mass(),0.8) #[.5,.5,0])\n",
    "#             Angle(\n",
    "#                 line1, line_moving, radius= .5+SMALL_BUFF, other_angle=False\n",
    "#             ).point_from_proportion(0.5)\n",
    "        tex = MathTex(r\"\\alpha\", color=BLUE)\n",
    "#         tex.add_updater( lambda x: x.become( MathTex(f\"{theta_tracker.get_value():.0f}^\\circ\").move_to(np.multiply(a.get_center_of_mass(),0.8)))\n",
    "        tex.add_updater( lambda x: x.move_to(np.multiply(a.get_center_of_mass(),0.6)))\n",
    "\n",
    "        self.play(theta_tracker.animate.set_value(110), rate_function=linear)\n",
    "        self.play(theta_tracker.animate.set_value(90), rate_function=linear)\n",
    "        self.play(theta_tracker.animate.set_value(180), rate_function=linear)\n",
    "        self.play(theta_tracker.animate.set_value(270), rate_function=linear)\n",
    "        self.play(theta_tracker.animate.set_value(.001), rate_function=linear)\n",
    "        self.wait()\n",
    "        self.play(theta_tracker.animate.set_value(110), rate_function=linear)\n",
    "        self.wait()\n",
    "        self.play(Write(tex))\n",
    "        self.play(theta_tracker.animate.set_value(40), rate_function=linear)\n",
    "        self.play(theta_tracker.animate.set_value(140), rate_function=linear)\n",
    "        self.wait()\n",
    "#         self.play(tex.animate.set_color(RED), run_time=0.5)\n",
    "        self.play(theta_tracker.animate.set_value(60), rate_function=linear)\n",
    "        self.wait()\n",
    "        \n",
    "        plane = NumberPlane(\n",
    "            x_range = (-7, 7),\n",
    "            y_range = (-5, 5),\n",
    "#             x_length = 7,\n",
    "            axis_config={\"include_numbers\": False},\n",
    "        )\n",
    "        self.play(FadeIn(plane))\n",
    "        self.wait()\n",
    "    "
   ]
  },
  {
   "cell_type": "code",
   "execution_count": 200,
   "id": "0cab29f8-b481-46a0-98a1-ea9dfa7b9040",
   "metadata": {},
   "outputs": [
    {
     "data": {
      "text/html": [
       "<pre style=\"white-space:pre;overflow-x:auto;line-height:normal;font-family:Menlo,'DejaVu Sans Mono',consolas,'Courier New',monospace\"><span style=\"color: #7fbfbf; text-decoration-color: #7fbfbf\">[03/19/22 14:10:14] </span><span style=\"color: #008000; text-decoration-color: #008000\">INFO    </span>                                         <a href=\"file://D:\\Python39\\lib\\site-packages\\manim\\scene\\scene_file_writer.py\"><span style=\"color: #7f7f7f; text-decoration-color: #7f7f7f\">scene_file_writer.py</span></a><span style=\"color: #7f7f7f; text-decoration-color: #7f7f7f\">:</span><a href=\"file://D:\\Python39\\lib\\site-packages\\manim\\scene\\scene_file_writer.py#729\"><span style=\"color: #7f7f7f; text-decoration-color: #7f7f7f\">729</span></a>\n",
       "                             <span style=\"color: #808000; text-decoration-color: #808000; font-weight: bold\">File</span> ready at                                                   \n",
       "                             <span style=\"color: #008000; text-decoration-color: #008000\">'D:\\Programming\\Python\\jupyter </span>                                 \n",
       "                             <span style=\"color: #008000; text-decoration-color: #008000\">notebooks\\media\\images\\jupyter notebook</span>                         \n",
       "                             <span style=\"color: #008000; text-decoration-color: #008000\">s\\ImageFromArray_ManimCE_v0.14.0.png'</span>                           \n",
       "                                                                                             \n",
       "</pre>\n"
      ],
      "text/plain": [
       "\u001b[2;36m[03/19/22 14:10:14]\u001b[0m\u001b[2;36m \u001b[0m\u001b[32mINFO    \u001b[0m                                         \u001b]8;id=891319;file://D:\\Python39\\lib\\site-packages\\manim\\scene\\scene_file_writer.py\u001b\\\u001b[2mscene_file_writer.py\u001b[0m\u001b]8;;\u001b\\\u001b[2m:\u001b[0m\u001b]8;id=879382;file://D:\\Python39\\lib\\site-packages\\manim\\scene\\scene_file_writer.py#729\u001b\\\u001b[2m729\u001b[0m\u001b]8;;\u001b\\\n",
       "                             \u001b[1;33mFile\u001b[0m ready at                                                   \n",
       "                             \u001b[32m'D:\\Programming\\Python\\jupyter \u001b[0m                                 \n",
       "                             \u001b[32mnotebooks\\media\\images\\jupyter notebook\u001b[0m                         \n",
       "                             \u001b[32ms\\ImageFromArray_ManimCE_v0.14.0.png'\u001b[0m                           \n",
       "                                                                                             \n"
      ]
     },
     "metadata": {},
     "output_type": "display_data"
    },
    {
     "data": {
      "text/html": [
       "<pre style=\"white-space:pre;overflow-x:auto;line-height:normal;font-family:Menlo,'DejaVu Sans Mono',consolas,'Courier New',monospace\"><span style=\"color: #7fbfbf; text-decoration-color: #7fbfbf\">                    </span><span style=\"color: #008000; text-decoration-color: #008000\">INFO    </span> <span style=\"color: #808000; text-decoration-color: #808000; font-weight: bold\">Rendered</span> ImageFromArray                             <a href=\"file://D:\\Python39\\lib\\site-packages\\manim\\scene\\scene.py\"><span style=\"color: #7f7f7f; text-decoration-color: #7f7f7f\">scene.py</span></a><span style=\"color: #7f7f7f; text-decoration-color: #7f7f7f\">:</span><a href=\"file://D:\\Python39\\lib\\site-packages\\manim\\scene\\scene.py#237\"><span style=\"color: #7f7f7f; text-decoration-color: #7f7f7f\">237</span></a>\n",
       "                             <span style=\"color: #808000; text-decoration-color: #808000; font-weight: bold\">Played</span> <span style=\"color: #008000; text-decoration-color: #008000\">0</span> <span style=\"color: #808000; text-decoration-color: #808000; font-weight: bold\">animations</span>                                             \n",
       "</pre>\n"
      ],
      "text/plain": [
       "\u001b[2;36m                   \u001b[0m\u001b[2;36m \u001b[0m\u001b[32mINFO    \u001b[0m \u001b[1;33mRendered\u001b[0m ImageFromArray                             \u001b]8;id=276336;file://D:\\Python39\\lib\\site-packages\\manim\\scene\\scene.py\u001b\\\u001b[2mscene.py\u001b[0m\u001b]8;;\u001b\\\u001b[2m:\u001b[0m\u001b]8;id=953655;file://D:\\Python39\\lib\\site-packages\\manim\\scene\\scene.py#237\u001b\\\u001b[2m237\u001b[0m\u001b]8;;\u001b\\\n",
       "                             \u001b[1;33mPlayed\u001b[0m \u001b[32m0\u001b[0m \u001b[1;33manimations\u001b[0m                                             \n"
      ]
     },
     "metadata": {},
     "output_type": "display_data"
    },
    {
     "data": {
      "image/png": "[encoded data removed]",
      "text/plain": [
       "<IPython.core.display.Image object>"
      ]
     },
     "metadata": {},
     "output_type": "display_data"
    }
   ],
   "source": [
    "%%manim ImageFromArray\n",
    "\n",
    "class ImageFromArray(MovingCameraScene):\n",
    "    def construct(self):\n",
    "        image = ImageMobject(np.uint8([[0, 0, 0, 255]]))\n",
    "        image.height = 7\n",
    "        self.add(image)\n",
    "        image2 = ImageMobjectFromCamera(self.camera)\n",
    "        self.add(image2)\n",
    "        image2 = ImageMobjectFromCamera(self.camera)\n",
    "        self.add(image2)\n"
   ]
  },
  {
   "cell_type": "code",
   "execution_count": 201,
   "id": "7b48b99d-a1e8-47f9-9238-fdc3a1969f67",
   "metadata": {},
   "outputs": [
    {
     "data": {
      "text/html": [
       "<pre style=\"white-space:pre;overflow-x:auto;line-height:normal;font-family:Menlo,'DejaVu Sans Mono',consolas,'Courier New',monospace\"><span style=\"color: #7fbfbf; text-decoration-color: #7fbfbf\">[03/19/22 14:10:15] </span><span style=\"color: #008000; text-decoration-color: #008000\">INFO    </span>                                         <a href=\"file://D:\\Python39\\lib\\site-packages\\manim\\scene\\scene_file_writer.py\"><span style=\"color: #7f7f7f; text-decoration-color: #7f7f7f\">scene_file_writer.py</span></a><span style=\"color: #7f7f7f; text-decoration-color: #7f7f7f\">:</span><a href=\"file://D:\\Python39\\lib\\site-packages\\manim\\scene\\scene_file_writer.py#729\"><span style=\"color: #7f7f7f; text-decoration-color: #7f7f7f\">729</span></a>\n",
       "                             <span style=\"color: #808000; text-decoration-color: #808000; font-weight: bold\">File</span> ready at                                                   \n",
       "                             <span style=\"color: #008000; text-decoration-color: #008000\">'D:\\Programming\\Python\\jupyter </span>                                 \n",
       "                             <span style=\"color: #008000; text-decoration-color: #008000\">notebooks\\media\\images\\jupyter notebook</span>                         \n",
       "                             <span style=\"color: #008000; text-decoration-color: #008000\">s\\Imagemobjects_ManimCE_v0.14.0.png'</span>                            \n",
       "                                                                                             \n",
       "</pre>\n"
      ],
      "text/plain": [
       "\u001b[2;36m[03/19/22 14:10:15]\u001b[0m\u001b[2;36m \u001b[0m\u001b[32mINFO    \u001b[0m                                         \u001b]8;id=324076;file://D:\\Python39\\lib\\site-packages\\manim\\scene\\scene_file_writer.py\u001b\\\u001b[2mscene_file_writer.py\u001b[0m\u001b]8;;\u001b\\\u001b[2m:\u001b[0m\u001b]8;id=615309;file://D:\\Python39\\lib\\site-packages\\manim\\scene\\scene_file_writer.py#729\u001b\\\u001b[2m729\u001b[0m\u001b]8;;\u001b\\\n",
       "                             \u001b[1;33mFile\u001b[0m ready at                                                   \n",
       "                             \u001b[32m'D:\\Programming\\Python\\jupyter \u001b[0m                                 \n",
       "                             \u001b[32mnotebooks\\media\\images\\jupyter notebook\u001b[0m                         \n",
       "                             \u001b[32ms\\Imagemobjects_ManimCE_v0.14.0.png'\u001b[0m                            \n",
       "                                                                                             \n"
      ]
     },
     "metadata": {},
     "output_type": "display_data"
    },
    {
     "data": {
      "text/html": [
       "<pre style=\"white-space:pre;overflow-x:auto;line-height:normal;font-family:Menlo,'DejaVu Sans Mono',consolas,'Courier New',monospace\"><span style=\"color: #7fbfbf; text-decoration-color: #7fbfbf\">                    </span><span style=\"color: #008000; text-decoration-color: #008000\">INFO    </span> <span style=\"color: #808000; text-decoration-color: #808000; font-weight: bold\">Rendered</span> Imagemobjects                              <a href=\"file://D:\\Python39\\lib\\site-packages\\manim\\scene\\scene.py\"><span style=\"color: #7f7f7f; text-decoration-color: #7f7f7f\">scene.py</span></a><span style=\"color: #7f7f7f; text-decoration-color: #7f7f7f\">:</span><a href=\"file://D:\\Python39\\lib\\site-packages\\manim\\scene\\scene.py#237\"><span style=\"color: #7f7f7f; text-decoration-color: #7f7f7f\">237</span></a>\n",
       "                             <span style=\"color: #808000; text-decoration-color: #808000; font-weight: bold\">Played</span> <span style=\"color: #008000; text-decoration-color: #008000\">0</span> <span style=\"color: #808000; text-decoration-color: #808000; font-weight: bold\">animations</span>                                             \n",
       "</pre>\n"
      ],
      "text/plain": [
       "\u001b[2;36m                   \u001b[0m\u001b[2;36m \u001b[0m\u001b[32mINFO    \u001b[0m \u001b[1;33mRendered\u001b[0m Imagemobjects                              \u001b]8;id=920508;file://D:\\Python39\\lib\\site-packages\\manim\\scene\\scene.py\u001b\\\u001b[2mscene.py\u001b[0m\u001b]8;;\u001b\\\u001b[2m:\u001b[0m\u001b]8;id=51657;file://D:\\Python39\\lib\\site-packages\\manim\\scene\\scene.py#237\u001b\\\u001b[2m237\u001b[0m\u001b]8;;\u001b\\\n",
       "                             \u001b[1;33mPlayed\u001b[0m \u001b[32m0\u001b[0m \u001b[1;33manimations\u001b[0m                                             \n"
      ]
     },
     "metadata": {},
     "output_type": "display_data"
    },
    {
     "data": {
      "image/png": "[encoded data removed]",
      "text/plain": [
       "<IPython.core.display.Image object>"
      ]
     },
     "metadata": {},
     "output_type": "display_data"
    }
   ],
   "source": [
    "%%manim Imagemobjects\n",
    "\n",
    "img=ImageMobject('papaj.png')\n",
    "img.height = 2\n",
    "algArray = RESAMPLING_ALGORITHMS.values()\n",
    "imgArray = [img.copy() for _ in range(len( algArray)) ] \n",
    "for k, (img, alg) in enumerate(zip(imgArray, algArray)):\n",
    "    img.set_resampling_algorithm(alg)\n",
    "    if k%2:\n",
    "        change_winding(img)\n",
    "        img.invert=True\n",
    "# print(imgArray)\n",
    "class Imagemobjects(Scene):\n",
    "    def construct(self):\n",
    "        images=Group(*imgArray)\n",
    "        images.arrange_in_grid()\n",
    "        self.add(images)\n"
   ]
  },
  {
   "cell_type": "code",
   "execution_count": 85,
   "id": "d0a26f53-bbdb-4c22-a6ff-8406305d9145",
   "metadata": {},
   "outputs": [
    {
     "data": {
      "text/html": [
       "<pre style=\"white-space:pre;overflow-x:auto;line-height:normal;font-family:Menlo,'DejaVu Sans Mono',consolas,'Courier New',monospace\"><span style=\"color: #7fbfbf; text-decoration-color: #7fbfbf\">[03/18/22 14:36:22] </span><span style=\"color: #008000; text-decoration-color: #008000\">INFO    </span> <span style=\"color: #808000; text-decoration-color: #808000; font-weight: bold\">Writing</span> <span style=\"color: #008000; text-decoration-color: #008000\">\"d\"</span> to                            <a href=\"file://D:\\Python39\\lib\\site-packages\\manim\\utils\\tex_file_writing.py\"><span style=\"color: #7f7f7f; text-decoration-color: #7f7f7f\">tex_file_writing.py</span></a><span style=\"color: #7f7f7f; text-decoration-color: #7f7f7f\">:</span><a href=\"file://D:\\Python39\\lib\\site-packages\\manim\\utils\\tex_file_writing.py#85\"><span style=\"color: #7f7f7f; text-decoration-color: #7f7f7f\">85</span></a>\n",
       "                             media\\Tex\\18daf5dc296c70a3.tex                                  \n",
       "</pre>\n"
      ],
      "text/plain": [
       "\u001b[2;36m[03/18/22 14:36:22]\u001b[0m\u001b[2;36m \u001b[0m\u001b[32mINFO    \u001b[0m \u001b[1;33mWriting\u001b[0m \u001b[32m\"d\"\u001b[0m to                            \u001b]8;id=341168;file://D:\\Python39\\lib\\site-packages\\manim\\utils\\tex_file_writing.py\u001b\\\u001b[2mtex_file_writing.py\u001b[0m\u001b]8;;\u001b\\\u001b[2m:\u001b[0m\u001b]8;id=589568;file://D:\\Python39\\lib\\site-packages\\manim\\utils\\tex_file_writing.py#85\u001b\\\u001b[2m85\u001b[0m\u001b]8;;\u001b\\\n",
       "                             media\\Tex\\18daf5dc296c70a3.tex                                  \n"
      ]
     },
     "metadata": {},
     "output_type": "display_data"
    },
    {
     "data": {
      "text/html": [
       "<pre style=\"white-space:pre;overflow-x:auto;line-height:normal;font-family:Menlo,'DejaVu Sans Mono',consolas,'Courier New',monospace\"><span style=\"color: #7fbfbf; text-decoration-color: #7fbfbf\">[03/18/22 14:36:25] </span><span style=\"color: #008000; text-decoration-color: #008000\">INFO    </span> Animation <span style=\"color: #008000; text-decoration-color: #008000\">0</span> : Using cached data <span style=\"font-weight: bold\">(</span>hash :     <a href=\"file://D:\\Python39\\lib\\site-packages\\manim\\renderer\\cairo_renderer.py\"><span style=\"color: #7f7f7f; text-decoration-color: #7f7f7f\">cairo_renderer.py</span></a><span style=\"color: #7f7f7f; text-decoration-color: #7f7f7f\">:</span><a href=\"file://D:\\Python39\\lib\\site-packages\\manim\\renderer\\cairo_renderer.py#74\"><span style=\"color: #7f7f7f; text-decoration-color: #7f7f7f\">74</span></a>\n",
       "                             3163782288_3574152552_1240453128<span style=\"font-weight: bold\">)</span>                               \n",
       "</pre>\n"
      ],
      "text/plain": [
       "\u001b[2;36m[03/18/22 14:36:25]\u001b[0m\u001b[2;36m \u001b[0m\u001b[32mINFO    \u001b[0m Animation \u001b[32m0\u001b[0m : Using cached data \u001b[1m(\u001b[0mhash :     \u001b]8;id=953083;file://D:\\Python39\\lib\\site-packages\\manim\\renderer\\cairo_renderer.py\u001b\\\u001b[2mcairo_renderer.py\u001b[0m\u001b]8;;\u001b\\\u001b[2m:\u001b[0m\u001b]8;id=911950;file://D:\\Python39\\lib\\site-packages\\manim\\renderer\\cairo_renderer.py#74\u001b\\\u001b[2m74\u001b[0m\u001b]8;;\u001b\\\n",
       "                             3163782288_3574152552_1240453128\u001b[1m)\u001b[0m                               \n"
      ]
     },
     "metadata": {},
     "output_type": "display_data"
    },
    {
     "name": "stderr",
     "output_type": "stream",
     "text": [
      "                                                         \r"
     ]
    },
    {
     "data": {
      "text/html": [
       "<pre style=\"white-space:pre;overflow-x:auto;line-height:normal;font-family:Menlo,'DejaVu Sans Mono',consolas,'Courier New',monospace\"><span style=\"color: #7fbfbf; text-decoration-color: #7fbfbf\">                    </span><span style=\"color: #008000; text-decoration-color: #008000\">INFO    </span> Animation <span style=\"color: #008000; text-decoration-color: #008000\">1</span> : Using cached data <span style=\"font-weight: bold\">(</span>hash :     <a href=\"file://D:\\Python39\\lib\\site-packages\\manim\\renderer\\cairo_renderer.py\"><span style=\"color: #7f7f7f; text-decoration-color: #7f7f7f\">cairo_renderer.py</span></a><span style=\"color: #7f7f7f; text-decoration-color: #7f7f7f\">:</span><a href=\"file://D:\\Python39\\lib\\site-packages\\manim\\renderer\\cairo_renderer.py#74\"><span style=\"color: #7f7f7f; text-decoration-color: #7f7f7f\">74</span></a>\n",
       "                             2201830969_4208063174_946014780<span style=\"font-weight: bold\">)</span>                                \n",
       "</pre>\n"
      ],
      "text/plain": [
       "\u001b[2;36m                   \u001b[0m\u001b[2;36m \u001b[0m\u001b[32mINFO    \u001b[0m Animation \u001b[32m1\u001b[0m : Using cached data \u001b[1m(\u001b[0mhash :     \u001b]8;id=359154;file://D:\\Python39\\lib\\site-packages\\manim\\renderer\\cairo_renderer.py\u001b\\\u001b[2mcairo_renderer.py\u001b[0m\u001b]8;;\u001b\\\u001b[2m:\u001b[0m\u001b]8;id=611988;file://D:\\Python39\\lib\\site-packages\\manim\\renderer\\cairo_renderer.py#74\u001b\\\u001b[2m74\u001b[0m\u001b]8;;\u001b\\\n",
       "                             2201830969_4208063174_946014780\u001b[1m)\u001b[0m                                \n"
      ]
     },
     "metadata": {},
     "output_type": "display_data"
    },
    {
     "name": "stderr",
     "output_type": "stream",
     "text": [
      "                                                         \r"
     ]
    },
    {
     "data": {
      "text/html": [
       "<pre style=\"white-space:pre;overflow-x:auto;line-height:normal;font-family:Menlo,'DejaVu Sans Mono',consolas,'Courier New',monospace\"><span style=\"color: #7fbfbf; text-decoration-color: #7fbfbf\">                    </span><span style=\"color: #008000; text-decoration-color: #008000\">INFO    </span> Animation <span style=\"color: #008000; text-decoration-color: #008000\">2</span> : Using cached data <span style=\"font-weight: bold\">(</span>hash :     <a href=\"file://D:\\Python39\\lib\\site-packages\\manim\\renderer\\cairo_renderer.py\"><span style=\"color: #7f7f7f; text-decoration-color: #7f7f7f\">cairo_renderer.py</span></a><span style=\"color: #7f7f7f; text-decoration-color: #7f7f7f\">:</span><a href=\"file://D:\\Python39\\lib\\site-packages\\manim\\renderer\\cairo_renderer.py#74\"><span style=\"color: #7f7f7f; text-decoration-color: #7f7f7f\">74</span></a>\n",
       "                             2201830969_1161040635_4209422008<span style=\"font-weight: bold\">)</span>                               \n",
       "</pre>\n"
      ],
      "text/plain": [
       "\u001b[2;36m                   \u001b[0m\u001b[2;36m \u001b[0m\u001b[32mINFO    \u001b[0m Animation \u001b[32m2\u001b[0m : Using cached data \u001b[1m(\u001b[0mhash :     \u001b]8;id=387702;file://D:\\Python39\\lib\\site-packages\\manim\\renderer\\cairo_renderer.py\u001b\\\u001b[2mcairo_renderer.py\u001b[0m\u001b]8;;\u001b\\\u001b[2m:\u001b[0m\u001b]8;id=148982;file://D:\\Python39\\lib\\site-packages\\manim\\renderer\\cairo_renderer.py#74\u001b\\\u001b[2m74\u001b[0m\u001b]8;;\u001b\\\n",
       "                             2201830969_1161040635_4209422008\u001b[1m)\u001b[0m                               \n"
      ]
     },
     "metadata": {},
     "output_type": "display_data"
    },
    {
     "name": "stderr",
     "output_type": "stream",
     "text": [
      "                                                         \r"
     ]
    },
    {
     "data": {
      "text/html": [
       "<pre style=\"white-space:pre;overflow-x:auto;line-height:normal;font-family:Menlo,'DejaVu Sans Mono',consolas,'Courier New',monospace\"><span style=\"color: #7fbfbf; text-decoration-color: #7fbfbf\">                    </span><span style=\"color: #008000; text-decoration-color: #008000\">INFO    </span> Animation <span style=\"color: #008000; text-decoration-color: #008000\">3</span> : Partial movie file        <a href=\"file://D:\\Python39\\lib\\site-packages\\manim\\scene\\scene_file_writer.py\"><span style=\"color: #7f7f7f; text-decoration-color: #7f7f7f\">scene_file_writer.py</span></a><span style=\"color: #7f7f7f; text-decoration-color: #7f7f7f\">:</span><a href=\"file://D:\\Python39\\lib\\site-packages\\manim\\scene\\scene_file_writer.py#514\"><span style=\"color: #7f7f7f; text-decoration-color: #7f7f7f\">514</span></a>\n",
       "                             written in                                                      \n",
       "                             <span style=\"color: #008000; text-decoration-color: #008000\">'D:\\Programming\\Python\\jupyter </span>                                 \n",
       "                             <span style=\"color: #008000; text-decoration-color: #008000\">notebooks\\media\\videos\\jupyter notebook</span>                         \n",
       "                             <span style=\"color: #008000; text-decoration-color: #008000\">s\\480p15\\partial_movie_files\\BraceAnnot</span>                         \n",
       "                             <span style=\"color: #008000; text-decoration-color: #008000\">ation\\2201830969_1070968664_328117277.m</span>                         \n",
       "                             <span style=\"color: #008000; text-decoration-color: #008000\">p4'</span>                                                             \n",
       "</pre>\n"
      ],
      "text/plain": [
       "\u001b[2;36m                   \u001b[0m\u001b[2;36m \u001b[0m\u001b[32mINFO    \u001b[0m Animation \u001b[32m3\u001b[0m : Partial movie file        \u001b]8;id=648558;file://D:\\Python39\\lib\\site-packages\\manim\\scene\\scene_file_writer.py\u001b\\\u001b[2mscene_file_writer.py\u001b[0m\u001b]8;;\u001b\\\u001b[2m:\u001b[0m\u001b]8;id=110157;file://D:\\Python39\\lib\\site-packages\\manim\\scene\\scene_file_writer.py#514\u001b\\\u001b[2m514\u001b[0m\u001b]8;;\u001b\\\n",
       "                             written in                                                      \n",
       "                             \u001b[32m'D:\\Programming\\Python\\jupyter \u001b[0m                                 \n",
       "                             \u001b[32mnotebooks\\media\\videos\\jupyter notebook\u001b[0m                         \n",
       "                             \u001b[32ms\\480p15\\partial_movie_files\\BraceAnnot\u001b[0m                         \n",
       "                             \u001b[32mation\\2201830969_1070968664_328117277.m\u001b[0m                         \n",
       "                             \u001b[32mp4'\u001b[0m                                                             \n"
      ]
     },
     "metadata": {},
     "output_type": "display_data"
    },
    {
     "data": {
      "text/html": [
       "<pre style=\"white-space:pre;overflow-x:auto;line-height:normal;font-family:Menlo,'DejaVu Sans Mono',consolas,'Courier New',monospace\"><span style=\"color: #7fbfbf; text-decoration-color: #7fbfbf\">                    </span><span style=\"color: #008000; text-decoration-color: #008000\">INFO    </span> Combining to Movie file.                <a href=\"file://D:\\Python39\\lib\\site-packages\\manim\\scene\\scene_file_writer.py\"><span style=\"color: #7f7f7f; text-decoration-color: #7f7f7f\">scene_file_writer.py</span></a><span style=\"color: #7f7f7f; text-decoration-color: #7f7f7f\">:</span><a href=\"file://D:\\Python39\\lib\\site-packages\\manim\\scene\\scene_file_writer.py#608\"><span style=\"color: #7f7f7f; text-decoration-color: #7f7f7f\">608</span></a>\n",
       "</pre>\n"
      ],
      "text/plain": [
       "\u001b[2;36m                   \u001b[0m\u001b[2;36m \u001b[0m\u001b[32mINFO    \u001b[0m Combining to Movie file.                \u001b]8;id=691679;file://D:\\Python39\\lib\\site-packages\\manim\\scene\\scene_file_writer.py\u001b\\\u001b[2mscene_file_writer.py\u001b[0m\u001b]8;;\u001b\\\u001b[2m:\u001b[0m\u001b]8;id=67364;file://D:\\Python39\\lib\\site-packages\\manim\\scene\\scene_file_writer.py#608\u001b\\\u001b[2m608\u001b[0m\u001b]8;;\u001b\\\n"
      ]
     },
     "metadata": {},
     "output_type": "display_data"
    },
    {
     "data": {
      "text/html": [
       "<pre style=\"white-space:pre;overflow-x:auto;line-height:normal;font-family:Menlo,'DejaVu Sans Mono',consolas,'Courier New',monospace\"><span style=\"color: #7fbfbf; text-decoration-color: #7fbfbf\">[03/18/22 14:36:26] </span><span style=\"color: #008000; text-decoration-color: #008000\">INFO    </span>                                         <a href=\"file://D:\\Python39\\lib\\site-packages\\manim\\scene\\scene_file_writer.py\"><span style=\"color: #7f7f7f; text-decoration-color: #7f7f7f\">scene_file_writer.py</span></a><span style=\"color: #7f7f7f; text-decoration-color: #7f7f7f\">:</span><a href=\"file://D:\\Python39\\lib\\site-packages\\manim\\scene\\scene_file_writer.py#729\"><span style=\"color: #7f7f7f; text-decoration-color: #7f7f7f\">729</span></a>\n",
       "                             <span style=\"color: #808000; text-decoration-color: #808000; font-weight: bold\">File</span> ready at                                                   \n",
       "                             <span style=\"color: #008000; text-decoration-color: #008000\">'D:\\Programming\\Python\\jupyter </span>                                 \n",
       "                             <span style=\"color: #008000; text-decoration-color: #008000\">notebooks\\media\\videos\\jupyter </span>                                 \n",
       "                             <span style=\"color: #008000; text-decoration-color: #008000\">notebooks\\480p15\\BraceAnnotation.mp4'</span>                           \n",
       "                                                                                             \n",
       "</pre>\n"
      ],
      "text/plain": [
       "\u001b[2;36m[03/18/22 14:36:26]\u001b[0m\u001b[2;36m \u001b[0m\u001b[32mINFO    \u001b[0m                                         \u001b]8;id=260448;file://D:\\Python39\\lib\\site-packages\\manim\\scene\\scene_file_writer.py\u001b\\\u001b[2mscene_file_writer.py\u001b[0m\u001b]8;;\u001b\\\u001b[2m:\u001b[0m\u001b]8;id=122130;file://D:\\Python39\\lib\\site-packages\\manim\\scene\\scene_file_writer.py#729\u001b\\\u001b[2m729\u001b[0m\u001b]8;;\u001b\\\n",
       "                             \u001b[1;33mFile\u001b[0m ready at                                                   \n",
       "                             \u001b[32m'D:\\Programming\\Python\\jupyter \u001b[0m                                 \n",
       "                             \u001b[32mnotebooks\\media\\videos\\jupyter \u001b[0m                                 \n",
       "                             \u001b[32mnotebooks\\480p15\\BraceAnnotation.mp4'\u001b[0m                           \n",
       "                                                                                             \n"
      ]
     },
     "metadata": {},
     "output_type": "display_data"
    },
    {
     "data": {
      "text/html": [
       "<pre style=\"white-space:pre;overflow-x:auto;line-height:normal;font-family:Menlo,'DejaVu Sans Mono',consolas,'Courier New',monospace\"><span style=\"color: #7fbfbf; text-decoration-color: #7fbfbf\">                    </span><span style=\"color: #008000; text-decoration-color: #008000\">INFO    </span> <span style=\"color: #808000; text-decoration-color: #808000; font-weight: bold\">Rendered</span> BraceAnnotation                            <a href=\"file://D:\\Python39\\lib\\site-packages\\manim\\scene\\scene.py\"><span style=\"color: #7f7f7f; text-decoration-color: #7f7f7f\">scene.py</span></a><span style=\"color: #7f7f7f; text-decoration-color: #7f7f7f\">:</span><a href=\"file://D:\\Python39\\lib\\site-packages\\manim\\scene\\scene.py#237\"><span style=\"color: #7f7f7f; text-decoration-color: #7f7f7f\">237</span></a>\n",
       "                             <span style=\"color: #808000; text-decoration-color: #808000; font-weight: bold\">Played</span> <span style=\"color: #008000; text-decoration-color: #008000\">4</span> <span style=\"color: #808000; text-decoration-color: #808000; font-weight: bold\">animations</span>                                             \n",
       "</pre>\n"
      ],
      "text/plain": [
       "\u001b[2;36m                   \u001b[0m\u001b[2;36m \u001b[0m\u001b[32mINFO    \u001b[0m \u001b[1;33mRendered\u001b[0m BraceAnnotation                            \u001b]8;id=467758;file://D:\\Python39\\lib\\site-packages\\manim\\scene\\scene.py\u001b\\\u001b[2mscene.py\u001b[0m\u001b]8;;\u001b\\\u001b[2m:\u001b[0m\u001b]8;id=246189;file://D:\\Python39\\lib\\site-packages\\manim\\scene\\scene.py#237\u001b\\\u001b[2m237\u001b[0m\u001b]8;;\u001b\\\n",
       "                             \u001b[1;33mPlayed\u001b[0m \u001b[32m4\u001b[0m \u001b[1;33manimations\u001b[0m                                             \n"
      ]
     },
     "metadata": {},
     "output_type": "display_data"
    },
    {
     "data": {
      "text/html": [
       "<video src=\"media\\jupyter\\BraceAnnotation@2022-03-18@14-36-26.mp4\" controls autoplay loop style=\"max-width: 60%;\"  >\n",
       "      Your browser does not support the <code>video</code> element.\n",
       "    </video>"
      ],
      "text/plain": [
       "<IPython.core.display.Video object>"
      ]
     },
     "metadata": {},
     "output_type": "display_data"
    }
   ],
   "source": [
    "%%manim BraceAnnotation\n",
    "\"\"\"\n",
    "https://docs.manim.community/en/stable/tutorials/building_blocks.html\n",
    "\"\"\"\n",
    "class ExampleRotation(Scene):\n",
    "    def construct(self):\n",
    "        self.camera.background_color = WHITE\n",
    "        s1 = Square().set_color(RED).shift(LEFT)\n",
    "        c1 = Circle().set_color(RED).shift(LEFT)\n",
    "        s2= Square().set_color(BLUE).shift(RIGHT)\n",
    "        c2= Circle().set_color(BLUE).shift(RIGHT)\n",
    "        \n",
    "        change_winding(s2)\n",
    "        self.play(Transform(s1,c1),Transform(s2,c2), run_time=1)\n",
    "\n",
    "\n",
    "class ManimCELogo(Scene):\n",
    "    def construct(self):\n",
    "        self.camera.background_color = \"#ece6e2\"\n",
    "        logo_green = \"#87c2a5\"\n",
    "        logo_blue = \"#525893\"\n",
    "        logo_red = \"#e07a5f\"\n",
    "        logo_black = \"#343434\"\n",
    "        ds_m = MathTex(r\"\\mathbb{M}\", fill_color=logo_black).scale(7)\n",
    "        ds_m.shift(2.25 * LEFT + 1.5 * UP)\n",
    "        ds_k = MathTex(r\"\\mathbb{K}\", fill_color=logo_black).scale(6.7).next_to(ds_m,RIGHT,buff=0)\n",
    "        ds_mk=VGroup(ds_m, ds_k)\n",
    "        circle = Circle(color=logo_green, fill_opacity=1).shift(LEFT)\n",
    "        square = Square(color=logo_blue, fill_opacity=1).shift(UP)\n",
    "        triangle = Triangle(color=logo_red, fill_opacity=1).shift(RIGHT)\n",
    "        logo = VGroup(triangle, square, circle, ds_mk)  # order matters\n",
    "        logo.move_to(ORIGIN)\n",
    "        self.add(logo)\n",
    "        \n",
    "class BraceAnnotation(Scene):\n",
    "    def construct(self):\n",
    "        A=[-3,-2,0]\n",
    "        B=[2, 1, 0]\n",
    "        dots=VGroup(Dot(A), Dot(B))\n",
    "        dots.add(MathTex(\"A\").next_to(A, LEFT+0.3*DOWN))\n",
    "        dots.add(MathTex(\"B\").next_to(B))\n",
    "        line = Line(A, B)\n",
    "        \n",
    "        \n",
    "        b = Brace(line, direction=line.copy().rotate(PI / 2).get_unit_vector())\n",
    "        btext = b.get_tex(r\"d\")\n",
    "        self.play(Create(dots))\n",
    "        self.play(Create(line))\n",
    "        self.play(Write(b))\n",
    "        self.play(Write(btext))"
   ]
  },
  {
   "cell_type": "code",
   "execution_count": 4,
   "id": "a67fdfdc-c50b-4770-810e-2e4b98be67ce",
   "metadata": {},
   "outputs": [
    {
     "data": {
      "text/html": [
       "<pre style=\"white-space:pre;overflow-x:auto;line-height:normal;font-family:Menlo,'DejaVu Sans Mono',consolas,'Courier New',monospace\"><span style=\"color: #7fbfbf; text-decoration-color: #7fbfbf\">[03/18/22 13:13:52] </span><span style=\"color: #008000; text-decoration-color: #008000\">INFO    </span> Animation <span style=\"color: #008000; text-decoration-color: #008000\">0</span> : Using cached data <span style=\"font-weight: bold\">(</span>hash :     <a href=\"file://D:\\Python39\\lib\\site-packages\\manim\\renderer\\cairo_renderer.py\"><span style=\"color: #7f7f7f; text-decoration-color: #7f7f7f\">cairo_renderer.py</span></a><span style=\"color: #7f7f7f; text-decoration-color: #7f7f7f\">:</span><a href=\"file://D:\\Python39\\lib\\site-packages\\manim\\renderer\\cairo_renderer.py#74\"><span style=\"color: #7f7f7f; text-decoration-color: #7f7f7f\">74</span></a>\n",
       "                             3163782288_1515588106_2148619684<span style=\"font-weight: bold\">)</span>                               \n",
       "</pre>\n"
      ],
      "text/plain": [
       "\u001b[2;36m[03/18/22 13:13:52]\u001b[0m\u001b[2;36m \u001b[0m\u001b[32mINFO    \u001b[0m Animation \u001b[32m0\u001b[0m : Using cached data \u001b[1m(\u001b[0mhash :     \u001b]8;id=478390;file://D:\\Python39\\lib\\site-packages\\manim\\renderer\\cairo_renderer.py\u001b\\\u001b[2mcairo_renderer.py\u001b[0m\u001b]8;;\u001b\\\u001b[2m:\u001b[0m\u001b]8;id=939799;file://D:\\Python39\\lib\\site-packages\\manim\\renderer\\cairo_renderer.py#74\u001b\\\u001b[2m74\u001b[0m\u001b]8;;\u001b\\\n",
       "                             3163782288_1515588106_2148619684\u001b[1m)\u001b[0m                               \n"
      ]
     },
     "metadata": {},
     "output_type": "display_data"
    },
    {
     "data": {
      "text/html": [
       "<pre style=\"white-space:pre;overflow-x:auto;line-height:normal;font-family:Menlo,'DejaVu Sans Mono',consolas,'Courier New',monospace\"><span style=\"color: #7fbfbf; text-decoration-color: #7fbfbf\">                    </span><span style=\"color: #008000; text-decoration-color: #008000\">INFO    </span> Combining to Movie file.                <a href=\"file://D:\\Python39\\lib\\site-packages\\manim\\scene\\scene_file_writer.py\"><span style=\"color: #7f7f7f; text-decoration-color: #7f7f7f\">scene_file_writer.py</span></a><span style=\"color: #7f7f7f; text-decoration-color: #7f7f7f\">:</span><a href=\"file://D:\\Python39\\lib\\site-packages\\manim\\scene\\scene_file_writer.py#608\"><span style=\"color: #7f7f7f; text-decoration-color: #7f7f7f\">608</span></a>\n",
       "</pre>\n"
      ],
      "text/plain": [
       "\u001b[2;36m                   \u001b[0m\u001b[2;36m \u001b[0m\u001b[32mINFO    \u001b[0m Combining to Movie file.                \u001b]8;id=457790;file://D:\\Python39\\lib\\site-packages\\manim\\scene\\scene_file_writer.py\u001b\\\u001b[2mscene_file_writer.py\u001b[0m\u001b]8;;\u001b\\\u001b[2m:\u001b[0m\u001b]8;id=432055;file://D:\\Python39\\lib\\site-packages\\manim\\scene\\scene_file_writer.py#608\u001b\\\u001b[2m608\u001b[0m\u001b]8;;\u001b\\\n"
      ]
     },
     "metadata": {},
     "output_type": "display_data"
    },
    {
     "data": {
      "text/html": [
       "<pre style=\"white-space:pre;overflow-x:auto;line-height:normal;font-family:Menlo,'DejaVu Sans Mono',consolas,'Courier New',monospace\"><span style=\"color: #7fbfbf; text-decoration-color: #7fbfbf\">[03/18/22 13:13:53] </span><span style=\"color: #008000; text-decoration-color: #008000\">INFO    </span>                                         <a href=\"file://D:\\Python39\\lib\\site-packages\\manim\\scene\\scene_file_writer.py\"><span style=\"color: #7f7f7f; text-decoration-color: #7f7f7f\">scene_file_writer.py</span></a><span style=\"color: #7f7f7f; text-decoration-color: #7f7f7f\">:</span><a href=\"file://D:\\Python39\\lib\\site-packages\\manim\\scene\\scene_file_writer.py#729\"><span style=\"color: #7f7f7f; text-decoration-color: #7f7f7f\">729</span></a>\n",
       "                             <span style=\"color: #808000; text-decoration-color: #808000; font-weight: bold\">File</span> ready at                                                   \n",
       "                             <span style=\"color: #008000; text-decoration-color: #008000\">'D:\\Programming\\Python\\jupyter </span>                                 \n",
       "                             <span style=\"color: #008000; text-decoration-color: #008000\">notebooks\\media\\videos\\jupyter </span>                                 \n",
       "                             <span style=\"color: #008000; text-decoration-color: #008000\">notebooks\\480p15\\Mandbelbrot.mp4'</span>                               \n",
       "                                                                                             \n",
       "</pre>\n"
      ],
      "text/plain": [
       "\u001b[2;36m[03/18/22 13:13:53]\u001b[0m\u001b[2;36m \u001b[0m\u001b[32mINFO    \u001b[0m                                         \u001b]8;id=969720;file://D:\\Python39\\lib\\site-packages\\manim\\scene\\scene_file_writer.py\u001b\\\u001b[2mscene_file_writer.py\u001b[0m\u001b]8;;\u001b\\\u001b[2m:\u001b[0m\u001b]8;id=361479;file://D:\\Python39\\lib\\site-packages\\manim\\scene\\scene_file_writer.py#729\u001b\\\u001b[2m729\u001b[0m\u001b]8;;\u001b\\\n",
       "                             \u001b[1;33mFile\u001b[0m ready at                                                   \n",
       "                             \u001b[32m'D:\\Programming\\Python\\jupyter \u001b[0m                                 \n",
       "                             \u001b[32mnotebooks\\media\\videos\\jupyter \u001b[0m                                 \n",
       "                             \u001b[32mnotebooks\\480p15\\Mandbelbrot.mp4'\u001b[0m                               \n",
       "                                                                                             \n"
      ]
     },
     "metadata": {},
     "output_type": "display_data"
    },
    {
     "data": {
      "text/html": [
       "<pre style=\"white-space:pre;overflow-x:auto;line-height:normal;font-family:Menlo,'DejaVu Sans Mono',consolas,'Courier New',monospace\"><span style=\"color: #7fbfbf; text-decoration-color: #7fbfbf\">                    </span><span style=\"color: #008000; text-decoration-color: #008000\">INFO    </span> <span style=\"color: #808000; text-decoration-color: #808000; font-weight: bold\">Rendered</span> Mandbelbrot                                <a href=\"file://D:\\Python39\\lib\\site-packages\\manim\\scene\\scene.py\"><span style=\"color: #7f7f7f; text-decoration-color: #7f7f7f\">scene.py</span></a><span style=\"color: #7f7f7f; text-decoration-color: #7f7f7f\">:</span><a href=\"file://D:\\Python39\\lib\\site-packages\\manim\\scene\\scene.py#237\"><span style=\"color: #7f7f7f; text-decoration-color: #7f7f7f\">237</span></a>\n",
       "                             <span style=\"color: #808000; text-decoration-color: #808000; font-weight: bold\">Played</span> <span style=\"color: #008000; text-decoration-color: #008000\">1</span> <span style=\"color: #808000; text-decoration-color: #808000; font-weight: bold\">animations</span>                                             \n",
       "</pre>\n"
      ],
      "text/plain": [
       "\u001b[2;36m                   \u001b[0m\u001b[2;36m \u001b[0m\u001b[32mINFO    \u001b[0m \u001b[1;33mRendered\u001b[0m Mandbelbrot                                \u001b]8;id=900332;file://D:\\Python39\\lib\\site-packages\\manim\\scene\\scene.py\u001b\\\u001b[2mscene.py\u001b[0m\u001b]8;;\u001b\\\u001b[2m:\u001b[0m\u001b]8;id=817006;file://D:\\Python39\\lib\\site-packages\\manim\\scene\\scene.py#237\u001b\\\u001b[2m237\u001b[0m\u001b]8;;\u001b\\\n",
       "                             \u001b[1;33mPlayed\u001b[0m \u001b[32m1\u001b[0m \u001b[1;33manimations\u001b[0m                                             \n"
      ]
     },
     "metadata": {},
     "output_type": "display_data"
    },
    {
     "data": {
      "text/html": [
       "<video src=\"media\\jupyter\\Mandbelbrot@2022-03-18@13-13-53.mp4\" controls autoplay loop style=\"max-width: 60%;\"  >\n",
       "      Your browser does not support the <code>video</code> element.\n",
       "    </video>"
      ],
      "text/plain": [
       "<IPython.core.display.Video object>"
      ]
     },
     "metadata": {},
     "output_type": "display_data"
    }
   ],
   "source": [
    "%%manim Mandbelbrot\n",
    "from datetime import *\n",
    "\n",
    "class Mandbelbrot(Scene):\n",
    "    def construct(self):\n",
    "        rows , cols = 10, 10\n",
    "\n",
    "        iter_func = lambda z, c: z ** 2 + c\n",
    "        iter_num = 128\n",
    "        colors = color_gradient(NEON_PALETTE, iter_num + 1)\n",
    "\n",
    "        def get_color(c):\n",
    "            z = complex(0, 0)\n",
    "            num = 0\n",
    "            while abs(z) < 2 and num < iter_num:\n",
    "                z = iter_func(z, c)\n",
    "                num += 1\n",
    "            return colors[num]\n",
    "\n",
    "        x = np.linspace(-2, 1, num=rows)#.reshape((1, rows))\n",
    "        y = np.linspace(-1, 0, num=cols)#.reshape((cols, 1))\n",
    "\n",
    "        mob = Square(stroke_width=0, fill_opacity=1).scale(1/np.sqrt(rows*cols))\n",
    "        vg=VGroup()\n",
    "        for p in ([[a,b,0] for a in x for b in y]):\n",
    "            x,y,z=p\n",
    "            \n",
    "            #color=random_bright_color()\n",
    "            color=get_color(complex(x,y)) \n",
    "            \n",
    "            p1 = mob.copy().set_fill(color=color).move_to(p)\n",
    "            p2 = p1.copy().move_to(p* np.array([1, -1, 0]))\n",
    "            vg.add(p1,p2)\n",
    "            \n",
    "        vg.scale_to_fit_height(HEIGHT).scale_to_fit_width( WIDTH ).center()\n",
    "        self.add(vg)\n",
    "        self.wait()"
   ]
  },
  {
   "cell_type": "code",
   "execution_count": null,
   "id": "186a5e4e-b17c-4ca4-83bf-cf58148e3509",
   "metadata": {},
   "outputs": [],
   "source": []
  }
 ],
 "metadata": {
  "kernelspec": {
   "display_name": "Python 3 (ipykernel)",
   "language": "python",
   "name": "python3"
  },
  "language_info": {
   "codemirror_mode": {
    "name": "ipython",
    "version": 3
   },
   "file_extension": ".py",
   "mimetype": "text/x-python",
   "name": "python",
   "nbconvert_exporter": "python",
   "pygments_lexer": "ipython3",
   "version": "3.9.7"
  }
 },
 "nbformat": 4,
 "nbformat_minor": 5
}
